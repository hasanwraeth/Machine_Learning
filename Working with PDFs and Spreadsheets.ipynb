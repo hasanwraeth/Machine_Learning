{
 "cells": [
  {
   "cell_type": "code",
   "execution_count": 1,
   "metadata": {},
   "outputs": [],
   "source": [
    "import csv"
   ]
  },
  {
   "cell_type": "code",
   "execution_count": 6,
   "metadata": {},
   "outputs": [],
   "source": [
    "data=open(\"example.csv\") #encoding=UTF-8"
   ]
  },
  {
   "cell_type": "code",
   "execution_count": 7,
   "metadata": {},
   "outputs": [],
   "source": [
    "csv_data=csv.reader(data)"
   ]
  },
  {
   "cell_type": "code",
   "execution_count": 8,
   "metadata": {},
   "outputs": [],
   "source": [
    "lines=list(csv_data)"
   ]
  },
  {
   "cell_type": "code",
   "execution_count": 9,
   "metadata": {},
   "outputs": [
    {
     "data": {
      "text/plain": [
       "['id', 'first_name', 'last_name', 'email', 'gender', 'ip_address', 'city']"
      ]
     },
     "execution_count": 9,
     "metadata": {},
     "output_type": "execute_result"
    }
   ],
   "source": [
    "lines[0]"
   ]
  },
  {
   "cell_type": "code",
   "execution_count": 11,
   "metadata": {},
   "outputs": [
    {
     "data": {
      "text/plain": [
       "1001"
      ]
     },
     "execution_count": 11,
     "metadata": {},
     "output_type": "execute_result"
    }
   ],
   "source": [
    "len(lines)"
   ]
  },
  {
   "cell_type": "code",
   "execution_count": 12,
   "metadata": {},
   "outputs": [
    {
     "name": "stdout",
     "output_type": "stream",
     "text": [
      "['id', 'first_name', 'last_name', 'email', 'gender', 'ip_address', 'city']\n",
      "['1', 'Joseph', 'Zaniolini', 'jzaniolini0@simplemachines.org', 'Male', '163.168.68.132', 'Pedro Leopoldo']\n",
      "['2', 'Freida', 'Drillingcourt', 'fdrillingcourt1@umich.edu', 'Female', '97.212.102.79', 'Buri']\n",
      "['3', 'Nanni', 'Herity', 'nherity2@statcounter.com', 'Female', '145.151.178.98', 'Claver']\n",
      "['4', 'Orazio', 'Frayling', 'ofrayling3@economist.com', 'Male', '25.199.143.143', 'Kungur']\n"
     ]
    }
   ],
   "source": [
    "for l in lines[:5]:\n",
    "    print(l)"
   ]
  },
  {
   "cell_type": "code",
   "execution_count": 15,
   "metadata": {},
   "outputs": [
    {
     "data": {
      "text/plain": [
       "['10',\n",
       " 'Hyatt',\n",
       " 'Gasquoine',\n",
       " 'hgasquoine9@google.ru',\n",
       " 'Male',\n",
       " '221.155.106.39',\n",
       " 'Złoty Stok']"
      ]
     },
     "execution_count": 15,
     "metadata": {},
     "output_type": "execute_result"
    }
   ],
   "source": [
    "lines[10]"
   ]
  },
  {
   "cell_type": "code",
   "execution_count": 16,
   "metadata": {},
   "outputs": [
    {
     "data": {
      "text/plain": [
       "'hgasquoine9@google.ru'"
      ]
     },
     "execution_count": 16,
     "metadata": {},
     "output_type": "execute_result"
    }
   ],
   "source": [
    "lines[10][3]"
   ]
  },
  {
   "cell_type": "code",
   "execution_count": 21,
   "metadata": {},
   "outputs": [
    {
     "data": {
      "text/plain": [
       "['jzaniolini0@simplemachines.org',\n",
       " 'fdrillingcourt1@umich.edu',\n",
       " 'nherity2@statcounter.com',\n",
       " 'ofrayling3@economist.com',\n",
       " 'jmurrison4@cbslocal.com',\n",
       " 'lgamet5@list-manage.com',\n",
       " 'dhowatt6@amazon.com',\n",
       " 'kherion7@amazon.com',\n",
       " 'chedworth8@china.com.cn']"
      ]
     },
     "execution_count": 21,
     "metadata": {},
     "output_type": "execute_result"
    }
   ],
   "source": [
    "emails=[]\n",
    "for l in lines[1:10]:\n",
    "    emails.append(l[3])\n",
    "emails"
   ]
  },
  {
   "cell_type": "code",
   "execution_count": 22,
   "metadata": {},
   "outputs": [
    {
     "data": {
      "text/plain": [
       "['Joseph Zaniolini',\n",
       " 'Freida Drillingcourt',\n",
       " 'Nanni Herity',\n",
       " 'Orazio Frayling',\n",
       " 'Julianne Murrison',\n",
       " 'Lucy Gamet',\n",
       " 'Dyana Howatt',\n",
       " 'Kassey Herion',\n",
       " 'Chrissy Hedworth']"
      ]
     },
     "execution_count": 22,
     "metadata": {},
     "output_type": "execute_result"
    }
   ],
   "source": [
    "full_names=[]\n",
    "for l in lines[1:10]:\n",
    "    full_names.append(l[1]+' '+l[2])\n",
    "full_names"
   ]
  },
  {
   "cell_type": "code",
   "execution_count": 24,
   "metadata": {},
   "outputs": [],
   "source": [
    "out=open(\"save_file.csv\",mode=\"w\",newline=\"\")"
   ]
  },
  {
   "cell_type": "code",
   "execution_count": 25,
   "metadata": {},
   "outputs": [],
   "source": [
    "writer=csv.writer(out, delimiter=\",\")"
   ]
  },
  {
   "cell_type": "code",
   "execution_count": 27,
   "metadata": {},
   "outputs": [
    {
     "data": {
      "text/plain": [
       "7"
      ]
     },
     "execution_count": 27,
     "metadata": {},
     "output_type": "execute_result"
    }
   ],
   "source": [
    "writer.writerow(['a','b','c'])"
   ]
  },
  {
   "cell_type": "code",
   "execution_count": 29,
   "metadata": {},
   "outputs": [],
   "source": [
    "writer.writerows([['1','2','3'], ['4','5','6']])"
   ]
  },
  {
   "cell_type": "code",
   "execution_count": 30,
   "metadata": {},
   "outputs": [],
   "source": [
    "out.close()"
   ]
  },
  {
   "cell_type": "code",
   "execution_count": 31,
   "metadata": {},
   "outputs": [],
   "source": [
    "out=open(\"save_file.csv\",mode=\"a\",newline=\"\")"
   ]
  },
  {
   "cell_type": "code",
   "execution_count": 32,
   "metadata": {},
   "outputs": [],
   "source": [
    "writer=csv.writer(out)"
   ]
  },
  {
   "cell_type": "code",
   "execution_count": 33,
   "metadata": {},
   "outputs": [
    {
     "data": {
      "text/plain": [
       "7"
      ]
     },
     "execution_count": 33,
     "metadata": {},
     "output_type": "execute_result"
    }
   ],
   "source": [
    "writer.writerow(['7','8','9'])"
   ]
  },
  {
   "cell_type": "code",
   "execution_count": 34,
   "metadata": {},
   "outputs": [],
   "source": [
    "out.close()"
   ]
  },
  {
   "cell_type": "code",
   "execution_count": 35,
   "metadata": {},
   "outputs": [
    {
     "name": "stdout",
     "output_type": "stream",
     "text": [
      "Collecting PyPDF2\n",
      "  Downloading PyPDF2-1.26.0.tar.gz (77 kB)\n",
      "\u001b[K     |████████████████████████████████| 77 kB 3.0 MB/s eta 0:00:011\n",
      "\u001b[?25hBuilding wheels for collected packages: PyPDF2\n",
      "  Building wheel for PyPDF2 (setup.py) ... \u001b[?25ldone\n",
      "\u001b[?25h  Created wheel for PyPDF2: filename=PyPDF2-1.26.0-py3-none-any.whl size=61084 sha256=5df007273fa40331b7cc381e0ac0d5e5e8807f2f6235adbed52e576aa6015a60\n",
      "  Stored in directory: /Users/reziw3/Library/Caches/pip/wheels/b1/1a/8f/a4c34be976825a2f7948d0fa40907598d69834f8ab5889de11\n",
      "Successfully built PyPDF2\n",
      "Installing collected packages: PyPDF2\n",
      "Successfully installed PyPDF2-1.26.0\n",
      "Note: you may need to restart the kernel to use updated packages.\n"
     ]
    }
   ],
   "source": [
    "pip install PyPDF2"
   ]
  },
  {
   "cell_type": "code",
   "execution_count": 36,
   "metadata": {},
   "outputs": [],
   "source": [
    "import PyPDF2"
   ]
  },
  {
   "cell_type": "code",
   "execution_count": 37,
   "metadata": {},
   "outputs": [],
   "source": [
    "f=open('Working_Business_Proposal.pdf','rb')"
   ]
  },
  {
   "cell_type": "code",
   "execution_count": 38,
   "metadata": {},
   "outputs": [],
   "source": [
    "pdf=PyPDF2.PdfFileReader(f)"
   ]
  },
  {
   "cell_type": "code",
   "execution_count": 39,
   "metadata": {},
   "outputs": [
    {
     "data": {
      "text/plain": [
       "5"
      ]
     },
     "execution_count": 39,
     "metadata": {},
     "output_type": "execute_result"
    }
   ],
   "source": [
    "pdf.numPages"
   ]
  },
  {
   "cell_type": "code",
   "execution_count": 40,
   "metadata": {},
   "outputs": [],
   "source": [
    "pg1=pdf.getPage(1)"
   ]
  },
  {
   "cell_type": "code",
   "execution_count": 41,
   "metadata": {},
   "outputs": [],
   "source": [
    "pg1t=pg1.extractText()"
   ]
  },
  {
   "cell_type": "code",
   "execution_count": 42,
   "metadata": {},
   "outputs": [
    {
     "data": {
      "text/plain": [
       "'Completely synergize resource taxing relationships via premier niche \\nmarkets. Professionally cultivate one-to-one customer service with robust \\nideas. Dynamically innovate resource-leveling customer service for state of \\nthe art customer service. \\nObjectively innovate empowered manufactured products whereas parallel \\nplatforms. Holisticly predominate extensible testing procedures for reliable \\nsupply chains. Dramatically engage top-line web services vis-a-vis \\ncutting-edge deliverables. Proactively envisioned multimedia based expertise and cross-media \\ngrowth strategies. Seamlessly visualize quality intellectual capital without \\nsuperior collaboration and idea-sharing. Holistically pontiÞcate installed \\nbase portals after maintainable products. \\nPhosßuorescently engage worldwide methodologies with web-enabled \\ntechnology. Interactively coordinate proactive e-commerce via process-\\ncentric \"outside the box\" thinking. Completely pursue scalable customer \\nservice through sustainable potentialities. \\nCollaboratively administrate turnkey channels whereas virtual e-tailers. \\nObjectively seize scalable metrics whereas proactive e-services. \\nSeamlessly empower fully researched growth strategies and interoperable \\ninternal or \"organic\" sources. \\nCredibly innovate granular internal or \"organic\" sources whereas high \\nstandards in web-readiness. Energistically scale future-proof core \\ncompetencies vis-a-vis impactful experiences. Dramatically synthesize \\nintegrated schemas with optimal networks. Interactively procrastinate high-payoff content without backward-\\ncompatible data. Quickly cultivate optimal processes and tactical \\narchitectures. Completely iterate covalent strategic theme areas via \\naccurate e-markets. Globally incubate standards compliant channels before scalable beneÞts. \\nQuickly disseminate superior deliverables whereas web-enabled \\nBUSINESS PROPOSAL\\n!2'"
      ]
     },
     "execution_count": 42,
     "metadata": {},
     "output_type": "execute_result"
    }
   ],
   "source": [
    "pg1t"
   ]
  },
  {
   "cell_type": "code",
   "execution_count": 44,
   "metadata": {},
   "outputs": [],
   "source": [
    "pdfw=PyPDF2.PdfFileWriter()"
   ]
  },
  {
   "cell_type": "code",
   "execution_count": 46,
   "metadata": {},
   "outputs": [
    {
     "data": {
      "text/plain": [
       "PyPDF2.pdf.PageObject"
      ]
     },
     "execution_count": 46,
     "metadata": {},
     "output_type": "execute_result"
    }
   ],
   "source": [
    "type(pg1)"
   ]
  },
  {
   "cell_type": "code",
   "execution_count": 47,
   "metadata": {},
   "outputs": [],
   "source": [
    "pdfw.addPage(pg1)"
   ]
  },
  {
   "cell_type": "code",
   "execution_count": 50,
   "metadata": {},
   "outputs": [],
   "source": [
    "out1=open(\"Newpdf.pdf\",\"wb\")"
   ]
  },
  {
   "cell_type": "code",
   "execution_count": 51,
   "metadata": {},
   "outputs": [],
   "source": [
    "pdfw.write(out1)"
   ]
  },
  {
   "cell_type": "code",
   "execution_count": 52,
   "metadata": {},
   "outputs": [],
   "source": [
    "f.close()"
   ]
  },
  {
   "cell_type": "code",
   "execution_count": 53,
   "metadata": {},
   "outputs": [],
   "source": [
    "out1.close()"
   ]
  },
  {
   "cell_type": "code",
   "execution_count": 56,
   "metadata": {},
   "outputs": [],
   "source": [
    "f=open('Working_Business_Proposal.pdf','rb')\n",
    "t=[]\n",
    "pdfr=PyPDF2.PdfFileReader(f)\n",
    "for n in range(pdfr.numPages):\n",
    "    pg=pdfr.getPage(n)\n",
    "    t.append(pg.extractText())"
   ]
  },
  {
   "cell_type": "code",
   "execution_count": 57,
   "metadata": {},
   "outputs": [
    {
     "data": {
      "text/plain": [
       "'Completely synergize resource taxing relationships via premier niche \\nmarkets. Professionally cultivate one-to-one customer service with robust \\nideas. Dynamically innovate resource-leveling customer service for state of \\nthe art customer service. \\nObjectively innovate empowered manufactured products whereas parallel \\nplatforms. Holisticly predominate extensible testing procedures for reliable \\nsupply chains. Dramatically engage top-line web services vis-a-vis \\ncutting-edge deliverables. Proactively envisioned multimedia based expertise and cross-media \\ngrowth strategies. Seamlessly visualize quality intellectual capital without \\nsuperior collaboration and idea-sharing. Holistically pontiÞcate installed \\nbase portals after maintainable products. \\nPhosßuorescently engage worldwide methodologies with web-enabled \\ntechnology. Interactively coordinate proactive e-commerce via process-\\ncentric \"outside the box\" thinking. Completely pursue scalable customer \\nservice through sustainable potentialities. \\nCollaboratively administrate turnkey channels whereas virtual e-tailers. \\nObjectively seize scalable metrics whereas proactive e-services. \\nSeamlessly empower fully researched growth strategies and interoperable \\ninternal or \"organic\" sources. \\nCredibly innovate granular internal or \"organic\" sources whereas high \\nstandards in web-readiness. Energistically scale future-proof core \\ncompetencies vis-a-vis impactful experiences. Dramatically synthesize \\nintegrated schemas with optimal networks. Interactively procrastinate high-payoff content without backward-\\ncompatible data. Quickly cultivate optimal processes and tactical \\narchitectures. Completely iterate covalent strategic theme areas via \\naccurate e-markets. Globally incubate standards compliant channels before scalable beneÞts. \\nQuickly disseminate superior deliverables whereas web-enabled \\nBUSINESS PROPOSAL\\n!2'"
      ]
     },
     "execution_count": 57,
     "metadata": {},
     "output_type": "execute_result"
    }
   ],
   "source": [
    "t[1]"
   ]
  },
  {
   "cell_type": "code",
   "execution_count": 68,
   "metadata": {},
   "outputs": [],
   "source": [
    "f=open('find_the_link.csv','r')"
   ]
  },
  {
   "cell_type": "code",
   "execution_count": 69,
   "metadata": {},
   "outputs": [],
   "source": [
    "csv_data=csv.reader(f)\n",
    "lines=list(csv_data)"
   ]
  },
  {
   "cell_type": "code",
   "execution_count": 100,
   "metadata": {},
   "outputs": [],
   "source": [
    "s=0\n",
    "link=\"\"\n",
    "for l in lines[0:]:\n",
    "    link+=(l[s])\n",
    "    s+=1"
   ]
  },
  {
   "cell_type": "code",
   "execution_count": 101,
   "metadata": {},
   "outputs": [
    {
     "data": {
      "text/plain": [
       "'https://drive.google.com/open?id=1G6SEgg018UB4_4xsAJJ5TdzrhmXipr4Q'"
      ]
     },
     "execution_count": 101,
     "metadata": {},
     "output_type": "execute_result"
    }
   ],
   "source": [
    "link"
   ]
  },
  {
   "cell_type": "code",
   "execution_count": null,
   "metadata": {},
   "outputs": [],
   "source": [
    "import re"
   ]
  },
  {
   "cell_type": "code",
   "execution_count": 127,
   "metadata": {},
   "outputs": [
    {
     "name": "stdout",
     "output_type": "stream",
     "text": [
      "505.503.4455\n"
     ]
    }
   ],
   "source": [
    "f=open('Find_the_Phone_Number.pdf','rb')\n",
    "t=[]\n",
    "u=\"\"\n",
    "pdfr=PyPDF2.PdfFileReader(f)\n",
    "for n in range(pdfr.numPages):\n",
    "    pg=pdfr.getPage(n)\n",
    "    a=pg.extractText()\n",
    "    u=u+\" \"+a\n",
    "for match in re.finditer(r\"\\d{3}.\\d{3}.\\d{4}\",u):\n",
    "        print (match.group())"
   ]
  },
  {
   "cell_type": "code",
   "execution_count": 116,
   "metadata": {},
   "outputs": [
    {
     "data": {
      "text/plain": [
       "'505.503.445'"
      ]
     },
     "execution_count": 116,
     "metadata": {},
     "output_type": "execute_result"
    }
   ],
   "source": [
    "u[43871:43882]"
   ]
  },
  {
   "cell_type": "code",
   "execution_count": null,
   "metadata": {},
   "outputs": [],
   "source": []
  },
  {
   "cell_type": "code",
   "execution_count": null,
   "metadata": {},
   "outputs": [],
   "source": []
  }
 ],
 "metadata": {
  "kernelspec": {
   "display_name": "Python 3",
   "language": "python",
   "name": "python3"
  },
  "language_info": {
   "codemirror_mode": {
    "name": "ipython",
    "version": 3
   },
   "file_extension": ".py",
   "mimetype": "text/x-python",
   "name": "python",
   "nbconvert_exporter": "python",
   "pygments_lexer": "ipython3",
   "version": "3.8.3"
  }
 },
 "nbformat": 4,
 "nbformat_minor": 4
}
