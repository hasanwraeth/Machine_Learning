{
 "cells": [
  {
   "cell_type": "code",
   "execution_count": 16,
   "metadata": {},
   "outputs": [],
   "source": [
    "def ins():\n",
    "    g=''\n",
    "    while g not in ['1','2','3','4','5','6','7','8','9']:# and g.isdigit()==False:\n",
    "        g=input('Pick 1-9:')\n",
    "        if g.isdigit()==False:\n",
    "            print(\"Not digit within limit\")\n",
    "    return int(g)"
   ]
  },
  {
   "cell_type": "code",
   "execution_count": 12,
   "metadata": {},
   "outputs": [
    {
     "name": "stdout",
     "output_type": "stream",
     "text": [
      "Pick 1-9:nine\n",
      "Not digit within limit\n",
      "Pick 1-9:1\n"
     ]
    },
    {
     "data": {
      "text/plain": [
       "1"
      ]
     },
     "execution_count": 12,
     "metadata": {},
     "output_type": "execute_result"
    }
   ],
   "source": [
    "ins()"
   ]
  },
  {
   "cell_type": "code",
   "execution_count": 4,
   "metadata": {},
   "outputs": [],
   "source": [
    "def ins1():\n",
    "    g=''\n",
    "    rng=range(0,10)\n",
    "    wrng=False\n",
    "    #loop until digit or within range\n",
    "    while g.isdigit()==False or wrng==False:\n",
    "        g=input('Pick 1-9:')\n",
    "        #digit check\n",
    "        if g.isdigit()==False:\n",
    "            print(\"Not digit\")\n",
    "        #range check\n",
    "        if g.isdigit()==True:\n",
    "            if int(g) in rng:\n",
    "                wrng=True\n",
    "            else:\n",
    "                print(\"Out of range\")\n",
    "                wrng=False\n",
    "    return int(g)"
   ]
  },
  {
   "cell_type": "code",
   "execution_count": 3,
   "metadata": {},
   "outputs": [
    {
     "name": "stdout",
     "output_type": "stream",
     "text": [
      "Pick 1-9:six\n",
      "Not digit within limit\n",
      "Pick 1-9:11\n",
      "Out of range\n",
      "Pick 1-9:6\n"
     ]
    },
    {
     "data": {
      "text/plain": [
       "6"
      ]
     },
     "execution_count": 3,
     "metadata": {},
     "output_type": "execute_result"
    }
   ],
   "source": [
    "ins1()"
   ]
  },
  {
   "cell_type": "code",
   "execution_count": 9,
   "metadata": {},
   "outputs": [],
   "source": [
    "def dis(a,b,c):\n",
    "    print(a)\n",
    "    print(b)\n",
    "    print(c)"
   ]
  },
  {
   "cell_type": "code",
   "execution_count": 19,
   "metadata": {},
   "outputs": [],
   "source": [
    "r1=['','','']\n",
    "r2=['','','']\n",
    "r3=['','','']"
   ]
  },
  {
   "cell_type": "code",
   "execution_count": null,
   "metadata": {},
   "outputs": [],
   "source": [
    "dis(r1,r2,r3)"
   ]
  },
  {
   "cell_type": "code",
   "execution_count": 17,
   "metadata": {},
   "outputs": [],
   "source": [
    "def usr():\n",
    "        g=ins()\n",
    "        if g<=3:\n",
    "            r1[g-1]='X'\n",
    "        elif g>3 and g<=6:\n",
    "            g=g-3\n",
    "            r2[g-1]='X'\n",
    "        else:\n",
    "            g=g-6\n",
    "            r3[g-1]='X'\n",
    "        dis(r1,r2,r3)"
   ]
  },
  {
   "cell_type": "code",
   "execution_count": 18,
   "metadata": {},
   "outputs": [
    {
     "name": "stdout",
     "output_type": "stream",
     "text": [
      "Pick 1-9:1\n",
      "['X', '', 'one']\n",
      "['', '', '']\n",
      "['', '', '']\n"
     ]
    }
   ],
   "source": [
    "usr()"
   ]
  },
  {
   "cell_type": "code",
   "execution_count": 5,
   "metadata": {},
   "outputs": [],
   "source": [
    "def usr_replace(r1,g):\n",
    "    up=input(\"Type a string:\")\n",
    "    r1[g]=up\n",
    "    return r1"
   ]
  },
  {
   "cell_type": "code",
   "execution_count": 10,
   "metadata": {},
   "outputs": [
    {
     "name": "stdout",
     "output_type": "stream",
     "text": [
      "Type a string:one\n"
     ]
    },
    {
     "data": {
      "text/plain": [
       "['', '', 'one']"
      ]
     },
     "execution_count": 10,
     "metadata": {},
     "output_type": "execute_result"
    }
   ],
   "source": [
    "usr_replace(r1,2)"
   ]
  },
  {
   "cell_type": "code",
   "execution_count": 327,
   "metadata": {},
   "outputs": [],
   "source": [
    "def gc():\n",
    "    c='wrong'\n",
    "    while c not in ['Y','N']:\n",
    "        c= input(\"Keep playing? (Y or N)\")\n",
    "        c=c.upper()\n",
    "        if c not in ['Y','N']:\n",
    "            print(\"Input only Y or N!\")\n",
    "    if c =='Y':\n",
    "        return True\n",
    "    else: return False"
   ]
  },
  {
   "cell_type": "code",
   "execution_count": 328,
   "metadata": {},
   "outputs": [
    {
     "name": "stdout",
     "output_type": "stream",
     "text": [
      "Keep playing? (Y or N)y\n"
     ]
    },
    {
     "data": {
      "text/plain": [
       "True"
      ]
     },
     "execution_count": 328,
     "metadata": {},
     "output_type": "execute_result"
    }
   ],
   "source": [
    "gc()"
   ]
  },
  {
   "cell_type": "code",
   "execution_count": null,
   "metadata": {},
   "outputs": [],
   "source": [
    "game_on=True\n",
    "game_list = [0,1,2]\n",
    "whiel game_on:\n",
    "    dis(game_list)\n",
    "    "
   ]
  },
  {
   "cell_type": "code",
   "execution_count": 93,
   "metadata": {},
   "outputs": [],
   "source": [
    "from random import shuffle\n",
    "def sh_l(l):\n",
    "    shuffle(l)\n",
    "    return(l)"
   ]
  },
  {
   "cell_type": "code",
   "execution_count": null,
   "metadata": {},
   "outputs": [],
   "source": [
    "def com():\n",
    "    f=['1','2','3','4','5','6','7','8','9']\n",
    "    sh_l(f)\n",
    "    i=int(f[0])\n",
    "    if i<=3:\n",
    "        r1[i-1]='O'\n",
    "    elif i>3 and i<=6:\n",
    "        i=i-3\n",
    "        r2[i-1]='O'\n",
    "    else:\n",
    "        i=i-6\n",
    "        r3[i-1]='O'\n",
    "        dis(r1,r2,r3)"
   ]
  },
  {
   "cell_type": "code",
   "execution_count": null,
   "metadata": {},
   "outputs": [],
   "source": [
    "com()"
   ]
  },
  {
   "cell_type": "code",
   "execution_count": null,
   "metadata": {},
   "outputs": [],
   "source": [
    "def pl():\n",
    "    n=0\n",
    "    while n<9:\n",
    "        usr()\n",
    "        com()\n",
    "        n+=1"
   ]
  },
  {
   "cell_type": "code",
   "execution_count": null,
   "metadata": {},
   "outputs": [],
   "source": [
    "r1=['','','']\n",
    "r2=['','','']\n",
    "r3=['','','']\n",
    "pl()"
   ]
  },
  {
   "cell_type": "code",
   "execution_count": 27,
   "metadata": {},
   "outputs": [],
   "source": [
    "c='y'\n",
    "c=c.upper()"
   ]
  },
  {
   "cell_type": "code",
   "execution_count": 28,
   "metadata": {},
   "outputs": [
    {
     "data": {
      "text/plain": [
       "'Y'"
      ]
     },
     "execution_count": 28,
     "metadata": {},
     "output_type": "execute_result"
    }
   ],
   "source": [
    "c"
   ]
  },
  {
   "cell_type": "code",
   "execution_count": 180,
   "metadata": {},
   "outputs": [],
   "source": [
    "from IPython.display import clear_output\n",
    "def dis_brd(brd):\n",
    "    clear_output()\n",
    "    print(brd[1],\"|\",brd[2],\"|\",brd[3])\n",
    "    print(\"---------\")\n",
    "    print(brd[4],\"|\",brd[5],\"|\",brd[6])\n",
    "    print(\"---------\")\n",
    "    print(brd[7],\"|\",brd[8],\"|\",brd[9])"
   ]
  },
  {
   "cell_type": "code",
   "execution_count": 46,
   "metadata": {},
   "outputs": [
    {
     "name": "stdout",
     "output_type": "stream",
     "text": [
      "   |  | \n",
      "   |  | \n",
      "   |  | \n",
      " -------- \n",
      "   |  | \n",
      "   |  | \n",
      "   |  | \n",
      " -------- \n",
      "   |  | \n",
      "   |  | \n",
      "   |  |\n"
     ]
    }
   ],
   "source": [
    "print(\"  \",\"|\",\"\",\"|\",\"\\n\",\" \",\"|\",\"\",\"|\",\"\\n\",\" \",\"|\",\"\",\"|\",\"\\n\",\"--------\", \"\\n\",\" \",\"|\",\"\",\"|\",\"\\n\",\" \",\"|\",\"\",\"|\",\"\\n\",\" \",\"|\",\"\",\"|\",\"\\n\",\"--------\",\"\\n\" \"  \",\"|\",\"\",\"|\",\"\\n\",\" \",\"|\",\"\",\"|\",\"\\n\",\" \",\"|\",\"\",\"|\")"
   ]
  },
  {
   "cell_type": "code",
   "execution_count": 379,
   "metadata": {},
   "outputs": [
    {
     "name": "stdout",
     "output_type": "stream",
     "text": [
      "X | X |  \n",
      "---------\n",
      "O | X | O\n",
      "---------\n",
      "X | O | X\n"
     ]
    }
   ],
   "source": [
    "brd=['#','X','X',' ','O','X','O','X','O','X']\n",
    "dis_brd(brd)"
   ]
  },
  {
   "cell_type": "code",
   "execution_count": 150,
   "metadata": {},
   "outputs": [],
   "source": [
    "def com1():\n",
    "    f=['1','2','3','4','5','6','7','8','9']\n",
    "    sh_l(f)\n",
    "    i=int(f[0])\n",
    "    return i"
   ]
  },
  {
   "cell_type": "code",
   "execution_count": 188,
   "metadata": {},
   "outputs": [],
   "source": [
    "def sym():\n",
    "    s=''\n",
    "    while s not in ['O','X']:# and g.isdigit()==False:\n",
    "        s=input('Pick X or O:')\n",
    "        s=s.upper()\n",
    "    if s=='O':\n",
    "        return ('O', 'X')\n",
    "    else: return ('X', 'O')"
   ]
  },
  {
   "cell_type": "code",
   "execution_count": 211,
   "metadata": {},
   "outputs": [],
   "source": [
    "def win(s,n):\n",
    "    if s[0]==brd[1]==brd[2]==brd[3] or s[0]==brd[1]==brd[4]==brd[7] or s[0]==brd[1]==brd[5]==brd[9] or s[0]==brd[2]==brd[5]==brd[8] or s[0]==brd[3]==brd[6]==brd[9] or s[0]==brd[3]==brd[5]==brd[7] or s[0]==brd[4]==brd[5]==brd[6] or s[0]==brd[7]==brd[8]==brd[9]:\n",
    "        print (\"Player wins!\")\n",
    "    elif s[1]==brd[1]==brd[2]==brd[3] or s[1]==brd[1]==brd[4]==brd[7] or s[1]==brd[1]==brd[5]==brd[9] or s[1]==brd[2]==brd[5]==brd[8] or s[1]==brd[3]==brd[6]==brd[9] or s[1]==brd[3]==brd[5]==brd[7] or s[1]==brd[4]==brd[5]==brd[6] or s[1]==brd[7]==brd[8]==brd[9]:\n",
    "        print (\"Computer wins!\")\n",
    "    elif n==9:\n",
    "        print (\"Draw!\")"
   ]
  },
  {
   "cell_type": "code",
   "execution_count": 363,
   "metadata": {},
   "outputs": [],
   "source": [
    "def wc(brd, s):\n",
    "    if s==brd[1]==brd[2]==brd[3] or s==brd[1]==brd[4]==brd[7] or s==brd[1]==brd[5]==brd[9] or s==brd[2]==brd[5]==brd[8] or s==brd[3]==brd[6]==brd[9] or s==brd[3]==brd[5]==brd[7] or s==brd[4]==brd[5]==brd[6] or s==brd[7]==brd[8]==brd[9]:\n",
    "        return True"
   ]
  },
  {
   "cell_type": "code",
   "execution_count": 347,
   "metadata": {},
   "outputs": [
    {
     "name": "stdout",
     "output_type": "stream",
     "text": [
      "Player wins!\n"
     ]
    }
   ],
   "source": [
    "s='X'\n",
    "wc(brd, s)"
   ]
  },
  {
   "cell_type": "code",
   "execution_count": 340,
   "metadata": {},
   "outputs": [],
   "source": [
    "import random\n",
    "def cf():\n",
    "    if random.randint(0,1)==0:\n",
    "        return'P1'\n",
    "    else: return 'P2'"
   ]
  },
  {
   "cell_type": "code",
   "execution_count": 288,
   "metadata": {},
   "outputs": [
    {
     "data": {
      "text/plain": [
       "'P1'"
      ]
     },
     "execution_count": 288,
     "metadata": {},
     "output_type": "execute_result"
    }
   ],
   "source": [
    "cf()"
   ]
  },
  {
   "cell_type": "code",
   "execution_count": 285,
   "metadata": {},
   "outputs": [],
   "source": [
    "def pi(brd, sym, pos):\n",
    "    brd[pos]=sym"
   ]
  },
  {
   "cell_type": "code",
   "execution_count": 286,
   "metadata": {},
   "outputs": [
    {
     "name": "stdout",
     "output_type": "stream",
     "text": [
      "X | $ | X\n",
      "---------\n",
      "O | X | O\n",
      "---------\n",
      "X | O | X\n"
     ]
    }
   ],
   "source": [
    "pi(brd, '$', 2)\n",
    "dis_brd(brd)"
   ]
  },
  {
   "cell_type": "code",
   "execution_count": 384,
   "metadata": {},
   "outputs": [],
   "source": [
    "def sc(brd,p):\n",
    "    return brd[p]==' ' "
   ]
  },
  {
   "cell_type": "code",
   "execution_count": 385,
   "metadata": {},
   "outputs": [
    {
     "data": {
      "text/plain": [
       "False"
      ]
     },
     "execution_count": 385,
     "metadata": {},
     "output_type": "execute_result"
    }
   ],
   "source": [
    "sc(brd, 4)"
   ]
  },
  {
   "cell_type": "code",
   "execution_count": 387,
   "metadata": {},
   "outputs": [],
   "source": [
    "def fbc(brd):\n",
    "    for i in range(1,10):#brd:\n",
    "        if sc(brd, i): #i==' ':\n",
    "            return False\n",
    "    return True"
   ]
  },
  {
   "cell_type": "code",
   "execution_count": 388,
   "metadata": {},
   "outputs": [
    {
     "data": {
      "text/plain": [
       "False"
      ]
     },
     "execution_count": 388,
     "metadata": {},
     "output_type": "execute_result"
    }
   ],
   "source": [
    "fbc(brd)"
   ]
  },
  {
   "cell_type": "code",
   "execution_count": 382,
   "metadata": {},
   "outputs": [],
   "source": [
    "def pc2(brd):\n",
    "    g=ins()\n",
    "    if sc(brd, g):\n",
    "        return g"
   ]
  },
  {
   "cell_type": "code",
   "execution_count": 314,
   "metadata": {},
   "outputs": [
    {
     "name": "stdout",
     "output_type": "stream",
     "text": [
      "Pick 1-9:3\n"
     ]
    }
   ],
   "source": [
    "pc2(brd)"
   ]
  },
  {
   "cell_type": "code",
   "execution_count": 316,
   "metadata": {},
   "outputs": [],
   "source": [
    "def usr1():\n",
    "    game_on=True\n",
    "    while game_on:\n",
    "        clear_output()\n",
    "        brd=['#',' ',' ',' ',' ',' ',' ',' ',' ',' ']\n",
    "        n=1\n",
    "        s=sym()\n",
    "        while n<10:\n",
    "            dis_brd(brd)\n",
    "            p1=True\n",
    "            while p1==True:\n",
    "                g=ins()\n",
    "                if brd[g]==' ':\n",
    "                    brd[g]=s[0]\n",
    "                    p1=False\n",
    "                    n+=1\n",
    "            com2=True\n",
    "            dis_brd(brd)\n",
    "            while com2==True:\n",
    "                c=com1()\n",
    "                if brd[c]==' ':\n",
    "                    brd[c]=s[1]\n",
    "                    com2=False\n",
    "                    n+=1\n",
    "            dis_brd(brd)\n",
    "            if s[0]==brd[1]==brd[2]==brd[3] or s[0]==brd[1]==brd[4]==brd[7] or s[0]==brd[1]==brd[5]==brd[9] or s[0]==brd[2]==brd[5]==brd[8] or s[0]==brd[3]==brd[6]==brd[9] or s[0]==brd[3]==brd[5]==brd[7] or s[0]==brd[4]==brd[5]==brd[6] or s[0]==brd[7]==brd[8]==brd[9]:\n",
    "                print (\"Player wins!\")\n",
    "                break\n",
    "            elif s[1]==brd[1]==brd[2]==brd[3] or s[1]==brd[1]==brd[4]==brd[7] or s[1]==brd[1]==brd[5]==brd[9] or s[1]==brd[2]==brd[5]==brd[8] or s[1]==brd[3]==brd[6]==brd[9] or s[1]==brd[3]==brd[5]==brd[7] or s[1]==brd[4]==brd[5]==brd[6] or s[1]==brd[7]==brd[8]==brd[9]:\n",
    "                print (\"Computer wins!\")\n",
    "                break\n",
    "            elif n==9:\n",
    "                print (\"Draw!\")\n",
    "                break\n",
    "        game_on=gc()"
   ]
  },
  {
   "cell_type": "code",
   "execution_count": 321,
   "metadata": {},
   "outputs": [
    {
     "name": "stdout",
     "output_type": "stream",
     "text": [
      "X | X | O\n",
      "---------\n",
      "X | O | O\n",
      "---------\n",
      "X | O |  \n",
      "Player wins!\n",
      "Keep playing? (Y or N)n\n"
     ]
    }
   ],
   "source": [
    "usr1()"
   ]
  },
  {
   "cell_type": "code",
   "execution_count": 329,
   "metadata": {},
   "outputs": [],
   "source": [
    "def replay():\n",
    "    return input('Do you want to play again? Enter Yes or No: ').lower().startswith('y')"
   ]
  },
  {
   "cell_type": "code",
   "execution_count": 323,
   "metadata": {},
   "outputs": [
    {
     "name": "stdout",
     "output_type": "stream",
     "text": [
      "Do you want to play again? Enter Yes or No: yolo\n"
     ]
    },
    {
     "data": {
      "text/plain": [
       "True"
      ]
     },
     "execution_count": 323,
     "metadata": {},
     "output_type": "execute_result"
    }
   ],
   "source": [
    "replay()"
   ]
  },
  {
   "cell_type": "code",
   "execution_count": 390,
   "metadata": {},
   "outputs": [
    {
     "name": "stdout",
     "output_type": "stream",
     "text": [
      "X | O | X\n",
      "---------\n",
      "O | X | X\n",
      "---------\n",
      "O | X | O\n",
      "Draw!\n",
      "Do you want to play again? Enter Yes or No: n\n"
     ]
    }
   ],
   "source": [
    "print('Welcome to Tic Tac Toe')\n",
    "while True:\n",
    "    brd=[' ']*10\n",
    "    P1, P2 = sym()\n",
    "    turn=cf()\n",
    "    print(turn+' goes first.')\n",
    "    go=True\n",
    "    play_game = input('Are you ready to play? Enter Yes or No.')\n",
    "    \n",
    "    if play_game.lower()[0] == 'y':\n",
    "        go = True\n",
    "    else:\n",
    "        go = False\n",
    "    while go:\n",
    "        if turn =='P1':\n",
    "            dis_brd(brd)\n",
    "            p=pc2(brd)\n",
    "            pi(brd, P1, p)\n",
    "            if wc(brd, P1):\n",
    "                dis_brd(brd)\n",
    "                print('Congrats! P1 won.')\n",
    "                go=False\n",
    "            else: \n",
    "                if fbc(brd):\n",
    "                    dis_brd(brd)\n",
    "                    print('Draw!')\n",
    "                    break\n",
    "                else: \n",
    "                    turn='P2'\n",
    "        else:\n",
    "            dis_brd(brd)\n",
    "            p=pc2(brd)\n",
    "            pi(brd, P2, p)\n",
    "            if wc(brd, P2):\n",
    "                dis_brd(brd)\n",
    "                print('Congrats! P2 won.')\n",
    "                go=False\n",
    "            else: \n",
    "                if fbc(brd):\n",
    "                    dis_brd(brd)\n",
    "                    print('Draw!')\n",
    "                    break\n",
    "                else: \n",
    "                    turn='P1'\n",
    "    if not replay():\n",
    "        break"
   ]
  },
  {
   "cell_type": "code",
   "execution_count": null,
   "metadata": {},
   "outputs": [],
   "source": []
  }
 ],
 "metadata": {
  "kernelspec": {
   "display_name": "Python 3",
   "language": "python",
   "name": "python3"
  },
  "language_info": {
   "codemirror_mode": {
    "name": "ipython",
    "version": 3
   },
   "file_extension": ".py",
   "mimetype": "text/x-python",
   "name": "python",
   "nbconvert_exporter": "python",
   "pygments_lexer": "ipython3",
   "version": "3.8.3"
  }
 },
 "nbformat": 4,
 "nbformat_minor": 4
}
