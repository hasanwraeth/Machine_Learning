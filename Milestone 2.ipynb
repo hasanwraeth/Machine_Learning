{
 "cells": [
  {
   "cell_type": "code",
   "execution_count": null,
   "metadata": {},
   "outputs": [],
   "source": [
    "#WAR\n",
    "#Card ~ suit,rank,value"
   ]
  },
  {
   "cell_type": "code",
   "execution_count": 90,
   "metadata": {},
   "outputs": [],
   "source": [
    "import random\n",
    "suits = ('Hearts', 'Diamonds', 'Spades', 'Clubs')\n",
    "ranks = ('Two', 'Three', 'Four', 'Five', 'Six', 'Seven', 'Eight', 'Nine', 'Ten', 'Jack', 'Queen', 'King', 'Ace')\n",
    "values = {'Two':2, 'Three':3, 'Four':4, 'Five':5, 'Six':6, 'Seven':7, 'Eight':8, 'Nine':9, 'Ten':10, 'Jack':11,\n",
    "         'Queen':12, 'King':13, 'Ace':14}"
   ]
  },
  {
   "cell_type": "code",
   "execution_count": 91,
   "metadata": {},
   "outputs": [],
   "source": [
    "class Card():\n",
    "    def __init__(self,suit,rank):\n",
    "        self.suit=suit\n",
    "        self.rank=rank\n",
    "        self.value=values[rank]\n",
    "    def __str__(self):\n",
    "        return self.rank + \" of \" + self.suit"
   ]
  },
  {
   "cell_type": "code",
   "execution_count": 92,
   "metadata": {},
   "outputs": [],
   "source": [
    "two_h= Card(\"Hearts\",\"Two\")"
   ]
  },
  {
   "cell_type": "code",
   "execution_count": 93,
   "metadata": {},
   "outputs": [
    {
     "name": "stdout",
     "output_type": "stream",
     "text": [
      "Two of Hearts\n"
     ]
    }
   ],
   "source": [
    "print(two_h)"
   ]
  },
  {
   "cell_type": "code",
   "execution_count": 94,
   "metadata": {},
   "outputs": [
    {
     "data": {
      "text/plain": [
       "'Two'"
      ]
     },
     "execution_count": 94,
     "metadata": {},
     "output_type": "execute_result"
    }
   ],
   "source": [
    "two_h.rank"
   ]
  },
  {
   "cell_type": "code",
   "execution_count": 95,
   "metadata": {},
   "outputs": [
    {
     "data": {
      "text/plain": [
       "'Hearts'"
      ]
     },
     "execution_count": 95,
     "metadata": {},
     "output_type": "execute_result"
    }
   ],
   "source": [
    "two_h.suit"
   ]
  },
  {
   "cell_type": "code",
   "execution_count": 96,
   "metadata": {},
   "outputs": [],
   "source": [
    "three_c=Card(\"Clubs\",\"Three\")"
   ]
  },
  {
   "cell_type": "code",
   "execution_count": 97,
   "metadata": {},
   "outputs": [
    {
     "data": {
      "text/plain": [
       "3"
      ]
     },
     "execution_count": 97,
     "metadata": {},
     "output_type": "execute_result"
    }
   ],
   "source": [
    "values[three_c.rank]"
   ]
  },
  {
   "cell_type": "code",
   "execution_count": 98,
   "metadata": {},
   "outputs": [
    {
     "data": {
      "text/plain": [
       "False"
      ]
     },
     "execution_count": 98,
     "metadata": {},
     "output_type": "execute_result"
    }
   ],
   "source": [
    "two_h.value > three_c.value"
   ]
  },
  {
   "cell_type": "code",
   "execution_count": null,
   "metadata": {},
   "outputs": [],
   "source": []
  },
  {
   "cell_type": "code",
   "execution_count": 113,
   "metadata": {},
   "outputs": [],
   "source": [
    "class Deck():\n",
    "    def __init__(self):\n",
    "        self.allcards=[]\n",
    "        for suit in suits:\n",
    "            for rank in ranks:\n",
    "                created_card=Card(suit,rank)\n",
    "                self.allcards.append(created_card)\n",
    "    def shuffle(self):\n",
    "        random.shuffle(self.allcards)\n",
    "    def deal_one(self):\n",
    "        return self.allcards.pop()"
   ]
  },
  {
   "cell_type": "code",
   "execution_count": 114,
   "metadata": {},
   "outputs": [],
   "source": [
    "new_deck=Deck()"
   ]
  },
  {
   "cell_type": "code",
   "execution_count": 119,
   "metadata": {},
   "outputs": [],
   "source": [
    "new_deck.shuffle()"
   ]
  },
  {
   "cell_type": "code",
   "execution_count": 120,
   "metadata": {},
   "outputs": [],
   "source": [
    "first_card=new_deck.deal_one()"
   ]
  },
  {
   "cell_type": "code",
   "execution_count": 129,
   "metadata": {},
   "outputs": [
    {
     "name": "stdout",
     "output_type": "stream",
     "text": [
      "Three of Spades\n"
     ]
    }
   ],
   "source": [
    "print(first_card)"
   ]
  },
  {
   "cell_type": "code",
   "execution_count": 122,
   "metadata": {},
   "outputs": [
    {
     "data": {
      "text/plain": [
       "50"
      ]
     },
     "execution_count": 122,
     "metadata": {},
     "output_type": "execute_result"
    }
   ],
   "source": [
    "len(new_deck.allcards)"
   ]
  },
  {
   "cell_type": "code",
   "execution_count": 106,
   "metadata": {},
   "outputs": [
    {
     "name": "stdout",
     "output_type": "stream",
     "text": [
      "Two of Hearts\n",
      "Three of Hearts\n",
      "Four of Hearts\n",
      "Five of Hearts\n",
      "Six of Hearts\n",
      "Seven of Hearts\n",
      "Eight of Hearts\n",
      "Nine of Hearts\n",
      "Ten of Hearts\n",
      "Jack of Hearts\n",
      "Queen of Hearts\n",
      "King of Hearts\n",
      "Ace of Hearts\n",
      "Two of Diamonds\n",
      "Three of Diamonds\n",
      "Four of Diamonds\n",
      "Five of Diamonds\n",
      "Six of Diamonds\n",
      "Seven of Diamonds\n",
      "Eight of Diamonds\n",
      "Nine of Diamonds\n",
      "Ten of Diamonds\n",
      "Jack of Diamonds\n",
      "Queen of Diamonds\n",
      "King of Diamonds\n",
      "Ace of Diamonds\n",
      "Two of Spades\n",
      "Three of Spades\n",
      "Four of Spades\n",
      "Five of Spades\n",
      "Six of Spades\n",
      "Seven of Spades\n",
      "Eight of Spades\n",
      "Nine of Spades\n",
      "Ten of Spades\n",
      "Jack of Spades\n",
      "Queen of Spades\n",
      "King of Spades\n",
      "Ace of Spades\n",
      "Two of Clubs\n",
      "Three of Clubs\n",
      "Four of Clubs\n",
      "Five of Clubs\n",
      "Six of Clubs\n",
      "Seven of Clubs\n",
      "Eight of Clubs\n",
      "Nine of Clubs\n",
      "Ten of Clubs\n",
      "Jack of Clubs\n",
      "Queen of Clubs\n",
      "King of Clubs\n",
      "Ace of Clubs\n"
     ]
    }
   ],
   "source": [
    "for card in new_deck.allcards:\n",
    "    print(card)"
   ]
  },
  {
   "cell_type": "code",
   "execution_count": null,
   "metadata": {},
   "outputs": [],
   "source": []
  },
  {
   "cell_type": "code",
   "execution_count": 126,
   "metadata": {},
   "outputs": [],
   "source": [
    "class Player():\n",
    "    def __init__(self,name):\n",
    "        self.name=name\n",
    "        self.all_cards=[]\n",
    "    def remove_one(self):\n",
    "        return self.all_cards.pop()\n",
    "    def add_cards(self,new_cards):\n",
    "        if type(new_cards) == type([]):\n",
    "            #adds multuple\n",
    "            self.all_cards.extend(new_cards)\n",
    "        else:\n",
    "            #adds single\n",
    "            self.all_cards.append(new_cards)\n",
    "    def __str__(self):\n",
    "        return f\"{self.name} has {len(self.all_cards)} cards.\""
   ]
  },
  {
   "cell_type": "code",
   "execution_count": 127,
   "metadata": {},
   "outputs": [],
   "source": [
    "p1=Player(\"Jose\")"
   ]
  },
  {
   "cell_type": "code",
   "execution_count": 135,
   "metadata": {},
   "outputs": [
    {
     "name": "stdout",
     "output_type": "stream",
     "text": [
      "Jose has 3 cards.\n"
     ]
    }
   ],
   "source": [
    "print(p1)"
   ]
  },
  {
   "cell_type": "code",
   "execution_count": 130,
   "metadata": {},
   "outputs": [],
   "source": [
    "p1.add_cards(first_card)"
   ]
  },
  {
   "cell_type": "code",
   "execution_count": 132,
   "metadata": {},
   "outputs": [],
   "source": [
    "p1.add_cards([first_card,first_card,first_card])"
   ]
  },
  {
   "cell_type": "code",
   "execution_count": 134,
   "metadata": {},
   "outputs": [
    {
     "data": {
      "text/plain": [
       "<__main__.Card at 0x7fe4714f8490>"
      ]
     },
     "execution_count": 134,
     "metadata": {},
     "output_type": "execute_result"
    }
   ],
   "source": [
    "p1.remove_one()"
   ]
  },
  {
   "cell_type": "code",
   "execution_count": 184,
   "metadata": {},
   "outputs": [],
   "source": [
    "p1=Player(\"Ken\")\n",
    "p2=Player(\"Hasan\")\n",
    "new_deck=Deck()\n",
    "new_deck.shuffle()\n",
    "\n",
    "for x in range(26):\n",
    "    p1.add_cards(new_deck.deal_one())\n",
    "    p2.add_cards(new_deck.deal_one())"
   ]
  },
  {
   "cell_type": "code",
   "execution_count": 185,
   "metadata": {},
   "outputs": [
    {
     "name": "stdout",
     "output_type": "stream",
     "text": [
      "Five of Hearts\n"
     ]
    }
   ],
   "source": [
    "print(p1.all_cards[-1])"
   ]
  },
  {
   "cell_type": "code",
   "execution_count": 186,
   "metadata": {},
   "outputs": [
    {
     "name": "stdout",
     "output_type": "stream",
     "text": [
      "Round 1\n",
      "WAR!\n",
      "Round 2\n",
      "Round 3\n",
      "Round 4\n",
      "Round 5\n",
      "Round 6\n",
      "Round 7\n",
      "Round 8\n",
      "Round 9\n",
      "Round 10\n",
      "Round 11\n",
      "Round 12\n",
      "Round 13\n",
      "Round 14\n",
      "Round 15\n",
      "Round 16\n",
      "WAR!\n",
      "Round 17\n",
      "Round 18\n",
      "Round 19\n",
      "WAR!\n",
      "Round 20\n",
      "Round 21\n",
      "Round 22\n",
      "Round 23\n",
      "Round 24\n",
      "Round 25\n",
      "Round 26\n",
      "Round 27\n",
      "Round 28\n",
      "Round 29\n",
      "WAR!\n",
      "Round 30\n",
      "WAR!\n",
      "Round 31\n",
      "Round 32\n",
      "Round 33\n",
      "Round 34\n",
      "Round 35\n",
      "Round 36\n",
      "Round 37\n",
      "Round 38\n",
      "Round 39\n",
      "Round 40\n",
      "Round 41\n",
      "WAR!\n",
      "Round 42\n",
      "Round 43\n",
      "Round 44\n",
      "Round 45\n",
      "Round 46\n",
      "Round 47\n",
      "Round 48\n",
      "Round 49\n",
      "Round 50\n",
      "WAR!\n",
      "Hasan unable to declare war.\n",
      "Ken wins\n"
     ]
    }
   ],
   "source": [
    "game_on=True\n",
    "round_num=0\n",
    "\n",
    "while game_on:\n",
    "    round_num +=1\n",
    "    print (f\"Round {round_num}\")\n",
    "    \n",
    "    if len(p1.all_cards) ==0:\n",
    "        print(f\"{p2.name} wins!\")\n",
    "        game_on=False\n",
    "        break\n",
    "    if len(p2.all_cards) ==0:\n",
    "        print(f\"{p1.name} wins!\")\n",
    "        game_on=False\n",
    "        break\n",
    "    \n",
    "    p1_cards=[]\n",
    "    p1_cards.append(p1.remove_one())\n",
    "    p2_cards=[]\n",
    "    p2_cards.append(p2.remove_one())\n",
    "    \n",
    "    at_war=True\n",
    "    while at_war:\n",
    "        if p1_cards[-1].value > p2_cards[-1].value:\n",
    "            p1.add_cards(p1_cards)\n",
    "            p1.add_cards(p2_cards)\n",
    "            at_war=False\n",
    "        \n",
    "        elif p2_cards[-1].value > p1_cards[-1].value:\n",
    "            p2.add_cards(p1_cards)\n",
    "            p2.add_cards(p2_cards)\n",
    "            at_war=False\n",
    "        else:\n",
    "            print(\"WAR!\")\n",
    "            if len(p1.all_cards)<5:\n",
    "                print(f\"{p1.name} unable to declare war.\\n{p2.name} wins\")\n",
    "                game_on=False\n",
    "                break\n",
    "            elif len(p2.all_cards)<5:\n",
    "                print(f\"{p2.name} unable to declare war.\\n{p1.name} wins\")\n",
    "                game_on=False\n",
    "                break\n",
    "            else:\n",
    "                for num in range(5):\n",
    "                    p1_cards.append(p1.remove_one())\n",
    "                    p2_cards.append(p2.remove_one())\n",
    "        \n"
   ]
  },
  {
   "cell_type": "code",
   "execution_count": null,
   "metadata": {},
   "outputs": [],
   "source": []
  },
  {
   "cell_type": "code",
   "execution_count": 2,
   "metadata": {},
   "outputs": [],
   "source": [
    "import random\n",
    "suits = ('Hearts', 'Diamonds', 'Spades', 'Clubs')\n",
    "ranks = ('Two', 'Three', 'Four', 'Five', 'Six', 'Seven', 'Eight', 'Nine', 'Ten', 'Jack', 'Queen', 'King', 'Ace')\n",
    "values = {'Two':2, 'Three':3, 'Four':4, 'Five':5, 'Six':6, 'Seven':7, 'Eight':8, 'Nine':9, 'Ten':10, 'Jack':10,\n",
    "         'Queen':10, 'King':10, 'Ace':11}"
   ]
  },
  {
   "cell_type": "code",
   "execution_count": 3,
   "metadata": {},
   "outputs": [],
   "source": [
    "class BCard():\n",
    "    def __init__(self,suit,rank):\n",
    "        self.suit=suit\n",
    "        self.rank=rank\n",
    "        self.value=values[rank]\n",
    "    def __str__(self):\n",
    "        return self.rank + \" of \" + self.suit"
   ]
  },
  {
   "cell_type": "code",
   "execution_count": 4,
   "metadata": {},
   "outputs": [],
   "source": [
    "class Deck():\n",
    "    def __init__(self):\n",
    "        self.allcards=[]\n",
    "        for suit in suits:\n",
    "            for rank in ranks:\n",
    "                created_card=BCard(suit,rank)\n",
    "                self.allcards.append(created_card)\n",
    "    def __str__(self):\n",
    "        deck_comp=\"\"\n",
    "        for card in self.allcards:\n",
    "            deck_comp+='\\n'+card.__str__()\n",
    "        return \"The deck has: \"+deck_comp\n",
    "    def shuffle(self):\n",
    "        random.shuffle(self.allcards)\n",
    "    def deal_one(self):\n",
    "        return self.allcards.pop()"
   ]
  },
  {
   "cell_type": "code",
   "execution_count": 5,
   "metadata": {},
   "outputs": [],
   "source": [
    "class Player():\n",
    "    def __init__(self,name,bal):\n",
    "        self.name=name\n",
    "        self.bal=bal\n",
    "        print(f\"Player: {self.name} \\nAccount balance: {self.bal}\")\n",
    "    def deposit(self,damt):\n",
    "        self.bal = self.bal+damt\n",
    "        return \"Amount deposited\"\n",
    "    def withdraw(self,wamt):\n",
    "        if self.bal >= wamt:\n",
    "            self.bal = self.bal-wamt\n",
    "            return \"Amount withdrawn\"\n",
    "        else: return \"Not enough funds!\"\n",
    "    def __str__(self):\n",
    "        return (f\"Player: {self.name} \\nBalance: {self.bal}\")"
   ]
  },
  {
   "cell_type": "code",
   "execution_count": 5,
   "metadata": {},
   "outputs": [
    {
     "name": "stdout",
     "output_type": "stream",
     "text": [
      "Player: Hasan \n",
      "Account balance: 200\n"
     ]
    }
   ],
   "source": [
    "p1=Player(\"Hasan\", 200)\n",
    "new_deck=Deck()\n",
    "new_deck.shuffle()"
   ]
  },
  {
   "cell_type": "code",
   "execution_count": 59,
   "metadata": {},
   "outputs": [
    {
     "name": "stdout",
     "output_type": "stream",
     "text": [
      "The deck has: \n",
      "Five of Diamonds\n",
      "Ten of Diamonds\n",
      "Ace of Spades\n",
      "Two of Spades\n",
      "Eight of Clubs\n",
      "Seven of Diamonds\n",
      "Ace of Diamonds\n",
      "Queen of Diamonds\n",
      "Nine of Hearts\n",
      "Queen of Spades\n",
      "Six of Spades\n",
      "Seven of Hearts\n",
      "Six of Hearts\n",
      "Ten of Spades\n",
      "Three of Hearts\n",
      "Three of Clubs\n",
      "Four of Diamonds\n",
      "Jack of Clubs\n",
      "King of Spades\n",
      "Ace of Clubs\n",
      "Jack of Diamonds\n",
      "Queen of Hearts\n",
      "Three of Diamonds\n",
      "Five of Spades\n",
      "Ace of Hearts\n",
      "Jack of Hearts\n",
      "Jack of Spades\n",
      "Four of Clubs\n",
      "Five of Clubs\n",
      "Eight of Hearts\n",
      "Three of Spades\n",
      "King of Diamonds\n",
      "Eight of Diamonds\n",
      "Seven of Spades\n",
      "Two of Clubs\n",
      "Four of Hearts\n",
      "Four of Spades\n",
      "King of Hearts\n",
      "Nine of Diamonds\n",
      "Two of Diamonds\n",
      "Two of Hearts\n",
      "Ten of Hearts\n",
      "Ten of Clubs\n",
      "King of Clubs\n",
      "Seven of Clubs\n",
      "Five of Hearts\n",
      "Nine of Spades\n",
      "Queen of Clubs\n",
      "Six of Clubs\n",
      "Six of Diamonds\n",
      "Nine of Clubs\n",
      "Eight of Spades\n"
     ]
    }
   ],
   "source": [
    "print(new_deck)"
   ]
  },
  {
   "cell_type": "code",
   "execution_count": 19,
   "metadata": {},
   "outputs": [],
   "source": [
    "class Hand:\n",
    "    def __init__(self):\n",
    "        self.cards = []  # start with an empty list as we did in the Deck class\n",
    "        self.value = 0   # start with zero value\n",
    "        self.aces = 0    # add an attribute to keep track of aces\n",
    "    \n",
    "    def add_cards(self,card):\n",
    "        self.cards.append(card)\n",
    "        self.value+=values[card.rank]\n",
    "        if card.rank==\"Ace\":\n",
    "            self.aces+=1\n",
    "    def adjust_for_ace(self):\n",
    "        while self.value>21 and self.aces:\n",
    "            self.aces-=1\n",
    "            self.value-=10"
   ]
  },
  {
   "cell_type": "code",
   "execution_count": 29,
   "metadata": {},
   "outputs": [
    {
     "name": "stdout",
     "output_type": "stream",
     "text": [
      "Jack of Clubs\n"
     ]
    },
    {
     "ename": "NameError",
     "evalue": "name 'cards' is not defined",
     "output_type": "error",
     "traceback": [
      "\u001b[0;31m---------------------------------------------------------------------------\u001b[0m",
      "\u001b[0;31mNameError\u001b[0m                                 Traceback (most recent call last)",
      "\u001b[0;32m<ipython-input-29-01d5005de443>\u001b[0m in \u001b[0;36m<module>\u001b[0;34m\u001b[0m\n\u001b[1;32m      3\u001b[0m \u001b[0mcard\u001b[0m\u001b[0;34m=\u001b[0m\u001b[0mnew_deck\u001b[0m\u001b[0;34m.\u001b[0m\u001b[0mdeal_one\u001b[0m\u001b[0;34m(\u001b[0m\u001b[0;34m)\u001b[0m\u001b[0;34m\u001b[0m\u001b[0;34m\u001b[0m\u001b[0m\n\u001b[1;32m      4\u001b[0m \u001b[0mprint\u001b[0m\u001b[0;34m(\u001b[0m\u001b[0mcard\u001b[0m\u001b[0;34m)\u001b[0m\u001b[0;34m\u001b[0m\u001b[0;34m\u001b[0m\u001b[0m\n\u001b[0;32m----> 5\u001b[0;31m \u001b[0mph1\u001b[0m\u001b[0;34m.\u001b[0m\u001b[0madd_cards\u001b[0m\u001b[0;34m(\u001b[0m\u001b[0mcard\u001b[0m\u001b[0;34m)\u001b[0m\u001b[0;34m\u001b[0m\u001b[0;34m\u001b[0m\u001b[0m\n\u001b[0m\u001b[1;32m      6\u001b[0m \u001b[0mprint\u001b[0m\u001b[0;34m(\u001b[0m\u001b[0mph1\u001b[0m\u001b[0;34m.\u001b[0m\u001b[0mvalue\u001b[0m\u001b[0;34m)\u001b[0m\u001b[0;34m\u001b[0m\u001b[0;34m\u001b[0m\u001b[0m\n",
      "\u001b[0;32m<ipython-input-28-bcc5c9182728>\u001b[0m in \u001b[0;36madd_cards\u001b[0;34m(self, new_card)\u001b[0m\n\u001b[1;32m      7\u001b[0m     \u001b[0;32mdef\u001b[0m \u001b[0madd_cards\u001b[0m\u001b[0;34m(\u001b[0m\u001b[0mself\u001b[0m\u001b[0;34m,\u001b[0m\u001b[0mnew_card\u001b[0m\u001b[0;34m)\u001b[0m\u001b[0;34m:\u001b[0m\u001b[0;34m\u001b[0m\u001b[0;34m\u001b[0m\u001b[0m\n\u001b[1;32m      8\u001b[0m         \u001b[0mself\u001b[0m\u001b[0;34m.\u001b[0m\u001b[0mcards\u001b[0m\u001b[0;34m.\u001b[0m\u001b[0mappend\u001b[0m\u001b[0;34m(\u001b[0m\u001b[0mnew_deck\u001b[0m\u001b[0;34m.\u001b[0m\u001b[0mdeal_one\u001b[0m\u001b[0;34m(\u001b[0m\u001b[0;34m)\u001b[0m\u001b[0;34m)\u001b[0m\u001b[0;34m\u001b[0m\u001b[0;34m\u001b[0m\u001b[0m\n\u001b[0;32m----> 9\u001b[0;31m         \u001b[0mself\u001b[0m\u001b[0;34m.\u001b[0m\u001b[0mvalue\u001b[0m\u001b[0;34m+=\u001b[0m\u001b[0mvalues\u001b[0m\u001b[0;34m[\u001b[0m\u001b[0mcards\u001b[0m\u001b[0;34m.\u001b[0m\u001b[0mrank\u001b[0m\u001b[0;34m]\u001b[0m\u001b[0;34m\u001b[0m\u001b[0;34m\u001b[0m\u001b[0m\n\u001b[0m\u001b[1;32m     10\u001b[0m         \u001b[0;32mif\u001b[0m \u001b[0mcard\u001b[0m\u001b[0;34m.\u001b[0m\u001b[0mrank\u001b[0m\u001b[0;34m==\u001b[0m\u001b[0;34m\"Ace\"\u001b[0m\u001b[0;34m:\u001b[0m\u001b[0;34m\u001b[0m\u001b[0;34m\u001b[0m\u001b[0m\n\u001b[1;32m     11\u001b[0m             \u001b[0mself\u001b[0m\u001b[0;34m.\u001b[0m\u001b[0maces\u001b[0m\u001b[0;34m+=\u001b[0m\u001b[0;36m1\u001b[0m\u001b[0;34m\u001b[0m\u001b[0;34m\u001b[0m\u001b[0m\n",
      "\u001b[0;31mNameError\u001b[0m: name 'cards' is not defined"
     ]
    }
   ],
   "source": [
    "ph1=Hand()\n",
    "dh1=Hand()\n",
    "card=new_deck.deal_one()\n",
    "print(card)\n",
    "ph1.add_cards(card)\n",
    "print(ph1.value)"
   ]
  },
  {
   "cell_type": "code",
   "execution_count": 7,
   "metadata": {},
   "outputs": [
    {
     "name": "stdout",
     "output_type": "stream",
     "text": [
      "Five of Hearts\n"
     ]
    },
    {
     "ename": "NameError",
     "evalue": "name 'ph1' is not defined",
     "output_type": "error",
     "traceback": [
      "\u001b[0;31m---------------------------------------------------------------------------\u001b[0m",
      "\u001b[0;31mNameError\u001b[0m                                 Traceback (most recent call last)",
      "\u001b[0;32m<ipython-input-7-a62c2c038a61>\u001b[0m in \u001b[0;36m<module>\u001b[0;34m\u001b[0m\n\u001b[1;32m      1\u001b[0m \u001b[0mcard\u001b[0m\u001b[0;34m=\u001b[0m\u001b[0mnew_deck\u001b[0m\u001b[0;34m.\u001b[0m\u001b[0mdeal_one\u001b[0m\u001b[0;34m(\u001b[0m\u001b[0;34m)\u001b[0m\u001b[0;34m\u001b[0m\u001b[0;34m\u001b[0m\u001b[0m\n\u001b[1;32m      2\u001b[0m \u001b[0mprint\u001b[0m\u001b[0;34m(\u001b[0m\u001b[0mcard\u001b[0m\u001b[0;34m)\u001b[0m\u001b[0;34m\u001b[0m\u001b[0;34m\u001b[0m\u001b[0m\n\u001b[0;32m----> 3\u001b[0;31m \u001b[0mph1\u001b[0m\u001b[0;34m.\u001b[0m\u001b[0madd_cards\u001b[0m\u001b[0;34m(\u001b[0m\u001b[0mcard\u001b[0m\u001b[0;34m)\u001b[0m\u001b[0;34m\u001b[0m\u001b[0;34m\u001b[0m\u001b[0m\n\u001b[0m\u001b[1;32m      4\u001b[0m \u001b[0mprint\u001b[0m\u001b[0;34m(\u001b[0m\u001b[0mph1\u001b[0m\u001b[0;34m.\u001b[0m\u001b[0mvalue\u001b[0m\u001b[0;34m)\u001b[0m\u001b[0;34m\u001b[0m\u001b[0;34m\u001b[0m\u001b[0m\n",
      "\u001b[0;31mNameError\u001b[0m: name 'ph1' is not defined"
     ]
    }
   ],
   "source": [
    "card=new_deck.deal_one()\n",
    "print(card)\n",
    "ph1.add_cards(card)\n",
    "print(ph1.value)"
   ]
  },
  {
   "cell_type": "code",
   "execution_count": 11,
   "metadata": {},
   "outputs": [
    {
     "name": "stdout",
     "output_type": "stream",
     "text": [
      "<__main__.Hand object at 0x7fe9c8793a30>\n"
     ]
    }
   ],
   "source": [
    "hand1=Hand()\n",
    "hand1.add_cards(new_deck.deal_one())\n",
    "print (hand1)"
   ]
  },
  {
   "cell_type": "code",
   "execution_count": 7,
   "metadata": {},
   "outputs": [],
   "source": [
    "class Chips():\n",
    "    def __init__(self):\n",
    "        self.total = p1.bal\n",
    "        self.bet = 0\n",
    "    \n",
    "    def win_bet(self):\n",
    "        self.total+=self.bet\n",
    "    def lose_bet(self):\n",
    "        self.total-=self.bet"
   ]
  },
  {
   "cell_type": "code",
   "execution_count": 13,
   "metadata": {},
   "outputs": [],
   "source": [
    "chips=Chips()"
   ]
  },
  {
   "cell_type": "code",
   "execution_count": 14,
   "metadata": {},
   "outputs": [
    {
     "data": {
      "text/plain": [
       "200"
      ]
     },
     "execution_count": 14,
     "metadata": {},
     "output_type": "execute_result"
    }
   ],
   "source": [
    "chips.total"
   ]
  },
  {
   "cell_type": "code",
   "execution_count": 8,
   "metadata": {},
   "outputs": [],
   "source": [
    "def take_bet(chips):\n",
    "    while True:\n",
    "        try:\n",
    "            chips.bet=int(input(\"Please enter bet:\"))\n",
    "        except:\n",
    "            print (\"Not a number\")\n",
    "        else:\n",
    "            if chips.bet > chips.total:\n",
    "                print(f\"Sorry not enough chips! You have: {chips.total}\")\n",
    "            else:\n",
    "                break\n",
    "        finally:\n",
    "            print(\"Game on!\")"
   ]
  },
  {
   "cell_type": "code",
   "execution_count": 16,
   "metadata": {},
   "outputs": [
    {
     "name": "stdout",
     "output_type": "stream",
     "text": [
      "Please enter bet:\n",
      "Not a number\n",
      "Game on!\n",
      "Please enter bet:1\n",
      "Game on!\n"
     ]
    }
   ],
   "source": [
    "take_bet(chips)"
   ]
  },
  {
   "cell_type": "code",
   "execution_count": 9,
   "metadata": {},
   "outputs": [],
   "source": [
    "def hit(deck,ph1):\n",
    "    ph1.add_cards(new_deck.deal_one())\n",
    "    ph1.adjust_for_ace()"
   ]
  },
  {
   "cell_type": "code",
   "execution_count": 18,
   "metadata": {},
   "outputs": [],
   "source": [
    "hit(new_deck, ph1)"
   ]
  },
  {
   "cell_type": "code",
   "execution_count": 10,
   "metadata": {},
   "outputs": [],
   "source": [
    "def hit_or_stand(deck,hand):\n",
    "    global playing  # to control an upcoming while loop\n",
    "    while True:\n",
    "        hs=input(\"Hit or Stand? Enter h or s!\")\n",
    "        if hs.lower()==\"h\":\n",
    "            hit(new_deck, ph1)\n",
    "        elif hs.lower()==\"s\":\n",
    "            print(f\"{p1.name} stands. Dealer's turn\")\n",
    "            playing = False\n",
    "        else:\n",
    "            print(\"Please enter h or s!\")\n",
    "            continue\n",
    "        break"
   ]
  },
  {
   "cell_type": "code",
   "execution_count": 11,
   "metadata": {},
   "outputs": [],
   "source": [
    "def show_some(player,dealer):\n",
    "    print (f\"Dealer's Hand: \\nOne card hidden! {dealer.cards[1]} \\nPlayer Hand:\")\n",
    "    for card in ph1.cards:\n",
    "        print(card)\n",
    "    print (ph1.value)\n",
    "    \n",
    "def show_all(player,dealer):\n",
    "    print (f\"Dealer's Hand: \")\n",
    "    for card in dh1.cards:\n",
    "        print(card)\n",
    "    print (dh1.value)\n",
    "    print(\"\\nPlayer Hand: \")\n",
    "    for card in ph1.cards:\n",
    "        print(card)\n",
    "    print (ph1.value)"
   ]
  },
  {
   "cell_type": "code",
   "execution_count": 12,
   "metadata": {},
   "outputs": [],
   "source": [
    "def player_busts(ph1,dh1,chips):\n",
    "    print(f\"{p1.name} has busted!\")\n",
    "    chips.lose_bet()\n",
    "\n",
    "def player_wins(ph1,dh1,chips):\n",
    "    print(f\"{p1.name} wins!\")\n",
    "    chips.win_bet()\n",
    "\n",
    "def dealer_busts(ph1,dh1,chips):\n",
    "    print(f\"Dealer has busted!\")\n",
    "    chips.win_bet()\n",
    "        \n",
    "def dealer_wins(ph1,dh1,chips):\n",
    "    print(f\"Dealer wins!\")\n",
    "    chips.lose_bet()\n",
    "    \n",
    "def push(ph1,dh1):\n",
    "    print(\"Dealer and player tie! PUSH!\")"
   ]
  },
  {
   "cell_type": "code",
   "execution_count": null,
   "metadata": {},
   "outputs": [],
   "source": []
  },
  {
   "cell_type": "code",
   "execution_count": null,
   "metadata": {},
   "outputs": [
    {
     "name": "stdout",
     "output_type": "stream",
     "text": [
      "Player: Hasan \n",
      "Account balance: 200\n",
      "Welcome to Blackjack!\n",
      "10\n",
      "21\n",
      "Please enter bet:100\n",
      "Game on!\n",
      "Dealer's Hand: \n",
      "One card hidden! Jack of Diamonds \n",
      "Player Hand:\n",
      "Jack of Hearts\n",
      "Ace of Diamonds\n",
      "21\n",
      "Hit or Stand? Enter h or s!s\n",
      "Hasan stands. Dealer's turn\n",
      "Dealer's Hand: \n",
      "One card hidden! Jack of Diamonds \n",
      "Player Hand:\n",
      "Jack of Hearts\n",
      "Ace of Diamonds\n",
      "21\n",
      "Dealer's Hand: \n",
      "Two of Spades\n",
      "Jack of Diamonds\n",
      "Ten of Spades\n",
      "22\n",
      "\n",
      "Player Hand: \n",
      "Jack of Hearts\n",
      "Ace of Diamonds\n",
      "21\n",
      "Dealer has busted!\n",
      "Hasan has : 300\n",
      "Play again? Enter y or n!y\n",
      "Welcome to Blackjack!\n",
      "11\n",
      "15\n",
      "Please enter bet:50\n",
      "Game on!\n",
      "Dealer's Hand: \n",
      "One card hidden! Nine of Diamonds \n",
      "Player Hand:\n",
      "Ace of Diamonds\n",
      "Four of Hearts\n",
      "15\n",
      "Hit or Stand? Enter h or s!s\n",
      "Hasan stands. Dealer's turn\n",
      "Dealer's Hand: \n",
      "One card hidden! Nine of Diamonds \n",
      "Player Hand:\n",
      "Ace of Diamonds\n",
      "Four of Hearts\n",
      "15\n",
      "Dealer's Hand: \n",
      "Queen of Clubs\n",
      "Nine of Diamonds\n",
      "19\n",
      "\n",
      "Player Hand: \n",
      "Ace of Diamonds\n",
      "Four of Hearts\n",
      "15\n",
      "Dealer wins!\n",
      "Hasan has : 250\n",
      "Play again? Enter y or n!y\n",
      "Welcome to Blackjack!\n",
      "3\n",
      "10\n",
      "Please enter bet:20\n",
      "Game on!\n",
      "Dealer's Hand: \n",
      "One card hidden! Queen of Clubs \n",
      "Player Hand:\n",
      "Three of Clubs\n",
      "Seven of Spades\n",
      "10\n",
      "Hit or Stand? Enter h or s!s\n",
      "Hasan stands. Dealer's turn\n",
      "Dealer's Hand: \n",
      "One card hidden! Queen of Clubs \n",
      "Player Hand:\n",
      "Three of Clubs\n",
      "Seven of Spades\n",
      "10\n",
      "Dealer's Hand: \n",
      "Six of Clubs\n",
      "Queen of Clubs\n",
      "Eight of Hearts\n",
      "24\n",
      "\n",
      "Player Hand: \n",
      "Three of Clubs\n",
      "Seven of Spades\n",
      "10\n",
      "Dealer has busted!\n",
      "Hasan has : 270\n"
     ]
    }
   ],
   "source": [
    "p1=Player(\"Hasan\", 200)\n",
    "chips=Chips()\n",
    "while True:\n",
    "    # Print an opening statement\n",
    "    print(\"Welcome to Blackjack!\")\n",
    "    \n",
    "    # Create & shuffle the deck, deal two cards to each player\n",
    "    new_deck=Deck()\n",
    "    new_deck.shuffle()\n",
    "    \n",
    "    ph1=Hand()\n",
    "    dh1=Hand()\n",
    "    ph1.add_cards(new_deck.deal_one())\n",
    "    print (ph1.value)\n",
    "    dh1.add_cards(new_deck.deal_one())\n",
    "    ph1.add_cards(new_deck.deal_one())\n",
    "    print (ph1.value)\n",
    "    dh1.add_cards(new_deck.deal_one())\n",
    "    # Set up the Player's chips\n",
    "    \n",
    "    \n",
    "    # Prompt the Player for their bet\n",
    "    take_bet(chips)\n",
    "    \n",
    "    # Show cards (but keep one dealer card hidden)\n",
    "    show_some(ph1,dh1)\n",
    "    playing=True\n",
    "    while playing:  # recall this variable from our hit_or_stand function\n",
    "        \n",
    "        # Prompt for Player to Hit or Stand\n",
    "        hit_or_stand(new_deck,ph1)\n",
    "        \n",
    "        # Show cards (but keep one dealer card hidden)\n",
    "        show_some(ph1,dh1)\n",
    "        \n",
    "        # If player's hand exceeds 21, run player_busts() and break out of loop\n",
    "        if ph1.value>21:\n",
    "            player_busts(ph1,dh1,chips)\n",
    "\n",
    "            break\n",
    "\n",
    "    # If Player hasn't busted, play Dealer's hand until Dealer reaches 17\n",
    "    if ph1.value <=21:\n",
    "        while dh1.value<17:\n",
    "            hit(new_deck,dh1)\n",
    "    \n",
    "        # Show all cards\n",
    "        show_all(ph1,dh1)\n",
    "        # Run different winning scenarios\n",
    "        \n",
    "        if dh1.value>21:\n",
    "            dealer_busts(ph1,dh1,chips)\n",
    "        elif ph1.value>dh1.value:\n",
    "            player_wins(ph1,dh1,chips)\n",
    "        elif ph1.value<dh1.value:\n",
    "            dealer_wins(ph1,dh1,chips)\n",
    "        else:\n",
    "            push(ph1,dh1)\n",
    "    \n",
    "    # Inform Player of their chips total \n",
    "    print(f\"{p1.name} has : {chips.total}\")\n",
    "    # Ask to play again\n",
    "    hs=input(\"Play again? Enter y or n!\")\n",
    "    if hs.lower()==\"y\":\n",
    "        playing=True\n",
    "        continue\n",
    "    else:\n",
    "        print(\"Thanks for playing!\")\n",
    "        break"
   ]
  },
  {
   "cell_type": "code",
   "execution_count": null,
   "metadata": {},
   "outputs": [],
   "source": []
  },
  {
   "cell_type": "code",
   "execution_count": 1,
   "metadata": {},
   "outputs": [
    {
     "ename": "NameError",
     "evalue": "name 'chips' is not defined",
     "output_type": "error",
     "traceback": [
      "\u001b[0;31m---------------------------------------------------------------------------\u001b[0m",
      "\u001b[0;31mNameError\u001b[0m                                 Traceback (most recent call last)",
      "\u001b[0;32m<ipython-input-1-abeba3921335>\u001b[0m in \u001b[0;36m<module>\u001b[0;34m\u001b[0m\n\u001b[0;32m----> 1\u001b[0;31m \u001b[0mprint\u001b[0m\u001b[0;34m(\u001b[0m\u001b[0mchips\u001b[0m\u001b[0;34m.\u001b[0m\u001b[0mtotal\u001b[0m\u001b[0;34m)\u001b[0m\u001b[0;34m\u001b[0m\u001b[0;34m\u001b[0m\u001b[0m\n\u001b[0m",
      "\u001b[0;31mNameError\u001b[0m: name 'chips' is not defined"
     ]
    }
   ],
   "source": [
    "print(chips.total)"
   ]
  },
  {
   "cell_type": "code",
   "execution_count": null,
   "metadata": {},
   "outputs": [],
   "source": []
  }
 ],
 "metadata": {
  "kernelspec": {
   "display_name": "Python 3 (ipykernel)",
   "language": "python",
   "name": "python3"
  },
  "language_info": {
   "codemirror_mode": {
    "name": "ipython",
    "version": 3
   },
   "file_extension": ".py",
   "mimetype": "text/x-python",
   "name": "python",
   "nbconvert_exporter": "python",
   "pygments_lexer": "ipython3",
   "version": "3.9.12"
  }
 },
 "nbformat": 4,
 "nbformat_minor": 4
}
