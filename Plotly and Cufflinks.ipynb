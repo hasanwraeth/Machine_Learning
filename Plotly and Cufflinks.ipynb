{
 "cells": [
  {
   "cell_type": "code",
   "execution_count": 1,
   "metadata": {},
   "outputs": [
    {
     "name": "stdout",
     "output_type": "stream",
     "text": [
      "Collecting plotly\n",
      "  Downloading plotly-4.14.1-py2.py3-none-any.whl (13.2 MB)\n",
      "\u001b[K     |████████████████████████████████| 13.2 MB 4.9 MB/s eta 0:00:01\n",
      "\u001b[?25hRequirement already satisfied: six in /Users/reziw3/opt/anaconda3/lib/python3.8/site-packages (from plotly) (1.15.0)\n",
      "Collecting retrying>=1.3.3\n",
      "  Downloading retrying-1.3.3.tar.gz (10 kB)\n",
      "Building wheels for collected packages: retrying\n",
      "  Building wheel for retrying (setup.py) ... \u001b[?25ldone\n",
      "\u001b[?25h  Created wheel for retrying: filename=retrying-1.3.3-py3-none-any.whl size=11430 sha256=36c2a7da52f217ef882f0102ec177c207ba0b757d503cc6c340cb446869ed7ff\n",
      "  Stored in directory: /Users/reziw3/Library/Caches/pip/wheels/c4/a7/48/0a434133f6d56e878ca511c0e6c38326907c0792f67b476e56\n",
      "Successfully built retrying\n",
      "Installing collected packages: retrying, plotly\n",
      "Successfully installed plotly-4.14.1 retrying-1.3.3\n",
      "Note: you may need to restart the kernel to use updated packages.\n"
     ]
    }
   ],
   "source": [
    "pip install plotly"
   ]
  },
  {
   "cell_type": "code",
   "execution_count": 2,
   "metadata": {},
   "outputs": [
    {
     "name": "stdout",
     "output_type": "stream",
     "text": [
      "Collecting cufflinks\n",
      "  Downloading cufflinks-0.17.3.tar.gz (81 kB)\n",
      "\u001b[K     |████████████████████████████████| 81 kB 5.0 MB/s eta 0:00:011\n",
      "\u001b[?25hRequirement already satisfied: numpy>=1.9.2 in /Users/reziw3/opt/anaconda3/lib/python3.8/site-packages (from cufflinks) (1.18.5)\n",
      "Requirement already satisfied: pandas>=0.19.2 in /Users/reziw3/opt/anaconda3/lib/python3.8/site-packages (from cufflinks) (1.0.5)\n",
      "Requirement already satisfied: plotly>=4.1.1 in /Users/reziw3/opt/anaconda3/lib/python3.8/site-packages (from cufflinks) (4.14.1)\n",
      "Requirement already satisfied: six>=1.9.0 in /Users/reziw3/opt/anaconda3/lib/python3.8/site-packages (from cufflinks) (1.15.0)\n",
      "Collecting colorlover>=0.2.1\n",
      "  Downloading colorlover-0.3.0-py3-none-any.whl (8.9 kB)\n",
      "Requirement already satisfied: setuptools>=34.4.1 in /Users/reziw3/opt/anaconda3/lib/python3.8/site-packages (from cufflinks) (49.2.0.post20200714)\n",
      "Requirement already satisfied: ipython>=5.3.0 in /Users/reziw3/opt/anaconda3/lib/python3.8/site-packages (from cufflinks) (7.16.1)\n",
      "Requirement already satisfied: ipywidgets>=7.0.0 in /Users/reziw3/opt/anaconda3/lib/python3.8/site-packages (from cufflinks) (7.5.1)\n",
      "Requirement already satisfied: pytz>=2017.2 in /Users/reziw3/opt/anaconda3/lib/python3.8/site-packages (from pandas>=0.19.2->cufflinks) (2020.1)\n",
      "Requirement already satisfied: python-dateutil>=2.6.1 in /Users/reziw3/opt/anaconda3/lib/python3.8/site-packages (from pandas>=0.19.2->cufflinks) (2.8.1)\n",
      "Requirement already satisfied: retrying>=1.3.3 in /Users/reziw3/opt/anaconda3/lib/python3.8/site-packages (from plotly>=4.1.1->cufflinks) (1.3.3)\n",
      "Requirement already satisfied: prompt-toolkit!=3.0.0,!=3.0.1,<3.1.0,>=2.0.0 in /Users/reziw3/opt/anaconda3/lib/python3.8/site-packages (from ipython>=5.3.0->cufflinks) (3.0.5)\n",
      "Requirement already satisfied: pexpect; sys_platform != \"win32\" in /Users/reziw3/opt/anaconda3/lib/python3.8/site-packages (from ipython>=5.3.0->cufflinks) (4.8.0)\n",
      "Requirement already satisfied: jedi>=0.10 in /Users/reziw3/opt/anaconda3/lib/python3.8/site-packages (from ipython>=5.3.0->cufflinks) (0.17.1)\n",
      "Requirement already satisfied: decorator in /Users/reziw3/opt/anaconda3/lib/python3.8/site-packages (from ipython>=5.3.0->cufflinks) (4.4.2)\n",
      "Requirement already satisfied: pickleshare in /Users/reziw3/opt/anaconda3/lib/python3.8/site-packages (from ipython>=5.3.0->cufflinks) (0.7.5)\n",
      "Requirement already satisfied: backcall in /Users/reziw3/opt/anaconda3/lib/python3.8/site-packages (from ipython>=5.3.0->cufflinks) (0.2.0)\n",
      "Requirement already satisfied: appnope; sys_platform == \"darwin\" in /Users/reziw3/opt/anaconda3/lib/python3.8/site-packages (from ipython>=5.3.0->cufflinks) (0.1.0)\n",
      "Requirement already satisfied: traitlets>=4.2 in /Users/reziw3/opt/anaconda3/lib/python3.8/site-packages (from ipython>=5.3.0->cufflinks) (4.3.3)\n",
      "Requirement already satisfied: pygments in /Users/reziw3/opt/anaconda3/lib/python3.8/site-packages (from ipython>=5.3.0->cufflinks) (2.6.1)\n",
      "Requirement already satisfied: ipykernel>=4.5.1 in /Users/reziw3/opt/anaconda3/lib/python3.8/site-packages (from ipywidgets>=7.0.0->cufflinks) (5.3.2)\n",
      "Requirement already satisfied: nbformat>=4.2.0 in /Users/reziw3/opt/anaconda3/lib/python3.8/site-packages (from ipywidgets>=7.0.0->cufflinks) (5.0.7)\n",
      "Requirement already satisfied: widgetsnbextension~=3.5.0 in /Users/reziw3/opt/anaconda3/lib/python3.8/site-packages (from ipywidgets>=7.0.0->cufflinks) (3.5.1)\n",
      "Requirement already satisfied: wcwidth in /Users/reziw3/opt/anaconda3/lib/python3.8/site-packages (from prompt-toolkit!=3.0.0,!=3.0.1,<3.1.0,>=2.0.0->ipython>=5.3.0->cufflinks) (0.2.5)\n",
      "Requirement already satisfied: ptyprocess>=0.5 in /Users/reziw3/opt/anaconda3/lib/python3.8/site-packages (from pexpect; sys_platform != \"win32\"->ipython>=5.3.0->cufflinks) (0.6.0)\n",
      "Requirement already satisfied: parso<0.8.0,>=0.7.0 in /Users/reziw3/opt/anaconda3/lib/python3.8/site-packages (from jedi>=0.10->ipython>=5.3.0->cufflinks) (0.7.0)\n",
      "Requirement already satisfied: ipython-genutils in /Users/reziw3/opt/anaconda3/lib/python3.8/site-packages (from traitlets>=4.2->ipython>=5.3.0->cufflinks) (0.2.0)\n",
      "Requirement already satisfied: jupyter-client in /Users/reziw3/opt/anaconda3/lib/python3.8/site-packages (from ipykernel>=4.5.1->ipywidgets>=7.0.0->cufflinks) (6.1.6)\n",
      "Requirement already satisfied: tornado>=4.2 in /Users/reziw3/opt/anaconda3/lib/python3.8/site-packages (from ipykernel>=4.5.1->ipywidgets>=7.0.0->cufflinks) (6.0.4)\n",
      "Requirement already satisfied: jsonschema!=2.5.0,>=2.4 in /Users/reziw3/opt/anaconda3/lib/python3.8/site-packages (from nbformat>=4.2.0->ipywidgets>=7.0.0->cufflinks) (3.2.0)\n",
      "Requirement already satisfied: jupyter-core in /Users/reziw3/opt/anaconda3/lib/python3.8/site-packages (from nbformat>=4.2.0->ipywidgets>=7.0.0->cufflinks) (4.6.3)\n",
      "Requirement already satisfied: notebook>=4.4.1 in /Users/reziw3/opt/anaconda3/lib/python3.8/site-packages (from widgetsnbextension~=3.5.0->ipywidgets>=7.0.0->cufflinks) (6.0.3)\n",
      "Requirement already satisfied: pyzmq>=13 in /Users/reziw3/opt/anaconda3/lib/python3.8/site-packages (from jupyter-client->ipykernel>=4.5.1->ipywidgets>=7.0.0->cufflinks) (19.0.1)\n",
      "Requirement already satisfied: pyrsistent>=0.14.0 in /Users/reziw3/opt/anaconda3/lib/python3.8/site-packages (from jsonschema!=2.5.0,>=2.4->nbformat>=4.2.0->ipywidgets>=7.0.0->cufflinks) (0.16.0)\n",
      "Requirement already satisfied: attrs>=17.4.0 in /Users/reziw3/opt/anaconda3/lib/python3.8/site-packages (from jsonschema!=2.5.0,>=2.4->nbformat>=4.2.0->ipywidgets>=7.0.0->cufflinks) (19.3.0)\n",
      "Requirement already satisfied: terminado>=0.8.1 in /Users/reziw3/opt/anaconda3/lib/python3.8/site-packages (from notebook>=4.4.1->widgetsnbextension~=3.5.0->ipywidgets>=7.0.0->cufflinks) (0.8.3)\n",
      "Requirement already satisfied: jinja2 in /Users/reziw3/opt/anaconda3/lib/python3.8/site-packages (from notebook>=4.4.1->widgetsnbextension~=3.5.0->ipywidgets>=7.0.0->cufflinks) (2.11.2)\n",
      "Requirement already satisfied: nbconvert in /Users/reziw3/opt/anaconda3/lib/python3.8/site-packages (from notebook>=4.4.1->widgetsnbextension~=3.5.0->ipywidgets>=7.0.0->cufflinks) (5.6.1)\n",
      "Requirement already satisfied: Send2Trash in /Users/reziw3/opt/anaconda3/lib/python3.8/site-packages (from notebook>=4.4.1->widgetsnbextension~=3.5.0->ipywidgets>=7.0.0->cufflinks) (1.5.0)\n",
      "Requirement already satisfied: prometheus-client in /Users/reziw3/opt/anaconda3/lib/python3.8/site-packages (from notebook>=4.4.1->widgetsnbextension~=3.5.0->ipywidgets>=7.0.0->cufflinks) (0.8.0)\n",
      "Requirement already satisfied: MarkupSafe>=0.23 in /Users/reziw3/opt/anaconda3/lib/python3.8/site-packages (from jinja2->notebook>=4.4.1->widgetsnbextension~=3.5.0->ipywidgets>=7.0.0->cufflinks) (1.1.1)\n",
      "Requirement already satisfied: testpath in /Users/reziw3/opt/anaconda3/lib/python3.8/site-packages (from nbconvert->notebook>=4.4.1->widgetsnbextension~=3.5.0->ipywidgets>=7.0.0->cufflinks) (0.4.4)\n",
      "Requirement already satisfied: entrypoints>=0.2.2 in /Users/reziw3/opt/anaconda3/lib/python3.8/site-packages (from nbconvert->notebook>=4.4.1->widgetsnbextension~=3.5.0->ipywidgets>=7.0.0->cufflinks) (0.3)\n",
      "Requirement already satisfied: bleach in /Users/reziw3/opt/anaconda3/lib/python3.8/site-packages (from nbconvert->notebook>=4.4.1->widgetsnbextension~=3.5.0->ipywidgets>=7.0.0->cufflinks) (3.1.5)\n",
      "Requirement already satisfied: defusedxml in /Users/reziw3/opt/anaconda3/lib/python3.8/site-packages (from nbconvert->notebook>=4.4.1->widgetsnbextension~=3.5.0->ipywidgets>=7.0.0->cufflinks) (0.6.0)\n",
      "Requirement already satisfied: mistune<2,>=0.8.1 in /Users/reziw3/opt/anaconda3/lib/python3.8/site-packages (from nbconvert->notebook>=4.4.1->widgetsnbextension~=3.5.0->ipywidgets>=7.0.0->cufflinks) (0.8.4)\n",
      "Requirement already satisfied: pandocfilters>=1.4.1 in /Users/reziw3/opt/anaconda3/lib/python3.8/site-packages (from nbconvert->notebook>=4.4.1->widgetsnbextension~=3.5.0->ipywidgets>=7.0.0->cufflinks) (1.4.2)\n",
      "Requirement already satisfied: webencodings in /Users/reziw3/opt/anaconda3/lib/python3.8/site-packages (from bleach->nbconvert->notebook>=4.4.1->widgetsnbextension~=3.5.0->ipywidgets>=7.0.0->cufflinks) (0.5.1)\n",
      "Requirement already satisfied: packaging in /Users/reziw3/opt/anaconda3/lib/python3.8/site-packages (from bleach->nbconvert->notebook>=4.4.1->widgetsnbextension~=3.5.0->ipywidgets>=7.0.0->cufflinks) (20.4)\n",
      "Requirement already satisfied: pyparsing>=2.0.2 in /Users/reziw3/opt/anaconda3/lib/python3.8/site-packages (from packaging->bleach->nbconvert->notebook>=4.4.1->widgetsnbextension~=3.5.0->ipywidgets>=7.0.0->cufflinks) (2.4.7)\n",
      "Building wheels for collected packages: cufflinks\n"
     ]
    },
    {
     "name": "stdout",
     "output_type": "stream",
     "text": [
      "  Building wheel for cufflinks (setup.py) ... \u001b[?25ldone\n",
      "\u001b[?25h  Created wheel for cufflinks: filename=cufflinks-0.17.3-py3-none-any.whl size=67921 sha256=c294851ba8deb2d15a24ad39f72348963a8022509d8e324e429b8103585c1a1e\n",
      "  Stored in directory: /Users/reziw3/Library/Caches/pip/wheels/6b/76/62/6da97734911ffcbdd559fd1a3f28526321f0ae699182a23866\n",
      "Successfully built cufflinks\n",
      "Installing collected packages: colorlover, cufflinks\n",
      "Successfully installed colorlover-0.3.0 cufflinks-0.17.3\n",
      "Note: you may need to restart the kernel to use updated packages.\n"
     ]
    }
   ],
   "source": [
    "pip install cufflinks"
   ]
  },
  {
   "cell_type": "code",
   "execution_count": 3,
   "metadata": {},
   "outputs": [],
   "source": [
    "import pandas as pd\n",
    "import numpy as np"
   ]
  },
  {
   "cell_type": "code",
   "execution_count": 4,
   "metadata": {},
   "outputs": [],
   "source": [
    "from plotly import __version__"
   ]
  },
  {
   "cell_type": "code",
   "execution_count": 5,
   "metadata": {},
   "outputs": [
    {
     "name": "stdout",
     "output_type": "stream",
     "text": [
      "4.14.1\n"
     ]
    }
   ],
   "source": [
    "print(__version__)"
   ]
  },
  {
   "cell_type": "code",
   "execution_count": 6,
   "metadata": {},
   "outputs": [],
   "source": [
    "import cufflinks as cf\n",
    "from plotly.offline import download_plotlyjs, init_notebook_mode, plot, iplot"
   ]
  },
  {
   "cell_type": "code",
   "execution_count": 7,
   "metadata": {},
   "outputs": [
    {
     "data": {
      "text/html": [
       "        <script type=\"text/javascript\">\n",
       "        window.PlotlyConfig = {MathJaxConfig: 'local'};\n",
       "        if (window.MathJax) {MathJax.Hub.Config({SVG: {font: \"STIX-Web\"}});}\n",
       "        if (typeof require !== 'undefined') {\n",
       "        require.undef(\"plotly\");\n",
       "        requirejs.config({\n",
       "            paths: {\n",
       "                'plotly': ['https://cdn.plot.ly/plotly-latest.min']\n",
       "            }\n",
       "        });\n",
       "        require(['plotly'], function(Plotly) {\n",
       "            window._Plotly = Plotly;\n",
       "        });\n",
       "        }\n",
       "        </script>\n",
       "        "
      ]
     },
     "metadata": {},
     "output_type": "display_data"
    }
   ],
   "source": [
    "init_notebook_mode(connected=True)"
   ]
  },
  {
   "cell_type": "code",
   "execution_count": 8,
   "metadata": {},
   "outputs": [
    {
     "data": {
      "text/html": [
       "        <script type=\"text/javascript\">\n",
       "        window.PlotlyConfig = {MathJaxConfig: 'local'};\n",
       "        if (window.MathJax) {MathJax.Hub.Config({SVG: {font: \"STIX-Web\"}});}\n",
       "        if (typeof require !== 'undefined') {\n",
       "        require.undef(\"plotly\");\n",
       "        requirejs.config({\n",
       "            paths: {\n",
       "                'plotly': ['https://cdn.plot.ly/plotly-latest.min']\n",
       "            }\n",
       "        });\n",
       "        require(['plotly'], function(Plotly) {\n",
       "            window._Plotly = Plotly;\n",
       "        });\n",
       "        }\n",
       "        </script>\n",
       "        "
      ]
     },
     "metadata": {},
     "output_type": "display_data"
    }
   ],
   "source": [
    "cf.go_offline()"
   ]
  },
  {
   "cell_type": "code",
   "execution_count": 10,
   "metadata": {},
   "outputs": [
    {
     "data": {
      "text/html": [
       "<div>\n",
       "<style scoped>\n",
       "    .dataframe tbody tr th:only-of-type {\n",
       "        vertical-align: middle;\n",
       "    }\n",
       "\n",
       "    .dataframe tbody tr th {\n",
       "        vertical-align: top;\n",
       "    }\n",
       "\n",
       "    .dataframe thead th {\n",
       "        text-align: right;\n",
       "    }\n",
       "</style>\n",
       "<table border=\"1\" class=\"dataframe\">\n",
       "  <thead>\n",
       "    <tr style=\"text-align: right;\">\n",
       "      <th></th>\n",
       "      <th>A</th>\n",
       "      <th>B</th>\n",
       "      <th>C</th>\n",
       "      <th>D</th>\n",
       "    </tr>\n",
       "  </thead>\n",
       "  <tbody>\n",
       "    <tr>\n",
       "      <th>0</th>\n",
       "      <td>-0.583475</td>\n",
       "      <td>-1.375807</td>\n",
       "      <td>1.001880</td>\n",
       "      <td>-1.358656</td>\n",
       "    </tr>\n",
       "    <tr>\n",
       "      <th>1</th>\n",
       "      <td>-0.174062</td>\n",
       "      <td>-2.016642</td>\n",
       "      <td>-2.337390</td>\n",
       "      <td>-1.138774</td>\n",
       "    </tr>\n",
       "    <tr>\n",
       "      <th>2</th>\n",
       "      <td>0.306088</td>\n",
       "      <td>-0.133891</td>\n",
       "      <td>-0.423254</td>\n",
       "      <td>0.481699</td>\n",
       "    </tr>\n",
       "    <tr>\n",
       "      <th>3</th>\n",
       "      <td>-0.953409</td>\n",
       "      <td>-0.582066</td>\n",
       "      <td>-1.896932</td>\n",
       "      <td>0.676437</td>\n",
       "    </tr>\n",
       "    <tr>\n",
       "      <th>4</th>\n",
       "      <td>0.333531</td>\n",
       "      <td>0.971228</td>\n",
       "      <td>0.799808</td>\n",
       "      <td>1.126827</td>\n",
       "    </tr>\n",
       "  </tbody>\n",
       "</table>\n",
       "</div>"
      ],
      "text/plain": [
       "          A         B         C         D\n",
       "0 -0.583475 -1.375807  1.001880 -1.358656\n",
       "1 -0.174062 -2.016642 -2.337390 -1.138774\n",
       "2  0.306088 -0.133891 -0.423254  0.481699\n",
       "3 -0.953409 -0.582066 -1.896932  0.676437\n",
       "4  0.333531  0.971228  0.799808  1.126827"
      ]
     },
     "execution_count": 10,
     "metadata": {},
     "output_type": "execute_result"
    }
   ],
   "source": [
    "#data\n",
    "df=pd.DataFrame(np.random.randn(100,4),columns='A B C D'.split())\n",
    "df.head()"
   ]
  },
  {
   "cell_type": "code",
   "execution_count": 21,
   "metadata": {},
   "outputs": [
    {
     "data": {
      "text/html": [
       "<div>\n",
       "<style scoped>\n",
       "    .dataframe tbody tr th:only-of-type {\n",
       "        vertical-align: middle;\n",
       "    }\n",
       "\n",
       "    .dataframe tbody tr th {\n",
       "        vertical-align: top;\n",
       "    }\n",
       "\n",
       "    .dataframe thead th {\n",
       "        text-align: right;\n",
       "    }\n",
       "</style>\n",
       "<table border=\"1\" class=\"dataframe\">\n",
       "  <thead>\n",
       "    <tr style=\"text-align: right;\">\n",
       "      <th></th>\n",
       "      <th>Category</th>\n",
       "      <th>Values</th>\n",
       "    </tr>\n",
       "  </thead>\n",
       "  <tbody>\n",
       "    <tr>\n",
       "      <th>0</th>\n",
       "      <td>A</td>\n",
       "      <td>32</td>\n",
       "    </tr>\n",
       "    <tr>\n",
       "      <th>1</th>\n",
       "      <td>B</td>\n",
       "      <td>43</td>\n",
       "    </tr>\n",
       "    <tr>\n",
       "      <th>2</th>\n",
       "      <td>C</td>\n",
       "      <td>50</td>\n",
       "    </tr>\n",
       "  </tbody>\n",
       "</table>\n",
       "</div>"
      ],
      "text/plain": [
       "  Category  Values\n",
       "0        A      32\n",
       "1        B      43\n",
       "2        C      50"
      ]
     },
     "execution_count": 21,
     "metadata": {},
     "output_type": "execute_result"
    }
   ],
   "source": [
    "df2=pd.DataFrame({'Category':['A','B','C'],'Values':[32,43,50]})\n",
    "df2"
   ]
  },
  {
   "cell_type": "code",
   "execution_count": 14,
   "metadata": {},
   "outputs": [
    {
     "data": {
      "application/vnd.plotly.v1+json": {
       "config": {
        "linkText": "Export to plot.ly",
        "plotlyServerURL": "https://plot.ly",
        "showLink": true
       },
       "data": [
        {
         "line": {
          "color": "rgba(255, 153, 51, 1.0)",
          "dash": "solid",
          "shape": "linear",
          "width": 1.3
         },
         "mode": "lines",
         "name": "A",
         "text": "",
         "type": "scatter",
         "x": [
          0,
          1,
          2,
          3,
          4,
          5,
          6,
          7,
          8,
          9,
          10,
          11,
          12,
          13,
          14,
          15,
          16,
          17,
          18,
          19,
          20,
          21,
          22,
          23,
          24,
          25,
          26,
          27,
          28,
          29,
          30,
          31,
          32,
          33,
          34,
          35,
          36,
          37,
          38,
          39,
          40,
          41,
          42,
          43,
          44,
          45,
          46,
          47,
          48,
          49,
          50,
          51,
          52,
          53,
          54,
          55,
          56,
          57,
          58,
          59,
          60,
          61,
          62,
          63,
          64,
          65,
          66,
          67,
          68,
          69,
          70,
          71,
          72,
          73,
          74,
          75,
          76,
          77,
          78,
          79,
          80,
          81,
          82,
          83,
          84,
          85,
          86,
          87,
          88,
          89,
          90,
          91,
          92,
          93,
          94,
          95,
          96,
          97,
          98,
          99
         ],
         "y": [
          -0.5834753383517299,
          -0.17406211351662937,
          0.3060879792029995,
          -0.9534093278803556,
          0.3335305517157785,
          -0.97208229715675,
          0.773922882267899,
          1.4949271133171107,
          0.8367814978013194,
          0.08308209603773245,
          1.182761740458536,
          0.49774685820127185,
          0.14198467055805747,
          -1.1355453476946098,
          1.011619431731822,
          -0.6353426447605321,
          -0.5424144198586475,
          -1.5756694152563402,
          1.2337366847436115,
          0.11368435771078347,
          -1.8603332979892468,
          -0.37908290090239266,
          -2.3952188064783204,
          0.8877427257916617,
          -0.7115630132230167,
          -1.9603833676408622,
          -0.28727568692696054,
          -1.1266536274403456,
          1.1008068413241312,
          0.9886964497727425,
          -0.5102809461243386,
          -0.26700043460695194,
          0.9015877446659447,
          -0.21081646226019637,
          2.7208289305974653,
          0.1416432945420239,
          0.04999158259603204,
          -0.5592081595503431,
          0.45281455512608043,
          -0.47627645727787193,
          1.207059439612465,
          0.4777022075082107,
          -1.026931705617259,
          -0.09326720728713248,
          -2.4491799906079867,
          -0.9669689841078734,
          0.39843192202660516,
          -1.601682430692205,
          -0.09730257947951387,
          0.705339489766667,
          -0.6885982039996992,
          0.6473742218943702,
          1.0899943898808402,
          -0.3672553912402756,
          0.3987603976761634,
          -0.19251739749906915,
          -0.6650279548408881,
          0.1609926421761508,
          0.5130893323136226,
          0.40379560486445404,
          1.5089011416060847,
          0.9171065596968837,
          -0.8461891366811787,
          1.0164246921459297,
          0.6682311222058028,
          -0.11500234092630772,
          1.5242086731479125,
          1.1030176443205182,
          -0.18787103995561596,
          -1.3538512726051395,
          0.8253066278166783,
          -0.3119693363687069,
          0.21814712315537818,
          -0.0735611122243912,
          -0.028292622673684212,
          -1.1577550791690683,
          1.3129945490002852,
          0.4300996259364016,
          -1.2300531873215208,
          0.2321272415931786,
          0.37983972009769645,
          -0.48843454037353673,
          -0.44977945445042544,
          1.6926048669377491,
          1.5476340525379164,
          0.9038064089580464,
          0.34345404520601236,
          -0.3738001536190124,
          1.0211207868093704,
          0.9146321683636861,
          -0.518458729915045,
          -1.2156051542720545,
          0.6405558740080012,
          -1.5203730953554544,
          0.23280630549747244,
          -1.2106399353868293,
          0.2511404517840312,
          1.66809342037484,
          -0.3742517195980744,
          -1.2245820489080763
         ]
        },
        {
         "line": {
          "color": "rgba(55, 128, 191, 1.0)",
          "dash": "solid",
          "shape": "linear",
          "width": 1.3
         },
         "mode": "lines",
         "name": "B",
         "text": "",
         "type": "scatter",
         "x": [
          0,
          1,
          2,
          3,
          4,
          5,
          6,
          7,
          8,
          9,
          10,
          11,
          12,
          13,
          14,
          15,
          16,
          17,
          18,
          19,
          20,
          21,
          22,
          23,
          24,
          25,
          26,
          27,
          28,
          29,
          30,
          31,
          32,
          33,
          34,
          35,
          36,
          37,
          38,
          39,
          40,
          41,
          42,
          43,
          44,
          45,
          46,
          47,
          48,
          49,
          50,
          51,
          52,
          53,
          54,
          55,
          56,
          57,
          58,
          59,
          60,
          61,
          62,
          63,
          64,
          65,
          66,
          67,
          68,
          69,
          70,
          71,
          72,
          73,
          74,
          75,
          76,
          77,
          78,
          79,
          80,
          81,
          82,
          83,
          84,
          85,
          86,
          87,
          88,
          89,
          90,
          91,
          92,
          93,
          94,
          95,
          96,
          97,
          98,
          99
         ],
         "y": [
          -1.3758072804282802,
          -2.0166423275795045,
          -0.1338910600221726,
          -0.5820663677732987,
          0.9712282596893289,
          0.04856414782439493,
          -1.6446518762072733,
          -0.9421467336068651,
          0.21954059186296845,
          0.36807439477449627,
          -0.3654460240432651,
          -0.8881757488822261,
          1.1359574308252038,
          1.784248095321167,
          -2.230174327763357,
          -0.9096345705300771,
          0.058131826476081325,
          0.49564915635896856,
          0.9955580219566825,
          0.9416554478215717,
          0.501777796879372,
          0.5832116202465111,
          0.07587249397032425,
          -1.3196824810937708,
          0.4830791708975699,
          -1.374253540092365,
          -0.5760286311195967,
          0.7116952836336254,
          -0.3114529511132174,
          -0.4000450842140983,
          0.04992534906556205,
          1.954807728032101,
          0.13171389071864884,
          -0.033496919366209084,
          -0.49088708243273443,
          -0.32917951662922473,
          -0.6357922655639845,
          0.01910882388183459,
          0.6605981182143601,
          0.2871073718275956,
          -0.7967523017727124,
          1.2749217387718361,
          -1.0184090272611115,
          -0.30776517663371084,
          -1.3835687056089345,
          -0.9589418851101955,
          0.8388110623238367,
          -0.8262275451330596,
          -1.8834577989862957,
          0.5672824330131843,
          1.5196434832141326,
          -0.9864345081943736,
          -0.09831683886884271,
          -0.4837052077847503,
          1.2148627172318998,
          -0.8692477403189863,
          -2.145542147953029,
          -1.026863204622045,
          0.5759905082069539,
          -0.08525962897285295,
          0.1994816415925022,
          0.29053581455171307,
          1.6111189999118847,
          -0.8918623381139243,
          0.757880123902853,
          -0.9228502119583749,
          0.2614246572476863,
          -1.4678941893578006,
          -1.7208349749814054,
          -1.188026523351157,
          -1.3120013569153754,
          -0.26774879333661716,
          -0.8918948740304229,
          -1.8768343945216002,
          0.5804338332708612,
          -0.506169023116886,
          -0.25771991196350186,
          -1.891780200402067,
          -0.90439014692466,
          -0.6309894908570972,
          -2.07726520770258,
          0.44560260665169893,
          0.36344301847922245,
          -0.9338476374001575,
          -0.7805318229279821,
          -1.4284991217257477,
          -1.5086579661524255,
          -0.01569096789541602,
          -2.1206884425801995,
          -1.971641489490636,
          -0.16318933968466018,
          0.26430296290179456,
          -0.9783848110025019,
          -0.8944221474552131,
          0.4463550575217183,
          0.9586322265346929,
          -0.5716261211754448,
          0.9428186601187796,
          -1.6636587907084162,
          -0.14151351627318537
         ]
        },
        {
         "line": {
          "color": "rgba(50, 171, 96, 1.0)",
          "dash": "solid",
          "shape": "linear",
          "width": 1.3
         },
         "mode": "lines",
         "name": "C",
         "text": "",
         "type": "scatter",
         "x": [
          0,
          1,
          2,
          3,
          4,
          5,
          6,
          7,
          8,
          9,
          10,
          11,
          12,
          13,
          14,
          15,
          16,
          17,
          18,
          19,
          20,
          21,
          22,
          23,
          24,
          25,
          26,
          27,
          28,
          29,
          30,
          31,
          32,
          33,
          34,
          35,
          36,
          37,
          38,
          39,
          40,
          41,
          42,
          43,
          44,
          45,
          46,
          47,
          48,
          49,
          50,
          51,
          52,
          53,
          54,
          55,
          56,
          57,
          58,
          59,
          60,
          61,
          62,
          63,
          64,
          65,
          66,
          67,
          68,
          69,
          70,
          71,
          72,
          73,
          74,
          75,
          76,
          77,
          78,
          79,
          80,
          81,
          82,
          83,
          84,
          85,
          86,
          87,
          88,
          89,
          90,
          91,
          92,
          93,
          94,
          95,
          96,
          97,
          98,
          99
         ],
         "y": [
          1.0018795416454491,
          -2.337390086103986,
          -0.4232539974018757,
          -1.8969316747463965,
          0.7998081641187528,
          -0.3661949850561008,
          -1.0181639947152596,
          -0.11585982965963165,
          0.8472399266545323,
          0.43788030425939717,
          -0.663764784381059,
          -0.7337123337610191,
          1.4548197863516765,
          -0.42418631146704205,
          -0.2545716351889039,
          0.5366989835326802,
          0.36605335363143343,
          -1.4143036007630514,
          1.5221013213507886,
          0.7791456306917478,
          0.23025246545213834,
          -1.8638969248337085,
          -1.6884893644211625,
          -0.045487154963125165,
          -0.801121406292604,
          0.0547559143145917,
          0.545183512897039,
          -0.724015990081383,
          0.06573202885491526,
          1.6498167190416173,
          0.6533000011435984,
          -0.5587155424933851,
          -1.7109782094864845,
          2.203279978897059,
          -1.2458021051215071,
          0.7884115134544288,
          -2.1775179047299407,
          -1.2627256229473947,
          1.8817286080299984,
          0.4368373756387097,
          1.7706549361056712,
          0.6526038916660498,
          -0.32547051254043496,
          0.5741831449609582,
          -2.043115613867004,
          0.15453730277501193,
          -0.6087453202889653,
          0.8695799883309445,
          -0.8609126079247554,
          0.9312292205742623,
          0.9033553738916221,
          -1.8349477525385487,
          0.05234757707374364,
          -0.07264521518900441,
          -2.289836482394134,
          -1.6493967640659406,
          -0.482197393675575,
          -1.1391850183853196,
          0.27952172855246427,
          -0.24730382546811683,
          1.4330576241904138,
          1.052331922367535,
          0.13068002155250746,
          -0.607376113375024,
          0.3910918792553487,
          -0.8556328435345957,
          0.41913087940142013,
          -0.35323768409171563,
          1.0702506121182342,
          -1.1916818045776487,
          -0.1925503665005978,
          -0.877017495740593,
          -0.823621667252424,
          -1.3373927643971992,
          -0.6974293794909958,
          -0.941557903733586,
          0.4734217251518457,
          1.760748122282674,
          -0.05527878596913308,
          -1.0481418298737724,
          -1.5224723426836864,
          -0.5445950686677371,
          -1.018327795899508,
          -1.6454156901822734,
          -1.0439229011320366,
          1.226138672249239,
          1.648029568633649,
          1.6132974530492734,
          -0.4729133085871159,
          -0.3224150454961992,
          0.12450040090001759,
          -1.4789057463124318,
          -0.03375216725478918,
          1.5198674300593413,
          -0.7337586002507553,
          1.0376640654837075,
          0.5459608141126524,
          0.5766045985211756,
          0.1707602039956786,
          0.5665018422576403
         ]
        },
        {
         "line": {
          "color": "rgba(128, 0, 128, 1.0)",
          "dash": "solid",
          "shape": "linear",
          "width": 1.3
         },
         "mode": "lines",
         "name": "D",
         "text": "",
         "type": "scatter",
         "x": [
          0,
          1,
          2,
          3,
          4,
          5,
          6,
          7,
          8,
          9,
          10,
          11,
          12,
          13,
          14,
          15,
          16,
          17,
          18,
          19,
          20,
          21,
          22,
          23,
          24,
          25,
          26,
          27,
          28,
          29,
          30,
          31,
          32,
          33,
          34,
          35,
          36,
          37,
          38,
          39,
          40,
          41,
          42,
          43,
          44,
          45,
          46,
          47,
          48,
          49,
          50,
          51,
          52,
          53,
          54,
          55,
          56,
          57,
          58,
          59,
          60,
          61,
          62,
          63,
          64,
          65,
          66,
          67,
          68,
          69,
          70,
          71,
          72,
          73,
          74,
          75,
          76,
          77,
          78,
          79,
          80,
          81,
          82,
          83,
          84,
          85,
          86,
          87,
          88,
          89,
          90,
          91,
          92,
          93,
          94,
          95,
          96,
          97,
          98,
          99
         ],
         "y": [
          -1.3586555500283932,
          -1.1387743176844167,
          0.48169938159576325,
          0.6764372067302944,
          1.1268266747347202,
          0.6057252710507862,
          -0.7513219741686743,
          0.005702313957507184,
          1.4308791760663617,
          1.2005966764227556,
          -0.9875278942485363,
          0.5808660913976754,
          1.4287941005077174,
          0.4620702301387893,
          1.0572734196064548,
          -1.1002913127709155,
          -0.1315515667924692,
          -1.1392566067659655,
          0.07229281640598588,
          -0.5333057149292395,
          0.5816100203393103,
          1.306026153751653,
          1.0195678806161312,
          0.2888420412161623,
          -0.4433382139973612,
          -0.3454345344832595,
          0.35534312460924733,
          -0.43117020195967376,
          -1.5045558829863606,
          -0.1815616314116132,
          -0.4368063742518326,
          -0.22620381140298199,
          0.08720459040528854,
          0.5678243149791222,
          0.5881222446895752,
          0.7480451633782648,
          -1.32794689771268,
          -0.3778143059967874,
          0.16147452672508367,
          0.06410447160154711,
          -0.379738719597055,
          0.39967835730081835,
          0.14216477357882099,
          0.5571022162046607,
          -1.231042034691143,
          0.17497112618671276,
          -0.23977151229832572,
          0.3895289261776583,
          -0.25526591619421546,
          -0.19963109923025427,
          1.1232157056995562,
          -1.3454744427361949,
          -0.9443758475972888,
          0.10462002783908171,
          -0.21414108255498263,
          -0.013631441599426721,
          0.25542382679462305,
          -0.042489116778872876,
          2.223297765291669,
          1.4438772399384525,
          0.3357163929448841,
          1.2836072157745464,
          1.5871881561554102,
          1.3498649620194312,
          -0.1950754533526257,
          -0.3423773505787837,
          1.205801770483136,
          -1.4535643076134128,
          -0.11707550596919053,
          -0.07076833743694082,
          0.05183565834795385,
          -0.6962317336833402,
          -0.2965689315021597,
          -0.4802740478324376,
          1.6212754882155525,
          -0.6149308986561066,
          0.14122511601298043,
          -1.4253659454394587,
          -0.16682763283868907,
          -0.2522594661264877,
          0.6016714218645476,
          2.431213897315591,
          1.4180976108862766,
          1.4556917676318628,
          -0.4258864761956951,
          0.6942935605645597,
          0.8682132087462273,
          0.038312944846510065,
          0.26163123834069224,
          0.3408182247581353,
          2.1254219393308467,
          -0.15326156703769878,
          0.5757955269280755,
          2.017680954544086,
          -0.6816594733685633,
          0.011130112560700777,
          0.8960972114035543,
          -0.6479458737519347,
          -0.6154386787320508,
          -0.5344839718555876
         ]
        }
       ],
       "layout": {
        "legend": {
         "bgcolor": "#F5F6F9",
         "font": {
          "color": "#4D5663"
         }
        },
        "paper_bgcolor": "#F5F6F9",
        "plot_bgcolor": "#F5F6F9",
        "template": {
         "data": {
          "bar": [
           {
            "error_x": {
             "color": "#2a3f5f"
            },
            "error_y": {
             "color": "#2a3f5f"
            },
            "marker": {
             "line": {
              "color": "#E5ECF6",
              "width": 0.5
             }
            },
            "type": "bar"
           }
          ],
          "barpolar": [
           {
            "marker": {
             "line": {
              "color": "#E5ECF6",
              "width": 0.5
             }
            },
            "type": "barpolar"
           }
          ],
          "carpet": [
           {
            "aaxis": {
             "endlinecolor": "#2a3f5f",
             "gridcolor": "white",
             "linecolor": "white",
             "minorgridcolor": "white",
             "startlinecolor": "#2a3f5f"
            },
            "baxis": {
             "endlinecolor": "#2a3f5f",
             "gridcolor": "white",
             "linecolor": "white",
             "minorgridcolor": "white",
             "startlinecolor": "#2a3f5f"
            },
            "type": "carpet"
           }
          ],
          "choropleth": [
           {
            "colorbar": {
             "outlinewidth": 0,
             "ticks": ""
            },
            "type": "choropleth"
           }
          ],
          "contour": [
           {
            "colorbar": {
             "outlinewidth": 0,
             "ticks": ""
            },
            "colorscale": [
             [
              0,
              "#0d0887"
             ],
             [
              0.1111111111111111,
              "#46039f"
             ],
             [
              0.2222222222222222,
              "#7201a8"
             ],
             [
              0.3333333333333333,
              "#9c179e"
             ],
             [
              0.4444444444444444,
              "#bd3786"
             ],
             [
              0.5555555555555556,
              "#d8576b"
             ],
             [
              0.6666666666666666,
              "#ed7953"
             ],
             [
              0.7777777777777778,
              "#fb9f3a"
             ],
             [
              0.8888888888888888,
              "#fdca26"
             ],
             [
              1,
              "#f0f921"
             ]
            ],
            "type": "contour"
           }
          ],
          "contourcarpet": [
           {
            "colorbar": {
             "outlinewidth": 0,
             "ticks": ""
            },
            "type": "contourcarpet"
           }
          ],
          "heatmap": [
           {
            "colorbar": {
             "outlinewidth": 0,
             "ticks": ""
            },
            "colorscale": [
             [
              0,
              "#0d0887"
             ],
             [
              0.1111111111111111,
              "#46039f"
             ],
             [
              0.2222222222222222,
              "#7201a8"
             ],
             [
              0.3333333333333333,
              "#9c179e"
             ],
             [
              0.4444444444444444,
              "#bd3786"
             ],
             [
              0.5555555555555556,
              "#d8576b"
             ],
             [
              0.6666666666666666,
              "#ed7953"
             ],
             [
              0.7777777777777778,
              "#fb9f3a"
             ],
             [
              0.8888888888888888,
              "#fdca26"
             ],
             [
              1,
              "#f0f921"
             ]
            ],
            "type": "heatmap"
           }
          ],
          "heatmapgl": [
           {
            "colorbar": {
             "outlinewidth": 0,
             "ticks": ""
            },
            "colorscale": [
             [
              0,
              "#0d0887"
             ],
             [
              0.1111111111111111,
              "#46039f"
             ],
             [
              0.2222222222222222,
              "#7201a8"
             ],
             [
              0.3333333333333333,
              "#9c179e"
             ],
             [
              0.4444444444444444,
              "#bd3786"
             ],
             [
              0.5555555555555556,
              "#d8576b"
             ],
             [
              0.6666666666666666,
              "#ed7953"
             ],
             [
              0.7777777777777778,
              "#fb9f3a"
             ],
             [
              0.8888888888888888,
              "#fdca26"
             ],
             [
              1,
              "#f0f921"
             ]
            ],
            "type": "heatmapgl"
           }
          ],
          "histogram": [
           {
            "marker": {
             "colorbar": {
              "outlinewidth": 0,
              "ticks": ""
             }
            },
            "type": "histogram"
           }
          ],
          "histogram2d": [
           {
            "colorbar": {
             "outlinewidth": 0,
             "ticks": ""
            },
            "colorscale": [
             [
              0,
              "#0d0887"
             ],
             [
              0.1111111111111111,
              "#46039f"
             ],
             [
              0.2222222222222222,
              "#7201a8"
             ],
             [
              0.3333333333333333,
              "#9c179e"
             ],
             [
              0.4444444444444444,
              "#bd3786"
             ],
             [
              0.5555555555555556,
              "#d8576b"
             ],
             [
              0.6666666666666666,
              "#ed7953"
             ],
             [
              0.7777777777777778,
              "#fb9f3a"
             ],
             [
              0.8888888888888888,
              "#fdca26"
             ],
             [
              1,
              "#f0f921"
             ]
            ],
            "type": "histogram2d"
           }
          ],
          "histogram2dcontour": [
           {
            "colorbar": {
             "outlinewidth": 0,
             "ticks": ""
            },
            "colorscale": [
             [
              0,
              "#0d0887"
             ],
             [
              0.1111111111111111,
              "#46039f"
             ],
             [
              0.2222222222222222,
              "#7201a8"
             ],
             [
              0.3333333333333333,
              "#9c179e"
             ],
             [
              0.4444444444444444,
              "#bd3786"
             ],
             [
              0.5555555555555556,
              "#d8576b"
             ],
             [
              0.6666666666666666,
              "#ed7953"
             ],
             [
              0.7777777777777778,
              "#fb9f3a"
             ],
             [
              0.8888888888888888,
              "#fdca26"
             ],
             [
              1,
              "#f0f921"
             ]
            ],
            "type": "histogram2dcontour"
           }
          ],
          "mesh3d": [
           {
            "colorbar": {
             "outlinewidth": 0,
             "ticks": ""
            },
            "type": "mesh3d"
           }
          ],
          "parcoords": [
           {
            "line": {
             "colorbar": {
              "outlinewidth": 0,
              "ticks": ""
             }
            },
            "type": "parcoords"
           }
          ],
          "pie": [
           {
            "automargin": true,
            "type": "pie"
           }
          ],
          "scatter": [
           {
            "marker": {
             "colorbar": {
              "outlinewidth": 0,
              "ticks": ""
             }
            },
            "type": "scatter"
           }
          ],
          "scatter3d": [
           {
            "line": {
             "colorbar": {
              "outlinewidth": 0,
              "ticks": ""
             }
            },
            "marker": {
             "colorbar": {
              "outlinewidth": 0,
              "ticks": ""
             }
            },
            "type": "scatter3d"
           }
          ],
          "scattercarpet": [
           {
            "marker": {
             "colorbar": {
              "outlinewidth": 0,
              "ticks": ""
             }
            },
            "type": "scattercarpet"
           }
          ],
          "scattergeo": [
           {
            "marker": {
             "colorbar": {
              "outlinewidth": 0,
              "ticks": ""
             }
            },
            "type": "scattergeo"
           }
          ],
          "scattergl": [
           {
            "marker": {
             "colorbar": {
              "outlinewidth": 0,
              "ticks": ""
             }
            },
            "type": "scattergl"
           }
          ],
          "scattermapbox": [
           {
            "marker": {
             "colorbar": {
              "outlinewidth": 0,
              "ticks": ""
             }
            },
            "type": "scattermapbox"
           }
          ],
          "scatterpolar": [
           {
            "marker": {
             "colorbar": {
              "outlinewidth": 0,
              "ticks": ""
             }
            },
            "type": "scatterpolar"
           }
          ],
          "scatterpolargl": [
           {
            "marker": {
             "colorbar": {
              "outlinewidth": 0,
              "ticks": ""
             }
            },
            "type": "scatterpolargl"
           }
          ],
          "scatterternary": [
           {
            "marker": {
             "colorbar": {
              "outlinewidth": 0,
              "ticks": ""
             }
            },
            "type": "scatterternary"
           }
          ],
          "surface": [
           {
            "colorbar": {
             "outlinewidth": 0,
             "ticks": ""
            },
            "colorscale": [
             [
              0,
              "#0d0887"
             ],
             [
              0.1111111111111111,
              "#46039f"
             ],
             [
              0.2222222222222222,
              "#7201a8"
             ],
             [
              0.3333333333333333,
              "#9c179e"
             ],
             [
              0.4444444444444444,
              "#bd3786"
             ],
             [
              0.5555555555555556,
              "#d8576b"
             ],
             [
              0.6666666666666666,
              "#ed7953"
             ],
             [
              0.7777777777777778,
              "#fb9f3a"
             ],
             [
              0.8888888888888888,
              "#fdca26"
             ],
             [
              1,
              "#f0f921"
             ]
            ],
            "type": "surface"
           }
          ],
          "table": [
           {
            "cells": {
             "fill": {
              "color": "#EBF0F8"
             },
             "line": {
              "color": "white"
             }
            },
            "header": {
             "fill": {
              "color": "#C8D4E3"
             },
             "line": {
              "color": "white"
             }
            },
            "type": "table"
           }
          ]
         },
         "layout": {
          "annotationdefaults": {
           "arrowcolor": "#2a3f5f",
           "arrowhead": 0,
           "arrowwidth": 1
          },
          "autotypenumbers": "strict",
          "coloraxis": {
           "colorbar": {
            "outlinewidth": 0,
            "ticks": ""
           }
          },
          "colorscale": {
           "diverging": [
            [
             0,
             "#8e0152"
            ],
            [
             0.1,
             "#c51b7d"
            ],
            [
             0.2,
             "#de77ae"
            ],
            [
             0.3,
             "#f1b6da"
            ],
            [
             0.4,
             "#fde0ef"
            ],
            [
             0.5,
             "#f7f7f7"
            ],
            [
             0.6,
             "#e6f5d0"
            ],
            [
             0.7,
             "#b8e186"
            ],
            [
             0.8,
             "#7fbc41"
            ],
            [
             0.9,
             "#4d9221"
            ],
            [
             1,
             "#276419"
            ]
           ],
           "sequential": [
            [
             0,
             "#0d0887"
            ],
            [
             0.1111111111111111,
             "#46039f"
            ],
            [
             0.2222222222222222,
             "#7201a8"
            ],
            [
             0.3333333333333333,
             "#9c179e"
            ],
            [
             0.4444444444444444,
             "#bd3786"
            ],
            [
             0.5555555555555556,
             "#d8576b"
            ],
            [
             0.6666666666666666,
             "#ed7953"
            ],
            [
             0.7777777777777778,
             "#fb9f3a"
            ],
            [
             0.8888888888888888,
             "#fdca26"
            ],
            [
             1,
             "#f0f921"
            ]
           ],
           "sequentialminus": [
            [
             0,
             "#0d0887"
            ],
            [
             0.1111111111111111,
             "#46039f"
            ],
            [
             0.2222222222222222,
             "#7201a8"
            ],
            [
             0.3333333333333333,
             "#9c179e"
            ],
            [
             0.4444444444444444,
             "#bd3786"
            ],
            [
             0.5555555555555556,
             "#d8576b"
            ],
            [
             0.6666666666666666,
             "#ed7953"
            ],
            [
             0.7777777777777778,
             "#fb9f3a"
            ],
            [
             0.8888888888888888,
             "#fdca26"
            ],
            [
             1,
             "#f0f921"
            ]
           ]
          },
          "colorway": [
           "#636efa",
           "#EF553B",
           "#00cc96",
           "#ab63fa",
           "#FFA15A",
           "#19d3f3",
           "#FF6692",
           "#B6E880",
           "#FF97FF",
           "#FECB52"
          ],
          "font": {
           "color": "#2a3f5f"
          },
          "geo": {
           "bgcolor": "white",
           "lakecolor": "white",
           "landcolor": "#E5ECF6",
           "showlakes": true,
           "showland": true,
           "subunitcolor": "white"
          },
          "hoverlabel": {
           "align": "left"
          },
          "hovermode": "closest",
          "mapbox": {
           "style": "light"
          },
          "paper_bgcolor": "white",
          "plot_bgcolor": "#E5ECF6",
          "polar": {
           "angularaxis": {
            "gridcolor": "white",
            "linecolor": "white",
            "ticks": ""
           },
           "bgcolor": "#E5ECF6",
           "radialaxis": {
            "gridcolor": "white",
            "linecolor": "white",
            "ticks": ""
           }
          },
          "scene": {
           "xaxis": {
            "backgroundcolor": "#E5ECF6",
            "gridcolor": "white",
            "gridwidth": 2,
            "linecolor": "white",
            "showbackground": true,
            "ticks": "",
            "zerolinecolor": "white"
           },
           "yaxis": {
            "backgroundcolor": "#E5ECF6",
            "gridcolor": "white",
            "gridwidth": 2,
            "linecolor": "white",
            "showbackground": true,
            "ticks": "",
            "zerolinecolor": "white"
           },
           "zaxis": {
            "backgroundcolor": "#E5ECF6",
            "gridcolor": "white",
            "gridwidth": 2,
            "linecolor": "white",
            "showbackground": true,
            "ticks": "",
            "zerolinecolor": "white"
           }
          },
          "shapedefaults": {
           "line": {
            "color": "#2a3f5f"
           }
          },
          "ternary": {
           "aaxis": {
            "gridcolor": "white",
            "linecolor": "white",
            "ticks": ""
           },
           "baxis": {
            "gridcolor": "white",
            "linecolor": "white",
            "ticks": ""
           },
           "bgcolor": "#E5ECF6",
           "caxis": {
            "gridcolor": "white",
            "linecolor": "white",
            "ticks": ""
           }
          },
          "title": {
           "x": 0.05
          },
          "xaxis": {
           "automargin": true,
           "gridcolor": "white",
           "linecolor": "white",
           "ticks": "",
           "title": {
            "standoff": 15
           },
           "zerolinecolor": "white",
           "zerolinewidth": 2
          },
          "yaxis": {
           "automargin": true,
           "gridcolor": "white",
           "linecolor": "white",
           "ticks": "",
           "title": {
            "standoff": 15
           },
           "zerolinecolor": "white",
           "zerolinewidth": 2
          }
         }
        },
        "title": {
         "font": {
          "color": "#4D5663"
         }
        },
        "xaxis": {
         "gridcolor": "#E1E5ED",
         "showgrid": true,
         "tickfont": {
          "color": "#4D5663"
         },
         "title": {
          "font": {
           "color": "#4D5663"
          },
          "text": ""
         },
         "zerolinecolor": "#E1E5ED"
        },
        "yaxis": {
         "gridcolor": "#E1E5ED",
         "showgrid": true,
         "tickfont": {
          "color": "#4D5663"
         },
         "title": {
          "font": {
           "color": "#4D5663"
          },
          "text": ""
         },
         "zerolinecolor": "#E1E5ED"
        }
       }
      },
      "text/html": [
       "<div>                            <div id=\"ed05a441-b4f6-4a99-8a21-6f0e18bd333f\" class=\"plotly-graph-div\" style=\"height:525px; width:100%;\"></div>            <script type=\"text/javascript\">                require([\"plotly\"], function(Plotly) {                    window.PLOTLYENV=window.PLOTLYENV || {};\n",
       "                    window.PLOTLYENV.BASE_URL='https://plot.ly';                                    if (document.getElementById(\"ed05a441-b4f6-4a99-8a21-6f0e18bd333f\")) {                    Plotly.newPlot(                        \"ed05a441-b4f6-4a99-8a21-6f0e18bd333f\",                        [{\"line\": {\"color\": \"rgba(255, 153, 51, 1.0)\", \"dash\": \"solid\", \"shape\": \"linear\", \"width\": 1.3}, \"mode\": \"lines\", \"name\": \"A\", \"text\": \"\", \"type\": \"scatter\", \"x\": [0, 1, 2, 3, 4, 5, 6, 7, 8, 9, 10, 11, 12, 13, 14, 15, 16, 17, 18, 19, 20, 21, 22, 23, 24, 25, 26, 27, 28, 29, 30, 31, 32, 33, 34, 35, 36, 37, 38, 39, 40, 41, 42, 43, 44, 45, 46, 47, 48, 49, 50, 51, 52, 53, 54, 55, 56, 57, 58, 59, 60, 61, 62, 63, 64, 65, 66, 67, 68, 69, 70, 71, 72, 73, 74, 75, 76, 77, 78, 79, 80, 81, 82, 83, 84, 85, 86, 87, 88, 89, 90, 91, 92, 93, 94, 95, 96, 97, 98, 99], \"y\": [-0.5834753383517299, -0.17406211351662937, 0.3060879792029995, -0.9534093278803556, 0.3335305517157785, -0.97208229715675, 0.773922882267899, 1.4949271133171107, 0.8367814978013194, 0.08308209603773245, 1.182761740458536, 0.49774685820127185, 0.14198467055805747, -1.1355453476946098, 1.011619431731822, -0.6353426447605321, -0.5424144198586475, -1.5756694152563402, 1.2337366847436115, 0.11368435771078347, -1.8603332979892468, -0.37908290090239266, -2.3952188064783204, 0.8877427257916617, -0.7115630132230167, -1.9603833676408622, -0.28727568692696054, -1.1266536274403456, 1.1008068413241312, 0.9886964497727425, -0.5102809461243386, -0.26700043460695194, 0.9015877446659447, -0.21081646226019637, 2.7208289305974653, 0.1416432945420239, 0.04999158259603204, -0.5592081595503431, 0.45281455512608043, -0.47627645727787193, 1.207059439612465, 0.4777022075082107, -1.026931705617259, -0.09326720728713248, -2.4491799906079867, -0.9669689841078734, 0.39843192202660516, -1.601682430692205, -0.09730257947951387, 0.705339489766667, -0.6885982039996992, 0.6473742218943702, 1.0899943898808402, -0.3672553912402756, 0.3987603976761634, -0.19251739749906915, -0.6650279548408881, 0.1609926421761508, 0.5130893323136226, 0.40379560486445404, 1.5089011416060847, 0.9171065596968837, -0.8461891366811787, 1.0164246921459297, 0.6682311222058028, -0.11500234092630772, 1.5242086731479125, 1.1030176443205182, -0.18787103995561596, -1.3538512726051395, 0.8253066278166783, -0.3119693363687069, 0.21814712315537818, -0.0735611122243912, -0.028292622673684212, -1.1577550791690683, 1.3129945490002852, 0.4300996259364016, -1.2300531873215208, 0.2321272415931786, 0.37983972009769645, -0.48843454037353673, -0.44977945445042544, 1.6926048669377491, 1.5476340525379164, 0.9038064089580464, 0.34345404520601236, -0.3738001536190124, 1.0211207868093704, 0.9146321683636861, -0.518458729915045, -1.2156051542720545, 0.6405558740080012, -1.5203730953554544, 0.23280630549747244, -1.2106399353868293, 0.2511404517840312, 1.66809342037484, -0.3742517195980744, -1.2245820489080763]}, {\"line\": {\"color\": \"rgba(55, 128, 191, 1.0)\", \"dash\": \"solid\", \"shape\": \"linear\", \"width\": 1.3}, \"mode\": \"lines\", \"name\": \"B\", \"text\": \"\", \"type\": \"scatter\", \"x\": [0, 1, 2, 3, 4, 5, 6, 7, 8, 9, 10, 11, 12, 13, 14, 15, 16, 17, 18, 19, 20, 21, 22, 23, 24, 25, 26, 27, 28, 29, 30, 31, 32, 33, 34, 35, 36, 37, 38, 39, 40, 41, 42, 43, 44, 45, 46, 47, 48, 49, 50, 51, 52, 53, 54, 55, 56, 57, 58, 59, 60, 61, 62, 63, 64, 65, 66, 67, 68, 69, 70, 71, 72, 73, 74, 75, 76, 77, 78, 79, 80, 81, 82, 83, 84, 85, 86, 87, 88, 89, 90, 91, 92, 93, 94, 95, 96, 97, 98, 99], \"y\": [-1.3758072804282802, -2.0166423275795045, -0.1338910600221726, -0.5820663677732987, 0.9712282596893289, 0.04856414782439493, -1.6446518762072733, -0.9421467336068651, 0.21954059186296845, 0.36807439477449627, -0.3654460240432651, -0.8881757488822261, 1.1359574308252038, 1.784248095321167, -2.230174327763357, -0.9096345705300771, 0.058131826476081325, 0.49564915635896856, 0.9955580219566825, 0.9416554478215717, 0.501777796879372, 0.5832116202465111, 0.07587249397032425, -1.3196824810937708, 0.4830791708975699, -1.374253540092365, -0.5760286311195967, 0.7116952836336254, -0.3114529511132174, -0.4000450842140983, 0.04992534906556205, 1.954807728032101, 0.13171389071864884, -0.033496919366209084, -0.49088708243273443, -0.32917951662922473, -0.6357922655639845, 0.01910882388183459, 0.6605981182143601, 0.2871073718275956, -0.7967523017727124, 1.2749217387718361, -1.0184090272611115, -0.30776517663371084, -1.3835687056089345, -0.9589418851101955, 0.8388110623238367, -0.8262275451330596, -1.8834577989862957, 0.5672824330131843, 1.5196434832141326, -0.9864345081943736, -0.09831683886884271, -0.4837052077847503, 1.2148627172318998, -0.8692477403189863, -2.145542147953029, -1.026863204622045, 0.5759905082069539, -0.08525962897285295, 0.1994816415925022, 0.29053581455171307, 1.6111189999118847, -0.8918623381139243, 0.757880123902853, -0.9228502119583749, 0.2614246572476863, -1.4678941893578006, -1.7208349749814054, -1.188026523351157, -1.3120013569153754, -0.26774879333661716, -0.8918948740304229, -1.8768343945216002, 0.5804338332708612, -0.506169023116886, -0.25771991196350186, -1.891780200402067, -0.90439014692466, -0.6309894908570972, -2.07726520770258, 0.44560260665169893, 0.36344301847922245, -0.9338476374001575, -0.7805318229279821, -1.4284991217257477, -1.5086579661524255, -0.01569096789541602, -2.1206884425801995, -1.971641489490636, -0.16318933968466018, 0.26430296290179456, -0.9783848110025019, -0.8944221474552131, 0.4463550575217183, 0.9586322265346929, -0.5716261211754448, 0.9428186601187796, -1.6636587907084162, -0.14151351627318537]}, {\"line\": {\"color\": \"rgba(50, 171, 96, 1.0)\", \"dash\": \"solid\", \"shape\": \"linear\", \"width\": 1.3}, \"mode\": \"lines\", \"name\": \"C\", \"text\": \"\", \"type\": \"scatter\", \"x\": [0, 1, 2, 3, 4, 5, 6, 7, 8, 9, 10, 11, 12, 13, 14, 15, 16, 17, 18, 19, 20, 21, 22, 23, 24, 25, 26, 27, 28, 29, 30, 31, 32, 33, 34, 35, 36, 37, 38, 39, 40, 41, 42, 43, 44, 45, 46, 47, 48, 49, 50, 51, 52, 53, 54, 55, 56, 57, 58, 59, 60, 61, 62, 63, 64, 65, 66, 67, 68, 69, 70, 71, 72, 73, 74, 75, 76, 77, 78, 79, 80, 81, 82, 83, 84, 85, 86, 87, 88, 89, 90, 91, 92, 93, 94, 95, 96, 97, 98, 99], \"y\": [1.0018795416454491, -2.337390086103986, -0.4232539974018757, -1.8969316747463965, 0.7998081641187528, -0.3661949850561008, -1.0181639947152596, -0.11585982965963165, 0.8472399266545323, 0.43788030425939717, -0.663764784381059, -0.7337123337610191, 1.4548197863516765, -0.42418631146704205, -0.2545716351889039, 0.5366989835326802, 0.36605335363143343, -1.4143036007630514, 1.5221013213507886, 0.7791456306917478, 0.23025246545213834, -1.8638969248337085, -1.6884893644211625, -0.045487154963125165, -0.801121406292604, 0.0547559143145917, 0.545183512897039, -0.724015990081383, 0.06573202885491526, 1.6498167190416173, 0.6533000011435984, -0.5587155424933851, -1.7109782094864845, 2.203279978897059, -1.2458021051215071, 0.7884115134544288, -2.1775179047299407, -1.2627256229473947, 1.8817286080299984, 0.4368373756387097, 1.7706549361056712, 0.6526038916660498, -0.32547051254043496, 0.5741831449609582, -2.043115613867004, 0.15453730277501193, -0.6087453202889653, 0.8695799883309445, -0.8609126079247554, 0.9312292205742623, 0.9033553738916221, -1.8349477525385487, 0.05234757707374364, -0.07264521518900441, -2.289836482394134, -1.6493967640659406, -0.482197393675575, -1.1391850183853196, 0.27952172855246427, -0.24730382546811683, 1.4330576241904138, 1.052331922367535, 0.13068002155250746, -0.607376113375024, 0.3910918792553487, -0.8556328435345957, 0.41913087940142013, -0.35323768409171563, 1.0702506121182342, -1.1916818045776487, -0.1925503665005978, -0.877017495740593, -0.823621667252424, -1.3373927643971992, -0.6974293794909958, -0.941557903733586, 0.4734217251518457, 1.760748122282674, -0.05527878596913308, -1.0481418298737724, -1.5224723426836864, -0.5445950686677371, -1.018327795899508, -1.6454156901822734, -1.0439229011320366, 1.226138672249239, 1.648029568633649, 1.6132974530492734, -0.4729133085871159, -0.3224150454961992, 0.12450040090001759, -1.4789057463124318, -0.03375216725478918, 1.5198674300593413, -0.7337586002507553, 1.0376640654837075, 0.5459608141126524, 0.5766045985211756, 0.1707602039956786, 0.5665018422576403]}, {\"line\": {\"color\": \"rgba(128, 0, 128, 1.0)\", \"dash\": \"solid\", \"shape\": \"linear\", \"width\": 1.3}, \"mode\": \"lines\", \"name\": \"D\", \"text\": \"\", \"type\": \"scatter\", \"x\": [0, 1, 2, 3, 4, 5, 6, 7, 8, 9, 10, 11, 12, 13, 14, 15, 16, 17, 18, 19, 20, 21, 22, 23, 24, 25, 26, 27, 28, 29, 30, 31, 32, 33, 34, 35, 36, 37, 38, 39, 40, 41, 42, 43, 44, 45, 46, 47, 48, 49, 50, 51, 52, 53, 54, 55, 56, 57, 58, 59, 60, 61, 62, 63, 64, 65, 66, 67, 68, 69, 70, 71, 72, 73, 74, 75, 76, 77, 78, 79, 80, 81, 82, 83, 84, 85, 86, 87, 88, 89, 90, 91, 92, 93, 94, 95, 96, 97, 98, 99], \"y\": [-1.3586555500283932, -1.1387743176844167, 0.48169938159576325, 0.6764372067302944, 1.1268266747347202, 0.6057252710507862, -0.7513219741686743, 0.005702313957507184, 1.4308791760663617, 1.2005966764227556, -0.9875278942485363, 0.5808660913976754, 1.4287941005077174, 0.4620702301387893, 1.0572734196064548, -1.1002913127709155, -0.1315515667924692, -1.1392566067659655, 0.07229281640598588, -0.5333057149292395, 0.5816100203393103, 1.306026153751653, 1.0195678806161312, 0.2888420412161623, -0.4433382139973612, -0.3454345344832595, 0.35534312460924733, -0.43117020195967376, -1.5045558829863606, -0.1815616314116132, -0.4368063742518326, -0.22620381140298199, 0.08720459040528854, 0.5678243149791222, 0.5881222446895752, 0.7480451633782648, -1.32794689771268, -0.3778143059967874, 0.16147452672508367, 0.06410447160154711, -0.379738719597055, 0.39967835730081835, 0.14216477357882099, 0.5571022162046607, -1.231042034691143, 0.17497112618671276, -0.23977151229832572, 0.3895289261776583, -0.25526591619421546, -0.19963109923025427, 1.1232157056995562, -1.3454744427361949, -0.9443758475972888, 0.10462002783908171, -0.21414108255498263, -0.013631441599426721, 0.25542382679462305, -0.042489116778872876, 2.223297765291669, 1.4438772399384525, 0.3357163929448841, 1.2836072157745464, 1.5871881561554102, 1.3498649620194312, -0.1950754533526257, -0.3423773505787837, 1.205801770483136, -1.4535643076134128, -0.11707550596919053, -0.07076833743694082, 0.05183565834795385, -0.6962317336833402, -0.2965689315021597, -0.4802740478324376, 1.6212754882155525, -0.6149308986561066, 0.14122511601298043, -1.4253659454394587, -0.16682763283868907, -0.2522594661264877, 0.6016714218645476, 2.431213897315591, 1.4180976108862766, 1.4556917676318628, -0.4258864761956951, 0.6942935605645597, 0.8682132087462273, 0.038312944846510065, 0.26163123834069224, 0.3408182247581353, 2.1254219393308467, -0.15326156703769878, 0.5757955269280755, 2.017680954544086, -0.6816594733685633, 0.011130112560700777, 0.8960972114035543, -0.6479458737519347, -0.6154386787320508, -0.5344839718555876]}],                        {\"legend\": {\"bgcolor\": \"#F5F6F9\", \"font\": {\"color\": \"#4D5663\"}}, \"paper_bgcolor\": \"#F5F6F9\", \"plot_bgcolor\": \"#F5F6F9\", \"template\": {\"data\": {\"bar\": [{\"error_x\": {\"color\": \"#2a3f5f\"}, \"error_y\": {\"color\": \"#2a3f5f\"}, \"marker\": {\"line\": {\"color\": \"#E5ECF6\", \"width\": 0.5}}, \"type\": \"bar\"}], \"barpolar\": [{\"marker\": {\"line\": {\"color\": \"#E5ECF6\", \"width\": 0.5}}, \"type\": \"barpolar\"}], \"carpet\": [{\"aaxis\": {\"endlinecolor\": \"#2a3f5f\", \"gridcolor\": \"white\", \"linecolor\": \"white\", \"minorgridcolor\": \"white\", \"startlinecolor\": \"#2a3f5f\"}, \"baxis\": {\"endlinecolor\": \"#2a3f5f\", \"gridcolor\": \"white\", \"linecolor\": \"white\", \"minorgridcolor\": \"white\", \"startlinecolor\": \"#2a3f5f\"}, \"type\": \"carpet\"}], \"choropleth\": [{\"colorbar\": {\"outlinewidth\": 0, \"ticks\": \"\"}, \"type\": \"choropleth\"}], \"contour\": [{\"colorbar\": {\"outlinewidth\": 0, \"ticks\": \"\"}, \"colorscale\": [[0.0, \"#0d0887\"], [0.1111111111111111, \"#46039f\"], [0.2222222222222222, \"#7201a8\"], [0.3333333333333333, \"#9c179e\"], [0.4444444444444444, \"#bd3786\"], [0.5555555555555556, \"#d8576b\"], [0.6666666666666666, \"#ed7953\"], [0.7777777777777778, \"#fb9f3a\"], [0.8888888888888888, \"#fdca26\"], [1.0, \"#f0f921\"]], \"type\": \"contour\"}], \"contourcarpet\": [{\"colorbar\": {\"outlinewidth\": 0, \"ticks\": \"\"}, \"type\": \"contourcarpet\"}], \"heatmap\": [{\"colorbar\": {\"outlinewidth\": 0, \"ticks\": \"\"}, \"colorscale\": [[0.0, \"#0d0887\"], [0.1111111111111111, \"#46039f\"], [0.2222222222222222, \"#7201a8\"], [0.3333333333333333, \"#9c179e\"], [0.4444444444444444, \"#bd3786\"], [0.5555555555555556, \"#d8576b\"], [0.6666666666666666, \"#ed7953\"], [0.7777777777777778, \"#fb9f3a\"], [0.8888888888888888, \"#fdca26\"], [1.0, \"#f0f921\"]], \"type\": \"heatmap\"}], \"heatmapgl\": [{\"colorbar\": {\"outlinewidth\": 0, \"ticks\": \"\"}, \"colorscale\": [[0.0, \"#0d0887\"], [0.1111111111111111, \"#46039f\"], [0.2222222222222222, \"#7201a8\"], [0.3333333333333333, \"#9c179e\"], [0.4444444444444444, \"#bd3786\"], [0.5555555555555556, \"#d8576b\"], [0.6666666666666666, \"#ed7953\"], [0.7777777777777778, \"#fb9f3a\"], [0.8888888888888888, \"#fdca26\"], [1.0, \"#f0f921\"]], \"type\": \"heatmapgl\"}], \"histogram\": [{\"marker\": {\"colorbar\": {\"outlinewidth\": 0, \"ticks\": \"\"}}, \"type\": \"histogram\"}], \"histogram2d\": [{\"colorbar\": {\"outlinewidth\": 0, \"ticks\": \"\"}, \"colorscale\": [[0.0, \"#0d0887\"], [0.1111111111111111, \"#46039f\"], [0.2222222222222222, \"#7201a8\"], [0.3333333333333333, \"#9c179e\"], [0.4444444444444444, \"#bd3786\"], [0.5555555555555556, \"#d8576b\"], [0.6666666666666666, \"#ed7953\"], [0.7777777777777778, \"#fb9f3a\"], [0.8888888888888888, \"#fdca26\"], [1.0, \"#f0f921\"]], \"type\": \"histogram2d\"}], \"histogram2dcontour\": [{\"colorbar\": {\"outlinewidth\": 0, \"ticks\": \"\"}, \"colorscale\": [[0.0, \"#0d0887\"], [0.1111111111111111, \"#46039f\"], [0.2222222222222222, \"#7201a8\"], [0.3333333333333333, \"#9c179e\"], [0.4444444444444444, \"#bd3786\"], [0.5555555555555556, \"#d8576b\"], [0.6666666666666666, \"#ed7953\"], [0.7777777777777778, \"#fb9f3a\"], [0.8888888888888888, \"#fdca26\"], [1.0, \"#f0f921\"]], \"type\": \"histogram2dcontour\"}], \"mesh3d\": [{\"colorbar\": {\"outlinewidth\": 0, \"ticks\": \"\"}, \"type\": \"mesh3d\"}], \"parcoords\": [{\"line\": {\"colorbar\": {\"outlinewidth\": 0, \"ticks\": \"\"}}, \"type\": \"parcoords\"}], \"pie\": [{\"automargin\": true, \"type\": \"pie\"}], \"scatter\": [{\"marker\": {\"colorbar\": {\"outlinewidth\": 0, \"ticks\": \"\"}}, \"type\": \"scatter\"}], \"scatter3d\": [{\"line\": {\"colorbar\": {\"outlinewidth\": 0, \"ticks\": \"\"}}, \"marker\": {\"colorbar\": {\"outlinewidth\": 0, \"ticks\": \"\"}}, \"type\": \"scatter3d\"}], \"scattercarpet\": [{\"marker\": {\"colorbar\": {\"outlinewidth\": 0, \"ticks\": \"\"}}, \"type\": \"scattercarpet\"}], \"scattergeo\": [{\"marker\": {\"colorbar\": {\"outlinewidth\": 0, \"ticks\": \"\"}}, \"type\": \"scattergeo\"}], \"scattergl\": [{\"marker\": {\"colorbar\": {\"outlinewidth\": 0, \"ticks\": \"\"}}, \"type\": \"scattergl\"}], \"scattermapbox\": [{\"marker\": {\"colorbar\": {\"outlinewidth\": 0, \"ticks\": \"\"}}, \"type\": \"scattermapbox\"}], \"scatterpolar\": [{\"marker\": {\"colorbar\": {\"outlinewidth\": 0, \"ticks\": \"\"}}, \"type\": \"scatterpolar\"}], \"scatterpolargl\": [{\"marker\": {\"colorbar\": {\"outlinewidth\": 0, \"ticks\": \"\"}}, \"type\": \"scatterpolargl\"}], \"scatterternary\": [{\"marker\": {\"colorbar\": {\"outlinewidth\": 0, \"ticks\": \"\"}}, \"type\": \"scatterternary\"}], \"surface\": [{\"colorbar\": {\"outlinewidth\": 0, \"ticks\": \"\"}, \"colorscale\": [[0.0, \"#0d0887\"], [0.1111111111111111, \"#46039f\"], [0.2222222222222222, \"#7201a8\"], [0.3333333333333333, \"#9c179e\"], [0.4444444444444444, \"#bd3786\"], [0.5555555555555556, \"#d8576b\"], [0.6666666666666666, \"#ed7953\"], [0.7777777777777778, \"#fb9f3a\"], [0.8888888888888888, \"#fdca26\"], [1.0, \"#f0f921\"]], \"type\": \"surface\"}], \"table\": [{\"cells\": {\"fill\": {\"color\": \"#EBF0F8\"}, \"line\": {\"color\": \"white\"}}, \"header\": {\"fill\": {\"color\": \"#C8D4E3\"}, \"line\": {\"color\": \"white\"}}, \"type\": \"table\"}]}, \"layout\": {\"annotationdefaults\": {\"arrowcolor\": \"#2a3f5f\", \"arrowhead\": 0, \"arrowwidth\": 1}, \"autotypenumbers\": \"strict\", \"coloraxis\": {\"colorbar\": {\"outlinewidth\": 0, \"ticks\": \"\"}}, \"colorscale\": {\"diverging\": [[0, \"#8e0152\"], [0.1, \"#c51b7d\"], [0.2, \"#de77ae\"], [0.3, \"#f1b6da\"], [0.4, \"#fde0ef\"], [0.5, \"#f7f7f7\"], [0.6, \"#e6f5d0\"], [0.7, \"#b8e186\"], [0.8, \"#7fbc41\"], [0.9, \"#4d9221\"], [1, \"#276419\"]], \"sequential\": [[0.0, \"#0d0887\"], [0.1111111111111111, \"#46039f\"], [0.2222222222222222, \"#7201a8\"], [0.3333333333333333, \"#9c179e\"], [0.4444444444444444, \"#bd3786\"], [0.5555555555555556, \"#d8576b\"], [0.6666666666666666, \"#ed7953\"], [0.7777777777777778, \"#fb9f3a\"], [0.8888888888888888, \"#fdca26\"], [1.0, \"#f0f921\"]], \"sequentialminus\": [[0.0, \"#0d0887\"], [0.1111111111111111, \"#46039f\"], [0.2222222222222222, \"#7201a8\"], [0.3333333333333333, \"#9c179e\"], [0.4444444444444444, \"#bd3786\"], [0.5555555555555556, \"#d8576b\"], [0.6666666666666666, \"#ed7953\"], [0.7777777777777778, \"#fb9f3a\"], [0.8888888888888888, \"#fdca26\"], [1.0, \"#f0f921\"]]}, \"colorway\": [\"#636efa\", \"#EF553B\", \"#00cc96\", \"#ab63fa\", \"#FFA15A\", \"#19d3f3\", \"#FF6692\", \"#B6E880\", \"#FF97FF\", \"#FECB52\"], \"font\": {\"color\": \"#2a3f5f\"}, \"geo\": {\"bgcolor\": \"white\", \"lakecolor\": \"white\", \"landcolor\": \"#E5ECF6\", \"showlakes\": true, \"showland\": true, \"subunitcolor\": \"white\"}, \"hoverlabel\": {\"align\": \"left\"}, \"hovermode\": \"closest\", \"mapbox\": {\"style\": \"light\"}, \"paper_bgcolor\": \"white\", \"plot_bgcolor\": \"#E5ECF6\", \"polar\": {\"angularaxis\": {\"gridcolor\": \"white\", \"linecolor\": \"white\", \"ticks\": \"\"}, \"bgcolor\": \"#E5ECF6\", \"radialaxis\": {\"gridcolor\": \"white\", \"linecolor\": \"white\", \"ticks\": \"\"}}, \"scene\": {\"xaxis\": {\"backgroundcolor\": \"#E5ECF6\", \"gridcolor\": \"white\", \"gridwidth\": 2, \"linecolor\": \"white\", \"showbackground\": true, \"ticks\": \"\", \"zerolinecolor\": \"white\"}, \"yaxis\": {\"backgroundcolor\": \"#E5ECF6\", \"gridcolor\": \"white\", \"gridwidth\": 2, \"linecolor\": \"white\", \"showbackground\": true, \"ticks\": \"\", \"zerolinecolor\": \"white\"}, \"zaxis\": {\"backgroundcolor\": \"#E5ECF6\", \"gridcolor\": \"white\", \"gridwidth\": 2, \"linecolor\": \"white\", \"showbackground\": true, \"ticks\": \"\", \"zerolinecolor\": \"white\"}}, \"shapedefaults\": {\"line\": {\"color\": \"#2a3f5f\"}}, \"ternary\": {\"aaxis\": {\"gridcolor\": \"white\", \"linecolor\": \"white\", \"ticks\": \"\"}, \"baxis\": {\"gridcolor\": \"white\", \"linecolor\": \"white\", \"ticks\": \"\"}, \"bgcolor\": \"#E5ECF6\", \"caxis\": {\"gridcolor\": \"white\", \"linecolor\": \"white\", \"ticks\": \"\"}}, \"title\": {\"x\": 0.05}, \"xaxis\": {\"automargin\": true, \"gridcolor\": \"white\", \"linecolor\": \"white\", \"ticks\": \"\", \"title\": {\"standoff\": 15}, \"zerolinecolor\": \"white\", \"zerolinewidth\": 2}, \"yaxis\": {\"automargin\": true, \"gridcolor\": \"white\", \"linecolor\": \"white\", \"ticks\": \"\", \"title\": {\"standoff\": 15}, \"zerolinecolor\": \"white\", \"zerolinewidth\": 2}}}, \"title\": {\"font\": {\"color\": \"#4D5663\"}}, \"xaxis\": {\"gridcolor\": \"#E1E5ED\", \"showgrid\": true, \"tickfont\": {\"color\": \"#4D5663\"}, \"title\": {\"font\": {\"color\": \"#4D5663\"}, \"text\": \"\"}, \"zerolinecolor\": \"#E1E5ED\"}, \"yaxis\": {\"gridcolor\": \"#E1E5ED\", \"showgrid\": true, \"tickfont\": {\"color\": \"#4D5663\"}, \"title\": {\"font\": {\"color\": \"#4D5663\"}, \"text\": \"\"}, \"zerolinecolor\": \"#E1E5ED\"}},                        {\"showLink\": true, \"linkText\": \"Export to plot.ly\", \"plotlyServerURL\": \"https://plot.ly\", \"responsive\": true}                    ).then(function(){\n",
       "                            \n",
       "var gd = document.getElementById('ed05a441-b4f6-4a99-8a21-6f0e18bd333f');\n",
       "var x = new MutationObserver(function (mutations, observer) {{\n",
       "        var display = window.getComputedStyle(gd).display;\n",
       "        if (!display || display === 'none') {{\n",
       "            console.log([gd, 'removed!']);\n",
       "            Plotly.purge(gd);\n",
       "            observer.disconnect();\n",
       "        }}\n",
       "}});\n",
       "\n",
       "// Listen for the removal of the full notebook cells\n",
       "var notebookContainer = gd.closest('#notebook-container');\n",
       "if (notebookContainer) {{\n",
       "    x.observe(notebookContainer, {childList: true});\n",
       "}}\n",
       "\n",
       "// Listen for the clearing of the current output cell\n",
       "var outputEl = gd.closest('.output');\n",
       "if (outputEl) {{\n",
       "    x.observe(outputEl, {childList: true});\n",
       "}}\n",
       "\n",
       "                        })                };                });            </script>        </div>"
      ]
     },
     "metadata": {},
     "output_type": "display_data"
    }
   ],
   "source": [
    "df.iplot()"
   ]
  },
  {
   "cell_type": "code",
   "execution_count": 19,
   "metadata": {},
   "outputs": [
    {
     "data": {
      "application/vnd.plotly.v1+json": {
       "config": {
        "linkText": "Export to plot.ly",
        "plotlyServerURL": "https://plot.ly",
        "showLink": true
       },
       "data": [
        {
         "line": {
          "color": "rgba(255, 153, 51, 1.0)",
          "dash": "solid",
          "shape": "linear",
          "width": 1.3
         },
         "marker": {
          "size": 12,
          "symbol": "circle"
         },
         "mode": "markers",
         "name": "A",
         "text": "",
         "type": "scatter",
         "x": [
          0,
          1,
          2,
          3,
          4,
          5,
          6,
          7,
          8,
          9,
          10,
          11,
          12,
          13,
          14,
          15,
          16,
          17,
          18,
          19,
          20,
          21,
          22,
          23,
          24,
          25,
          26,
          27,
          28,
          29,
          30,
          31,
          32,
          33,
          34,
          35,
          36,
          37,
          38,
          39,
          40,
          41,
          42,
          43,
          44,
          45,
          46,
          47,
          48,
          49,
          50,
          51,
          52,
          53,
          54,
          55,
          56,
          57,
          58,
          59,
          60,
          61,
          62,
          63,
          64,
          65,
          66,
          67,
          68,
          69,
          70,
          71,
          72,
          73,
          74,
          75,
          76,
          77,
          78,
          79,
          80,
          81,
          82,
          83,
          84,
          85,
          86,
          87,
          88,
          89,
          90,
          91,
          92,
          93,
          94,
          95,
          96,
          97,
          98,
          99
         ],
         "y": [
          -0.5834753383517299,
          -0.17406211351662937,
          0.3060879792029995,
          -0.9534093278803556,
          0.3335305517157785,
          -0.97208229715675,
          0.773922882267899,
          1.4949271133171107,
          0.8367814978013194,
          0.08308209603773245,
          1.182761740458536,
          0.49774685820127185,
          0.14198467055805747,
          -1.1355453476946098,
          1.011619431731822,
          -0.6353426447605321,
          -0.5424144198586475,
          -1.5756694152563402,
          1.2337366847436115,
          0.11368435771078347,
          -1.8603332979892468,
          -0.37908290090239266,
          -2.3952188064783204,
          0.8877427257916617,
          -0.7115630132230167,
          -1.9603833676408622,
          -0.28727568692696054,
          -1.1266536274403456,
          1.1008068413241312,
          0.9886964497727425,
          -0.5102809461243386,
          -0.26700043460695194,
          0.9015877446659447,
          -0.21081646226019637,
          2.7208289305974653,
          0.1416432945420239,
          0.04999158259603204,
          -0.5592081595503431,
          0.45281455512608043,
          -0.47627645727787193,
          1.207059439612465,
          0.4777022075082107,
          -1.026931705617259,
          -0.09326720728713248,
          -2.4491799906079867,
          -0.9669689841078734,
          0.39843192202660516,
          -1.601682430692205,
          -0.09730257947951387,
          0.705339489766667,
          -0.6885982039996992,
          0.6473742218943702,
          1.0899943898808402,
          -0.3672553912402756,
          0.3987603976761634,
          -0.19251739749906915,
          -0.6650279548408881,
          0.1609926421761508,
          0.5130893323136226,
          0.40379560486445404,
          1.5089011416060847,
          0.9171065596968837,
          -0.8461891366811787,
          1.0164246921459297,
          0.6682311222058028,
          -0.11500234092630772,
          1.5242086731479125,
          1.1030176443205182,
          -0.18787103995561596,
          -1.3538512726051395,
          0.8253066278166783,
          -0.3119693363687069,
          0.21814712315537818,
          -0.0735611122243912,
          -0.028292622673684212,
          -1.1577550791690683,
          1.3129945490002852,
          0.4300996259364016,
          -1.2300531873215208,
          0.2321272415931786,
          0.37983972009769645,
          -0.48843454037353673,
          -0.44977945445042544,
          1.6926048669377491,
          1.5476340525379164,
          0.9038064089580464,
          0.34345404520601236,
          -0.3738001536190124,
          1.0211207868093704,
          0.9146321683636861,
          -0.518458729915045,
          -1.2156051542720545,
          0.6405558740080012,
          -1.5203730953554544,
          0.23280630549747244,
          -1.2106399353868293,
          0.2511404517840312,
          1.66809342037484,
          -0.3742517195980744,
          -1.2245820489080763
         ]
        },
        {
         "line": {
          "color": "rgba(55, 128, 191, 1.0)",
          "dash": "solid",
          "shape": "linear",
          "width": 1.3
         },
         "marker": {
          "size": 12,
          "symbol": "circle"
         },
         "mode": "markers",
         "name": "B",
         "text": "",
         "type": "scatter",
         "x": [
          0,
          1,
          2,
          3,
          4,
          5,
          6,
          7,
          8,
          9,
          10,
          11,
          12,
          13,
          14,
          15,
          16,
          17,
          18,
          19,
          20,
          21,
          22,
          23,
          24,
          25,
          26,
          27,
          28,
          29,
          30,
          31,
          32,
          33,
          34,
          35,
          36,
          37,
          38,
          39,
          40,
          41,
          42,
          43,
          44,
          45,
          46,
          47,
          48,
          49,
          50,
          51,
          52,
          53,
          54,
          55,
          56,
          57,
          58,
          59,
          60,
          61,
          62,
          63,
          64,
          65,
          66,
          67,
          68,
          69,
          70,
          71,
          72,
          73,
          74,
          75,
          76,
          77,
          78,
          79,
          80,
          81,
          82,
          83,
          84,
          85,
          86,
          87,
          88,
          89,
          90,
          91,
          92,
          93,
          94,
          95,
          96,
          97,
          98,
          99
         ],
         "y": [
          -1.3758072804282802,
          -2.0166423275795045,
          -0.1338910600221726,
          -0.5820663677732987,
          0.9712282596893289,
          0.04856414782439493,
          -1.6446518762072733,
          -0.9421467336068651,
          0.21954059186296845,
          0.36807439477449627,
          -0.3654460240432651,
          -0.8881757488822261,
          1.1359574308252038,
          1.784248095321167,
          -2.230174327763357,
          -0.9096345705300771,
          0.058131826476081325,
          0.49564915635896856,
          0.9955580219566825,
          0.9416554478215717,
          0.501777796879372,
          0.5832116202465111,
          0.07587249397032425,
          -1.3196824810937708,
          0.4830791708975699,
          -1.374253540092365,
          -0.5760286311195967,
          0.7116952836336254,
          -0.3114529511132174,
          -0.4000450842140983,
          0.04992534906556205,
          1.954807728032101,
          0.13171389071864884,
          -0.033496919366209084,
          -0.49088708243273443,
          -0.32917951662922473,
          -0.6357922655639845,
          0.01910882388183459,
          0.6605981182143601,
          0.2871073718275956,
          -0.7967523017727124,
          1.2749217387718361,
          -1.0184090272611115,
          -0.30776517663371084,
          -1.3835687056089345,
          -0.9589418851101955,
          0.8388110623238367,
          -0.8262275451330596,
          -1.8834577989862957,
          0.5672824330131843,
          1.5196434832141326,
          -0.9864345081943736,
          -0.09831683886884271,
          -0.4837052077847503,
          1.2148627172318998,
          -0.8692477403189863,
          -2.145542147953029,
          -1.026863204622045,
          0.5759905082069539,
          -0.08525962897285295,
          0.1994816415925022,
          0.29053581455171307,
          1.6111189999118847,
          -0.8918623381139243,
          0.757880123902853,
          -0.9228502119583749,
          0.2614246572476863,
          -1.4678941893578006,
          -1.7208349749814054,
          -1.188026523351157,
          -1.3120013569153754,
          -0.26774879333661716,
          -0.8918948740304229,
          -1.8768343945216002,
          0.5804338332708612,
          -0.506169023116886,
          -0.25771991196350186,
          -1.891780200402067,
          -0.90439014692466,
          -0.6309894908570972,
          -2.07726520770258,
          0.44560260665169893,
          0.36344301847922245,
          -0.9338476374001575,
          -0.7805318229279821,
          -1.4284991217257477,
          -1.5086579661524255,
          -0.01569096789541602,
          -2.1206884425801995,
          -1.971641489490636,
          -0.16318933968466018,
          0.26430296290179456,
          -0.9783848110025019,
          -0.8944221474552131,
          0.4463550575217183,
          0.9586322265346929,
          -0.5716261211754448,
          0.9428186601187796,
          -1.6636587907084162,
          -0.14151351627318537
         ]
        },
        {
         "line": {
          "color": "rgba(50, 171, 96, 1.0)",
          "dash": "solid",
          "shape": "linear",
          "width": 1.3
         },
         "marker": {
          "size": 12,
          "symbol": "circle"
         },
         "mode": "markers",
         "name": "C",
         "text": "",
         "type": "scatter",
         "x": [
          0,
          1,
          2,
          3,
          4,
          5,
          6,
          7,
          8,
          9,
          10,
          11,
          12,
          13,
          14,
          15,
          16,
          17,
          18,
          19,
          20,
          21,
          22,
          23,
          24,
          25,
          26,
          27,
          28,
          29,
          30,
          31,
          32,
          33,
          34,
          35,
          36,
          37,
          38,
          39,
          40,
          41,
          42,
          43,
          44,
          45,
          46,
          47,
          48,
          49,
          50,
          51,
          52,
          53,
          54,
          55,
          56,
          57,
          58,
          59,
          60,
          61,
          62,
          63,
          64,
          65,
          66,
          67,
          68,
          69,
          70,
          71,
          72,
          73,
          74,
          75,
          76,
          77,
          78,
          79,
          80,
          81,
          82,
          83,
          84,
          85,
          86,
          87,
          88,
          89,
          90,
          91,
          92,
          93,
          94,
          95,
          96,
          97,
          98,
          99
         ],
         "y": [
          1.0018795416454491,
          -2.337390086103986,
          -0.4232539974018757,
          -1.8969316747463965,
          0.7998081641187528,
          -0.3661949850561008,
          -1.0181639947152596,
          -0.11585982965963165,
          0.8472399266545323,
          0.43788030425939717,
          -0.663764784381059,
          -0.7337123337610191,
          1.4548197863516765,
          -0.42418631146704205,
          -0.2545716351889039,
          0.5366989835326802,
          0.36605335363143343,
          -1.4143036007630514,
          1.5221013213507886,
          0.7791456306917478,
          0.23025246545213834,
          -1.8638969248337085,
          -1.6884893644211625,
          -0.045487154963125165,
          -0.801121406292604,
          0.0547559143145917,
          0.545183512897039,
          -0.724015990081383,
          0.06573202885491526,
          1.6498167190416173,
          0.6533000011435984,
          -0.5587155424933851,
          -1.7109782094864845,
          2.203279978897059,
          -1.2458021051215071,
          0.7884115134544288,
          -2.1775179047299407,
          -1.2627256229473947,
          1.8817286080299984,
          0.4368373756387097,
          1.7706549361056712,
          0.6526038916660498,
          -0.32547051254043496,
          0.5741831449609582,
          -2.043115613867004,
          0.15453730277501193,
          -0.6087453202889653,
          0.8695799883309445,
          -0.8609126079247554,
          0.9312292205742623,
          0.9033553738916221,
          -1.8349477525385487,
          0.05234757707374364,
          -0.07264521518900441,
          -2.289836482394134,
          -1.6493967640659406,
          -0.482197393675575,
          -1.1391850183853196,
          0.27952172855246427,
          -0.24730382546811683,
          1.4330576241904138,
          1.052331922367535,
          0.13068002155250746,
          -0.607376113375024,
          0.3910918792553487,
          -0.8556328435345957,
          0.41913087940142013,
          -0.35323768409171563,
          1.0702506121182342,
          -1.1916818045776487,
          -0.1925503665005978,
          -0.877017495740593,
          -0.823621667252424,
          -1.3373927643971992,
          -0.6974293794909958,
          -0.941557903733586,
          0.4734217251518457,
          1.760748122282674,
          -0.05527878596913308,
          -1.0481418298737724,
          -1.5224723426836864,
          -0.5445950686677371,
          -1.018327795899508,
          -1.6454156901822734,
          -1.0439229011320366,
          1.226138672249239,
          1.648029568633649,
          1.6132974530492734,
          -0.4729133085871159,
          -0.3224150454961992,
          0.12450040090001759,
          -1.4789057463124318,
          -0.03375216725478918,
          1.5198674300593413,
          -0.7337586002507553,
          1.0376640654837075,
          0.5459608141126524,
          0.5766045985211756,
          0.1707602039956786,
          0.5665018422576403
         ]
        },
        {
         "line": {
          "color": "rgba(128, 0, 128, 1.0)",
          "dash": "solid",
          "shape": "linear",
          "width": 1.3
         },
         "marker": {
          "size": 12,
          "symbol": "circle"
         },
         "mode": "markers",
         "name": "D",
         "text": "",
         "type": "scatter",
         "x": [
          0,
          1,
          2,
          3,
          4,
          5,
          6,
          7,
          8,
          9,
          10,
          11,
          12,
          13,
          14,
          15,
          16,
          17,
          18,
          19,
          20,
          21,
          22,
          23,
          24,
          25,
          26,
          27,
          28,
          29,
          30,
          31,
          32,
          33,
          34,
          35,
          36,
          37,
          38,
          39,
          40,
          41,
          42,
          43,
          44,
          45,
          46,
          47,
          48,
          49,
          50,
          51,
          52,
          53,
          54,
          55,
          56,
          57,
          58,
          59,
          60,
          61,
          62,
          63,
          64,
          65,
          66,
          67,
          68,
          69,
          70,
          71,
          72,
          73,
          74,
          75,
          76,
          77,
          78,
          79,
          80,
          81,
          82,
          83,
          84,
          85,
          86,
          87,
          88,
          89,
          90,
          91,
          92,
          93,
          94,
          95,
          96,
          97,
          98,
          99
         ],
         "y": [
          -1.3586555500283932,
          -1.1387743176844167,
          0.48169938159576325,
          0.6764372067302944,
          1.1268266747347202,
          0.6057252710507862,
          -0.7513219741686743,
          0.005702313957507184,
          1.4308791760663617,
          1.2005966764227556,
          -0.9875278942485363,
          0.5808660913976754,
          1.4287941005077174,
          0.4620702301387893,
          1.0572734196064548,
          -1.1002913127709155,
          -0.1315515667924692,
          -1.1392566067659655,
          0.07229281640598588,
          -0.5333057149292395,
          0.5816100203393103,
          1.306026153751653,
          1.0195678806161312,
          0.2888420412161623,
          -0.4433382139973612,
          -0.3454345344832595,
          0.35534312460924733,
          -0.43117020195967376,
          -1.5045558829863606,
          -0.1815616314116132,
          -0.4368063742518326,
          -0.22620381140298199,
          0.08720459040528854,
          0.5678243149791222,
          0.5881222446895752,
          0.7480451633782648,
          -1.32794689771268,
          -0.3778143059967874,
          0.16147452672508367,
          0.06410447160154711,
          -0.379738719597055,
          0.39967835730081835,
          0.14216477357882099,
          0.5571022162046607,
          -1.231042034691143,
          0.17497112618671276,
          -0.23977151229832572,
          0.3895289261776583,
          -0.25526591619421546,
          -0.19963109923025427,
          1.1232157056995562,
          -1.3454744427361949,
          -0.9443758475972888,
          0.10462002783908171,
          -0.21414108255498263,
          -0.013631441599426721,
          0.25542382679462305,
          -0.042489116778872876,
          2.223297765291669,
          1.4438772399384525,
          0.3357163929448841,
          1.2836072157745464,
          1.5871881561554102,
          1.3498649620194312,
          -0.1950754533526257,
          -0.3423773505787837,
          1.205801770483136,
          -1.4535643076134128,
          -0.11707550596919053,
          -0.07076833743694082,
          0.05183565834795385,
          -0.6962317336833402,
          -0.2965689315021597,
          -0.4802740478324376,
          1.6212754882155525,
          -0.6149308986561066,
          0.14122511601298043,
          -1.4253659454394587,
          -0.16682763283868907,
          -0.2522594661264877,
          0.6016714218645476,
          2.431213897315591,
          1.4180976108862766,
          1.4556917676318628,
          -0.4258864761956951,
          0.6942935605645597,
          0.8682132087462273,
          0.038312944846510065,
          0.26163123834069224,
          0.3408182247581353,
          2.1254219393308467,
          -0.15326156703769878,
          0.5757955269280755,
          2.017680954544086,
          -0.6816594733685633,
          0.011130112560700777,
          0.8960972114035543,
          -0.6479458737519347,
          -0.6154386787320508,
          -0.5344839718555876
         ]
        }
       ],
       "layout": {
        "legend": {
         "bgcolor": "#F5F6F9",
         "font": {
          "color": "#4D5663"
         }
        },
        "paper_bgcolor": "#F5F6F9",
        "plot_bgcolor": "#F5F6F9",
        "template": {
         "data": {
          "bar": [
           {
            "error_x": {
             "color": "#2a3f5f"
            },
            "error_y": {
             "color": "#2a3f5f"
            },
            "marker": {
             "line": {
              "color": "#E5ECF6",
              "width": 0.5
             }
            },
            "type": "bar"
           }
          ],
          "barpolar": [
           {
            "marker": {
             "line": {
              "color": "#E5ECF6",
              "width": 0.5
             }
            },
            "type": "barpolar"
           }
          ],
          "carpet": [
           {
            "aaxis": {
             "endlinecolor": "#2a3f5f",
             "gridcolor": "white",
             "linecolor": "white",
             "minorgridcolor": "white",
             "startlinecolor": "#2a3f5f"
            },
            "baxis": {
             "endlinecolor": "#2a3f5f",
             "gridcolor": "white",
             "linecolor": "white",
             "minorgridcolor": "white",
             "startlinecolor": "#2a3f5f"
            },
            "type": "carpet"
           }
          ],
          "choropleth": [
           {
            "colorbar": {
             "outlinewidth": 0,
             "ticks": ""
            },
            "type": "choropleth"
           }
          ],
          "contour": [
           {
            "colorbar": {
             "outlinewidth": 0,
             "ticks": ""
            },
            "colorscale": [
             [
              0,
              "#0d0887"
             ],
             [
              0.1111111111111111,
              "#46039f"
             ],
             [
              0.2222222222222222,
              "#7201a8"
             ],
             [
              0.3333333333333333,
              "#9c179e"
             ],
             [
              0.4444444444444444,
              "#bd3786"
             ],
             [
              0.5555555555555556,
              "#d8576b"
             ],
             [
              0.6666666666666666,
              "#ed7953"
             ],
             [
              0.7777777777777778,
              "#fb9f3a"
             ],
             [
              0.8888888888888888,
              "#fdca26"
             ],
             [
              1,
              "#f0f921"
             ]
            ],
            "type": "contour"
           }
          ],
          "contourcarpet": [
           {
            "colorbar": {
             "outlinewidth": 0,
             "ticks": ""
            },
            "type": "contourcarpet"
           }
          ],
          "heatmap": [
           {
            "colorbar": {
             "outlinewidth": 0,
             "ticks": ""
            },
            "colorscale": [
             [
              0,
              "#0d0887"
             ],
             [
              0.1111111111111111,
              "#46039f"
             ],
             [
              0.2222222222222222,
              "#7201a8"
             ],
             [
              0.3333333333333333,
              "#9c179e"
             ],
             [
              0.4444444444444444,
              "#bd3786"
             ],
             [
              0.5555555555555556,
              "#d8576b"
             ],
             [
              0.6666666666666666,
              "#ed7953"
             ],
             [
              0.7777777777777778,
              "#fb9f3a"
             ],
             [
              0.8888888888888888,
              "#fdca26"
             ],
             [
              1,
              "#f0f921"
             ]
            ],
            "type": "heatmap"
           }
          ],
          "heatmapgl": [
           {
            "colorbar": {
             "outlinewidth": 0,
             "ticks": ""
            },
            "colorscale": [
             [
              0,
              "#0d0887"
             ],
             [
              0.1111111111111111,
              "#46039f"
             ],
             [
              0.2222222222222222,
              "#7201a8"
             ],
             [
              0.3333333333333333,
              "#9c179e"
             ],
             [
              0.4444444444444444,
              "#bd3786"
             ],
             [
              0.5555555555555556,
              "#d8576b"
             ],
             [
              0.6666666666666666,
              "#ed7953"
             ],
             [
              0.7777777777777778,
              "#fb9f3a"
             ],
             [
              0.8888888888888888,
              "#fdca26"
             ],
             [
              1,
              "#f0f921"
             ]
            ],
            "type": "heatmapgl"
           }
          ],
          "histogram": [
           {
            "marker": {
             "colorbar": {
              "outlinewidth": 0,
              "ticks": ""
             }
            },
            "type": "histogram"
           }
          ],
          "histogram2d": [
           {
            "colorbar": {
             "outlinewidth": 0,
             "ticks": ""
            },
            "colorscale": [
             [
              0,
              "#0d0887"
             ],
             [
              0.1111111111111111,
              "#46039f"
             ],
             [
              0.2222222222222222,
              "#7201a8"
             ],
             [
              0.3333333333333333,
              "#9c179e"
             ],
             [
              0.4444444444444444,
              "#bd3786"
             ],
             [
              0.5555555555555556,
              "#d8576b"
             ],
             [
              0.6666666666666666,
              "#ed7953"
             ],
             [
              0.7777777777777778,
              "#fb9f3a"
             ],
             [
              0.8888888888888888,
              "#fdca26"
             ],
             [
              1,
              "#f0f921"
             ]
            ],
            "type": "histogram2d"
           }
          ],
          "histogram2dcontour": [
           {
            "colorbar": {
             "outlinewidth": 0,
             "ticks": ""
            },
            "colorscale": [
             [
              0,
              "#0d0887"
             ],
             [
              0.1111111111111111,
              "#46039f"
             ],
             [
              0.2222222222222222,
              "#7201a8"
             ],
             [
              0.3333333333333333,
              "#9c179e"
             ],
             [
              0.4444444444444444,
              "#bd3786"
             ],
             [
              0.5555555555555556,
              "#d8576b"
             ],
             [
              0.6666666666666666,
              "#ed7953"
             ],
             [
              0.7777777777777778,
              "#fb9f3a"
             ],
             [
              0.8888888888888888,
              "#fdca26"
             ],
             [
              1,
              "#f0f921"
             ]
            ],
            "type": "histogram2dcontour"
           }
          ],
          "mesh3d": [
           {
            "colorbar": {
             "outlinewidth": 0,
             "ticks": ""
            },
            "type": "mesh3d"
           }
          ],
          "parcoords": [
           {
            "line": {
             "colorbar": {
              "outlinewidth": 0,
              "ticks": ""
             }
            },
            "type": "parcoords"
           }
          ],
          "pie": [
           {
            "automargin": true,
            "type": "pie"
           }
          ],
          "scatter": [
           {
            "marker": {
             "colorbar": {
              "outlinewidth": 0,
              "ticks": ""
             }
            },
            "type": "scatter"
           }
          ],
          "scatter3d": [
           {
            "line": {
             "colorbar": {
              "outlinewidth": 0,
              "ticks": ""
             }
            },
            "marker": {
             "colorbar": {
              "outlinewidth": 0,
              "ticks": ""
             }
            },
            "type": "scatter3d"
           }
          ],
          "scattercarpet": [
           {
            "marker": {
             "colorbar": {
              "outlinewidth": 0,
              "ticks": ""
             }
            },
            "type": "scattercarpet"
           }
          ],
          "scattergeo": [
           {
            "marker": {
             "colorbar": {
              "outlinewidth": 0,
              "ticks": ""
             }
            },
            "type": "scattergeo"
           }
          ],
          "scattergl": [
           {
            "marker": {
             "colorbar": {
              "outlinewidth": 0,
              "ticks": ""
             }
            },
            "type": "scattergl"
           }
          ],
          "scattermapbox": [
           {
            "marker": {
             "colorbar": {
              "outlinewidth": 0,
              "ticks": ""
             }
            },
            "type": "scattermapbox"
           }
          ],
          "scatterpolar": [
           {
            "marker": {
             "colorbar": {
              "outlinewidth": 0,
              "ticks": ""
             }
            },
            "type": "scatterpolar"
           }
          ],
          "scatterpolargl": [
           {
            "marker": {
             "colorbar": {
              "outlinewidth": 0,
              "ticks": ""
             }
            },
            "type": "scatterpolargl"
           }
          ],
          "scatterternary": [
           {
            "marker": {
             "colorbar": {
              "outlinewidth": 0,
              "ticks": ""
             }
            },
            "type": "scatterternary"
           }
          ],
          "surface": [
           {
            "colorbar": {
             "outlinewidth": 0,
             "ticks": ""
            },
            "colorscale": [
             [
              0,
              "#0d0887"
             ],
             [
              0.1111111111111111,
              "#46039f"
             ],
             [
              0.2222222222222222,
              "#7201a8"
             ],
             [
              0.3333333333333333,
              "#9c179e"
             ],
             [
              0.4444444444444444,
              "#bd3786"
             ],
             [
              0.5555555555555556,
              "#d8576b"
             ],
             [
              0.6666666666666666,
              "#ed7953"
             ],
             [
              0.7777777777777778,
              "#fb9f3a"
             ],
             [
              0.8888888888888888,
              "#fdca26"
             ],
             [
              1,
              "#f0f921"
             ]
            ],
            "type": "surface"
           }
          ],
          "table": [
           {
            "cells": {
             "fill": {
              "color": "#EBF0F8"
             },
             "line": {
              "color": "white"
             }
            },
            "header": {
             "fill": {
              "color": "#C8D4E3"
             },
             "line": {
              "color": "white"
             }
            },
            "type": "table"
           }
          ]
         },
         "layout": {
          "annotationdefaults": {
           "arrowcolor": "#2a3f5f",
           "arrowhead": 0,
           "arrowwidth": 1
          },
          "autotypenumbers": "strict",
          "coloraxis": {
           "colorbar": {
            "outlinewidth": 0,
            "ticks": ""
           }
          },
          "colorscale": {
           "diverging": [
            [
             0,
             "#8e0152"
            ],
            [
             0.1,
             "#c51b7d"
            ],
            [
             0.2,
             "#de77ae"
            ],
            [
             0.3,
             "#f1b6da"
            ],
            [
             0.4,
             "#fde0ef"
            ],
            [
             0.5,
             "#f7f7f7"
            ],
            [
             0.6,
             "#e6f5d0"
            ],
            [
             0.7,
             "#b8e186"
            ],
            [
             0.8,
             "#7fbc41"
            ],
            [
             0.9,
             "#4d9221"
            ],
            [
             1,
             "#276419"
            ]
           ],
           "sequential": [
            [
             0,
             "#0d0887"
            ],
            [
             0.1111111111111111,
             "#46039f"
            ],
            [
             0.2222222222222222,
             "#7201a8"
            ],
            [
             0.3333333333333333,
             "#9c179e"
            ],
            [
             0.4444444444444444,
             "#bd3786"
            ],
            [
             0.5555555555555556,
             "#d8576b"
            ],
            [
             0.6666666666666666,
             "#ed7953"
            ],
            [
             0.7777777777777778,
             "#fb9f3a"
            ],
            [
             0.8888888888888888,
             "#fdca26"
            ],
            [
             1,
             "#f0f921"
            ]
           ],
           "sequentialminus": [
            [
             0,
             "#0d0887"
            ],
            [
             0.1111111111111111,
             "#46039f"
            ],
            [
             0.2222222222222222,
             "#7201a8"
            ],
            [
             0.3333333333333333,
             "#9c179e"
            ],
            [
             0.4444444444444444,
             "#bd3786"
            ],
            [
             0.5555555555555556,
             "#d8576b"
            ],
            [
             0.6666666666666666,
             "#ed7953"
            ],
            [
             0.7777777777777778,
             "#fb9f3a"
            ],
            [
             0.8888888888888888,
             "#fdca26"
            ],
            [
             1,
             "#f0f921"
            ]
           ]
          },
          "colorway": [
           "#636efa",
           "#EF553B",
           "#00cc96",
           "#ab63fa",
           "#FFA15A",
           "#19d3f3",
           "#FF6692",
           "#B6E880",
           "#FF97FF",
           "#FECB52"
          ],
          "font": {
           "color": "#2a3f5f"
          },
          "geo": {
           "bgcolor": "white",
           "lakecolor": "white",
           "landcolor": "#E5ECF6",
           "showlakes": true,
           "showland": true,
           "subunitcolor": "white"
          },
          "hoverlabel": {
           "align": "left"
          },
          "hovermode": "closest",
          "mapbox": {
           "style": "light"
          },
          "paper_bgcolor": "white",
          "plot_bgcolor": "#E5ECF6",
          "polar": {
           "angularaxis": {
            "gridcolor": "white",
            "linecolor": "white",
            "ticks": ""
           },
           "bgcolor": "#E5ECF6",
           "radialaxis": {
            "gridcolor": "white",
            "linecolor": "white",
            "ticks": ""
           }
          },
          "scene": {
           "xaxis": {
            "backgroundcolor": "#E5ECF6",
            "gridcolor": "white",
            "gridwidth": 2,
            "linecolor": "white",
            "showbackground": true,
            "ticks": "",
            "zerolinecolor": "white"
           },
           "yaxis": {
            "backgroundcolor": "#E5ECF6",
            "gridcolor": "white",
            "gridwidth": 2,
            "linecolor": "white",
            "showbackground": true,
            "ticks": "",
            "zerolinecolor": "white"
           },
           "zaxis": {
            "backgroundcolor": "#E5ECF6",
            "gridcolor": "white",
            "gridwidth": 2,
            "linecolor": "white",
            "showbackground": true,
            "ticks": "",
            "zerolinecolor": "white"
           }
          },
          "shapedefaults": {
           "line": {
            "color": "#2a3f5f"
           }
          },
          "ternary": {
           "aaxis": {
            "gridcolor": "white",
            "linecolor": "white",
            "ticks": ""
           },
           "baxis": {
            "gridcolor": "white",
            "linecolor": "white",
            "ticks": ""
           },
           "bgcolor": "#E5ECF6",
           "caxis": {
            "gridcolor": "white",
            "linecolor": "white",
            "ticks": ""
           }
          },
          "title": {
           "x": 0.05
          },
          "xaxis": {
           "automargin": true,
           "gridcolor": "white",
           "linecolor": "white",
           "ticks": "",
           "title": {
            "standoff": 15
           },
           "zerolinecolor": "white",
           "zerolinewidth": 2
          },
          "yaxis": {
           "automargin": true,
           "gridcolor": "white",
           "linecolor": "white",
           "ticks": "",
           "title": {
            "standoff": 15
           },
           "zerolinecolor": "white",
           "zerolinewidth": 2
          }
         }
        },
        "title": {
         "font": {
          "color": "#4D5663"
         }
        },
        "xaxis": {
         "gridcolor": "#E1E5ED",
         "showgrid": true,
         "tickfont": {
          "color": "#4D5663"
         },
         "title": {
          "font": {
           "color": "#4D5663"
          },
          "text": ""
         },
         "zerolinecolor": "#E1E5ED"
        },
        "yaxis": {
         "gridcolor": "#E1E5ED",
         "showgrid": true,
         "tickfont": {
          "color": "#4D5663"
         },
         "title": {
          "font": {
           "color": "#4D5663"
          },
          "text": ""
         },
         "zerolinecolor": "#E1E5ED"
        }
       }
      },
      "text/html": [
       "<div>                            <div id=\"e543608e-cb58-40fc-a3e5-407d716124f2\" class=\"plotly-graph-div\" style=\"height:525px; width:100%;\"></div>            <script type=\"text/javascript\">                require([\"plotly\"], function(Plotly) {                    window.PLOTLYENV=window.PLOTLYENV || {};\n",
       "                    window.PLOTLYENV.BASE_URL='https://plot.ly';                                    if (document.getElementById(\"e543608e-cb58-40fc-a3e5-407d716124f2\")) {                    Plotly.newPlot(                        \"e543608e-cb58-40fc-a3e5-407d716124f2\",                        [{\"line\": {\"color\": \"rgba(255, 153, 51, 1.0)\", \"dash\": \"solid\", \"shape\": \"linear\", \"width\": 1.3}, \"marker\": {\"size\": 12, \"symbol\": \"circle\"}, \"mode\": \"markers\", \"name\": \"A\", \"text\": \"\", \"type\": \"scatter\", \"x\": [0, 1, 2, 3, 4, 5, 6, 7, 8, 9, 10, 11, 12, 13, 14, 15, 16, 17, 18, 19, 20, 21, 22, 23, 24, 25, 26, 27, 28, 29, 30, 31, 32, 33, 34, 35, 36, 37, 38, 39, 40, 41, 42, 43, 44, 45, 46, 47, 48, 49, 50, 51, 52, 53, 54, 55, 56, 57, 58, 59, 60, 61, 62, 63, 64, 65, 66, 67, 68, 69, 70, 71, 72, 73, 74, 75, 76, 77, 78, 79, 80, 81, 82, 83, 84, 85, 86, 87, 88, 89, 90, 91, 92, 93, 94, 95, 96, 97, 98, 99], \"y\": [-0.5834753383517299, -0.17406211351662937, 0.3060879792029995, -0.9534093278803556, 0.3335305517157785, -0.97208229715675, 0.773922882267899, 1.4949271133171107, 0.8367814978013194, 0.08308209603773245, 1.182761740458536, 0.49774685820127185, 0.14198467055805747, -1.1355453476946098, 1.011619431731822, -0.6353426447605321, -0.5424144198586475, -1.5756694152563402, 1.2337366847436115, 0.11368435771078347, -1.8603332979892468, -0.37908290090239266, -2.3952188064783204, 0.8877427257916617, -0.7115630132230167, -1.9603833676408622, -0.28727568692696054, -1.1266536274403456, 1.1008068413241312, 0.9886964497727425, -0.5102809461243386, -0.26700043460695194, 0.9015877446659447, -0.21081646226019637, 2.7208289305974653, 0.1416432945420239, 0.04999158259603204, -0.5592081595503431, 0.45281455512608043, -0.47627645727787193, 1.207059439612465, 0.4777022075082107, -1.026931705617259, -0.09326720728713248, -2.4491799906079867, -0.9669689841078734, 0.39843192202660516, -1.601682430692205, -0.09730257947951387, 0.705339489766667, -0.6885982039996992, 0.6473742218943702, 1.0899943898808402, -0.3672553912402756, 0.3987603976761634, -0.19251739749906915, -0.6650279548408881, 0.1609926421761508, 0.5130893323136226, 0.40379560486445404, 1.5089011416060847, 0.9171065596968837, -0.8461891366811787, 1.0164246921459297, 0.6682311222058028, -0.11500234092630772, 1.5242086731479125, 1.1030176443205182, -0.18787103995561596, -1.3538512726051395, 0.8253066278166783, -0.3119693363687069, 0.21814712315537818, -0.0735611122243912, -0.028292622673684212, -1.1577550791690683, 1.3129945490002852, 0.4300996259364016, -1.2300531873215208, 0.2321272415931786, 0.37983972009769645, -0.48843454037353673, -0.44977945445042544, 1.6926048669377491, 1.5476340525379164, 0.9038064089580464, 0.34345404520601236, -0.3738001536190124, 1.0211207868093704, 0.9146321683636861, -0.518458729915045, -1.2156051542720545, 0.6405558740080012, -1.5203730953554544, 0.23280630549747244, -1.2106399353868293, 0.2511404517840312, 1.66809342037484, -0.3742517195980744, -1.2245820489080763]}, {\"line\": {\"color\": \"rgba(55, 128, 191, 1.0)\", \"dash\": \"solid\", \"shape\": \"linear\", \"width\": 1.3}, \"marker\": {\"size\": 12, \"symbol\": \"circle\"}, \"mode\": \"markers\", \"name\": \"B\", \"text\": \"\", \"type\": \"scatter\", \"x\": [0, 1, 2, 3, 4, 5, 6, 7, 8, 9, 10, 11, 12, 13, 14, 15, 16, 17, 18, 19, 20, 21, 22, 23, 24, 25, 26, 27, 28, 29, 30, 31, 32, 33, 34, 35, 36, 37, 38, 39, 40, 41, 42, 43, 44, 45, 46, 47, 48, 49, 50, 51, 52, 53, 54, 55, 56, 57, 58, 59, 60, 61, 62, 63, 64, 65, 66, 67, 68, 69, 70, 71, 72, 73, 74, 75, 76, 77, 78, 79, 80, 81, 82, 83, 84, 85, 86, 87, 88, 89, 90, 91, 92, 93, 94, 95, 96, 97, 98, 99], \"y\": [-1.3758072804282802, -2.0166423275795045, -0.1338910600221726, -0.5820663677732987, 0.9712282596893289, 0.04856414782439493, -1.6446518762072733, -0.9421467336068651, 0.21954059186296845, 0.36807439477449627, -0.3654460240432651, -0.8881757488822261, 1.1359574308252038, 1.784248095321167, -2.230174327763357, -0.9096345705300771, 0.058131826476081325, 0.49564915635896856, 0.9955580219566825, 0.9416554478215717, 0.501777796879372, 0.5832116202465111, 0.07587249397032425, -1.3196824810937708, 0.4830791708975699, -1.374253540092365, -0.5760286311195967, 0.7116952836336254, -0.3114529511132174, -0.4000450842140983, 0.04992534906556205, 1.954807728032101, 0.13171389071864884, -0.033496919366209084, -0.49088708243273443, -0.32917951662922473, -0.6357922655639845, 0.01910882388183459, 0.6605981182143601, 0.2871073718275956, -0.7967523017727124, 1.2749217387718361, -1.0184090272611115, -0.30776517663371084, -1.3835687056089345, -0.9589418851101955, 0.8388110623238367, -0.8262275451330596, -1.8834577989862957, 0.5672824330131843, 1.5196434832141326, -0.9864345081943736, -0.09831683886884271, -0.4837052077847503, 1.2148627172318998, -0.8692477403189863, -2.145542147953029, -1.026863204622045, 0.5759905082069539, -0.08525962897285295, 0.1994816415925022, 0.29053581455171307, 1.6111189999118847, -0.8918623381139243, 0.757880123902853, -0.9228502119583749, 0.2614246572476863, -1.4678941893578006, -1.7208349749814054, -1.188026523351157, -1.3120013569153754, -0.26774879333661716, -0.8918948740304229, -1.8768343945216002, 0.5804338332708612, -0.506169023116886, -0.25771991196350186, -1.891780200402067, -0.90439014692466, -0.6309894908570972, -2.07726520770258, 0.44560260665169893, 0.36344301847922245, -0.9338476374001575, -0.7805318229279821, -1.4284991217257477, -1.5086579661524255, -0.01569096789541602, -2.1206884425801995, -1.971641489490636, -0.16318933968466018, 0.26430296290179456, -0.9783848110025019, -0.8944221474552131, 0.4463550575217183, 0.9586322265346929, -0.5716261211754448, 0.9428186601187796, -1.6636587907084162, -0.14151351627318537]}, {\"line\": {\"color\": \"rgba(50, 171, 96, 1.0)\", \"dash\": \"solid\", \"shape\": \"linear\", \"width\": 1.3}, \"marker\": {\"size\": 12, \"symbol\": \"circle\"}, \"mode\": \"markers\", \"name\": \"C\", \"text\": \"\", \"type\": \"scatter\", \"x\": [0, 1, 2, 3, 4, 5, 6, 7, 8, 9, 10, 11, 12, 13, 14, 15, 16, 17, 18, 19, 20, 21, 22, 23, 24, 25, 26, 27, 28, 29, 30, 31, 32, 33, 34, 35, 36, 37, 38, 39, 40, 41, 42, 43, 44, 45, 46, 47, 48, 49, 50, 51, 52, 53, 54, 55, 56, 57, 58, 59, 60, 61, 62, 63, 64, 65, 66, 67, 68, 69, 70, 71, 72, 73, 74, 75, 76, 77, 78, 79, 80, 81, 82, 83, 84, 85, 86, 87, 88, 89, 90, 91, 92, 93, 94, 95, 96, 97, 98, 99], \"y\": [1.0018795416454491, -2.337390086103986, -0.4232539974018757, -1.8969316747463965, 0.7998081641187528, -0.3661949850561008, -1.0181639947152596, -0.11585982965963165, 0.8472399266545323, 0.43788030425939717, -0.663764784381059, -0.7337123337610191, 1.4548197863516765, -0.42418631146704205, -0.2545716351889039, 0.5366989835326802, 0.36605335363143343, -1.4143036007630514, 1.5221013213507886, 0.7791456306917478, 0.23025246545213834, -1.8638969248337085, -1.6884893644211625, -0.045487154963125165, -0.801121406292604, 0.0547559143145917, 0.545183512897039, -0.724015990081383, 0.06573202885491526, 1.6498167190416173, 0.6533000011435984, -0.5587155424933851, -1.7109782094864845, 2.203279978897059, -1.2458021051215071, 0.7884115134544288, -2.1775179047299407, -1.2627256229473947, 1.8817286080299984, 0.4368373756387097, 1.7706549361056712, 0.6526038916660498, -0.32547051254043496, 0.5741831449609582, -2.043115613867004, 0.15453730277501193, -0.6087453202889653, 0.8695799883309445, -0.8609126079247554, 0.9312292205742623, 0.9033553738916221, -1.8349477525385487, 0.05234757707374364, -0.07264521518900441, -2.289836482394134, -1.6493967640659406, -0.482197393675575, -1.1391850183853196, 0.27952172855246427, -0.24730382546811683, 1.4330576241904138, 1.052331922367535, 0.13068002155250746, -0.607376113375024, 0.3910918792553487, -0.8556328435345957, 0.41913087940142013, -0.35323768409171563, 1.0702506121182342, -1.1916818045776487, -0.1925503665005978, -0.877017495740593, -0.823621667252424, -1.3373927643971992, -0.6974293794909958, -0.941557903733586, 0.4734217251518457, 1.760748122282674, -0.05527878596913308, -1.0481418298737724, -1.5224723426836864, -0.5445950686677371, -1.018327795899508, -1.6454156901822734, -1.0439229011320366, 1.226138672249239, 1.648029568633649, 1.6132974530492734, -0.4729133085871159, -0.3224150454961992, 0.12450040090001759, -1.4789057463124318, -0.03375216725478918, 1.5198674300593413, -0.7337586002507553, 1.0376640654837075, 0.5459608141126524, 0.5766045985211756, 0.1707602039956786, 0.5665018422576403]}, {\"line\": {\"color\": \"rgba(128, 0, 128, 1.0)\", \"dash\": \"solid\", \"shape\": \"linear\", \"width\": 1.3}, \"marker\": {\"size\": 12, \"symbol\": \"circle\"}, \"mode\": \"markers\", \"name\": \"D\", \"text\": \"\", \"type\": \"scatter\", \"x\": [0, 1, 2, 3, 4, 5, 6, 7, 8, 9, 10, 11, 12, 13, 14, 15, 16, 17, 18, 19, 20, 21, 22, 23, 24, 25, 26, 27, 28, 29, 30, 31, 32, 33, 34, 35, 36, 37, 38, 39, 40, 41, 42, 43, 44, 45, 46, 47, 48, 49, 50, 51, 52, 53, 54, 55, 56, 57, 58, 59, 60, 61, 62, 63, 64, 65, 66, 67, 68, 69, 70, 71, 72, 73, 74, 75, 76, 77, 78, 79, 80, 81, 82, 83, 84, 85, 86, 87, 88, 89, 90, 91, 92, 93, 94, 95, 96, 97, 98, 99], \"y\": [-1.3586555500283932, -1.1387743176844167, 0.48169938159576325, 0.6764372067302944, 1.1268266747347202, 0.6057252710507862, -0.7513219741686743, 0.005702313957507184, 1.4308791760663617, 1.2005966764227556, -0.9875278942485363, 0.5808660913976754, 1.4287941005077174, 0.4620702301387893, 1.0572734196064548, -1.1002913127709155, -0.1315515667924692, -1.1392566067659655, 0.07229281640598588, -0.5333057149292395, 0.5816100203393103, 1.306026153751653, 1.0195678806161312, 0.2888420412161623, -0.4433382139973612, -0.3454345344832595, 0.35534312460924733, -0.43117020195967376, -1.5045558829863606, -0.1815616314116132, -0.4368063742518326, -0.22620381140298199, 0.08720459040528854, 0.5678243149791222, 0.5881222446895752, 0.7480451633782648, -1.32794689771268, -0.3778143059967874, 0.16147452672508367, 0.06410447160154711, -0.379738719597055, 0.39967835730081835, 0.14216477357882099, 0.5571022162046607, -1.231042034691143, 0.17497112618671276, -0.23977151229832572, 0.3895289261776583, -0.25526591619421546, -0.19963109923025427, 1.1232157056995562, -1.3454744427361949, -0.9443758475972888, 0.10462002783908171, -0.21414108255498263, -0.013631441599426721, 0.25542382679462305, -0.042489116778872876, 2.223297765291669, 1.4438772399384525, 0.3357163929448841, 1.2836072157745464, 1.5871881561554102, 1.3498649620194312, -0.1950754533526257, -0.3423773505787837, 1.205801770483136, -1.4535643076134128, -0.11707550596919053, -0.07076833743694082, 0.05183565834795385, -0.6962317336833402, -0.2965689315021597, -0.4802740478324376, 1.6212754882155525, -0.6149308986561066, 0.14122511601298043, -1.4253659454394587, -0.16682763283868907, -0.2522594661264877, 0.6016714218645476, 2.431213897315591, 1.4180976108862766, 1.4556917676318628, -0.4258864761956951, 0.6942935605645597, 0.8682132087462273, 0.038312944846510065, 0.26163123834069224, 0.3408182247581353, 2.1254219393308467, -0.15326156703769878, 0.5757955269280755, 2.017680954544086, -0.6816594733685633, 0.011130112560700777, 0.8960972114035543, -0.6479458737519347, -0.6154386787320508, -0.5344839718555876]}],                        {\"legend\": {\"bgcolor\": \"#F5F6F9\", \"font\": {\"color\": \"#4D5663\"}}, \"paper_bgcolor\": \"#F5F6F9\", \"plot_bgcolor\": \"#F5F6F9\", \"template\": {\"data\": {\"bar\": [{\"error_x\": {\"color\": \"#2a3f5f\"}, \"error_y\": {\"color\": \"#2a3f5f\"}, \"marker\": {\"line\": {\"color\": \"#E5ECF6\", \"width\": 0.5}}, \"type\": \"bar\"}], \"barpolar\": [{\"marker\": {\"line\": {\"color\": \"#E5ECF6\", \"width\": 0.5}}, \"type\": \"barpolar\"}], \"carpet\": [{\"aaxis\": {\"endlinecolor\": \"#2a3f5f\", \"gridcolor\": \"white\", \"linecolor\": \"white\", \"minorgridcolor\": \"white\", \"startlinecolor\": \"#2a3f5f\"}, \"baxis\": {\"endlinecolor\": \"#2a3f5f\", \"gridcolor\": \"white\", \"linecolor\": \"white\", \"minorgridcolor\": \"white\", \"startlinecolor\": \"#2a3f5f\"}, \"type\": \"carpet\"}], \"choropleth\": [{\"colorbar\": {\"outlinewidth\": 0, \"ticks\": \"\"}, \"type\": \"choropleth\"}], \"contour\": [{\"colorbar\": {\"outlinewidth\": 0, \"ticks\": \"\"}, \"colorscale\": [[0.0, \"#0d0887\"], [0.1111111111111111, \"#46039f\"], [0.2222222222222222, \"#7201a8\"], [0.3333333333333333, \"#9c179e\"], [0.4444444444444444, \"#bd3786\"], [0.5555555555555556, \"#d8576b\"], [0.6666666666666666, \"#ed7953\"], [0.7777777777777778, \"#fb9f3a\"], [0.8888888888888888, \"#fdca26\"], [1.0, \"#f0f921\"]], \"type\": \"contour\"}], \"contourcarpet\": [{\"colorbar\": {\"outlinewidth\": 0, \"ticks\": \"\"}, \"type\": \"contourcarpet\"}], \"heatmap\": [{\"colorbar\": {\"outlinewidth\": 0, \"ticks\": \"\"}, \"colorscale\": [[0.0, \"#0d0887\"], [0.1111111111111111, \"#46039f\"], [0.2222222222222222, \"#7201a8\"], [0.3333333333333333, \"#9c179e\"], [0.4444444444444444, \"#bd3786\"], [0.5555555555555556, \"#d8576b\"], [0.6666666666666666, \"#ed7953\"], [0.7777777777777778, \"#fb9f3a\"], [0.8888888888888888, \"#fdca26\"], [1.0, \"#f0f921\"]], \"type\": \"heatmap\"}], \"heatmapgl\": [{\"colorbar\": {\"outlinewidth\": 0, \"ticks\": \"\"}, \"colorscale\": [[0.0, \"#0d0887\"], [0.1111111111111111, \"#46039f\"], [0.2222222222222222, \"#7201a8\"], [0.3333333333333333, \"#9c179e\"], [0.4444444444444444, \"#bd3786\"], [0.5555555555555556, \"#d8576b\"], [0.6666666666666666, \"#ed7953\"], [0.7777777777777778, \"#fb9f3a\"], [0.8888888888888888, \"#fdca26\"], [1.0, \"#f0f921\"]], \"type\": \"heatmapgl\"}], \"histogram\": [{\"marker\": {\"colorbar\": {\"outlinewidth\": 0, \"ticks\": \"\"}}, \"type\": \"histogram\"}], \"histogram2d\": [{\"colorbar\": {\"outlinewidth\": 0, \"ticks\": \"\"}, \"colorscale\": [[0.0, \"#0d0887\"], [0.1111111111111111, \"#46039f\"], [0.2222222222222222, \"#7201a8\"], [0.3333333333333333, \"#9c179e\"], [0.4444444444444444, \"#bd3786\"], [0.5555555555555556, \"#d8576b\"], [0.6666666666666666, \"#ed7953\"], [0.7777777777777778, \"#fb9f3a\"], [0.8888888888888888, \"#fdca26\"], [1.0, \"#f0f921\"]], \"type\": \"histogram2d\"}], \"histogram2dcontour\": [{\"colorbar\": {\"outlinewidth\": 0, \"ticks\": \"\"}, \"colorscale\": [[0.0, \"#0d0887\"], [0.1111111111111111, \"#46039f\"], [0.2222222222222222, \"#7201a8\"], [0.3333333333333333, \"#9c179e\"], [0.4444444444444444, \"#bd3786\"], [0.5555555555555556, \"#d8576b\"], [0.6666666666666666, \"#ed7953\"], [0.7777777777777778, \"#fb9f3a\"], [0.8888888888888888, \"#fdca26\"], [1.0, \"#f0f921\"]], \"type\": \"histogram2dcontour\"}], \"mesh3d\": [{\"colorbar\": {\"outlinewidth\": 0, \"ticks\": \"\"}, \"type\": \"mesh3d\"}], \"parcoords\": [{\"line\": {\"colorbar\": {\"outlinewidth\": 0, \"ticks\": \"\"}}, \"type\": \"parcoords\"}], \"pie\": [{\"automargin\": true, \"type\": \"pie\"}], \"scatter\": [{\"marker\": {\"colorbar\": {\"outlinewidth\": 0, \"ticks\": \"\"}}, \"type\": \"scatter\"}], \"scatter3d\": [{\"line\": {\"colorbar\": {\"outlinewidth\": 0, \"ticks\": \"\"}}, \"marker\": {\"colorbar\": {\"outlinewidth\": 0, \"ticks\": \"\"}}, \"type\": \"scatter3d\"}], \"scattercarpet\": [{\"marker\": {\"colorbar\": {\"outlinewidth\": 0, \"ticks\": \"\"}}, \"type\": \"scattercarpet\"}], \"scattergeo\": [{\"marker\": {\"colorbar\": {\"outlinewidth\": 0, \"ticks\": \"\"}}, \"type\": \"scattergeo\"}], \"scattergl\": [{\"marker\": {\"colorbar\": {\"outlinewidth\": 0, \"ticks\": \"\"}}, \"type\": \"scattergl\"}], \"scattermapbox\": [{\"marker\": {\"colorbar\": {\"outlinewidth\": 0, \"ticks\": \"\"}}, \"type\": \"scattermapbox\"}], \"scatterpolar\": [{\"marker\": {\"colorbar\": {\"outlinewidth\": 0, \"ticks\": \"\"}}, \"type\": \"scatterpolar\"}], \"scatterpolargl\": [{\"marker\": {\"colorbar\": {\"outlinewidth\": 0, \"ticks\": \"\"}}, \"type\": \"scatterpolargl\"}], \"scatterternary\": [{\"marker\": {\"colorbar\": {\"outlinewidth\": 0, \"ticks\": \"\"}}, \"type\": \"scatterternary\"}], \"surface\": [{\"colorbar\": {\"outlinewidth\": 0, \"ticks\": \"\"}, \"colorscale\": [[0.0, \"#0d0887\"], [0.1111111111111111, \"#46039f\"], [0.2222222222222222, \"#7201a8\"], [0.3333333333333333, \"#9c179e\"], [0.4444444444444444, \"#bd3786\"], [0.5555555555555556, \"#d8576b\"], [0.6666666666666666, \"#ed7953\"], [0.7777777777777778, \"#fb9f3a\"], [0.8888888888888888, \"#fdca26\"], [1.0, \"#f0f921\"]], \"type\": \"surface\"}], \"table\": [{\"cells\": {\"fill\": {\"color\": \"#EBF0F8\"}, \"line\": {\"color\": \"white\"}}, \"header\": {\"fill\": {\"color\": \"#C8D4E3\"}, \"line\": {\"color\": \"white\"}}, \"type\": \"table\"}]}, \"layout\": {\"annotationdefaults\": {\"arrowcolor\": \"#2a3f5f\", \"arrowhead\": 0, \"arrowwidth\": 1}, \"autotypenumbers\": \"strict\", \"coloraxis\": {\"colorbar\": {\"outlinewidth\": 0, \"ticks\": \"\"}}, \"colorscale\": {\"diverging\": [[0, \"#8e0152\"], [0.1, \"#c51b7d\"], [0.2, \"#de77ae\"], [0.3, \"#f1b6da\"], [0.4, \"#fde0ef\"], [0.5, \"#f7f7f7\"], [0.6, \"#e6f5d0\"], [0.7, \"#b8e186\"], [0.8, \"#7fbc41\"], [0.9, \"#4d9221\"], [1, \"#276419\"]], \"sequential\": [[0.0, \"#0d0887\"], [0.1111111111111111, \"#46039f\"], [0.2222222222222222, \"#7201a8\"], [0.3333333333333333, \"#9c179e\"], [0.4444444444444444, \"#bd3786\"], [0.5555555555555556, \"#d8576b\"], [0.6666666666666666, \"#ed7953\"], [0.7777777777777778, \"#fb9f3a\"], [0.8888888888888888, \"#fdca26\"], [1.0, \"#f0f921\"]], \"sequentialminus\": [[0.0, \"#0d0887\"], [0.1111111111111111, \"#46039f\"], [0.2222222222222222, \"#7201a8\"], [0.3333333333333333, \"#9c179e\"], [0.4444444444444444, \"#bd3786\"], [0.5555555555555556, \"#d8576b\"], [0.6666666666666666, \"#ed7953\"], [0.7777777777777778, \"#fb9f3a\"], [0.8888888888888888, \"#fdca26\"], [1.0, \"#f0f921\"]]}, \"colorway\": [\"#636efa\", \"#EF553B\", \"#00cc96\", \"#ab63fa\", \"#FFA15A\", \"#19d3f3\", \"#FF6692\", \"#B6E880\", \"#FF97FF\", \"#FECB52\"], \"font\": {\"color\": \"#2a3f5f\"}, \"geo\": {\"bgcolor\": \"white\", \"lakecolor\": \"white\", \"landcolor\": \"#E5ECF6\", \"showlakes\": true, \"showland\": true, \"subunitcolor\": \"white\"}, \"hoverlabel\": {\"align\": \"left\"}, \"hovermode\": \"closest\", \"mapbox\": {\"style\": \"light\"}, \"paper_bgcolor\": \"white\", \"plot_bgcolor\": \"#E5ECF6\", \"polar\": {\"angularaxis\": {\"gridcolor\": \"white\", \"linecolor\": \"white\", \"ticks\": \"\"}, \"bgcolor\": \"#E5ECF6\", \"radialaxis\": {\"gridcolor\": \"white\", \"linecolor\": \"white\", \"ticks\": \"\"}}, \"scene\": {\"xaxis\": {\"backgroundcolor\": \"#E5ECF6\", \"gridcolor\": \"white\", \"gridwidth\": 2, \"linecolor\": \"white\", \"showbackground\": true, \"ticks\": \"\", \"zerolinecolor\": \"white\"}, \"yaxis\": {\"backgroundcolor\": \"#E5ECF6\", \"gridcolor\": \"white\", \"gridwidth\": 2, \"linecolor\": \"white\", \"showbackground\": true, \"ticks\": \"\", \"zerolinecolor\": \"white\"}, \"zaxis\": {\"backgroundcolor\": \"#E5ECF6\", \"gridcolor\": \"white\", \"gridwidth\": 2, \"linecolor\": \"white\", \"showbackground\": true, \"ticks\": \"\", \"zerolinecolor\": \"white\"}}, \"shapedefaults\": {\"line\": {\"color\": \"#2a3f5f\"}}, \"ternary\": {\"aaxis\": {\"gridcolor\": \"white\", \"linecolor\": \"white\", \"ticks\": \"\"}, \"baxis\": {\"gridcolor\": \"white\", \"linecolor\": \"white\", \"ticks\": \"\"}, \"bgcolor\": \"#E5ECF6\", \"caxis\": {\"gridcolor\": \"white\", \"linecolor\": \"white\", \"ticks\": \"\"}}, \"title\": {\"x\": 0.05}, \"xaxis\": {\"automargin\": true, \"gridcolor\": \"white\", \"linecolor\": \"white\", \"ticks\": \"\", \"title\": {\"standoff\": 15}, \"zerolinecolor\": \"white\", \"zerolinewidth\": 2}, \"yaxis\": {\"automargin\": true, \"gridcolor\": \"white\", \"linecolor\": \"white\", \"ticks\": \"\", \"title\": {\"standoff\": 15}, \"zerolinecolor\": \"white\", \"zerolinewidth\": 2}}}, \"title\": {\"font\": {\"color\": \"#4D5663\"}}, \"xaxis\": {\"gridcolor\": \"#E1E5ED\", \"showgrid\": true, \"tickfont\": {\"color\": \"#4D5663\"}, \"title\": {\"font\": {\"color\": \"#4D5663\"}, \"text\": \"\"}, \"zerolinecolor\": \"#E1E5ED\"}, \"yaxis\": {\"gridcolor\": \"#E1E5ED\", \"showgrid\": true, \"tickfont\": {\"color\": \"#4D5663\"}, \"title\": {\"font\": {\"color\": \"#4D5663\"}, \"text\": \"\"}, \"zerolinecolor\": \"#E1E5ED\"}},                        {\"showLink\": true, \"linkText\": \"Export to plot.ly\", \"plotlyServerURL\": \"https://plot.ly\", \"responsive\": true}                    ).then(function(){\n",
       "                            \n",
       "var gd = document.getElementById('e543608e-cb58-40fc-a3e5-407d716124f2');\n",
       "var x = new MutationObserver(function (mutations, observer) {{\n",
       "        var display = window.getComputedStyle(gd).display;\n",
       "        if (!display || display === 'none') {{\n",
       "            console.log([gd, 'removed!']);\n",
       "            Plotly.purge(gd);\n",
       "            observer.disconnect();\n",
       "        }}\n",
       "}});\n",
       "\n",
       "// Listen for the removal of the full notebook cells\n",
       "var notebookContainer = gd.closest('#notebook-container');\n",
       "if (notebookContainer) {{\n",
       "    x.observe(notebookContainer, {childList: true});\n",
       "}}\n",
       "\n",
       "// Listen for the clearing of the current output cell\n",
       "var outputEl = gd.closest('.output');\n",
       "if (outputEl) {{\n",
       "    x.observe(outputEl, {childList: true});\n",
       "}}\n",
       "\n",
       "                        })                };                });            </script>        </div>"
      ]
     },
     "metadata": {},
     "output_type": "display_data"
    }
   ],
   "source": [
    "df.iplot(kind='scatter',mode='markers') #,x='A',y='B'"
   ]
  },
  {
   "cell_type": "code",
   "execution_count": 22,
   "metadata": {},
   "outputs": [
    {
     "data": {
      "application/vnd.plotly.v1+json": {
       "config": {
        "linkText": "Export to plot.ly",
        "plotlyServerURL": "https://plot.ly",
        "showLink": true
       },
       "data": [
        {
         "marker": {
          "color": "rgba(255, 153, 51, 0.6)",
          "line": {
           "color": "rgba(255, 153, 51, 1.0)",
           "width": 1
          }
         },
         "name": "Values",
         "orientation": "v",
         "text": "",
         "type": "bar",
         "x": [
          "A",
          "B",
          "C"
         ],
         "y": [
          32,
          43,
          50
         ]
        }
       ],
       "layout": {
        "legend": {
         "bgcolor": "#F5F6F9",
         "font": {
          "color": "#4D5663"
         }
        },
        "paper_bgcolor": "#F5F6F9",
        "plot_bgcolor": "#F5F6F9",
        "template": {
         "data": {
          "bar": [
           {
            "error_x": {
             "color": "#2a3f5f"
            },
            "error_y": {
             "color": "#2a3f5f"
            },
            "marker": {
             "line": {
              "color": "#E5ECF6",
              "width": 0.5
             }
            },
            "type": "bar"
           }
          ],
          "barpolar": [
           {
            "marker": {
             "line": {
              "color": "#E5ECF6",
              "width": 0.5
             }
            },
            "type": "barpolar"
           }
          ],
          "carpet": [
           {
            "aaxis": {
             "endlinecolor": "#2a3f5f",
             "gridcolor": "white",
             "linecolor": "white",
             "minorgridcolor": "white",
             "startlinecolor": "#2a3f5f"
            },
            "baxis": {
             "endlinecolor": "#2a3f5f",
             "gridcolor": "white",
             "linecolor": "white",
             "minorgridcolor": "white",
             "startlinecolor": "#2a3f5f"
            },
            "type": "carpet"
           }
          ],
          "choropleth": [
           {
            "colorbar": {
             "outlinewidth": 0,
             "ticks": ""
            },
            "type": "choropleth"
           }
          ],
          "contour": [
           {
            "colorbar": {
             "outlinewidth": 0,
             "ticks": ""
            },
            "colorscale": [
             [
              0,
              "#0d0887"
             ],
             [
              0.1111111111111111,
              "#46039f"
             ],
             [
              0.2222222222222222,
              "#7201a8"
             ],
             [
              0.3333333333333333,
              "#9c179e"
             ],
             [
              0.4444444444444444,
              "#bd3786"
             ],
             [
              0.5555555555555556,
              "#d8576b"
             ],
             [
              0.6666666666666666,
              "#ed7953"
             ],
             [
              0.7777777777777778,
              "#fb9f3a"
             ],
             [
              0.8888888888888888,
              "#fdca26"
             ],
             [
              1,
              "#f0f921"
             ]
            ],
            "type": "contour"
           }
          ],
          "contourcarpet": [
           {
            "colorbar": {
             "outlinewidth": 0,
             "ticks": ""
            },
            "type": "contourcarpet"
           }
          ],
          "heatmap": [
           {
            "colorbar": {
             "outlinewidth": 0,
             "ticks": ""
            },
            "colorscale": [
             [
              0,
              "#0d0887"
             ],
             [
              0.1111111111111111,
              "#46039f"
             ],
             [
              0.2222222222222222,
              "#7201a8"
             ],
             [
              0.3333333333333333,
              "#9c179e"
             ],
             [
              0.4444444444444444,
              "#bd3786"
             ],
             [
              0.5555555555555556,
              "#d8576b"
             ],
             [
              0.6666666666666666,
              "#ed7953"
             ],
             [
              0.7777777777777778,
              "#fb9f3a"
             ],
             [
              0.8888888888888888,
              "#fdca26"
             ],
             [
              1,
              "#f0f921"
             ]
            ],
            "type": "heatmap"
           }
          ],
          "heatmapgl": [
           {
            "colorbar": {
             "outlinewidth": 0,
             "ticks": ""
            },
            "colorscale": [
             [
              0,
              "#0d0887"
             ],
             [
              0.1111111111111111,
              "#46039f"
             ],
             [
              0.2222222222222222,
              "#7201a8"
             ],
             [
              0.3333333333333333,
              "#9c179e"
             ],
             [
              0.4444444444444444,
              "#bd3786"
             ],
             [
              0.5555555555555556,
              "#d8576b"
             ],
             [
              0.6666666666666666,
              "#ed7953"
             ],
             [
              0.7777777777777778,
              "#fb9f3a"
             ],
             [
              0.8888888888888888,
              "#fdca26"
             ],
             [
              1,
              "#f0f921"
             ]
            ],
            "type": "heatmapgl"
           }
          ],
          "histogram": [
           {
            "marker": {
             "colorbar": {
              "outlinewidth": 0,
              "ticks": ""
             }
            },
            "type": "histogram"
           }
          ],
          "histogram2d": [
           {
            "colorbar": {
             "outlinewidth": 0,
             "ticks": ""
            },
            "colorscale": [
             [
              0,
              "#0d0887"
             ],
             [
              0.1111111111111111,
              "#46039f"
             ],
             [
              0.2222222222222222,
              "#7201a8"
             ],
             [
              0.3333333333333333,
              "#9c179e"
             ],
             [
              0.4444444444444444,
              "#bd3786"
             ],
             [
              0.5555555555555556,
              "#d8576b"
             ],
             [
              0.6666666666666666,
              "#ed7953"
             ],
             [
              0.7777777777777778,
              "#fb9f3a"
             ],
             [
              0.8888888888888888,
              "#fdca26"
             ],
             [
              1,
              "#f0f921"
             ]
            ],
            "type": "histogram2d"
           }
          ],
          "histogram2dcontour": [
           {
            "colorbar": {
             "outlinewidth": 0,
             "ticks": ""
            },
            "colorscale": [
             [
              0,
              "#0d0887"
             ],
             [
              0.1111111111111111,
              "#46039f"
             ],
             [
              0.2222222222222222,
              "#7201a8"
             ],
             [
              0.3333333333333333,
              "#9c179e"
             ],
             [
              0.4444444444444444,
              "#bd3786"
             ],
             [
              0.5555555555555556,
              "#d8576b"
             ],
             [
              0.6666666666666666,
              "#ed7953"
             ],
             [
              0.7777777777777778,
              "#fb9f3a"
             ],
             [
              0.8888888888888888,
              "#fdca26"
             ],
             [
              1,
              "#f0f921"
             ]
            ],
            "type": "histogram2dcontour"
           }
          ],
          "mesh3d": [
           {
            "colorbar": {
             "outlinewidth": 0,
             "ticks": ""
            },
            "type": "mesh3d"
           }
          ],
          "parcoords": [
           {
            "line": {
             "colorbar": {
              "outlinewidth": 0,
              "ticks": ""
             }
            },
            "type": "parcoords"
           }
          ],
          "pie": [
           {
            "automargin": true,
            "type": "pie"
           }
          ],
          "scatter": [
           {
            "marker": {
             "colorbar": {
              "outlinewidth": 0,
              "ticks": ""
             }
            },
            "type": "scatter"
           }
          ],
          "scatter3d": [
           {
            "line": {
             "colorbar": {
              "outlinewidth": 0,
              "ticks": ""
             }
            },
            "marker": {
             "colorbar": {
              "outlinewidth": 0,
              "ticks": ""
             }
            },
            "type": "scatter3d"
           }
          ],
          "scattercarpet": [
           {
            "marker": {
             "colorbar": {
              "outlinewidth": 0,
              "ticks": ""
             }
            },
            "type": "scattercarpet"
           }
          ],
          "scattergeo": [
           {
            "marker": {
             "colorbar": {
              "outlinewidth": 0,
              "ticks": ""
             }
            },
            "type": "scattergeo"
           }
          ],
          "scattergl": [
           {
            "marker": {
             "colorbar": {
              "outlinewidth": 0,
              "ticks": ""
             }
            },
            "type": "scattergl"
           }
          ],
          "scattermapbox": [
           {
            "marker": {
             "colorbar": {
              "outlinewidth": 0,
              "ticks": ""
             }
            },
            "type": "scattermapbox"
           }
          ],
          "scatterpolar": [
           {
            "marker": {
             "colorbar": {
              "outlinewidth": 0,
              "ticks": ""
             }
            },
            "type": "scatterpolar"
           }
          ],
          "scatterpolargl": [
           {
            "marker": {
             "colorbar": {
              "outlinewidth": 0,
              "ticks": ""
             }
            },
            "type": "scatterpolargl"
           }
          ],
          "scatterternary": [
           {
            "marker": {
             "colorbar": {
              "outlinewidth": 0,
              "ticks": ""
             }
            },
            "type": "scatterternary"
           }
          ],
          "surface": [
           {
            "colorbar": {
             "outlinewidth": 0,
             "ticks": ""
            },
            "colorscale": [
             [
              0,
              "#0d0887"
             ],
             [
              0.1111111111111111,
              "#46039f"
             ],
             [
              0.2222222222222222,
              "#7201a8"
             ],
             [
              0.3333333333333333,
              "#9c179e"
             ],
             [
              0.4444444444444444,
              "#bd3786"
             ],
             [
              0.5555555555555556,
              "#d8576b"
             ],
             [
              0.6666666666666666,
              "#ed7953"
             ],
             [
              0.7777777777777778,
              "#fb9f3a"
             ],
             [
              0.8888888888888888,
              "#fdca26"
             ],
             [
              1,
              "#f0f921"
             ]
            ],
            "type": "surface"
           }
          ],
          "table": [
           {
            "cells": {
             "fill": {
              "color": "#EBF0F8"
             },
             "line": {
              "color": "white"
             }
            },
            "header": {
             "fill": {
              "color": "#C8D4E3"
             },
             "line": {
              "color": "white"
             }
            },
            "type": "table"
           }
          ]
         },
         "layout": {
          "annotationdefaults": {
           "arrowcolor": "#2a3f5f",
           "arrowhead": 0,
           "arrowwidth": 1
          },
          "autotypenumbers": "strict",
          "coloraxis": {
           "colorbar": {
            "outlinewidth": 0,
            "ticks": ""
           }
          },
          "colorscale": {
           "diverging": [
            [
             0,
             "#8e0152"
            ],
            [
             0.1,
             "#c51b7d"
            ],
            [
             0.2,
             "#de77ae"
            ],
            [
             0.3,
             "#f1b6da"
            ],
            [
             0.4,
             "#fde0ef"
            ],
            [
             0.5,
             "#f7f7f7"
            ],
            [
             0.6,
             "#e6f5d0"
            ],
            [
             0.7,
             "#b8e186"
            ],
            [
             0.8,
             "#7fbc41"
            ],
            [
             0.9,
             "#4d9221"
            ],
            [
             1,
             "#276419"
            ]
           ],
           "sequential": [
            [
             0,
             "#0d0887"
            ],
            [
             0.1111111111111111,
             "#46039f"
            ],
            [
             0.2222222222222222,
             "#7201a8"
            ],
            [
             0.3333333333333333,
             "#9c179e"
            ],
            [
             0.4444444444444444,
             "#bd3786"
            ],
            [
             0.5555555555555556,
             "#d8576b"
            ],
            [
             0.6666666666666666,
             "#ed7953"
            ],
            [
             0.7777777777777778,
             "#fb9f3a"
            ],
            [
             0.8888888888888888,
             "#fdca26"
            ],
            [
             1,
             "#f0f921"
            ]
           ],
           "sequentialminus": [
            [
             0,
             "#0d0887"
            ],
            [
             0.1111111111111111,
             "#46039f"
            ],
            [
             0.2222222222222222,
             "#7201a8"
            ],
            [
             0.3333333333333333,
             "#9c179e"
            ],
            [
             0.4444444444444444,
             "#bd3786"
            ],
            [
             0.5555555555555556,
             "#d8576b"
            ],
            [
             0.6666666666666666,
             "#ed7953"
            ],
            [
             0.7777777777777778,
             "#fb9f3a"
            ],
            [
             0.8888888888888888,
             "#fdca26"
            ],
            [
             1,
             "#f0f921"
            ]
           ]
          },
          "colorway": [
           "#636efa",
           "#EF553B",
           "#00cc96",
           "#ab63fa",
           "#FFA15A",
           "#19d3f3",
           "#FF6692",
           "#B6E880",
           "#FF97FF",
           "#FECB52"
          ],
          "font": {
           "color": "#2a3f5f"
          },
          "geo": {
           "bgcolor": "white",
           "lakecolor": "white",
           "landcolor": "#E5ECF6",
           "showlakes": true,
           "showland": true,
           "subunitcolor": "white"
          },
          "hoverlabel": {
           "align": "left"
          },
          "hovermode": "closest",
          "mapbox": {
           "style": "light"
          },
          "paper_bgcolor": "white",
          "plot_bgcolor": "#E5ECF6",
          "polar": {
           "angularaxis": {
            "gridcolor": "white",
            "linecolor": "white",
            "ticks": ""
           },
           "bgcolor": "#E5ECF6",
           "radialaxis": {
            "gridcolor": "white",
            "linecolor": "white",
            "ticks": ""
           }
          },
          "scene": {
           "xaxis": {
            "backgroundcolor": "#E5ECF6",
            "gridcolor": "white",
            "gridwidth": 2,
            "linecolor": "white",
            "showbackground": true,
            "ticks": "",
            "zerolinecolor": "white"
           },
           "yaxis": {
            "backgroundcolor": "#E5ECF6",
            "gridcolor": "white",
            "gridwidth": 2,
            "linecolor": "white",
            "showbackground": true,
            "ticks": "",
            "zerolinecolor": "white"
           },
           "zaxis": {
            "backgroundcolor": "#E5ECF6",
            "gridcolor": "white",
            "gridwidth": 2,
            "linecolor": "white",
            "showbackground": true,
            "ticks": "",
            "zerolinecolor": "white"
           }
          },
          "shapedefaults": {
           "line": {
            "color": "#2a3f5f"
           }
          },
          "ternary": {
           "aaxis": {
            "gridcolor": "white",
            "linecolor": "white",
            "ticks": ""
           },
           "baxis": {
            "gridcolor": "white",
            "linecolor": "white",
            "ticks": ""
           },
           "bgcolor": "#E5ECF6",
           "caxis": {
            "gridcolor": "white",
            "linecolor": "white",
            "ticks": ""
           }
          },
          "title": {
           "x": 0.05
          },
          "xaxis": {
           "automargin": true,
           "gridcolor": "white",
           "linecolor": "white",
           "ticks": "",
           "title": {
            "standoff": 15
           },
           "zerolinecolor": "white",
           "zerolinewidth": 2
          },
          "yaxis": {
           "automargin": true,
           "gridcolor": "white",
           "linecolor": "white",
           "ticks": "",
           "title": {
            "standoff": 15
           },
           "zerolinecolor": "white",
           "zerolinewidth": 2
          }
         }
        },
        "title": {
         "font": {
          "color": "#4D5663"
         }
        },
        "xaxis": {
         "gridcolor": "#E1E5ED",
         "showgrid": true,
         "tickfont": {
          "color": "#4D5663"
         },
         "title": {
          "font": {
           "color": "#4D5663"
          },
          "text": ""
         },
         "zerolinecolor": "#E1E5ED"
        },
        "yaxis": {
         "gridcolor": "#E1E5ED",
         "showgrid": true,
         "tickfont": {
          "color": "#4D5663"
         },
         "title": {
          "font": {
           "color": "#4D5663"
          },
          "text": ""
         },
         "zerolinecolor": "#E1E5ED"
        }
       }
      },
      "text/html": [
       "<div>                            <div id=\"0376a493-4c63-4788-8390-de099cd61f9a\" class=\"plotly-graph-div\" style=\"height:525px; width:100%;\"></div>            <script type=\"text/javascript\">                require([\"plotly\"], function(Plotly) {                    window.PLOTLYENV=window.PLOTLYENV || {};\n",
       "                    window.PLOTLYENV.BASE_URL='https://plot.ly';                                    if (document.getElementById(\"0376a493-4c63-4788-8390-de099cd61f9a\")) {                    Plotly.newPlot(                        \"0376a493-4c63-4788-8390-de099cd61f9a\",                        [{\"marker\": {\"color\": \"rgba(255, 153, 51, 0.6)\", \"line\": {\"color\": \"rgba(255, 153, 51, 1.0)\", \"width\": 1}}, \"name\": \"Values\", \"orientation\": \"v\", \"text\": \"\", \"type\": \"bar\", \"x\": [\"A\", \"B\", \"C\"], \"y\": [32, 43, 50]}],                        {\"legend\": {\"bgcolor\": \"#F5F6F9\", \"font\": {\"color\": \"#4D5663\"}}, \"paper_bgcolor\": \"#F5F6F9\", \"plot_bgcolor\": \"#F5F6F9\", \"template\": {\"data\": {\"bar\": [{\"error_x\": {\"color\": \"#2a3f5f\"}, \"error_y\": {\"color\": \"#2a3f5f\"}, \"marker\": {\"line\": {\"color\": \"#E5ECF6\", \"width\": 0.5}}, \"type\": \"bar\"}], \"barpolar\": [{\"marker\": {\"line\": {\"color\": \"#E5ECF6\", \"width\": 0.5}}, \"type\": \"barpolar\"}], \"carpet\": [{\"aaxis\": {\"endlinecolor\": \"#2a3f5f\", \"gridcolor\": \"white\", \"linecolor\": \"white\", \"minorgridcolor\": \"white\", \"startlinecolor\": \"#2a3f5f\"}, \"baxis\": {\"endlinecolor\": \"#2a3f5f\", \"gridcolor\": \"white\", \"linecolor\": \"white\", \"minorgridcolor\": \"white\", \"startlinecolor\": \"#2a3f5f\"}, \"type\": \"carpet\"}], \"choropleth\": [{\"colorbar\": {\"outlinewidth\": 0, \"ticks\": \"\"}, \"type\": \"choropleth\"}], \"contour\": [{\"colorbar\": {\"outlinewidth\": 0, \"ticks\": \"\"}, \"colorscale\": [[0.0, \"#0d0887\"], [0.1111111111111111, \"#46039f\"], [0.2222222222222222, \"#7201a8\"], [0.3333333333333333, \"#9c179e\"], [0.4444444444444444, \"#bd3786\"], [0.5555555555555556, \"#d8576b\"], [0.6666666666666666, \"#ed7953\"], [0.7777777777777778, \"#fb9f3a\"], [0.8888888888888888, \"#fdca26\"], [1.0, \"#f0f921\"]], \"type\": \"contour\"}], \"contourcarpet\": [{\"colorbar\": {\"outlinewidth\": 0, \"ticks\": \"\"}, \"type\": \"contourcarpet\"}], \"heatmap\": [{\"colorbar\": {\"outlinewidth\": 0, \"ticks\": \"\"}, \"colorscale\": [[0.0, \"#0d0887\"], [0.1111111111111111, \"#46039f\"], [0.2222222222222222, \"#7201a8\"], [0.3333333333333333, \"#9c179e\"], [0.4444444444444444, \"#bd3786\"], [0.5555555555555556, \"#d8576b\"], [0.6666666666666666, \"#ed7953\"], [0.7777777777777778, \"#fb9f3a\"], [0.8888888888888888, \"#fdca26\"], [1.0, \"#f0f921\"]], \"type\": \"heatmap\"}], \"heatmapgl\": [{\"colorbar\": {\"outlinewidth\": 0, \"ticks\": \"\"}, \"colorscale\": [[0.0, \"#0d0887\"], [0.1111111111111111, \"#46039f\"], [0.2222222222222222, \"#7201a8\"], [0.3333333333333333, \"#9c179e\"], [0.4444444444444444, \"#bd3786\"], [0.5555555555555556, \"#d8576b\"], [0.6666666666666666, \"#ed7953\"], [0.7777777777777778, \"#fb9f3a\"], [0.8888888888888888, \"#fdca26\"], [1.0, \"#f0f921\"]], \"type\": \"heatmapgl\"}], \"histogram\": [{\"marker\": {\"colorbar\": {\"outlinewidth\": 0, \"ticks\": \"\"}}, \"type\": \"histogram\"}], \"histogram2d\": [{\"colorbar\": {\"outlinewidth\": 0, \"ticks\": \"\"}, \"colorscale\": [[0.0, \"#0d0887\"], [0.1111111111111111, \"#46039f\"], [0.2222222222222222, \"#7201a8\"], [0.3333333333333333, \"#9c179e\"], [0.4444444444444444, \"#bd3786\"], [0.5555555555555556, \"#d8576b\"], [0.6666666666666666, \"#ed7953\"], [0.7777777777777778, \"#fb9f3a\"], [0.8888888888888888, \"#fdca26\"], [1.0, \"#f0f921\"]], \"type\": \"histogram2d\"}], \"histogram2dcontour\": [{\"colorbar\": {\"outlinewidth\": 0, \"ticks\": \"\"}, \"colorscale\": [[0.0, \"#0d0887\"], [0.1111111111111111, \"#46039f\"], [0.2222222222222222, \"#7201a8\"], [0.3333333333333333, \"#9c179e\"], [0.4444444444444444, \"#bd3786\"], [0.5555555555555556, \"#d8576b\"], [0.6666666666666666, \"#ed7953\"], [0.7777777777777778, \"#fb9f3a\"], [0.8888888888888888, \"#fdca26\"], [1.0, \"#f0f921\"]], \"type\": \"histogram2dcontour\"}], \"mesh3d\": [{\"colorbar\": {\"outlinewidth\": 0, \"ticks\": \"\"}, \"type\": \"mesh3d\"}], \"parcoords\": [{\"line\": {\"colorbar\": {\"outlinewidth\": 0, \"ticks\": \"\"}}, \"type\": \"parcoords\"}], \"pie\": [{\"automargin\": true, \"type\": \"pie\"}], \"scatter\": [{\"marker\": {\"colorbar\": {\"outlinewidth\": 0, \"ticks\": \"\"}}, \"type\": \"scatter\"}], \"scatter3d\": [{\"line\": {\"colorbar\": {\"outlinewidth\": 0, \"ticks\": \"\"}}, \"marker\": {\"colorbar\": {\"outlinewidth\": 0, \"ticks\": \"\"}}, \"type\": \"scatter3d\"}], \"scattercarpet\": [{\"marker\": {\"colorbar\": {\"outlinewidth\": 0, \"ticks\": \"\"}}, \"type\": \"scattercarpet\"}], \"scattergeo\": [{\"marker\": {\"colorbar\": {\"outlinewidth\": 0, \"ticks\": \"\"}}, \"type\": \"scattergeo\"}], \"scattergl\": [{\"marker\": {\"colorbar\": {\"outlinewidth\": 0, \"ticks\": \"\"}}, \"type\": \"scattergl\"}], \"scattermapbox\": [{\"marker\": {\"colorbar\": {\"outlinewidth\": 0, \"ticks\": \"\"}}, \"type\": \"scattermapbox\"}], \"scatterpolar\": [{\"marker\": {\"colorbar\": {\"outlinewidth\": 0, \"ticks\": \"\"}}, \"type\": \"scatterpolar\"}], \"scatterpolargl\": [{\"marker\": {\"colorbar\": {\"outlinewidth\": 0, \"ticks\": \"\"}}, \"type\": \"scatterpolargl\"}], \"scatterternary\": [{\"marker\": {\"colorbar\": {\"outlinewidth\": 0, \"ticks\": \"\"}}, \"type\": \"scatterternary\"}], \"surface\": [{\"colorbar\": {\"outlinewidth\": 0, \"ticks\": \"\"}, \"colorscale\": [[0.0, \"#0d0887\"], [0.1111111111111111, \"#46039f\"], [0.2222222222222222, \"#7201a8\"], [0.3333333333333333, \"#9c179e\"], [0.4444444444444444, \"#bd3786\"], [0.5555555555555556, \"#d8576b\"], [0.6666666666666666, \"#ed7953\"], [0.7777777777777778, \"#fb9f3a\"], [0.8888888888888888, \"#fdca26\"], [1.0, \"#f0f921\"]], \"type\": \"surface\"}], \"table\": [{\"cells\": {\"fill\": {\"color\": \"#EBF0F8\"}, \"line\": {\"color\": \"white\"}}, \"header\": {\"fill\": {\"color\": \"#C8D4E3\"}, \"line\": {\"color\": \"white\"}}, \"type\": \"table\"}]}, \"layout\": {\"annotationdefaults\": {\"arrowcolor\": \"#2a3f5f\", \"arrowhead\": 0, \"arrowwidth\": 1}, \"autotypenumbers\": \"strict\", \"coloraxis\": {\"colorbar\": {\"outlinewidth\": 0, \"ticks\": \"\"}}, \"colorscale\": {\"diverging\": [[0, \"#8e0152\"], [0.1, \"#c51b7d\"], [0.2, \"#de77ae\"], [0.3, \"#f1b6da\"], [0.4, \"#fde0ef\"], [0.5, \"#f7f7f7\"], [0.6, \"#e6f5d0\"], [0.7, \"#b8e186\"], [0.8, \"#7fbc41\"], [0.9, \"#4d9221\"], [1, \"#276419\"]], \"sequential\": [[0.0, \"#0d0887\"], [0.1111111111111111, \"#46039f\"], [0.2222222222222222, \"#7201a8\"], [0.3333333333333333, \"#9c179e\"], [0.4444444444444444, \"#bd3786\"], [0.5555555555555556, \"#d8576b\"], [0.6666666666666666, \"#ed7953\"], [0.7777777777777778, \"#fb9f3a\"], [0.8888888888888888, \"#fdca26\"], [1.0, \"#f0f921\"]], \"sequentialminus\": [[0.0, \"#0d0887\"], [0.1111111111111111, \"#46039f\"], [0.2222222222222222, \"#7201a8\"], [0.3333333333333333, \"#9c179e\"], [0.4444444444444444, \"#bd3786\"], [0.5555555555555556, \"#d8576b\"], [0.6666666666666666, \"#ed7953\"], [0.7777777777777778, \"#fb9f3a\"], [0.8888888888888888, \"#fdca26\"], [1.0, \"#f0f921\"]]}, \"colorway\": [\"#636efa\", \"#EF553B\", \"#00cc96\", \"#ab63fa\", \"#FFA15A\", \"#19d3f3\", \"#FF6692\", \"#B6E880\", \"#FF97FF\", \"#FECB52\"], \"font\": {\"color\": \"#2a3f5f\"}, \"geo\": {\"bgcolor\": \"white\", \"lakecolor\": \"white\", \"landcolor\": \"#E5ECF6\", \"showlakes\": true, \"showland\": true, \"subunitcolor\": \"white\"}, \"hoverlabel\": {\"align\": \"left\"}, \"hovermode\": \"closest\", \"mapbox\": {\"style\": \"light\"}, \"paper_bgcolor\": \"white\", \"plot_bgcolor\": \"#E5ECF6\", \"polar\": {\"angularaxis\": {\"gridcolor\": \"white\", \"linecolor\": \"white\", \"ticks\": \"\"}, \"bgcolor\": \"#E5ECF6\", \"radialaxis\": {\"gridcolor\": \"white\", \"linecolor\": \"white\", \"ticks\": \"\"}}, \"scene\": {\"xaxis\": {\"backgroundcolor\": \"#E5ECF6\", \"gridcolor\": \"white\", \"gridwidth\": 2, \"linecolor\": \"white\", \"showbackground\": true, \"ticks\": \"\", \"zerolinecolor\": \"white\"}, \"yaxis\": {\"backgroundcolor\": \"#E5ECF6\", \"gridcolor\": \"white\", \"gridwidth\": 2, \"linecolor\": \"white\", \"showbackground\": true, \"ticks\": \"\", \"zerolinecolor\": \"white\"}, \"zaxis\": {\"backgroundcolor\": \"#E5ECF6\", \"gridcolor\": \"white\", \"gridwidth\": 2, \"linecolor\": \"white\", \"showbackground\": true, \"ticks\": \"\", \"zerolinecolor\": \"white\"}}, \"shapedefaults\": {\"line\": {\"color\": \"#2a3f5f\"}}, \"ternary\": {\"aaxis\": {\"gridcolor\": \"white\", \"linecolor\": \"white\", \"ticks\": \"\"}, \"baxis\": {\"gridcolor\": \"white\", \"linecolor\": \"white\", \"ticks\": \"\"}, \"bgcolor\": \"#E5ECF6\", \"caxis\": {\"gridcolor\": \"white\", \"linecolor\": \"white\", \"ticks\": \"\"}}, \"title\": {\"x\": 0.05}, \"xaxis\": {\"automargin\": true, \"gridcolor\": \"white\", \"linecolor\": \"white\", \"ticks\": \"\", \"title\": {\"standoff\": 15}, \"zerolinecolor\": \"white\", \"zerolinewidth\": 2}, \"yaxis\": {\"automargin\": true, \"gridcolor\": \"white\", \"linecolor\": \"white\", \"ticks\": \"\", \"title\": {\"standoff\": 15}, \"zerolinecolor\": \"white\", \"zerolinewidth\": 2}}}, \"title\": {\"font\": {\"color\": \"#4D5663\"}}, \"xaxis\": {\"gridcolor\": \"#E1E5ED\", \"showgrid\": true, \"tickfont\": {\"color\": \"#4D5663\"}, \"title\": {\"font\": {\"color\": \"#4D5663\"}, \"text\": \"\"}, \"zerolinecolor\": \"#E1E5ED\"}, \"yaxis\": {\"gridcolor\": \"#E1E5ED\", \"showgrid\": true, \"tickfont\": {\"color\": \"#4D5663\"}, \"title\": {\"font\": {\"color\": \"#4D5663\"}, \"text\": \"\"}, \"zerolinecolor\": \"#E1E5ED\"}},                        {\"showLink\": true, \"linkText\": \"Export to plot.ly\", \"plotlyServerURL\": \"https://plot.ly\", \"responsive\": true}                    ).then(function(){\n",
       "                            \n",
       "var gd = document.getElementById('0376a493-4c63-4788-8390-de099cd61f9a');\n",
       "var x = new MutationObserver(function (mutations, observer) {{\n",
       "        var display = window.getComputedStyle(gd).display;\n",
       "        if (!display || display === 'none') {{\n",
       "            console.log([gd, 'removed!']);\n",
       "            Plotly.purge(gd);\n",
       "            observer.disconnect();\n",
       "        }}\n",
       "}});\n",
       "\n",
       "// Listen for the removal of the full notebook cells\n",
       "var notebookContainer = gd.closest('#notebook-container');\n",
       "if (notebookContainer) {{\n",
       "    x.observe(notebookContainer, {childList: true});\n",
       "}}\n",
       "\n",
       "// Listen for the clearing of the current output cell\n",
       "var outputEl = gd.closest('.output');\n",
       "if (outputEl) {{\n",
       "    x.observe(outputEl, {childList: true});\n",
       "}}\n",
       "\n",
       "                        })                };                });            </script>        </div>"
      ]
     },
     "metadata": {},
     "output_type": "display_data"
    }
   ],
   "source": [
    "df2.iplot(kind='bar',x='Category',y='Values')"
   ]
  },
  {
   "cell_type": "code",
   "execution_count": 25,
   "metadata": {},
   "outputs": [
    {
     "data": {
      "application/vnd.plotly.v1+json": {
       "config": {
        "linkText": "Export to plot.ly",
        "plotlyServerURL": "https://plot.ly",
        "showLink": true
       },
       "data": [
        {
         "marker": {
          "color": "rgba(255, 153, 51, 0.6)",
          "line": {
           "color": "rgba(255, 153, 51, 1.0)",
           "width": 1
          }
         },
         "name": "None",
         "orientation": "v",
         "text": "",
         "type": "bar",
         "x": [
          "A",
          "B",
          "C",
          "D"
         ],
         "y": [
          2.4634748670099595,
          -33.819513751962255,
          -12.875261140482996,
          16.572718578773735
         ]
        }
       ],
       "layout": {
        "legend": {
         "bgcolor": "#F5F6F9",
         "font": {
          "color": "#4D5663"
         }
        },
        "paper_bgcolor": "#F5F6F9",
        "plot_bgcolor": "#F5F6F9",
        "template": {
         "data": {
          "bar": [
           {
            "error_x": {
             "color": "#2a3f5f"
            },
            "error_y": {
             "color": "#2a3f5f"
            },
            "marker": {
             "line": {
              "color": "#E5ECF6",
              "width": 0.5
             }
            },
            "type": "bar"
           }
          ],
          "barpolar": [
           {
            "marker": {
             "line": {
              "color": "#E5ECF6",
              "width": 0.5
             }
            },
            "type": "barpolar"
           }
          ],
          "carpet": [
           {
            "aaxis": {
             "endlinecolor": "#2a3f5f",
             "gridcolor": "white",
             "linecolor": "white",
             "minorgridcolor": "white",
             "startlinecolor": "#2a3f5f"
            },
            "baxis": {
             "endlinecolor": "#2a3f5f",
             "gridcolor": "white",
             "linecolor": "white",
             "minorgridcolor": "white",
             "startlinecolor": "#2a3f5f"
            },
            "type": "carpet"
           }
          ],
          "choropleth": [
           {
            "colorbar": {
             "outlinewidth": 0,
             "ticks": ""
            },
            "type": "choropleth"
           }
          ],
          "contour": [
           {
            "colorbar": {
             "outlinewidth": 0,
             "ticks": ""
            },
            "colorscale": [
             [
              0,
              "#0d0887"
             ],
             [
              0.1111111111111111,
              "#46039f"
             ],
             [
              0.2222222222222222,
              "#7201a8"
             ],
             [
              0.3333333333333333,
              "#9c179e"
             ],
             [
              0.4444444444444444,
              "#bd3786"
             ],
             [
              0.5555555555555556,
              "#d8576b"
             ],
             [
              0.6666666666666666,
              "#ed7953"
             ],
             [
              0.7777777777777778,
              "#fb9f3a"
             ],
             [
              0.8888888888888888,
              "#fdca26"
             ],
             [
              1,
              "#f0f921"
             ]
            ],
            "type": "contour"
           }
          ],
          "contourcarpet": [
           {
            "colorbar": {
             "outlinewidth": 0,
             "ticks": ""
            },
            "type": "contourcarpet"
           }
          ],
          "heatmap": [
           {
            "colorbar": {
             "outlinewidth": 0,
             "ticks": ""
            },
            "colorscale": [
             [
              0,
              "#0d0887"
             ],
             [
              0.1111111111111111,
              "#46039f"
             ],
             [
              0.2222222222222222,
              "#7201a8"
             ],
             [
              0.3333333333333333,
              "#9c179e"
             ],
             [
              0.4444444444444444,
              "#bd3786"
             ],
             [
              0.5555555555555556,
              "#d8576b"
             ],
             [
              0.6666666666666666,
              "#ed7953"
             ],
             [
              0.7777777777777778,
              "#fb9f3a"
             ],
             [
              0.8888888888888888,
              "#fdca26"
             ],
             [
              1,
              "#f0f921"
             ]
            ],
            "type": "heatmap"
           }
          ],
          "heatmapgl": [
           {
            "colorbar": {
             "outlinewidth": 0,
             "ticks": ""
            },
            "colorscale": [
             [
              0,
              "#0d0887"
             ],
             [
              0.1111111111111111,
              "#46039f"
             ],
             [
              0.2222222222222222,
              "#7201a8"
             ],
             [
              0.3333333333333333,
              "#9c179e"
             ],
             [
              0.4444444444444444,
              "#bd3786"
             ],
             [
              0.5555555555555556,
              "#d8576b"
             ],
             [
              0.6666666666666666,
              "#ed7953"
             ],
             [
              0.7777777777777778,
              "#fb9f3a"
             ],
             [
              0.8888888888888888,
              "#fdca26"
             ],
             [
              1,
              "#f0f921"
             ]
            ],
            "type": "heatmapgl"
           }
          ],
          "histogram": [
           {
            "marker": {
             "colorbar": {
              "outlinewidth": 0,
              "ticks": ""
             }
            },
            "type": "histogram"
           }
          ],
          "histogram2d": [
           {
            "colorbar": {
             "outlinewidth": 0,
             "ticks": ""
            },
            "colorscale": [
             [
              0,
              "#0d0887"
             ],
             [
              0.1111111111111111,
              "#46039f"
             ],
             [
              0.2222222222222222,
              "#7201a8"
             ],
             [
              0.3333333333333333,
              "#9c179e"
             ],
             [
              0.4444444444444444,
              "#bd3786"
             ],
             [
              0.5555555555555556,
              "#d8576b"
             ],
             [
              0.6666666666666666,
              "#ed7953"
             ],
             [
              0.7777777777777778,
              "#fb9f3a"
             ],
             [
              0.8888888888888888,
              "#fdca26"
             ],
             [
              1,
              "#f0f921"
             ]
            ],
            "type": "histogram2d"
           }
          ],
          "histogram2dcontour": [
           {
            "colorbar": {
             "outlinewidth": 0,
             "ticks": ""
            },
            "colorscale": [
             [
              0,
              "#0d0887"
             ],
             [
              0.1111111111111111,
              "#46039f"
             ],
             [
              0.2222222222222222,
              "#7201a8"
             ],
             [
              0.3333333333333333,
              "#9c179e"
             ],
             [
              0.4444444444444444,
              "#bd3786"
             ],
             [
              0.5555555555555556,
              "#d8576b"
             ],
             [
              0.6666666666666666,
              "#ed7953"
             ],
             [
              0.7777777777777778,
              "#fb9f3a"
             ],
             [
              0.8888888888888888,
              "#fdca26"
             ],
             [
              1,
              "#f0f921"
             ]
            ],
            "type": "histogram2dcontour"
           }
          ],
          "mesh3d": [
           {
            "colorbar": {
             "outlinewidth": 0,
             "ticks": ""
            },
            "type": "mesh3d"
           }
          ],
          "parcoords": [
           {
            "line": {
             "colorbar": {
              "outlinewidth": 0,
              "ticks": ""
             }
            },
            "type": "parcoords"
           }
          ],
          "pie": [
           {
            "automargin": true,
            "type": "pie"
           }
          ],
          "scatter": [
           {
            "marker": {
             "colorbar": {
              "outlinewidth": 0,
              "ticks": ""
             }
            },
            "type": "scatter"
           }
          ],
          "scatter3d": [
           {
            "line": {
             "colorbar": {
              "outlinewidth": 0,
              "ticks": ""
             }
            },
            "marker": {
             "colorbar": {
              "outlinewidth": 0,
              "ticks": ""
             }
            },
            "type": "scatter3d"
           }
          ],
          "scattercarpet": [
           {
            "marker": {
             "colorbar": {
              "outlinewidth": 0,
              "ticks": ""
             }
            },
            "type": "scattercarpet"
           }
          ],
          "scattergeo": [
           {
            "marker": {
             "colorbar": {
              "outlinewidth": 0,
              "ticks": ""
             }
            },
            "type": "scattergeo"
           }
          ],
          "scattergl": [
           {
            "marker": {
             "colorbar": {
              "outlinewidth": 0,
              "ticks": ""
             }
            },
            "type": "scattergl"
           }
          ],
          "scattermapbox": [
           {
            "marker": {
             "colorbar": {
              "outlinewidth": 0,
              "ticks": ""
             }
            },
            "type": "scattermapbox"
           }
          ],
          "scatterpolar": [
           {
            "marker": {
             "colorbar": {
              "outlinewidth": 0,
              "ticks": ""
             }
            },
            "type": "scatterpolar"
           }
          ],
          "scatterpolargl": [
           {
            "marker": {
             "colorbar": {
              "outlinewidth": 0,
              "ticks": ""
             }
            },
            "type": "scatterpolargl"
           }
          ],
          "scatterternary": [
           {
            "marker": {
             "colorbar": {
              "outlinewidth": 0,
              "ticks": ""
             }
            },
            "type": "scatterternary"
           }
          ],
          "surface": [
           {
            "colorbar": {
             "outlinewidth": 0,
             "ticks": ""
            },
            "colorscale": [
             [
              0,
              "#0d0887"
             ],
             [
              0.1111111111111111,
              "#46039f"
             ],
             [
              0.2222222222222222,
              "#7201a8"
             ],
             [
              0.3333333333333333,
              "#9c179e"
             ],
             [
              0.4444444444444444,
              "#bd3786"
             ],
             [
              0.5555555555555556,
              "#d8576b"
             ],
             [
              0.6666666666666666,
              "#ed7953"
             ],
             [
              0.7777777777777778,
              "#fb9f3a"
             ],
             [
              0.8888888888888888,
              "#fdca26"
             ],
             [
              1,
              "#f0f921"
             ]
            ],
            "type": "surface"
           }
          ],
          "table": [
           {
            "cells": {
             "fill": {
              "color": "#EBF0F8"
             },
             "line": {
              "color": "white"
             }
            },
            "header": {
             "fill": {
              "color": "#C8D4E3"
             },
             "line": {
              "color": "white"
             }
            },
            "type": "table"
           }
          ]
         },
         "layout": {
          "annotationdefaults": {
           "arrowcolor": "#2a3f5f",
           "arrowhead": 0,
           "arrowwidth": 1
          },
          "autotypenumbers": "strict",
          "coloraxis": {
           "colorbar": {
            "outlinewidth": 0,
            "ticks": ""
           }
          },
          "colorscale": {
           "diverging": [
            [
             0,
             "#8e0152"
            ],
            [
             0.1,
             "#c51b7d"
            ],
            [
             0.2,
             "#de77ae"
            ],
            [
             0.3,
             "#f1b6da"
            ],
            [
             0.4,
             "#fde0ef"
            ],
            [
             0.5,
             "#f7f7f7"
            ],
            [
             0.6,
             "#e6f5d0"
            ],
            [
             0.7,
             "#b8e186"
            ],
            [
             0.8,
             "#7fbc41"
            ],
            [
             0.9,
             "#4d9221"
            ],
            [
             1,
             "#276419"
            ]
           ],
           "sequential": [
            [
             0,
             "#0d0887"
            ],
            [
             0.1111111111111111,
             "#46039f"
            ],
            [
             0.2222222222222222,
             "#7201a8"
            ],
            [
             0.3333333333333333,
             "#9c179e"
            ],
            [
             0.4444444444444444,
             "#bd3786"
            ],
            [
             0.5555555555555556,
             "#d8576b"
            ],
            [
             0.6666666666666666,
             "#ed7953"
            ],
            [
             0.7777777777777778,
             "#fb9f3a"
            ],
            [
             0.8888888888888888,
             "#fdca26"
            ],
            [
             1,
             "#f0f921"
            ]
           ],
           "sequentialminus": [
            [
             0,
             "#0d0887"
            ],
            [
             0.1111111111111111,
             "#46039f"
            ],
            [
             0.2222222222222222,
             "#7201a8"
            ],
            [
             0.3333333333333333,
             "#9c179e"
            ],
            [
             0.4444444444444444,
             "#bd3786"
            ],
            [
             0.5555555555555556,
             "#d8576b"
            ],
            [
             0.6666666666666666,
             "#ed7953"
            ],
            [
             0.7777777777777778,
             "#fb9f3a"
            ],
            [
             0.8888888888888888,
             "#fdca26"
            ],
            [
             1,
             "#f0f921"
            ]
           ]
          },
          "colorway": [
           "#636efa",
           "#EF553B",
           "#00cc96",
           "#ab63fa",
           "#FFA15A",
           "#19d3f3",
           "#FF6692",
           "#B6E880",
           "#FF97FF",
           "#FECB52"
          ],
          "font": {
           "color": "#2a3f5f"
          },
          "geo": {
           "bgcolor": "white",
           "lakecolor": "white",
           "landcolor": "#E5ECF6",
           "showlakes": true,
           "showland": true,
           "subunitcolor": "white"
          },
          "hoverlabel": {
           "align": "left"
          },
          "hovermode": "closest",
          "mapbox": {
           "style": "light"
          },
          "paper_bgcolor": "white",
          "plot_bgcolor": "#E5ECF6",
          "polar": {
           "angularaxis": {
            "gridcolor": "white",
            "linecolor": "white",
            "ticks": ""
           },
           "bgcolor": "#E5ECF6",
           "radialaxis": {
            "gridcolor": "white",
            "linecolor": "white",
            "ticks": ""
           }
          },
          "scene": {
           "xaxis": {
            "backgroundcolor": "#E5ECF6",
            "gridcolor": "white",
            "gridwidth": 2,
            "linecolor": "white",
            "showbackground": true,
            "ticks": "",
            "zerolinecolor": "white"
           },
           "yaxis": {
            "backgroundcolor": "#E5ECF6",
            "gridcolor": "white",
            "gridwidth": 2,
            "linecolor": "white",
            "showbackground": true,
            "ticks": "",
            "zerolinecolor": "white"
           },
           "zaxis": {
            "backgroundcolor": "#E5ECF6",
            "gridcolor": "white",
            "gridwidth": 2,
            "linecolor": "white",
            "showbackground": true,
            "ticks": "",
            "zerolinecolor": "white"
           }
          },
          "shapedefaults": {
           "line": {
            "color": "#2a3f5f"
           }
          },
          "ternary": {
           "aaxis": {
            "gridcolor": "white",
            "linecolor": "white",
            "ticks": ""
           },
           "baxis": {
            "gridcolor": "white",
            "linecolor": "white",
            "ticks": ""
           },
           "bgcolor": "#E5ECF6",
           "caxis": {
            "gridcolor": "white",
            "linecolor": "white",
            "ticks": ""
           }
          },
          "title": {
           "x": 0.05
          },
          "xaxis": {
           "automargin": true,
           "gridcolor": "white",
           "linecolor": "white",
           "ticks": "",
           "title": {
            "standoff": 15
           },
           "zerolinecolor": "white",
           "zerolinewidth": 2
          },
          "yaxis": {
           "automargin": true,
           "gridcolor": "white",
           "linecolor": "white",
           "ticks": "",
           "title": {
            "standoff": 15
           },
           "zerolinecolor": "white",
           "zerolinewidth": 2
          }
         }
        },
        "title": {
         "font": {
          "color": "#4D5663"
         }
        },
        "xaxis": {
         "gridcolor": "#E1E5ED",
         "showgrid": true,
         "tickfont": {
          "color": "#4D5663"
         },
         "title": {
          "font": {
           "color": "#4D5663"
          },
          "text": ""
         },
         "zerolinecolor": "#E1E5ED"
        },
        "yaxis": {
         "gridcolor": "#E1E5ED",
         "showgrid": true,
         "tickfont": {
          "color": "#4D5663"
         },
         "title": {
          "font": {
           "color": "#4D5663"
          },
          "text": ""
         },
         "zerolinecolor": "#E1E5ED"
        }
       }
      },
      "text/html": [
       "<div>                            <div id=\"46fa6e9d-31b1-4563-8029-9e9143399430\" class=\"plotly-graph-div\" style=\"height:525px; width:100%;\"></div>            <script type=\"text/javascript\">                require([\"plotly\"], function(Plotly) {                    window.PLOTLYENV=window.PLOTLYENV || {};\n",
       "                    window.PLOTLYENV.BASE_URL='https://plot.ly';                                    if (document.getElementById(\"46fa6e9d-31b1-4563-8029-9e9143399430\")) {                    Plotly.newPlot(                        \"46fa6e9d-31b1-4563-8029-9e9143399430\",                        [{\"marker\": {\"color\": \"rgba(255, 153, 51, 0.6)\", \"line\": {\"color\": \"rgba(255, 153, 51, 1.0)\", \"width\": 1}}, \"name\": \"None\", \"orientation\": \"v\", \"text\": \"\", \"type\": \"bar\", \"x\": [\"A\", \"B\", \"C\", \"D\"], \"y\": [2.4634748670099595, -33.819513751962255, -12.875261140482996, 16.572718578773735]}],                        {\"legend\": {\"bgcolor\": \"#F5F6F9\", \"font\": {\"color\": \"#4D5663\"}}, \"paper_bgcolor\": \"#F5F6F9\", \"plot_bgcolor\": \"#F5F6F9\", \"template\": {\"data\": {\"bar\": [{\"error_x\": {\"color\": \"#2a3f5f\"}, \"error_y\": {\"color\": \"#2a3f5f\"}, \"marker\": {\"line\": {\"color\": \"#E5ECF6\", \"width\": 0.5}}, \"type\": \"bar\"}], \"barpolar\": [{\"marker\": {\"line\": {\"color\": \"#E5ECF6\", \"width\": 0.5}}, \"type\": \"barpolar\"}], \"carpet\": [{\"aaxis\": {\"endlinecolor\": \"#2a3f5f\", \"gridcolor\": \"white\", \"linecolor\": \"white\", \"minorgridcolor\": \"white\", \"startlinecolor\": \"#2a3f5f\"}, \"baxis\": {\"endlinecolor\": \"#2a3f5f\", \"gridcolor\": \"white\", \"linecolor\": \"white\", \"minorgridcolor\": \"white\", \"startlinecolor\": \"#2a3f5f\"}, \"type\": \"carpet\"}], \"choropleth\": [{\"colorbar\": {\"outlinewidth\": 0, \"ticks\": \"\"}, \"type\": \"choropleth\"}], \"contour\": [{\"colorbar\": {\"outlinewidth\": 0, \"ticks\": \"\"}, \"colorscale\": [[0.0, \"#0d0887\"], [0.1111111111111111, \"#46039f\"], [0.2222222222222222, \"#7201a8\"], [0.3333333333333333, \"#9c179e\"], [0.4444444444444444, \"#bd3786\"], [0.5555555555555556, \"#d8576b\"], [0.6666666666666666, \"#ed7953\"], [0.7777777777777778, \"#fb9f3a\"], [0.8888888888888888, \"#fdca26\"], [1.0, \"#f0f921\"]], \"type\": \"contour\"}], \"contourcarpet\": [{\"colorbar\": {\"outlinewidth\": 0, \"ticks\": \"\"}, \"type\": \"contourcarpet\"}], \"heatmap\": [{\"colorbar\": {\"outlinewidth\": 0, \"ticks\": \"\"}, \"colorscale\": [[0.0, \"#0d0887\"], [0.1111111111111111, \"#46039f\"], [0.2222222222222222, \"#7201a8\"], [0.3333333333333333, \"#9c179e\"], [0.4444444444444444, \"#bd3786\"], [0.5555555555555556, \"#d8576b\"], [0.6666666666666666, \"#ed7953\"], [0.7777777777777778, \"#fb9f3a\"], [0.8888888888888888, \"#fdca26\"], [1.0, \"#f0f921\"]], \"type\": \"heatmap\"}], \"heatmapgl\": [{\"colorbar\": {\"outlinewidth\": 0, \"ticks\": \"\"}, \"colorscale\": [[0.0, \"#0d0887\"], [0.1111111111111111, \"#46039f\"], [0.2222222222222222, \"#7201a8\"], [0.3333333333333333, \"#9c179e\"], [0.4444444444444444, \"#bd3786\"], [0.5555555555555556, \"#d8576b\"], [0.6666666666666666, \"#ed7953\"], [0.7777777777777778, \"#fb9f3a\"], [0.8888888888888888, \"#fdca26\"], [1.0, \"#f0f921\"]], \"type\": \"heatmapgl\"}], \"histogram\": [{\"marker\": {\"colorbar\": {\"outlinewidth\": 0, \"ticks\": \"\"}}, \"type\": \"histogram\"}], \"histogram2d\": [{\"colorbar\": {\"outlinewidth\": 0, \"ticks\": \"\"}, \"colorscale\": [[0.0, \"#0d0887\"], [0.1111111111111111, \"#46039f\"], [0.2222222222222222, \"#7201a8\"], [0.3333333333333333, \"#9c179e\"], [0.4444444444444444, \"#bd3786\"], [0.5555555555555556, \"#d8576b\"], [0.6666666666666666, \"#ed7953\"], [0.7777777777777778, \"#fb9f3a\"], [0.8888888888888888, \"#fdca26\"], [1.0, \"#f0f921\"]], \"type\": \"histogram2d\"}], \"histogram2dcontour\": [{\"colorbar\": {\"outlinewidth\": 0, \"ticks\": \"\"}, \"colorscale\": [[0.0, \"#0d0887\"], [0.1111111111111111, \"#46039f\"], [0.2222222222222222, \"#7201a8\"], [0.3333333333333333, \"#9c179e\"], [0.4444444444444444, \"#bd3786\"], [0.5555555555555556, \"#d8576b\"], [0.6666666666666666, \"#ed7953\"], [0.7777777777777778, \"#fb9f3a\"], [0.8888888888888888, \"#fdca26\"], [1.0, \"#f0f921\"]], \"type\": \"histogram2dcontour\"}], \"mesh3d\": [{\"colorbar\": {\"outlinewidth\": 0, \"ticks\": \"\"}, \"type\": \"mesh3d\"}], \"parcoords\": [{\"line\": {\"colorbar\": {\"outlinewidth\": 0, \"ticks\": \"\"}}, \"type\": \"parcoords\"}], \"pie\": [{\"automargin\": true, \"type\": \"pie\"}], \"scatter\": [{\"marker\": {\"colorbar\": {\"outlinewidth\": 0, \"ticks\": \"\"}}, \"type\": \"scatter\"}], \"scatter3d\": [{\"line\": {\"colorbar\": {\"outlinewidth\": 0, \"ticks\": \"\"}}, \"marker\": {\"colorbar\": {\"outlinewidth\": 0, \"ticks\": \"\"}}, \"type\": \"scatter3d\"}], \"scattercarpet\": [{\"marker\": {\"colorbar\": {\"outlinewidth\": 0, \"ticks\": \"\"}}, \"type\": \"scattercarpet\"}], \"scattergeo\": [{\"marker\": {\"colorbar\": {\"outlinewidth\": 0, \"ticks\": \"\"}}, \"type\": \"scattergeo\"}], \"scattergl\": [{\"marker\": {\"colorbar\": {\"outlinewidth\": 0, \"ticks\": \"\"}}, \"type\": \"scattergl\"}], \"scattermapbox\": [{\"marker\": {\"colorbar\": {\"outlinewidth\": 0, \"ticks\": \"\"}}, \"type\": \"scattermapbox\"}], \"scatterpolar\": [{\"marker\": {\"colorbar\": {\"outlinewidth\": 0, \"ticks\": \"\"}}, \"type\": \"scatterpolar\"}], \"scatterpolargl\": [{\"marker\": {\"colorbar\": {\"outlinewidth\": 0, \"ticks\": \"\"}}, \"type\": \"scatterpolargl\"}], \"scatterternary\": [{\"marker\": {\"colorbar\": {\"outlinewidth\": 0, \"ticks\": \"\"}}, \"type\": \"scatterternary\"}], \"surface\": [{\"colorbar\": {\"outlinewidth\": 0, \"ticks\": \"\"}, \"colorscale\": [[0.0, \"#0d0887\"], [0.1111111111111111, \"#46039f\"], [0.2222222222222222, \"#7201a8\"], [0.3333333333333333, \"#9c179e\"], [0.4444444444444444, \"#bd3786\"], [0.5555555555555556, \"#d8576b\"], [0.6666666666666666, \"#ed7953\"], [0.7777777777777778, \"#fb9f3a\"], [0.8888888888888888, \"#fdca26\"], [1.0, \"#f0f921\"]], \"type\": \"surface\"}], \"table\": [{\"cells\": {\"fill\": {\"color\": \"#EBF0F8\"}, \"line\": {\"color\": \"white\"}}, \"header\": {\"fill\": {\"color\": \"#C8D4E3\"}, \"line\": {\"color\": \"white\"}}, \"type\": \"table\"}]}, \"layout\": {\"annotationdefaults\": {\"arrowcolor\": \"#2a3f5f\", \"arrowhead\": 0, \"arrowwidth\": 1}, \"autotypenumbers\": \"strict\", \"coloraxis\": {\"colorbar\": {\"outlinewidth\": 0, \"ticks\": \"\"}}, \"colorscale\": {\"diverging\": [[0, \"#8e0152\"], [0.1, \"#c51b7d\"], [0.2, \"#de77ae\"], [0.3, \"#f1b6da\"], [0.4, \"#fde0ef\"], [0.5, \"#f7f7f7\"], [0.6, \"#e6f5d0\"], [0.7, \"#b8e186\"], [0.8, \"#7fbc41\"], [0.9, \"#4d9221\"], [1, \"#276419\"]], \"sequential\": [[0.0, \"#0d0887\"], [0.1111111111111111, \"#46039f\"], [0.2222222222222222, \"#7201a8\"], [0.3333333333333333, \"#9c179e\"], [0.4444444444444444, \"#bd3786\"], [0.5555555555555556, \"#d8576b\"], [0.6666666666666666, \"#ed7953\"], [0.7777777777777778, \"#fb9f3a\"], [0.8888888888888888, \"#fdca26\"], [1.0, \"#f0f921\"]], \"sequentialminus\": [[0.0, \"#0d0887\"], [0.1111111111111111, \"#46039f\"], [0.2222222222222222, \"#7201a8\"], [0.3333333333333333, \"#9c179e\"], [0.4444444444444444, \"#bd3786\"], [0.5555555555555556, \"#d8576b\"], [0.6666666666666666, \"#ed7953\"], [0.7777777777777778, \"#fb9f3a\"], [0.8888888888888888, \"#fdca26\"], [1.0, \"#f0f921\"]]}, \"colorway\": [\"#636efa\", \"#EF553B\", \"#00cc96\", \"#ab63fa\", \"#FFA15A\", \"#19d3f3\", \"#FF6692\", \"#B6E880\", \"#FF97FF\", \"#FECB52\"], \"font\": {\"color\": \"#2a3f5f\"}, \"geo\": {\"bgcolor\": \"white\", \"lakecolor\": \"white\", \"landcolor\": \"#E5ECF6\", \"showlakes\": true, \"showland\": true, \"subunitcolor\": \"white\"}, \"hoverlabel\": {\"align\": \"left\"}, \"hovermode\": \"closest\", \"mapbox\": {\"style\": \"light\"}, \"paper_bgcolor\": \"white\", \"plot_bgcolor\": \"#E5ECF6\", \"polar\": {\"angularaxis\": {\"gridcolor\": \"white\", \"linecolor\": \"white\", \"ticks\": \"\"}, \"bgcolor\": \"#E5ECF6\", \"radialaxis\": {\"gridcolor\": \"white\", \"linecolor\": \"white\", \"ticks\": \"\"}}, \"scene\": {\"xaxis\": {\"backgroundcolor\": \"#E5ECF6\", \"gridcolor\": \"white\", \"gridwidth\": 2, \"linecolor\": \"white\", \"showbackground\": true, \"ticks\": \"\", \"zerolinecolor\": \"white\"}, \"yaxis\": {\"backgroundcolor\": \"#E5ECF6\", \"gridcolor\": \"white\", \"gridwidth\": 2, \"linecolor\": \"white\", \"showbackground\": true, \"ticks\": \"\", \"zerolinecolor\": \"white\"}, \"zaxis\": {\"backgroundcolor\": \"#E5ECF6\", \"gridcolor\": \"white\", \"gridwidth\": 2, \"linecolor\": \"white\", \"showbackground\": true, \"ticks\": \"\", \"zerolinecolor\": \"white\"}}, \"shapedefaults\": {\"line\": {\"color\": \"#2a3f5f\"}}, \"ternary\": {\"aaxis\": {\"gridcolor\": \"white\", \"linecolor\": \"white\", \"ticks\": \"\"}, \"baxis\": {\"gridcolor\": \"white\", \"linecolor\": \"white\", \"ticks\": \"\"}, \"bgcolor\": \"#E5ECF6\", \"caxis\": {\"gridcolor\": \"white\", \"linecolor\": \"white\", \"ticks\": \"\"}}, \"title\": {\"x\": 0.05}, \"xaxis\": {\"automargin\": true, \"gridcolor\": \"white\", \"linecolor\": \"white\", \"ticks\": \"\", \"title\": {\"standoff\": 15}, \"zerolinecolor\": \"white\", \"zerolinewidth\": 2}, \"yaxis\": {\"automargin\": true, \"gridcolor\": \"white\", \"linecolor\": \"white\", \"ticks\": \"\", \"title\": {\"standoff\": 15}, \"zerolinecolor\": \"white\", \"zerolinewidth\": 2}}}, \"title\": {\"font\": {\"color\": \"#4D5663\"}}, \"xaxis\": {\"gridcolor\": \"#E1E5ED\", \"showgrid\": true, \"tickfont\": {\"color\": \"#4D5663\"}, \"title\": {\"font\": {\"color\": \"#4D5663\"}, \"text\": \"\"}, \"zerolinecolor\": \"#E1E5ED\"}, \"yaxis\": {\"gridcolor\": \"#E1E5ED\", \"showgrid\": true, \"tickfont\": {\"color\": \"#4D5663\"}, \"title\": {\"font\": {\"color\": \"#4D5663\"}, \"text\": \"\"}, \"zerolinecolor\": \"#E1E5ED\"}},                        {\"showLink\": true, \"linkText\": \"Export to plot.ly\", \"plotlyServerURL\": \"https://plot.ly\", \"responsive\": true}                    ).then(function(){\n",
       "                            \n",
       "var gd = document.getElementById('46fa6e9d-31b1-4563-8029-9e9143399430');\n",
       "var x = new MutationObserver(function (mutations, observer) {{\n",
       "        var display = window.getComputedStyle(gd).display;\n",
       "        if (!display || display === 'none') {{\n",
       "            console.log([gd, 'removed!']);\n",
       "            Plotly.purge(gd);\n",
       "            observer.disconnect();\n",
       "        }}\n",
       "}});\n",
       "\n",
       "// Listen for the removal of the full notebook cells\n",
       "var notebookContainer = gd.closest('#notebook-container');\n",
       "if (notebookContainer) {{\n",
       "    x.observe(notebookContainer, {childList: true});\n",
       "}}\n",
       "\n",
       "// Listen for the clearing of the current output cell\n",
       "var outputEl = gd.closest('.output');\n",
       "if (outputEl) {{\n",
       "    x.observe(outputEl, {childList: true});\n",
       "}}\n",
       "\n",
       "                        })                };                });            </script>        </div>"
      ]
     },
     "metadata": {},
     "output_type": "display_data"
    }
   ],
   "source": [
    "df.sum().iplot(kind='bar')"
   ]
  },
  {
   "cell_type": "code",
   "execution_count": 26,
   "metadata": {},
   "outputs": [
    {
     "data": {
      "application/vnd.plotly.v1+json": {
       "config": {
        "linkText": "Export to plot.ly",
        "plotlyServerURL": "https://plot.ly",
        "showLink": true
       },
       "data": [
        {
         "boxpoints": false,
         "line": {
          "width": 1.3
         },
         "marker": {
          "color": "rgba(255, 153, 51, 1.0)"
         },
         "name": "A",
         "orientation": "v",
         "type": "box",
         "y": [
          -0.5834753383517299,
          -0.17406211351662937,
          0.3060879792029995,
          -0.9534093278803556,
          0.3335305517157785,
          -0.97208229715675,
          0.773922882267899,
          1.4949271133171107,
          0.8367814978013194,
          0.08308209603773245,
          1.182761740458536,
          0.49774685820127185,
          0.14198467055805747,
          -1.1355453476946098,
          1.011619431731822,
          -0.6353426447605321,
          -0.5424144198586475,
          -1.5756694152563402,
          1.2337366847436115,
          0.11368435771078347,
          -1.8603332979892468,
          -0.37908290090239266,
          -2.3952188064783204,
          0.8877427257916617,
          -0.7115630132230167,
          -1.9603833676408622,
          -0.28727568692696054,
          -1.1266536274403456,
          1.1008068413241312,
          0.9886964497727425,
          -0.5102809461243386,
          -0.26700043460695194,
          0.9015877446659447,
          -0.21081646226019637,
          2.7208289305974653,
          0.1416432945420239,
          0.04999158259603204,
          -0.5592081595503431,
          0.45281455512608043,
          -0.47627645727787193,
          1.207059439612465,
          0.4777022075082107,
          -1.026931705617259,
          -0.09326720728713248,
          -2.4491799906079867,
          -0.9669689841078734,
          0.39843192202660516,
          -1.601682430692205,
          -0.09730257947951387,
          0.705339489766667,
          -0.6885982039996992,
          0.6473742218943702,
          1.0899943898808402,
          -0.3672553912402756,
          0.3987603976761634,
          -0.19251739749906915,
          -0.6650279548408881,
          0.1609926421761508,
          0.5130893323136226,
          0.40379560486445404,
          1.5089011416060847,
          0.9171065596968837,
          -0.8461891366811787,
          1.0164246921459297,
          0.6682311222058028,
          -0.11500234092630772,
          1.5242086731479125,
          1.1030176443205182,
          -0.18787103995561596,
          -1.3538512726051395,
          0.8253066278166783,
          -0.3119693363687069,
          0.21814712315537818,
          -0.0735611122243912,
          -0.028292622673684212,
          -1.1577550791690683,
          1.3129945490002852,
          0.4300996259364016,
          -1.2300531873215208,
          0.2321272415931786,
          0.37983972009769645,
          -0.48843454037353673,
          -0.44977945445042544,
          1.6926048669377491,
          1.5476340525379164,
          0.9038064089580464,
          0.34345404520601236,
          -0.3738001536190124,
          1.0211207868093704,
          0.9146321683636861,
          -0.518458729915045,
          -1.2156051542720545,
          0.6405558740080012,
          -1.5203730953554544,
          0.23280630549747244,
          -1.2106399353868293,
          0.2511404517840312,
          1.66809342037484,
          -0.3742517195980744,
          -1.2245820489080763
         ]
        },
        {
         "boxpoints": false,
         "line": {
          "width": 1.3
         },
         "marker": {
          "color": "rgba(55, 128, 191, 1.0)"
         },
         "name": "B",
         "orientation": "v",
         "type": "box",
         "y": [
          -1.3758072804282802,
          -2.0166423275795045,
          -0.1338910600221726,
          -0.5820663677732987,
          0.9712282596893289,
          0.04856414782439493,
          -1.6446518762072733,
          -0.9421467336068651,
          0.21954059186296845,
          0.36807439477449627,
          -0.3654460240432651,
          -0.8881757488822261,
          1.1359574308252038,
          1.784248095321167,
          -2.230174327763357,
          -0.9096345705300771,
          0.058131826476081325,
          0.49564915635896856,
          0.9955580219566825,
          0.9416554478215717,
          0.501777796879372,
          0.5832116202465111,
          0.07587249397032425,
          -1.3196824810937708,
          0.4830791708975699,
          -1.374253540092365,
          -0.5760286311195967,
          0.7116952836336254,
          -0.3114529511132174,
          -0.4000450842140983,
          0.04992534906556205,
          1.954807728032101,
          0.13171389071864884,
          -0.033496919366209084,
          -0.49088708243273443,
          -0.32917951662922473,
          -0.6357922655639845,
          0.01910882388183459,
          0.6605981182143601,
          0.2871073718275956,
          -0.7967523017727124,
          1.2749217387718361,
          -1.0184090272611115,
          -0.30776517663371084,
          -1.3835687056089345,
          -0.9589418851101955,
          0.8388110623238367,
          -0.8262275451330596,
          -1.8834577989862957,
          0.5672824330131843,
          1.5196434832141326,
          -0.9864345081943736,
          -0.09831683886884271,
          -0.4837052077847503,
          1.2148627172318998,
          -0.8692477403189863,
          -2.145542147953029,
          -1.026863204622045,
          0.5759905082069539,
          -0.08525962897285295,
          0.1994816415925022,
          0.29053581455171307,
          1.6111189999118847,
          -0.8918623381139243,
          0.757880123902853,
          -0.9228502119583749,
          0.2614246572476863,
          -1.4678941893578006,
          -1.7208349749814054,
          -1.188026523351157,
          -1.3120013569153754,
          -0.26774879333661716,
          -0.8918948740304229,
          -1.8768343945216002,
          0.5804338332708612,
          -0.506169023116886,
          -0.25771991196350186,
          -1.891780200402067,
          -0.90439014692466,
          -0.6309894908570972,
          -2.07726520770258,
          0.44560260665169893,
          0.36344301847922245,
          -0.9338476374001575,
          -0.7805318229279821,
          -1.4284991217257477,
          -1.5086579661524255,
          -0.01569096789541602,
          -2.1206884425801995,
          -1.971641489490636,
          -0.16318933968466018,
          0.26430296290179456,
          -0.9783848110025019,
          -0.8944221474552131,
          0.4463550575217183,
          0.9586322265346929,
          -0.5716261211754448,
          0.9428186601187796,
          -1.6636587907084162,
          -0.14151351627318537
         ]
        },
        {
         "boxpoints": false,
         "line": {
          "width": 1.3
         },
         "marker": {
          "color": "rgba(50, 171, 96, 1.0)"
         },
         "name": "C",
         "orientation": "v",
         "type": "box",
         "y": [
          1.0018795416454491,
          -2.337390086103986,
          -0.4232539974018757,
          -1.8969316747463965,
          0.7998081641187528,
          -0.3661949850561008,
          -1.0181639947152596,
          -0.11585982965963165,
          0.8472399266545323,
          0.43788030425939717,
          -0.663764784381059,
          -0.7337123337610191,
          1.4548197863516765,
          -0.42418631146704205,
          -0.2545716351889039,
          0.5366989835326802,
          0.36605335363143343,
          -1.4143036007630514,
          1.5221013213507886,
          0.7791456306917478,
          0.23025246545213834,
          -1.8638969248337085,
          -1.6884893644211625,
          -0.045487154963125165,
          -0.801121406292604,
          0.0547559143145917,
          0.545183512897039,
          -0.724015990081383,
          0.06573202885491526,
          1.6498167190416173,
          0.6533000011435984,
          -0.5587155424933851,
          -1.7109782094864845,
          2.203279978897059,
          -1.2458021051215071,
          0.7884115134544288,
          -2.1775179047299407,
          -1.2627256229473947,
          1.8817286080299984,
          0.4368373756387097,
          1.7706549361056712,
          0.6526038916660498,
          -0.32547051254043496,
          0.5741831449609582,
          -2.043115613867004,
          0.15453730277501193,
          -0.6087453202889653,
          0.8695799883309445,
          -0.8609126079247554,
          0.9312292205742623,
          0.9033553738916221,
          -1.8349477525385487,
          0.05234757707374364,
          -0.07264521518900441,
          -2.289836482394134,
          -1.6493967640659406,
          -0.482197393675575,
          -1.1391850183853196,
          0.27952172855246427,
          -0.24730382546811683,
          1.4330576241904138,
          1.052331922367535,
          0.13068002155250746,
          -0.607376113375024,
          0.3910918792553487,
          -0.8556328435345957,
          0.41913087940142013,
          -0.35323768409171563,
          1.0702506121182342,
          -1.1916818045776487,
          -0.1925503665005978,
          -0.877017495740593,
          -0.823621667252424,
          -1.3373927643971992,
          -0.6974293794909958,
          -0.941557903733586,
          0.4734217251518457,
          1.760748122282674,
          -0.05527878596913308,
          -1.0481418298737724,
          -1.5224723426836864,
          -0.5445950686677371,
          -1.018327795899508,
          -1.6454156901822734,
          -1.0439229011320366,
          1.226138672249239,
          1.648029568633649,
          1.6132974530492734,
          -0.4729133085871159,
          -0.3224150454961992,
          0.12450040090001759,
          -1.4789057463124318,
          -0.03375216725478918,
          1.5198674300593413,
          -0.7337586002507553,
          1.0376640654837075,
          0.5459608141126524,
          0.5766045985211756,
          0.1707602039956786,
          0.5665018422576403
         ]
        },
        {
         "boxpoints": false,
         "line": {
          "width": 1.3
         },
         "marker": {
          "color": "rgba(128, 0, 128, 1.0)"
         },
         "name": "D",
         "orientation": "v",
         "type": "box",
         "y": [
          -1.3586555500283932,
          -1.1387743176844167,
          0.48169938159576325,
          0.6764372067302944,
          1.1268266747347202,
          0.6057252710507862,
          -0.7513219741686743,
          0.005702313957507184,
          1.4308791760663617,
          1.2005966764227556,
          -0.9875278942485363,
          0.5808660913976754,
          1.4287941005077174,
          0.4620702301387893,
          1.0572734196064548,
          -1.1002913127709155,
          -0.1315515667924692,
          -1.1392566067659655,
          0.07229281640598588,
          -0.5333057149292395,
          0.5816100203393103,
          1.306026153751653,
          1.0195678806161312,
          0.2888420412161623,
          -0.4433382139973612,
          -0.3454345344832595,
          0.35534312460924733,
          -0.43117020195967376,
          -1.5045558829863606,
          -0.1815616314116132,
          -0.4368063742518326,
          -0.22620381140298199,
          0.08720459040528854,
          0.5678243149791222,
          0.5881222446895752,
          0.7480451633782648,
          -1.32794689771268,
          -0.3778143059967874,
          0.16147452672508367,
          0.06410447160154711,
          -0.379738719597055,
          0.39967835730081835,
          0.14216477357882099,
          0.5571022162046607,
          -1.231042034691143,
          0.17497112618671276,
          -0.23977151229832572,
          0.3895289261776583,
          -0.25526591619421546,
          -0.19963109923025427,
          1.1232157056995562,
          -1.3454744427361949,
          -0.9443758475972888,
          0.10462002783908171,
          -0.21414108255498263,
          -0.013631441599426721,
          0.25542382679462305,
          -0.042489116778872876,
          2.223297765291669,
          1.4438772399384525,
          0.3357163929448841,
          1.2836072157745464,
          1.5871881561554102,
          1.3498649620194312,
          -0.1950754533526257,
          -0.3423773505787837,
          1.205801770483136,
          -1.4535643076134128,
          -0.11707550596919053,
          -0.07076833743694082,
          0.05183565834795385,
          -0.6962317336833402,
          -0.2965689315021597,
          -0.4802740478324376,
          1.6212754882155525,
          -0.6149308986561066,
          0.14122511601298043,
          -1.4253659454394587,
          -0.16682763283868907,
          -0.2522594661264877,
          0.6016714218645476,
          2.431213897315591,
          1.4180976108862766,
          1.4556917676318628,
          -0.4258864761956951,
          0.6942935605645597,
          0.8682132087462273,
          0.038312944846510065,
          0.26163123834069224,
          0.3408182247581353,
          2.1254219393308467,
          -0.15326156703769878,
          0.5757955269280755,
          2.017680954544086,
          -0.6816594733685633,
          0.011130112560700777,
          0.8960972114035543,
          -0.6479458737519347,
          -0.6154386787320508,
          -0.5344839718555876
         ]
        }
       ],
       "layout": {
        "legend": {
         "bgcolor": "#F5F6F9",
         "font": {
          "color": "#4D5663"
         }
        },
        "paper_bgcolor": "#F5F6F9",
        "plot_bgcolor": "#F5F6F9",
        "template": {
         "data": {
          "bar": [
           {
            "error_x": {
             "color": "#2a3f5f"
            },
            "error_y": {
             "color": "#2a3f5f"
            },
            "marker": {
             "line": {
              "color": "#E5ECF6",
              "width": 0.5
             }
            },
            "type": "bar"
           }
          ],
          "barpolar": [
           {
            "marker": {
             "line": {
              "color": "#E5ECF6",
              "width": 0.5
             }
            },
            "type": "barpolar"
           }
          ],
          "carpet": [
           {
            "aaxis": {
             "endlinecolor": "#2a3f5f",
             "gridcolor": "white",
             "linecolor": "white",
             "minorgridcolor": "white",
             "startlinecolor": "#2a3f5f"
            },
            "baxis": {
             "endlinecolor": "#2a3f5f",
             "gridcolor": "white",
             "linecolor": "white",
             "minorgridcolor": "white",
             "startlinecolor": "#2a3f5f"
            },
            "type": "carpet"
           }
          ],
          "choropleth": [
           {
            "colorbar": {
             "outlinewidth": 0,
             "ticks": ""
            },
            "type": "choropleth"
           }
          ],
          "contour": [
           {
            "colorbar": {
             "outlinewidth": 0,
             "ticks": ""
            },
            "colorscale": [
             [
              0,
              "#0d0887"
             ],
             [
              0.1111111111111111,
              "#46039f"
             ],
             [
              0.2222222222222222,
              "#7201a8"
             ],
             [
              0.3333333333333333,
              "#9c179e"
             ],
             [
              0.4444444444444444,
              "#bd3786"
             ],
             [
              0.5555555555555556,
              "#d8576b"
             ],
             [
              0.6666666666666666,
              "#ed7953"
             ],
             [
              0.7777777777777778,
              "#fb9f3a"
             ],
             [
              0.8888888888888888,
              "#fdca26"
             ],
             [
              1,
              "#f0f921"
             ]
            ],
            "type": "contour"
           }
          ],
          "contourcarpet": [
           {
            "colorbar": {
             "outlinewidth": 0,
             "ticks": ""
            },
            "type": "contourcarpet"
           }
          ],
          "heatmap": [
           {
            "colorbar": {
             "outlinewidth": 0,
             "ticks": ""
            },
            "colorscale": [
             [
              0,
              "#0d0887"
             ],
             [
              0.1111111111111111,
              "#46039f"
             ],
             [
              0.2222222222222222,
              "#7201a8"
             ],
             [
              0.3333333333333333,
              "#9c179e"
             ],
             [
              0.4444444444444444,
              "#bd3786"
             ],
             [
              0.5555555555555556,
              "#d8576b"
             ],
             [
              0.6666666666666666,
              "#ed7953"
             ],
             [
              0.7777777777777778,
              "#fb9f3a"
             ],
             [
              0.8888888888888888,
              "#fdca26"
             ],
             [
              1,
              "#f0f921"
             ]
            ],
            "type": "heatmap"
           }
          ],
          "heatmapgl": [
           {
            "colorbar": {
             "outlinewidth": 0,
             "ticks": ""
            },
            "colorscale": [
             [
              0,
              "#0d0887"
             ],
             [
              0.1111111111111111,
              "#46039f"
             ],
             [
              0.2222222222222222,
              "#7201a8"
             ],
             [
              0.3333333333333333,
              "#9c179e"
             ],
             [
              0.4444444444444444,
              "#bd3786"
             ],
             [
              0.5555555555555556,
              "#d8576b"
             ],
             [
              0.6666666666666666,
              "#ed7953"
             ],
             [
              0.7777777777777778,
              "#fb9f3a"
             ],
             [
              0.8888888888888888,
              "#fdca26"
             ],
             [
              1,
              "#f0f921"
             ]
            ],
            "type": "heatmapgl"
           }
          ],
          "histogram": [
           {
            "marker": {
             "colorbar": {
              "outlinewidth": 0,
              "ticks": ""
             }
            },
            "type": "histogram"
           }
          ],
          "histogram2d": [
           {
            "colorbar": {
             "outlinewidth": 0,
             "ticks": ""
            },
            "colorscale": [
             [
              0,
              "#0d0887"
             ],
             [
              0.1111111111111111,
              "#46039f"
             ],
             [
              0.2222222222222222,
              "#7201a8"
             ],
             [
              0.3333333333333333,
              "#9c179e"
             ],
             [
              0.4444444444444444,
              "#bd3786"
             ],
             [
              0.5555555555555556,
              "#d8576b"
             ],
             [
              0.6666666666666666,
              "#ed7953"
             ],
             [
              0.7777777777777778,
              "#fb9f3a"
             ],
             [
              0.8888888888888888,
              "#fdca26"
             ],
             [
              1,
              "#f0f921"
             ]
            ],
            "type": "histogram2d"
           }
          ],
          "histogram2dcontour": [
           {
            "colorbar": {
             "outlinewidth": 0,
             "ticks": ""
            },
            "colorscale": [
             [
              0,
              "#0d0887"
             ],
             [
              0.1111111111111111,
              "#46039f"
             ],
             [
              0.2222222222222222,
              "#7201a8"
             ],
             [
              0.3333333333333333,
              "#9c179e"
             ],
             [
              0.4444444444444444,
              "#bd3786"
             ],
             [
              0.5555555555555556,
              "#d8576b"
             ],
             [
              0.6666666666666666,
              "#ed7953"
             ],
             [
              0.7777777777777778,
              "#fb9f3a"
             ],
             [
              0.8888888888888888,
              "#fdca26"
             ],
             [
              1,
              "#f0f921"
             ]
            ],
            "type": "histogram2dcontour"
           }
          ],
          "mesh3d": [
           {
            "colorbar": {
             "outlinewidth": 0,
             "ticks": ""
            },
            "type": "mesh3d"
           }
          ],
          "parcoords": [
           {
            "line": {
             "colorbar": {
              "outlinewidth": 0,
              "ticks": ""
             }
            },
            "type": "parcoords"
           }
          ],
          "pie": [
           {
            "automargin": true,
            "type": "pie"
           }
          ],
          "scatter": [
           {
            "marker": {
             "colorbar": {
              "outlinewidth": 0,
              "ticks": ""
             }
            },
            "type": "scatter"
           }
          ],
          "scatter3d": [
           {
            "line": {
             "colorbar": {
              "outlinewidth": 0,
              "ticks": ""
             }
            },
            "marker": {
             "colorbar": {
              "outlinewidth": 0,
              "ticks": ""
             }
            },
            "type": "scatter3d"
           }
          ],
          "scattercarpet": [
           {
            "marker": {
             "colorbar": {
              "outlinewidth": 0,
              "ticks": ""
             }
            },
            "type": "scattercarpet"
           }
          ],
          "scattergeo": [
           {
            "marker": {
             "colorbar": {
              "outlinewidth": 0,
              "ticks": ""
             }
            },
            "type": "scattergeo"
           }
          ],
          "scattergl": [
           {
            "marker": {
             "colorbar": {
              "outlinewidth": 0,
              "ticks": ""
             }
            },
            "type": "scattergl"
           }
          ],
          "scattermapbox": [
           {
            "marker": {
             "colorbar": {
              "outlinewidth": 0,
              "ticks": ""
             }
            },
            "type": "scattermapbox"
           }
          ],
          "scatterpolar": [
           {
            "marker": {
             "colorbar": {
              "outlinewidth": 0,
              "ticks": ""
             }
            },
            "type": "scatterpolar"
           }
          ],
          "scatterpolargl": [
           {
            "marker": {
             "colorbar": {
              "outlinewidth": 0,
              "ticks": ""
             }
            },
            "type": "scatterpolargl"
           }
          ],
          "scatterternary": [
           {
            "marker": {
             "colorbar": {
              "outlinewidth": 0,
              "ticks": ""
             }
            },
            "type": "scatterternary"
           }
          ],
          "surface": [
           {
            "colorbar": {
             "outlinewidth": 0,
             "ticks": ""
            },
            "colorscale": [
             [
              0,
              "#0d0887"
             ],
             [
              0.1111111111111111,
              "#46039f"
             ],
             [
              0.2222222222222222,
              "#7201a8"
             ],
             [
              0.3333333333333333,
              "#9c179e"
             ],
             [
              0.4444444444444444,
              "#bd3786"
             ],
             [
              0.5555555555555556,
              "#d8576b"
             ],
             [
              0.6666666666666666,
              "#ed7953"
             ],
             [
              0.7777777777777778,
              "#fb9f3a"
             ],
             [
              0.8888888888888888,
              "#fdca26"
             ],
             [
              1,
              "#f0f921"
             ]
            ],
            "type": "surface"
           }
          ],
          "table": [
           {
            "cells": {
             "fill": {
              "color": "#EBF0F8"
             },
             "line": {
              "color": "white"
             }
            },
            "header": {
             "fill": {
              "color": "#C8D4E3"
             },
             "line": {
              "color": "white"
             }
            },
            "type": "table"
           }
          ]
         },
         "layout": {
          "annotationdefaults": {
           "arrowcolor": "#2a3f5f",
           "arrowhead": 0,
           "arrowwidth": 1
          },
          "autotypenumbers": "strict",
          "coloraxis": {
           "colorbar": {
            "outlinewidth": 0,
            "ticks": ""
           }
          },
          "colorscale": {
           "diverging": [
            [
             0,
             "#8e0152"
            ],
            [
             0.1,
             "#c51b7d"
            ],
            [
             0.2,
             "#de77ae"
            ],
            [
             0.3,
             "#f1b6da"
            ],
            [
             0.4,
             "#fde0ef"
            ],
            [
             0.5,
             "#f7f7f7"
            ],
            [
             0.6,
             "#e6f5d0"
            ],
            [
             0.7,
             "#b8e186"
            ],
            [
             0.8,
             "#7fbc41"
            ],
            [
             0.9,
             "#4d9221"
            ],
            [
             1,
             "#276419"
            ]
           ],
           "sequential": [
            [
             0,
             "#0d0887"
            ],
            [
             0.1111111111111111,
             "#46039f"
            ],
            [
             0.2222222222222222,
             "#7201a8"
            ],
            [
             0.3333333333333333,
             "#9c179e"
            ],
            [
             0.4444444444444444,
             "#bd3786"
            ],
            [
             0.5555555555555556,
             "#d8576b"
            ],
            [
             0.6666666666666666,
             "#ed7953"
            ],
            [
             0.7777777777777778,
             "#fb9f3a"
            ],
            [
             0.8888888888888888,
             "#fdca26"
            ],
            [
             1,
             "#f0f921"
            ]
           ],
           "sequentialminus": [
            [
             0,
             "#0d0887"
            ],
            [
             0.1111111111111111,
             "#46039f"
            ],
            [
             0.2222222222222222,
             "#7201a8"
            ],
            [
             0.3333333333333333,
             "#9c179e"
            ],
            [
             0.4444444444444444,
             "#bd3786"
            ],
            [
             0.5555555555555556,
             "#d8576b"
            ],
            [
             0.6666666666666666,
             "#ed7953"
            ],
            [
             0.7777777777777778,
             "#fb9f3a"
            ],
            [
             0.8888888888888888,
             "#fdca26"
            ],
            [
             1,
             "#f0f921"
            ]
           ]
          },
          "colorway": [
           "#636efa",
           "#EF553B",
           "#00cc96",
           "#ab63fa",
           "#FFA15A",
           "#19d3f3",
           "#FF6692",
           "#B6E880",
           "#FF97FF",
           "#FECB52"
          ],
          "font": {
           "color": "#2a3f5f"
          },
          "geo": {
           "bgcolor": "white",
           "lakecolor": "white",
           "landcolor": "#E5ECF6",
           "showlakes": true,
           "showland": true,
           "subunitcolor": "white"
          },
          "hoverlabel": {
           "align": "left"
          },
          "hovermode": "closest",
          "mapbox": {
           "style": "light"
          },
          "paper_bgcolor": "white",
          "plot_bgcolor": "#E5ECF6",
          "polar": {
           "angularaxis": {
            "gridcolor": "white",
            "linecolor": "white",
            "ticks": ""
           },
           "bgcolor": "#E5ECF6",
           "radialaxis": {
            "gridcolor": "white",
            "linecolor": "white",
            "ticks": ""
           }
          },
          "scene": {
           "xaxis": {
            "backgroundcolor": "#E5ECF6",
            "gridcolor": "white",
            "gridwidth": 2,
            "linecolor": "white",
            "showbackground": true,
            "ticks": "",
            "zerolinecolor": "white"
           },
           "yaxis": {
            "backgroundcolor": "#E5ECF6",
            "gridcolor": "white",
            "gridwidth": 2,
            "linecolor": "white",
            "showbackground": true,
            "ticks": "",
            "zerolinecolor": "white"
           },
           "zaxis": {
            "backgroundcolor": "#E5ECF6",
            "gridcolor": "white",
            "gridwidth": 2,
            "linecolor": "white",
            "showbackground": true,
            "ticks": "",
            "zerolinecolor": "white"
           }
          },
          "shapedefaults": {
           "line": {
            "color": "#2a3f5f"
           }
          },
          "ternary": {
           "aaxis": {
            "gridcolor": "white",
            "linecolor": "white",
            "ticks": ""
           },
           "baxis": {
            "gridcolor": "white",
            "linecolor": "white",
            "ticks": ""
           },
           "bgcolor": "#E5ECF6",
           "caxis": {
            "gridcolor": "white",
            "linecolor": "white",
            "ticks": ""
           }
          },
          "title": {
           "x": 0.05
          },
          "xaxis": {
           "automargin": true,
           "gridcolor": "white",
           "linecolor": "white",
           "ticks": "",
           "title": {
            "standoff": 15
           },
           "zerolinecolor": "white",
           "zerolinewidth": 2
          },
          "yaxis": {
           "automargin": true,
           "gridcolor": "white",
           "linecolor": "white",
           "ticks": "",
           "title": {
            "standoff": 15
           },
           "zerolinecolor": "white",
           "zerolinewidth": 2
          }
         }
        },
        "title": {
         "font": {
          "color": "#4D5663"
         }
        },
        "xaxis": {
         "gridcolor": "#E1E5ED",
         "showgrid": true,
         "tickfont": {
          "color": "#4D5663"
         },
         "title": {
          "font": {
           "color": "#4D5663"
          },
          "text": ""
         },
         "zerolinecolor": "#E1E5ED"
        },
        "yaxis": {
         "gridcolor": "#E1E5ED",
         "showgrid": true,
         "tickfont": {
          "color": "#4D5663"
         },
         "title": {
          "font": {
           "color": "#4D5663"
          },
          "text": ""
         },
         "zerolinecolor": "#E1E5ED"
        }
       }
      },
      "text/html": [
       "<div>                            <div id=\"c9f7828d-054d-4d1d-9641-dbcd02394941\" class=\"plotly-graph-div\" style=\"height:525px; width:100%;\"></div>            <script type=\"text/javascript\">                require([\"plotly\"], function(Plotly) {                    window.PLOTLYENV=window.PLOTLYENV || {};\n",
       "                    window.PLOTLYENV.BASE_URL='https://plot.ly';                                    if (document.getElementById(\"c9f7828d-054d-4d1d-9641-dbcd02394941\")) {                    Plotly.newPlot(                        \"c9f7828d-054d-4d1d-9641-dbcd02394941\",                        [{\"boxpoints\": false, \"line\": {\"width\": 1.3}, \"marker\": {\"color\": \"rgba(255, 153, 51, 1.0)\"}, \"name\": \"A\", \"orientation\": \"v\", \"type\": \"box\", \"y\": [-0.5834753383517299, -0.17406211351662937, 0.3060879792029995, -0.9534093278803556, 0.3335305517157785, -0.97208229715675, 0.773922882267899, 1.4949271133171107, 0.8367814978013194, 0.08308209603773245, 1.182761740458536, 0.49774685820127185, 0.14198467055805747, -1.1355453476946098, 1.011619431731822, -0.6353426447605321, -0.5424144198586475, -1.5756694152563402, 1.2337366847436115, 0.11368435771078347, -1.8603332979892468, -0.37908290090239266, -2.3952188064783204, 0.8877427257916617, -0.7115630132230167, -1.9603833676408622, -0.28727568692696054, -1.1266536274403456, 1.1008068413241312, 0.9886964497727425, -0.5102809461243386, -0.26700043460695194, 0.9015877446659447, -0.21081646226019637, 2.7208289305974653, 0.1416432945420239, 0.04999158259603204, -0.5592081595503431, 0.45281455512608043, -0.47627645727787193, 1.207059439612465, 0.4777022075082107, -1.026931705617259, -0.09326720728713248, -2.4491799906079867, -0.9669689841078734, 0.39843192202660516, -1.601682430692205, -0.09730257947951387, 0.705339489766667, -0.6885982039996992, 0.6473742218943702, 1.0899943898808402, -0.3672553912402756, 0.3987603976761634, -0.19251739749906915, -0.6650279548408881, 0.1609926421761508, 0.5130893323136226, 0.40379560486445404, 1.5089011416060847, 0.9171065596968837, -0.8461891366811787, 1.0164246921459297, 0.6682311222058028, -0.11500234092630772, 1.5242086731479125, 1.1030176443205182, -0.18787103995561596, -1.3538512726051395, 0.8253066278166783, -0.3119693363687069, 0.21814712315537818, -0.0735611122243912, -0.028292622673684212, -1.1577550791690683, 1.3129945490002852, 0.4300996259364016, -1.2300531873215208, 0.2321272415931786, 0.37983972009769645, -0.48843454037353673, -0.44977945445042544, 1.6926048669377491, 1.5476340525379164, 0.9038064089580464, 0.34345404520601236, -0.3738001536190124, 1.0211207868093704, 0.9146321683636861, -0.518458729915045, -1.2156051542720545, 0.6405558740080012, -1.5203730953554544, 0.23280630549747244, -1.2106399353868293, 0.2511404517840312, 1.66809342037484, -0.3742517195980744, -1.2245820489080763]}, {\"boxpoints\": false, \"line\": {\"width\": 1.3}, \"marker\": {\"color\": \"rgba(55, 128, 191, 1.0)\"}, \"name\": \"B\", \"orientation\": \"v\", \"type\": \"box\", \"y\": [-1.3758072804282802, -2.0166423275795045, -0.1338910600221726, -0.5820663677732987, 0.9712282596893289, 0.04856414782439493, -1.6446518762072733, -0.9421467336068651, 0.21954059186296845, 0.36807439477449627, -0.3654460240432651, -0.8881757488822261, 1.1359574308252038, 1.784248095321167, -2.230174327763357, -0.9096345705300771, 0.058131826476081325, 0.49564915635896856, 0.9955580219566825, 0.9416554478215717, 0.501777796879372, 0.5832116202465111, 0.07587249397032425, -1.3196824810937708, 0.4830791708975699, -1.374253540092365, -0.5760286311195967, 0.7116952836336254, -0.3114529511132174, -0.4000450842140983, 0.04992534906556205, 1.954807728032101, 0.13171389071864884, -0.033496919366209084, -0.49088708243273443, -0.32917951662922473, -0.6357922655639845, 0.01910882388183459, 0.6605981182143601, 0.2871073718275956, -0.7967523017727124, 1.2749217387718361, -1.0184090272611115, -0.30776517663371084, -1.3835687056089345, -0.9589418851101955, 0.8388110623238367, -0.8262275451330596, -1.8834577989862957, 0.5672824330131843, 1.5196434832141326, -0.9864345081943736, -0.09831683886884271, -0.4837052077847503, 1.2148627172318998, -0.8692477403189863, -2.145542147953029, -1.026863204622045, 0.5759905082069539, -0.08525962897285295, 0.1994816415925022, 0.29053581455171307, 1.6111189999118847, -0.8918623381139243, 0.757880123902853, -0.9228502119583749, 0.2614246572476863, -1.4678941893578006, -1.7208349749814054, -1.188026523351157, -1.3120013569153754, -0.26774879333661716, -0.8918948740304229, -1.8768343945216002, 0.5804338332708612, -0.506169023116886, -0.25771991196350186, -1.891780200402067, -0.90439014692466, -0.6309894908570972, -2.07726520770258, 0.44560260665169893, 0.36344301847922245, -0.9338476374001575, -0.7805318229279821, -1.4284991217257477, -1.5086579661524255, -0.01569096789541602, -2.1206884425801995, -1.971641489490636, -0.16318933968466018, 0.26430296290179456, -0.9783848110025019, -0.8944221474552131, 0.4463550575217183, 0.9586322265346929, -0.5716261211754448, 0.9428186601187796, -1.6636587907084162, -0.14151351627318537]}, {\"boxpoints\": false, \"line\": {\"width\": 1.3}, \"marker\": {\"color\": \"rgba(50, 171, 96, 1.0)\"}, \"name\": \"C\", \"orientation\": \"v\", \"type\": \"box\", \"y\": [1.0018795416454491, -2.337390086103986, -0.4232539974018757, -1.8969316747463965, 0.7998081641187528, -0.3661949850561008, -1.0181639947152596, -0.11585982965963165, 0.8472399266545323, 0.43788030425939717, -0.663764784381059, -0.7337123337610191, 1.4548197863516765, -0.42418631146704205, -0.2545716351889039, 0.5366989835326802, 0.36605335363143343, -1.4143036007630514, 1.5221013213507886, 0.7791456306917478, 0.23025246545213834, -1.8638969248337085, -1.6884893644211625, -0.045487154963125165, -0.801121406292604, 0.0547559143145917, 0.545183512897039, -0.724015990081383, 0.06573202885491526, 1.6498167190416173, 0.6533000011435984, -0.5587155424933851, -1.7109782094864845, 2.203279978897059, -1.2458021051215071, 0.7884115134544288, -2.1775179047299407, -1.2627256229473947, 1.8817286080299984, 0.4368373756387097, 1.7706549361056712, 0.6526038916660498, -0.32547051254043496, 0.5741831449609582, -2.043115613867004, 0.15453730277501193, -0.6087453202889653, 0.8695799883309445, -0.8609126079247554, 0.9312292205742623, 0.9033553738916221, -1.8349477525385487, 0.05234757707374364, -0.07264521518900441, -2.289836482394134, -1.6493967640659406, -0.482197393675575, -1.1391850183853196, 0.27952172855246427, -0.24730382546811683, 1.4330576241904138, 1.052331922367535, 0.13068002155250746, -0.607376113375024, 0.3910918792553487, -0.8556328435345957, 0.41913087940142013, -0.35323768409171563, 1.0702506121182342, -1.1916818045776487, -0.1925503665005978, -0.877017495740593, -0.823621667252424, -1.3373927643971992, -0.6974293794909958, -0.941557903733586, 0.4734217251518457, 1.760748122282674, -0.05527878596913308, -1.0481418298737724, -1.5224723426836864, -0.5445950686677371, -1.018327795899508, -1.6454156901822734, -1.0439229011320366, 1.226138672249239, 1.648029568633649, 1.6132974530492734, -0.4729133085871159, -0.3224150454961992, 0.12450040090001759, -1.4789057463124318, -0.03375216725478918, 1.5198674300593413, -0.7337586002507553, 1.0376640654837075, 0.5459608141126524, 0.5766045985211756, 0.1707602039956786, 0.5665018422576403]}, {\"boxpoints\": false, \"line\": {\"width\": 1.3}, \"marker\": {\"color\": \"rgba(128, 0, 128, 1.0)\"}, \"name\": \"D\", \"orientation\": \"v\", \"type\": \"box\", \"y\": [-1.3586555500283932, -1.1387743176844167, 0.48169938159576325, 0.6764372067302944, 1.1268266747347202, 0.6057252710507862, -0.7513219741686743, 0.005702313957507184, 1.4308791760663617, 1.2005966764227556, -0.9875278942485363, 0.5808660913976754, 1.4287941005077174, 0.4620702301387893, 1.0572734196064548, -1.1002913127709155, -0.1315515667924692, -1.1392566067659655, 0.07229281640598588, -0.5333057149292395, 0.5816100203393103, 1.306026153751653, 1.0195678806161312, 0.2888420412161623, -0.4433382139973612, -0.3454345344832595, 0.35534312460924733, -0.43117020195967376, -1.5045558829863606, -0.1815616314116132, -0.4368063742518326, -0.22620381140298199, 0.08720459040528854, 0.5678243149791222, 0.5881222446895752, 0.7480451633782648, -1.32794689771268, -0.3778143059967874, 0.16147452672508367, 0.06410447160154711, -0.379738719597055, 0.39967835730081835, 0.14216477357882099, 0.5571022162046607, -1.231042034691143, 0.17497112618671276, -0.23977151229832572, 0.3895289261776583, -0.25526591619421546, -0.19963109923025427, 1.1232157056995562, -1.3454744427361949, -0.9443758475972888, 0.10462002783908171, -0.21414108255498263, -0.013631441599426721, 0.25542382679462305, -0.042489116778872876, 2.223297765291669, 1.4438772399384525, 0.3357163929448841, 1.2836072157745464, 1.5871881561554102, 1.3498649620194312, -0.1950754533526257, -0.3423773505787837, 1.205801770483136, -1.4535643076134128, -0.11707550596919053, -0.07076833743694082, 0.05183565834795385, -0.6962317336833402, -0.2965689315021597, -0.4802740478324376, 1.6212754882155525, -0.6149308986561066, 0.14122511601298043, -1.4253659454394587, -0.16682763283868907, -0.2522594661264877, 0.6016714218645476, 2.431213897315591, 1.4180976108862766, 1.4556917676318628, -0.4258864761956951, 0.6942935605645597, 0.8682132087462273, 0.038312944846510065, 0.26163123834069224, 0.3408182247581353, 2.1254219393308467, -0.15326156703769878, 0.5757955269280755, 2.017680954544086, -0.6816594733685633, 0.011130112560700777, 0.8960972114035543, -0.6479458737519347, -0.6154386787320508, -0.5344839718555876]}],                        {\"legend\": {\"bgcolor\": \"#F5F6F9\", \"font\": {\"color\": \"#4D5663\"}}, \"paper_bgcolor\": \"#F5F6F9\", \"plot_bgcolor\": \"#F5F6F9\", \"template\": {\"data\": {\"bar\": [{\"error_x\": {\"color\": \"#2a3f5f\"}, \"error_y\": {\"color\": \"#2a3f5f\"}, \"marker\": {\"line\": {\"color\": \"#E5ECF6\", \"width\": 0.5}}, \"type\": \"bar\"}], \"barpolar\": [{\"marker\": {\"line\": {\"color\": \"#E5ECF6\", \"width\": 0.5}}, \"type\": \"barpolar\"}], \"carpet\": [{\"aaxis\": {\"endlinecolor\": \"#2a3f5f\", \"gridcolor\": \"white\", \"linecolor\": \"white\", \"minorgridcolor\": \"white\", \"startlinecolor\": \"#2a3f5f\"}, \"baxis\": {\"endlinecolor\": \"#2a3f5f\", \"gridcolor\": \"white\", \"linecolor\": \"white\", \"minorgridcolor\": \"white\", \"startlinecolor\": \"#2a3f5f\"}, \"type\": \"carpet\"}], \"choropleth\": [{\"colorbar\": {\"outlinewidth\": 0, \"ticks\": \"\"}, \"type\": \"choropleth\"}], \"contour\": [{\"colorbar\": {\"outlinewidth\": 0, \"ticks\": \"\"}, \"colorscale\": [[0.0, \"#0d0887\"], [0.1111111111111111, \"#46039f\"], [0.2222222222222222, \"#7201a8\"], [0.3333333333333333, \"#9c179e\"], [0.4444444444444444, \"#bd3786\"], [0.5555555555555556, \"#d8576b\"], [0.6666666666666666, \"#ed7953\"], [0.7777777777777778, \"#fb9f3a\"], [0.8888888888888888, \"#fdca26\"], [1.0, \"#f0f921\"]], \"type\": \"contour\"}], \"contourcarpet\": [{\"colorbar\": {\"outlinewidth\": 0, \"ticks\": \"\"}, \"type\": \"contourcarpet\"}], \"heatmap\": [{\"colorbar\": {\"outlinewidth\": 0, \"ticks\": \"\"}, \"colorscale\": [[0.0, \"#0d0887\"], [0.1111111111111111, \"#46039f\"], [0.2222222222222222, \"#7201a8\"], [0.3333333333333333, \"#9c179e\"], [0.4444444444444444, \"#bd3786\"], [0.5555555555555556, \"#d8576b\"], [0.6666666666666666, \"#ed7953\"], [0.7777777777777778, \"#fb9f3a\"], [0.8888888888888888, \"#fdca26\"], [1.0, \"#f0f921\"]], \"type\": \"heatmap\"}], \"heatmapgl\": [{\"colorbar\": {\"outlinewidth\": 0, \"ticks\": \"\"}, \"colorscale\": [[0.0, \"#0d0887\"], [0.1111111111111111, \"#46039f\"], [0.2222222222222222, \"#7201a8\"], [0.3333333333333333, \"#9c179e\"], [0.4444444444444444, \"#bd3786\"], [0.5555555555555556, \"#d8576b\"], [0.6666666666666666, \"#ed7953\"], [0.7777777777777778, \"#fb9f3a\"], [0.8888888888888888, \"#fdca26\"], [1.0, \"#f0f921\"]], \"type\": \"heatmapgl\"}], \"histogram\": [{\"marker\": {\"colorbar\": {\"outlinewidth\": 0, \"ticks\": \"\"}}, \"type\": \"histogram\"}], \"histogram2d\": [{\"colorbar\": {\"outlinewidth\": 0, \"ticks\": \"\"}, \"colorscale\": [[0.0, \"#0d0887\"], [0.1111111111111111, \"#46039f\"], [0.2222222222222222, \"#7201a8\"], [0.3333333333333333, \"#9c179e\"], [0.4444444444444444, \"#bd3786\"], [0.5555555555555556, \"#d8576b\"], [0.6666666666666666, \"#ed7953\"], [0.7777777777777778, \"#fb9f3a\"], [0.8888888888888888, \"#fdca26\"], [1.0, \"#f0f921\"]], \"type\": \"histogram2d\"}], \"histogram2dcontour\": [{\"colorbar\": {\"outlinewidth\": 0, \"ticks\": \"\"}, \"colorscale\": [[0.0, \"#0d0887\"], [0.1111111111111111, \"#46039f\"], [0.2222222222222222, \"#7201a8\"], [0.3333333333333333, \"#9c179e\"], [0.4444444444444444, \"#bd3786\"], [0.5555555555555556, \"#d8576b\"], [0.6666666666666666, \"#ed7953\"], [0.7777777777777778, \"#fb9f3a\"], [0.8888888888888888, \"#fdca26\"], [1.0, \"#f0f921\"]], \"type\": \"histogram2dcontour\"}], \"mesh3d\": [{\"colorbar\": {\"outlinewidth\": 0, \"ticks\": \"\"}, \"type\": \"mesh3d\"}], \"parcoords\": [{\"line\": {\"colorbar\": {\"outlinewidth\": 0, \"ticks\": \"\"}}, \"type\": \"parcoords\"}], \"pie\": [{\"automargin\": true, \"type\": \"pie\"}], \"scatter\": [{\"marker\": {\"colorbar\": {\"outlinewidth\": 0, \"ticks\": \"\"}}, \"type\": \"scatter\"}], \"scatter3d\": [{\"line\": {\"colorbar\": {\"outlinewidth\": 0, \"ticks\": \"\"}}, \"marker\": {\"colorbar\": {\"outlinewidth\": 0, \"ticks\": \"\"}}, \"type\": \"scatter3d\"}], \"scattercarpet\": [{\"marker\": {\"colorbar\": {\"outlinewidth\": 0, \"ticks\": \"\"}}, \"type\": \"scattercarpet\"}], \"scattergeo\": [{\"marker\": {\"colorbar\": {\"outlinewidth\": 0, \"ticks\": \"\"}}, \"type\": \"scattergeo\"}], \"scattergl\": [{\"marker\": {\"colorbar\": {\"outlinewidth\": 0, \"ticks\": \"\"}}, \"type\": \"scattergl\"}], \"scattermapbox\": [{\"marker\": {\"colorbar\": {\"outlinewidth\": 0, \"ticks\": \"\"}}, \"type\": \"scattermapbox\"}], \"scatterpolar\": [{\"marker\": {\"colorbar\": {\"outlinewidth\": 0, \"ticks\": \"\"}}, \"type\": \"scatterpolar\"}], \"scatterpolargl\": [{\"marker\": {\"colorbar\": {\"outlinewidth\": 0, \"ticks\": \"\"}}, \"type\": \"scatterpolargl\"}], \"scatterternary\": [{\"marker\": {\"colorbar\": {\"outlinewidth\": 0, \"ticks\": \"\"}}, \"type\": \"scatterternary\"}], \"surface\": [{\"colorbar\": {\"outlinewidth\": 0, \"ticks\": \"\"}, \"colorscale\": [[0.0, \"#0d0887\"], [0.1111111111111111, \"#46039f\"], [0.2222222222222222, \"#7201a8\"], [0.3333333333333333, \"#9c179e\"], [0.4444444444444444, \"#bd3786\"], [0.5555555555555556, \"#d8576b\"], [0.6666666666666666, \"#ed7953\"], [0.7777777777777778, \"#fb9f3a\"], [0.8888888888888888, \"#fdca26\"], [1.0, \"#f0f921\"]], \"type\": \"surface\"}], \"table\": [{\"cells\": {\"fill\": {\"color\": \"#EBF0F8\"}, \"line\": {\"color\": \"white\"}}, \"header\": {\"fill\": {\"color\": \"#C8D4E3\"}, \"line\": {\"color\": \"white\"}}, \"type\": \"table\"}]}, \"layout\": {\"annotationdefaults\": {\"arrowcolor\": \"#2a3f5f\", \"arrowhead\": 0, \"arrowwidth\": 1}, \"autotypenumbers\": \"strict\", \"coloraxis\": {\"colorbar\": {\"outlinewidth\": 0, \"ticks\": \"\"}}, \"colorscale\": {\"diverging\": [[0, \"#8e0152\"], [0.1, \"#c51b7d\"], [0.2, \"#de77ae\"], [0.3, \"#f1b6da\"], [0.4, \"#fde0ef\"], [0.5, \"#f7f7f7\"], [0.6, \"#e6f5d0\"], [0.7, \"#b8e186\"], [0.8, \"#7fbc41\"], [0.9, \"#4d9221\"], [1, \"#276419\"]], \"sequential\": [[0.0, \"#0d0887\"], [0.1111111111111111, \"#46039f\"], [0.2222222222222222, \"#7201a8\"], [0.3333333333333333, \"#9c179e\"], [0.4444444444444444, \"#bd3786\"], [0.5555555555555556, \"#d8576b\"], [0.6666666666666666, \"#ed7953\"], [0.7777777777777778, \"#fb9f3a\"], [0.8888888888888888, \"#fdca26\"], [1.0, \"#f0f921\"]], \"sequentialminus\": [[0.0, \"#0d0887\"], [0.1111111111111111, \"#46039f\"], [0.2222222222222222, \"#7201a8\"], [0.3333333333333333, \"#9c179e\"], [0.4444444444444444, \"#bd3786\"], [0.5555555555555556, \"#d8576b\"], [0.6666666666666666, \"#ed7953\"], [0.7777777777777778, \"#fb9f3a\"], [0.8888888888888888, \"#fdca26\"], [1.0, \"#f0f921\"]]}, \"colorway\": [\"#636efa\", \"#EF553B\", \"#00cc96\", \"#ab63fa\", \"#FFA15A\", \"#19d3f3\", \"#FF6692\", \"#B6E880\", \"#FF97FF\", \"#FECB52\"], \"font\": {\"color\": \"#2a3f5f\"}, \"geo\": {\"bgcolor\": \"white\", \"lakecolor\": \"white\", \"landcolor\": \"#E5ECF6\", \"showlakes\": true, \"showland\": true, \"subunitcolor\": \"white\"}, \"hoverlabel\": {\"align\": \"left\"}, \"hovermode\": \"closest\", \"mapbox\": {\"style\": \"light\"}, \"paper_bgcolor\": \"white\", \"plot_bgcolor\": \"#E5ECF6\", \"polar\": {\"angularaxis\": {\"gridcolor\": \"white\", \"linecolor\": \"white\", \"ticks\": \"\"}, \"bgcolor\": \"#E5ECF6\", \"radialaxis\": {\"gridcolor\": \"white\", \"linecolor\": \"white\", \"ticks\": \"\"}}, \"scene\": {\"xaxis\": {\"backgroundcolor\": \"#E5ECF6\", \"gridcolor\": \"white\", \"gridwidth\": 2, \"linecolor\": \"white\", \"showbackground\": true, \"ticks\": \"\", \"zerolinecolor\": \"white\"}, \"yaxis\": {\"backgroundcolor\": \"#E5ECF6\", \"gridcolor\": \"white\", \"gridwidth\": 2, \"linecolor\": \"white\", \"showbackground\": true, \"ticks\": \"\", \"zerolinecolor\": \"white\"}, \"zaxis\": {\"backgroundcolor\": \"#E5ECF6\", \"gridcolor\": \"white\", \"gridwidth\": 2, \"linecolor\": \"white\", \"showbackground\": true, \"ticks\": \"\", \"zerolinecolor\": \"white\"}}, \"shapedefaults\": {\"line\": {\"color\": \"#2a3f5f\"}}, \"ternary\": {\"aaxis\": {\"gridcolor\": \"white\", \"linecolor\": \"white\", \"ticks\": \"\"}, \"baxis\": {\"gridcolor\": \"white\", \"linecolor\": \"white\", \"ticks\": \"\"}, \"bgcolor\": \"#E5ECF6\", \"caxis\": {\"gridcolor\": \"white\", \"linecolor\": \"white\", \"ticks\": \"\"}}, \"title\": {\"x\": 0.05}, \"xaxis\": {\"automargin\": true, \"gridcolor\": \"white\", \"linecolor\": \"white\", \"ticks\": \"\", \"title\": {\"standoff\": 15}, \"zerolinecolor\": \"white\", \"zerolinewidth\": 2}, \"yaxis\": {\"automargin\": true, \"gridcolor\": \"white\", \"linecolor\": \"white\", \"ticks\": \"\", \"title\": {\"standoff\": 15}, \"zerolinecolor\": \"white\", \"zerolinewidth\": 2}}}, \"title\": {\"font\": {\"color\": \"#4D5663\"}}, \"xaxis\": {\"gridcolor\": \"#E1E5ED\", \"showgrid\": true, \"tickfont\": {\"color\": \"#4D5663\"}, \"title\": {\"font\": {\"color\": \"#4D5663\"}, \"text\": \"\"}, \"zerolinecolor\": \"#E1E5ED\"}, \"yaxis\": {\"gridcolor\": \"#E1E5ED\", \"showgrid\": true, \"tickfont\": {\"color\": \"#4D5663\"}, \"title\": {\"font\": {\"color\": \"#4D5663\"}, \"text\": \"\"}, \"zerolinecolor\": \"#E1E5ED\"}},                        {\"showLink\": true, \"linkText\": \"Export to plot.ly\", \"plotlyServerURL\": \"https://plot.ly\", \"responsive\": true}                    ).then(function(){\n",
       "                            \n",
       "var gd = document.getElementById('c9f7828d-054d-4d1d-9641-dbcd02394941');\n",
       "var x = new MutationObserver(function (mutations, observer) {{\n",
       "        var display = window.getComputedStyle(gd).display;\n",
       "        if (!display || display === 'none') {{\n",
       "            console.log([gd, 'removed!']);\n",
       "            Plotly.purge(gd);\n",
       "            observer.disconnect();\n",
       "        }}\n",
       "}});\n",
       "\n",
       "// Listen for the removal of the full notebook cells\n",
       "var notebookContainer = gd.closest('#notebook-container');\n",
       "if (notebookContainer) {{\n",
       "    x.observe(notebookContainer, {childList: true});\n",
       "}}\n",
       "\n",
       "// Listen for the clearing of the current output cell\n",
       "var outputEl = gd.closest('.output');\n",
       "if (outputEl) {{\n",
       "    x.observe(outputEl, {childList: true});\n",
       "}}\n",
       "\n",
       "                        })                };                });            </script>        </div>"
      ]
     },
     "metadata": {},
     "output_type": "display_data"
    }
   ],
   "source": [
    "df.iplot(kind='box')"
   ]
  },
  {
   "cell_type": "code",
   "execution_count": 27,
   "metadata": {},
   "outputs": [
    {
     "data": {
      "text/html": [
       "<div>\n",
       "<style scoped>\n",
       "    .dataframe tbody tr th:only-of-type {\n",
       "        vertical-align: middle;\n",
       "    }\n",
       "\n",
       "    .dataframe tbody tr th {\n",
       "        vertical-align: top;\n",
       "    }\n",
       "\n",
       "    .dataframe thead th {\n",
       "        text-align: right;\n",
       "    }\n",
       "</style>\n",
       "<table border=\"1\" class=\"dataframe\">\n",
       "  <thead>\n",
       "    <tr style=\"text-align: right;\">\n",
       "      <th></th>\n",
       "      <th>x</th>\n",
       "      <th>y</th>\n",
       "      <th>z</th>\n",
       "    </tr>\n",
       "  </thead>\n",
       "  <tbody>\n",
       "    <tr>\n",
       "      <th>0</th>\n",
       "      <td>1</td>\n",
       "      <td>10</td>\n",
       "      <td>500</td>\n",
       "    </tr>\n",
       "    <tr>\n",
       "      <th>1</th>\n",
       "      <td>2</td>\n",
       "      <td>20</td>\n",
       "      <td>400</td>\n",
       "    </tr>\n",
       "    <tr>\n",
       "      <th>2</th>\n",
       "      <td>3</td>\n",
       "      <td>30</td>\n",
       "      <td>300</td>\n",
       "    </tr>\n",
       "    <tr>\n",
       "      <th>3</th>\n",
       "      <td>4</td>\n",
       "      <td>20</td>\n",
       "      <td>200</td>\n",
       "    </tr>\n",
       "    <tr>\n",
       "      <th>4</th>\n",
       "      <td>5</td>\n",
       "      <td>10</td>\n",
       "      <td>100</td>\n",
       "    </tr>\n",
       "  </tbody>\n",
       "</table>\n",
       "</div>"
      ],
      "text/plain": [
       "   x   y    z\n",
       "0  1  10  500\n",
       "1  2  20  400\n",
       "2  3  30  300\n",
       "3  4  20  200\n",
       "4  5  10  100"
      ]
     },
     "execution_count": 27,
     "metadata": {},
     "output_type": "execute_result"
    }
   ],
   "source": [
    "df3=pd.DataFrame({'x':[1,2,3,4,5],'y':[10,20,30,20,10],'z':[500,400,300,200,100]})\n",
    "df3"
   ]
  },
  {
   "cell_type": "code",
   "execution_count": 30,
   "metadata": {},
   "outputs": [
    {
     "data": {
      "application/vnd.plotly.v1+json": {
       "config": {
        "linkText": "Export to plot.ly",
        "plotlyServerURL": "https://plot.ly",
        "showLink": true
       },
       "data": [
        {
         "colorscale": [
          [
           0,
           "rgb(165,0,38)"
          ],
          [
           0.1,
           "rgb(215,48,39)"
          ],
          [
           0.2,
           "rgb(244,109,67)"
          ],
          [
           0.3,
           "rgb(253,174,97)"
          ],
          [
           0.4,
           "rgb(254,224,144)"
          ],
          [
           0.5,
           "rgb(255,255,191)"
          ],
          [
           0.6,
           "rgb(224,243,248)"
          ],
          [
           0.7,
           "rgb(171,217,233)"
          ],
          [
           0.8,
           "rgb(116,173,209)"
          ],
          [
           0.9,
           "rgb(69,117,180)"
          ],
          [
           1,
           "rgb(49,54,149)"
          ]
         ],
         "type": "surface",
         "x": [
          0,
          1,
          2,
          3,
          4
         ],
         "y": [
          "x",
          "y",
          "z"
         ],
         "z": [
          [
           1,
           2,
           3,
           4,
           5
          ],
          [
           10,
           20,
           30,
           20,
           10
          ],
          [
           500,
           400,
           300,
           200,
           100
          ]
         ]
        }
       ],
       "layout": {
        "legend": {
         "bgcolor": "#F5F6F9",
         "font": {
          "color": "#4D5663"
         }
        },
        "paper_bgcolor": "#F5F6F9",
        "plot_bgcolor": "#F5F6F9",
        "template": {
         "data": {
          "bar": [
           {
            "error_x": {
             "color": "#2a3f5f"
            },
            "error_y": {
             "color": "#2a3f5f"
            },
            "marker": {
             "line": {
              "color": "#E5ECF6",
              "width": 0.5
             }
            },
            "type": "bar"
           }
          ],
          "barpolar": [
           {
            "marker": {
             "line": {
              "color": "#E5ECF6",
              "width": 0.5
             }
            },
            "type": "barpolar"
           }
          ],
          "carpet": [
           {
            "aaxis": {
             "endlinecolor": "#2a3f5f",
             "gridcolor": "white",
             "linecolor": "white",
             "minorgridcolor": "white",
             "startlinecolor": "#2a3f5f"
            },
            "baxis": {
             "endlinecolor": "#2a3f5f",
             "gridcolor": "white",
             "linecolor": "white",
             "minorgridcolor": "white",
             "startlinecolor": "#2a3f5f"
            },
            "type": "carpet"
           }
          ],
          "choropleth": [
           {
            "colorbar": {
             "outlinewidth": 0,
             "ticks": ""
            },
            "type": "choropleth"
           }
          ],
          "contour": [
           {
            "colorbar": {
             "outlinewidth": 0,
             "ticks": ""
            },
            "colorscale": [
             [
              0,
              "#0d0887"
             ],
             [
              0.1111111111111111,
              "#46039f"
             ],
             [
              0.2222222222222222,
              "#7201a8"
             ],
             [
              0.3333333333333333,
              "#9c179e"
             ],
             [
              0.4444444444444444,
              "#bd3786"
             ],
             [
              0.5555555555555556,
              "#d8576b"
             ],
             [
              0.6666666666666666,
              "#ed7953"
             ],
             [
              0.7777777777777778,
              "#fb9f3a"
             ],
             [
              0.8888888888888888,
              "#fdca26"
             ],
             [
              1,
              "#f0f921"
             ]
            ],
            "type": "contour"
           }
          ],
          "contourcarpet": [
           {
            "colorbar": {
             "outlinewidth": 0,
             "ticks": ""
            },
            "type": "contourcarpet"
           }
          ],
          "heatmap": [
           {
            "colorbar": {
             "outlinewidth": 0,
             "ticks": ""
            },
            "colorscale": [
             [
              0,
              "#0d0887"
             ],
             [
              0.1111111111111111,
              "#46039f"
             ],
             [
              0.2222222222222222,
              "#7201a8"
             ],
             [
              0.3333333333333333,
              "#9c179e"
             ],
             [
              0.4444444444444444,
              "#bd3786"
             ],
             [
              0.5555555555555556,
              "#d8576b"
             ],
             [
              0.6666666666666666,
              "#ed7953"
             ],
             [
              0.7777777777777778,
              "#fb9f3a"
             ],
             [
              0.8888888888888888,
              "#fdca26"
             ],
             [
              1,
              "#f0f921"
             ]
            ],
            "type": "heatmap"
           }
          ],
          "heatmapgl": [
           {
            "colorbar": {
             "outlinewidth": 0,
             "ticks": ""
            },
            "colorscale": [
             [
              0,
              "#0d0887"
             ],
             [
              0.1111111111111111,
              "#46039f"
             ],
             [
              0.2222222222222222,
              "#7201a8"
             ],
             [
              0.3333333333333333,
              "#9c179e"
             ],
             [
              0.4444444444444444,
              "#bd3786"
             ],
             [
              0.5555555555555556,
              "#d8576b"
             ],
             [
              0.6666666666666666,
              "#ed7953"
             ],
             [
              0.7777777777777778,
              "#fb9f3a"
             ],
             [
              0.8888888888888888,
              "#fdca26"
             ],
             [
              1,
              "#f0f921"
             ]
            ],
            "type": "heatmapgl"
           }
          ],
          "histogram": [
           {
            "marker": {
             "colorbar": {
              "outlinewidth": 0,
              "ticks": ""
             }
            },
            "type": "histogram"
           }
          ],
          "histogram2d": [
           {
            "colorbar": {
             "outlinewidth": 0,
             "ticks": ""
            },
            "colorscale": [
             [
              0,
              "#0d0887"
             ],
             [
              0.1111111111111111,
              "#46039f"
             ],
             [
              0.2222222222222222,
              "#7201a8"
             ],
             [
              0.3333333333333333,
              "#9c179e"
             ],
             [
              0.4444444444444444,
              "#bd3786"
             ],
             [
              0.5555555555555556,
              "#d8576b"
             ],
             [
              0.6666666666666666,
              "#ed7953"
             ],
             [
              0.7777777777777778,
              "#fb9f3a"
             ],
             [
              0.8888888888888888,
              "#fdca26"
             ],
             [
              1,
              "#f0f921"
             ]
            ],
            "type": "histogram2d"
           }
          ],
          "histogram2dcontour": [
           {
            "colorbar": {
             "outlinewidth": 0,
             "ticks": ""
            },
            "colorscale": [
             [
              0,
              "#0d0887"
             ],
             [
              0.1111111111111111,
              "#46039f"
             ],
             [
              0.2222222222222222,
              "#7201a8"
             ],
             [
              0.3333333333333333,
              "#9c179e"
             ],
             [
              0.4444444444444444,
              "#bd3786"
             ],
             [
              0.5555555555555556,
              "#d8576b"
             ],
             [
              0.6666666666666666,
              "#ed7953"
             ],
             [
              0.7777777777777778,
              "#fb9f3a"
             ],
             [
              0.8888888888888888,
              "#fdca26"
             ],
             [
              1,
              "#f0f921"
             ]
            ],
            "type": "histogram2dcontour"
           }
          ],
          "mesh3d": [
           {
            "colorbar": {
             "outlinewidth": 0,
             "ticks": ""
            },
            "type": "mesh3d"
           }
          ],
          "parcoords": [
           {
            "line": {
             "colorbar": {
              "outlinewidth": 0,
              "ticks": ""
             }
            },
            "type": "parcoords"
           }
          ],
          "pie": [
           {
            "automargin": true,
            "type": "pie"
           }
          ],
          "scatter": [
           {
            "marker": {
             "colorbar": {
              "outlinewidth": 0,
              "ticks": ""
             }
            },
            "type": "scatter"
           }
          ],
          "scatter3d": [
           {
            "line": {
             "colorbar": {
              "outlinewidth": 0,
              "ticks": ""
             }
            },
            "marker": {
             "colorbar": {
              "outlinewidth": 0,
              "ticks": ""
             }
            },
            "type": "scatter3d"
           }
          ],
          "scattercarpet": [
           {
            "marker": {
             "colorbar": {
              "outlinewidth": 0,
              "ticks": ""
             }
            },
            "type": "scattercarpet"
           }
          ],
          "scattergeo": [
           {
            "marker": {
             "colorbar": {
              "outlinewidth": 0,
              "ticks": ""
             }
            },
            "type": "scattergeo"
           }
          ],
          "scattergl": [
           {
            "marker": {
             "colorbar": {
              "outlinewidth": 0,
              "ticks": ""
             }
            },
            "type": "scattergl"
           }
          ],
          "scattermapbox": [
           {
            "marker": {
             "colorbar": {
              "outlinewidth": 0,
              "ticks": ""
             }
            },
            "type": "scattermapbox"
           }
          ],
          "scatterpolar": [
           {
            "marker": {
             "colorbar": {
              "outlinewidth": 0,
              "ticks": ""
             }
            },
            "type": "scatterpolar"
           }
          ],
          "scatterpolargl": [
           {
            "marker": {
             "colorbar": {
              "outlinewidth": 0,
              "ticks": ""
             }
            },
            "type": "scatterpolargl"
           }
          ],
          "scatterternary": [
           {
            "marker": {
             "colorbar": {
              "outlinewidth": 0,
              "ticks": ""
             }
            },
            "type": "scatterternary"
           }
          ],
          "surface": [
           {
            "colorbar": {
             "outlinewidth": 0,
             "ticks": ""
            },
            "colorscale": [
             [
              0,
              "#0d0887"
             ],
             [
              0.1111111111111111,
              "#46039f"
             ],
             [
              0.2222222222222222,
              "#7201a8"
             ],
             [
              0.3333333333333333,
              "#9c179e"
             ],
             [
              0.4444444444444444,
              "#bd3786"
             ],
             [
              0.5555555555555556,
              "#d8576b"
             ],
             [
              0.6666666666666666,
              "#ed7953"
             ],
             [
              0.7777777777777778,
              "#fb9f3a"
             ],
             [
              0.8888888888888888,
              "#fdca26"
             ],
             [
              1,
              "#f0f921"
             ]
            ],
            "type": "surface"
           }
          ],
          "table": [
           {
            "cells": {
             "fill": {
              "color": "#EBF0F8"
             },
             "line": {
              "color": "white"
             }
            },
            "header": {
             "fill": {
              "color": "#C8D4E3"
             },
             "line": {
              "color": "white"
             }
            },
            "type": "table"
           }
          ]
         },
         "layout": {
          "annotationdefaults": {
           "arrowcolor": "#2a3f5f",
           "arrowhead": 0,
           "arrowwidth": 1
          },
          "autotypenumbers": "strict",
          "coloraxis": {
           "colorbar": {
            "outlinewidth": 0,
            "ticks": ""
           }
          },
          "colorscale": {
           "diverging": [
            [
             0,
             "#8e0152"
            ],
            [
             0.1,
             "#c51b7d"
            ],
            [
             0.2,
             "#de77ae"
            ],
            [
             0.3,
             "#f1b6da"
            ],
            [
             0.4,
             "#fde0ef"
            ],
            [
             0.5,
             "#f7f7f7"
            ],
            [
             0.6,
             "#e6f5d0"
            ],
            [
             0.7,
             "#b8e186"
            ],
            [
             0.8,
             "#7fbc41"
            ],
            [
             0.9,
             "#4d9221"
            ],
            [
             1,
             "#276419"
            ]
           ],
           "sequential": [
            [
             0,
             "#0d0887"
            ],
            [
             0.1111111111111111,
             "#46039f"
            ],
            [
             0.2222222222222222,
             "#7201a8"
            ],
            [
             0.3333333333333333,
             "#9c179e"
            ],
            [
             0.4444444444444444,
             "#bd3786"
            ],
            [
             0.5555555555555556,
             "#d8576b"
            ],
            [
             0.6666666666666666,
             "#ed7953"
            ],
            [
             0.7777777777777778,
             "#fb9f3a"
            ],
            [
             0.8888888888888888,
             "#fdca26"
            ],
            [
             1,
             "#f0f921"
            ]
           ],
           "sequentialminus": [
            [
             0,
             "#0d0887"
            ],
            [
             0.1111111111111111,
             "#46039f"
            ],
            [
             0.2222222222222222,
             "#7201a8"
            ],
            [
             0.3333333333333333,
             "#9c179e"
            ],
            [
             0.4444444444444444,
             "#bd3786"
            ],
            [
             0.5555555555555556,
             "#d8576b"
            ],
            [
             0.6666666666666666,
             "#ed7953"
            ],
            [
             0.7777777777777778,
             "#fb9f3a"
            ],
            [
             0.8888888888888888,
             "#fdca26"
            ],
            [
             1,
             "#f0f921"
            ]
           ]
          },
          "colorway": [
           "#636efa",
           "#EF553B",
           "#00cc96",
           "#ab63fa",
           "#FFA15A",
           "#19d3f3",
           "#FF6692",
           "#B6E880",
           "#FF97FF",
           "#FECB52"
          ],
          "font": {
           "color": "#2a3f5f"
          },
          "geo": {
           "bgcolor": "white",
           "lakecolor": "white",
           "landcolor": "#E5ECF6",
           "showlakes": true,
           "showland": true,
           "subunitcolor": "white"
          },
          "hoverlabel": {
           "align": "left"
          },
          "hovermode": "closest",
          "mapbox": {
           "style": "light"
          },
          "paper_bgcolor": "white",
          "plot_bgcolor": "#E5ECF6",
          "polar": {
           "angularaxis": {
            "gridcolor": "white",
            "linecolor": "white",
            "ticks": ""
           },
           "bgcolor": "#E5ECF6",
           "radialaxis": {
            "gridcolor": "white",
            "linecolor": "white",
            "ticks": ""
           }
          },
          "scene": {
           "xaxis": {
            "backgroundcolor": "#E5ECF6",
            "gridcolor": "white",
            "gridwidth": 2,
            "linecolor": "white",
            "showbackground": true,
            "ticks": "",
            "zerolinecolor": "white"
           },
           "yaxis": {
            "backgroundcolor": "#E5ECF6",
            "gridcolor": "white",
            "gridwidth": 2,
            "linecolor": "white",
            "showbackground": true,
            "ticks": "",
            "zerolinecolor": "white"
           },
           "zaxis": {
            "backgroundcolor": "#E5ECF6",
            "gridcolor": "white",
            "gridwidth": 2,
            "linecolor": "white",
            "showbackground": true,
            "ticks": "",
            "zerolinecolor": "white"
           }
          },
          "shapedefaults": {
           "line": {
            "color": "#2a3f5f"
           }
          },
          "ternary": {
           "aaxis": {
            "gridcolor": "white",
            "linecolor": "white",
            "ticks": ""
           },
           "baxis": {
            "gridcolor": "white",
            "linecolor": "white",
            "ticks": ""
           },
           "bgcolor": "#E5ECF6",
           "caxis": {
            "gridcolor": "white",
            "linecolor": "white",
            "ticks": ""
           }
          },
          "title": {
           "x": 0.05
          },
          "xaxis": {
           "automargin": true,
           "gridcolor": "white",
           "linecolor": "white",
           "ticks": "",
           "title": {
            "standoff": 15
           },
           "zerolinecolor": "white",
           "zerolinewidth": 2
          },
          "yaxis": {
           "automargin": true,
           "gridcolor": "white",
           "linecolor": "white",
           "ticks": "",
           "title": {
            "standoff": 15
           },
           "zerolinecolor": "white",
           "zerolinewidth": 2
          }
         }
        },
        "title": {
         "font": {
          "color": "#4D5663"
         }
        },
        "xaxis": {
         "gridcolor": "#E1E5ED",
         "showgrid": true,
         "tickfont": {
          "color": "#4D5663"
         },
         "title": {
          "font": {
           "color": "#4D5663"
          },
          "text": ""
         },
         "zerolinecolor": "#E1E5ED"
        },
        "yaxis": {
         "gridcolor": "#E1E5ED",
         "showgrid": true,
         "tickfont": {
          "color": "#4D5663"
         },
         "title": {
          "font": {
           "color": "#4D5663"
          },
          "text": ""
         },
         "zerolinecolor": "#E1E5ED"
        }
       }
      },
      "text/html": [
       "<div>                            <div id=\"91e261df-ebc1-4d0b-a9d1-bf7cab4a4d39\" class=\"plotly-graph-div\" style=\"height:525px; width:100%;\"></div>            <script type=\"text/javascript\">                require([\"plotly\"], function(Plotly) {                    window.PLOTLYENV=window.PLOTLYENV || {};\n",
       "                    window.PLOTLYENV.BASE_URL='https://plot.ly';                                    if (document.getElementById(\"91e261df-ebc1-4d0b-a9d1-bf7cab4a4d39\")) {                    Plotly.newPlot(                        \"91e261df-ebc1-4d0b-a9d1-bf7cab4a4d39\",                        [{\"colorscale\": [[0.0, \"rgb(165,0,38)\"], [0.1, \"rgb(215,48,39)\"], [0.2, \"rgb(244,109,67)\"], [0.3, \"rgb(253,174,97)\"], [0.4, \"rgb(254,224,144)\"], [0.5, \"rgb(255,255,191)\"], [0.6, \"rgb(224,243,248)\"], [0.7, \"rgb(171,217,233)\"], [0.8, \"rgb(116,173,209)\"], [0.9, \"rgb(69,117,180)\"], [1.0, \"rgb(49,54,149)\"]], \"type\": \"surface\", \"x\": [0, 1, 2, 3, 4], \"y\": [\"x\", \"y\", \"z\"], \"z\": [[1, 2, 3, 4, 5], [10, 20, 30, 20, 10], [500, 400, 300, 200, 100]]}],                        {\"legend\": {\"bgcolor\": \"#F5F6F9\", \"font\": {\"color\": \"#4D5663\"}}, \"paper_bgcolor\": \"#F5F6F9\", \"plot_bgcolor\": \"#F5F6F9\", \"template\": {\"data\": {\"bar\": [{\"error_x\": {\"color\": \"#2a3f5f\"}, \"error_y\": {\"color\": \"#2a3f5f\"}, \"marker\": {\"line\": {\"color\": \"#E5ECF6\", \"width\": 0.5}}, \"type\": \"bar\"}], \"barpolar\": [{\"marker\": {\"line\": {\"color\": \"#E5ECF6\", \"width\": 0.5}}, \"type\": \"barpolar\"}], \"carpet\": [{\"aaxis\": {\"endlinecolor\": \"#2a3f5f\", \"gridcolor\": \"white\", \"linecolor\": \"white\", \"minorgridcolor\": \"white\", \"startlinecolor\": \"#2a3f5f\"}, \"baxis\": {\"endlinecolor\": \"#2a3f5f\", \"gridcolor\": \"white\", \"linecolor\": \"white\", \"minorgridcolor\": \"white\", \"startlinecolor\": \"#2a3f5f\"}, \"type\": \"carpet\"}], \"choropleth\": [{\"colorbar\": {\"outlinewidth\": 0, \"ticks\": \"\"}, \"type\": \"choropleth\"}], \"contour\": [{\"colorbar\": {\"outlinewidth\": 0, \"ticks\": \"\"}, \"colorscale\": [[0.0, \"#0d0887\"], [0.1111111111111111, \"#46039f\"], [0.2222222222222222, \"#7201a8\"], [0.3333333333333333, \"#9c179e\"], [0.4444444444444444, \"#bd3786\"], [0.5555555555555556, \"#d8576b\"], [0.6666666666666666, \"#ed7953\"], [0.7777777777777778, \"#fb9f3a\"], [0.8888888888888888, \"#fdca26\"], [1.0, \"#f0f921\"]], \"type\": \"contour\"}], \"contourcarpet\": [{\"colorbar\": {\"outlinewidth\": 0, \"ticks\": \"\"}, \"type\": \"contourcarpet\"}], \"heatmap\": [{\"colorbar\": {\"outlinewidth\": 0, \"ticks\": \"\"}, \"colorscale\": [[0.0, \"#0d0887\"], [0.1111111111111111, \"#46039f\"], [0.2222222222222222, \"#7201a8\"], [0.3333333333333333, \"#9c179e\"], [0.4444444444444444, \"#bd3786\"], [0.5555555555555556, \"#d8576b\"], [0.6666666666666666, \"#ed7953\"], [0.7777777777777778, \"#fb9f3a\"], [0.8888888888888888, \"#fdca26\"], [1.0, \"#f0f921\"]], \"type\": \"heatmap\"}], \"heatmapgl\": [{\"colorbar\": {\"outlinewidth\": 0, \"ticks\": \"\"}, \"colorscale\": [[0.0, \"#0d0887\"], [0.1111111111111111, \"#46039f\"], [0.2222222222222222, \"#7201a8\"], [0.3333333333333333, \"#9c179e\"], [0.4444444444444444, \"#bd3786\"], [0.5555555555555556, \"#d8576b\"], [0.6666666666666666, \"#ed7953\"], [0.7777777777777778, \"#fb9f3a\"], [0.8888888888888888, \"#fdca26\"], [1.0, \"#f0f921\"]], \"type\": \"heatmapgl\"}], \"histogram\": [{\"marker\": {\"colorbar\": {\"outlinewidth\": 0, \"ticks\": \"\"}}, \"type\": \"histogram\"}], \"histogram2d\": [{\"colorbar\": {\"outlinewidth\": 0, \"ticks\": \"\"}, \"colorscale\": [[0.0, \"#0d0887\"], [0.1111111111111111, \"#46039f\"], [0.2222222222222222, \"#7201a8\"], [0.3333333333333333, \"#9c179e\"], [0.4444444444444444, \"#bd3786\"], [0.5555555555555556, \"#d8576b\"], [0.6666666666666666, \"#ed7953\"], [0.7777777777777778, \"#fb9f3a\"], [0.8888888888888888, \"#fdca26\"], [1.0, \"#f0f921\"]], \"type\": \"histogram2d\"}], \"histogram2dcontour\": [{\"colorbar\": {\"outlinewidth\": 0, \"ticks\": \"\"}, \"colorscale\": [[0.0, \"#0d0887\"], [0.1111111111111111, \"#46039f\"], [0.2222222222222222, \"#7201a8\"], [0.3333333333333333, \"#9c179e\"], [0.4444444444444444, \"#bd3786\"], [0.5555555555555556, \"#d8576b\"], [0.6666666666666666, \"#ed7953\"], [0.7777777777777778, \"#fb9f3a\"], [0.8888888888888888, \"#fdca26\"], [1.0, \"#f0f921\"]], \"type\": \"histogram2dcontour\"}], \"mesh3d\": [{\"colorbar\": {\"outlinewidth\": 0, \"ticks\": \"\"}, \"type\": \"mesh3d\"}], \"parcoords\": [{\"line\": {\"colorbar\": {\"outlinewidth\": 0, \"ticks\": \"\"}}, \"type\": \"parcoords\"}], \"pie\": [{\"automargin\": true, \"type\": \"pie\"}], \"scatter\": [{\"marker\": {\"colorbar\": {\"outlinewidth\": 0, \"ticks\": \"\"}}, \"type\": \"scatter\"}], \"scatter3d\": [{\"line\": {\"colorbar\": {\"outlinewidth\": 0, \"ticks\": \"\"}}, \"marker\": {\"colorbar\": {\"outlinewidth\": 0, \"ticks\": \"\"}}, \"type\": \"scatter3d\"}], \"scattercarpet\": [{\"marker\": {\"colorbar\": {\"outlinewidth\": 0, \"ticks\": \"\"}}, \"type\": \"scattercarpet\"}], \"scattergeo\": [{\"marker\": {\"colorbar\": {\"outlinewidth\": 0, \"ticks\": \"\"}}, \"type\": \"scattergeo\"}], \"scattergl\": [{\"marker\": {\"colorbar\": {\"outlinewidth\": 0, \"ticks\": \"\"}}, \"type\": \"scattergl\"}], \"scattermapbox\": [{\"marker\": {\"colorbar\": {\"outlinewidth\": 0, \"ticks\": \"\"}}, \"type\": \"scattermapbox\"}], \"scatterpolar\": [{\"marker\": {\"colorbar\": {\"outlinewidth\": 0, \"ticks\": \"\"}}, \"type\": \"scatterpolar\"}], \"scatterpolargl\": [{\"marker\": {\"colorbar\": {\"outlinewidth\": 0, \"ticks\": \"\"}}, \"type\": \"scatterpolargl\"}], \"scatterternary\": [{\"marker\": {\"colorbar\": {\"outlinewidth\": 0, \"ticks\": \"\"}}, \"type\": \"scatterternary\"}], \"surface\": [{\"colorbar\": {\"outlinewidth\": 0, \"ticks\": \"\"}, \"colorscale\": [[0.0, \"#0d0887\"], [0.1111111111111111, \"#46039f\"], [0.2222222222222222, \"#7201a8\"], [0.3333333333333333, \"#9c179e\"], [0.4444444444444444, \"#bd3786\"], [0.5555555555555556, \"#d8576b\"], [0.6666666666666666, \"#ed7953\"], [0.7777777777777778, \"#fb9f3a\"], [0.8888888888888888, \"#fdca26\"], [1.0, \"#f0f921\"]], \"type\": \"surface\"}], \"table\": [{\"cells\": {\"fill\": {\"color\": \"#EBF0F8\"}, \"line\": {\"color\": \"white\"}}, \"header\": {\"fill\": {\"color\": \"#C8D4E3\"}, \"line\": {\"color\": \"white\"}}, \"type\": \"table\"}]}, \"layout\": {\"annotationdefaults\": {\"arrowcolor\": \"#2a3f5f\", \"arrowhead\": 0, \"arrowwidth\": 1}, \"autotypenumbers\": \"strict\", \"coloraxis\": {\"colorbar\": {\"outlinewidth\": 0, \"ticks\": \"\"}}, \"colorscale\": {\"diverging\": [[0, \"#8e0152\"], [0.1, \"#c51b7d\"], [0.2, \"#de77ae\"], [0.3, \"#f1b6da\"], [0.4, \"#fde0ef\"], [0.5, \"#f7f7f7\"], [0.6, \"#e6f5d0\"], [0.7, \"#b8e186\"], [0.8, \"#7fbc41\"], [0.9, \"#4d9221\"], [1, \"#276419\"]], \"sequential\": [[0.0, \"#0d0887\"], [0.1111111111111111, \"#46039f\"], [0.2222222222222222, \"#7201a8\"], [0.3333333333333333, \"#9c179e\"], [0.4444444444444444, \"#bd3786\"], [0.5555555555555556, \"#d8576b\"], [0.6666666666666666, \"#ed7953\"], [0.7777777777777778, \"#fb9f3a\"], [0.8888888888888888, \"#fdca26\"], [1.0, \"#f0f921\"]], \"sequentialminus\": [[0.0, \"#0d0887\"], [0.1111111111111111, \"#46039f\"], [0.2222222222222222, \"#7201a8\"], [0.3333333333333333, \"#9c179e\"], [0.4444444444444444, \"#bd3786\"], [0.5555555555555556, \"#d8576b\"], [0.6666666666666666, \"#ed7953\"], [0.7777777777777778, \"#fb9f3a\"], [0.8888888888888888, \"#fdca26\"], [1.0, \"#f0f921\"]]}, \"colorway\": [\"#636efa\", \"#EF553B\", \"#00cc96\", \"#ab63fa\", \"#FFA15A\", \"#19d3f3\", \"#FF6692\", \"#B6E880\", \"#FF97FF\", \"#FECB52\"], \"font\": {\"color\": \"#2a3f5f\"}, \"geo\": {\"bgcolor\": \"white\", \"lakecolor\": \"white\", \"landcolor\": \"#E5ECF6\", \"showlakes\": true, \"showland\": true, \"subunitcolor\": \"white\"}, \"hoverlabel\": {\"align\": \"left\"}, \"hovermode\": \"closest\", \"mapbox\": {\"style\": \"light\"}, \"paper_bgcolor\": \"white\", \"plot_bgcolor\": \"#E5ECF6\", \"polar\": {\"angularaxis\": {\"gridcolor\": \"white\", \"linecolor\": \"white\", \"ticks\": \"\"}, \"bgcolor\": \"#E5ECF6\", \"radialaxis\": {\"gridcolor\": \"white\", \"linecolor\": \"white\", \"ticks\": \"\"}}, \"scene\": {\"xaxis\": {\"backgroundcolor\": \"#E5ECF6\", \"gridcolor\": \"white\", \"gridwidth\": 2, \"linecolor\": \"white\", \"showbackground\": true, \"ticks\": \"\", \"zerolinecolor\": \"white\"}, \"yaxis\": {\"backgroundcolor\": \"#E5ECF6\", \"gridcolor\": \"white\", \"gridwidth\": 2, \"linecolor\": \"white\", \"showbackground\": true, \"ticks\": \"\", \"zerolinecolor\": \"white\"}, \"zaxis\": {\"backgroundcolor\": \"#E5ECF6\", \"gridcolor\": \"white\", \"gridwidth\": 2, \"linecolor\": \"white\", \"showbackground\": true, \"ticks\": \"\", \"zerolinecolor\": \"white\"}}, \"shapedefaults\": {\"line\": {\"color\": \"#2a3f5f\"}}, \"ternary\": {\"aaxis\": {\"gridcolor\": \"white\", \"linecolor\": \"white\", \"ticks\": \"\"}, \"baxis\": {\"gridcolor\": \"white\", \"linecolor\": \"white\", \"ticks\": \"\"}, \"bgcolor\": \"#E5ECF6\", \"caxis\": {\"gridcolor\": \"white\", \"linecolor\": \"white\", \"ticks\": \"\"}}, \"title\": {\"x\": 0.05}, \"xaxis\": {\"automargin\": true, \"gridcolor\": \"white\", \"linecolor\": \"white\", \"ticks\": \"\", \"title\": {\"standoff\": 15}, \"zerolinecolor\": \"white\", \"zerolinewidth\": 2}, \"yaxis\": {\"automargin\": true, \"gridcolor\": \"white\", \"linecolor\": \"white\", \"ticks\": \"\", \"title\": {\"standoff\": 15}, \"zerolinecolor\": \"white\", \"zerolinewidth\": 2}}}, \"title\": {\"font\": {\"color\": \"#4D5663\"}}, \"xaxis\": {\"gridcolor\": \"#E1E5ED\", \"showgrid\": true, \"tickfont\": {\"color\": \"#4D5663\"}, \"title\": {\"font\": {\"color\": \"#4D5663\"}, \"text\": \"\"}, \"zerolinecolor\": \"#E1E5ED\"}, \"yaxis\": {\"gridcolor\": \"#E1E5ED\", \"showgrid\": true, \"tickfont\": {\"color\": \"#4D5663\"}, \"title\": {\"font\": {\"color\": \"#4D5663\"}, \"text\": \"\"}, \"zerolinecolor\": \"#E1E5ED\"}},                        {\"showLink\": true, \"linkText\": \"Export to plot.ly\", \"plotlyServerURL\": \"https://plot.ly\", \"responsive\": true}                    ).then(function(){\n",
       "                            \n",
       "var gd = document.getElementById('91e261df-ebc1-4d0b-a9d1-bf7cab4a4d39');\n",
       "var x = new MutationObserver(function (mutations, observer) {{\n",
       "        var display = window.getComputedStyle(gd).display;\n",
       "        if (!display || display === 'none') {{\n",
       "            console.log([gd, 'removed!']);\n",
       "            Plotly.purge(gd);\n",
       "            observer.disconnect();\n",
       "        }}\n",
       "}});\n",
       "\n",
       "// Listen for the removal of the full notebook cells\n",
       "var notebookContainer = gd.closest('#notebook-container');\n",
       "if (notebookContainer) {{\n",
       "    x.observe(notebookContainer, {childList: true});\n",
       "}}\n",
       "\n",
       "// Listen for the clearing of the current output cell\n",
       "var outputEl = gd.closest('.output');\n",
       "if (outputEl) {{\n",
       "    x.observe(outputEl, {childList: true});\n",
       "}}\n",
       "\n",
       "                        })                };                });            </script>        </div>"
      ]
     },
     "metadata": {},
     "output_type": "display_data"
    }
   ],
   "source": [
    "df3.iplot(kind='surface',colorscale='rdylbu')"
   ]
  },
  {
   "cell_type": "code",
   "execution_count": 32,
   "metadata": {},
   "outputs": [
    {
     "data": {
      "application/vnd.plotly.v1+json": {
       "config": {
        "linkText": "Export to plot.ly",
        "plotlyServerURL": "https://plot.ly",
        "showLink": true
       },
       "data": [
        {
         "histfunc": "count",
         "histnorm": "",
         "marker": {
          "color": "rgba(255, 153, 51, 1.0)",
          "line": {
           "color": "#4D5663",
           "width": 1.3
          }
         },
         "name": "A",
         "opacity": 0.8,
         "orientation": "v",
         "type": "histogram",
         "x": [
          -0.5834753383517299,
          -0.17406211351662937,
          0.3060879792029995,
          -0.9534093278803556,
          0.3335305517157785,
          -0.97208229715675,
          0.773922882267899,
          1.4949271133171107,
          0.8367814978013194,
          0.08308209603773245,
          1.182761740458536,
          0.49774685820127185,
          0.14198467055805747,
          -1.1355453476946098,
          1.011619431731822,
          -0.6353426447605321,
          -0.5424144198586475,
          -1.5756694152563402,
          1.2337366847436115,
          0.11368435771078347,
          -1.8603332979892468,
          -0.37908290090239266,
          -2.3952188064783204,
          0.8877427257916617,
          -0.7115630132230167,
          -1.9603833676408622,
          -0.28727568692696054,
          -1.1266536274403456,
          1.1008068413241312,
          0.9886964497727425,
          -0.5102809461243386,
          -0.26700043460695194,
          0.9015877446659447,
          -0.21081646226019637,
          2.7208289305974653,
          0.1416432945420239,
          0.04999158259603204,
          -0.5592081595503431,
          0.45281455512608043,
          -0.47627645727787193,
          1.207059439612465,
          0.4777022075082107,
          -1.026931705617259,
          -0.09326720728713248,
          -2.4491799906079867,
          -0.9669689841078734,
          0.39843192202660516,
          -1.601682430692205,
          -0.09730257947951387,
          0.705339489766667,
          -0.6885982039996992,
          0.6473742218943702,
          1.0899943898808402,
          -0.3672553912402756,
          0.3987603976761634,
          -0.19251739749906915,
          -0.6650279548408881,
          0.1609926421761508,
          0.5130893323136226,
          0.40379560486445404,
          1.5089011416060847,
          0.9171065596968837,
          -0.8461891366811787,
          1.0164246921459297,
          0.6682311222058028,
          -0.11500234092630772,
          1.5242086731479125,
          1.1030176443205182,
          -0.18787103995561596,
          -1.3538512726051395,
          0.8253066278166783,
          -0.3119693363687069,
          0.21814712315537818,
          -0.0735611122243912,
          -0.028292622673684212,
          -1.1577550791690683,
          1.3129945490002852,
          0.4300996259364016,
          -1.2300531873215208,
          0.2321272415931786,
          0.37983972009769645,
          -0.48843454037353673,
          -0.44977945445042544,
          1.6926048669377491,
          1.5476340525379164,
          0.9038064089580464,
          0.34345404520601236,
          -0.3738001536190124,
          1.0211207868093704,
          0.9146321683636861,
          -0.518458729915045,
          -1.2156051542720545,
          0.6405558740080012,
          -1.5203730953554544,
          0.23280630549747244,
          -1.2106399353868293,
          0.2511404517840312,
          1.66809342037484,
          -0.3742517195980744,
          -1.2245820489080763
         ]
        },
        {
         "histfunc": "count",
         "histnorm": "",
         "marker": {
          "color": "rgba(55, 128, 191, 1.0)",
          "line": {
           "color": "#4D5663",
           "width": 1.3
          }
         },
         "name": "B",
         "opacity": 0.8,
         "orientation": "v",
         "type": "histogram",
         "x": [
          -1.3758072804282802,
          -2.0166423275795045,
          -0.1338910600221726,
          -0.5820663677732987,
          0.9712282596893289,
          0.04856414782439493,
          -1.6446518762072733,
          -0.9421467336068651,
          0.21954059186296845,
          0.36807439477449627,
          -0.3654460240432651,
          -0.8881757488822261,
          1.1359574308252038,
          1.784248095321167,
          -2.230174327763357,
          -0.9096345705300771,
          0.058131826476081325,
          0.49564915635896856,
          0.9955580219566825,
          0.9416554478215717,
          0.501777796879372,
          0.5832116202465111,
          0.07587249397032425,
          -1.3196824810937708,
          0.4830791708975699,
          -1.374253540092365,
          -0.5760286311195967,
          0.7116952836336254,
          -0.3114529511132174,
          -0.4000450842140983,
          0.04992534906556205,
          1.954807728032101,
          0.13171389071864884,
          -0.033496919366209084,
          -0.49088708243273443,
          -0.32917951662922473,
          -0.6357922655639845,
          0.01910882388183459,
          0.6605981182143601,
          0.2871073718275956,
          -0.7967523017727124,
          1.2749217387718361,
          -1.0184090272611115,
          -0.30776517663371084,
          -1.3835687056089345,
          -0.9589418851101955,
          0.8388110623238367,
          -0.8262275451330596,
          -1.8834577989862957,
          0.5672824330131843,
          1.5196434832141326,
          -0.9864345081943736,
          -0.09831683886884271,
          -0.4837052077847503,
          1.2148627172318998,
          -0.8692477403189863,
          -2.145542147953029,
          -1.026863204622045,
          0.5759905082069539,
          -0.08525962897285295,
          0.1994816415925022,
          0.29053581455171307,
          1.6111189999118847,
          -0.8918623381139243,
          0.757880123902853,
          -0.9228502119583749,
          0.2614246572476863,
          -1.4678941893578006,
          -1.7208349749814054,
          -1.188026523351157,
          -1.3120013569153754,
          -0.26774879333661716,
          -0.8918948740304229,
          -1.8768343945216002,
          0.5804338332708612,
          -0.506169023116886,
          -0.25771991196350186,
          -1.891780200402067,
          -0.90439014692466,
          -0.6309894908570972,
          -2.07726520770258,
          0.44560260665169893,
          0.36344301847922245,
          -0.9338476374001575,
          -0.7805318229279821,
          -1.4284991217257477,
          -1.5086579661524255,
          -0.01569096789541602,
          -2.1206884425801995,
          -1.971641489490636,
          -0.16318933968466018,
          0.26430296290179456,
          -0.9783848110025019,
          -0.8944221474552131,
          0.4463550575217183,
          0.9586322265346929,
          -0.5716261211754448,
          0.9428186601187796,
          -1.6636587907084162,
          -0.14151351627318537
         ]
        },
        {
         "histfunc": "count",
         "histnorm": "",
         "marker": {
          "color": "rgba(50, 171, 96, 1.0)",
          "line": {
           "color": "#4D5663",
           "width": 1.3
          }
         },
         "name": "C",
         "opacity": 0.8,
         "orientation": "v",
         "type": "histogram",
         "x": [
          1.0018795416454491,
          -2.337390086103986,
          -0.4232539974018757,
          -1.8969316747463965,
          0.7998081641187528,
          -0.3661949850561008,
          -1.0181639947152596,
          -0.11585982965963165,
          0.8472399266545323,
          0.43788030425939717,
          -0.663764784381059,
          -0.7337123337610191,
          1.4548197863516765,
          -0.42418631146704205,
          -0.2545716351889039,
          0.5366989835326802,
          0.36605335363143343,
          -1.4143036007630514,
          1.5221013213507886,
          0.7791456306917478,
          0.23025246545213834,
          -1.8638969248337085,
          -1.6884893644211625,
          -0.045487154963125165,
          -0.801121406292604,
          0.0547559143145917,
          0.545183512897039,
          -0.724015990081383,
          0.06573202885491526,
          1.6498167190416173,
          0.6533000011435984,
          -0.5587155424933851,
          -1.7109782094864845,
          2.203279978897059,
          -1.2458021051215071,
          0.7884115134544288,
          -2.1775179047299407,
          -1.2627256229473947,
          1.8817286080299984,
          0.4368373756387097,
          1.7706549361056712,
          0.6526038916660498,
          -0.32547051254043496,
          0.5741831449609582,
          -2.043115613867004,
          0.15453730277501193,
          -0.6087453202889653,
          0.8695799883309445,
          -0.8609126079247554,
          0.9312292205742623,
          0.9033553738916221,
          -1.8349477525385487,
          0.05234757707374364,
          -0.07264521518900441,
          -2.289836482394134,
          -1.6493967640659406,
          -0.482197393675575,
          -1.1391850183853196,
          0.27952172855246427,
          -0.24730382546811683,
          1.4330576241904138,
          1.052331922367535,
          0.13068002155250746,
          -0.607376113375024,
          0.3910918792553487,
          -0.8556328435345957,
          0.41913087940142013,
          -0.35323768409171563,
          1.0702506121182342,
          -1.1916818045776487,
          -0.1925503665005978,
          -0.877017495740593,
          -0.823621667252424,
          -1.3373927643971992,
          -0.6974293794909958,
          -0.941557903733586,
          0.4734217251518457,
          1.760748122282674,
          -0.05527878596913308,
          -1.0481418298737724,
          -1.5224723426836864,
          -0.5445950686677371,
          -1.018327795899508,
          -1.6454156901822734,
          -1.0439229011320366,
          1.226138672249239,
          1.648029568633649,
          1.6132974530492734,
          -0.4729133085871159,
          -0.3224150454961992,
          0.12450040090001759,
          -1.4789057463124318,
          -0.03375216725478918,
          1.5198674300593413,
          -0.7337586002507553,
          1.0376640654837075,
          0.5459608141126524,
          0.5766045985211756,
          0.1707602039956786,
          0.5665018422576403
         ]
        },
        {
         "histfunc": "count",
         "histnorm": "",
         "marker": {
          "color": "rgba(128, 0, 128, 1.0)",
          "line": {
           "color": "#4D5663",
           "width": 1.3
          }
         },
         "name": "D",
         "opacity": 0.8,
         "orientation": "v",
         "type": "histogram",
         "x": [
          -1.3586555500283932,
          -1.1387743176844167,
          0.48169938159576325,
          0.6764372067302944,
          1.1268266747347202,
          0.6057252710507862,
          -0.7513219741686743,
          0.005702313957507184,
          1.4308791760663617,
          1.2005966764227556,
          -0.9875278942485363,
          0.5808660913976754,
          1.4287941005077174,
          0.4620702301387893,
          1.0572734196064548,
          -1.1002913127709155,
          -0.1315515667924692,
          -1.1392566067659655,
          0.07229281640598588,
          -0.5333057149292395,
          0.5816100203393103,
          1.306026153751653,
          1.0195678806161312,
          0.2888420412161623,
          -0.4433382139973612,
          -0.3454345344832595,
          0.35534312460924733,
          -0.43117020195967376,
          -1.5045558829863606,
          -0.1815616314116132,
          -0.4368063742518326,
          -0.22620381140298199,
          0.08720459040528854,
          0.5678243149791222,
          0.5881222446895752,
          0.7480451633782648,
          -1.32794689771268,
          -0.3778143059967874,
          0.16147452672508367,
          0.06410447160154711,
          -0.379738719597055,
          0.39967835730081835,
          0.14216477357882099,
          0.5571022162046607,
          -1.231042034691143,
          0.17497112618671276,
          -0.23977151229832572,
          0.3895289261776583,
          -0.25526591619421546,
          -0.19963109923025427,
          1.1232157056995562,
          -1.3454744427361949,
          -0.9443758475972888,
          0.10462002783908171,
          -0.21414108255498263,
          -0.013631441599426721,
          0.25542382679462305,
          -0.042489116778872876,
          2.223297765291669,
          1.4438772399384525,
          0.3357163929448841,
          1.2836072157745464,
          1.5871881561554102,
          1.3498649620194312,
          -0.1950754533526257,
          -0.3423773505787837,
          1.205801770483136,
          -1.4535643076134128,
          -0.11707550596919053,
          -0.07076833743694082,
          0.05183565834795385,
          -0.6962317336833402,
          -0.2965689315021597,
          -0.4802740478324376,
          1.6212754882155525,
          -0.6149308986561066,
          0.14122511601298043,
          -1.4253659454394587,
          -0.16682763283868907,
          -0.2522594661264877,
          0.6016714218645476,
          2.431213897315591,
          1.4180976108862766,
          1.4556917676318628,
          -0.4258864761956951,
          0.6942935605645597,
          0.8682132087462273,
          0.038312944846510065,
          0.26163123834069224,
          0.3408182247581353,
          2.1254219393308467,
          -0.15326156703769878,
          0.5757955269280755,
          2.017680954544086,
          -0.6816594733685633,
          0.011130112560700777,
          0.8960972114035543,
          -0.6479458737519347,
          -0.6154386787320508,
          -0.5344839718555876
         ]
        }
       ],
       "layout": {
        "barmode": "overlay",
        "legend": {
         "bgcolor": "#F5F6F9",
         "font": {
          "color": "#4D5663"
         }
        },
        "paper_bgcolor": "#F5F6F9",
        "plot_bgcolor": "#F5F6F9",
        "template": {
         "data": {
          "bar": [
           {
            "error_x": {
             "color": "#2a3f5f"
            },
            "error_y": {
             "color": "#2a3f5f"
            },
            "marker": {
             "line": {
              "color": "#E5ECF6",
              "width": 0.5
             }
            },
            "type": "bar"
           }
          ],
          "barpolar": [
           {
            "marker": {
             "line": {
              "color": "#E5ECF6",
              "width": 0.5
             }
            },
            "type": "barpolar"
           }
          ],
          "carpet": [
           {
            "aaxis": {
             "endlinecolor": "#2a3f5f",
             "gridcolor": "white",
             "linecolor": "white",
             "minorgridcolor": "white",
             "startlinecolor": "#2a3f5f"
            },
            "baxis": {
             "endlinecolor": "#2a3f5f",
             "gridcolor": "white",
             "linecolor": "white",
             "minorgridcolor": "white",
             "startlinecolor": "#2a3f5f"
            },
            "type": "carpet"
           }
          ],
          "choropleth": [
           {
            "colorbar": {
             "outlinewidth": 0,
             "ticks": ""
            },
            "type": "choropleth"
           }
          ],
          "contour": [
           {
            "colorbar": {
             "outlinewidth": 0,
             "ticks": ""
            },
            "colorscale": [
             [
              0,
              "#0d0887"
             ],
             [
              0.1111111111111111,
              "#46039f"
             ],
             [
              0.2222222222222222,
              "#7201a8"
             ],
             [
              0.3333333333333333,
              "#9c179e"
             ],
             [
              0.4444444444444444,
              "#bd3786"
             ],
             [
              0.5555555555555556,
              "#d8576b"
             ],
             [
              0.6666666666666666,
              "#ed7953"
             ],
             [
              0.7777777777777778,
              "#fb9f3a"
             ],
             [
              0.8888888888888888,
              "#fdca26"
             ],
             [
              1,
              "#f0f921"
             ]
            ],
            "type": "contour"
           }
          ],
          "contourcarpet": [
           {
            "colorbar": {
             "outlinewidth": 0,
             "ticks": ""
            },
            "type": "contourcarpet"
           }
          ],
          "heatmap": [
           {
            "colorbar": {
             "outlinewidth": 0,
             "ticks": ""
            },
            "colorscale": [
             [
              0,
              "#0d0887"
             ],
             [
              0.1111111111111111,
              "#46039f"
             ],
             [
              0.2222222222222222,
              "#7201a8"
             ],
             [
              0.3333333333333333,
              "#9c179e"
             ],
             [
              0.4444444444444444,
              "#bd3786"
             ],
             [
              0.5555555555555556,
              "#d8576b"
             ],
             [
              0.6666666666666666,
              "#ed7953"
             ],
             [
              0.7777777777777778,
              "#fb9f3a"
             ],
             [
              0.8888888888888888,
              "#fdca26"
             ],
             [
              1,
              "#f0f921"
             ]
            ],
            "type": "heatmap"
           }
          ],
          "heatmapgl": [
           {
            "colorbar": {
             "outlinewidth": 0,
             "ticks": ""
            },
            "colorscale": [
             [
              0,
              "#0d0887"
             ],
             [
              0.1111111111111111,
              "#46039f"
             ],
             [
              0.2222222222222222,
              "#7201a8"
             ],
             [
              0.3333333333333333,
              "#9c179e"
             ],
             [
              0.4444444444444444,
              "#bd3786"
             ],
             [
              0.5555555555555556,
              "#d8576b"
             ],
             [
              0.6666666666666666,
              "#ed7953"
             ],
             [
              0.7777777777777778,
              "#fb9f3a"
             ],
             [
              0.8888888888888888,
              "#fdca26"
             ],
             [
              1,
              "#f0f921"
             ]
            ],
            "type": "heatmapgl"
           }
          ],
          "histogram": [
           {
            "marker": {
             "colorbar": {
              "outlinewidth": 0,
              "ticks": ""
             }
            },
            "type": "histogram"
           }
          ],
          "histogram2d": [
           {
            "colorbar": {
             "outlinewidth": 0,
             "ticks": ""
            },
            "colorscale": [
             [
              0,
              "#0d0887"
             ],
             [
              0.1111111111111111,
              "#46039f"
             ],
             [
              0.2222222222222222,
              "#7201a8"
             ],
             [
              0.3333333333333333,
              "#9c179e"
             ],
             [
              0.4444444444444444,
              "#bd3786"
             ],
             [
              0.5555555555555556,
              "#d8576b"
             ],
             [
              0.6666666666666666,
              "#ed7953"
             ],
             [
              0.7777777777777778,
              "#fb9f3a"
             ],
             [
              0.8888888888888888,
              "#fdca26"
             ],
             [
              1,
              "#f0f921"
             ]
            ],
            "type": "histogram2d"
           }
          ],
          "histogram2dcontour": [
           {
            "colorbar": {
             "outlinewidth": 0,
             "ticks": ""
            },
            "colorscale": [
             [
              0,
              "#0d0887"
             ],
             [
              0.1111111111111111,
              "#46039f"
             ],
             [
              0.2222222222222222,
              "#7201a8"
             ],
             [
              0.3333333333333333,
              "#9c179e"
             ],
             [
              0.4444444444444444,
              "#bd3786"
             ],
             [
              0.5555555555555556,
              "#d8576b"
             ],
             [
              0.6666666666666666,
              "#ed7953"
             ],
             [
              0.7777777777777778,
              "#fb9f3a"
             ],
             [
              0.8888888888888888,
              "#fdca26"
             ],
             [
              1,
              "#f0f921"
             ]
            ],
            "type": "histogram2dcontour"
           }
          ],
          "mesh3d": [
           {
            "colorbar": {
             "outlinewidth": 0,
             "ticks": ""
            },
            "type": "mesh3d"
           }
          ],
          "parcoords": [
           {
            "line": {
             "colorbar": {
              "outlinewidth": 0,
              "ticks": ""
             }
            },
            "type": "parcoords"
           }
          ],
          "pie": [
           {
            "automargin": true,
            "type": "pie"
           }
          ],
          "scatter": [
           {
            "marker": {
             "colorbar": {
              "outlinewidth": 0,
              "ticks": ""
             }
            },
            "type": "scatter"
           }
          ],
          "scatter3d": [
           {
            "line": {
             "colorbar": {
              "outlinewidth": 0,
              "ticks": ""
             }
            },
            "marker": {
             "colorbar": {
              "outlinewidth": 0,
              "ticks": ""
             }
            },
            "type": "scatter3d"
           }
          ],
          "scattercarpet": [
           {
            "marker": {
             "colorbar": {
              "outlinewidth": 0,
              "ticks": ""
             }
            },
            "type": "scattercarpet"
           }
          ],
          "scattergeo": [
           {
            "marker": {
             "colorbar": {
              "outlinewidth": 0,
              "ticks": ""
             }
            },
            "type": "scattergeo"
           }
          ],
          "scattergl": [
           {
            "marker": {
             "colorbar": {
              "outlinewidth": 0,
              "ticks": ""
             }
            },
            "type": "scattergl"
           }
          ],
          "scattermapbox": [
           {
            "marker": {
             "colorbar": {
              "outlinewidth": 0,
              "ticks": ""
             }
            },
            "type": "scattermapbox"
           }
          ],
          "scatterpolar": [
           {
            "marker": {
             "colorbar": {
              "outlinewidth": 0,
              "ticks": ""
             }
            },
            "type": "scatterpolar"
           }
          ],
          "scatterpolargl": [
           {
            "marker": {
             "colorbar": {
              "outlinewidth": 0,
              "ticks": ""
             }
            },
            "type": "scatterpolargl"
           }
          ],
          "scatterternary": [
           {
            "marker": {
             "colorbar": {
              "outlinewidth": 0,
              "ticks": ""
             }
            },
            "type": "scatterternary"
           }
          ],
          "surface": [
           {
            "colorbar": {
             "outlinewidth": 0,
             "ticks": ""
            },
            "colorscale": [
             [
              0,
              "#0d0887"
             ],
             [
              0.1111111111111111,
              "#46039f"
             ],
             [
              0.2222222222222222,
              "#7201a8"
             ],
             [
              0.3333333333333333,
              "#9c179e"
             ],
             [
              0.4444444444444444,
              "#bd3786"
             ],
             [
              0.5555555555555556,
              "#d8576b"
             ],
             [
              0.6666666666666666,
              "#ed7953"
             ],
             [
              0.7777777777777778,
              "#fb9f3a"
             ],
             [
              0.8888888888888888,
              "#fdca26"
             ],
             [
              1,
              "#f0f921"
             ]
            ],
            "type": "surface"
           }
          ],
          "table": [
           {
            "cells": {
             "fill": {
              "color": "#EBF0F8"
             },
             "line": {
              "color": "white"
             }
            },
            "header": {
             "fill": {
              "color": "#C8D4E3"
             },
             "line": {
              "color": "white"
             }
            },
            "type": "table"
           }
          ]
         },
         "layout": {
          "annotationdefaults": {
           "arrowcolor": "#2a3f5f",
           "arrowhead": 0,
           "arrowwidth": 1
          },
          "autotypenumbers": "strict",
          "coloraxis": {
           "colorbar": {
            "outlinewidth": 0,
            "ticks": ""
           }
          },
          "colorscale": {
           "diverging": [
            [
             0,
             "#8e0152"
            ],
            [
             0.1,
             "#c51b7d"
            ],
            [
             0.2,
             "#de77ae"
            ],
            [
             0.3,
             "#f1b6da"
            ],
            [
             0.4,
             "#fde0ef"
            ],
            [
             0.5,
             "#f7f7f7"
            ],
            [
             0.6,
             "#e6f5d0"
            ],
            [
             0.7,
             "#b8e186"
            ],
            [
             0.8,
             "#7fbc41"
            ],
            [
             0.9,
             "#4d9221"
            ],
            [
             1,
             "#276419"
            ]
           ],
           "sequential": [
            [
             0,
             "#0d0887"
            ],
            [
             0.1111111111111111,
             "#46039f"
            ],
            [
             0.2222222222222222,
             "#7201a8"
            ],
            [
             0.3333333333333333,
             "#9c179e"
            ],
            [
             0.4444444444444444,
             "#bd3786"
            ],
            [
             0.5555555555555556,
             "#d8576b"
            ],
            [
             0.6666666666666666,
             "#ed7953"
            ],
            [
             0.7777777777777778,
             "#fb9f3a"
            ],
            [
             0.8888888888888888,
             "#fdca26"
            ],
            [
             1,
             "#f0f921"
            ]
           ],
           "sequentialminus": [
            [
             0,
             "#0d0887"
            ],
            [
             0.1111111111111111,
             "#46039f"
            ],
            [
             0.2222222222222222,
             "#7201a8"
            ],
            [
             0.3333333333333333,
             "#9c179e"
            ],
            [
             0.4444444444444444,
             "#bd3786"
            ],
            [
             0.5555555555555556,
             "#d8576b"
            ],
            [
             0.6666666666666666,
             "#ed7953"
            ],
            [
             0.7777777777777778,
             "#fb9f3a"
            ],
            [
             0.8888888888888888,
             "#fdca26"
            ],
            [
             1,
             "#f0f921"
            ]
           ]
          },
          "colorway": [
           "#636efa",
           "#EF553B",
           "#00cc96",
           "#ab63fa",
           "#FFA15A",
           "#19d3f3",
           "#FF6692",
           "#B6E880",
           "#FF97FF",
           "#FECB52"
          ],
          "font": {
           "color": "#2a3f5f"
          },
          "geo": {
           "bgcolor": "white",
           "lakecolor": "white",
           "landcolor": "#E5ECF6",
           "showlakes": true,
           "showland": true,
           "subunitcolor": "white"
          },
          "hoverlabel": {
           "align": "left"
          },
          "hovermode": "closest",
          "mapbox": {
           "style": "light"
          },
          "paper_bgcolor": "white",
          "plot_bgcolor": "#E5ECF6",
          "polar": {
           "angularaxis": {
            "gridcolor": "white",
            "linecolor": "white",
            "ticks": ""
           },
           "bgcolor": "#E5ECF6",
           "radialaxis": {
            "gridcolor": "white",
            "linecolor": "white",
            "ticks": ""
           }
          },
          "scene": {
           "xaxis": {
            "backgroundcolor": "#E5ECF6",
            "gridcolor": "white",
            "gridwidth": 2,
            "linecolor": "white",
            "showbackground": true,
            "ticks": "",
            "zerolinecolor": "white"
           },
           "yaxis": {
            "backgroundcolor": "#E5ECF6",
            "gridcolor": "white",
            "gridwidth": 2,
            "linecolor": "white",
            "showbackground": true,
            "ticks": "",
            "zerolinecolor": "white"
           },
           "zaxis": {
            "backgroundcolor": "#E5ECF6",
            "gridcolor": "white",
            "gridwidth": 2,
            "linecolor": "white",
            "showbackground": true,
            "ticks": "",
            "zerolinecolor": "white"
           }
          },
          "shapedefaults": {
           "line": {
            "color": "#2a3f5f"
           }
          },
          "ternary": {
           "aaxis": {
            "gridcolor": "white",
            "linecolor": "white",
            "ticks": ""
           },
           "baxis": {
            "gridcolor": "white",
            "linecolor": "white",
            "ticks": ""
           },
           "bgcolor": "#E5ECF6",
           "caxis": {
            "gridcolor": "white",
            "linecolor": "white",
            "ticks": ""
           }
          },
          "title": {
           "x": 0.05
          },
          "xaxis": {
           "automargin": true,
           "gridcolor": "white",
           "linecolor": "white",
           "ticks": "",
           "title": {
            "standoff": 15
           },
           "zerolinecolor": "white",
           "zerolinewidth": 2
          },
          "yaxis": {
           "automargin": true,
           "gridcolor": "white",
           "linecolor": "white",
           "ticks": "",
           "title": {
            "standoff": 15
           },
           "zerolinecolor": "white",
           "zerolinewidth": 2
          }
         }
        },
        "title": {
         "font": {
          "color": "#4D5663"
         }
        },
        "xaxis": {
         "gridcolor": "#E1E5ED",
         "showgrid": true,
         "tickfont": {
          "color": "#4D5663"
         },
         "title": {
          "font": {
           "color": "#4D5663"
          },
          "text": ""
         },
         "zerolinecolor": "#E1E5ED"
        },
        "yaxis": {
         "gridcolor": "#E1E5ED",
         "showgrid": true,
         "tickfont": {
          "color": "#4D5663"
         },
         "title": {
          "font": {
           "color": "#4D5663"
          },
          "text": ""
         },
         "zerolinecolor": "#E1E5ED"
        }
       }
      },
      "text/html": [
       "<div>                            <div id=\"c44a028f-8f1f-4db5-b023-74ad7e24d9e3\" class=\"plotly-graph-div\" style=\"height:525px; width:100%;\"></div>            <script type=\"text/javascript\">                require([\"plotly\"], function(Plotly) {                    window.PLOTLYENV=window.PLOTLYENV || {};\n",
       "                    window.PLOTLYENV.BASE_URL='https://plot.ly';                                    if (document.getElementById(\"c44a028f-8f1f-4db5-b023-74ad7e24d9e3\")) {                    Plotly.newPlot(                        \"c44a028f-8f1f-4db5-b023-74ad7e24d9e3\",                        [{\"histfunc\": \"count\", \"histnorm\": \"\", \"marker\": {\"color\": \"rgba(255, 153, 51, 1.0)\", \"line\": {\"color\": \"#4D5663\", \"width\": 1.3}}, \"name\": \"A\", \"opacity\": 0.8, \"orientation\": \"v\", \"type\": \"histogram\", \"x\": [-0.5834753383517299, -0.17406211351662937, 0.3060879792029995, -0.9534093278803556, 0.3335305517157785, -0.97208229715675, 0.773922882267899, 1.4949271133171107, 0.8367814978013194, 0.08308209603773245, 1.182761740458536, 0.49774685820127185, 0.14198467055805747, -1.1355453476946098, 1.011619431731822, -0.6353426447605321, -0.5424144198586475, -1.5756694152563402, 1.2337366847436115, 0.11368435771078347, -1.8603332979892468, -0.37908290090239266, -2.3952188064783204, 0.8877427257916617, -0.7115630132230167, -1.9603833676408622, -0.28727568692696054, -1.1266536274403456, 1.1008068413241312, 0.9886964497727425, -0.5102809461243386, -0.26700043460695194, 0.9015877446659447, -0.21081646226019637, 2.7208289305974653, 0.1416432945420239, 0.04999158259603204, -0.5592081595503431, 0.45281455512608043, -0.47627645727787193, 1.207059439612465, 0.4777022075082107, -1.026931705617259, -0.09326720728713248, -2.4491799906079867, -0.9669689841078734, 0.39843192202660516, -1.601682430692205, -0.09730257947951387, 0.705339489766667, -0.6885982039996992, 0.6473742218943702, 1.0899943898808402, -0.3672553912402756, 0.3987603976761634, -0.19251739749906915, -0.6650279548408881, 0.1609926421761508, 0.5130893323136226, 0.40379560486445404, 1.5089011416060847, 0.9171065596968837, -0.8461891366811787, 1.0164246921459297, 0.6682311222058028, -0.11500234092630772, 1.5242086731479125, 1.1030176443205182, -0.18787103995561596, -1.3538512726051395, 0.8253066278166783, -0.3119693363687069, 0.21814712315537818, -0.0735611122243912, -0.028292622673684212, -1.1577550791690683, 1.3129945490002852, 0.4300996259364016, -1.2300531873215208, 0.2321272415931786, 0.37983972009769645, -0.48843454037353673, -0.44977945445042544, 1.6926048669377491, 1.5476340525379164, 0.9038064089580464, 0.34345404520601236, -0.3738001536190124, 1.0211207868093704, 0.9146321683636861, -0.518458729915045, -1.2156051542720545, 0.6405558740080012, -1.5203730953554544, 0.23280630549747244, -1.2106399353868293, 0.2511404517840312, 1.66809342037484, -0.3742517195980744, -1.2245820489080763]}, {\"histfunc\": \"count\", \"histnorm\": \"\", \"marker\": {\"color\": \"rgba(55, 128, 191, 1.0)\", \"line\": {\"color\": \"#4D5663\", \"width\": 1.3}}, \"name\": \"B\", \"opacity\": 0.8, \"orientation\": \"v\", \"type\": \"histogram\", \"x\": [-1.3758072804282802, -2.0166423275795045, -0.1338910600221726, -0.5820663677732987, 0.9712282596893289, 0.04856414782439493, -1.6446518762072733, -0.9421467336068651, 0.21954059186296845, 0.36807439477449627, -0.3654460240432651, -0.8881757488822261, 1.1359574308252038, 1.784248095321167, -2.230174327763357, -0.9096345705300771, 0.058131826476081325, 0.49564915635896856, 0.9955580219566825, 0.9416554478215717, 0.501777796879372, 0.5832116202465111, 0.07587249397032425, -1.3196824810937708, 0.4830791708975699, -1.374253540092365, -0.5760286311195967, 0.7116952836336254, -0.3114529511132174, -0.4000450842140983, 0.04992534906556205, 1.954807728032101, 0.13171389071864884, -0.033496919366209084, -0.49088708243273443, -0.32917951662922473, -0.6357922655639845, 0.01910882388183459, 0.6605981182143601, 0.2871073718275956, -0.7967523017727124, 1.2749217387718361, -1.0184090272611115, -0.30776517663371084, -1.3835687056089345, -0.9589418851101955, 0.8388110623238367, -0.8262275451330596, -1.8834577989862957, 0.5672824330131843, 1.5196434832141326, -0.9864345081943736, -0.09831683886884271, -0.4837052077847503, 1.2148627172318998, -0.8692477403189863, -2.145542147953029, -1.026863204622045, 0.5759905082069539, -0.08525962897285295, 0.1994816415925022, 0.29053581455171307, 1.6111189999118847, -0.8918623381139243, 0.757880123902853, -0.9228502119583749, 0.2614246572476863, -1.4678941893578006, -1.7208349749814054, -1.188026523351157, -1.3120013569153754, -0.26774879333661716, -0.8918948740304229, -1.8768343945216002, 0.5804338332708612, -0.506169023116886, -0.25771991196350186, -1.891780200402067, -0.90439014692466, -0.6309894908570972, -2.07726520770258, 0.44560260665169893, 0.36344301847922245, -0.9338476374001575, -0.7805318229279821, -1.4284991217257477, -1.5086579661524255, -0.01569096789541602, -2.1206884425801995, -1.971641489490636, -0.16318933968466018, 0.26430296290179456, -0.9783848110025019, -0.8944221474552131, 0.4463550575217183, 0.9586322265346929, -0.5716261211754448, 0.9428186601187796, -1.6636587907084162, -0.14151351627318537]}, {\"histfunc\": \"count\", \"histnorm\": \"\", \"marker\": {\"color\": \"rgba(50, 171, 96, 1.0)\", \"line\": {\"color\": \"#4D5663\", \"width\": 1.3}}, \"name\": \"C\", \"opacity\": 0.8, \"orientation\": \"v\", \"type\": \"histogram\", \"x\": [1.0018795416454491, -2.337390086103986, -0.4232539974018757, -1.8969316747463965, 0.7998081641187528, -0.3661949850561008, -1.0181639947152596, -0.11585982965963165, 0.8472399266545323, 0.43788030425939717, -0.663764784381059, -0.7337123337610191, 1.4548197863516765, -0.42418631146704205, -0.2545716351889039, 0.5366989835326802, 0.36605335363143343, -1.4143036007630514, 1.5221013213507886, 0.7791456306917478, 0.23025246545213834, -1.8638969248337085, -1.6884893644211625, -0.045487154963125165, -0.801121406292604, 0.0547559143145917, 0.545183512897039, -0.724015990081383, 0.06573202885491526, 1.6498167190416173, 0.6533000011435984, -0.5587155424933851, -1.7109782094864845, 2.203279978897059, -1.2458021051215071, 0.7884115134544288, -2.1775179047299407, -1.2627256229473947, 1.8817286080299984, 0.4368373756387097, 1.7706549361056712, 0.6526038916660498, -0.32547051254043496, 0.5741831449609582, -2.043115613867004, 0.15453730277501193, -0.6087453202889653, 0.8695799883309445, -0.8609126079247554, 0.9312292205742623, 0.9033553738916221, -1.8349477525385487, 0.05234757707374364, -0.07264521518900441, -2.289836482394134, -1.6493967640659406, -0.482197393675575, -1.1391850183853196, 0.27952172855246427, -0.24730382546811683, 1.4330576241904138, 1.052331922367535, 0.13068002155250746, -0.607376113375024, 0.3910918792553487, -0.8556328435345957, 0.41913087940142013, -0.35323768409171563, 1.0702506121182342, -1.1916818045776487, -0.1925503665005978, -0.877017495740593, -0.823621667252424, -1.3373927643971992, -0.6974293794909958, -0.941557903733586, 0.4734217251518457, 1.760748122282674, -0.05527878596913308, -1.0481418298737724, -1.5224723426836864, -0.5445950686677371, -1.018327795899508, -1.6454156901822734, -1.0439229011320366, 1.226138672249239, 1.648029568633649, 1.6132974530492734, -0.4729133085871159, -0.3224150454961992, 0.12450040090001759, -1.4789057463124318, -0.03375216725478918, 1.5198674300593413, -0.7337586002507553, 1.0376640654837075, 0.5459608141126524, 0.5766045985211756, 0.1707602039956786, 0.5665018422576403]}, {\"histfunc\": \"count\", \"histnorm\": \"\", \"marker\": {\"color\": \"rgba(128, 0, 128, 1.0)\", \"line\": {\"color\": \"#4D5663\", \"width\": 1.3}}, \"name\": \"D\", \"opacity\": 0.8, \"orientation\": \"v\", \"type\": \"histogram\", \"x\": [-1.3586555500283932, -1.1387743176844167, 0.48169938159576325, 0.6764372067302944, 1.1268266747347202, 0.6057252710507862, -0.7513219741686743, 0.005702313957507184, 1.4308791760663617, 1.2005966764227556, -0.9875278942485363, 0.5808660913976754, 1.4287941005077174, 0.4620702301387893, 1.0572734196064548, -1.1002913127709155, -0.1315515667924692, -1.1392566067659655, 0.07229281640598588, -0.5333057149292395, 0.5816100203393103, 1.306026153751653, 1.0195678806161312, 0.2888420412161623, -0.4433382139973612, -0.3454345344832595, 0.35534312460924733, -0.43117020195967376, -1.5045558829863606, -0.1815616314116132, -0.4368063742518326, -0.22620381140298199, 0.08720459040528854, 0.5678243149791222, 0.5881222446895752, 0.7480451633782648, -1.32794689771268, -0.3778143059967874, 0.16147452672508367, 0.06410447160154711, -0.379738719597055, 0.39967835730081835, 0.14216477357882099, 0.5571022162046607, -1.231042034691143, 0.17497112618671276, -0.23977151229832572, 0.3895289261776583, -0.25526591619421546, -0.19963109923025427, 1.1232157056995562, -1.3454744427361949, -0.9443758475972888, 0.10462002783908171, -0.21414108255498263, -0.013631441599426721, 0.25542382679462305, -0.042489116778872876, 2.223297765291669, 1.4438772399384525, 0.3357163929448841, 1.2836072157745464, 1.5871881561554102, 1.3498649620194312, -0.1950754533526257, -0.3423773505787837, 1.205801770483136, -1.4535643076134128, -0.11707550596919053, -0.07076833743694082, 0.05183565834795385, -0.6962317336833402, -0.2965689315021597, -0.4802740478324376, 1.6212754882155525, -0.6149308986561066, 0.14122511601298043, -1.4253659454394587, -0.16682763283868907, -0.2522594661264877, 0.6016714218645476, 2.431213897315591, 1.4180976108862766, 1.4556917676318628, -0.4258864761956951, 0.6942935605645597, 0.8682132087462273, 0.038312944846510065, 0.26163123834069224, 0.3408182247581353, 2.1254219393308467, -0.15326156703769878, 0.5757955269280755, 2.017680954544086, -0.6816594733685633, 0.011130112560700777, 0.8960972114035543, -0.6479458737519347, -0.6154386787320508, -0.5344839718555876]}],                        {\"barmode\": \"overlay\", \"legend\": {\"bgcolor\": \"#F5F6F9\", \"font\": {\"color\": \"#4D5663\"}}, \"paper_bgcolor\": \"#F5F6F9\", \"plot_bgcolor\": \"#F5F6F9\", \"template\": {\"data\": {\"bar\": [{\"error_x\": {\"color\": \"#2a3f5f\"}, \"error_y\": {\"color\": \"#2a3f5f\"}, \"marker\": {\"line\": {\"color\": \"#E5ECF6\", \"width\": 0.5}}, \"type\": \"bar\"}], \"barpolar\": [{\"marker\": {\"line\": {\"color\": \"#E5ECF6\", \"width\": 0.5}}, \"type\": \"barpolar\"}], \"carpet\": [{\"aaxis\": {\"endlinecolor\": \"#2a3f5f\", \"gridcolor\": \"white\", \"linecolor\": \"white\", \"minorgridcolor\": \"white\", \"startlinecolor\": \"#2a3f5f\"}, \"baxis\": {\"endlinecolor\": \"#2a3f5f\", \"gridcolor\": \"white\", \"linecolor\": \"white\", \"minorgridcolor\": \"white\", \"startlinecolor\": \"#2a3f5f\"}, \"type\": \"carpet\"}], \"choropleth\": [{\"colorbar\": {\"outlinewidth\": 0, \"ticks\": \"\"}, \"type\": \"choropleth\"}], \"contour\": [{\"colorbar\": {\"outlinewidth\": 0, \"ticks\": \"\"}, \"colorscale\": [[0.0, \"#0d0887\"], [0.1111111111111111, \"#46039f\"], [0.2222222222222222, \"#7201a8\"], [0.3333333333333333, \"#9c179e\"], [0.4444444444444444, \"#bd3786\"], [0.5555555555555556, \"#d8576b\"], [0.6666666666666666, \"#ed7953\"], [0.7777777777777778, \"#fb9f3a\"], [0.8888888888888888, \"#fdca26\"], [1.0, \"#f0f921\"]], \"type\": \"contour\"}], \"contourcarpet\": [{\"colorbar\": {\"outlinewidth\": 0, \"ticks\": \"\"}, \"type\": \"contourcarpet\"}], \"heatmap\": [{\"colorbar\": {\"outlinewidth\": 0, \"ticks\": \"\"}, \"colorscale\": [[0.0, \"#0d0887\"], [0.1111111111111111, \"#46039f\"], [0.2222222222222222, \"#7201a8\"], [0.3333333333333333, \"#9c179e\"], [0.4444444444444444, \"#bd3786\"], [0.5555555555555556, \"#d8576b\"], [0.6666666666666666, \"#ed7953\"], [0.7777777777777778, \"#fb9f3a\"], [0.8888888888888888, \"#fdca26\"], [1.0, \"#f0f921\"]], \"type\": \"heatmap\"}], \"heatmapgl\": [{\"colorbar\": {\"outlinewidth\": 0, \"ticks\": \"\"}, \"colorscale\": [[0.0, \"#0d0887\"], [0.1111111111111111, \"#46039f\"], [0.2222222222222222, \"#7201a8\"], [0.3333333333333333, \"#9c179e\"], [0.4444444444444444, \"#bd3786\"], [0.5555555555555556, \"#d8576b\"], [0.6666666666666666, \"#ed7953\"], [0.7777777777777778, \"#fb9f3a\"], [0.8888888888888888, \"#fdca26\"], [1.0, \"#f0f921\"]], \"type\": \"heatmapgl\"}], \"histogram\": [{\"marker\": {\"colorbar\": {\"outlinewidth\": 0, \"ticks\": \"\"}}, \"type\": \"histogram\"}], \"histogram2d\": [{\"colorbar\": {\"outlinewidth\": 0, \"ticks\": \"\"}, \"colorscale\": [[0.0, \"#0d0887\"], [0.1111111111111111, \"#46039f\"], [0.2222222222222222, \"#7201a8\"], [0.3333333333333333, \"#9c179e\"], [0.4444444444444444, \"#bd3786\"], [0.5555555555555556, \"#d8576b\"], [0.6666666666666666, \"#ed7953\"], [0.7777777777777778, \"#fb9f3a\"], [0.8888888888888888, \"#fdca26\"], [1.0, \"#f0f921\"]], \"type\": \"histogram2d\"}], \"histogram2dcontour\": [{\"colorbar\": {\"outlinewidth\": 0, \"ticks\": \"\"}, \"colorscale\": [[0.0, \"#0d0887\"], [0.1111111111111111, \"#46039f\"], [0.2222222222222222, \"#7201a8\"], [0.3333333333333333, \"#9c179e\"], [0.4444444444444444, \"#bd3786\"], [0.5555555555555556, \"#d8576b\"], [0.6666666666666666, \"#ed7953\"], [0.7777777777777778, \"#fb9f3a\"], [0.8888888888888888, \"#fdca26\"], [1.0, \"#f0f921\"]], \"type\": \"histogram2dcontour\"}], \"mesh3d\": [{\"colorbar\": {\"outlinewidth\": 0, \"ticks\": \"\"}, \"type\": \"mesh3d\"}], \"parcoords\": [{\"line\": {\"colorbar\": {\"outlinewidth\": 0, \"ticks\": \"\"}}, \"type\": \"parcoords\"}], \"pie\": [{\"automargin\": true, \"type\": \"pie\"}], \"scatter\": [{\"marker\": {\"colorbar\": {\"outlinewidth\": 0, \"ticks\": \"\"}}, \"type\": \"scatter\"}], \"scatter3d\": [{\"line\": {\"colorbar\": {\"outlinewidth\": 0, \"ticks\": \"\"}}, \"marker\": {\"colorbar\": {\"outlinewidth\": 0, \"ticks\": \"\"}}, \"type\": \"scatter3d\"}], \"scattercarpet\": [{\"marker\": {\"colorbar\": {\"outlinewidth\": 0, \"ticks\": \"\"}}, \"type\": \"scattercarpet\"}], \"scattergeo\": [{\"marker\": {\"colorbar\": {\"outlinewidth\": 0, \"ticks\": \"\"}}, \"type\": \"scattergeo\"}], \"scattergl\": [{\"marker\": {\"colorbar\": {\"outlinewidth\": 0, \"ticks\": \"\"}}, \"type\": \"scattergl\"}], \"scattermapbox\": [{\"marker\": {\"colorbar\": {\"outlinewidth\": 0, \"ticks\": \"\"}}, \"type\": \"scattermapbox\"}], \"scatterpolar\": [{\"marker\": {\"colorbar\": {\"outlinewidth\": 0, \"ticks\": \"\"}}, \"type\": \"scatterpolar\"}], \"scatterpolargl\": [{\"marker\": {\"colorbar\": {\"outlinewidth\": 0, \"ticks\": \"\"}}, \"type\": \"scatterpolargl\"}], \"scatterternary\": [{\"marker\": {\"colorbar\": {\"outlinewidth\": 0, \"ticks\": \"\"}}, \"type\": \"scatterternary\"}], \"surface\": [{\"colorbar\": {\"outlinewidth\": 0, \"ticks\": \"\"}, \"colorscale\": [[0.0, \"#0d0887\"], [0.1111111111111111, \"#46039f\"], [0.2222222222222222, \"#7201a8\"], [0.3333333333333333, \"#9c179e\"], [0.4444444444444444, \"#bd3786\"], [0.5555555555555556, \"#d8576b\"], [0.6666666666666666, \"#ed7953\"], [0.7777777777777778, \"#fb9f3a\"], [0.8888888888888888, \"#fdca26\"], [1.0, \"#f0f921\"]], \"type\": \"surface\"}], \"table\": [{\"cells\": {\"fill\": {\"color\": \"#EBF0F8\"}, \"line\": {\"color\": \"white\"}}, \"header\": {\"fill\": {\"color\": \"#C8D4E3\"}, \"line\": {\"color\": \"white\"}}, \"type\": \"table\"}]}, \"layout\": {\"annotationdefaults\": {\"arrowcolor\": \"#2a3f5f\", \"arrowhead\": 0, \"arrowwidth\": 1}, \"autotypenumbers\": \"strict\", \"coloraxis\": {\"colorbar\": {\"outlinewidth\": 0, \"ticks\": \"\"}}, \"colorscale\": {\"diverging\": [[0, \"#8e0152\"], [0.1, \"#c51b7d\"], [0.2, \"#de77ae\"], [0.3, \"#f1b6da\"], [0.4, \"#fde0ef\"], [0.5, \"#f7f7f7\"], [0.6, \"#e6f5d0\"], [0.7, \"#b8e186\"], [0.8, \"#7fbc41\"], [0.9, \"#4d9221\"], [1, \"#276419\"]], \"sequential\": [[0.0, \"#0d0887\"], [0.1111111111111111, \"#46039f\"], [0.2222222222222222, \"#7201a8\"], [0.3333333333333333, \"#9c179e\"], [0.4444444444444444, \"#bd3786\"], [0.5555555555555556, \"#d8576b\"], [0.6666666666666666, \"#ed7953\"], [0.7777777777777778, \"#fb9f3a\"], [0.8888888888888888, \"#fdca26\"], [1.0, \"#f0f921\"]], \"sequentialminus\": [[0.0, \"#0d0887\"], [0.1111111111111111, \"#46039f\"], [0.2222222222222222, \"#7201a8\"], [0.3333333333333333, \"#9c179e\"], [0.4444444444444444, \"#bd3786\"], [0.5555555555555556, \"#d8576b\"], [0.6666666666666666, \"#ed7953\"], [0.7777777777777778, \"#fb9f3a\"], [0.8888888888888888, \"#fdca26\"], [1.0, \"#f0f921\"]]}, \"colorway\": [\"#636efa\", \"#EF553B\", \"#00cc96\", \"#ab63fa\", \"#FFA15A\", \"#19d3f3\", \"#FF6692\", \"#B6E880\", \"#FF97FF\", \"#FECB52\"], \"font\": {\"color\": \"#2a3f5f\"}, \"geo\": {\"bgcolor\": \"white\", \"lakecolor\": \"white\", \"landcolor\": \"#E5ECF6\", \"showlakes\": true, \"showland\": true, \"subunitcolor\": \"white\"}, \"hoverlabel\": {\"align\": \"left\"}, \"hovermode\": \"closest\", \"mapbox\": {\"style\": \"light\"}, \"paper_bgcolor\": \"white\", \"plot_bgcolor\": \"#E5ECF6\", \"polar\": {\"angularaxis\": {\"gridcolor\": \"white\", \"linecolor\": \"white\", \"ticks\": \"\"}, \"bgcolor\": \"#E5ECF6\", \"radialaxis\": {\"gridcolor\": \"white\", \"linecolor\": \"white\", \"ticks\": \"\"}}, \"scene\": {\"xaxis\": {\"backgroundcolor\": \"#E5ECF6\", \"gridcolor\": \"white\", \"gridwidth\": 2, \"linecolor\": \"white\", \"showbackground\": true, \"ticks\": \"\", \"zerolinecolor\": \"white\"}, \"yaxis\": {\"backgroundcolor\": \"#E5ECF6\", \"gridcolor\": \"white\", \"gridwidth\": 2, \"linecolor\": \"white\", \"showbackground\": true, \"ticks\": \"\", \"zerolinecolor\": \"white\"}, \"zaxis\": {\"backgroundcolor\": \"#E5ECF6\", \"gridcolor\": \"white\", \"gridwidth\": 2, \"linecolor\": \"white\", \"showbackground\": true, \"ticks\": \"\", \"zerolinecolor\": \"white\"}}, \"shapedefaults\": {\"line\": {\"color\": \"#2a3f5f\"}}, \"ternary\": {\"aaxis\": {\"gridcolor\": \"white\", \"linecolor\": \"white\", \"ticks\": \"\"}, \"baxis\": {\"gridcolor\": \"white\", \"linecolor\": \"white\", \"ticks\": \"\"}, \"bgcolor\": \"#E5ECF6\", \"caxis\": {\"gridcolor\": \"white\", \"linecolor\": \"white\", \"ticks\": \"\"}}, \"title\": {\"x\": 0.05}, \"xaxis\": {\"automargin\": true, \"gridcolor\": \"white\", \"linecolor\": \"white\", \"ticks\": \"\", \"title\": {\"standoff\": 15}, \"zerolinecolor\": \"white\", \"zerolinewidth\": 2}, \"yaxis\": {\"automargin\": true, \"gridcolor\": \"white\", \"linecolor\": \"white\", \"ticks\": \"\", \"title\": {\"standoff\": 15}, \"zerolinecolor\": \"white\", \"zerolinewidth\": 2}}}, \"title\": {\"font\": {\"color\": \"#4D5663\"}}, \"xaxis\": {\"gridcolor\": \"#E1E5ED\", \"showgrid\": true, \"tickfont\": {\"color\": \"#4D5663\"}, \"title\": {\"font\": {\"color\": \"#4D5663\"}, \"text\": \"\"}, \"zerolinecolor\": \"#E1E5ED\"}, \"yaxis\": {\"gridcolor\": \"#E1E5ED\", \"showgrid\": true, \"tickfont\": {\"color\": \"#4D5663\"}, \"title\": {\"font\": {\"color\": \"#4D5663\"}, \"text\": \"\"}, \"zerolinecolor\": \"#E1E5ED\"}},                        {\"showLink\": true, \"linkText\": \"Export to plot.ly\", \"plotlyServerURL\": \"https://plot.ly\", \"responsive\": true}                    ).then(function(){\n",
       "                            \n",
       "var gd = document.getElementById('c44a028f-8f1f-4db5-b023-74ad7e24d9e3');\n",
       "var x = new MutationObserver(function (mutations, observer) {{\n",
       "        var display = window.getComputedStyle(gd).display;\n",
       "        if (!display || display === 'none') {{\n",
       "            console.log([gd, 'removed!']);\n",
       "            Plotly.purge(gd);\n",
       "            observer.disconnect();\n",
       "        }}\n",
       "}});\n",
       "\n",
       "// Listen for the removal of the full notebook cells\n",
       "var notebookContainer = gd.closest('#notebook-container');\n",
       "if (notebookContainer) {{\n",
       "    x.observe(notebookContainer, {childList: true});\n",
       "}}\n",
       "\n",
       "// Listen for the clearing of the current output cell\n",
       "var outputEl = gd.closest('.output');\n",
       "if (outputEl) {{\n",
       "    x.observe(outputEl, {childList: true});\n",
       "}}\n",
       "\n",
       "                        })                };                });            </script>        </div>"
      ]
     },
     "metadata": {},
     "output_type": "display_data"
    }
   ],
   "source": [
    "df.iplot(kind='hist')"
   ]
  },
  {
   "cell_type": "code",
   "execution_count": 33,
   "metadata": {},
   "outputs": [
    {
     "name": "stderr",
     "output_type": "stream",
     "text": [
      "/Users/reziw3/opt/anaconda3/lib/python3.8/site-packages/cufflinks/plotlytools.py:849: FutureWarning:\n",
      "\n",
      "The pandas.np module is deprecated and will be removed from pandas in a future version. Import numpy directly instead\n",
      "\n",
      "/Users/reziw3/opt/anaconda3/lib/python3.8/site-packages/cufflinks/plotlytools.py:850: FutureWarning:\n",
      "\n",
      "The pandas.np module is deprecated and will be removed from pandas in a future version. Import numpy directly instead\n",
      "\n"
     ]
    },
    {
     "data": {
      "application/vnd.plotly.v1+json": {
       "config": {
        "linkText": "Export to plot.ly",
        "plotlyServerURL": "https://plot.ly",
        "showLink": true
       },
       "data": [
        {
         "line": {
          "color": "rgba(255, 153, 51, 1.0)",
          "dash": "solid",
          "shape": "linear",
          "width": 1.3
         },
         "mode": "lines",
         "name": "A",
         "text": "",
         "type": "scatter",
         "x": [
          0,
          1,
          2,
          3,
          4,
          5,
          6,
          7,
          8,
          9,
          10,
          11,
          12,
          13,
          14,
          15,
          16,
          17,
          18,
          19,
          20,
          21,
          22,
          23,
          24,
          25,
          26,
          27,
          28,
          29,
          30,
          31,
          32,
          33,
          34,
          35,
          36,
          37,
          38,
          39,
          40,
          41,
          42,
          43,
          44,
          45,
          46,
          47,
          48,
          49,
          50,
          51,
          52,
          53,
          54,
          55,
          56,
          57,
          58,
          59,
          60,
          61,
          62,
          63,
          64,
          65,
          66,
          67,
          68,
          69,
          70,
          71,
          72,
          73,
          74,
          75,
          76,
          77,
          78,
          79,
          80,
          81,
          82,
          83,
          84,
          85,
          86,
          87,
          88,
          89,
          90,
          91,
          92,
          93,
          94,
          95,
          96,
          97,
          98,
          99
         ],
         "y": [
          -0.5834753383517299,
          -0.17406211351662937,
          0.3060879792029995,
          -0.9534093278803556,
          0.3335305517157785,
          -0.97208229715675,
          0.773922882267899,
          1.4949271133171107,
          0.8367814978013194,
          0.08308209603773245,
          1.182761740458536,
          0.49774685820127185,
          0.14198467055805747,
          -1.1355453476946098,
          1.011619431731822,
          -0.6353426447605321,
          -0.5424144198586475,
          -1.5756694152563402,
          1.2337366847436115,
          0.11368435771078347,
          -1.8603332979892468,
          -0.37908290090239266,
          -2.3952188064783204,
          0.8877427257916617,
          -0.7115630132230167,
          -1.9603833676408622,
          -0.28727568692696054,
          -1.1266536274403456,
          1.1008068413241312,
          0.9886964497727425,
          -0.5102809461243386,
          -0.26700043460695194,
          0.9015877446659447,
          -0.21081646226019637,
          2.7208289305974653,
          0.1416432945420239,
          0.04999158259603204,
          -0.5592081595503431,
          0.45281455512608043,
          -0.47627645727787193,
          1.207059439612465,
          0.4777022075082107,
          -1.026931705617259,
          -0.09326720728713248,
          -2.4491799906079867,
          -0.9669689841078734,
          0.39843192202660516,
          -1.601682430692205,
          -0.09730257947951387,
          0.705339489766667,
          -0.6885982039996992,
          0.6473742218943702,
          1.0899943898808402,
          -0.3672553912402756,
          0.3987603976761634,
          -0.19251739749906915,
          -0.6650279548408881,
          0.1609926421761508,
          0.5130893323136226,
          0.40379560486445404,
          1.5089011416060847,
          0.9171065596968837,
          -0.8461891366811787,
          1.0164246921459297,
          0.6682311222058028,
          -0.11500234092630772,
          1.5242086731479125,
          1.1030176443205182,
          -0.18787103995561596,
          -1.3538512726051395,
          0.8253066278166783,
          -0.3119693363687069,
          0.21814712315537818,
          -0.0735611122243912,
          -0.028292622673684212,
          -1.1577550791690683,
          1.3129945490002852,
          0.4300996259364016,
          -1.2300531873215208,
          0.2321272415931786,
          0.37983972009769645,
          -0.48843454037353673,
          -0.44977945445042544,
          1.6926048669377491,
          1.5476340525379164,
          0.9038064089580464,
          0.34345404520601236,
          -0.3738001536190124,
          1.0211207868093704,
          0.9146321683636861,
          -0.518458729915045,
          -1.2156051542720545,
          0.6405558740080012,
          -1.5203730953554544,
          0.23280630549747244,
          -1.2106399353868293,
          0.2511404517840312,
          1.66809342037484,
          -0.3742517195980744,
          -1.2245820489080763
         ]
        },
        {
         "line": {
          "color": "rgba(55, 128, 191, 1.0)",
          "dash": "solid",
          "shape": "linear",
          "width": 1.3
         },
         "mode": "lines",
         "name": "B",
         "text": "",
         "type": "scatter",
         "x": [
          0,
          1,
          2,
          3,
          4,
          5,
          6,
          7,
          8,
          9,
          10,
          11,
          12,
          13,
          14,
          15,
          16,
          17,
          18,
          19,
          20,
          21,
          22,
          23,
          24,
          25,
          26,
          27,
          28,
          29,
          30,
          31,
          32,
          33,
          34,
          35,
          36,
          37,
          38,
          39,
          40,
          41,
          42,
          43,
          44,
          45,
          46,
          47,
          48,
          49,
          50,
          51,
          52,
          53,
          54,
          55,
          56,
          57,
          58,
          59,
          60,
          61,
          62,
          63,
          64,
          65,
          66,
          67,
          68,
          69,
          70,
          71,
          72,
          73,
          74,
          75,
          76,
          77,
          78,
          79,
          80,
          81,
          82,
          83,
          84,
          85,
          86,
          87,
          88,
          89,
          90,
          91,
          92,
          93,
          94,
          95,
          96,
          97,
          98,
          99
         ],
         "y": [
          -1.3758072804282802,
          -2.0166423275795045,
          -0.1338910600221726,
          -0.5820663677732987,
          0.9712282596893289,
          0.04856414782439493,
          -1.6446518762072733,
          -0.9421467336068651,
          0.21954059186296845,
          0.36807439477449627,
          -0.3654460240432651,
          -0.8881757488822261,
          1.1359574308252038,
          1.784248095321167,
          -2.230174327763357,
          -0.9096345705300771,
          0.058131826476081325,
          0.49564915635896856,
          0.9955580219566825,
          0.9416554478215717,
          0.501777796879372,
          0.5832116202465111,
          0.07587249397032425,
          -1.3196824810937708,
          0.4830791708975699,
          -1.374253540092365,
          -0.5760286311195967,
          0.7116952836336254,
          -0.3114529511132174,
          -0.4000450842140983,
          0.04992534906556205,
          1.954807728032101,
          0.13171389071864884,
          -0.033496919366209084,
          -0.49088708243273443,
          -0.32917951662922473,
          -0.6357922655639845,
          0.01910882388183459,
          0.6605981182143601,
          0.2871073718275956,
          -0.7967523017727124,
          1.2749217387718361,
          -1.0184090272611115,
          -0.30776517663371084,
          -1.3835687056089345,
          -0.9589418851101955,
          0.8388110623238367,
          -0.8262275451330596,
          -1.8834577989862957,
          0.5672824330131843,
          1.5196434832141326,
          -0.9864345081943736,
          -0.09831683886884271,
          -0.4837052077847503,
          1.2148627172318998,
          -0.8692477403189863,
          -2.145542147953029,
          -1.026863204622045,
          0.5759905082069539,
          -0.08525962897285295,
          0.1994816415925022,
          0.29053581455171307,
          1.6111189999118847,
          -0.8918623381139243,
          0.757880123902853,
          -0.9228502119583749,
          0.2614246572476863,
          -1.4678941893578006,
          -1.7208349749814054,
          -1.188026523351157,
          -1.3120013569153754,
          -0.26774879333661716,
          -0.8918948740304229,
          -1.8768343945216002,
          0.5804338332708612,
          -0.506169023116886,
          -0.25771991196350186,
          -1.891780200402067,
          -0.90439014692466,
          -0.6309894908570972,
          -2.07726520770258,
          0.44560260665169893,
          0.36344301847922245,
          -0.9338476374001575,
          -0.7805318229279821,
          -1.4284991217257477,
          -1.5086579661524255,
          -0.01569096789541602,
          -2.1206884425801995,
          -1.971641489490636,
          -0.16318933968466018,
          0.26430296290179456,
          -0.9783848110025019,
          -0.8944221474552131,
          0.4463550575217183,
          0.9586322265346929,
          -0.5716261211754448,
          0.9428186601187796,
          -1.6636587907084162,
          -0.14151351627318537
         ]
        },
        {
         "connectgaps": false,
         "fill": "tozeroy",
         "line": {
          "color": "green",
          "dash": "solid",
          "shape": "linear",
          "width": 0.5
         },
         "mode": "lines",
         "name": "Spread",
         "showlegend": false,
         "type": "scatter",
         "x": [
          0,
          1,
          2,
          3,
          4,
          5,
          6,
          7,
          8,
          9,
          10,
          11,
          12,
          13,
          14,
          15,
          16,
          17,
          18,
          19,
          20,
          21,
          22,
          23,
          24,
          25,
          26,
          27,
          28,
          29,
          30,
          31,
          32,
          33,
          34,
          35,
          36,
          37,
          38,
          39,
          40,
          41,
          42,
          43,
          44,
          45,
          46,
          47,
          48,
          49,
          50,
          51,
          52,
          53,
          54,
          55,
          56,
          57,
          58,
          59,
          60,
          61,
          62,
          63,
          64,
          65,
          66,
          67,
          68,
          69,
          70,
          71,
          72,
          73,
          74,
          75,
          76,
          77,
          78,
          79,
          80,
          81,
          82,
          83,
          84,
          85,
          86,
          87,
          88,
          89,
          90,
          91,
          92,
          93,
          94,
          95,
          96,
          97,
          98,
          99
         ],
         "xaxis": "x2",
         "y": [
          0.7923319420765502,
          1.842580214062875,
          0.4399790392251721,
          "",
          "",
          "",
          2.418574758475172,
          2.4370738469239757,
          0.6172409059383509,
          "",
          1.548207764501801,
          1.385922607083498,
          "",
          "",
          3.2417937594951787,
          0.274291925769545,
          "",
          "",
          0.238178662786929,
          "",
          "",
          "",
          "",
          2.2074252068854325,
          "",
          "",
          0.28875294419263614,
          "",
          1.4122597924373486,
          1.3887415339868407,
          "",
          "",
          0.7698738539472959,
          "",
          3.2117160130301996,
          0.47082281117124863,
          0.6857838481600166,
          "",
          "",
          "",
          2.0038117413851775,
          "",
          "",
          0.21449796934657836,
          "",
          "",
          "",
          "",
          1.7861552195067818,
          0.1380570567534828,
          "",
          1.6338087300887438,
          1.1883112287496829,
          0.11644981654447467,
          "",
          0.6767303428199172,
          1.4805141931121413,
          1.1878558467981957,
          "",
          0.489055233837307,
          1.3094195000135824,
          0.6265707451451706,
          "",
          1.908287030259854,
          "",
          0.8078478710320672,
          1.2627840159002262,
          2.570911833678319,
          1.5329639350257893,
          "",
          2.137307984732054,
          "",
          1.110041997185801,
          1.803273282297209,
          "",
          "",
          1.570714460963787,
          2.321879826338469,
          "",
          0.8631167324502758,
          2.457104927800277,
          "",
          "",
          2.6264525043379066,
          2.3281658754658983,
          2.332305530683794,
          1.852112011358438,
          "",
          3.14180922938957,
          2.886273657854322,
          "",
          "",
          1.618940685010503,
          "",
          "",
          "",
          0.822766572959476,
          0.7252747602560605,
          1.2894070711103418,
          ""
         ],
         "yaxis": "y2"
        },
        {
         "connectgaps": false,
         "fill": "tozeroy",
         "line": {
          "color": "red",
          "dash": "solid",
          "shape": "linear",
          "width": 0.5
         },
         "mode": "lines",
         "name": "Spread",
         "showlegend": false,
         "type": "scatter",
         "x": [
          0,
          1,
          2,
          3,
          4,
          5,
          6,
          7,
          8,
          9,
          10,
          11,
          12,
          13,
          14,
          15,
          16,
          17,
          18,
          19,
          20,
          21,
          22,
          23,
          24,
          25,
          26,
          27,
          28,
          29,
          30,
          31,
          32,
          33,
          34,
          35,
          36,
          37,
          38,
          39,
          40,
          41,
          42,
          43,
          44,
          45,
          46,
          47,
          48,
          49,
          50,
          51,
          52,
          53,
          54,
          55,
          56,
          57,
          58,
          59,
          60,
          61,
          62,
          63,
          64,
          65,
          66,
          67,
          68,
          69,
          70,
          71,
          72,
          73,
          74,
          75,
          76,
          77,
          78,
          79,
          80,
          81,
          82,
          83,
          84,
          85,
          86,
          87,
          88,
          89,
          90,
          91,
          92,
          93,
          94,
          95,
          96,
          97,
          98,
          99
         ],
         "xaxis": "x2",
         "y": [
          "",
          "",
          "",
          -0.3713429601070569,
          -0.6376977079735504,
          -1.020646444981145,
          "",
          "",
          "",
          -0.2849922987367638,
          "",
          "",
          -0.9939727602671464,
          -2.919793443015777,
          "",
          "",
          -0.6005462463347288,
          -2.0713185716153086,
          "",
          -0.8279710901107883,
          -2.362111094868619,
          -0.9622945211489038,
          -2.4710913004486446,
          "",
          -1.1946421841205868,
          -0.5861298275484972,
          "",
          -1.838348911073971,
          "",
          "",
          -0.5602062951899006,
          -2.221808162639053,
          "",
          -0.1773195428939873,
          "",
          "",
          "",
          -0.5783169834321776,
          -0.20778356308827967,
          -0.7633838291054675,
          "",
          -0.7972195312636254,
          -0.008522678356147617,
          "",
          -1.0656112849990522,
          -0.00802709899767784,
          -0.4403791402972316,
          -0.7754548855591454,
          "",
          "",
          -2.2082416872138317,
          "",
          "",
          "",
          -0.8161023195557364,
          "",
          "",
          "",
          -0.06290117589333122,
          "",
          "",
          "",
          -2.4573081365930634,
          "",
          -0.08964900169705015,
          "",
          "",
          "",
          "",
          -0.16582474925398238,
          "",
          -0.04422054303208972,
          "",
          "",
          -0.6087264559445454,
          -0.6515860560521822,
          "",
          "",
          -0.3256630403968608,
          "",
          "",
          -0.9340371470252357,
          -0.8132224729296479,
          "",
          "",
          "",
          "",
          -0.3581091857235964,
          "",
          "",
          -0.35526939023038484,
          -1.479908117173849,
          "",
          -0.6259509479002413,
          -0.21354875202424584,
          -2.1692721619215223,
          "",
          "",
          "",
          -1.083068532634891
         ],
         "yaxis": "y2"
        }
       ],
       "layout": {
        "hovermode": "x",
        "legend": {
         "bgcolor": "#F5F6F9",
         "font": {
          "color": "#4D5663"
         }
        },
        "paper_bgcolor": "#F5F6F9",
        "plot_bgcolor": "#F5F6F9",
        "template": {
         "data": {
          "bar": [
           {
            "error_x": {
             "color": "#2a3f5f"
            },
            "error_y": {
             "color": "#2a3f5f"
            },
            "marker": {
             "line": {
              "color": "#E5ECF6",
              "width": 0.5
             }
            },
            "type": "bar"
           }
          ],
          "barpolar": [
           {
            "marker": {
             "line": {
              "color": "#E5ECF6",
              "width": 0.5
             }
            },
            "type": "barpolar"
           }
          ],
          "carpet": [
           {
            "aaxis": {
             "endlinecolor": "#2a3f5f",
             "gridcolor": "white",
             "linecolor": "white",
             "minorgridcolor": "white",
             "startlinecolor": "#2a3f5f"
            },
            "baxis": {
             "endlinecolor": "#2a3f5f",
             "gridcolor": "white",
             "linecolor": "white",
             "minorgridcolor": "white",
             "startlinecolor": "#2a3f5f"
            },
            "type": "carpet"
           }
          ],
          "choropleth": [
           {
            "colorbar": {
             "outlinewidth": 0,
             "ticks": ""
            },
            "type": "choropleth"
           }
          ],
          "contour": [
           {
            "colorbar": {
             "outlinewidth": 0,
             "ticks": ""
            },
            "colorscale": [
             [
              0,
              "#0d0887"
             ],
             [
              0.1111111111111111,
              "#46039f"
             ],
             [
              0.2222222222222222,
              "#7201a8"
             ],
             [
              0.3333333333333333,
              "#9c179e"
             ],
             [
              0.4444444444444444,
              "#bd3786"
             ],
             [
              0.5555555555555556,
              "#d8576b"
             ],
             [
              0.6666666666666666,
              "#ed7953"
             ],
             [
              0.7777777777777778,
              "#fb9f3a"
             ],
             [
              0.8888888888888888,
              "#fdca26"
             ],
             [
              1,
              "#f0f921"
             ]
            ],
            "type": "contour"
           }
          ],
          "contourcarpet": [
           {
            "colorbar": {
             "outlinewidth": 0,
             "ticks": ""
            },
            "type": "contourcarpet"
           }
          ],
          "heatmap": [
           {
            "colorbar": {
             "outlinewidth": 0,
             "ticks": ""
            },
            "colorscale": [
             [
              0,
              "#0d0887"
             ],
             [
              0.1111111111111111,
              "#46039f"
             ],
             [
              0.2222222222222222,
              "#7201a8"
             ],
             [
              0.3333333333333333,
              "#9c179e"
             ],
             [
              0.4444444444444444,
              "#bd3786"
             ],
             [
              0.5555555555555556,
              "#d8576b"
             ],
             [
              0.6666666666666666,
              "#ed7953"
             ],
             [
              0.7777777777777778,
              "#fb9f3a"
             ],
             [
              0.8888888888888888,
              "#fdca26"
             ],
             [
              1,
              "#f0f921"
             ]
            ],
            "type": "heatmap"
           }
          ],
          "heatmapgl": [
           {
            "colorbar": {
             "outlinewidth": 0,
             "ticks": ""
            },
            "colorscale": [
             [
              0,
              "#0d0887"
             ],
             [
              0.1111111111111111,
              "#46039f"
             ],
             [
              0.2222222222222222,
              "#7201a8"
             ],
             [
              0.3333333333333333,
              "#9c179e"
             ],
             [
              0.4444444444444444,
              "#bd3786"
             ],
             [
              0.5555555555555556,
              "#d8576b"
             ],
             [
              0.6666666666666666,
              "#ed7953"
             ],
             [
              0.7777777777777778,
              "#fb9f3a"
             ],
             [
              0.8888888888888888,
              "#fdca26"
             ],
             [
              1,
              "#f0f921"
             ]
            ],
            "type": "heatmapgl"
           }
          ],
          "histogram": [
           {
            "marker": {
             "colorbar": {
              "outlinewidth": 0,
              "ticks": ""
             }
            },
            "type": "histogram"
           }
          ],
          "histogram2d": [
           {
            "colorbar": {
             "outlinewidth": 0,
             "ticks": ""
            },
            "colorscale": [
             [
              0,
              "#0d0887"
             ],
             [
              0.1111111111111111,
              "#46039f"
             ],
             [
              0.2222222222222222,
              "#7201a8"
             ],
             [
              0.3333333333333333,
              "#9c179e"
             ],
             [
              0.4444444444444444,
              "#bd3786"
             ],
             [
              0.5555555555555556,
              "#d8576b"
             ],
             [
              0.6666666666666666,
              "#ed7953"
             ],
             [
              0.7777777777777778,
              "#fb9f3a"
             ],
             [
              0.8888888888888888,
              "#fdca26"
             ],
             [
              1,
              "#f0f921"
             ]
            ],
            "type": "histogram2d"
           }
          ],
          "histogram2dcontour": [
           {
            "colorbar": {
             "outlinewidth": 0,
             "ticks": ""
            },
            "colorscale": [
             [
              0,
              "#0d0887"
             ],
             [
              0.1111111111111111,
              "#46039f"
             ],
             [
              0.2222222222222222,
              "#7201a8"
             ],
             [
              0.3333333333333333,
              "#9c179e"
             ],
             [
              0.4444444444444444,
              "#bd3786"
             ],
             [
              0.5555555555555556,
              "#d8576b"
             ],
             [
              0.6666666666666666,
              "#ed7953"
             ],
             [
              0.7777777777777778,
              "#fb9f3a"
             ],
             [
              0.8888888888888888,
              "#fdca26"
             ],
             [
              1,
              "#f0f921"
             ]
            ],
            "type": "histogram2dcontour"
           }
          ],
          "mesh3d": [
           {
            "colorbar": {
             "outlinewidth": 0,
             "ticks": ""
            },
            "type": "mesh3d"
           }
          ],
          "parcoords": [
           {
            "line": {
             "colorbar": {
              "outlinewidth": 0,
              "ticks": ""
             }
            },
            "type": "parcoords"
           }
          ],
          "pie": [
           {
            "automargin": true,
            "type": "pie"
           }
          ],
          "scatter": [
           {
            "marker": {
             "colorbar": {
              "outlinewidth": 0,
              "ticks": ""
             }
            },
            "type": "scatter"
           }
          ],
          "scatter3d": [
           {
            "line": {
             "colorbar": {
              "outlinewidth": 0,
              "ticks": ""
             }
            },
            "marker": {
             "colorbar": {
              "outlinewidth": 0,
              "ticks": ""
             }
            },
            "type": "scatter3d"
           }
          ],
          "scattercarpet": [
           {
            "marker": {
             "colorbar": {
              "outlinewidth": 0,
              "ticks": ""
             }
            },
            "type": "scattercarpet"
           }
          ],
          "scattergeo": [
           {
            "marker": {
             "colorbar": {
              "outlinewidth": 0,
              "ticks": ""
             }
            },
            "type": "scattergeo"
           }
          ],
          "scattergl": [
           {
            "marker": {
             "colorbar": {
              "outlinewidth": 0,
              "ticks": ""
             }
            },
            "type": "scattergl"
           }
          ],
          "scattermapbox": [
           {
            "marker": {
             "colorbar": {
              "outlinewidth": 0,
              "ticks": ""
             }
            },
            "type": "scattermapbox"
           }
          ],
          "scatterpolar": [
           {
            "marker": {
             "colorbar": {
              "outlinewidth": 0,
              "ticks": ""
             }
            },
            "type": "scatterpolar"
           }
          ],
          "scatterpolargl": [
           {
            "marker": {
             "colorbar": {
              "outlinewidth": 0,
              "ticks": ""
             }
            },
            "type": "scatterpolargl"
           }
          ],
          "scatterternary": [
           {
            "marker": {
             "colorbar": {
              "outlinewidth": 0,
              "ticks": ""
             }
            },
            "type": "scatterternary"
           }
          ],
          "surface": [
           {
            "colorbar": {
             "outlinewidth": 0,
             "ticks": ""
            },
            "colorscale": [
             [
              0,
              "#0d0887"
             ],
             [
              0.1111111111111111,
              "#46039f"
             ],
             [
              0.2222222222222222,
              "#7201a8"
             ],
             [
              0.3333333333333333,
              "#9c179e"
             ],
             [
              0.4444444444444444,
              "#bd3786"
             ],
             [
              0.5555555555555556,
              "#d8576b"
             ],
             [
              0.6666666666666666,
              "#ed7953"
             ],
             [
              0.7777777777777778,
              "#fb9f3a"
             ],
             [
              0.8888888888888888,
              "#fdca26"
             ],
             [
              1,
              "#f0f921"
             ]
            ],
            "type": "surface"
           }
          ],
          "table": [
           {
            "cells": {
             "fill": {
              "color": "#EBF0F8"
             },
             "line": {
              "color": "white"
             }
            },
            "header": {
             "fill": {
              "color": "#C8D4E3"
             },
             "line": {
              "color": "white"
             }
            },
            "type": "table"
           }
          ]
         },
         "layout": {
          "annotationdefaults": {
           "arrowcolor": "#2a3f5f",
           "arrowhead": 0,
           "arrowwidth": 1
          },
          "autotypenumbers": "strict",
          "coloraxis": {
           "colorbar": {
            "outlinewidth": 0,
            "ticks": ""
           }
          },
          "colorscale": {
           "diverging": [
            [
             0,
             "#8e0152"
            ],
            [
             0.1,
             "#c51b7d"
            ],
            [
             0.2,
             "#de77ae"
            ],
            [
             0.3,
             "#f1b6da"
            ],
            [
             0.4,
             "#fde0ef"
            ],
            [
             0.5,
             "#f7f7f7"
            ],
            [
             0.6,
             "#e6f5d0"
            ],
            [
             0.7,
             "#b8e186"
            ],
            [
             0.8,
             "#7fbc41"
            ],
            [
             0.9,
             "#4d9221"
            ],
            [
             1,
             "#276419"
            ]
           ],
           "sequential": [
            [
             0,
             "#0d0887"
            ],
            [
             0.1111111111111111,
             "#46039f"
            ],
            [
             0.2222222222222222,
             "#7201a8"
            ],
            [
             0.3333333333333333,
             "#9c179e"
            ],
            [
             0.4444444444444444,
             "#bd3786"
            ],
            [
             0.5555555555555556,
             "#d8576b"
            ],
            [
             0.6666666666666666,
             "#ed7953"
            ],
            [
             0.7777777777777778,
             "#fb9f3a"
            ],
            [
             0.8888888888888888,
             "#fdca26"
            ],
            [
             1,
             "#f0f921"
            ]
           ],
           "sequentialminus": [
            [
             0,
             "#0d0887"
            ],
            [
             0.1111111111111111,
             "#46039f"
            ],
            [
             0.2222222222222222,
             "#7201a8"
            ],
            [
             0.3333333333333333,
             "#9c179e"
            ],
            [
             0.4444444444444444,
             "#bd3786"
            ],
            [
             0.5555555555555556,
             "#d8576b"
            ],
            [
             0.6666666666666666,
             "#ed7953"
            ],
            [
             0.7777777777777778,
             "#fb9f3a"
            ],
            [
             0.8888888888888888,
             "#fdca26"
            ],
            [
             1,
             "#f0f921"
            ]
           ]
          },
          "colorway": [
           "#636efa",
           "#EF553B",
           "#00cc96",
           "#ab63fa",
           "#FFA15A",
           "#19d3f3",
           "#FF6692",
           "#B6E880",
           "#FF97FF",
           "#FECB52"
          ],
          "font": {
           "color": "#2a3f5f"
          },
          "geo": {
           "bgcolor": "white",
           "lakecolor": "white",
           "landcolor": "#E5ECF6",
           "showlakes": true,
           "showland": true,
           "subunitcolor": "white"
          },
          "hoverlabel": {
           "align": "left"
          },
          "hovermode": "closest",
          "mapbox": {
           "style": "light"
          },
          "paper_bgcolor": "white",
          "plot_bgcolor": "#E5ECF6",
          "polar": {
           "angularaxis": {
            "gridcolor": "white",
            "linecolor": "white",
            "ticks": ""
           },
           "bgcolor": "#E5ECF6",
           "radialaxis": {
            "gridcolor": "white",
            "linecolor": "white",
            "ticks": ""
           }
          },
          "scene": {
           "xaxis": {
            "backgroundcolor": "#E5ECF6",
            "gridcolor": "white",
            "gridwidth": 2,
            "linecolor": "white",
            "showbackground": true,
            "ticks": "",
            "zerolinecolor": "white"
           },
           "yaxis": {
            "backgroundcolor": "#E5ECF6",
            "gridcolor": "white",
            "gridwidth": 2,
            "linecolor": "white",
            "showbackground": true,
            "ticks": "",
            "zerolinecolor": "white"
           },
           "zaxis": {
            "backgroundcolor": "#E5ECF6",
            "gridcolor": "white",
            "gridwidth": 2,
            "linecolor": "white",
            "showbackground": true,
            "ticks": "",
            "zerolinecolor": "white"
           }
          },
          "shapedefaults": {
           "line": {
            "color": "#2a3f5f"
           }
          },
          "ternary": {
           "aaxis": {
            "gridcolor": "white",
            "linecolor": "white",
            "ticks": ""
           },
           "baxis": {
            "gridcolor": "white",
            "linecolor": "white",
            "ticks": ""
           },
           "bgcolor": "#E5ECF6",
           "caxis": {
            "gridcolor": "white",
            "linecolor": "white",
            "ticks": ""
           }
          },
          "title": {
           "x": 0.05
          },
          "xaxis": {
           "automargin": true,
           "gridcolor": "white",
           "linecolor": "white",
           "ticks": "",
           "title": {
            "standoff": 15
           },
           "zerolinecolor": "white",
           "zerolinewidth": 2
          },
          "yaxis": {
           "automargin": true,
           "gridcolor": "white",
           "linecolor": "white",
           "ticks": "",
           "title": {
            "standoff": 15
           },
           "zerolinecolor": "white",
           "zerolinewidth": 2
          }
         }
        },
        "title": {
         "font": {
          "color": "#4D5663"
         }
        },
        "xaxis": {
         "gridcolor": "#E1E5ED",
         "showgrid": true,
         "tickfont": {
          "color": "#4D5663"
         },
         "title": {
          "font": {
           "color": "#4D5663"
          },
          "text": ""
         },
         "zerolinecolor": "#E1E5ED"
        },
        "xaxis2": {
         "anchor": "y2",
         "gridcolor": "#E1E5ED",
         "showgrid": true,
         "showticklabels": false,
         "tickfont": {
          "color": "#4D5663"
         },
         "title": {
          "font": {
           "color": "#4D5663"
          },
          "text": ""
         },
         "zerolinecolor": "#E1E5ED"
        },
        "yaxis": {
         "domain": [
          0.3,
          1
         ],
         "gridcolor": "#E1E5ED",
         "showgrid": true,
         "tickfont": {
          "color": "#4D5663"
         },
         "title": {
          "font": {
           "color": "#4D5663"
          },
          "text": ""
         },
         "zerolinecolor": "#E1E5ED"
        },
        "yaxis2": {
         "domain": [
          0,
          0.25
         ],
         "gridcolor": "#E1E5ED",
         "showgrid": true,
         "tickfont": {
          "color": "#4D5663"
         },
         "title": {
          "font": {
           "color": "#4D5663"
          },
          "text": "Spread"
         },
         "zerolinecolor": "#E1E5ED"
        }
       }
      },
      "text/html": [
       "<div>                            <div id=\"219f95a9-1e00-4671-b76b-322cff54715e\" class=\"plotly-graph-div\" style=\"height:525px; width:100%;\"></div>            <script type=\"text/javascript\">                require([\"plotly\"], function(Plotly) {                    window.PLOTLYENV=window.PLOTLYENV || {};\n",
       "                    window.PLOTLYENV.BASE_URL='https://plot.ly';                                    if (document.getElementById(\"219f95a9-1e00-4671-b76b-322cff54715e\")) {                    Plotly.newPlot(                        \"219f95a9-1e00-4671-b76b-322cff54715e\",                        [{\"line\": {\"color\": \"rgba(255, 153, 51, 1.0)\", \"dash\": \"solid\", \"shape\": \"linear\", \"width\": 1.3}, \"mode\": \"lines\", \"name\": \"A\", \"text\": \"\", \"type\": \"scatter\", \"x\": [0, 1, 2, 3, 4, 5, 6, 7, 8, 9, 10, 11, 12, 13, 14, 15, 16, 17, 18, 19, 20, 21, 22, 23, 24, 25, 26, 27, 28, 29, 30, 31, 32, 33, 34, 35, 36, 37, 38, 39, 40, 41, 42, 43, 44, 45, 46, 47, 48, 49, 50, 51, 52, 53, 54, 55, 56, 57, 58, 59, 60, 61, 62, 63, 64, 65, 66, 67, 68, 69, 70, 71, 72, 73, 74, 75, 76, 77, 78, 79, 80, 81, 82, 83, 84, 85, 86, 87, 88, 89, 90, 91, 92, 93, 94, 95, 96, 97, 98, 99], \"y\": [-0.5834753383517299, -0.17406211351662937, 0.3060879792029995, -0.9534093278803556, 0.3335305517157785, -0.97208229715675, 0.773922882267899, 1.4949271133171107, 0.8367814978013194, 0.08308209603773245, 1.182761740458536, 0.49774685820127185, 0.14198467055805747, -1.1355453476946098, 1.011619431731822, -0.6353426447605321, -0.5424144198586475, -1.5756694152563402, 1.2337366847436115, 0.11368435771078347, -1.8603332979892468, -0.37908290090239266, -2.3952188064783204, 0.8877427257916617, -0.7115630132230167, -1.9603833676408622, -0.28727568692696054, -1.1266536274403456, 1.1008068413241312, 0.9886964497727425, -0.5102809461243386, -0.26700043460695194, 0.9015877446659447, -0.21081646226019637, 2.7208289305974653, 0.1416432945420239, 0.04999158259603204, -0.5592081595503431, 0.45281455512608043, -0.47627645727787193, 1.207059439612465, 0.4777022075082107, -1.026931705617259, -0.09326720728713248, -2.4491799906079867, -0.9669689841078734, 0.39843192202660516, -1.601682430692205, -0.09730257947951387, 0.705339489766667, -0.6885982039996992, 0.6473742218943702, 1.0899943898808402, -0.3672553912402756, 0.3987603976761634, -0.19251739749906915, -0.6650279548408881, 0.1609926421761508, 0.5130893323136226, 0.40379560486445404, 1.5089011416060847, 0.9171065596968837, -0.8461891366811787, 1.0164246921459297, 0.6682311222058028, -0.11500234092630772, 1.5242086731479125, 1.1030176443205182, -0.18787103995561596, -1.3538512726051395, 0.8253066278166783, -0.3119693363687069, 0.21814712315537818, -0.0735611122243912, -0.028292622673684212, -1.1577550791690683, 1.3129945490002852, 0.4300996259364016, -1.2300531873215208, 0.2321272415931786, 0.37983972009769645, -0.48843454037353673, -0.44977945445042544, 1.6926048669377491, 1.5476340525379164, 0.9038064089580464, 0.34345404520601236, -0.3738001536190124, 1.0211207868093704, 0.9146321683636861, -0.518458729915045, -1.2156051542720545, 0.6405558740080012, -1.5203730953554544, 0.23280630549747244, -1.2106399353868293, 0.2511404517840312, 1.66809342037484, -0.3742517195980744, -1.2245820489080763]}, {\"line\": {\"color\": \"rgba(55, 128, 191, 1.0)\", \"dash\": \"solid\", \"shape\": \"linear\", \"width\": 1.3}, \"mode\": \"lines\", \"name\": \"B\", \"text\": \"\", \"type\": \"scatter\", \"x\": [0, 1, 2, 3, 4, 5, 6, 7, 8, 9, 10, 11, 12, 13, 14, 15, 16, 17, 18, 19, 20, 21, 22, 23, 24, 25, 26, 27, 28, 29, 30, 31, 32, 33, 34, 35, 36, 37, 38, 39, 40, 41, 42, 43, 44, 45, 46, 47, 48, 49, 50, 51, 52, 53, 54, 55, 56, 57, 58, 59, 60, 61, 62, 63, 64, 65, 66, 67, 68, 69, 70, 71, 72, 73, 74, 75, 76, 77, 78, 79, 80, 81, 82, 83, 84, 85, 86, 87, 88, 89, 90, 91, 92, 93, 94, 95, 96, 97, 98, 99], \"y\": [-1.3758072804282802, -2.0166423275795045, -0.1338910600221726, -0.5820663677732987, 0.9712282596893289, 0.04856414782439493, -1.6446518762072733, -0.9421467336068651, 0.21954059186296845, 0.36807439477449627, -0.3654460240432651, -0.8881757488822261, 1.1359574308252038, 1.784248095321167, -2.230174327763357, -0.9096345705300771, 0.058131826476081325, 0.49564915635896856, 0.9955580219566825, 0.9416554478215717, 0.501777796879372, 0.5832116202465111, 0.07587249397032425, -1.3196824810937708, 0.4830791708975699, -1.374253540092365, -0.5760286311195967, 0.7116952836336254, -0.3114529511132174, -0.4000450842140983, 0.04992534906556205, 1.954807728032101, 0.13171389071864884, -0.033496919366209084, -0.49088708243273443, -0.32917951662922473, -0.6357922655639845, 0.01910882388183459, 0.6605981182143601, 0.2871073718275956, -0.7967523017727124, 1.2749217387718361, -1.0184090272611115, -0.30776517663371084, -1.3835687056089345, -0.9589418851101955, 0.8388110623238367, -0.8262275451330596, -1.8834577989862957, 0.5672824330131843, 1.5196434832141326, -0.9864345081943736, -0.09831683886884271, -0.4837052077847503, 1.2148627172318998, -0.8692477403189863, -2.145542147953029, -1.026863204622045, 0.5759905082069539, -0.08525962897285295, 0.1994816415925022, 0.29053581455171307, 1.6111189999118847, -0.8918623381139243, 0.757880123902853, -0.9228502119583749, 0.2614246572476863, -1.4678941893578006, -1.7208349749814054, -1.188026523351157, -1.3120013569153754, -0.26774879333661716, -0.8918948740304229, -1.8768343945216002, 0.5804338332708612, -0.506169023116886, -0.25771991196350186, -1.891780200402067, -0.90439014692466, -0.6309894908570972, -2.07726520770258, 0.44560260665169893, 0.36344301847922245, -0.9338476374001575, -0.7805318229279821, -1.4284991217257477, -1.5086579661524255, -0.01569096789541602, -2.1206884425801995, -1.971641489490636, -0.16318933968466018, 0.26430296290179456, -0.9783848110025019, -0.8944221474552131, 0.4463550575217183, 0.9586322265346929, -0.5716261211754448, 0.9428186601187796, -1.6636587907084162, -0.14151351627318537]}, {\"connectgaps\": false, \"fill\": \"tozeroy\", \"line\": {\"color\": \"green\", \"dash\": \"solid\", \"shape\": \"linear\", \"width\": 0.5}, \"mode\": \"lines\", \"name\": \"Spread\", \"showlegend\": false, \"type\": \"scatter\", \"x\": [0, 1, 2, 3, 4, 5, 6, 7, 8, 9, 10, 11, 12, 13, 14, 15, 16, 17, 18, 19, 20, 21, 22, 23, 24, 25, 26, 27, 28, 29, 30, 31, 32, 33, 34, 35, 36, 37, 38, 39, 40, 41, 42, 43, 44, 45, 46, 47, 48, 49, 50, 51, 52, 53, 54, 55, 56, 57, 58, 59, 60, 61, 62, 63, 64, 65, 66, 67, 68, 69, 70, 71, 72, 73, 74, 75, 76, 77, 78, 79, 80, 81, 82, 83, 84, 85, 86, 87, 88, 89, 90, 91, 92, 93, 94, 95, 96, 97, 98, 99], \"xaxis\": \"x2\", \"y\": [0.7923319420765502, 1.842580214062875, 0.4399790392251721, \"\", \"\", \"\", 2.418574758475172, 2.4370738469239757, 0.6172409059383509, \"\", 1.548207764501801, 1.385922607083498, \"\", \"\", 3.2417937594951787, 0.274291925769545, \"\", \"\", 0.238178662786929, \"\", \"\", \"\", \"\", 2.2074252068854325, \"\", \"\", 0.28875294419263614, \"\", 1.4122597924373486, 1.3887415339868407, \"\", \"\", 0.7698738539472959, \"\", 3.2117160130301996, 0.47082281117124863, 0.6857838481600166, \"\", \"\", \"\", 2.0038117413851775, \"\", \"\", 0.21449796934657836, \"\", \"\", \"\", \"\", 1.7861552195067818, 0.1380570567534828, \"\", 1.6338087300887438, 1.1883112287496829, 0.11644981654447467, \"\", 0.6767303428199172, 1.4805141931121413, 1.1878558467981957, \"\", 0.489055233837307, 1.3094195000135824, 0.6265707451451706, \"\", 1.908287030259854, \"\", 0.8078478710320672, 1.2627840159002262, 2.570911833678319, 1.5329639350257893, \"\", 2.137307984732054, \"\", 1.110041997185801, 1.803273282297209, \"\", \"\", 1.570714460963787, 2.321879826338469, \"\", 0.8631167324502758, 2.457104927800277, \"\", \"\", 2.6264525043379066, 2.3281658754658983, 2.332305530683794, 1.852112011358438, \"\", 3.14180922938957, 2.886273657854322, \"\", \"\", 1.618940685010503, \"\", \"\", \"\", 0.822766572959476, 0.7252747602560605, 1.2894070711103418, \"\"], \"yaxis\": \"y2\"}, {\"connectgaps\": false, \"fill\": \"tozeroy\", \"line\": {\"color\": \"red\", \"dash\": \"solid\", \"shape\": \"linear\", \"width\": 0.5}, \"mode\": \"lines\", \"name\": \"Spread\", \"showlegend\": false, \"type\": \"scatter\", \"x\": [0, 1, 2, 3, 4, 5, 6, 7, 8, 9, 10, 11, 12, 13, 14, 15, 16, 17, 18, 19, 20, 21, 22, 23, 24, 25, 26, 27, 28, 29, 30, 31, 32, 33, 34, 35, 36, 37, 38, 39, 40, 41, 42, 43, 44, 45, 46, 47, 48, 49, 50, 51, 52, 53, 54, 55, 56, 57, 58, 59, 60, 61, 62, 63, 64, 65, 66, 67, 68, 69, 70, 71, 72, 73, 74, 75, 76, 77, 78, 79, 80, 81, 82, 83, 84, 85, 86, 87, 88, 89, 90, 91, 92, 93, 94, 95, 96, 97, 98, 99], \"xaxis\": \"x2\", \"y\": [\"\", \"\", \"\", -0.3713429601070569, -0.6376977079735504, -1.020646444981145, \"\", \"\", \"\", -0.2849922987367638, \"\", \"\", -0.9939727602671464, -2.919793443015777, \"\", \"\", -0.6005462463347288, -2.0713185716153086, \"\", -0.8279710901107883, -2.362111094868619, -0.9622945211489038, -2.4710913004486446, \"\", -1.1946421841205868, -0.5861298275484972, \"\", -1.838348911073971, \"\", \"\", -0.5602062951899006, -2.221808162639053, \"\", -0.1773195428939873, \"\", \"\", \"\", -0.5783169834321776, -0.20778356308827967, -0.7633838291054675, \"\", -0.7972195312636254, -0.008522678356147617, \"\", -1.0656112849990522, -0.00802709899767784, -0.4403791402972316, -0.7754548855591454, \"\", \"\", -2.2082416872138317, \"\", \"\", \"\", -0.8161023195557364, \"\", \"\", \"\", -0.06290117589333122, \"\", \"\", \"\", -2.4573081365930634, \"\", -0.08964900169705015, \"\", \"\", \"\", \"\", -0.16582474925398238, \"\", -0.04422054303208972, \"\", \"\", -0.6087264559445454, -0.6515860560521822, \"\", \"\", -0.3256630403968608, \"\", \"\", -0.9340371470252357, -0.8132224729296479, \"\", \"\", \"\", \"\", -0.3581091857235964, \"\", \"\", -0.35526939023038484, -1.479908117173849, \"\", -0.6259509479002413, -0.21354875202424584, -2.1692721619215223, \"\", \"\", \"\", -1.083068532634891], \"yaxis\": \"y2\"}],                        {\"hovermode\": \"x\", \"legend\": {\"bgcolor\": \"#F5F6F9\", \"font\": {\"color\": \"#4D5663\"}}, \"paper_bgcolor\": \"#F5F6F9\", \"plot_bgcolor\": \"#F5F6F9\", \"template\": {\"data\": {\"bar\": [{\"error_x\": {\"color\": \"#2a3f5f\"}, \"error_y\": {\"color\": \"#2a3f5f\"}, \"marker\": {\"line\": {\"color\": \"#E5ECF6\", \"width\": 0.5}}, \"type\": \"bar\"}], \"barpolar\": [{\"marker\": {\"line\": {\"color\": \"#E5ECF6\", \"width\": 0.5}}, \"type\": \"barpolar\"}], \"carpet\": [{\"aaxis\": {\"endlinecolor\": \"#2a3f5f\", \"gridcolor\": \"white\", \"linecolor\": \"white\", \"minorgridcolor\": \"white\", \"startlinecolor\": \"#2a3f5f\"}, \"baxis\": {\"endlinecolor\": \"#2a3f5f\", \"gridcolor\": \"white\", \"linecolor\": \"white\", \"minorgridcolor\": \"white\", \"startlinecolor\": \"#2a3f5f\"}, \"type\": \"carpet\"}], \"choropleth\": [{\"colorbar\": {\"outlinewidth\": 0, \"ticks\": \"\"}, \"type\": \"choropleth\"}], \"contour\": [{\"colorbar\": {\"outlinewidth\": 0, \"ticks\": \"\"}, \"colorscale\": [[0.0, \"#0d0887\"], [0.1111111111111111, \"#46039f\"], [0.2222222222222222, \"#7201a8\"], [0.3333333333333333, \"#9c179e\"], [0.4444444444444444, \"#bd3786\"], [0.5555555555555556, \"#d8576b\"], [0.6666666666666666, \"#ed7953\"], [0.7777777777777778, \"#fb9f3a\"], [0.8888888888888888, \"#fdca26\"], [1.0, \"#f0f921\"]], \"type\": \"contour\"}], \"contourcarpet\": [{\"colorbar\": {\"outlinewidth\": 0, \"ticks\": \"\"}, \"type\": \"contourcarpet\"}], \"heatmap\": [{\"colorbar\": {\"outlinewidth\": 0, \"ticks\": \"\"}, \"colorscale\": [[0.0, \"#0d0887\"], [0.1111111111111111, \"#46039f\"], [0.2222222222222222, \"#7201a8\"], [0.3333333333333333, \"#9c179e\"], [0.4444444444444444, \"#bd3786\"], [0.5555555555555556, \"#d8576b\"], [0.6666666666666666, \"#ed7953\"], [0.7777777777777778, \"#fb9f3a\"], [0.8888888888888888, \"#fdca26\"], [1.0, \"#f0f921\"]], \"type\": \"heatmap\"}], \"heatmapgl\": [{\"colorbar\": {\"outlinewidth\": 0, \"ticks\": \"\"}, \"colorscale\": [[0.0, \"#0d0887\"], [0.1111111111111111, \"#46039f\"], [0.2222222222222222, \"#7201a8\"], [0.3333333333333333, \"#9c179e\"], [0.4444444444444444, \"#bd3786\"], [0.5555555555555556, \"#d8576b\"], [0.6666666666666666, \"#ed7953\"], [0.7777777777777778, \"#fb9f3a\"], [0.8888888888888888, \"#fdca26\"], [1.0, \"#f0f921\"]], \"type\": \"heatmapgl\"}], \"histogram\": [{\"marker\": {\"colorbar\": {\"outlinewidth\": 0, \"ticks\": \"\"}}, \"type\": \"histogram\"}], \"histogram2d\": [{\"colorbar\": {\"outlinewidth\": 0, \"ticks\": \"\"}, \"colorscale\": [[0.0, \"#0d0887\"], [0.1111111111111111, \"#46039f\"], [0.2222222222222222, \"#7201a8\"], [0.3333333333333333, \"#9c179e\"], [0.4444444444444444, \"#bd3786\"], [0.5555555555555556, \"#d8576b\"], [0.6666666666666666, \"#ed7953\"], [0.7777777777777778, \"#fb9f3a\"], [0.8888888888888888, \"#fdca26\"], [1.0, \"#f0f921\"]], \"type\": \"histogram2d\"}], \"histogram2dcontour\": [{\"colorbar\": {\"outlinewidth\": 0, \"ticks\": \"\"}, \"colorscale\": [[0.0, \"#0d0887\"], [0.1111111111111111, \"#46039f\"], [0.2222222222222222, \"#7201a8\"], [0.3333333333333333, \"#9c179e\"], [0.4444444444444444, \"#bd3786\"], [0.5555555555555556, \"#d8576b\"], [0.6666666666666666, \"#ed7953\"], [0.7777777777777778, \"#fb9f3a\"], [0.8888888888888888, \"#fdca26\"], [1.0, \"#f0f921\"]], \"type\": \"histogram2dcontour\"}], \"mesh3d\": [{\"colorbar\": {\"outlinewidth\": 0, \"ticks\": \"\"}, \"type\": \"mesh3d\"}], \"parcoords\": [{\"line\": {\"colorbar\": {\"outlinewidth\": 0, \"ticks\": \"\"}}, \"type\": \"parcoords\"}], \"pie\": [{\"automargin\": true, \"type\": \"pie\"}], \"scatter\": [{\"marker\": {\"colorbar\": {\"outlinewidth\": 0, \"ticks\": \"\"}}, \"type\": \"scatter\"}], \"scatter3d\": [{\"line\": {\"colorbar\": {\"outlinewidth\": 0, \"ticks\": \"\"}}, \"marker\": {\"colorbar\": {\"outlinewidth\": 0, \"ticks\": \"\"}}, \"type\": \"scatter3d\"}], \"scattercarpet\": [{\"marker\": {\"colorbar\": {\"outlinewidth\": 0, \"ticks\": \"\"}}, \"type\": \"scattercarpet\"}], \"scattergeo\": [{\"marker\": {\"colorbar\": {\"outlinewidth\": 0, \"ticks\": \"\"}}, \"type\": \"scattergeo\"}], \"scattergl\": [{\"marker\": {\"colorbar\": {\"outlinewidth\": 0, \"ticks\": \"\"}}, \"type\": \"scattergl\"}], \"scattermapbox\": [{\"marker\": {\"colorbar\": {\"outlinewidth\": 0, \"ticks\": \"\"}}, \"type\": \"scattermapbox\"}], \"scatterpolar\": [{\"marker\": {\"colorbar\": {\"outlinewidth\": 0, \"ticks\": \"\"}}, \"type\": \"scatterpolar\"}], \"scatterpolargl\": [{\"marker\": {\"colorbar\": {\"outlinewidth\": 0, \"ticks\": \"\"}}, \"type\": \"scatterpolargl\"}], \"scatterternary\": [{\"marker\": {\"colorbar\": {\"outlinewidth\": 0, \"ticks\": \"\"}}, \"type\": \"scatterternary\"}], \"surface\": [{\"colorbar\": {\"outlinewidth\": 0, \"ticks\": \"\"}, \"colorscale\": [[0.0, \"#0d0887\"], [0.1111111111111111, \"#46039f\"], [0.2222222222222222, \"#7201a8\"], [0.3333333333333333, \"#9c179e\"], [0.4444444444444444, \"#bd3786\"], [0.5555555555555556, \"#d8576b\"], [0.6666666666666666, \"#ed7953\"], [0.7777777777777778, \"#fb9f3a\"], [0.8888888888888888, \"#fdca26\"], [1.0, \"#f0f921\"]], \"type\": \"surface\"}], \"table\": [{\"cells\": {\"fill\": {\"color\": \"#EBF0F8\"}, \"line\": {\"color\": \"white\"}}, \"header\": {\"fill\": {\"color\": \"#C8D4E3\"}, \"line\": {\"color\": \"white\"}}, \"type\": \"table\"}]}, \"layout\": {\"annotationdefaults\": {\"arrowcolor\": \"#2a3f5f\", \"arrowhead\": 0, \"arrowwidth\": 1}, \"autotypenumbers\": \"strict\", \"coloraxis\": {\"colorbar\": {\"outlinewidth\": 0, \"ticks\": \"\"}}, \"colorscale\": {\"diverging\": [[0, \"#8e0152\"], [0.1, \"#c51b7d\"], [0.2, \"#de77ae\"], [0.3, \"#f1b6da\"], [0.4, \"#fde0ef\"], [0.5, \"#f7f7f7\"], [0.6, \"#e6f5d0\"], [0.7, \"#b8e186\"], [0.8, \"#7fbc41\"], [0.9, \"#4d9221\"], [1, \"#276419\"]], \"sequential\": [[0.0, \"#0d0887\"], [0.1111111111111111, \"#46039f\"], [0.2222222222222222, \"#7201a8\"], [0.3333333333333333, \"#9c179e\"], [0.4444444444444444, \"#bd3786\"], [0.5555555555555556, \"#d8576b\"], [0.6666666666666666, \"#ed7953\"], [0.7777777777777778, \"#fb9f3a\"], [0.8888888888888888, \"#fdca26\"], [1.0, \"#f0f921\"]], \"sequentialminus\": [[0.0, \"#0d0887\"], [0.1111111111111111, \"#46039f\"], [0.2222222222222222, \"#7201a8\"], [0.3333333333333333, \"#9c179e\"], [0.4444444444444444, \"#bd3786\"], [0.5555555555555556, \"#d8576b\"], [0.6666666666666666, \"#ed7953\"], [0.7777777777777778, \"#fb9f3a\"], [0.8888888888888888, \"#fdca26\"], [1.0, \"#f0f921\"]]}, \"colorway\": [\"#636efa\", \"#EF553B\", \"#00cc96\", \"#ab63fa\", \"#FFA15A\", \"#19d3f3\", \"#FF6692\", \"#B6E880\", \"#FF97FF\", \"#FECB52\"], \"font\": {\"color\": \"#2a3f5f\"}, \"geo\": {\"bgcolor\": \"white\", \"lakecolor\": \"white\", \"landcolor\": \"#E5ECF6\", \"showlakes\": true, \"showland\": true, \"subunitcolor\": \"white\"}, \"hoverlabel\": {\"align\": \"left\"}, \"hovermode\": \"closest\", \"mapbox\": {\"style\": \"light\"}, \"paper_bgcolor\": \"white\", \"plot_bgcolor\": \"#E5ECF6\", \"polar\": {\"angularaxis\": {\"gridcolor\": \"white\", \"linecolor\": \"white\", \"ticks\": \"\"}, \"bgcolor\": \"#E5ECF6\", \"radialaxis\": {\"gridcolor\": \"white\", \"linecolor\": \"white\", \"ticks\": \"\"}}, \"scene\": {\"xaxis\": {\"backgroundcolor\": \"#E5ECF6\", \"gridcolor\": \"white\", \"gridwidth\": 2, \"linecolor\": \"white\", \"showbackground\": true, \"ticks\": \"\", \"zerolinecolor\": \"white\"}, \"yaxis\": {\"backgroundcolor\": \"#E5ECF6\", \"gridcolor\": \"white\", \"gridwidth\": 2, \"linecolor\": \"white\", \"showbackground\": true, \"ticks\": \"\", \"zerolinecolor\": \"white\"}, \"zaxis\": {\"backgroundcolor\": \"#E5ECF6\", \"gridcolor\": \"white\", \"gridwidth\": 2, \"linecolor\": \"white\", \"showbackground\": true, \"ticks\": \"\", \"zerolinecolor\": \"white\"}}, \"shapedefaults\": {\"line\": {\"color\": \"#2a3f5f\"}}, \"ternary\": {\"aaxis\": {\"gridcolor\": \"white\", \"linecolor\": \"white\", \"ticks\": \"\"}, \"baxis\": {\"gridcolor\": \"white\", \"linecolor\": \"white\", \"ticks\": \"\"}, \"bgcolor\": \"#E5ECF6\", \"caxis\": {\"gridcolor\": \"white\", \"linecolor\": \"white\", \"ticks\": \"\"}}, \"title\": {\"x\": 0.05}, \"xaxis\": {\"automargin\": true, \"gridcolor\": \"white\", \"linecolor\": \"white\", \"ticks\": \"\", \"title\": {\"standoff\": 15}, \"zerolinecolor\": \"white\", \"zerolinewidth\": 2}, \"yaxis\": {\"automargin\": true, \"gridcolor\": \"white\", \"linecolor\": \"white\", \"ticks\": \"\", \"title\": {\"standoff\": 15}, \"zerolinecolor\": \"white\", \"zerolinewidth\": 2}}}, \"title\": {\"font\": {\"color\": \"#4D5663\"}}, \"xaxis\": {\"gridcolor\": \"#E1E5ED\", \"showgrid\": true, \"tickfont\": {\"color\": \"#4D5663\"}, \"title\": {\"font\": {\"color\": \"#4D5663\"}, \"text\": \"\"}, \"zerolinecolor\": \"#E1E5ED\"}, \"xaxis2\": {\"anchor\": \"y2\", \"gridcolor\": \"#E1E5ED\", \"showgrid\": true, \"showticklabels\": false, \"tickfont\": {\"color\": \"#4D5663\"}, \"title\": {\"font\": {\"color\": \"#4D5663\"}, \"text\": \"\"}, \"zerolinecolor\": \"#E1E5ED\"}, \"yaxis\": {\"domain\": [0.3, 1], \"gridcolor\": \"#E1E5ED\", \"showgrid\": true, \"tickfont\": {\"color\": \"#4D5663\"}, \"title\": {\"font\": {\"color\": \"#4D5663\"}, \"text\": \"\"}, \"zerolinecolor\": \"#E1E5ED\"}, \"yaxis2\": {\"domain\": [0, 0.25], \"gridcolor\": \"#E1E5ED\", \"showgrid\": true, \"tickfont\": {\"color\": \"#4D5663\"}, \"title\": {\"font\": {\"color\": \"#4D5663\"}, \"text\": \"Spread\"}, \"zerolinecolor\": \"#E1E5ED\"}},                        {\"showLink\": true, \"linkText\": \"Export to plot.ly\", \"plotlyServerURL\": \"https://plot.ly\", \"responsive\": true}                    ).then(function(){\n",
       "                            \n",
       "var gd = document.getElementById('219f95a9-1e00-4671-b76b-322cff54715e');\n",
       "var x = new MutationObserver(function (mutations, observer) {{\n",
       "        var display = window.getComputedStyle(gd).display;\n",
       "        if (!display || display === 'none') {{\n",
       "            console.log([gd, 'removed!']);\n",
       "            Plotly.purge(gd);\n",
       "            observer.disconnect();\n",
       "        }}\n",
       "}});\n",
       "\n",
       "// Listen for the removal of the full notebook cells\n",
       "var notebookContainer = gd.closest('#notebook-container');\n",
       "if (notebookContainer) {{\n",
       "    x.observe(notebookContainer, {childList: true});\n",
       "}}\n",
       "\n",
       "// Listen for the clearing of the current output cell\n",
       "var outputEl = gd.closest('.output');\n",
       "if (outputEl) {{\n",
       "    x.observe(outputEl, {childList: true});\n",
       "}}\n",
       "\n",
       "                        })                };                });            </script>        </div>"
      ]
     },
     "metadata": {},
     "output_type": "display_data"
    }
   ],
   "source": [
    "df[['A','B']].iplot(kind='spread')"
   ]
  },
  {
   "cell_type": "code",
   "execution_count": 34,
   "metadata": {},
   "outputs": [
    {
     "data": {
      "application/vnd.plotly.v1+json": {
       "config": {
        "linkText": "Export to plot.ly",
        "plotlyServerURL": "https://plot.ly",
        "showLink": true
       },
       "data": [
        {
         "marker": {
          "color": [
           "rgb(255, 153, 51)",
           "rgb(55, 128, 191)",
           "rgb(50, 171, 96)",
           "rgb(128, 0, 128)",
           "rgb(219, 64, 82)",
           "rgb(0, 128, 128)",
           "rgb(255, 255, 51)",
           "rgb(128, 128, 0)",
           "rgb(251, 128, 114)",
           "rgb(128, 177, 211)"
          ],
          "line": {
           "width": 1.3
          },
          "size": [
           85,
           12,
           54,
           21,
           81,
           55,
           41,
           60,
           82,
           73,
           48,
           47,
           95,
           54,
           57,
           75,
           71,
           32,
           96,
           80,
           68,
           22,
           26,
           62,
           45,
           64,
           75,
           47,
           64,
           99,
           77,
           51,
           25,
           112,
           36,
           80,
           15,
           35,
           104,
           73,
           102,
           77,
           56,
           76,
           18,
           66,
           50,
           82,
           44,
           83,
           83,
           23,
           64,
           61,
           13,
           27,
           52,
           38,
           69,
           58,
           95,
           86,
           66,
           50,
           72,
           44,
           72,
           55,
           87,
           37,
           59,
           44,
           45,
           34,
           48,
           42,
           73,
           102,
           62,
           40,
           29,
           51,
           41,
           27,
           40,
           90,
           99,
           99,
           53,
           56,
           66,
           30,
           62,
           96,
           47,
           86,
           75,
           76,
           67,
           75
          ],
          "symbol": "circle"
         },
         "mode": "markers",
         "text": "",
         "type": "scatter",
         "x": [
          -0.5834753383517299,
          -0.17406211351662937,
          0.3060879792029995,
          -0.9534093278803556,
          0.3335305517157785,
          -0.97208229715675,
          0.773922882267899,
          1.4949271133171107,
          0.8367814978013194,
          0.08308209603773245,
          1.182761740458536,
          0.49774685820127185,
          0.14198467055805747,
          -1.1355453476946098,
          1.011619431731822,
          -0.6353426447605321,
          -0.5424144198586475,
          -1.5756694152563402,
          1.2337366847436115,
          0.11368435771078347,
          -1.8603332979892468,
          -0.37908290090239266,
          -2.3952188064783204,
          0.8877427257916617,
          -0.7115630132230167,
          -1.9603833676408622,
          -0.28727568692696054,
          -1.1266536274403456,
          1.1008068413241312,
          0.9886964497727425,
          -0.5102809461243386,
          -0.26700043460695194,
          0.9015877446659447,
          -0.21081646226019637,
          2.7208289305974653,
          0.1416432945420239,
          0.04999158259603204,
          -0.5592081595503431,
          0.45281455512608043,
          -0.47627645727787193,
          1.207059439612465,
          0.4777022075082107,
          -1.026931705617259,
          -0.09326720728713248,
          -2.4491799906079867,
          -0.9669689841078734,
          0.39843192202660516,
          -1.601682430692205,
          -0.09730257947951387,
          0.705339489766667,
          -0.6885982039996992,
          0.6473742218943702,
          1.0899943898808402,
          -0.3672553912402756,
          0.3987603976761634,
          -0.19251739749906915,
          -0.6650279548408881,
          0.1609926421761508,
          0.5130893323136226,
          0.40379560486445404,
          1.5089011416060847,
          0.9171065596968837,
          -0.8461891366811787,
          1.0164246921459297,
          0.6682311222058028,
          -0.11500234092630772,
          1.5242086731479125,
          1.1030176443205182,
          -0.18787103995561596,
          -1.3538512726051395,
          0.8253066278166783,
          -0.3119693363687069,
          0.21814712315537818,
          -0.0735611122243912,
          -0.028292622673684212,
          -1.1577550791690683,
          1.3129945490002852,
          0.4300996259364016,
          -1.2300531873215208,
          0.2321272415931786,
          0.37983972009769645,
          -0.48843454037353673,
          -0.44977945445042544,
          1.6926048669377491,
          1.5476340525379164,
          0.9038064089580464,
          0.34345404520601236,
          -0.3738001536190124,
          1.0211207868093704,
          0.9146321683636861,
          -0.518458729915045,
          -1.2156051542720545,
          0.6405558740080012,
          -1.5203730953554544,
          0.23280630549747244,
          -1.2106399353868293,
          0.2511404517840312,
          1.66809342037484,
          -0.3742517195980744,
          -1.2245820489080763
         ],
         "y": [
          -1.3758072804282802,
          -2.0166423275795045,
          -0.1338910600221726,
          -0.5820663677732987,
          0.9712282596893289,
          0.04856414782439493,
          -1.6446518762072733,
          -0.9421467336068651,
          0.21954059186296845,
          0.36807439477449627,
          -0.3654460240432651,
          -0.8881757488822261,
          1.1359574308252038,
          1.784248095321167,
          -2.230174327763357,
          -0.9096345705300771,
          0.058131826476081325,
          0.49564915635896856,
          0.9955580219566825,
          0.9416554478215717,
          0.501777796879372,
          0.5832116202465111,
          0.07587249397032425,
          -1.3196824810937708,
          0.4830791708975699,
          -1.374253540092365,
          -0.5760286311195967,
          0.7116952836336254,
          -0.3114529511132174,
          -0.4000450842140983,
          0.04992534906556205,
          1.954807728032101,
          0.13171389071864884,
          -0.033496919366209084,
          -0.49088708243273443,
          -0.32917951662922473,
          -0.6357922655639845,
          0.01910882388183459,
          0.6605981182143601,
          0.2871073718275956,
          -0.7967523017727124,
          1.2749217387718361,
          -1.0184090272611115,
          -0.30776517663371084,
          -1.3835687056089345,
          -0.9589418851101955,
          0.8388110623238367,
          -0.8262275451330596,
          -1.8834577989862957,
          0.5672824330131843,
          1.5196434832141326,
          -0.9864345081943736,
          -0.09831683886884271,
          -0.4837052077847503,
          1.2148627172318998,
          -0.8692477403189863,
          -2.145542147953029,
          -1.026863204622045,
          0.5759905082069539,
          -0.08525962897285295,
          0.1994816415925022,
          0.29053581455171307,
          1.6111189999118847,
          -0.8918623381139243,
          0.757880123902853,
          -0.9228502119583749,
          0.2614246572476863,
          -1.4678941893578006,
          -1.7208349749814054,
          -1.188026523351157,
          -1.3120013569153754,
          -0.26774879333661716,
          -0.8918948740304229,
          -1.8768343945216002,
          0.5804338332708612,
          -0.506169023116886,
          -0.25771991196350186,
          -1.891780200402067,
          -0.90439014692466,
          -0.6309894908570972,
          -2.07726520770258,
          0.44560260665169893,
          0.36344301847922245,
          -0.9338476374001575,
          -0.7805318229279821,
          -1.4284991217257477,
          -1.5086579661524255,
          -0.01569096789541602,
          -2.1206884425801995,
          -1.971641489490636,
          -0.16318933968466018,
          0.26430296290179456,
          -0.9783848110025019,
          -0.8944221474552131,
          0.4463550575217183,
          0.9586322265346929,
          -0.5716261211754448,
          0.9428186601187796,
          -1.6636587907084162,
          -0.14151351627318537
         ]
        }
       ],
       "layout": {
        "legend": {
         "bgcolor": "#F5F6F9",
         "font": {
          "color": "#4D5663"
         }
        },
        "paper_bgcolor": "#F5F6F9",
        "plot_bgcolor": "#F5F6F9",
        "template": {
         "data": {
          "bar": [
           {
            "error_x": {
             "color": "#2a3f5f"
            },
            "error_y": {
             "color": "#2a3f5f"
            },
            "marker": {
             "line": {
              "color": "#E5ECF6",
              "width": 0.5
             }
            },
            "type": "bar"
           }
          ],
          "barpolar": [
           {
            "marker": {
             "line": {
              "color": "#E5ECF6",
              "width": 0.5
             }
            },
            "type": "barpolar"
           }
          ],
          "carpet": [
           {
            "aaxis": {
             "endlinecolor": "#2a3f5f",
             "gridcolor": "white",
             "linecolor": "white",
             "minorgridcolor": "white",
             "startlinecolor": "#2a3f5f"
            },
            "baxis": {
             "endlinecolor": "#2a3f5f",
             "gridcolor": "white",
             "linecolor": "white",
             "minorgridcolor": "white",
             "startlinecolor": "#2a3f5f"
            },
            "type": "carpet"
           }
          ],
          "choropleth": [
           {
            "colorbar": {
             "outlinewidth": 0,
             "ticks": ""
            },
            "type": "choropleth"
           }
          ],
          "contour": [
           {
            "colorbar": {
             "outlinewidth": 0,
             "ticks": ""
            },
            "colorscale": [
             [
              0,
              "#0d0887"
             ],
             [
              0.1111111111111111,
              "#46039f"
             ],
             [
              0.2222222222222222,
              "#7201a8"
             ],
             [
              0.3333333333333333,
              "#9c179e"
             ],
             [
              0.4444444444444444,
              "#bd3786"
             ],
             [
              0.5555555555555556,
              "#d8576b"
             ],
             [
              0.6666666666666666,
              "#ed7953"
             ],
             [
              0.7777777777777778,
              "#fb9f3a"
             ],
             [
              0.8888888888888888,
              "#fdca26"
             ],
             [
              1,
              "#f0f921"
             ]
            ],
            "type": "contour"
           }
          ],
          "contourcarpet": [
           {
            "colorbar": {
             "outlinewidth": 0,
             "ticks": ""
            },
            "type": "contourcarpet"
           }
          ],
          "heatmap": [
           {
            "colorbar": {
             "outlinewidth": 0,
             "ticks": ""
            },
            "colorscale": [
             [
              0,
              "#0d0887"
             ],
             [
              0.1111111111111111,
              "#46039f"
             ],
             [
              0.2222222222222222,
              "#7201a8"
             ],
             [
              0.3333333333333333,
              "#9c179e"
             ],
             [
              0.4444444444444444,
              "#bd3786"
             ],
             [
              0.5555555555555556,
              "#d8576b"
             ],
             [
              0.6666666666666666,
              "#ed7953"
             ],
             [
              0.7777777777777778,
              "#fb9f3a"
             ],
             [
              0.8888888888888888,
              "#fdca26"
             ],
             [
              1,
              "#f0f921"
             ]
            ],
            "type": "heatmap"
           }
          ],
          "heatmapgl": [
           {
            "colorbar": {
             "outlinewidth": 0,
             "ticks": ""
            },
            "colorscale": [
             [
              0,
              "#0d0887"
             ],
             [
              0.1111111111111111,
              "#46039f"
             ],
             [
              0.2222222222222222,
              "#7201a8"
             ],
             [
              0.3333333333333333,
              "#9c179e"
             ],
             [
              0.4444444444444444,
              "#bd3786"
             ],
             [
              0.5555555555555556,
              "#d8576b"
             ],
             [
              0.6666666666666666,
              "#ed7953"
             ],
             [
              0.7777777777777778,
              "#fb9f3a"
             ],
             [
              0.8888888888888888,
              "#fdca26"
             ],
             [
              1,
              "#f0f921"
             ]
            ],
            "type": "heatmapgl"
           }
          ],
          "histogram": [
           {
            "marker": {
             "colorbar": {
              "outlinewidth": 0,
              "ticks": ""
             }
            },
            "type": "histogram"
           }
          ],
          "histogram2d": [
           {
            "colorbar": {
             "outlinewidth": 0,
             "ticks": ""
            },
            "colorscale": [
             [
              0,
              "#0d0887"
             ],
             [
              0.1111111111111111,
              "#46039f"
             ],
             [
              0.2222222222222222,
              "#7201a8"
             ],
             [
              0.3333333333333333,
              "#9c179e"
             ],
             [
              0.4444444444444444,
              "#bd3786"
             ],
             [
              0.5555555555555556,
              "#d8576b"
             ],
             [
              0.6666666666666666,
              "#ed7953"
             ],
             [
              0.7777777777777778,
              "#fb9f3a"
             ],
             [
              0.8888888888888888,
              "#fdca26"
             ],
             [
              1,
              "#f0f921"
             ]
            ],
            "type": "histogram2d"
           }
          ],
          "histogram2dcontour": [
           {
            "colorbar": {
             "outlinewidth": 0,
             "ticks": ""
            },
            "colorscale": [
             [
              0,
              "#0d0887"
             ],
             [
              0.1111111111111111,
              "#46039f"
             ],
             [
              0.2222222222222222,
              "#7201a8"
             ],
             [
              0.3333333333333333,
              "#9c179e"
             ],
             [
              0.4444444444444444,
              "#bd3786"
             ],
             [
              0.5555555555555556,
              "#d8576b"
             ],
             [
              0.6666666666666666,
              "#ed7953"
             ],
             [
              0.7777777777777778,
              "#fb9f3a"
             ],
             [
              0.8888888888888888,
              "#fdca26"
             ],
             [
              1,
              "#f0f921"
             ]
            ],
            "type": "histogram2dcontour"
           }
          ],
          "mesh3d": [
           {
            "colorbar": {
             "outlinewidth": 0,
             "ticks": ""
            },
            "type": "mesh3d"
           }
          ],
          "parcoords": [
           {
            "line": {
             "colorbar": {
              "outlinewidth": 0,
              "ticks": ""
             }
            },
            "type": "parcoords"
           }
          ],
          "pie": [
           {
            "automargin": true,
            "type": "pie"
           }
          ],
          "scatter": [
           {
            "marker": {
             "colorbar": {
              "outlinewidth": 0,
              "ticks": ""
             }
            },
            "type": "scatter"
           }
          ],
          "scatter3d": [
           {
            "line": {
             "colorbar": {
              "outlinewidth": 0,
              "ticks": ""
             }
            },
            "marker": {
             "colorbar": {
              "outlinewidth": 0,
              "ticks": ""
             }
            },
            "type": "scatter3d"
           }
          ],
          "scattercarpet": [
           {
            "marker": {
             "colorbar": {
              "outlinewidth": 0,
              "ticks": ""
             }
            },
            "type": "scattercarpet"
           }
          ],
          "scattergeo": [
           {
            "marker": {
             "colorbar": {
              "outlinewidth": 0,
              "ticks": ""
             }
            },
            "type": "scattergeo"
           }
          ],
          "scattergl": [
           {
            "marker": {
             "colorbar": {
              "outlinewidth": 0,
              "ticks": ""
             }
            },
            "type": "scattergl"
           }
          ],
          "scattermapbox": [
           {
            "marker": {
             "colorbar": {
              "outlinewidth": 0,
              "ticks": ""
             }
            },
            "type": "scattermapbox"
           }
          ],
          "scatterpolar": [
           {
            "marker": {
             "colorbar": {
              "outlinewidth": 0,
              "ticks": ""
             }
            },
            "type": "scatterpolar"
           }
          ],
          "scatterpolargl": [
           {
            "marker": {
             "colorbar": {
              "outlinewidth": 0,
              "ticks": ""
             }
            },
            "type": "scatterpolargl"
           }
          ],
          "scatterternary": [
           {
            "marker": {
             "colorbar": {
              "outlinewidth": 0,
              "ticks": ""
             }
            },
            "type": "scatterternary"
           }
          ],
          "surface": [
           {
            "colorbar": {
             "outlinewidth": 0,
             "ticks": ""
            },
            "colorscale": [
             [
              0,
              "#0d0887"
             ],
             [
              0.1111111111111111,
              "#46039f"
             ],
             [
              0.2222222222222222,
              "#7201a8"
             ],
             [
              0.3333333333333333,
              "#9c179e"
             ],
             [
              0.4444444444444444,
              "#bd3786"
             ],
             [
              0.5555555555555556,
              "#d8576b"
             ],
             [
              0.6666666666666666,
              "#ed7953"
             ],
             [
              0.7777777777777778,
              "#fb9f3a"
             ],
             [
              0.8888888888888888,
              "#fdca26"
             ],
             [
              1,
              "#f0f921"
             ]
            ],
            "type": "surface"
           }
          ],
          "table": [
           {
            "cells": {
             "fill": {
              "color": "#EBF0F8"
             },
             "line": {
              "color": "white"
             }
            },
            "header": {
             "fill": {
              "color": "#C8D4E3"
             },
             "line": {
              "color": "white"
             }
            },
            "type": "table"
           }
          ]
         },
         "layout": {
          "annotationdefaults": {
           "arrowcolor": "#2a3f5f",
           "arrowhead": 0,
           "arrowwidth": 1
          },
          "autotypenumbers": "strict",
          "coloraxis": {
           "colorbar": {
            "outlinewidth": 0,
            "ticks": ""
           }
          },
          "colorscale": {
           "diverging": [
            [
             0,
             "#8e0152"
            ],
            [
             0.1,
             "#c51b7d"
            ],
            [
             0.2,
             "#de77ae"
            ],
            [
             0.3,
             "#f1b6da"
            ],
            [
             0.4,
             "#fde0ef"
            ],
            [
             0.5,
             "#f7f7f7"
            ],
            [
             0.6,
             "#e6f5d0"
            ],
            [
             0.7,
             "#b8e186"
            ],
            [
             0.8,
             "#7fbc41"
            ],
            [
             0.9,
             "#4d9221"
            ],
            [
             1,
             "#276419"
            ]
           ],
           "sequential": [
            [
             0,
             "#0d0887"
            ],
            [
             0.1111111111111111,
             "#46039f"
            ],
            [
             0.2222222222222222,
             "#7201a8"
            ],
            [
             0.3333333333333333,
             "#9c179e"
            ],
            [
             0.4444444444444444,
             "#bd3786"
            ],
            [
             0.5555555555555556,
             "#d8576b"
            ],
            [
             0.6666666666666666,
             "#ed7953"
            ],
            [
             0.7777777777777778,
             "#fb9f3a"
            ],
            [
             0.8888888888888888,
             "#fdca26"
            ],
            [
             1,
             "#f0f921"
            ]
           ],
           "sequentialminus": [
            [
             0,
             "#0d0887"
            ],
            [
             0.1111111111111111,
             "#46039f"
            ],
            [
             0.2222222222222222,
             "#7201a8"
            ],
            [
             0.3333333333333333,
             "#9c179e"
            ],
            [
             0.4444444444444444,
             "#bd3786"
            ],
            [
             0.5555555555555556,
             "#d8576b"
            ],
            [
             0.6666666666666666,
             "#ed7953"
            ],
            [
             0.7777777777777778,
             "#fb9f3a"
            ],
            [
             0.8888888888888888,
             "#fdca26"
            ],
            [
             1,
             "#f0f921"
            ]
           ]
          },
          "colorway": [
           "#636efa",
           "#EF553B",
           "#00cc96",
           "#ab63fa",
           "#FFA15A",
           "#19d3f3",
           "#FF6692",
           "#B6E880",
           "#FF97FF",
           "#FECB52"
          ],
          "font": {
           "color": "#2a3f5f"
          },
          "geo": {
           "bgcolor": "white",
           "lakecolor": "white",
           "landcolor": "#E5ECF6",
           "showlakes": true,
           "showland": true,
           "subunitcolor": "white"
          },
          "hoverlabel": {
           "align": "left"
          },
          "hovermode": "closest",
          "mapbox": {
           "style": "light"
          },
          "paper_bgcolor": "white",
          "plot_bgcolor": "#E5ECF6",
          "polar": {
           "angularaxis": {
            "gridcolor": "white",
            "linecolor": "white",
            "ticks": ""
           },
           "bgcolor": "#E5ECF6",
           "radialaxis": {
            "gridcolor": "white",
            "linecolor": "white",
            "ticks": ""
           }
          },
          "scene": {
           "xaxis": {
            "backgroundcolor": "#E5ECF6",
            "gridcolor": "white",
            "gridwidth": 2,
            "linecolor": "white",
            "showbackground": true,
            "ticks": "",
            "zerolinecolor": "white"
           },
           "yaxis": {
            "backgroundcolor": "#E5ECF6",
            "gridcolor": "white",
            "gridwidth": 2,
            "linecolor": "white",
            "showbackground": true,
            "ticks": "",
            "zerolinecolor": "white"
           },
           "zaxis": {
            "backgroundcolor": "#E5ECF6",
            "gridcolor": "white",
            "gridwidth": 2,
            "linecolor": "white",
            "showbackground": true,
            "ticks": "",
            "zerolinecolor": "white"
           }
          },
          "shapedefaults": {
           "line": {
            "color": "#2a3f5f"
           }
          },
          "ternary": {
           "aaxis": {
            "gridcolor": "white",
            "linecolor": "white",
            "ticks": ""
           },
           "baxis": {
            "gridcolor": "white",
            "linecolor": "white",
            "ticks": ""
           },
           "bgcolor": "#E5ECF6",
           "caxis": {
            "gridcolor": "white",
            "linecolor": "white",
            "ticks": ""
           }
          },
          "title": {
           "x": 0.05
          },
          "xaxis": {
           "automargin": true,
           "gridcolor": "white",
           "linecolor": "white",
           "ticks": "",
           "title": {
            "standoff": 15
           },
           "zerolinecolor": "white",
           "zerolinewidth": 2
          },
          "yaxis": {
           "automargin": true,
           "gridcolor": "white",
           "linecolor": "white",
           "ticks": "",
           "title": {
            "standoff": 15
           },
           "zerolinecolor": "white",
           "zerolinewidth": 2
          }
         }
        },
        "title": {
         "font": {
          "color": "#4D5663"
         }
        },
        "xaxis": {
         "gridcolor": "#E1E5ED",
         "showgrid": true,
         "tickfont": {
          "color": "#4D5663"
         },
         "title": {
          "font": {
           "color": "#4D5663"
          },
          "text": ""
         },
         "zerolinecolor": "#E1E5ED"
        },
        "yaxis": {
         "gridcolor": "#E1E5ED",
         "showgrid": true,
         "tickfont": {
          "color": "#4D5663"
         },
         "title": {
          "font": {
           "color": "#4D5663"
          },
          "text": ""
         },
         "zerolinecolor": "#E1E5ED"
        }
       }
      },
      "text/html": [
       "<div>                            <div id=\"8d7972cb-f544-4568-a612-48f711869747\" class=\"plotly-graph-div\" style=\"height:525px; width:100%;\"></div>            <script type=\"text/javascript\">                require([\"plotly\"], function(Plotly) {                    window.PLOTLYENV=window.PLOTLYENV || {};\n",
       "                    window.PLOTLYENV.BASE_URL='https://plot.ly';                                    if (document.getElementById(\"8d7972cb-f544-4568-a612-48f711869747\")) {                    Plotly.newPlot(                        \"8d7972cb-f544-4568-a612-48f711869747\",                        [{\"marker\": {\"color\": [\"rgb(255, 153, 51)\", \"rgb(55, 128, 191)\", \"rgb(50, 171, 96)\", \"rgb(128, 0, 128)\", \"rgb(219, 64, 82)\", \"rgb(0, 128, 128)\", \"rgb(255, 255, 51)\", \"rgb(128, 128, 0)\", \"rgb(251, 128, 114)\", \"rgb(128, 177, 211)\"], \"line\": {\"width\": 1.3}, \"size\": [85, 12, 54, 21, 81, 55, 41, 60, 82, 73, 48, 47, 95, 54, 57, 75, 71, 32, 96, 80, 68, 22, 26, 62, 45, 64, 75, 47, 64, 99, 77, 51, 25, 112, 36, 80, 15, 35, 104, 73, 102, 77, 56, 76, 18, 66, 50, 82, 44, 83, 83, 23, 64, 61, 13, 27, 52, 38, 69, 58, 95, 86, 66, 50, 72, 44, 72, 55, 87, 37, 59, 44, 45, 34, 48, 42, 73, 102, 62, 40, 29, 51, 41, 27, 40, 90, 99, 99, 53, 56, 66, 30, 62, 96, 47, 86, 75, 76, 67, 75], \"symbol\": \"circle\"}, \"mode\": \"markers\", \"text\": \"\", \"type\": \"scatter\", \"x\": [-0.5834753383517299, -0.17406211351662937, 0.3060879792029995, -0.9534093278803556, 0.3335305517157785, -0.97208229715675, 0.773922882267899, 1.4949271133171107, 0.8367814978013194, 0.08308209603773245, 1.182761740458536, 0.49774685820127185, 0.14198467055805747, -1.1355453476946098, 1.011619431731822, -0.6353426447605321, -0.5424144198586475, -1.5756694152563402, 1.2337366847436115, 0.11368435771078347, -1.8603332979892468, -0.37908290090239266, -2.3952188064783204, 0.8877427257916617, -0.7115630132230167, -1.9603833676408622, -0.28727568692696054, -1.1266536274403456, 1.1008068413241312, 0.9886964497727425, -0.5102809461243386, -0.26700043460695194, 0.9015877446659447, -0.21081646226019637, 2.7208289305974653, 0.1416432945420239, 0.04999158259603204, -0.5592081595503431, 0.45281455512608043, -0.47627645727787193, 1.207059439612465, 0.4777022075082107, -1.026931705617259, -0.09326720728713248, -2.4491799906079867, -0.9669689841078734, 0.39843192202660516, -1.601682430692205, -0.09730257947951387, 0.705339489766667, -0.6885982039996992, 0.6473742218943702, 1.0899943898808402, -0.3672553912402756, 0.3987603976761634, -0.19251739749906915, -0.6650279548408881, 0.1609926421761508, 0.5130893323136226, 0.40379560486445404, 1.5089011416060847, 0.9171065596968837, -0.8461891366811787, 1.0164246921459297, 0.6682311222058028, -0.11500234092630772, 1.5242086731479125, 1.1030176443205182, -0.18787103995561596, -1.3538512726051395, 0.8253066278166783, -0.3119693363687069, 0.21814712315537818, -0.0735611122243912, -0.028292622673684212, -1.1577550791690683, 1.3129945490002852, 0.4300996259364016, -1.2300531873215208, 0.2321272415931786, 0.37983972009769645, -0.48843454037353673, -0.44977945445042544, 1.6926048669377491, 1.5476340525379164, 0.9038064089580464, 0.34345404520601236, -0.3738001536190124, 1.0211207868093704, 0.9146321683636861, -0.518458729915045, -1.2156051542720545, 0.6405558740080012, -1.5203730953554544, 0.23280630549747244, -1.2106399353868293, 0.2511404517840312, 1.66809342037484, -0.3742517195980744, -1.2245820489080763], \"y\": [-1.3758072804282802, -2.0166423275795045, -0.1338910600221726, -0.5820663677732987, 0.9712282596893289, 0.04856414782439493, -1.6446518762072733, -0.9421467336068651, 0.21954059186296845, 0.36807439477449627, -0.3654460240432651, -0.8881757488822261, 1.1359574308252038, 1.784248095321167, -2.230174327763357, -0.9096345705300771, 0.058131826476081325, 0.49564915635896856, 0.9955580219566825, 0.9416554478215717, 0.501777796879372, 0.5832116202465111, 0.07587249397032425, -1.3196824810937708, 0.4830791708975699, -1.374253540092365, -0.5760286311195967, 0.7116952836336254, -0.3114529511132174, -0.4000450842140983, 0.04992534906556205, 1.954807728032101, 0.13171389071864884, -0.033496919366209084, -0.49088708243273443, -0.32917951662922473, -0.6357922655639845, 0.01910882388183459, 0.6605981182143601, 0.2871073718275956, -0.7967523017727124, 1.2749217387718361, -1.0184090272611115, -0.30776517663371084, -1.3835687056089345, -0.9589418851101955, 0.8388110623238367, -0.8262275451330596, -1.8834577989862957, 0.5672824330131843, 1.5196434832141326, -0.9864345081943736, -0.09831683886884271, -0.4837052077847503, 1.2148627172318998, -0.8692477403189863, -2.145542147953029, -1.026863204622045, 0.5759905082069539, -0.08525962897285295, 0.1994816415925022, 0.29053581455171307, 1.6111189999118847, -0.8918623381139243, 0.757880123902853, -0.9228502119583749, 0.2614246572476863, -1.4678941893578006, -1.7208349749814054, -1.188026523351157, -1.3120013569153754, -0.26774879333661716, -0.8918948740304229, -1.8768343945216002, 0.5804338332708612, -0.506169023116886, -0.25771991196350186, -1.891780200402067, -0.90439014692466, -0.6309894908570972, -2.07726520770258, 0.44560260665169893, 0.36344301847922245, -0.9338476374001575, -0.7805318229279821, -1.4284991217257477, -1.5086579661524255, -0.01569096789541602, -2.1206884425801995, -1.971641489490636, -0.16318933968466018, 0.26430296290179456, -0.9783848110025019, -0.8944221474552131, 0.4463550575217183, 0.9586322265346929, -0.5716261211754448, 0.9428186601187796, -1.6636587907084162, -0.14151351627318537]}],                        {\"legend\": {\"bgcolor\": \"#F5F6F9\", \"font\": {\"color\": \"#4D5663\"}}, \"paper_bgcolor\": \"#F5F6F9\", \"plot_bgcolor\": \"#F5F6F9\", \"template\": {\"data\": {\"bar\": [{\"error_x\": {\"color\": \"#2a3f5f\"}, \"error_y\": {\"color\": \"#2a3f5f\"}, \"marker\": {\"line\": {\"color\": \"#E5ECF6\", \"width\": 0.5}}, \"type\": \"bar\"}], \"barpolar\": [{\"marker\": {\"line\": {\"color\": \"#E5ECF6\", \"width\": 0.5}}, \"type\": \"barpolar\"}], \"carpet\": [{\"aaxis\": {\"endlinecolor\": \"#2a3f5f\", \"gridcolor\": \"white\", \"linecolor\": \"white\", \"minorgridcolor\": \"white\", \"startlinecolor\": \"#2a3f5f\"}, \"baxis\": {\"endlinecolor\": \"#2a3f5f\", \"gridcolor\": \"white\", \"linecolor\": \"white\", \"minorgridcolor\": \"white\", \"startlinecolor\": \"#2a3f5f\"}, \"type\": \"carpet\"}], \"choropleth\": [{\"colorbar\": {\"outlinewidth\": 0, \"ticks\": \"\"}, \"type\": \"choropleth\"}], \"contour\": [{\"colorbar\": {\"outlinewidth\": 0, \"ticks\": \"\"}, \"colorscale\": [[0.0, \"#0d0887\"], [0.1111111111111111, \"#46039f\"], [0.2222222222222222, \"#7201a8\"], [0.3333333333333333, \"#9c179e\"], [0.4444444444444444, \"#bd3786\"], [0.5555555555555556, \"#d8576b\"], [0.6666666666666666, \"#ed7953\"], [0.7777777777777778, \"#fb9f3a\"], [0.8888888888888888, \"#fdca26\"], [1.0, \"#f0f921\"]], \"type\": \"contour\"}], \"contourcarpet\": [{\"colorbar\": {\"outlinewidth\": 0, \"ticks\": \"\"}, \"type\": \"contourcarpet\"}], \"heatmap\": [{\"colorbar\": {\"outlinewidth\": 0, \"ticks\": \"\"}, \"colorscale\": [[0.0, \"#0d0887\"], [0.1111111111111111, \"#46039f\"], [0.2222222222222222, \"#7201a8\"], [0.3333333333333333, \"#9c179e\"], [0.4444444444444444, \"#bd3786\"], [0.5555555555555556, \"#d8576b\"], [0.6666666666666666, \"#ed7953\"], [0.7777777777777778, \"#fb9f3a\"], [0.8888888888888888, \"#fdca26\"], [1.0, \"#f0f921\"]], \"type\": \"heatmap\"}], \"heatmapgl\": [{\"colorbar\": {\"outlinewidth\": 0, \"ticks\": \"\"}, \"colorscale\": [[0.0, \"#0d0887\"], [0.1111111111111111, \"#46039f\"], [0.2222222222222222, \"#7201a8\"], [0.3333333333333333, \"#9c179e\"], [0.4444444444444444, \"#bd3786\"], [0.5555555555555556, \"#d8576b\"], [0.6666666666666666, \"#ed7953\"], [0.7777777777777778, \"#fb9f3a\"], [0.8888888888888888, \"#fdca26\"], [1.0, \"#f0f921\"]], \"type\": \"heatmapgl\"}], \"histogram\": [{\"marker\": {\"colorbar\": {\"outlinewidth\": 0, \"ticks\": \"\"}}, \"type\": \"histogram\"}], \"histogram2d\": [{\"colorbar\": {\"outlinewidth\": 0, \"ticks\": \"\"}, \"colorscale\": [[0.0, \"#0d0887\"], [0.1111111111111111, \"#46039f\"], [0.2222222222222222, \"#7201a8\"], [0.3333333333333333, \"#9c179e\"], [0.4444444444444444, \"#bd3786\"], [0.5555555555555556, \"#d8576b\"], [0.6666666666666666, \"#ed7953\"], [0.7777777777777778, \"#fb9f3a\"], [0.8888888888888888, \"#fdca26\"], [1.0, \"#f0f921\"]], \"type\": \"histogram2d\"}], \"histogram2dcontour\": [{\"colorbar\": {\"outlinewidth\": 0, \"ticks\": \"\"}, \"colorscale\": [[0.0, \"#0d0887\"], [0.1111111111111111, \"#46039f\"], [0.2222222222222222, \"#7201a8\"], [0.3333333333333333, \"#9c179e\"], [0.4444444444444444, \"#bd3786\"], [0.5555555555555556, \"#d8576b\"], [0.6666666666666666, \"#ed7953\"], [0.7777777777777778, \"#fb9f3a\"], [0.8888888888888888, \"#fdca26\"], [1.0, \"#f0f921\"]], \"type\": \"histogram2dcontour\"}], \"mesh3d\": [{\"colorbar\": {\"outlinewidth\": 0, \"ticks\": \"\"}, \"type\": \"mesh3d\"}], \"parcoords\": [{\"line\": {\"colorbar\": {\"outlinewidth\": 0, \"ticks\": \"\"}}, \"type\": \"parcoords\"}], \"pie\": [{\"automargin\": true, \"type\": \"pie\"}], \"scatter\": [{\"marker\": {\"colorbar\": {\"outlinewidth\": 0, \"ticks\": \"\"}}, \"type\": \"scatter\"}], \"scatter3d\": [{\"line\": {\"colorbar\": {\"outlinewidth\": 0, \"ticks\": \"\"}}, \"marker\": {\"colorbar\": {\"outlinewidth\": 0, \"ticks\": \"\"}}, \"type\": \"scatter3d\"}], \"scattercarpet\": [{\"marker\": {\"colorbar\": {\"outlinewidth\": 0, \"ticks\": \"\"}}, \"type\": \"scattercarpet\"}], \"scattergeo\": [{\"marker\": {\"colorbar\": {\"outlinewidth\": 0, \"ticks\": \"\"}}, \"type\": \"scattergeo\"}], \"scattergl\": [{\"marker\": {\"colorbar\": {\"outlinewidth\": 0, \"ticks\": \"\"}}, \"type\": \"scattergl\"}], \"scattermapbox\": [{\"marker\": {\"colorbar\": {\"outlinewidth\": 0, \"ticks\": \"\"}}, \"type\": \"scattermapbox\"}], \"scatterpolar\": [{\"marker\": {\"colorbar\": {\"outlinewidth\": 0, \"ticks\": \"\"}}, \"type\": \"scatterpolar\"}], \"scatterpolargl\": [{\"marker\": {\"colorbar\": {\"outlinewidth\": 0, \"ticks\": \"\"}}, \"type\": \"scatterpolargl\"}], \"scatterternary\": [{\"marker\": {\"colorbar\": {\"outlinewidth\": 0, \"ticks\": \"\"}}, \"type\": \"scatterternary\"}], \"surface\": [{\"colorbar\": {\"outlinewidth\": 0, \"ticks\": \"\"}, \"colorscale\": [[0.0, \"#0d0887\"], [0.1111111111111111, \"#46039f\"], [0.2222222222222222, \"#7201a8\"], [0.3333333333333333, \"#9c179e\"], [0.4444444444444444, \"#bd3786\"], [0.5555555555555556, \"#d8576b\"], [0.6666666666666666, \"#ed7953\"], [0.7777777777777778, \"#fb9f3a\"], [0.8888888888888888, \"#fdca26\"], [1.0, \"#f0f921\"]], \"type\": \"surface\"}], \"table\": [{\"cells\": {\"fill\": {\"color\": \"#EBF0F8\"}, \"line\": {\"color\": \"white\"}}, \"header\": {\"fill\": {\"color\": \"#C8D4E3\"}, \"line\": {\"color\": \"white\"}}, \"type\": \"table\"}]}, \"layout\": {\"annotationdefaults\": {\"arrowcolor\": \"#2a3f5f\", \"arrowhead\": 0, \"arrowwidth\": 1}, \"autotypenumbers\": \"strict\", \"coloraxis\": {\"colorbar\": {\"outlinewidth\": 0, \"ticks\": \"\"}}, \"colorscale\": {\"diverging\": [[0, \"#8e0152\"], [0.1, \"#c51b7d\"], [0.2, \"#de77ae\"], [0.3, \"#f1b6da\"], [0.4, \"#fde0ef\"], [0.5, \"#f7f7f7\"], [0.6, \"#e6f5d0\"], [0.7, \"#b8e186\"], [0.8, \"#7fbc41\"], [0.9, \"#4d9221\"], [1, \"#276419\"]], \"sequential\": [[0.0, \"#0d0887\"], [0.1111111111111111, \"#46039f\"], [0.2222222222222222, \"#7201a8\"], [0.3333333333333333, \"#9c179e\"], [0.4444444444444444, \"#bd3786\"], [0.5555555555555556, \"#d8576b\"], [0.6666666666666666, \"#ed7953\"], [0.7777777777777778, \"#fb9f3a\"], [0.8888888888888888, \"#fdca26\"], [1.0, \"#f0f921\"]], \"sequentialminus\": [[0.0, \"#0d0887\"], [0.1111111111111111, \"#46039f\"], [0.2222222222222222, \"#7201a8\"], [0.3333333333333333, \"#9c179e\"], [0.4444444444444444, \"#bd3786\"], [0.5555555555555556, \"#d8576b\"], [0.6666666666666666, \"#ed7953\"], [0.7777777777777778, \"#fb9f3a\"], [0.8888888888888888, \"#fdca26\"], [1.0, \"#f0f921\"]]}, \"colorway\": [\"#636efa\", \"#EF553B\", \"#00cc96\", \"#ab63fa\", \"#FFA15A\", \"#19d3f3\", \"#FF6692\", \"#B6E880\", \"#FF97FF\", \"#FECB52\"], \"font\": {\"color\": \"#2a3f5f\"}, \"geo\": {\"bgcolor\": \"white\", \"lakecolor\": \"white\", \"landcolor\": \"#E5ECF6\", \"showlakes\": true, \"showland\": true, \"subunitcolor\": \"white\"}, \"hoverlabel\": {\"align\": \"left\"}, \"hovermode\": \"closest\", \"mapbox\": {\"style\": \"light\"}, \"paper_bgcolor\": \"white\", \"plot_bgcolor\": \"#E5ECF6\", \"polar\": {\"angularaxis\": {\"gridcolor\": \"white\", \"linecolor\": \"white\", \"ticks\": \"\"}, \"bgcolor\": \"#E5ECF6\", \"radialaxis\": {\"gridcolor\": \"white\", \"linecolor\": \"white\", \"ticks\": \"\"}}, \"scene\": {\"xaxis\": {\"backgroundcolor\": \"#E5ECF6\", \"gridcolor\": \"white\", \"gridwidth\": 2, \"linecolor\": \"white\", \"showbackground\": true, \"ticks\": \"\", \"zerolinecolor\": \"white\"}, \"yaxis\": {\"backgroundcolor\": \"#E5ECF6\", \"gridcolor\": \"white\", \"gridwidth\": 2, \"linecolor\": \"white\", \"showbackground\": true, \"ticks\": \"\", \"zerolinecolor\": \"white\"}, \"zaxis\": {\"backgroundcolor\": \"#E5ECF6\", \"gridcolor\": \"white\", \"gridwidth\": 2, \"linecolor\": \"white\", \"showbackground\": true, \"ticks\": \"\", \"zerolinecolor\": \"white\"}}, \"shapedefaults\": {\"line\": {\"color\": \"#2a3f5f\"}}, \"ternary\": {\"aaxis\": {\"gridcolor\": \"white\", \"linecolor\": \"white\", \"ticks\": \"\"}, \"baxis\": {\"gridcolor\": \"white\", \"linecolor\": \"white\", \"ticks\": \"\"}, \"bgcolor\": \"#E5ECF6\", \"caxis\": {\"gridcolor\": \"white\", \"linecolor\": \"white\", \"ticks\": \"\"}}, \"title\": {\"x\": 0.05}, \"xaxis\": {\"automargin\": true, \"gridcolor\": \"white\", \"linecolor\": \"white\", \"ticks\": \"\", \"title\": {\"standoff\": 15}, \"zerolinecolor\": \"white\", \"zerolinewidth\": 2}, \"yaxis\": {\"automargin\": true, \"gridcolor\": \"white\", \"linecolor\": \"white\", \"ticks\": \"\", \"title\": {\"standoff\": 15}, \"zerolinecolor\": \"white\", \"zerolinewidth\": 2}}}, \"title\": {\"font\": {\"color\": \"#4D5663\"}}, \"xaxis\": {\"gridcolor\": \"#E1E5ED\", \"showgrid\": true, \"tickfont\": {\"color\": \"#4D5663\"}, \"title\": {\"font\": {\"color\": \"#4D5663\"}, \"text\": \"\"}, \"zerolinecolor\": \"#E1E5ED\"}, \"yaxis\": {\"gridcolor\": \"#E1E5ED\", \"showgrid\": true, \"tickfont\": {\"color\": \"#4D5663\"}, \"title\": {\"font\": {\"color\": \"#4D5663\"}, \"text\": \"\"}, \"zerolinecolor\": \"#E1E5ED\"}},                        {\"showLink\": true, \"linkText\": \"Export to plot.ly\", \"plotlyServerURL\": \"https://plot.ly\", \"responsive\": true}                    ).then(function(){\n",
       "                            \n",
       "var gd = document.getElementById('8d7972cb-f544-4568-a612-48f711869747');\n",
       "var x = new MutationObserver(function (mutations, observer) {{\n",
       "        var display = window.getComputedStyle(gd).display;\n",
       "        if (!display || display === 'none') {{\n",
       "            console.log([gd, 'removed!']);\n",
       "            Plotly.purge(gd);\n",
       "            observer.disconnect();\n",
       "        }}\n",
       "}});\n",
       "\n",
       "// Listen for the removal of the full notebook cells\n",
       "var notebookContainer = gd.closest('#notebook-container');\n",
       "if (notebookContainer) {{\n",
       "    x.observe(notebookContainer, {childList: true});\n",
       "}}\n",
       "\n",
       "// Listen for the clearing of the current output cell\n",
       "var outputEl = gd.closest('.output');\n",
       "if (outputEl) {{\n",
       "    x.observe(outputEl, {childList: true});\n",
       "}}\n",
       "\n",
       "                        })                };                });            </script>        </div>"
      ]
     },
     "metadata": {},
     "output_type": "display_data"
    }
   ],
   "source": [
    "df.iplot(kind='bubble',x='A',y='B',size='C')"
   ]
  },
  {
   "cell_type": "code",
   "execution_count": 35,
   "metadata": {},
   "outputs": [
    {
     "data": {
      "application/vnd.plotly.v1+json": {
       "config": {
        "linkText": "Export to plot.ly",
        "plotlyServerURL": "https://plot.ly",
        "showLink": true
       },
       "data": [
        {
         "histfunc": "count",
         "histnorm": "",
         "marker": {
          "color": "rgba(255, 153, 51, 1.0)",
          "line": {
           "color": "#4D5663",
           "width": 1.3
          }
         },
         "name": "A",
         "nbinsx": 10,
         "opacity": 0.8,
         "orientation": "v",
         "type": "histogram",
         "x": [
          -0.5834753383517299,
          -0.17406211351662937,
          0.3060879792029995,
          -0.9534093278803556,
          0.3335305517157785,
          -0.97208229715675,
          0.773922882267899,
          1.4949271133171107,
          0.8367814978013194,
          0.08308209603773245,
          1.182761740458536,
          0.49774685820127185,
          0.14198467055805747,
          -1.1355453476946098,
          1.011619431731822,
          -0.6353426447605321,
          -0.5424144198586475,
          -1.5756694152563402,
          1.2337366847436115,
          0.11368435771078347,
          -1.8603332979892468,
          -0.37908290090239266,
          -2.3952188064783204,
          0.8877427257916617,
          -0.7115630132230167,
          -1.9603833676408622,
          -0.28727568692696054,
          -1.1266536274403456,
          1.1008068413241312,
          0.9886964497727425,
          -0.5102809461243386,
          -0.26700043460695194,
          0.9015877446659447,
          -0.21081646226019637,
          2.7208289305974653,
          0.1416432945420239,
          0.04999158259603204,
          -0.5592081595503431,
          0.45281455512608043,
          -0.47627645727787193,
          1.207059439612465,
          0.4777022075082107,
          -1.026931705617259,
          -0.09326720728713248,
          -2.4491799906079867,
          -0.9669689841078734,
          0.39843192202660516,
          -1.601682430692205,
          -0.09730257947951387,
          0.705339489766667,
          -0.6885982039996992,
          0.6473742218943702,
          1.0899943898808402,
          -0.3672553912402756,
          0.3987603976761634,
          -0.19251739749906915,
          -0.6650279548408881,
          0.1609926421761508,
          0.5130893323136226,
          0.40379560486445404,
          1.5089011416060847,
          0.9171065596968837,
          -0.8461891366811787,
          1.0164246921459297,
          0.6682311222058028,
          -0.11500234092630772,
          1.5242086731479125,
          1.1030176443205182,
          -0.18787103995561596,
          -1.3538512726051395,
          0.8253066278166783,
          -0.3119693363687069,
          0.21814712315537818,
          -0.0735611122243912,
          -0.028292622673684212,
          -1.1577550791690683,
          1.3129945490002852,
          0.4300996259364016,
          -1.2300531873215208,
          0.2321272415931786,
          0.37983972009769645,
          -0.48843454037353673,
          -0.44977945445042544,
          1.6926048669377491,
          1.5476340525379164,
          0.9038064089580464,
          0.34345404520601236,
          -0.3738001536190124,
          1.0211207868093704,
          0.9146321683636861,
          -0.518458729915045,
          -1.2156051542720545,
          0.6405558740080012,
          -1.5203730953554544,
          0.23280630549747244,
          -1.2106399353868293,
          0.2511404517840312,
          1.66809342037484,
          -0.3742517195980744,
          -1.2245820489080763
         ],
         "xaxis": "x",
         "yaxis": "y"
        },
        {
         "line": {
          "color": "rgba(128, 128, 128, 1.0)",
          "dash": "solid",
          "shape": "linear",
          "width": 1.3
         },
         "marker": {
          "size": 2,
          "symbol": "circle"
         },
         "mode": "markers",
         "name": "A",
         "text": "",
         "type": "scatter",
         "x": [
          -1.3758072804282802,
          -2.0166423275795045,
          -0.1338910600221726,
          -0.5820663677732987,
          0.9712282596893289,
          0.04856414782439493,
          -1.6446518762072733,
          -0.9421467336068651,
          0.21954059186296845,
          0.36807439477449627,
          -0.3654460240432651,
          -0.8881757488822261,
          1.1359574308252038,
          1.784248095321167,
          -2.230174327763357,
          -0.9096345705300771,
          0.058131826476081325,
          0.49564915635896856,
          0.9955580219566825,
          0.9416554478215717,
          0.501777796879372,
          0.5832116202465111,
          0.07587249397032425,
          -1.3196824810937708,
          0.4830791708975699,
          -1.374253540092365,
          -0.5760286311195967,
          0.7116952836336254,
          -0.3114529511132174,
          -0.4000450842140983,
          0.04992534906556205,
          1.954807728032101,
          0.13171389071864884,
          -0.033496919366209084,
          -0.49088708243273443,
          -0.32917951662922473,
          -0.6357922655639845,
          0.01910882388183459,
          0.6605981182143601,
          0.2871073718275956,
          -0.7967523017727124,
          1.2749217387718361,
          -1.0184090272611115,
          -0.30776517663371084,
          -1.3835687056089345,
          -0.9589418851101955,
          0.8388110623238367,
          -0.8262275451330596,
          -1.8834577989862957,
          0.5672824330131843,
          1.5196434832141326,
          -0.9864345081943736,
          -0.09831683886884271,
          -0.4837052077847503,
          1.2148627172318998,
          -0.8692477403189863,
          -2.145542147953029,
          -1.026863204622045,
          0.5759905082069539,
          -0.08525962897285295,
          0.1994816415925022,
          0.29053581455171307,
          1.6111189999118847,
          -0.8918623381139243,
          0.757880123902853,
          -0.9228502119583749,
          0.2614246572476863,
          -1.4678941893578006,
          -1.7208349749814054,
          -1.188026523351157,
          -1.3120013569153754,
          -0.26774879333661716,
          -0.8918948740304229,
          -1.8768343945216002,
          0.5804338332708612,
          -0.506169023116886,
          -0.25771991196350186,
          -1.891780200402067,
          -0.90439014692466,
          -0.6309894908570972,
          -2.07726520770258,
          0.44560260665169893,
          0.36344301847922245,
          -0.9338476374001575,
          -0.7805318229279821,
          -1.4284991217257477,
          -1.5086579661524255,
          -0.01569096789541602,
          -2.1206884425801995,
          -1.971641489490636,
          -0.16318933968466018,
          0.26430296290179456,
          -0.9783848110025019,
          -0.8944221474552131,
          0.4463550575217183,
          0.9586322265346929,
          -0.5716261211754448,
          0.9428186601187796,
          -1.6636587907084162,
          -0.14151351627318537
         ],
         "xaxis": "x2",
         "y": [
          -0.5834753383517299,
          -0.17406211351662937,
          0.3060879792029995,
          -0.9534093278803556,
          0.3335305517157785,
          -0.97208229715675,
          0.773922882267899,
          1.4949271133171107,
          0.8367814978013194,
          0.08308209603773245,
          1.182761740458536,
          0.49774685820127185,
          0.14198467055805747,
          -1.1355453476946098,
          1.011619431731822,
          -0.6353426447605321,
          -0.5424144198586475,
          -1.5756694152563402,
          1.2337366847436115,
          0.11368435771078347,
          -1.8603332979892468,
          -0.37908290090239266,
          -2.3952188064783204,
          0.8877427257916617,
          -0.7115630132230167,
          -1.9603833676408622,
          -0.28727568692696054,
          -1.1266536274403456,
          1.1008068413241312,
          0.9886964497727425,
          -0.5102809461243386,
          -0.26700043460695194,
          0.9015877446659447,
          -0.21081646226019637,
          2.7208289305974653,
          0.1416432945420239,
          0.04999158259603204,
          -0.5592081595503431,
          0.45281455512608043,
          -0.47627645727787193,
          1.207059439612465,
          0.4777022075082107,
          -1.026931705617259,
          -0.09326720728713248,
          -2.4491799906079867,
          -0.9669689841078734,
          0.39843192202660516,
          -1.601682430692205,
          -0.09730257947951387,
          0.705339489766667,
          -0.6885982039996992,
          0.6473742218943702,
          1.0899943898808402,
          -0.3672553912402756,
          0.3987603976761634,
          -0.19251739749906915,
          -0.6650279548408881,
          0.1609926421761508,
          0.5130893323136226,
          0.40379560486445404,
          1.5089011416060847,
          0.9171065596968837,
          -0.8461891366811787,
          1.0164246921459297,
          0.6682311222058028,
          -0.11500234092630772,
          1.5242086731479125,
          1.1030176443205182,
          -0.18787103995561596,
          -1.3538512726051395,
          0.8253066278166783,
          -0.3119693363687069,
          0.21814712315537818,
          -0.0735611122243912,
          -0.028292622673684212,
          -1.1577550791690683,
          1.3129945490002852,
          0.4300996259364016,
          -1.2300531873215208,
          0.2321272415931786,
          0.37983972009769645,
          -0.48843454037353673,
          -0.44977945445042544,
          1.6926048669377491,
          1.5476340525379164,
          0.9038064089580464,
          0.34345404520601236,
          -0.3738001536190124,
          1.0211207868093704,
          0.9146321683636861,
          -0.518458729915045,
          -1.2156051542720545,
          0.6405558740080012,
          -1.5203730953554544,
          0.23280630549747244,
          -1.2106399353868293,
          0.2511404517840312,
          1.66809342037484,
          -0.3742517195980744,
          -1.2245820489080763
         ],
         "yaxis": "y2"
        },
        {
         "line": {
          "color": "rgba(128, 128, 128, 1.0)",
          "dash": "solid",
          "shape": "linear",
          "width": 1.3
         },
         "marker": {
          "size": 2,
          "symbol": "circle"
         },
         "mode": "markers",
         "name": "A",
         "text": "",
         "type": "scatter",
         "x": [
          1.0018795416454491,
          -2.337390086103986,
          -0.4232539974018757,
          -1.8969316747463965,
          0.7998081641187528,
          -0.3661949850561008,
          -1.0181639947152596,
          -0.11585982965963165,
          0.8472399266545323,
          0.43788030425939717,
          -0.663764784381059,
          -0.7337123337610191,
          1.4548197863516765,
          -0.42418631146704205,
          -0.2545716351889039,
          0.5366989835326802,
          0.36605335363143343,
          -1.4143036007630514,
          1.5221013213507886,
          0.7791456306917478,
          0.23025246545213834,
          -1.8638969248337085,
          -1.6884893644211625,
          -0.045487154963125165,
          -0.801121406292604,
          0.0547559143145917,
          0.545183512897039,
          -0.724015990081383,
          0.06573202885491526,
          1.6498167190416173,
          0.6533000011435984,
          -0.5587155424933851,
          -1.7109782094864845,
          2.203279978897059,
          -1.2458021051215071,
          0.7884115134544288,
          -2.1775179047299407,
          -1.2627256229473947,
          1.8817286080299984,
          0.4368373756387097,
          1.7706549361056712,
          0.6526038916660498,
          -0.32547051254043496,
          0.5741831449609582,
          -2.043115613867004,
          0.15453730277501193,
          -0.6087453202889653,
          0.8695799883309445,
          -0.8609126079247554,
          0.9312292205742623,
          0.9033553738916221,
          -1.8349477525385487,
          0.05234757707374364,
          -0.07264521518900441,
          -2.289836482394134,
          -1.6493967640659406,
          -0.482197393675575,
          -1.1391850183853196,
          0.27952172855246427,
          -0.24730382546811683,
          1.4330576241904138,
          1.052331922367535,
          0.13068002155250746,
          -0.607376113375024,
          0.3910918792553487,
          -0.8556328435345957,
          0.41913087940142013,
          -0.35323768409171563,
          1.0702506121182342,
          -1.1916818045776487,
          -0.1925503665005978,
          -0.877017495740593,
          -0.823621667252424,
          -1.3373927643971992,
          -0.6974293794909958,
          -0.941557903733586,
          0.4734217251518457,
          1.760748122282674,
          -0.05527878596913308,
          -1.0481418298737724,
          -1.5224723426836864,
          -0.5445950686677371,
          -1.018327795899508,
          -1.6454156901822734,
          -1.0439229011320366,
          1.226138672249239,
          1.648029568633649,
          1.6132974530492734,
          -0.4729133085871159,
          -0.3224150454961992,
          0.12450040090001759,
          -1.4789057463124318,
          -0.03375216725478918,
          1.5198674300593413,
          -0.7337586002507553,
          1.0376640654837075,
          0.5459608141126524,
          0.5766045985211756,
          0.1707602039956786,
          0.5665018422576403
         ],
         "xaxis": "x3",
         "y": [
          -0.5834753383517299,
          -0.17406211351662937,
          0.3060879792029995,
          -0.9534093278803556,
          0.3335305517157785,
          -0.97208229715675,
          0.773922882267899,
          1.4949271133171107,
          0.8367814978013194,
          0.08308209603773245,
          1.182761740458536,
          0.49774685820127185,
          0.14198467055805747,
          -1.1355453476946098,
          1.011619431731822,
          -0.6353426447605321,
          -0.5424144198586475,
          -1.5756694152563402,
          1.2337366847436115,
          0.11368435771078347,
          -1.8603332979892468,
          -0.37908290090239266,
          -2.3952188064783204,
          0.8877427257916617,
          -0.7115630132230167,
          -1.9603833676408622,
          -0.28727568692696054,
          -1.1266536274403456,
          1.1008068413241312,
          0.9886964497727425,
          -0.5102809461243386,
          -0.26700043460695194,
          0.9015877446659447,
          -0.21081646226019637,
          2.7208289305974653,
          0.1416432945420239,
          0.04999158259603204,
          -0.5592081595503431,
          0.45281455512608043,
          -0.47627645727787193,
          1.207059439612465,
          0.4777022075082107,
          -1.026931705617259,
          -0.09326720728713248,
          -2.4491799906079867,
          -0.9669689841078734,
          0.39843192202660516,
          -1.601682430692205,
          -0.09730257947951387,
          0.705339489766667,
          -0.6885982039996992,
          0.6473742218943702,
          1.0899943898808402,
          -0.3672553912402756,
          0.3987603976761634,
          -0.19251739749906915,
          -0.6650279548408881,
          0.1609926421761508,
          0.5130893323136226,
          0.40379560486445404,
          1.5089011416060847,
          0.9171065596968837,
          -0.8461891366811787,
          1.0164246921459297,
          0.6682311222058028,
          -0.11500234092630772,
          1.5242086731479125,
          1.1030176443205182,
          -0.18787103995561596,
          -1.3538512726051395,
          0.8253066278166783,
          -0.3119693363687069,
          0.21814712315537818,
          -0.0735611122243912,
          -0.028292622673684212,
          -1.1577550791690683,
          1.3129945490002852,
          0.4300996259364016,
          -1.2300531873215208,
          0.2321272415931786,
          0.37983972009769645,
          -0.48843454037353673,
          -0.44977945445042544,
          1.6926048669377491,
          1.5476340525379164,
          0.9038064089580464,
          0.34345404520601236,
          -0.3738001536190124,
          1.0211207868093704,
          0.9146321683636861,
          -0.518458729915045,
          -1.2156051542720545,
          0.6405558740080012,
          -1.5203730953554544,
          0.23280630549747244,
          -1.2106399353868293,
          0.2511404517840312,
          1.66809342037484,
          -0.3742517195980744,
          -1.2245820489080763
         ],
         "yaxis": "y3"
        },
        {
         "line": {
          "color": "rgba(128, 128, 128, 1.0)",
          "dash": "solid",
          "shape": "linear",
          "width": 1.3
         },
         "marker": {
          "size": 2,
          "symbol": "circle"
         },
         "mode": "markers",
         "name": "A",
         "text": "",
         "type": "scatter",
         "x": [
          -1.3586555500283932,
          -1.1387743176844167,
          0.48169938159576325,
          0.6764372067302944,
          1.1268266747347202,
          0.6057252710507862,
          -0.7513219741686743,
          0.005702313957507184,
          1.4308791760663617,
          1.2005966764227556,
          -0.9875278942485363,
          0.5808660913976754,
          1.4287941005077174,
          0.4620702301387893,
          1.0572734196064548,
          -1.1002913127709155,
          -0.1315515667924692,
          -1.1392566067659655,
          0.07229281640598588,
          -0.5333057149292395,
          0.5816100203393103,
          1.306026153751653,
          1.0195678806161312,
          0.2888420412161623,
          -0.4433382139973612,
          -0.3454345344832595,
          0.35534312460924733,
          -0.43117020195967376,
          -1.5045558829863606,
          -0.1815616314116132,
          -0.4368063742518326,
          -0.22620381140298199,
          0.08720459040528854,
          0.5678243149791222,
          0.5881222446895752,
          0.7480451633782648,
          -1.32794689771268,
          -0.3778143059967874,
          0.16147452672508367,
          0.06410447160154711,
          -0.379738719597055,
          0.39967835730081835,
          0.14216477357882099,
          0.5571022162046607,
          -1.231042034691143,
          0.17497112618671276,
          -0.23977151229832572,
          0.3895289261776583,
          -0.25526591619421546,
          -0.19963109923025427,
          1.1232157056995562,
          -1.3454744427361949,
          -0.9443758475972888,
          0.10462002783908171,
          -0.21414108255498263,
          -0.013631441599426721,
          0.25542382679462305,
          -0.042489116778872876,
          2.223297765291669,
          1.4438772399384525,
          0.3357163929448841,
          1.2836072157745464,
          1.5871881561554102,
          1.3498649620194312,
          -0.1950754533526257,
          -0.3423773505787837,
          1.205801770483136,
          -1.4535643076134128,
          -0.11707550596919053,
          -0.07076833743694082,
          0.05183565834795385,
          -0.6962317336833402,
          -0.2965689315021597,
          -0.4802740478324376,
          1.6212754882155525,
          -0.6149308986561066,
          0.14122511601298043,
          -1.4253659454394587,
          -0.16682763283868907,
          -0.2522594661264877,
          0.6016714218645476,
          2.431213897315591,
          1.4180976108862766,
          1.4556917676318628,
          -0.4258864761956951,
          0.6942935605645597,
          0.8682132087462273,
          0.038312944846510065,
          0.26163123834069224,
          0.3408182247581353,
          2.1254219393308467,
          -0.15326156703769878,
          0.5757955269280755,
          2.017680954544086,
          -0.6816594733685633,
          0.011130112560700777,
          0.8960972114035543,
          -0.6479458737519347,
          -0.6154386787320508,
          -0.5344839718555876
         ],
         "xaxis": "x4",
         "y": [
          -0.5834753383517299,
          -0.17406211351662937,
          0.3060879792029995,
          -0.9534093278803556,
          0.3335305517157785,
          -0.97208229715675,
          0.773922882267899,
          1.4949271133171107,
          0.8367814978013194,
          0.08308209603773245,
          1.182761740458536,
          0.49774685820127185,
          0.14198467055805747,
          -1.1355453476946098,
          1.011619431731822,
          -0.6353426447605321,
          -0.5424144198586475,
          -1.5756694152563402,
          1.2337366847436115,
          0.11368435771078347,
          -1.8603332979892468,
          -0.37908290090239266,
          -2.3952188064783204,
          0.8877427257916617,
          -0.7115630132230167,
          -1.9603833676408622,
          -0.28727568692696054,
          -1.1266536274403456,
          1.1008068413241312,
          0.9886964497727425,
          -0.5102809461243386,
          -0.26700043460695194,
          0.9015877446659447,
          -0.21081646226019637,
          2.7208289305974653,
          0.1416432945420239,
          0.04999158259603204,
          -0.5592081595503431,
          0.45281455512608043,
          -0.47627645727787193,
          1.207059439612465,
          0.4777022075082107,
          -1.026931705617259,
          -0.09326720728713248,
          -2.4491799906079867,
          -0.9669689841078734,
          0.39843192202660516,
          -1.601682430692205,
          -0.09730257947951387,
          0.705339489766667,
          -0.6885982039996992,
          0.6473742218943702,
          1.0899943898808402,
          -0.3672553912402756,
          0.3987603976761634,
          -0.19251739749906915,
          -0.6650279548408881,
          0.1609926421761508,
          0.5130893323136226,
          0.40379560486445404,
          1.5089011416060847,
          0.9171065596968837,
          -0.8461891366811787,
          1.0164246921459297,
          0.6682311222058028,
          -0.11500234092630772,
          1.5242086731479125,
          1.1030176443205182,
          -0.18787103995561596,
          -1.3538512726051395,
          0.8253066278166783,
          -0.3119693363687069,
          0.21814712315537818,
          -0.0735611122243912,
          -0.028292622673684212,
          -1.1577550791690683,
          1.3129945490002852,
          0.4300996259364016,
          -1.2300531873215208,
          0.2321272415931786,
          0.37983972009769645,
          -0.48843454037353673,
          -0.44977945445042544,
          1.6926048669377491,
          1.5476340525379164,
          0.9038064089580464,
          0.34345404520601236,
          -0.3738001536190124,
          1.0211207868093704,
          0.9146321683636861,
          -0.518458729915045,
          -1.2156051542720545,
          0.6405558740080012,
          -1.5203730953554544,
          0.23280630549747244,
          -1.2106399353868293,
          0.2511404517840312,
          1.66809342037484,
          -0.3742517195980744,
          -1.2245820489080763
         ],
         "yaxis": "y4"
        },
        {
         "line": {
          "color": "rgba(128, 128, 128, 1.0)",
          "dash": "solid",
          "shape": "linear",
          "width": 1.3
         },
         "marker": {
          "size": 2,
          "symbol": "circle"
         },
         "mode": "markers",
         "name": "B",
         "text": "",
         "type": "scatter",
         "x": [
          -0.5834753383517299,
          -0.17406211351662937,
          0.3060879792029995,
          -0.9534093278803556,
          0.3335305517157785,
          -0.97208229715675,
          0.773922882267899,
          1.4949271133171107,
          0.8367814978013194,
          0.08308209603773245,
          1.182761740458536,
          0.49774685820127185,
          0.14198467055805747,
          -1.1355453476946098,
          1.011619431731822,
          -0.6353426447605321,
          -0.5424144198586475,
          -1.5756694152563402,
          1.2337366847436115,
          0.11368435771078347,
          -1.8603332979892468,
          -0.37908290090239266,
          -2.3952188064783204,
          0.8877427257916617,
          -0.7115630132230167,
          -1.9603833676408622,
          -0.28727568692696054,
          -1.1266536274403456,
          1.1008068413241312,
          0.9886964497727425,
          -0.5102809461243386,
          -0.26700043460695194,
          0.9015877446659447,
          -0.21081646226019637,
          2.7208289305974653,
          0.1416432945420239,
          0.04999158259603204,
          -0.5592081595503431,
          0.45281455512608043,
          -0.47627645727787193,
          1.207059439612465,
          0.4777022075082107,
          -1.026931705617259,
          -0.09326720728713248,
          -2.4491799906079867,
          -0.9669689841078734,
          0.39843192202660516,
          -1.601682430692205,
          -0.09730257947951387,
          0.705339489766667,
          -0.6885982039996992,
          0.6473742218943702,
          1.0899943898808402,
          -0.3672553912402756,
          0.3987603976761634,
          -0.19251739749906915,
          -0.6650279548408881,
          0.1609926421761508,
          0.5130893323136226,
          0.40379560486445404,
          1.5089011416060847,
          0.9171065596968837,
          -0.8461891366811787,
          1.0164246921459297,
          0.6682311222058028,
          -0.11500234092630772,
          1.5242086731479125,
          1.1030176443205182,
          -0.18787103995561596,
          -1.3538512726051395,
          0.8253066278166783,
          -0.3119693363687069,
          0.21814712315537818,
          -0.0735611122243912,
          -0.028292622673684212,
          -1.1577550791690683,
          1.3129945490002852,
          0.4300996259364016,
          -1.2300531873215208,
          0.2321272415931786,
          0.37983972009769645,
          -0.48843454037353673,
          -0.44977945445042544,
          1.6926048669377491,
          1.5476340525379164,
          0.9038064089580464,
          0.34345404520601236,
          -0.3738001536190124,
          1.0211207868093704,
          0.9146321683636861,
          -0.518458729915045,
          -1.2156051542720545,
          0.6405558740080012,
          -1.5203730953554544,
          0.23280630549747244,
          -1.2106399353868293,
          0.2511404517840312,
          1.66809342037484,
          -0.3742517195980744,
          -1.2245820489080763
         ],
         "xaxis": "x5",
         "y": [
          -1.3758072804282802,
          -2.0166423275795045,
          -0.1338910600221726,
          -0.5820663677732987,
          0.9712282596893289,
          0.04856414782439493,
          -1.6446518762072733,
          -0.9421467336068651,
          0.21954059186296845,
          0.36807439477449627,
          -0.3654460240432651,
          -0.8881757488822261,
          1.1359574308252038,
          1.784248095321167,
          -2.230174327763357,
          -0.9096345705300771,
          0.058131826476081325,
          0.49564915635896856,
          0.9955580219566825,
          0.9416554478215717,
          0.501777796879372,
          0.5832116202465111,
          0.07587249397032425,
          -1.3196824810937708,
          0.4830791708975699,
          -1.374253540092365,
          -0.5760286311195967,
          0.7116952836336254,
          -0.3114529511132174,
          -0.4000450842140983,
          0.04992534906556205,
          1.954807728032101,
          0.13171389071864884,
          -0.033496919366209084,
          -0.49088708243273443,
          -0.32917951662922473,
          -0.6357922655639845,
          0.01910882388183459,
          0.6605981182143601,
          0.2871073718275956,
          -0.7967523017727124,
          1.2749217387718361,
          -1.0184090272611115,
          -0.30776517663371084,
          -1.3835687056089345,
          -0.9589418851101955,
          0.8388110623238367,
          -0.8262275451330596,
          -1.8834577989862957,
          0.5672824330131843,
          1.5196434832141326,
          -0.9864345081943736,
          -0.09831683886884271,
          -0.4837052077847503,
          1.2148627172318998,
          -0.8692477403189863,
          -2.145542147953029,
          -1.026863204622045,
          0.5759905082069539,
          -0.08525962897285295,
          0.1994816415925022,
          0.29053581455171307,
          1.6111189999118847,
          -0.8918623381139243,
          0.757880123902853,
          -0.9228502119583749,
          0.2614246572476863,
          -1.4678941893578006,
          -1.7208349749814054,
          -1.188026523351157,
          -1.3120013569153754,
          -0.26774879333661716,
          -0.8918948740304229,
          -1.8768343945216002,
          0.5804338332708612,
          -0.506169023116886,
          -0.25771991196350186,
          -1.891780200402067,
          -0.90439014692466,
          -0.6309894908570972,
          -2.07726520770258,
          0.44560260665169893,
          0.36344301847922245,
          -0.9338476374001575,
          -0.7805318229279821,
          -1.4284991217257477,
          -1.5086579661524255,
          -0.01569096789541602,
          -2.1206884425801995,
          -1.971641489490636,
          -0.16318933968466018,
          0.26430296290179456,
          -0.9783848110025019,
          -0.8944221474552131,
          0.4463550575217183,
          0.9586322265346929,
          -0.5716261211754448,
          0.9428186601187796,
          -1.6636587907084162,
          -0.14151351627318537
         ],
         "yaxis": "y5"
        },
        {
         "histfunc": "count",
         "histnorm": "",
         "marker": {
          "color": "rgba(55, 128, 191, 1.0)",
          "line": {
           "color": "#4D5663",
           "width": 1.3
          }
         },
         "name": "B",
         "nbinsx": 10,
         "opacity": 0.8,
         "orientation": "v",
         "type": "histogram",
         "x": [
          -1.3758072804282802,
          -2.0166423275795045,
          -0.1338910600221726,
          -0.5820663677732987,
          0.9712282596893289,
          0.04856414782439493,
          -1.6446518762072733,
          -0.9421467336068651,
          0.21954059186296845,
          0.36807439477449627,
          -0.3654460240432651,
          -0.8881757488822261,
          1.1359574308252038,
          1.784248095321167,
          -2.230174327763357,
          -0.9096345705300771,
          0.058131826476081325,
          0.49564915635896856,
          0.9955580219566825,
          0.9416554478215717,
          0.501777796879372,
          0.5832116202465111,
          0.07587249397032425,
          -1.3196824810937708,
          0.4830791708975699,
          -1.374253540092365,
          -0.5760286311195967,
          0.7116952836336254,
          -0.3114529511132174,
          -0.4000450842140983,
          0.04992534906556205,
          1.954807728032101,
          0.13171389071864884,
          -0.033496919366209084,
          -0.49088708243273443,
          -0.32917951662922473,
          -0.6357922655639845,
          0.01910882388183459,
          0.6605981182143601,
          0.2871073718275956,
          -0.7967523017727124,
          1.2749217387718361,
          -1.0184090272611115,
          -0.30776517663371084,
          -1.3835687056089345,
          -0.9589418851101955,
          0.8388110623238367,
          -0.8262275451330596,
          -1.8834577989862957,
          0.5672824330131843,
          1.5196434832141326,
          -0.9864345081943736,
          -0.09831683886884271,
          -0.4837052077847503,
          1.2148627172318998,
          -0.8692477403189863,
          -2.145542147953029,
          -1.026863204622045,
          0.5759905082069539,
          -0.08525962897285295,
          0.1994816415925022,
          0.29053581455171307,
          1.6111189999118847,
          -0.8918623381139243,
          0.757880123902853,
          -0.9228502119583749,
          0.2614246572476863,
          -1.4678941893578006,
          -1.7208349749814054,
          -1.188026523351157,
          -1.3120013569153754,
          -0.26774879333661716,
          -0.8918948740304229,
          -1.8768343945216002,
          0.5804338332708612,
          -0.506169023116886,
          -0.25771991196350186,
          -1.891780200402067,
          -0.90439014692466,
          -0.6309894908570972,
          -2.07726520770258,
          0.44560260665169893,
          0.36344301847922245,
          -0.9338476374001575,
          -0.7805318229279821,
          -1.4284991217257477,
          -1.5086579661524255,
          -0.01569096789541602,
          -2.1206884425801995,
          -1.971641489490636,
          -0.16318933968466018,
          0.26430296290179456,
          -0.9783848110025019,
          -0.8944221474552131,
          0.4463550575217183,
          0.9586322265346929,
          -0.5716261211754448,
          0.9428186601187796,
          -1.6636587907084162,
          -0.14151351627318537
         ],
         "xaxis": "x6",
         "yaxis": "y6"
        },
        {
         "line": {
          "color": "rgba(128, 128, 128, 1.0)",
          "dash": "solid",
          "shape": "linear",
          "width": 1.3
         },
         "marker": {
          "size": 2,
          "symbol": "circle"
         },
         "mode": "markers",
         "name": "B",
         "text": "",
         "type": "scatter",
         "x": [
          1.0018795416454491,
          -2.337390086103986,
          -0.4232539974018757,
          -1.8969316747463965,
          0.7998081641187528,
          -0.3661949850561008,
          -1.0181639947152596,
          -0.11585982965963165,
          0.8472399266545323,
          0.43788030425939717,
          -0.663764784381059,
          -0.7337123337610191,
          1.4548197863516765,
          -0.42418631146704205,
          -0.2545716351889039,
          0.5366989835326802,
          0.36605335363143343,
          -1.4143036007630514,
          1.5221013213507886,
          0.7791456306917478,
          0.23025246545213834,
          -1.8638969248337085,
          -1.6884893644211625,
          -0.045487154963125165,
          -0.801121406292604,
          0.0547559143145917,
          0.545183512897039,
          -0.724015990081383,
          0.06573202885491526,
          1.6498167190416173,
          0.6533000011435984,
          -0.5587155424933851,
          -1.7109782094864845,
          2.203279978897059,
          -1.2458021051215071,
          0.7884115134544288,
          -2.1775179047299407,
          -1.2627256229473947,
          1.8817286080299984,
          0.4368373756387097,
          1.7706549361056712,
          0.6526038916660498,
          -0.32547051254043496,
          0.5741831449609582,
          -2.043115613867004,
          0.15453730277501193,
          -0.6087453202889653,
          0.8695799883309445,
          -0.8609126079247554,
          0.9312292205742623,
          0.9033553738916221,
          -1.8349477525385487,
          0.05234757707374364,
          -0.07264521518900441,
          -2.289836482394134,
          -1.6493967640659406,
          -0.482197393675575,
          -1.1391850183853196,
          0.27952172855246427,
          -0.24730382546811683,
          1.4330576241904138,
          1.052331922367535,
          0.13068002155250746,
          -0.607376113375024,
          0.3910918792553487,
          -0.8556328435345957,
          0.41913087940142013,
          -0.35323768409171563,
          1.0702506121182342,
          -1.1916818045776487,
          -0.1925503665005978,
          -0.877017495740593,
          -0.823621667252424,
          -1.3373927643971992,
          -0.6974293794909958,
          -0.941557903733586,
          0.4734217251518457,
          1.760748122282674,
          -0.05527878596913308,
          -1.0481418298737724,
          -1.5224723426836864,
          -0.5445950686677371,
          -1.018327795899508,
          -1.6454156901822734,
          -1.0439229011320366,
          1.226138672249239,
          1.648029568633649,
          1.6132974530492734,
          -0.4729133085871159,
          -0.3224150454961992,
          0.12450040090001759,
          -1.4789057463124318,
          -0.03375216725478918,
          1.5198674300593413,
          -0.7337586002507553,
          1.0376640654837075,
          0.5459608141126524,
          0.5766045985211756,
          0.1707602039956786,
          0.5665018422576403
         ],
         "xaxis": "x7",
         "y": [
          -1.3758072804282802,
          -2.0166423275795045,
          -0.1338910600221726,
          -0.5820663677732987,
          0.9712282596893289,
          0.04856414782439493,
          -1.6446518762072733,
          -0.9421467336068651,
          0.21954059186296845,
          0.36807439477449627,
          -0.3654460240432651,
          -0.8881757488822261,
          1.1359574308252038,
          1.784248095321167,
          -2.230174327763357,
          -0.9096345705300771,
          0.058131826476081325,
          0.49564915635896856,
          0.9955580219566825,
          0.9416554478215717,
          0.501777796879372,
          0.5832116202465111,
          0.07587249397032425,
          -1.3196824810937708,
          0.4830791708975699,
          -1.374253540092365,
          -0.5760286311195967,
          0.7116952836336254,
          -0.3114529511132174,
          -0.4000450842140983,
          0.04992534906556205,
          1.954807728032101,
          0.13171389071864884,
          -0.033496919366209084,
          -0.49088708243273443,
          -0.32917951662922473,
          -0.6357922655639845,
          0.01910882388183459,
          0.6605981182143601,
          0.2871073718275956,
          -0.7967523017727124,
          1.2749217387718361,
          -1.0184090272611115,
          -0.30776517663371084,
          -1.3835687056089345,
          -0.9589418851101955,
          0.8388110623238367,
          -0.8262275451330596,
          -1.8834577989862957,
          0.5672824330131843,
          1.5196434832141326,
          -0.9864345081943736,
          -0.09831683886884271,
          -0.4837052077847503,
          1.2148627172318998,
          -0.8692477403189863,
          -2.145542147953029,
          -1.026863204622045,
          0.5759905082069539,
          -0.08525962897285295,
          0.1994816415925022,
          0.29053581455171307,
          1.6111189999118847,
          -0.8918623381139243,
          0.757880123902853,
          -0.9228502119583749,
          0.2614246572476863,
          -1.4678941893578006,
          -1.7208349749814054,
          -1.188026523351157,
          -1.3120013569153754,
          -0.26774879333661716,
          -0.8918948740304229,
          -1.8768343945216002,
          0.5804338332708612,
          -0.506169023116886,
          -0.25771991196350186,
          -1.891780200402067,
          -0.90439014692466,
          -0.6309894908570972,
          -2.07726520770258,
          0.44560260665169893,
          0.36344301847922245,
          -0.9338476374001575,
          -0.7805318229279821,
          -1.4284991217257477,
          -1.5086579661524255,
          -0.01569096789541602,
          -2.1206884425801995,
          -1.971641489490636,
          -0.16318933968466018,
          0.26430296290179456,
          -0.9783848110025019,
          -0.8944221474552131,
          0.4463550575217183,
          0.9586322265346929,
          -0.5716261211754448,
          0.9428186601187796,
          -1.6636587907084162,
          -0.14151351627318537
         ],
         "yaxis": "y7"
        },
        {
         "line": {
          "color": "rgba(128, 128, 128, 1.0)",
          "dash": "solid",
          "shape": "linear",
          "width": 1.3
         },
         "marker": {
          "size": 2,
          "symbol": "circle"
         },
         "mode": "markers",
         "name": "B",
         "text": "",
         "type": "scatter",
         "x": [
          -1.3586555500283932,
          -1.1387743176844167,
          0.48169938159576325,
          0.6764372067302944,
          1.1268266747347202,
          0.6057252710507862,
          -0.7513219741686743,
          0.005702313957507184,
          1.4308791760663617,
          1.2005966764227556,
          -0.9875278942485363,
          0.5808660913976754,
          1.4287941005077174,
          0.4620702301387893,
          1.0572734196064548,
          -1.1002913127709155,
          -0.1315515667924692,
          -1.1392566067659655,
          0.07229281640598588,
          -0.5333057149292395,
          0.5816100203393103,
          1.306026153751653,
          1.0195678806161312,
          0.2888420412161623,
          -0.4433382139973612,
          -0.3454345344832595,
          0.35534312460924733,
          -0.43117020195967376,
          -1.5045558829863606,
          -0.1815616314116132,
          -0.4368063742518326,
          -0.22620381140298199,
          0.08720459040528854,
          0.5678243149791222,
          0.5881222446895752,
          0.7480451633782648,
          -1.32794689771268,
          -0.3778143059967874,
          0.16147452672508367,
          0.06410447160154711,
          -0.379738719597055,
          0.39967835730081835,
          0.14216477357882099,
          0.5571022162046607,
          -1.231042034691143,
          0.17497112618671276,
          -0.23977151229832572,
          0.3895289261776583,
          -0.25526591619421546,
          -0.19963109923025427,
          1.1232157056995562,
          -1.3454744427361949,
          -0.9443758475972888,
          0.10462002783908171,
          -0.21414108255498263,
          -0.013631441599426721,
          0.25542382679462305,
          -0.042489116778872876,
          2.223297765291669,
          1.4438772399384525,
          0.3357163929448841,
          1.2836072157745464,
          1.5871881561554102,
          1.3498649620194312,
          -0.1950754533526257,
          -0.3423773505787837,
          1.205801770483136,
          -1.4535643076134128,
          -0.11707550596919053,
          -0.07076833743694082,
          0.05183565834795385,
          -0.6962317336833402,
          -0.2965689315021597,
          -0.4802740478324376,
          1.6212754882155525,
          -0.6149308986561066,
          0.14122511601298043,
          -1.4253659454394587,
          -0.16682763283868907,
          -0.2522594661264877,
          0.6016714218645476,
          2.431213897315591,
          1.4180976108862766,
          1.4556917676318628,
          -0.4258864761956951,
          0.6942935605645597,
          0.8682132087462273,
          0.038312944846510065,
          0.26163123834069224,
          0.3408182247581353,
          2.1254219393308467,
          -0.15326156703769878,
          0.5757955269280755,
          2.017680954544086,
          -0.6816594733685633,
          0.011130112560700777,
          0.8960972114035543,
          -0.6479458737519347,
          -0.6154386787320508,
          -0.5344839718555876
         ],
         "xaxis": "x8",
         "y": [
          -1.3758072804282802,
          -2.0166423275795045,
          -0.1338910600221726,
          -0.5820663677732987,
          0.9712282596893289,
          0.04856414782439493,
          -1.6446518762072733,
          -0.9421467336068651,
          0.21954059186296845,
          0.36807439477449627,
          -0.3654460240432651,
          -0.8881757488822261,
          1.1359574308252038,
          1.784248095321167,
          -2.230174327763357,
          -0.9096345705300771,
          0.058131826476081325,
          0.49564915635896856,
          0.9955580219566825,
          0.9416554478215717,
          0.501777796879372,
          0.5832116202465111,
          0.07587249397032425,
          -1.3196824810937708,
          0.4830791708975699,
          -1.374253540092365,
          -0.5760286311195967,
          0.7116952836336254,
          -0.3114529511132174,
          -0.4000450842140983,
          0.04992534906556205,
          1.954807728032101,
          0.13171389071864884,
          -0.033496919366209084,
          -0.49088708243273443,
          -0.32917951662922473,
          -0.6357922655639845,
          0.01910882388183459,
          0.6605981182143601,
          0.2871073718275956,
          -0.7967523017727124,
          1.2749217387718361,
          -1.0184090272611115,
          -0.30776517663371084,
          -1.3835687056089345,
          -0.9589418851101955,
          0.8388110623238367,
          -0.8262275451330596,
          -1.8834577989862957,
          0.5672824330131843,
          1.5196434832141326,
          -0.9864345081943736,
          -0.09831683886884271,
          -0.4837052077847503,
          1.2148627172318998,
          -0.8692477403189863,
          -2.145542147953029,
          -1.026863204622045,
          0.5759905082069539,
          -0.08525962897285295,
          0.1994816415925022,
          0.29053581455171307,
          1.6111189999118847,
          -0.8918623381139243,
          0.757880123902853,
          -0.9228502119583749,
          0.2614246572476863,
          -1.4678941893578006,
          -1.7208349749814054,
          -1.188026523351157,
          -1.3120013569153754,
          -0.26774879333661716,
          -0.8918948740304229,
          -1.8768343945216002,
          0.5804338332708612,
          -0.506169023116886,
          -0.25771991196350186,
          -1.891780200402067,
          -0.90439014692466,
          -0.6309894908570972,
          -2.07726520770258,
          0.44560260665169893,
          0.36344301847922245,
          -0.9338476374001575,
          -0.7805318229279821,
          -1.4284991217257477,
          -1.5086579661524255,
          -0.01569096789541602,
          -2.1206884425801995,
          -1.971641489490636,
          -0.16318933968466018,
          0.26430296290179456,
          -0.9783848110025019,
          -0.8944221474552131,
          0.4463550575217183,
          0.9586322265346929,
          -0.5716261211754448,
          0.9428186601187796,
          -1.6636587907084162,
          -0.14151351627318537
         ],
         "yaxis": "y8"
        },
        {
         "line": {
          "color": "rgba(128, 128, 128, 1.0)",
          "dash": "solid",
          "shape": "linear",
          "width": 1.3
         },
         "marker": {
          "size": 2,
          "symbol": "circle"
         },
         "mode": "markers",
         "name": "C",
         "text": "",
         "type": "scatter",
         "x": [
          -0.5834753383517299,
          -0.17406211351662937,
          0.3060879792029995,
          -0.9534093278803556,
          0.3335305517157785,
          -0.97208229715675,
          0.773922882267899,
          1.4949271133171107,
          0.8367814978013194,
          0.08308209603773245,
          1.182761740458536,
          0.49774685820127185,
          0.14198467055805747,
          -1.1355453476946098,
          1.011619431731822,
          -0.6353426447605321,
          -0.5424144198586475,
          -1.5756694152563402,
          1.2337366847436115,
          0.11368435771078347,
          -1.8603332979892468,
          -0.37908290090239266,
          -2.3952188064783204,
          0.8877427257916617,
          -0.7115630132230167,
          -1.9603833676408622,
          -0.28727568692696054,
          -1.1266536274403456,
          1.1008068413241312,
          0.9886964497727425,
          -0.5102809461243386,
          -0.26700043460695194,
          0.9015877446659447,
          -0.21081646226019637,
          2.7208289305974653,
          0.1416432945420239,
          0.04999158259603204,
          -0.5592081595503431,
          0.45281455512608043,
          -0.47627645727787193,
          1.207059439612465,
          0.4777022075082107,
          -1.026931705617259,
          -0.09326720728713248,
          -2.4491799906079867,
          -0.9669689841078734,
          0.39843192202660516,
          -1.601682430692205,
          -0.09730257947951387,
          0.705339489766667,
          -0.6885982039996992,
          0.6473742218943702,
          1.0899943898808402,
          -0.3672553912402756,
          0.3987603976761634,
          -0.19251739749906915,
          -0.6650279548408881,
          0.1609926421761508,
          0.5130893323136226,
          0.40379560486445404,
          1.5089011416060847,
          0.9171065596968837,
          -0.8461891366811787,
          1.0164246921459297,
          0.6682311222058028,
          -0.11500234092630772,
          1.5242086731479125,
          1.1030176443205182,
          -0.18787103995561596,
          -1.3538512726051395,
          0.8253066278166783,
          -0.3119693363687069,
          0.21814712315537818,
          -0.0735611122243912,
          -0.028292622673684212,
          -1.1577550791690683,
          1.3129945490002852,
          0.4300996259364016,
          -1.2300531873215208,
          0.2321272415931786,
          0.37983972009769645,
          -0.48843454037353673,
          -0.44977945445042544,
          1.6926048669377491,
          1.5476340525379164,
          0.9038064089580464,
          0.34345404520601236,
          -0.3738001536190124,
          1.0211207868093704,
          0.9146321683636861,
          -0.518458729915045,
          -1.2156051542720545,
          0.6405558740080012,
          -1.5203730953554544,
          0.23280630549747244,
          -1.2106399353868293,
          0.2511404517840312,
          1.66809342037484,
          -0.3742517195980744,
          -1.2245820489080763
         ],
         "xaxis": "x9",
         "y": [
          1.0018795416454491,
          -2.337390086103986,
          -0.4232539974018757,
          -1.8969316747463965,
          0.7998081641187528,
          -0.3661949850561008,
          -1.0181639947152596,
          -0.11585982965963165,
          0.8472399266545323,
          0.43788030425939717,
          -0.663764784381059,
          -0.7337123337610191,
          1.4548197863516765,
          -0.42418631146704205,
          -0.2545716351889039,
          0.5366989835326802,
          0.36605335363143343,
          -1.4143036007630514,
          1.5221013213507886,
          0.7791456306917478,
          0.23025246545213834,
          -1.8638969248337085,
          -1.6884893644211625,
          -0.045487154963125165,
          -0.801121406292604,
          0.0547559143145917,
          0.545183512897039,
          -0.724015990081383,
          0.06573202885491526,
          1.6498167190416173,
          0.6533000011435984,
          -0.5587155424933851,
          -1.7109782094864845,
          2.203279978897059,
          -1.2458021051215071,
          0.7884115134544288,
          -2.1775179047299407,
          -1.2627256229473947,
          1.8817286080299984,
          0.4368373756387097,
          1.7706549361056712,
          0.6526038916660498,
          -0.32547051254043496,
          0.5741831449609582,
          -2.043115613867004,
          0.15453730277501193,
          -0.6087453202889653,
          0.8695799883309445,
          -0.8609126079247554,
          0.9312292205742623,
          0.9033553738916221,
          -1.8349477525385487,
          0.05234757707374364,
          -0.07264521518900441,
          -2.289836482394134,
          -1.6493967640659406,
          -0.482197393675575,
          -1.1391850183853196,
          0.27952172855246427,
          -0.24730382546811683,
          1.4330576241904138,
          1.052331922367535,
          0.13068002155250746,
          -0.607376113375024,
          0.3910918792553487,
          -0.8556328435345957,
          0.41913087940142013,
          -0.35323768409171563,
          1.0702506121182342,
          -1.1916818045776487,
          -0.1925503665005978,
          -0.877017495740593,
          -0.823621667252424,
          -1.3373927643971992,
          -0.6974293794909958,
          -0.941557903733586,
          0.4734217251518457,
          1.760748122282674,
          -0.05527878596913308,
          -1.0481418298737724,
          -1.5224723426836864,
          -0.5445950686677371,
          -1.018327795899508,
          -1.6454156901822734,
          -1.0439229011320366,
          1.226138672249239,
          1.648029568633649,
          1.6132974530492734,
          -0.4729133085871159,
          -0.3224150454961992,
          0.12450040090001759,
          -1.4789057463124318,
          -0.03375216725478918,
          1.5198674300593413,
          -0.7337586002507553,
          1.0376640654837075,
          0.5459608141126524,
          0.5766045985211756,
          0.1707602039956786,
          0.5665018422576403
         ],
         "yaxis": "y9"
        },
        {
         "line": {
          "color": "rgba(128, 128, 128, 1.0)",
          "dash": "solid",
          "shape": "linear",
          "width": 1.3
         },
         "marker": {
          "size": 2,
          "symbol": "circle"
         },
         "mode": "markers",
         "name": "C",
         "text": "",
         "type": "scatter",
         "x": [
          -1.3758072804282802,
          -2.0166423275795045,
          -0.1338910600221726,
          -0.5820663677732987,
          0.9712282596893289,
          0.04856414782439493,
          -1.6446518762072733,
          -0.9421467336068651,
          0.21954059186296845,
          0.36807439477449627,
          -0.3654460240432651,
          -0.8881757488822261,
          1.1359574308252038,
          1.784248095321167,
          -2.230174327763357,
          -0.9096345705300771,
          0.058131826476081325,
          0.49564915635896856,
          0.9955580219566825,
          0.9416554478215717,
          0.501777796879372,
          0.5832116202465111,
          0.07587249397032425,
          -1.3196824810937708,
          0.4830791708975699,
          -1.374253540092365,
          -0.5760286311195967,
          0.7116952836336254,
          -0.3114529511132174,
          -0.4000450842140983,
          0.04992534906556205,
          1.954807728032101,
          0.13171389071864884,
          -0.033496919366209084,
          -0.49088708243273443,
          -0.32917951662922473,
          -0.6357922655639845,
          0.01910882388183459,
          0.6605981182143601,
          0.2871073718275956,
          -0.7967523017727124,
          1.2749217387718361,
          -1.0184090272611115,
          -0.30776517663371084,
          -1.3835687056089345,
          -0.9589418851101955,
          0.8388110623238367,
          -0.8262275451330596,
          -1.8834577989862957,
          0.5672824330131843,
          1.5196434832141326,
          -0.9864345081943736,
          -0.09831683886884271,
          -0.4837052077847503,
          1.2148627172318998,
          -0.8692477403189863,
          -2.145542147953029,
          -1.026863204622045,
          0.5759905082069539,
          -0.08525962897285295,
          0.1994816415925022,
          0.29053581455171307,
          1.6111189999118847,
          -0.8918623381139243,
          0.757880123902853,
          -0.9228502119583749,
          0.2614246572476863,
          -1.4678941893578006,
          -1.7208349749814054,
          -1.188026523351157,
          -1.3120013569153754,
          -0.26774879333661716,
          -0.8918948740304229,
          -1.8768343945216002,
          0.5804338332708612,
          -0.506169023116886,
          -0.25771991196350186,
          -1.891780200402067,
          -0.90439014692466,
          -0.6309894908570972,
          -2.07726520770258,
          0.44560260665169893,
          0.36344301847922245,
          -0.9338476374001575,
          -0.7805318229279821,
          -1.4284991217257477,
          -1.5086579661524255,
          -0.01569096789541602,
          -2.1206884425801995,
          -1.971641489490636,
          -0.16318933968466018,
          0.26430296290179456,
          -0.9783848110025019,
          -0.8944221474552131,
          0.4463550575217183,
          0.9586322265346929,
          -0.5716261211754448,
          0.9428186601187796,
          -1.6636587907084162,
          -0.14151351627318537
         ],
         "xaxis": "x10",
         "y": [
          1.0018795416454491,
          -2.337390086103986,
          -0.4232539974018757,
          -1.8969316747463965,
          0.7998081641187528,
          -0.3661949850561008,
          -1.0181639947152596,
          -0.11585982965963165,
          0.8472399266545323,
          0.43788030425939717,
          -0.663764784381059,
          -0.7337123337610191,
          1.4548197863516765,
          -0.42418631146704205,
          -0.2545716351889039,
          0.5366989835326802,
          0.36605335363143343,
          -1.4143036007630514,
          1.5221013213507886,
          0.7791456306917478,
          0.23025246545213834,
          -1.8638969248337085,
          -1.6884893644211625,
          -0.045487154963125165,
          -0.801121406292604,
          0.0547559143145917,
          0.545183512897039,
          -0.724015990081383,
          0.06573202885491526,
          1.6498167190416173,
          0.6533000011435984,
          -0.5587155424933851,
          -1.7109782094864845,
          2.203279978897059,
          -1.2458021051215071,
          0.7884115134544288,
          -2.1775179047299407,
          -1.2627256229473947,
          1.8817286080299984,
          0.4368373756387097,
          1.7706549361056712,
          0.6526038916660498,
          -0.32547051254043496,
          0.5741831449609582,
          -2.043115613867004,
          0.15453730277501193,
          -0.6087453202889653,
          0.8695799883309445,
          -0.8609126079247554,
          0.9312292205742623,
          0.9033553738916221,
          -1.8349477525385487,
          0.05234757707374364,
          -0.07264521518900441,
          -2.289836482394134,
          -1.6493967640659406,
          -0.482197393675575,
          -1.1391850183853196,
          0.27952172855246427,
          -0.24730382546811683,
          1.4330576241904138,
          1.052331922367535,
          0.13068002155250746,
          -0.607376113375024,
          0.3910918792553487,
          -0.8556328435345957,
          0.41913087940142013,
          -0.35323768409171563,
          1.0702506121182342,
          -1.1916818045776487,
          -0.1925503665005978,
          -0.877017495740593,
          -0.823621667252424,
          -1.3373927643971992,
          -0.6974293794909958,
          -0.941557903733586,
          0.4734217251518457,
          1.760748122282674,
          -0.05527878596913308,
          -1.0481418298737724,
          -1.5224723426836864,
          -0.5445950686677371,
          -1.018327795899508,
          -1.6454156901822734,
          -1.0439229011320366,
          1.226138672249239,
          1.648029568633649,
          1.6132974530492734,
          -0.4729133085871159,
          -0.3224150454961992,
          0.12450040090001759,
          -1.4789057463124318,
          -0.03375216725478918,
          1.5198674300593413,
          -0.7337586002507553,
          1.0376640654837075,
          0.5459608141126524,
          0.5766045985211756,
          0.1707602039956786,
          0.5665018422576403
         ],
         "yaxis": "y10"
        },
        {
         "histfunc": "count",
         "histnorm": "",
         "marker": {
          "color": "rgba(50, 171, 96, 1.0)",
          "line": {
           "color": "#4D5663",
           "width": 1.3
          }
         },
         "name": "C",
         "nbinsx": 10,
         "opacity": 0.8,
         "orientation": "v",
         "type": "histogram",
         "x": [
          1.0018795416454491,
          -2.337390086103986,
          -0.4232539974018757,
          -1.8969316747463965,
          0.7998081641187528,
          -0.3661949850561008,
          -1.0181639947152596,
          -0.11585982965963165,
          0.8472399266545323,
          0.43788030425939717,
          -0.663764784381059,
          -0.7337123337610191,
          1.4548197863516765,
          -0.42418631146704205,
          -0.2545716351889039,
          0.5366989835326802,
          0.36605335363143343,
          -1.4143036007630514,
          1.5221013213507886,
          0.7791456306917478,
          0.23025246545213834,
          -1.8638969248337085,
          -1.6884893644211625,
          -0.045487154963125165,
          -0.801121406292604,
          0.0547559143145917,
          0.545183512897039,
          -0.724015990081383,
          0.06573202885491526,
          1.6498167190416173,
          0.6533000011435984,
          -0.5587155424933851,
          -1.7109782094864845,
          2.203279978897059,
          -1.2458021051215071,
          0.7884115134544288,
          -2.1775179047299407,
          -1.2627256229473947,
          1.8817286080299984,
          0.4368373756387097,
          1.7706549361056712,
          0.6526038916660498,
          -0.32547051254043496,
          0.5741831449609582,
          -2.043115613867004,
          0.15453730277501193,
          -0.6087453202889653,
          0.8695799883309445,
          -0.8609126079247554,
          0.9312292205742623,
          0.9033553738916221,
          -1.8349477525385487,
          0.05234757707374364,
          -0.07264521518900441,
          -2.289836482394134,
          -1.6493967640659406,
          -0.482197393675575,
          -1.1391850183853196,
          0.27952172855246427,
          -0.24730382546811683,
          1.4330576241904138,
          1.052331922367535,
          0.13068002155250746,
          -0.607376113375024,
          0.3910918792553487,
          -0.8556328435345957,
          0.41913087940142013,
          -0.35323768409171563,
          1.0702506121182342,
          -1.1916818045776487,
          -0.1925503665005978,
          -0.877017495740593,
          -0.823621667252424,
          -1.3373927643971992,
          -0.6974293794909958,
          -0.941557903733586,
          0.4734217251518457,
          1.760748122282674,
          -0.05527878596913308,
          -1.0481418298737724,
          -1.5224723426836864,
          -0.5445950686677371,
          -1.018327795899508,
          -1.6454156901822734,
          -1.0439229011320366,
          1.226138672249239,
          1.648029568633649,
          1.6132974530492734,
          -0.4729133085871159,
          -0.3224150454961992,
          0.12450040090001759,
          -1.4789057463124318,
          -0.03375216725478918,
          1.5198674300593413,
          -0.7337586002507553,
          1.0376640654837075,
          0.5459608141126524,
          0.5766045985211756,
          0.1707602039956786,
          0.5665018422576403
         ],
         "xaxis": "x11",
         "yaxis": "y11"
        },
        {
         "line": {
          "color": "rgba(128, 128, 128, 1.0)",
          "dash": "solid",
          "shape": "linear",
          "width": 1.3
         },
         "marker": {
          "size": 2,
          "symbol": "circle"
         },
         "mode": "markers",
         "name": "C",
         "text": "",
         "type": "scatter",
         "x": [
          -1.3586555500283932,
          -1.1387743176844167,
          0.48169938159576325,
          0.6764372067302944,
          1.1268266747347202,
          0.6057252710507862,
          -0.7513219741686743,
          0.005702313957507184,
          1.4308791760663617,
          1.2005966764227556,
          -0.9875278942485363,
          0.5808660913976754,
          1.4287941005077174,
          0.4620702301387893,
          1.0572734196064548,
          -1.1002913127709155,
          -0.1315515667924692,
          -1.1392566067659655,
          0.07229281640598588,
          -0.5333057149292395,
          0.5816100203393103,
          1.306026153751653,
          1.0195678806161312,
          0.2888420412161623,
          -0.4433382139973612,
          -0.3454345344832595,
          0.35534312460924733,
          -0.43117020195967376,
          -1.5045558829863606,
          -0.1815616314116132,
          -0.4368063742518326,
          -0.22620381140298199,
          0.08720459040528854,
          0.5678243149791222,
          0.5881222446895752,
          0.7480451633782648,
          -1.32794689771268,
          -0.3778143059967874,
          0.16147452672508367,
          0.06410447160154711,
          -0.379738719597055,
          0.39967835730081835,
          0.14216477357882099,
          0.5571022162046607,
          -1.231042034691143,
          0.17497112618671276,
          -0.23977151229832572,
          0.3895289261776583,
          -0.25526591619421546,
          -0.19963109923025427,
          1.1232157056995562,
          -1.3454744427361949,
          -0.9443758475972888,
          0.10462002783908171,
          -0.21414108255498263,
          -0.013631441599426721,
          0.25542382679462305,
          -0.042489116778872876,
          2.223297765291669,
          1.4438772399384525,
          0.3357163929448841,
          1.2836072157745464,
          1.5871881561554102,
          1.3498649620194312,
          -0.1950754533526257,
          -0.3423773505787837,
          1.205801770483136,
          -1.4535643076134128,
          -0.11707550596919053,
          -0.07076833743694082,
          0.05183565834795385,
          -0.6962317336833402,
          -0.2965689315021597,
          -0.4802740478324376,
          1.6212754882155525,
          -0.6149308986561066,
          0.14122511601298043,
          -1.4253659454394587,
          -0.16682763283868907,
          -0.2522594661264877,
          0.6016714218645476,
          2.431213897315591,
          1.4180976108862766,
          1.4556917676318628,
          -0.4258864761956951,
          0.6942935605645597,
          0.8682132087462273,
          0.038312944846510065,
          0.26163123834069224,
          0.3408182247581353,
          2.1254219393308467,
          -0.15326156703769878,
          0.5757955269280755,
          2.017680954544086,
          -0.6816594733685633,
          0.011130112560700777,
          0.8960972114035543,
          -0.6479458737519347,
          -0.6154386787320508,
          -0.5344839718555876
         ],
         "xaxis": "x12",
         "y": [
          1.0018795416454491,
          -2.337390086103986,
          -0.4232539974018757,
          -1.8969316747463965,
          0.7998081641187528,
          -0.3661949850561008,
          -1.0181639947152596,
          -0.11585982965963165,
          0.8472399266545323,
          0.43788030425939717,
          -0.663764784381059,
          -0.7337123337610191,
          1.4548197863516765,
          -0.42418631146704205,
          -0.2545716351889039,
          0.5366989835326802,
          0.36605335363143343,
          -1.4143036007630514,
          1.5221013213507886,
          0.7791456306917478,
          0.23025246545213834,
          -1.8638969248337085,
          -1.6884893644211625,
          -0.045487154963125165,
          -0.801121406292604,
          0.0547559143145917,
          0.545183512897039,
          -0.724015990081383,
          0.06573202885491526,
          1.6498167190416173,
          0.6533000011435984,
          -0.5587155424933851,
          -1.7109782094864845,
          2.203279978897059,
          -1.2458021051215071,
          0.7884115134544288,
          -2.1775179047299407,
          -1.2627256229473947,
          1.8817286080299984,
          0.4368373756387097,
          1.7706549361056712,
          0.6526038916660498,
          -0.32547051254043496,
          0.5741831449609582,
          -2.043115613867004,
          0.15453730277501193,
          -0.6087453202889653,
          0.8695799883309445,
          -0.8609126079247554,
          0.9312292205742623,
          0.9033553738916221,
          -1.8349477525385487,
          0.05234757707374364,
          -0.07264521518900441,
          -2.289836482394134,
          -1.6493967640659406,
          -0.482197393675575,
          -1.1391850183853196,
          0.27952172855246427,
          -0.24730382546811683,
          1.4330576241904138,
          1.052331922367535,
          0.13068002155250746,
          -0.607376113375024,
          0.3910918792553487,
          -0.8556328435345957,
          0.41913087940142013,
          -0.35323768409171563,
          1.0702506121182342,
          -1.1916818045776487,
          -0.1925503665005978,
          -0.877017495740593,
          -0.823621667252424,
          -1.3373927643971992,
          -0.6974293794909958,
          -0.941557903733586,
          0.4734217251518457,
          1.760748122282674,
          -0.05527878596913308,
          -1.0481418298737724,
          -1.5224723426836864,
          -0.5445950686677371,
          -1.018327795899508,
          -1.6454156901822734,
          -1.0439229011320366,
          1.226138672249239,
          1.648029568633649,
          1.6132974530492734,
          -0.4729133085871159,
          -0.3224150454961992,
          0.12450040090001759,
          -1.4789057463124318,
          -0.03375216725478918,
          1.5198674300593413,
          -0.7337586002507553,
          1.0376640654837075,
          0.5459608141126524,
          0.5766045985211756,
          0.1707602039956786,
          0.5665018422576403
         ],
         "yaxis": "y12"
        },
        {
         "line": {
          "color": "rgba(128, 128, 128, 1.0)",
          "dash": "solid",
          "shape": "linear",
          "width": 1.3
         },
         "marker": {
          "size": 2,
          "symbol": "circle"
         },
         "mode": "markers",
         "name": "D",
         "text": "",
         "type": "scatter",
         "x": [
          -0.5834753383517299,
          -0.17406211351662937,
          0.3060879792029995,
          -0.9534093278803556,
          0.3335305517157785,
          -0.97208229715675,
          0.773922882267899,
          1.4949271133171107,
          0.8367814978013194,
          0.08308209603773245,
          1.182761740458536,
          0.49774685820127185,
          0.14198467055805747,
          -1.1355453476946098,
          1.011619431731822,
          -0.6353426447605321,
          -0.5424144198586475,
          -1.5756694152563402,
          1.2337366847436115,
          0.11368435771078347,
          -1.8603332979892468,
          -0.37908290090239266,
          -2.3952188064783204,
          0.8877427257916617,
          -0.7115630132230167,
          -1.9603833676408622,
          -0.28727568692696054,
          -1.1266536274403456,
          1.1008068413241312,
          0.9886964497727425,
          -0.5102809461243386,
          -0.26700043460695194,
          0.9015877446659447,
          -0.21081646226019637,
          2.7208289305974653,
          0.1416432945420239,
          0.04999158259603204,
          -0.5592081595503431,
          0.45281455512608043,
          -0.47627645727787193,
          1.207059439612465,
          0.4777022075082107,
          -1.026931705617259,
          -0.09326720728713248,
          -2.4491799906079867,
          -0.9669689841078734,
          0.39843192202660516,
          -1.601682430692205,
          -0.09730257947951387,
          0.705339489766667,
          -0.6885982039996992,
          0.6473742218943702,
          1.0899943898808402,
          -0.3672553912402756,
          0.3987603976761634,
          -0.19251739749906915,
          -0.6650279548408881,
          0.1609926421761508,
          0.5130893323136226,
          0.40379560486445404,
          1.5089011416060847,
          0.9171065596968837,
          -0.8461891366811787,
          1.0164246921459297,
          0.6682311222058028,
          -0.11500234092630772,
          1.5242086731479125,
          1.1030176443205182,
          -0.18787103995561596,
          -1.3538512726051395,
          0.8253066278166783,
          -0.3119693363687069,
          0.21814712315537818,
          -0.0735611122243912,
          -0.028292622673684212,
          -1.1577550791690683,
          1.3129945490002852,
          0.4300996259364016,
          -1.2300531873215208,
          0.2321272415931786,
          0.37983972009769645,
          -0.48843454037353673,
          -0.44977945445042544,
          1.6926048669377491,
          1.5476340525379164,
          0.9038064089580464,
          0.34345404520601236,
          -0.3738001536190124,
          1.0211207868093704,
          0.9146321683636861,
          -0.518458729915045,
          -1.2156051542720545,
          0.6405558740080012,
          -1.5203730953554544,
          0.23280630549747244,
          -1.2106399353868293,
          0.2511404517840312,
          1.66809342037484,
          -0.3742517195980744,
          -1.2245820489080763
         ],
         "xaxis": "x13",
         "y": [
          -1.3586555500283932,
          -1.1387743176844167,
          0.48169938159576325,
          0.6764372067302944,
          1.1268266747347202,
          0.6057252710507862,
          -0.7513219741686743,
          0.005702313957507184,
          1.4308791760663617,
          1.2005966764227556,
          -0.9875278942485363,
          0.5808660913976754,
          1.4287941005077174,
          0.4620702301387893,
          1.0572734196064548,
          -1.1002913127709155,
          -0.1315515667924692,
          -1.1392566067659655,
          0.07229281640598588,
          -0.5333057149292395,
          0.5816100203393103,
          1.306026153751653,
          1.0195678806161312,
          0.2888420412161623,
          -0.4433382139973612,
          -0.3454345344832595,
          0.35534312460924733,
          -0.43117020195967376,
          -1.5045558829863606,
          -0.1815616314116132,
          -0.4368063742518326,
          -0.22620381140298199,
          0.08720459040528854,
          0.5678243149791222,
          0.5881222446895752,
          0.7480451633782648,
          -1.32794689771268,
          -0.3778143059967874,
          0.16147452672508367,
          0.06410447160154711,
          -0.379738719597055,
          0.39967835730081835,
          0.14216477357882099,
          0.5571022162046607,
          -1.231042034691143,
          0.17497112618671276,
          -0.23977151229832572,
          0.3895289261776583,
          -0.25526591619421546,
          -0.19963109923025427,
          1.1232157056995562,
          -1.3454744427361949,
          -0.9443758475972888,
          0.10462002783908171,
          -0.21414108255498263,
          -0.013631441599426721,
          0.25542382679462305,
          -0.042489116778872876,
          2.223297765291669,
          1.4438772399384525,
          0.3357163929448841,
          1.2836072157745464,
          1.5871881561554102,
          1.3498649620194312,
          -0.1950754533526257,
          -0.3423773505787837,
          1.205801770483136,
          -1.4535643076134128,
          -0.11707550596919053,
          -0.07076833743694082,
          0.05183565834795385,
          -0.6962317336833402,
          -0.2965689315021597,
          -0.4802740478324376,
          1.6212754882155525,
          -0.6149308986561066,
          0.14122511601298043,
          -1.4253659454394587,
          -0.16682763283868907,
          -0.2522594661264877,
          0.6016714218645476,
          2.431213897315591,
          1.4180976108862766,
          1.4556917676318628,
          -0.4258864761956951,
          0.6942935605645597,
          0.8682132087462273,
          0.038312944846510065,
          0.26163123834069224,
          0.3408182247581353,
          2.1254219393308467,
          -0.15326156703769878,
          0.5757955269280755,
          2.017680954544086,
          -0.6816594733685633,
          0.011130112560700777,
          0.8960972114035543,
          -0.6479458737519347,
          -0.6154386787320508,
          -0.5344839718555876
         ],
         "yaxis": "y13"
        },
        {
         "line": {
          "color": "rgba(128, 128, 128, 1.0)",
          "dash": "solid",
          "shape": "linear",
          "width": 1.3
         },
         "marker": {
          "size": 2,
          "symbol": "circle"
         },
         "mode": "markers",
         "name": "D",
         "text": "",
         "type": "scatter",
         "x": [
          -1.3758072804282802,
          -2.0166423275795045,
          -0.1338910600221726,
          -0.5820663677732987,
          0.9712282596893289,
          0.04856414782439493,
          -1.6446518762072733,
          -0.9421467336068651,
          0.21954059186296845,
          0.36807439477449627,
          -0.3654460240432651,
          -0.8881757488822261,
          1.1359574308252038,
          1.784248095321167,
          -2.230174327763357,
          -0.9096345705300771,
          0.058131826476081325,
          0.49564915635896856,
          0.9955580219566825,
          0.9416554478215717,
          0.501777796879372,
          0.5832116202465111,
          0.07587249397032425,
          -1.3196824810937708,
          0.4830791708975699,
          -1.374253540092365,
          -0.5760286311195967,
          0.7116952836336254,
          -0.3114529511132174,
          -0.4000450842140983,
          0.04992534906556205,
          1.954807728032101,
          0.13171389071864884,
          -0.033496919366209084,
          -0.49088708243273443,
          -0.32917951662922473,
          -0.6357922655639845,
          0.01910882388183459,
          0.6605981182143601,
          0.2871073718275956,
          -0.7967523017727124,
          1.2749217387718361,
          -1.0184090272611115,
          -0.30776517663371084,
          -1.3835687056089345,
          -0.9589418851101955,
          0.8388110623238367,
          -0.8262275451330596,
          -1.8834577989862957,
          0.5672824330131843,
          1.5196434832141326,
          -0.9864345081943736,
          -0.09831683886884271,
          -0.4837052077847503,
          1.2148627172318998,
          -0.8692477403189863,
          -2.145542147953029,
          -1.026863204622045,
          0.5759905082069539,
          -0.08525962897285295,
          0.1994816415925022,
          0.29053581455171307,
          1.6111189999118847,
          -0.8918623381139243,
          0.757880123902853,
          -0.9228502119583749,
          0.2614246572476863,
          -1.4678941893578006,
          -1.7208349749814054,
          -1.188026523351157,
          -1.3120013569153754,
          -0.26774879333661716,
          -0.8918948740304229,
          -1.8768343945216002,
          0.5804338332708612,
          -0.506169023116886,
          -0.25771991196350186,
          -1.891780200402067,
          -0.90439014692466,
          -0.6309894908570972,
          -2.07726520770258,
          0.44560260665169893,
          0.36344301847922245,
          -0.9338476374001575,
          -0.7805318229279821,
          -1.4284991217257477,
          -1.5086579661524255,
          -0.01569096789541602,
          -2.1206884425801995,
          -1.971641489490636,
          -0.16318933968466018,
          0.26430296290179456,
          -0.9783848110025019,
          -0.8944221474552131,
          0.4463550575217183,
          0.9586322265346929,
          -0.5716261211754448,
          0.9428186601187796,
          -1.6636587907084162,
          -0.14151351627318537
         ],
         "xaxis": "x14",
         "y": [
          -1.3586555500283932,
          -1.1387743176844167,
          0.48169938159576325,
          0.6764372067302944,
          1.1268266747347202,
          0.6057252710507862,
          -0.7513219741686743,
          0.005702313957507184,
          1.4308791760663617,
          1.2005966764227556,
          -0.9875278942485363,
          0.5808660913976754,
          1.4287941005077174,
          0.4620702301387893,
          1.0572734196064548,
          -1.1002913127709155,
          -0.1315515667924692,
          -1.1392566067659655,
          0.07229281640598588,
          -0.5333057149292395,
          0.5816100203393103,
          1.306026153751653,
          1.0195678806161312,
          0.2888420412161623,
          -0.4433382139973612,
          -0.3454345344832595,
          0.35534312460924733,
          -0.43117020195967376,
          -1.5045558829863606,
          -0.1815616314116132,
          -0.4368063742518326,
          -0.22620381140298199,
          0.08720459040528854,
          0.5678243149791222,
          0.5881222446895752,
          0.7480451633782648,
          -1.32794689771268,
          -0.3778143059967874,
          0.16147452672508367,
          0.06410447160154711,
          -0.379738719597055,
          0.39967835730081835,
          0.14216477357882099,
          0.5571022162046607,
          -1.231042034691143,
          0.17497112618671276,
          -0.23977151229832572,
          0.3895289261776583,
          -0.25526591619421546,
          -0.19963109923025427,
          1.1232157056995562,
          -1.3454744427361949,
          -0.9443758475972888,
          0.10462002783908171,
          -0.21414108255498263,
          -0.013631441599426721,
          0.25542382679462305,
          -0.042489116778872876,
          2.223297765291669,
          1.4438772399384525,
          0.3357163929448841,
          1.2836072157745464,
          1.5871881561554102,
          1.3498649620194312,
          -0.1950754533526257,
          -0.3423773505787837,
          1.205801770483136,
          -1.4535643076134128,
          -0.11707550596919053,
          -0.07076833743694082,
          0.05183565834795385,
          -0.6962317336833402,
          -0.2965689315021597,
          -0.4802740478324376,
          1.6212754882155525,
          -0.6149308986561066,
          0.14122511601298043,
          -1.4253659454394587,
          -0.16682763283868907,
          -0.2522594661264877,
          0.6016714218645476,
          2.431213897315591,
          1.4180976108862766,
          1.4556917676318628,
          -0.4258864761956951,
          0.6942935605645597,
          0.8682132087462273,
          0.038312944846510065,
          0.26163123834069224,
          0.3408182247581353,
          2.1254219393308467,
          -0.15326156703769878,
          0.5757955269280755,
          2.017680954544086,
          -0.6816594733685633,
          0.011130112560700777,
          0.8960972114035543,
          -0.6479458737519347,
          -0.6154386787320508,
          -0.5344839718555876
         ],
         "yaxis": "y14"
        },
        {
         "line": {
          "color": "rgba(128, 128, 128, 1.0)",
          "dash": "solid",
          "shape": "linear",
          "width": 1.3
         },
         "marker": {
          "size": 2,
          "symbol": "circle"
         },
         "mode": "markers",
         "name": "D",
         "text": "",
         "type": "scatter",
         "x": [
          1.0018795416454491,
          -2.337390086103986,
          -0.4232539974018757,
          -1.8969316747463965,
          0.7998081641187528,
          -0.3661949850561008,
          -1.0181639947152596,
          -0.11585982965963165,
          0.8472399266545323,
          0.43788030425939717,
          -0.663764784381059,
          -0.7337123337610191,
          1.4548197863516765,
          -0.42418631146704205,
          -0.2545716351889039,
          0.5366989835326802,
          0.36605335363143343,
          -1.4143036007630514,
          1.5221013213507886,
          0.7791456306917478,
          0.23025246545213834,
          -1.8638969248337085,
          -1.6884893644211625,
          -0.045487154963125165,
          -0.801121406292604,
          0.0547559143145917,
          0.545183512897039,
          -0.724015990081383,
          0.06573202885491526,
          1.6498167190416173,
          0.6533000011435984,
          -0.5587155424933851,
          -1.7109782094864845,
          2.203279978897059,
          -1.2458021051215071,
          0.7884115134544288,
          -2.1775179047299407,
          -1.2627256229473947,
          1.8817286080299984,
          0.4368373756387097,
          1.7706549361056712,
          0.6526038916660498,
          -0.32547051254043496,
          0.5741831449609582,
          -2.043115613867004,
          0.15453730277501193,
          -0.6087453202889653,
          0.8695799883309445,
          -0.8609126079247554,
          0.9312292205742623,
          0.9033553738916221,
          -1.8349477525385487,
          0.05234757707374364,
          -0.07264521518900441,
          -2.289836482394134,
          -1.6493967640659406,
          -0.482197393675575,
          -1.1391850183853196,
          0.27952172855246427,
          -0.24730382546811683,
          1.4330576241904138,
          1.052331922367535,
          0.13068002155250746,
          -0.607376113375024,
          0.3910918792553487,
          -0.8556328435345957,
          0.41913087940142013,
          -0.35323768409171563,
          1.0702506121182342,
          -1.1916818045776487,
          -0.1925503665005978,
          -0.877017495740593,
          -0.823621667252424,
          -1.3373927643971992,
          -0.6974293794909958,
          -0.941557903733586,
          0.4734217251518457,
          1.760748122282674,
          -0.05527878596913308,
          -1.0481418298737724,
          -1.5224723426836864,
          -0.5445950686677371,
          -1.018327795899508,
          -1.6454156901822734,
          -1.0439229011320366,
          1.226138672249239,
          1.648029568633649,
          1.6132974530492734,
          -0.4729133085871159,
          -0.3224150454961992,
          0.12450040090001759,
          -1.4789057463124318,
          -0.03375216725478918,
          1.5198674300593413,
          -0.7337586002507553,
          1.0376640654837075,
          0.5459608141126524,
          0.5766045985211756,
          0.1707602039956786,
          0.5665018422576403
         ],
         "xaxis": "x15",
         "y": [
          -1.3586555500283932,
          -1.1387743176844167,
          0.48169938159576325,
          0.6764372067302944,
          1.1268266747347202,
          0.6057252710507862,
          -0.7513219741686743,
          0.005702313957507184,
          1.4308791760663617,
          1.2005966764227556,
          -0.9875278942485363,
          0.5808660913976754,
          1.4287941005077174,
          0.4620702301387893,
          1.0572734196064548,
          -1.1002913127709155,
          -0.1315515667924692,
          -1.1392566067659655,
          0.07229281640598588,
          -0.5333057149292395,
          0.5816100203393103,
          1.306026153751653,
          1.0195678806161312,
          0.2888420412161623,
          -0.4433382139973612,
          -0.3454345344832595,
          0.35534312460924733,
          -0.43117020195967376,
          -1.5045558829863606,
          -0.1815616314116132,
          -0.4368063742518326,
          -0.22620381140298199,
          0.08720459040528854,
          0.5678243149791222,
          0.5881222446895752,
          0.7480451633782648,
          -1.32794689771268,
          -0.3778143059967874,
          0.16147452672508367,
          0.06410447160154711,
          -0.379738719597055,
          0.39967835730081835,
          0.14216477357882099,
          0.5571022162046607,
          -1.231042034691143,
          0.17497112618671276,
          -0.23977151229832572,
          0.3895289261776583,
          -0.25526591619421546,
          -0.19963109923025427,
          1.1232157056995562,
          -1.3454744427361949,
          -0.9443758475972888,
          0.10462002783908171,
          -0.21414108255498263,
          -0.013631441599426721,
          0.25542382679462305,
          -0.042489116778872876,
          2.223297765291669,
          1.4438772399384525,
          0.3357163929448841,
          1.2836072157745464,
          1.5871881561554102,
          1.3498649620194312,
          -0.1950754533526257,
          -0.3423773505787837,
          1.205801770483136,
          -1.4535643076134128,
          -0.11707550596919053,
          -0.07076833743694082,
          0.05183565834795385,
          -0.6962317336833402,
          -0.2965689315021597,
          -0.4802740478324376,
          1.6212754882155525,
          -0.6149308986561066,
          0.14122511601298043,
          -1.4253659454394587,
          -0.16682763283868907,
          -0.2522594661264877,
          0.6016714218645476,
          2.431213897315591,
          1.4180976108862766,
          1.4556917676318628,
          -0.4258864761956951,
          0.6942935605645597,
          0.8682132087462273,
          0.038312944846510065,
          0.26163123834069224,
          0.3408182247581353,
          2.1254219393308467,
          -0.15326156703769878,
          0.5757955269280755,
          2.017680954544086,
          -0.6816594733685633,
          0.011130112560700777,
          0.8960972114035543,
          -0.6479458737519347,
          -0.6154386787320508,
          -0.5344839718555876
         ],
         "yaxis": "y15"
        },
        {
         "histfunc": "count",
         "histnorm": "",
         "marker": {
          "color": "rgba(128, 0, 128, 1.0)",
          "line": {
           "color": "#4D5663",
           "width": 1.3
          }
         },
         "name": "D",
         "nbinsx": 10,
         "opacity": 0.8,
         "orientation": "v",
         "type": "histogram",
         "x": [
          -1.3586555500283932,
          -1.1387743176844167,
          0.48169938159576325,
          0.6764372067302944,
          1.1268266747347202,
          0.6057252710507862,
          -0.7513219741686743,
          0.005702313957507184,
          1.4308791760663617,
          1.2005966764227556,
          -0.9875278942485363,
          0.5808660913976754,
          1.4287941005077174,
          0.4620702301387893,
          1.0572734196064548,
          -1.1002913127709155,
          -0.1315515667924692,
          -1.1392566067659655,
          0.07229281640598588,
          -0.5333057149292395,
          0.5816100203393103,
          1.306026153751653,
          1.0195678806161312,
          0.2888420412161623,
          -0.4433382139973612,
          -0.3454345344832595,
          0.35534312460924733,
          -0.43117020195967376,
          -1.5045558829863606,
          -0.1815616314116132,
          -0.4368063742518326,
          -0.22620381140298199,
          0.08720459040528854,
          0.5678243149791222,
          0.5881222446895752,
          0.7480451633782648,
          -1.32794689771268,
          -0.3778143059967874,
          0.16147452672508367,
          0.06410447160154711,
          -0.379738719597055,
          0.39967835730081835,
          0.14216477357882099,
          0.5571022162046607,
          -1.231042034691143,
          0.17497112618671276,
          -0.23977151229832572,
          0.3895289261776583,
          -0.25526591619421546,
          -0.19963109923025427,
          1.1232157056995562,
          -1.3454744427361949,
          -0.9443758475972888,
          0.10462002783908171,
          -0.21414108255498263,
          -0.013631441599426721,
          0.25542382679462305,
          -0.042489116778872876,
          2.223297765291669,
          1.4438772399384525,
          0.3357163929448841,
          1.2836072157745464,
          1.5871881561554102,
          1.3498649620194312,
          -0.1950754533526257,
          -0.3423773505787837,
          1.205801770483136,
          -1.4535643076134128,
          -0.11707550596919053,
          -0.07076833743694082,
          0.05183565834795385,
          -0.6962317336833402,
          -0.2965689315021597,
          -0.4802740478324376,
          1.6212754882155525,
          -0.6149308986561066,
          0.14122511601298043,
          -1.4253659454394587,
          -0.16682763283868907,
          -0.2522594661264877,
          0.6016714218645476,
          2.431213897315591,
          1.4180976108862766,
          1.4556917676318628,
          -0.4258864761956951,
          0.6942935605645597,
          0.8682132087462273,
          0.038312944846510065,
          0.26163123834069224,
          0.3408182247581353,
          2.1254219393308467,
          -0.15326156703769878,
          0.5757955269280755,
          2.017680954544086,
          -0.6816594733685633,
          0.011130112560700777,
          0.8960972114035543,
          -0.6479458737519347,
          -0.6154386787320508,
          -0.5344839718555876
         ],
         "xaxis": "x16",
         "yaxis": "y16"
        }
       ],
       "layout": {
        "bargap": 0.02,
        "legend": {
         "bgcolor": "#F5F6F9",
         "font": {
          "color": "#4D5663"
         }
        },
        "paper_bgcolor": "#F5F6F9",
        "plot_bgcolor": "#F5F6F9",
        "showlegend": false,
        "template": {
         "data": {
          "bar": [
           {
            "error_x": {
             "color": "#2a3f5f"
            },
            "error_y": {
             "color": "#2a3f5f"
            },
            "marker": {
             "line": {
              "color": "#E5ECF6",
              "width": 0.5
             }
            },
            "type": "bar"
           }
          ],
          "barpolar": [
           {
            "marker": {
             "line": {
              "color": "#E5ECF6",
              "width": 0.5
             }
            },
            "type": "barpolar"
           }
          ],
          "carpet": [
           {
            "aaxis": {
             "endlinecolor": "#2a3f5f",
             "gridcolor": "white",
             "linecolor": "white",
             "minorgridcolor": "white",
             "startlinecolor": "#2a3f5f"
            },
            "baxis": {
             "endlinecolor": "#2a3f5f",
             "gridcolor": "white",
             "linecolor": "white",
             "minorgridcolor": "white",
             "startlinecolor": "#2a3f5f"
            },
            "type": "carpet"
           }
          ],
          "choropleth": [
           {
            "colorbar": {
             "outlinewidth": 0,
             "ticks": ""
            },
            "type": "choropleth"
           }
          ],
          "contour": [
           {
            "colorbar": {
             "outlinewidth": 0,
             "ticks": ""
            },
            "colorscale": [
             [
              0,
              "#0d0887"
             ],
             [
              0.1111111111111111,
              "#46039f"
             ],
             [
              0.2222222222222222,
              "#7201a8"
             ],
             [
              0.3333333333333333,
              "#9c179e"
             ],
             [
              0.4444444444444444,
              "#bd3786"
             ],
             [
              0.5555555555555556,
              "#d8576b"
             ],
             [
              0.6666666666666666,
              "#ed7953"
             ],
             [
              0.7777777777777778,
              "#fb9f3a"
             ],
             [
              0.8888888888888888,
              "#fdca26"
             ],
             [
              1,
              "#f0f921"
             ]
            ],
            "type": "contour"
           }
          ],
          "contourcarpet": [
           {
            "colorbar": {
             "outlinewidth": 0,
             "ticks": ""
            },
            "type": "contourcarpet"
           }
          ],
          "heatmap": [
           {
            "colorbar": {
             "outlinewidth": 0,
             "ticks": ""
            },
            "colorscale": [
             [
              0,
              "#0d0887"
             ],
             [
              0.1111111111111111,
              "#46039f"
             ],
             [
              0.2222222222222222,
              "#7201a8"
             ],
             [
              0.3333333333333333,
              "#9c179e"
             ],
             [
              0.4444444444444444,
              "#bd3786"
             ],
             [
              0.5555555555555556,
              "#d8576b"
             ],
             [
              0.6666666666666666,
              "#ed7953"
             ],
             [
              0.7777777777777778,
              "#fb9f3a"
             ],
             [
              0.8888888888888888,
              "#fdca26"
             ],
             [
              1,
              "#f0f921"
             ]
            ],
            "type": "heatmap"
           }
          ],
          "heatmapgl": [
           {
            "colorbar": {
             "outlinewidth": 0,
             "ticks": ""
            },
            "colorscale": [
             [
              0,
              "#0d0887"
             ],
             [
              0.1111111111111111,
              "#46039f"
             ],
             [
              0.2222222222222222,
              "#7201a8"
             ],
             [
              0.3333333333333333,
              "#9c179e"
             ],
             [
              0.4444444444444444,
              "#bd3786"
             ],
             [
              0.5555555555555556,
              "#d8576b"
             ],
             [
              0.6666666666666666,
              "#ed7953"
             ],
             [
              0.7777777777777778,
              "#fb9f3a"
             ],
             [
              0.8888888888888888,
              "#fdca26"
             ],
             [
              1,
              "#f0f921"
             ]
            ],
            "type": "heatmapgl"
           }
          ],
          "histogram": [
           {
            "marker": {
             "colorbar": {
              "outlinewidth": 0,
              "ticks": ""
             }
            },
            "type": "histogram"
           }
          ],
          "histogram2d": [
           {
            "colorbar": {
             "outlinewidth": 0,
             "ticks": ""
            },
            "colorscale": [
             [
              0,
              "#0d0887"
             ],
             [
              0.1111111111111111,
              "#46039f"
             ],
             [
              0.2222222222222222,
              "#7201a8"
             ],
             [
              0.3333333333333333,
              "#9c179e"
             ],
             [
              0.4444444444444444,
              "#bd3786"
             ],
             [
              0.5555555555555556,
              "#d8576b"
             ],
             [
              0.6666666666666666,
              "#ed7953"
             ],
             [
              0.7777777777777778,
              "#fb9f3a"
             ],
             [
              0.8888888888888888,
              "#fdca26"
             ],
             [
              1,
              "#f0f921"
             ]
            ],
            "type": "histogram2d"
           }
          ],
          "histogram2dcontour": [
           {
            "colorbar": {
             "outlinewidth": 0,
             "ticks": ""
            },
            "colorscale": [
             [
              0,
              "#0d0887"
             ],
             [
              0.1111111111111111,
              "#46039f"
             ],
             [
              0.2222222222222222,
              "#7201a8"
             ],
             [
              0.3333333333333333,
              "#9c179e"
             ],
             [
              0.4444444444444444,
              "#bd3786"
             ],
             [
              0.5555555555555556,
              "#d8576b"
             ],
             [
              0.6666666666666666,
              "#ed7953"
             ],
             [
              0.7777777777777778,
              "#fb9f3a"
             ],
             [
              0.8888888888888888,
              "#fdca26"
             ],
             [
              1,
              "#f0f921"
             ]
            ],
            "type": "histogram2dcontour"
           }
          ],
          "mesh3d": [
           {
            "colorbar": {
             "outlinewidth": 0,
             "ticks": ""
            },
            "type": "mesh3d"
           }
          ],
          "parcoords": [
           {
            "line": {
             "colorbar": {
              "outlinewidth": 0,
              "ticks": ""
             }
            },
            "type": "parcoords"
           }
          ],
          "pie": [
           {
            "automargin": true,
            "type": "pie"
           }
          ],
          "scatter": [
           {
            "marker": {
             "colorbar": {
              "outlinewidth": 0,
              "ticks": ""
             }
            },
            "type": "scatter"
           }
          ],
          "scatter3d": [
           {
            "line": {
             "colorbar": {
              "outlinewidth": 0,
              "ticks": ""
             }
            },
            "marker": {
             "colorbar": {
              "outlinewidth": 0,
              "ticks": ""
             }
            },
            "type": "scatter3d"
           }
          ],
          "scattercarpet": [
           {
            "marker": {
             "colorbar": {
              "outlinewidth": 0,
              "ticks": ""
             }
            },
            "type": "scattercarpet"
           }
          ],
          "scattergeo": [
           {
            "marker": {
             "colorbar": {
              "outlinewidth": 0,
              "ticks": ""
             }
            },
            "type": "scattergeo"
           }
          ],
          "scattergl": [
           {
            "marker": {
             "colorbar": {
              "outlinewidth": 0,
              "ticks": ""
             }
            },
            "type": "scattergl"
           }
          ],
          "scattermapbox": [
           {
            "marker": {
             "colorbar": {
              "outlinewidth": 0,
              "ticks": ""
             }
            },
            "type": "scattermapbox"
           }
          ],
          "scatterpolar": [
           {
            "marker": {
             "colorbar": {
              "outlinewidth": 0,
              "ticks": ""
             }
            },
            "type": "scatterpolar"
           }
          ],
          "scatterpolargl": [
           {
            "marker": {
             "colorbar": {
              "outlinewidth": 0,
              "ticks": ""
             }
            },
            "type": "scatterpolargl"
           }
          ],
          "scatterternary": [
           {
            "marker": {
             "colorbar": {
              "outlinewidth": 0,
              "ticks": ""
             }
            },
            "type": "scatterternary"
           }
          ],
          "surface": [
           {
            "colorbar": {
             "outlinewidth": 0,
             "ticks": ""
            },
            "colorscale": [
             [
              0,
              "#0d0887"
             ],
             [
              0.1111111111111111,
              "#46039f"
             ],
             [
              0.2222222222222222,
              "#7201a8"
             ],
             [
              0.3333333333333333,
              "#9c179e"
             ],
             [
              0.4444444444444444,
              "#bd3786"
             ],
             [
              0.5555555555555556,
              "#d8576b"
             ],
             [
              0.6666666666666666,
              "#ed7953"
             ],
             [
              0.7777777777777778,
              "#fb9f3a"
             ],
             [
              0.8888888888888888,
              "#fdca26"
             ],
             [
              1,
              "#f0f921"
             ]
            ],
            "type": "surface"
           }
          ],
          "table": [
           {
            "cells": {
             "fill": {
              "color": "#EBF0F8"
             },
             "line": {
              "color": "white"
             }
            },
            "header": {
             "fill": {
              "color": "#C8D4E3"
             },
             "line": {
              "color": "white"
             }
            },
            "type": "table"
           }
          ]
         },
         "layout": {
          "annotationdefaults": {
           "arrowcolor": "#2a3f5f",
           "arrowhead": 0,
           "arrowwidth": 1
          },
          "autotypenumbers": "strict",
          "coloraxis": {
           "colorbar": {
            "outlinewidth": 0,
            "ticks": ""
           }
          },
          "colorscale": {
           "diverging": [
            [
             0,
             "#8e0152"
            ],
            [
             0.1,
             "#c51b7d"
            ],
            [
             0.2,
             "#de77ae"
            ],
            [
             0.3,
             "#f1b6da"
            ],
            [
             0.4,
             "#fde0ef"
            ],
            [
             0.5,
             "#f7f7f7"
            ],
            [
             0.6,
             "#e6f5d0"
            ],
            [
             0.7,
             "#b8e186"
            ],
            [
             0.8,
             "#7fbc41"
            ],
            [
             0.9,
             "#4d9221"
            ],
            [
             1,
             "#276419"
            ]
           ],
           "sequential": [
            [
             0,
             "#0d0887"
            ],
            [
             0.1111111111111111,
             "#46039f"
            ],
            [
             0.2222222222222222,
             "#7201a8"
            ],
            [
             0.3333333333333333,
             "#9c179e"
            ],
            [
             0.4444444444444444,
             "#bd3786"
            ],
            [
             0.5555555555555556,
             "#d8576b"
            ],
            [
             0.6666666666666666,
             "#ed7953"
            ],
            [
             0.7777777777777778,
             "#fb9f3a"
            ],
            [
             0.8888888888888888,
             "#fdca26"
            ],
            [
             1,
             "#f0f921"
            ]
           ],
           "sequentialminus": [
            [
             0,
             "#0d0887"
            ],
            [
             0.1111111111111111,
             "#46039f"
            ],
            [
             0.2222222222222222,
             "#7201a8"
            ],
            [
             0.3333333333333333,
             "#9c179e"
            ],
            [
             0.4444444444444444,
             "#bd3786"
            ],
            [
             0.5555555555555556,
             "#d8576b"
            ],
            [
             0.6666666666666666,
             "#ed7953"
            ],
            [
             0.7777777777777778,
             "#fb9f3a"
            ],
            [
             0.8888888888888888,
             "#fdca26"
            ],
            [
             1,
             "#f0f921"
            ]
           ]
          },
          "colorway": [
           "#636efa",
           "#EF553B",
           "#00cc96",
           "#ab63fa",
           "#FFA15A",
           "#19d3f3",
           "#FF6692",
           "#B6E880",
           "#FF97FF",
           "#FECB52"
          ],
          "font": {
           "color": "#2a3f5f"
          },
          "geo": {
           "bgcolor": "white",
           "lakecolor": "white",
           "landcolor": "#E5ECF6",
           "showlakes": true,
           "showland": true,
           "subunitcolor": "white"
          },
          "hoverlabel": {
           "align": "left"
          },
          "hovermode": "closest",
          "mapbox": {
           "style": "light"
          },
          "paper_bgcolor": "white",
          "plot_bgcolor": "#E5ECF6",
          "polar": {
           "angularaxis": {
            "gridcolor": "white",
            "linecolor": "white",
            "ticks": ""
           },
           "bgcolor": "#E5ECF6",
           "radialaxis": {
            "gridcolor": "white",
            "linecolor": "white",
            "ticks": ""
           }
          },
          "scene": {
           "xaxis": {
            "backgroundcolor": "#E5ECF6",
            "gridcolor": "white",
            "gridwidth": 2,
            "linecolor": "white",
            "showbackground": true,
            "ticks": "",
            "zerolinecolor": "white"
           },
           "yaxis": {
            "backgroundcolor": "#E5ECF6",
            "gridcolor": "white",
            "gridwidth": 2,
            "linecolor": "white",
            "showbackground": true,
            "ticks": "",
            "zerolinecolor": "white"
           },
           "zaxis": {
            "backgroundcolor": "#E5ECF6",
            "gridcolor": "white",
            "gridwidth": 2,
            "linecolor": "white",
            "showbackground": true,
            "ticks": "",
            "zerolinecolor": "white"
           }
          },
          "shapedefaults": {
           "line": {
            "color": "#2a3f5f"
           }
          },
          "ternary": {
           "aaxis": {
            "gridcolor": "white",
            "linecolor": "white",
            "ticks": ""
           },
           "baxis": {
            "gridcolor": "white",
            "linecolor": "white",
            "ticks": ""
           },
           "bgcolor": "#E5ECF6",
           "caxis": {
            "gridcolor": "white",
            "linecolor": "white",
            "ticks": ""
           }
          },
          "title": {
           "x": 0.05
          },
          "xaxis": {
           "automargin": true,
           "gridcolor": "white",
           "linecolor": "white",
           "ticks": "",
           "title": {
            "standoff": 15
           },
           "zerolinecolor": "white",
           "zerolinewidth": 2
          },
          "yaxis": {
           "automargin": true,
           "gridcolor": "white",
           "linecolor": "white",
           "ticks": "",
           "title": {
            "standoff": 15
           },
           "zerolinecolor": "white",
           "zerolinewidth": 2
          }
         }
        },
        "title": {
         "font": {
          "color": "#4D5663"
         }
        },
        "xaxis": {
         "anchor": "y",
         "domain": [
          0,
          0.2125
         ],
         "gridcolor": "#E1E5ED",
         "showgrid": false,
         "tickfont": {
          "color": "#4D5663"
         },
         "title": {
          "font": {
           "color": "#4D5663"
          },
          "text": ""
         },
         "zerolinecolor": "#E1E5ED"
        },
        "xaxis10": {
         "anchor": "y10",
         "domain": [
          0.2625,
          0.475
         ],
         "gridcolor": "#E1E5ED",
         "showgrid": false,
         "tickfont": {
          "color": "#4D5663"
         },
         "title": {
          "font": {
           "color": "#4D5663"
          },
          "text": ""
         },
         "zerolinecolor": "#E1E5ED"
        },
        "xaxis11": {
         "anchor": "y11",
         "domain": [
          0.525,
          0.7375
         ],
         "gridcolor": "#E1E5ED",
         "showgrid": false,
         "tickfont": {
          "color": "#4D5663"
         },
         "title": {
          "font": {
           "color": "#4D5663"
          },
          "text": ""
         },
         "zerolinecolor": "#E1E5ED"
        },
        "xaxis12": {
         "anchor": "y12",
         "domain": [
          0.7875,
          1
         ],
         "gridcolor": "#E1E5ED",
         "showgrid": false,
         "tickfont": {
          "color": "#4D5663"
         },
         "title": {
          "font": {
           "color": "#4D5663"
          },
          "text": ""
         },
         "zerolinecolor": "#E1E5ED"
        },
        "xaxis13": {
         "anchor": "y13",
         "domain": [
          0,
          0.2125
         ],
         "gridcolor": "#E1E5ED",
         "showgrid": false,
         "tickfont": {
          "color": "#4D5663"
         },
         "title": {
          "font": {
           "color": "#4D5663"
          },
          "text": ""
         },
         "zerolinecolor": "#E1E5ED"
        },
        "xaxis14": {
         "anchor": "y14",
         "domain": [
          0.2625,
          0.475
         ],
         "gridcolor": "#E1E5ED",
         "showgrid": false,
         "tickfont": {
          "color": "#4D5663"
         },
         "title": {
          "font": {
           "color": "#4D5663"
          },
          "text": ""
         },
         "zerolinecolor": "#E1E5ED"
        },
        "xaxis15": {
         "anchor": "y15",
         "domain": [
          0.525,
          0.7375
         ],
         "gridcolor": "#E1E5ED",
         "showgrid": false,
         "tickfont": {
          "color": "#4D5663"
         },
         "title": {
          "font": {
           "color": "#4D5663"
          },
          "text": ""
         },
         "zerolinecolor": "#E1E5ED"
        },
        "xaxis16": {
         "anchor": "y16",
         "domain": [
          0.7875,
          1
         ],
         "gridcolor": "#E1E5ED",
         "showgrid": false,
         "tickfont": {
          "color": "#4D5663"
         },
         "title": {
          "font": {
           "color": "#4D5663"
          },
          "text": ""
         },
         "zerolinecolor": "#E1E5ED"
        },
        "xaxis2": {
         "anchor": "y2",
         "domain": [
          0.2625,
          0.475
         ],
         "gridcolor": "#E1E5ED",
         "showgrid": false,
         "tickfont": {
          "color": "#4D5663"
         },
         "title": {
          "font": {
           "color": "#4D5663"
          },
          "text": ""
         },
         "zerolinecolor": "#E1E5ED"
        },
        "xaxis3": {
         "anchor": "y3",
         "domain": [
          0.525,
          0.7375
         ],
         "gridcolor": "#E1E5ED",
         "showgrid": false,
         "tickfont": {
          "color": "#4D5663"
         },
         "title": {
          "font": {
           "color": "#4D5663"
          },
          "text": ""
         },
         "zerolinecolor": "#E1E5ED"
        },
        "xaxis4": {
         "anchor": "y4",
         "domain": [
          0.7875,
          1
         ],
         "gridcolor": "#E1E5ED",
         "showgrid": false,
         "tickfont": {
          "color": "#4D5663"
         },
         "title": {
          "font": {
           "color": "#4D5663"
          },
          "text": ""
         },
         "zerolinecolor": "#E1E5ED"
        },
        "xaxis5": {
         "anchor": "y5",
         "domain": [
          0,
          0.2125
         ],
         "gridcolor": "#E1E5ED",
         "showgrid": false,
         "tickfont": {
          "color": "#4D5663"
         },
         "title": {
          "font": {
           "color": "#4D5663"
          },
          "text": ""
         },
         "zerolinecolor": "#E1E5ED"
        },
        "xaxis6": {
         "anchor": "y6",
         "domain": [
          0.2625,
          0.475
         ],
         "gridcolor": "#E1E5ED",
         "showgrid": false,
         "tickfont": {
          "color": "#4D5663"
         },
         "title": {
          "font": {
           "color": "#4D5663"
          },
          "text": ""
         },
         "zerolinecolor": "#E1E5ED"
        },
        "xaxis7": {
         "anchor": "y7",
         "domain": [
          0.525,
          0.7375
         ],
         "gridcolor": "#E1E5ED",
         "showgrid": false,
         "tickfont": {
          "color": "#4D5663"
         },
         "title": {
          "font": {
           "color": "#4D5663"
          },
          "text": ""
         },
         "zerolinecolor": "#E1E5ED"
        },
        "xaxis8": {
         "anchor": "y8",
         "domain": [
          0.7875,
          1
         ],
         "gridcolor": "#E1E5ED",
         "showgrid": false,
         "tickfont": {
          "color": "#4D5663"
         },
         "title": {
          "font": {
           "color": "#4D5663"
          },
          "text": ""
         },
         "zerolinecolor": "#E1E5ED"
        },
        "xaxis9": {
         "anchor": "y9",
         "domain": [
          0,
          0.2125
         ],
         "gridcolor": "#E1E5ED",
         "showgrid": false,
         "tickfont": {
          "color": "#4D5663"
         },
         "title": {
          "font": {
           "color": "#4D5663"
          },
          "text": ""
         },
         "zerolinecolor": "#E1E5ED"
        },
        "yaxis": {
         "anchor": "x",
         "domain": [
          0.8025,
          1
         ],
         "gridcolor": "#E1E5ED",
         "showgrid": false,
         "tickfont": {
          "color": "#4D5663"
         },
         "title": {
          "font": {
           "color": "#4D5663"
          },
          "text": ""
         },
         "zerolinecolor": "#E1E5ED"
        },
        "yaxis10": {
         "anchor": "x10",
         "domain": [
          0.2675,
          0.465
         ],
         "gridcolor": "#E1E5ED",
         "showgrid": false,
         "tickfont": {
          "color": "#4D5663"
         },
         "title": {
          "font": {
           "color": "#4D5663"
          },
          "text": ""
         },
         "zerolinecolor": "#E1E5ED"
        },
        "yaxis11": {
         "anchor": "x11",
         "domain": [
          0.2675,
          0.465
         ],
         "gridcolor": "#E1E5ED",
         "showgrid": false,
         "tickfont": {
          "color": "#4D5663"
         },
         "title": {
          "font": {
           "color": "#4D5663"
          },
          "text": ""
         },
         "zerolinecolor": "#E1E5ED"
        },
        "yaxis12": {
         "anchor": "x12",
         "domain": [
          0.2675,
          0.465
         ],
         "gridcolor": "#E1E5ED",
         "showgrid": false,
         "tickfont": {
          "color": "#4D5663"
         },
         "title": {
          "font": {
           "color": "#4D5663"
          },
          "text": ""
         },
         "zerolinecolor": "#E1E5ED"
        },
        "yaxis13": {
         "anchor": "x13",
         "domain": [
          0,
          0.1975
         ],
         "gridcolor": "#E1E5ED",
         "showgrid": false,
         "tickfont": {
          "color": "#4D5663"
         },
         "title": {
          "font": {
           "color": "#4D5663"
          },
          "text": ""
         },
         "zerolinecolor": "#E1E5ED"
        },
        "yaxis14": {
         "anchor": "x14",
         "domain": [
          0,
          0.1975
         ],
         "gridcolor": "#E1E5ED",
         "showgrid": false,
         "tickfont": {
          "color": "#4D5663"
         },
         "title": {
          "font": {
           "color": "#4D5663"
          },
          "text": ""
         },
         "zerolinecolor": "#E1E5ED"
        },
        "yaxis15": {
         "anchor": "x15",
         "domain": [
          0,
          0.1975
         ],
         "gridcolor": "#E1E5ED",
         "showgrid": false,
         "tickfont": {
          "color": "#4D5663"
         },
         "title": {
          "font": {
           "color": "#4D5663"
          },
          "text": ""
         },
         "zerolinecolor": "#E1E5ED"
        },
        "yaxis16": {
         "anchor": "x16",
         "domain": [
          0,
          0.1975
         ],
         "gridcolor": "#E1E5ED",
         "showgrid": false,
         "tickfont": {
          "color": "#4D5663"
         },
         "title": {
          "font": {
           "color": "#4D5663"
          },
          "text": ""
         },
         "zerolinecolor": "#E1E5ED"
        },
        "yaxis2": {
         "anchor": "x2",
         "domain": [
          0.8025,
          1
         ],
         "gridcolor": "#E1E5ED",
         "showgrid": false,
         "tickfont": {
          "color": "#4D5663"
         },
         "title": {
          "font": {
           "color": "#4D5663"
          },
          "text": ""
         },
         "zerolinecolor": "#E1E5ED"
        },
        "yaxis3": {
         "anchor": "x3",
         "domain": [
          0.8025,
          1
         ],
         "gridcolor": "#E1E5ED",
         "showgrid": false,
         "tickfont": {
          "color": "#4D5663"
         },
         "title": {
          "font": {
           "color": "#4D5663"
          },
          "text": ""
         },
         "zerolinecolor": "#E1E5ED"
        },
        "yaxis4": {
         "anchor": "x4",
         "domain": [
          0.8025,
          1
         ],
         "gridcolor": "#E1E5ED",
         "showgrid": false,
         "tickfont": {
          "color": "#4D5663"
         },
         "title": {
          "font": {
           "color": "#4D5663"
          },
          "text": ""
         },
         "zerolinecolor": "#E1E5ED"
        },
        "yaxis5": {
         "anchor": "x5",
         "domain": [
          0.535,
          0.7325
         ],
         "gridcolor": "#E1E5ED",
         "showgrid": false,
         "tickfont": {
          "color": "#4D5663"
         },
         "title": {
          "font": {
           "color": "#4D5663"
          },
          "text": ""
         },
         "zerolinecolor": "#E1E5ED"
        },
        "yaxis6": {
         "anchor": "x6",
         "domain": [
          0.535,
          0.7325
         ],
         "gridcolor": "#E1E5ED",
         "showgrid": false,
         "tickfont": {
          "color": "#4D5663"
         },
         "title": {
          "font": {
           "color": "#4D5663"
          },
          "text": ""
         },
         "zerolinecolor": "#E1E5ED"
        },
        "yaxis7": {
         "anchor": "x7",
         "domain": [
          0.535,
          0.7325
         ],
         "gridcolor": "#E1E5ED",
         "showgrid": false,
         "tickfont": {
          "color": "#4D5663"
         },
         "title": {
          "font": {
           "color": "#4D5663"
          },
          "text": ""
         },
         "zerolinecolor": "#E1E5ED"
        },
        "yaxis8": {
         "anchor": "x8",
         "domain": [
          0.535,
          0.7325
         ],
         "gridcolor": "#E1E5ED",
         "showgrid": false,
         "tickfont": {
          "color": "#4D5663"
         },
         "title": {
          "font": {
           "color": "#4D5663"
          },
          "text": ""
         },
         "zerolinecolor": "#E1E5ED"
        },
        "yaxis9": {
         "anchor": "x9",
         "domain": [
          0.2675,
          0.465
         ],
         "gridcolor": "#E1E5ED",
         "showgrid": false,
         "tickfont": {
          "color": "#4D5663"
         },
         "title": {
          "font": {
           "color": "#4D5663"
          },
          "text": ""
         },
         "zerolinecolor": "#E1E5ED"
        }
       }
      },
      "text/html": [
       "<div>                            <div id=\"9e8d4c80-3f90-4f9d-9ae9-3af2fac29518\" class=\"plotly-graph-div\" style=\"height:525px; width:100%;\"></div>            <script type=\"text/javascript\">                require([\"plotly\"], function(Plotly) {                    window.PLOTLYENV=window.PLOTLYENV || {};\n",
       "                    window.PLOTLYENV.BASE_URL='https://plot.ly';                                    if (document.getElementById(\"9e8d4c80-3f90-4f9d-9ae9-3af2fac29518\")) {                    Plotly.newPlot(                        \"9e8d4c80-3f90-4f9d-9ae9-3af2fac29518\",                        [{\"histfunc\": \"count\", \"histnorm\": \"\", \"marker\": {\"color\": \"rgba(255, 153, 51, 1.0)\", \"line\": {\"color\": \"#4D5663\", \"width\": 1.3}}, \"name\": \"A\", \"nbinsx\": 10, \"opacity\": 0.8, \"orientation\": \"v\", \"type\": \"histogram\", \"x\": [-0.5834753383517299, -0.17406211351662937, 0.3060879792029995, -0.9534093278803556, 0.3335305517157785, -0.97208229715675, 0.773922882267899, 1.4949271133171107, 0.8367814978013194, 0.08308209603773245, 1.182761740458536, 0.49774685820127185, 0.14198467055805747, -1.1355453476946098, 1.011619431731822, -0.6353426447605321, -0.5424144198586475, -1.5756694152563402, 1.2337366847436115, 0.11368435771078347, -1.8603332979892468, -0.37908290090239266, -2.3952188064783204, 0.8877427257916617, -0.7115630132230167, -1.9603833676408622, -0.28727568692696054, -1.1266536274403456, 1.1008068413241312, 0.9886964497727425, -0.5102809461243386, -0.26700043460695194, 0.9015877446659447, -0.21081646226019637, 2.7208289305974653, 0.1416432945420239, 0.04999158259603204, -0.5592081595503431, 0.45281455512608043, -0.47627645727787193, 1.207059439612465, 0.4777022075082107, -1.026931705617259, -0.09326720728713248, -2.4491799906079867, -0.9669689841078734, 0.39843192202660516, -1.601682430692205, -0.09730257947951387, 0.705339489766667, -0.6885982039996992, 0.6473742218943702, 1.0899943898808402, -0.3672553912402756, 0.3987603976761634, -0.19251739749906915, -0.6650279548408881, 0.1609926421761508, 0.5130893323136226, 0.40379560486445404, 1.5089011416060847, 0.9171065596968837, -0.8461891366811787, 1.0164246921459297, 0.6682311222058028, -0.11500234092630772, 1.5242086731479125, 1.1030176443205182, -0.18787103995561596, -1.3538512726051395, 0.8253066278166783, -0.3119693363687069, 0.21814712315537818, -0.0735611122243912, -0.028292622673684212, -1.1577550791690683, 1.3129945490002852, 0.4300996259364016, -1.2300531873215208, 0.2321272415931786, 0.37983972009769645, -0.48843454037353673, -0.44977945445042544, 1.6926048669377491, 1.5476340525379164, 0.9038064089580464, 0.34345404520601236, -0.3738001536190124, 1.0211207868093704, 0.9146321683636861, -0.518458729915045, -1.2156051542720545, 0.6405558740080012, -1.5203730953554544, 0.23280630549747244, -1.2106399353868293, 0.2511404517840312, 1.66809342037484, -0.3742517195980744, -1.2245820489080763], \"xaxis\": \"x\", \"yaxis\": \"y\"}, {\"line\": {\"color\": \"rgba(128, 128, 128, 1.0)\", \"dash\": \"solid\", \"shape\": \"linear\", \"width\": 1.3}, \"marker\": {\"size\": 2, \"symbol\": \"circle\"}, \"mode\": \"markers\", \"name\": \"A\", \"text\": \"\", \"type\": \"scatter\", \"x\": [-1.3758072804282802, -2.0166423275795045, -0.1338910600221726, -0.5820663677732987, 0.9712282596893289, 0.04856414782439493, -1.6446518762072733, -0.9421467336068651, 0.21954059186296845, 0.36807439477449627, -0.3654460240432651, -0.8881757488822261, 1.1359574308252038, 1.784248095321167, -2.230174327763357, -0.9096345705300771, 0.058131826476081325, 0.49564915635896856, 0.9955580219566825, 0.9416554478215717, 0.501777796879372, 0.5832116202465111, 0.07587249397032425, -1.3196824810937708, 0.4830791708975699, -1.374253540092365, -0.5760286311195967, 0.7116952836336254, -0.3114529511132174, -0.4000450842140983, 0.04992534906556205, 1.954807728032101, 0.13171389071864884, -0.033496919366209084, -0.49088708243273443, -0.32917951662922473, -0.6357922655639845, 0.01910882388183459, 0.6605981182143601, 0.2871073718275956, -0.7967523017727124, 1.2749217387718361, -1.0184090272611115, -0.30776517663371084, -1.3835687056089345, -0.9589418851101955, 0.8388110623238367, -0.8262275451330596, -1.8834577989862957, 0.5672824330131843, 1.5196434832141326, -0.9864345081943736, -0.09831683886884271, -0.4837052077847503, 1.2148627172318998, -0.8692477403189863, -2.145542147953029, -1.026863204622045, 0.5759905082069539, -0.08525962897285295, 0.1994816415925022, 0.29053581455171307, 1.6111189999118847, -0.8918623381139243, 0.757880123902853, -0.9228502119583749, 0.2614246572476863, -1.4678941893578006, -1.7208349749814054, -1.188026523351157, -1.3120013569153754, -0.26774879333661716, -0.8918948740304229, -1.8768343945216002, 0.5804338332708612, -0.506169023116886, -0.25771991196350186, -1.891780200402067, -0.90439014692466, -0.6309894908570972, -2.07726520770258, 0.44560260665169893, 0.36344301847922245, -0.9338476374001575, -0.7805318229279821, -1.4284991217257477, -1.5086579661524255, -0.01569096789541602, -2.1206884425801995, -1.971641489490636, -0.16318933968466018, 0.26430296290179456, -0.9783848110025019, -0.8944221474552131, 0.4463550575217183, 0.9586322265346929, -0.5716261211754448, 0.9428186601187796, -1.6636587907084162, -0.14151351627318537], \"xaxis\": \"x2\", \"y\": [-0.5834753383517299, -0.17406211351662937, 0.3060879792029995, -0.9534093278803556, 0.3335305517157785, -0.97208229715675, 0.773922882267899, 1.4949271133171107, 0.8367814978013194, 0.08308209603773245, 1.182761740458536, 0.49774685820127185, 0.14198467055805747, -1.1355453476946098, 1.011619431731822, -0.6353426447605321, -0.5424144198586475, -1.5756694152563402, 1.2337366847436115, 0.11368435771078347, -1.8603332979892468, -0.37908290090239266, -2.3952188064783204, 0.8877427257916617, -0.7115630132230167, -1.9603833676408622, -0.28727568692696054, -1.1266536274403456, 1.1008068413241312, 0.9886964497727425, -0.5102809461243386, -0.26700043460695194, 0.9015877446659447, -0.21081646226019637, 2.7208289305974653, 0.1416432945420239, 0.04999158259603204, -0.5592081595503431, 0.45281455512608043, -0.47627645727787193, 1.207059439612465, 0.4777022075082107, -1.026931705617259, -0.09326720728713248, -2.4491799906079867, -0.9669689841078734, 0.39843192202660516, -1.601682430692205, -0.09730257947951387, 0.705339489766667, -0.6885982039996992, 0.6473742218943702, 1.0899943898808402, -0.3672553912402756, 0.3987603976761634, -0.19251739749906915, -0.6650279548408881, 0.1609926421761508, 0.5130893323136226, 0.40379560486445404, 1.5089011416060847, 0.9171065596968837, -0.8461891366811787, 1.0164246921459297, 0.6682311222058028, -0.11500234092630772, 1.5242086731479125, 1.1030176443205182, -0.18787103995561596, -1.3538512726051395, 0.8253066278166783, -0.3119693363687069, 0.21814712315537818, -0.0735611122243912, -0.028292622673684212, -1.1577550791690683, 1.3129945490002852, 0.4300996259364016, -1.2300531873215208, 0.2321272415931786, 0.37983972009769645, -0.48843454037353673, -0.44977945445042544, 1.6926048669377491, 1.5476340525379164, 0.9038064089580464, 0.34345404520601236, -0.3738001536190124, 1.0211207868093704, 0.9146321683636861, -0.518458729915045, -1.2156051542720545, 0.6405558740080012, -1.5203730953554544, 0.23280630549747244, -1.2106399353868293, 0.2511404517840312, 1.66809342037484, -0.3742517195980744, -1.2245820489080763], \"yaxis\": \"y2\"}, {\"line\": {\"color\": \"rgba(128, 128, 128, 1.0)\", \"dash\": \"solid\", \"shape\": \"linear\", \"width\": 1.3}, \"marker\": {\"size\": 2, \"symbol\": \"circle\"}, \"mode\": \"markers\", \"name\": \"A\", \"text\": \"\", \"type\": \"scatter\", \"x\": [1.0018795416454491, -2.337390086103986, -0.4232539974018757, -1.8969316747463965, 0.7998081641187528, -0.3661949850561008, -1.0181639947152596, -0.11585982965963165, 0.8472399266545323, 0.43788030425939717, -0.663764784381059, -0.7337123337610191, 1.4548197863516765, -0.42418631146704205, -0.2545716351889039, 0.5366989835326802, 0.36605335363143343, -1.4143036007630514, 1.5221013213507886, 0.7791456306917478, 0.23025246545213834, -1.8638969248337085, -1.6884893644211625, -0.045487154963125165, -0.801121406292604, 0.0547559143145917, 0.545183512897039, -0.724015990081383, 0.06573202885491526, 1.6498167190416173, 0.6533000011435984, -0.5587155424933851, -1.7109782094864845, 2.203279978897059, -1.2458021051215071, 0.7884115134544288, -2.1775179047299407, -1.2627256229473947, 1.8817286080299984, 0.4368373756387097, 1.7706549361056712, 0.6526038916660498, -0.32547051254043496, 0.5741831449609582, -2.043115613867004, 0.15453730277501193, -0.6087453202889653, 0.8695799883309445, -0.8609126079247554, 0.9312292205742623, 0.9033553738916221, -1.8349477525385487, 0.05234757707374364, -0.07264521518900441, -2.289836482394134, -1.6493967640659406, -0.482197393675575, -1.1391850183853196, 0.27952172855246427, -0.24730382546811683, 1.4330576241904138, 1.052331922367535, 0.13068002155250746, -0.607376113375024, 0.3910918792553487, -0.8556328435345957, 0.41913087940142013, -0.35323768409171563, 1.0702506121182342, -1.1916818045776487, -0.1925503665005978, -0.877017495740593, -0.823621667252424, -1.3373927643971992, -0.6974293794909958, -0.941557903733586, 0.4734217251518457, 1.760748122282674, -0.05527878596913308, -1.0481418298737724, -1.5224723426836864, -0.5445950686677371, -1.018327795899508, -1.6454156901822734, -1.0439229011320366, 1.226138672249239, 1.648029568633649, 1.6132974530492734, -0.4729133085871159, -0.3224150454961992, 0.12450040090001759, -1.4789057463124318, -0.03375216725478918, 1.5198674300593413, -0.7337586002507553, 1.0376640654837075, 0.5459608141126524, 0.5766045985211756, 0.1707602039956786, 0.5665018422576403], \"xaxis\": \"x3\", \"y\": [-0.5834753383517299, -0.17406211351662937, 0.3060879792029995, -0.9534093278803556, 0.3335305517157785, -0.97208229715675, 0.773922882267899, 1.4949271133171107, 0.8367814978013194, 0.08308209603773245, 1.182761740458536, 0.49774685820127185, 0.14198467055805747, -1.1355453476946098, 1.011619431731822, -0.6353426447605321, -0.5424144198586475, -1.5756694152563402, 1.2337366847436115, 0.11368435771078347, -1.8603332979892468, -0.37908290090239266, -2.3952188064783204, 0.8877427257916617, -0.7115630132230167, -1.9603833676408622, -0.28727568692696054, -1.1266536274403456, 1.1008068413241312, 0.9886964497727425, -0.5102809461243386, -0.26700043460695194, 0.9015877446659447, -0.21081646226019637, 2.7208289305974653, 0.1416432945420239, 0.04999158259603204, -0.5592081595503431, 0.45281455512608043, -0.47627645727787193, 1.207059439612465, 0.4777022075082107, -1.026931705617259, -0.09326720728713248, -2.4491799906079867, -0.9669689841078734, 0.39843192202660516, -1.601682430692205, -0.09730257947951387, 0.705339489766667, -0.6885982039996992, 0.6473742218943702, 1.0899943898808402, -0.3672553912402756, 0.3987603976761634, -0.19251739749906915, -0.6650279548408881, 0.1609926421761508, 0.5130893323136226, 0.40379560486445404, 1.5089011416060847, 0.9171065596968837, -0.8461891366811787, 1.0164246921459297, 0.6682311222058028, -0.11500234092630772, 1.5242086731479125, 1.1030176443205182, -0.18787103995561596, -1.3538512726051395, 0.8253066278166783, -0.3119693363687069, 0.21814712315537818, -0.0735611122243912, -0.028292622673684212, -1.1577550791690683, 1.3129945490002852, 0.4300996259364016, -1.2300531873215208, 0.2321272415931786, 0.37983972009769645, -0.48843454037353673, -0.44977945445042544, 1.6926048669377491, 1.5476340525379164, 0.9038064089580464, 0.34345404520601236, -0.3738001536190124, 1.0211207868093704, 0.9146321683636861, -0.518458729915045, -1.2156051542720545, 0.6405558740080012, -1.5203730953554544, 0.23280630549747244, -1.2106399353868293, 0.2511404517840312, 1.66809342037484, -0.3742517195980744, -1.2245820489080763], \"yaxis\": \"y3\"}, {\"line\": {\"color\": \"rgba(128, 128, 128, 1.0)\", \"dash\": \"solid\", \"shape\": \"linear\", \"width\": 1.3}, \"marker\": {\"size\": 2, \"symbol\": \"circle\"}, \"mode\": \"markers\", \"name\": \"A\", \"text\": \"\", \"type\": \"scatter\", \"x\": [-1.3586555500283932, -1.1387743176844167, 0.48169938159576325, 0.6764372067302944, 1.1268266747347202, 0.6057252710507862, -0.7513219741686743, 0.005702313957507184, 1.4308791760663617, 1.2005966764227556, -0.9875278942485363, 0.5808660913976754, 1.4287941005077174, 0.4620702301387893, 1.0572734196064548, -1.1002913127709155, -0.1315515667924692, -1.1392566067659655, 0.07229281640598588, -0.5333057149292395, 0.5816100203393103, 1.306026153751653, 1.0195678806161312, 0.2888420412161623, -0.4433382139973612, -0.3454345344832595, 0.35534312460924733, -0.43117020195967376, -1.5045558829863606, -0.1815616314116132, -0.4368063742518326, -0.22620381140298199, 0.08720459040528854, 0.5678243149791222, 0.5881222446895752, 0.7480451633782648, -1.32794689771268, -0.3778143059967874, 0.16147452672508367, 0.06410447160154711, -0.379738719597055, 0.39967835730081835, 0.14216477357882099, 0.5571022162046607, -1.231042034691143, 0.17497112618671276, -0.23977151229832572, 0.3895289261776583, -0.25526591619421546, -0.19963109923025427, 1.1232157056995562, -1.3454744427361949, -0.9443758475972888, 0.10462002783908171, -0.21414108255498263, -0.013631441599426721, 0.25542382679462305, -0.042489116778872876, 2.223297765291669, 1.4438772399384525, 0.3357163929448841, 1.2836072157745464, 1.5871881561554102, 1.3498649620194312, -0.1950754533526257, -0.3423773505787837, 1.205801770483136, -1.4535643076134128, -0.11707550596919053, -0.07076833743694082, 0.05183565834795385, -0.6962317336833402, -0.2965689315021597, -0.4802740478324376, 1.6212754882155525, -0.6149308986561066, 0.14122511601298043, -1.4253659454394587, -0.16682763283868907, -0.2522594661264877, 0.6016714218645476, 2.431213897315591, 1.4180976108862766, 1.4556917676318628, -0.4258864761956951, 0.6942935605645597, 0.8682132087462273, 0.038312944846510065, 0.26163123834069224, 0.3408182247581353, 2.1254219393308467, -0.15326156703769878, 0.5757955269280755, 2.017680954544086, -0.6816594733685633, 0.011130112560700777, 0.8960972114035543, -0.6479458737519347, -0.6154386787320508, -0.5344839718555876], \"xaxis\": \"x4\", \"y\": [-0.5834753383517299, -0.17406211351662937, 0.3060879792029995, -0.9534093278803556, 0.3335305517157785, -0.97208229715675, 0.773922882267899, 1.4949271133171107, 0.8367814978013194, 0.08308209603773245, 1.182761740458536, 0.49774685820127185, 0.14198467055805747, -1.1355453476946098, 1.011619431731822, -0.6353426447605321, -0.5424144198586475, -1.5756694152563402, 1.2337366847436115, 0.11368435771078347, -1.8603332979892468, -0.37908290090239266, -2.3952188064783204, 0.8877427257916617, -0.7115630132230167, -1.9603833676408622, -0.28727568692696054, -1.1266536274403456, 1.1008068413241312, 0.9886964497727425, -0.5102809461243386, -0.26700043460695194, 0.9015877446659447, -0.21081646226019637, 2.7208289305974653, 0.1416432945420239, 0.04999158259603204, -0.5592081595503431, 0.45281455512608043, -0.47627645727787193, 1.207059439612465, 0.4777022075082107, -1.026931705617259, -0.09326720728713248, -2.4491799906079867, -0.9669689841078734, 0.39843192202660516, -1.601682430692205, -0.09730257947951387, 0.705339489766667, -0.6885982039996992, 0.6473742218943702, 1.0899943898808402, -0.3672553912402756, 0.3987603976761634, -0.19251739749906915, -0.6650279548408881, 0.1609926421761508, 0.5130893323136226, 0.40379560486445404, 1.5089011416060847, 0.9171065596968837, -0.8461891366811787, 1.0164246921459297, 0.6682311222058028, -0.11500234092630772, 1.5242086731479125, 1.1030176443205182, -0.18787103995561596, -1.3538512726051395, 0.8253066278166783, -0.3119693363687069, 0.21814712315537818, -0.0735611122243912, -0.028292622673684212, -1.1577550791690683, 1.3129945490002852, 0.4300996259364016, -1.2300531873215208, 0.2321272415931786, 0.37983972009769645, -0.48843454037353673, -0.44977945445042544, 1.6926048669377491, 1.5476340525379164, 0.9038064089580464, 0.34345404520601236, -0.3738001536190124, 1.0211207868093704, 0.9146321683636861, -0.518458729915045, -1.2156051542720545, 0.6405558740080012, -1.5203730953554544, 0.23280630549747244, -1.2106399353868293, 0.2511404517840312, 1.66809342037484, -0.3742517195980744, -1.2245820489080763], \"yaxis\": \"y4\"}, {\"line\": {\"color\": \"rgba(128, 128, 128, 1.0)\", \"dash\": \"solid\", \"shape\": \"linear\", \"width\": 1.3}, \"marker\": {\"size\": 2, \"symbol\": \"circle\"}, \"mode\": \"markers\", \"name\": \"B\", \"text\": \"\", \"type\": \"scatter\", \"x\": [-0.5834753383517299, -0.17406211351662937, 0.3060879792029995, -0.9534093278803556, 0.3335305517157785, -0.97208229715675, 0.773922882267899, 1.4949271133171107, 0.8367814978013194, 0.08308209603773245, 1.182761740458536, 0.49774685820127185, 0.14198467055805747, -1.1355453476946098, 1.011619431731822, -0.6353426447605321, -0.5424144198586475, -1.5756694152563402, 1.2337366847436115, 0.11368435771078347, -1.8603332979892468, -0.37908290090239266, -2.3952188064783204, 0.8877427257916617, -0.7115630132230167, -1.9603833676408622, -0.28727568692696054, -1.1266536274403456, 1.1008068413241312, 0.9886964497727425, -0.5102809461243386, -0.26700043460695194, 0.9015877446659447, -0.21081646226019637, 2.7208289305974653, 0.1416432945420239, 0.04999158259603204, -0.5592081595503431, 0.45281455512608043, -0.47627645727787193, 1.207059439612465, 0.4777022075082107, -1.026931705617259, -0.09326720728713248, -2.4491799906079867, -0.9669689841078734, 0.39843192202660516, -1.601682430692205, -0.09730257947951387, 0.705339489766667, -0.6885982039996992, 0.6473742218943702, 1.0899943898808402, -0.3672553912402756, 0.3987603976761634, -0.19251739749906915, -0.6650279548408881, 0.1609926421761508, 0.5130893323136226, 0.40379560486445404, 1.5089011416060847, 0.9171065596968837, -0.8461891366811787, 1.0164246921459297, 0.6682311222058028, -0.11500234092630772, 1.5242086731479125, 1.1030176443205182, -0.18787103995561596, -1.3538512726051395, 0.8253066278166783, -0.3119693363687069, 0.21814712315537818, -0.0735611122243912, -0.028292622673684212, -1.1577550791690683, 1.3129945490002852, 0.4300996259364016, -1.2300531873215208, 0.2321272415931786, 0.37983972009769645, -0.48843454037353673, -0.44977945445042544, 1.6926048669377491, 1.5476340525379164, 0.9038064089580464, 0.34345404520601236, -0.3738001536190124, 1.0211207868093704, 0.9146321683636861, -0.518458729915045, -1.2156051542720545, 0.6405558740080012, -1.5203730953554544, 0.23280630549747244, -1.2106399353868293, 0.2511404517840312, 1.66809342037484, -0.3742517195980744, -1.2245820489080763], \"xaxis\": \"x5\", \"y\": [-1.3758072804282802, -2.0166423275795045, -0.1338910600221726, -0.5820663677732987, 0.9712282596893289, 0.04856414782439493, -1.6446518762072733, -0.9421467336068651, 0.21954059186296845, 0.36807439477449627, -0.3654460240432651, -0.8881757488822261, 1.1359574308252038, 1.784248095321167, -2.230174327763357, -0.9096345705300771, 0.058131826476081325, 0.49564915635896856, 0.9955580219566825, 0.9416554478215717, 0.501777796879372, 0.5832116202465111, 0.07587249397032425, -1.3196824810937708, 0.4830791708975699, -1.374253540092365, -0.5760286311195967, 0.7116952836336254, -0.3114529511132174, -0.4000450842140983, 0.04992534906556205, 1.954807728032101, 0.13171389071864884, -0.033496919366209084, -0.49088708243273443, -0.32917951662922473, -0.6357922655639845, 0.01910882388183459, 0.6605981182143601, 0.2871073718275956, -0.7967523017727124, 1.2749217387718361, -1.0184090272611115, -0.30776517663371084, -1.3835687056089345, -0.9589418851101955, 0.8388110623238367, -0.8262275451330596, -1.8834577989862957, 0.5672824330131843, 1.5196434832141326, -0.9864345081943736, -0.09831683886884271, -0.4837052077847503, 1.2148627172318998, -0.8692477403189863, -2.145542147953029, -1.026863204622045, 0.5759905082069539, -0.08525962897285295, 0.1994816415925022, 0.29053581455171307, 1.6111189999118847, -0.8918623381139243, 0.757880123902853, -0.9228502119583749, 0.2614246572476863, -1.4678941893578006, -1.7208349749814054, -1.188026523351157, -1.3120013569153754, -0.26774879333661716, -0.8918948740304229, -1.8768343945216002, 0.5804338332708612, -0.506169023116886, -0.25771991196350186, -1.891780200402067, -0.90439014692466, -0.6309894908570972, -2.07726520770258, 0.44560260665169893, 0.36344301847922245, -0.9338476374001575, -0.7805318229279821, -1.4284991217257477, -1.5086579661524255, -0.01569096789541602, -2.1206884425801995, -1.971641489490636, -0.16318933968466018, 0.26430296290179456, -0.9783848110025019, -0.8944221474552131, 0.4463550575217183, 0.9586322265346929, -0.5716261211754448, 0.9428186601187796, -1.6636587907084162, -0.14151351627318537], \"yaxis\": \"y5\"}, {\"histfunc\": \"count\", \"histnorm\": \"\", \"marker\": {\"color\": \"rgba(55, 128, 191, 1.0)\", \"line\": {\"color\": \"#4D5663\", \"width\": 1.3}}, \"name\": \"B\", \"nbinsx\": 10, \"opacity\": 0.8, \"orientation\": \"v\", \"type\": \"histogram\", \"x\": [-1.3758072804282802, -2.0166423275795045, -0.1338910600221726, -0.5820663677732987, 0.9712282596893289, 0.04856414782439493, -1.6446518762072733, -0.9421467336068651, 0.21954059186296845, 0.36807439477449627, -0.3654460240432651, -0.8881757488822261, 1.1359574308252038, 1.784248095321167, -2.230174327763357, -0.9096345705300771, 0.058131826476081325, 0.49564915635896856, 0.9955580219566825, 0.9416554478215717, 0.501777796879372, 0.5832116202465111, 0.07587249397032425, -1.3196824810937708, 0.4830791708975699, -1.374253540092365, -0.5760286311195967, 0.7116952836336254, -0.3114529511132174, -0.4000450842140983, 0.04992534906556205, 1.954807728032101, 0.13171389071864884, -0.033496919366209084, -0.49088708243273443, -0.32917951662922473, -0.6357922655639845, 0.01910882388183459, 0.6605981182143601, 0.2871073718275956, -0.7967523017727124, 1.2749217387718361, -1.0184090272611115, -0.30776517663371084, -1.3835687056089345, -0.9589418851101955, 0.8388110623238367, -0.8262275451330596, -1.8834577989862957, 0.5672824330131843, 1.5196434832141326, -0.9864345081943736, -0.09831683886884271, -0.4837052077847503, 1.2148627172318998, -0.8692477403189863, -2.145542147953029, -1.026863204622045, 0.5759905082069539, -0.08525962897285295, 0.1994816415925022, 0.29053581455171307, 1.6111189999118847, -0.8918623381139243, 0.757880123902853, -0.9228502119583749, 0.2614246572476863, -1.4678941893578006, -1.7208349749814054, -1.188026523351157, -1.3120013569153754, -0.26774879333661716, -0.8918948740304229, -1.8768343945216002, 0.5804338332708612, -0.506169023116886, -0.25771991196350186, -1.891780200402067, -0.90439014692466, -0.6309894908570972, -2.07726520770258, 0.44560260665169893, 0.36344301847922245, -0.9338476374001575, -0.7805318229279821, -1.4284991217257477, -1.5086579661524255, -0.01569096789541602, -2.1206884425801995, -1.971641489490636, -0.16318933968466018, 0.26430296290179456, -0.9783848110025019, -0.8944221474552131, 0.4463550575217183, 0.9586322265346929, -0.5716261211754448, 0.9428186601187796, -1.6636587907084162, -0.14151351627318537], \"xaxis\": \"x6\", \"yaxis\": \"y6\"}, {\"line\": {\"color\": \"rgba(128, 128, 128, 1.0)\", \"dash\": \"solid\", \"shape\": \"linear\", \"width\": 1.3}, \"marker\": {\"size\": 2, \"symbol\": \"circle\"}, \"mode\": \"markers\", \"name\": \"B\", \"text\": \"\", \"type\": \"scatter\", \"x\": [1.0018795416454491, -2.337390086103986, -0.4232539974018757, -1.8969316747463965, 0.7998081641187528, -0.3661949850561008, -1.0181639947152596, -0.11585982965963165, 0.8472399266545323, 0.43788030425939717, -0.663764784381059, -0.7337123337610191, 1.4548197863516765, -0.42418631146704205, -0.2545716351889039, 0.5366989835326802, 0.36605335363143343, -1.4143036007630514, 1.5221013213507886, 0.7791456306917478, 0.23025246545213834, -1.8638969248337085, -1.6884893644211625, -0.045487154963125165, -0.801121406292604, 0.0547559143145917, 0.545183512897039, -0.724015990081383, 0.06573202885491526, 1.6498167190416173, 0.6533000011435984, -0.5587155424933851, -1.7109782094864845, 2.203279978897059, -1.2458021051215071, 0.7884115134544288, -2.1775179047299407, -1.2627256229473947, 1.8817286080299984, 0.4368373756387097, 1.7706549361056712, 0.6526038916660498, -0.32547051254043496, 0.5741831449609582, -2.043115613867004, 0.15453730277501193, -0.6087453202889653, 0.8695799883309445, -0.8609126079247554, 0.9312292205742623, 0.9033553738916221, -1.8349477525385487, 0.05234757707374364, -0.07264521518900441, -2.289836482394134, -1.6493967640659406, -0.482197393675575, -1.1391850183853196, 0.27952172855246427, -0.24730382546811683, 1.4330576241904138, 1.052331922367535, 0.13068002155250746, -0.607376113375024, 0.3910918792553487, -0.8556328435345957, 0.41913087940142013, -0.35323768409171563, 1.0702506121182342, -1.1916818045776487, -0.1925503665005978, -0.877017495740593, -0.823621667252424, -1.3373927643971992, -0.6974293794909958, -0.941557903733586, 0.4734217251518457, 1.760748122282674, -0.05527878596913308, -1.0481418298737724, -1.5224723426836864, -0.5445950686677371, -1.018327795899508, -1.6454156901822734, -1.0439229011320366, 1.226138672249239, 1.648029568633649, 1.6132974530492734, -0.4729133085871159, -0.3224150454961992, 0.12450040090001759, -1.4789057463124318, -0.03375216725478918, 1.5198674300593413, -0.7337586002507553, 1.0376640654837075, 0.5459608141126524, 0.5766045985211756, 0.1707602039956786, 0.5665018422576403], \"xaxis\": \"x7\", \"y\": [-1.3758072804282802, -2.0166423275795045, -0.1338910600221726, -0.5820663677732987, 0.9712282596893289, 0.04856414782439493, -1.6446518762072733, -0.9421467336068651, 0.21954059186296845, 0.36807439477449627, -0.3654460240432651, -0.8881757488822261, 1.1359574308252038, 1.784248095321167, -2.230174327763357, -0.9096345705300771, 0.058131826476081325, 0.49564915635896856, 0.9955580219566825, 0.9416554478215717, 0.501777796879372, 0.5832116202465111, 0.07587249397032425, -1.3196824810937708, 0.4830791708975699, -1.374253540092365, -0.5760286311195967, 0.7116952836336254, -0.3114529511132174, -0.4000450842140983, 0.04992534906556205, 1.954807728032101, 0.13171389071864884, -0.033496919366209084, -0.49088708243273443, -0.32917951662922473, -0.6357922655639845, 0.01910882388183459, 0.6605981182143601, 0.2871073718275956, -0.7967523017727124, 1.2749217387718361, -1.0184090272611115, -0.30776517663371084, -1.3835687056089345, -0.9589418851101955, 0.8388110623238367, -0.8262275451330596, -1.8834577989862957, 0.5672824330131843, 1.5196434832141326, -0.9864345081943736, -0.09831683886884271, -0.4837052077847503, 1.2148627172318998, -0.8692477403189863, -2.145542147953029, -1.026863204622045, 0.5759905082069539, -0.08525962897285295, 0.1994816415925022, 0.29053581455171307, 1.6111189999118847, -0.8918623381139243, 0.757880123902853, -0.9228502119583749, 0.2614246572476863, -1.4678941893578006, -1.7208349749814054, -1.188026523351157, -1.3120013569153754, -0.26774879333661716, -0.8918948740304229, -1.8768343945216002, 0.5804338332708612, -0.506169023116886, -0.25771991196350186, -1.891780200402067, -0.90439014692466, -0.6309894908570972, -2.07726520770258, 0.44560260665169893, 0.36344301847922245, -0.9338476374001575, -0.7805318229279821, -1.4284991217257477, -1.5086579661524255, -0.01569096789541602, -2.1206884425801995, -1.971641489490636, -0.16318933968466018, 0.26430296290179456, -0.9783848110025019, -0.8944221474552131, 0.4463550575217183, 0.9586322265346929, -0.5716261211754448, 0.9428186601187796, -1.6636587907084162, -0.14151351627318537], \"yaxis\": \"y7\"}, {\"line\": {\"color\": \"rgba(128, 128, 128, 1.0)\", \"dash\": \"solid\", \"shape\": \"linear\", \"width\": 1.3}, \"marker\": {\"size\": 2, \"symbol\": \"circle\"}, \"mode\": \"markers\", \"name\": \"B\", \"text\": \"\", \"type\": \"scatter\", \"x\": [-1.3586555500283932, -1.1387743176844167, 0.48169938159576325, 0.6764372067302944, 1.1268266747347202, 0.6057252710507862, -0.7513219741686743, 0.005702313957507184, 1.4308791760663617, 1.2005966764227556, -0.9875278942485363, 0.5808660913976754, 1.4287941005077174, 0.4620702301387893, 1.0572734196064548, -1.1002913127709155, -0.1315515667924692, -1.1392566067659655, 0.07229281640598588, -0.5333057149292395, 0.5816100203393103, 1.306026153751653, 1.0195678806161312, 0.2888420412161623, -0.4433382139973612, -0.3454345344832595, 0.35534312460924733, -0.43117020195967376, -1.5045558829863606, -0.1815616314116132, -0.4368063742518326, -0.22620381140298199, 0.08720459040528854, 0.5678243149791222, 0.5881222446895752, 0.7480451633782648, -1.32794689771268, -0.3778143059967874, 0.16147452672508367, 0.06410447160154711, -0.379738719597055, 0.39967835730081835, 0.14216477357882099, 0.5571022162046607, -1.231042034691143, 0.17497112618671276, -0.23977151229832572, 0.3895289261776583, -0.25526591619421546, -0.19963109923025427, 1.1232157056995562, -1.3454744427361949, -0.9443758475972888, 0.10462002783908171, -0.21414108255498263, -0.013631441599426721, 0.25542382679462305, -0.042489116778872876, 2.223297765291669, 1.4438772399384525, 0.3357163929448841, 1.2836072157745464, 1.5871881561554102, 1.3498649620194312, -0.1950754533526257, -0.3423773505787837, 1.205801770483136, -1.4535643076134128, -0.11707550596919053, -0.07076833743694082, 0.05183565834795385, -0.6962317336833402, -0.2965689315021597, -0.4802740478324376, 1.6212754882155525, -0.6149308986561066, 0.14122511601298043, -1.4253659454394587, -0.16682763283868907, -0.2522594661264877, 0.6016714218645476, 2.431213897315591, 1.4180976108862766, 1.4556917676318628, -0.4258864761956951, 0.6942935605645597, 0.8682132087462273, 0.038312944846510065, 0.26163123834069224, 0.3408182247581353, 2.1254219393308467, -0.15326156703769878, 0.5757955269280755, 2.017680954544086, -0.6816594733685633, 0.011130112560700777, 0.8960972114035543, -0.6479458737519347, -0.6154386787320508, -0.5344839718555876], \"xaxis\": \"x8\", \"y\": [-1.3758072804282802, -2.0166423275795045, -0.1338910600221726, -0.5820663677732987, 0.9712282596893289, 0.04856414782439493, -1.6446518762072733, -0.9421467336068651, 0.21954059186296845, 0.36807439477449627, -0.3654460240432651, -0.8881757488822261, 1.1359574308252038, 1.784248095321167, -2.230174327763357, -0.9096345705300771, 0.058131826476081325, 0.49564915635896856, 0.9955580219566825, 0.9416554478215717, 0.501777796879372, 0.5832116202465111, 0.07587249397032425, -1.3196824810937708, 0.4830791708975699, -1.374253540092365, -0.5760286311195967, 0.7116952836336254, -0.3114529511132174, -0.4000450842140983, 0.04992534906556205, 1.954807728032101, 0.13171389071864884, -0.033496919366209084, -0.49088708243273443, -0.32917951662922473, -0.6357922655639845, 0.01910882388183459, 0.6605981182143601, 0.2871073718275956, -0.7967523017727124, 1.2749217387718361, -1.0184090272611115, -0.30776517663371084, -1.3835687056089345, -0.9589418851101955, 0.8388110623238367, -0.8262275451330596, -1.8834577989862957, 0.5672824330131843, 1.5196434832141326, -0.9864345081943736, -0.09831683886884271, -0.4837052077847503, 1.2148627172318998, -0.8692477403189863, -2.145542147953029, -1.026863204622045, 0.5759905082069539, -0.08525962897285295, 0.1994816415925022, 0.29053581455171307, 1.6111189999118847, -0.8918623381139243, 0.757880123902853, -0.9228502119583749, 0.2614246572476863, -1.4678941893578006, -1.7208349749814054, -1.188026523351157, -1.3120013569153754, -0.26774879333661716, -0.8918948740304229, -1.8768343945216002, 0.5804338332708612, -0.506169023116886, -0.25771991196350186, -1.891780200402067, -0.90439014692466, -0.6309894908570972, -2.07726520770258, 0.44560260665169893, 0.36344301847922245, -0.9338476374001575, -0.7805318229279821, -1.4284991217257477, -1.5086579661524255, -0.01569096789541602, -2.1206884425801995, -1.971641489490636, -0.16318933968466018, 0.26430296290179456, -0.9783848110025019, -0.8944221474552131, 0.4463550575217183, 0.9586322265346929, -0.5716261211754448, 0.9428186601187796, -1.6636587907084162, -0.14151351627318537], \"yaxis\": \"y8\"}, {\"line\": {\"color\": \"rgba(128, 128, 128, 1.0)\", \"dash\": \"solid\", \"shape\": \"linear\", \"width\": 1.3}, \"marker\": {\"size\": 2, \"symbol\": \"circle\"}, \"mode\": \"markers\", \"name\": \"C\", \"text\": \"\", \"type\": \"scatter\", \"x\": [-0.5834753383517299, -0.17406211351662937, 0.3060879792029995, -0.9534093278803556, 0.3335305517157785, -0.97208229715675, 0.773922882267899, 1.4949271133171107, 0.8367814978013194, 0.08308209603773245, 1.182761740458536, 0.49774685820127185, 0.14198467055805747, -1.1355453476946098, 1.011619431731822, -0.6353426447605321, -0.5424144198586475, -1.5756694152563402, 1.2337366847436115, 0.11368435771078347, -1.8603332979892468, -0.37908290090239266, -2.3952188064783204, 0.8877427257916617, -0.7115630132230167, -1.9603833676408622, -0.28727568692696054, -1.1266536274403456, 1.1008068413241312, 0.9886964497727425, -0.5102809461243386, -0.26700043460695194, 0.9015877446659447, -0.21081646226019637, 2.7208289305974653, 0.1416432945420239, 0.04999158259603204, -0.5592081595503431, 0.45281455512608043, -0.47627645727787193, 1.207059439612465, 0.4777022075082107, -1.026931705617259, -0.09326720728713248, -2.4491799906079867, -0.9669689841078734, 0.39843192202660516, -1.601682430692205, -0.09730257947951387, 0.705339489766667, -0.6885982039996992, 0.6473742218943702, 1.0899943898808402, -0.3672553912402756, 0.3987603976761634, -0.19251739749906915, -0.6650279548408881, 0.1609926421761508, 0.5130893323136226, 0.40379560486445404, 1.5089011416060847, 0.9171065596968837, -0.8461891366811787, 1.0164246921459297, 0.6682311222058028, -0.11500234092630772, 1.5242086731479125, 1.1030176443205182, -0.18787103995561596, -1.3538512726051395, 0.8253066278166783, -0.3119693363687069, 0.21814712315537818, -0.0735611122243912, -0.028292622673684212, -1.1577550791690683, 1.3129945490002852, 0.4300996259364016, -1.2300531873215208, 0.2321272415931786, 0.37983972009769645, -0.48843454037353673, -0.44977945445042544, 1.6926048669377491, 1.5476340525379164, 0.9038064089580464, 0.34345404520601236, -0.3738001536190124, 1.0211207868093704, 0.9146321683636861, -0.518458729915045, -1.2156051542720545, 0.6405558740080012, -1.5203730953554544, 0.23280630549747244, -1.2106399353868293, 0.2511404517840312, 1.66809342037484, -0.3742517195980744, -1.2245820489080763], \"xaxis\": \"x9\", \"y\": [1.0018795416454491, -2.337390086103986, -0.4232539974018757, -1.8969316747463965, 0.7998081641187528, -0.3661949850561008, -1.0181639947152596, -0.11585982965963165, 0.8472399266545323, 0.43788030425939717, -0.663764784381059, -0.7337123337610191, 1.4548197863516765, -0.42418631146704205, -0.2545716351889039, 0.5366989835326802, 0.36605335363143343, -1.4143036007630514, 1.5221013213507886, 0.7791456306917478, 0.23025246545213834, -1.8638969248337085, -1.6884893644211625, -0.045487154963125165, -0.801121406292604, 0.0547559143145917, 0.545183512897039, -0.724015990081383, 0.06573202885491526, 1.6498167190416173, 0.6533000011435984, -0.5587155424933851, -1.7109782094864845, 2.203279978897059, -1.2458021051215071, 0.7884115134544288, -2.1775179047299407, -1.2627256229473947, 1.8817286080299984, 0.4368373756387097, 1.7706549361056712, 0.6526038916660498, -0.32547051254043496, 0.5741831449609582, -2.043115613867004, 0.15453730277501193, -0.6087453202889653, 0.8695799883309445, -0.8609126079247554, 0.9312292205742623, 0.9033553738916221, -1.8349477525385487, 0.05234757707374364, -0.07264521518900441, -2.289836482394134, -1.6493967640659406, -0.482197393675575, -1.1391850183853196, 0.27952172855246427, -0.24730382546811683, 1.4330576241904138, 1.052331922367535, 0.13068002155250746, -0.607376113375024, 0.3910918792553487, -0.8556328435345957, 0.41913087940142013, -0.35323768409171563, 1.0702506121182342, -1.1916818045776487, -0.1925503665005978, -0.877017495740593, -0.823621667252424, -1.3373927643971992, -0.6974293794909958, -0.941557903733586, 0.4734217251518457, 1.760748122282674, -0.05527878596913308, -1.0481418298737724, -1.5224723426836864, -0.5445950686677371, -1.018327795899508, -1.6454156901822734, -1.0439229011320366, 1.226138672249239, 1.648029568633649, 1.6132974530492734, -0.4729133085871159, -0.3224150454961992, 0.12450040090001759, -1.4789057463124318, -0.03375216725478918, 1.5198674300593413, -0.7337586002507553, 1.0376640654837075, 0.5459608141126524, 0.5766045985211756, 0.1707602039956786, 0.5665018422576403], \"yaxis\": \"y9\"}, {\"line\": {\"color\": \"rgba(128, 128, 128, 1.0)\", \"dash\": \"solid\", \"shape\": \"linear\", \"width\": 1.3}, \"marker\": {\"size\": 2, \"symbol\": \"circle\"}, \"mode\": \"markers\", \"name\": \"C\", \"text\": \"\", \"type\": \"scatter\", \"x\": [-1.3758072804282802, -2.0166423275795045, -0.1338910600221726, -0.5820663677732987, 0.9712282596893289, 0.04856414782439493, -1.6446518762072733, -0.9421467336068651, 0.21954059186296845, 0.36807439477449627, -0.3654460240432651, -0.8881757488822261, 1.1359574308252038, 1.784248095321167, -2.230174327763357, -0.9096345705300771, 0.058131826476081325, 0.49564915635896856, 0.9955580219566825, 0.9416554478215717, 0.501777796879372, 0.5832116202465111, 0.07587249397032425, -1.3196824810937708, 0.4830791708975699, -1.374253540092365, -0.5760286311195967, 0.7116952836336254, -0.3114529511132174, -0.4000450842140983, 0.04992534906556205, 1.954807728032101, 0.13171389071864884, -0.033496919366209084, -0.49088708243273443, -0.32917951662922473, -0.6357922655639845, 0.01910882388183459, 0.6605981182143601, 0.2871073718275956, -0.7967523017727124, 1.2749217387718361, -1.0184090272611115, -0.30776517663371084, -1.3835687056089345, -0.9589418851101955, 0.8388110623238367, -0.8262275451330596, -1.8834577989862957, 0.5672824330131843, 1.5196434832141326, -0.9864345081943736, -0.09831683886884271, -0.4837052077847503, 1.2148627172318998, -0.8692477403189863, -2.145542147953029, -1.026863204622045, 0.5759905082069539, -0.08525962897285295, 0.1994816415925022, 0.29053581455171307, 1.6111189999118847, -0.8918623381139243, 0.757880123902853, -0.9228502119583749, 0.2614246572476863, -1.4678941893578006, -1.7208349749814054, -1.188026523351157, -1.3120013569153754, -0.26774879333661716, -0.8918948740304229, -1.8768343945216002, 0.5804338332708612, -0.506169023116886, -0.25771991196350186, -1.891780200402067, -0.90439014692466, -0.6309894908570972, -2.07726520770258, 0.44560260665169893, 0.36344301847922245, -0.9338476374001575, -0.7805318229279821, -1.4284991217257477, -1.5086579661524255, -0.01569096789541602, -2.1206884425801995, -1.971641489490636, -0.16318933968466018, 0.26430296290179456, -0.9783848110025019, -0.8944221474552131, 0.4463550575217183, 0.9586322265346929, -0.5716261211754448, 0.9428186601187796, -1.6636587907084162, -0.14151351627318537], \"xaxis\": \"x10\", \"y\": [1.0018795416454491, -2.337390086103986, -0.4232539974018757, -1.8969316747463965, 0.7998081641187528, -0.3661949850561008, -1.0181639947152596, -0.11585982965963165, 0.8472399266545323, 0.43788030425939717, -0.663764784381059, -0.7337123337610191, 1.4548197863516765, -0.42418631146704205, -0.2545716351889039, 0.5366989835326802, 0.36605335363143343, -1.4143036007630514, 1.5221013213507886, 0.7791456306917478, 0.23025246545213834, -1.8638969248337085, -1.6884893644211625, -0.045487154963125165, -0.801121406292604, 0.0547559143145917, 0.545183512897039, -0.724015990081383, 0.06573202885491526, 1.6498167190416173, 0.6533000011435984, -0.5587155424933851, -1.7109782094864845, 2.203279978897059, -1.2458021051215071, 0.7884115134544288, -2.1775179047299407, -1.2627256229473947, 1.8817286080299984, 0.4368373756387097, 1.7706549361056712, 0.6526038916660498, -0.32547051254043496, 0.5741831449609582, -2.043115613867004, 0.15453730277501193, -0.6087453202889653, 0.8695799883309445, -0.8609126079247554, 0.9312292205742623, 0.9033553738916221, -1.8349477525385487, 0.05234757707374364, -0.07264521518900441, -2.289836482394134, -1.6493967640659406, -0.482197393675575, -1.1391850183853196, 0.27952172855246427, -0.24730382546811683, 1.4330576241904138, 1.052331922367535, 0.13068002155250746, -0.607376113375024, 0.3910918792553487, -0.8556328435345957, 0.41913087940142013, -0.35323768409171563, 1.0702506121182342, -1.1916818045776487, -0.1925503665005978, -0.877017495740593, -0.823621667252424, -1.3373927643971992, -0.6974293794909958, -0.941557903733586, 0.4734217251518457, 1.760748122282674, -0.05527878596913308, -1.0481418298737724, -1.5224723426836864, -0.5445950686677371, -1.018327795899508, -1.6454156901822734, -1.0439229011320366, 1.226138672249239, 1.648029568633649, 1.6132974530492734, -0.4729133085871159, -0.3224150454961992, 0.12450040090001759, -1.4789057463124318, -0.03375216725478918, 1.5198674300593413, -0.7337586002507553, 1.0376640654837075, 0.5459608141126524, 0.5766045985211756, 0.1707602039956786, 0.5665018422576403], \"yaxis\": \"y10\"}, {\"histfunc\": \"count\", \"histnorm\": \"\", \"marker\": {\"color\": \"rgba(50, 171, 96, 1.0)\", \"line\": {\"color\": \"#4D5663\", \"width\": 1.3}}, \"name\": \"C\", \"nbinsx\": 10, \"opacity\": 0.8, \"orientation\": \"v\", \"type\": \"histogram\", \"x\": [1.0018795416454491, -2.337390086103986, -0.4232539974018757, -1.8969316747463965, 0.7998081641187528, -0.3661949850561008, -1.0181639947152596, -0.11585982965963165, 0.8472399266545323, 0.43788030425939717, -0.663764784381059, -0.7337123337610191, 1.4548197863516765, -0.42418631146704205, -0.2545716351889039, 0.5366989835326802, 0.36605335363143343, -1.4143036007630514, 1.5221013213507886, 0.7791456306917478, 0.23025246545213834, -1.8638969248337085, -1.6884893644211625, -0.045487154963125165, -0.801121406292604, 0.0547559143145917, 0.545183512897039, -0.724015990081383, 0.06573202885491526, 1.6498167190416173, 0.6533000011435984, -0.5587155424933851, -1.7109782094864845, 2.203279978897059, -1.2458021051215071, 0.7884115134544288, -2.1775179047299407, -1.2627256229473947, 1.8817286080299984, 0.4368373756387097, 1.7706549361056712, 0.6526038916660498, -0.32547051254043496, 0.5741831449609582, -2.043115613867004, 0.15453730277501193, -0.6087453202889653, 0.8695799883309445, -0.8609126079247554, 0.9312292205742623, 0.9033553738916221, -1.8349477525385487, 0.05234757707374364, -0.07264521518900441, -2.289836482394134, -1.6493967640659406, -0.482197393675575, -1.1391850183853196, 0.27952172855246427, -0.24730382546811683, 1.4330576241904138, 1.052331922367535, 0.13068002155250746, -0.607376113375024, 0.3910918792553487, -0.8556328435345957, 0.41913087940142013, -0.35323768409171563, 1.0702506121182342, -1.1916818045776487, -0.1925503665005978, -0.877017495740593, -0.823621667252424, -1.3373927643971992, -0.6974293794909958, -0.941557903733586, 0.4734217251518457, 1.760748122282674, -0.05527878596913308, -1.0481418298737724, -1.5224723426836864, -0.5445950686677371, -1.018327795899508, -1.6454156901822734, -1.0439229011320366, 1.226138672249239, 1.648029568633649, 1.6132974530492734, -0.4729133085871159, -0.3224150454961992, 0.12450040090001759, -1.4789057463124318, -0.03375216725478918, 1.5198674300593413, -0.7337586002507553, 1.0376640654837075, 0.5459608141126524, 0.5766045985211756, 0.1707602039956786, 0.5665018422576403], \"xaxis\": \"x11\", \"yaxis\": \"y11\"}, {\"line\": {\"color\": \"rgba(128, 128, 128, 1.0)\", \"dash\": \"solid\", \"shape\": \"linear\", \"width\": 1.3}, \"marker\": {\"size\": 2, \"symbol\": \"circle\"}, \"mode\": \"markers\", \"name\": \"C\", \"text\": \"\", \"type\": \"scatter\", \"x\": [-1.3586555500283932, -1.1387743176844167, 0.48169938159576325, 0.6764372067302944, 1.1268266747347202, 0.6057252710507862, -0.7513219741686743, 0.005702313957507184, 1.4308791760663617, 1.2005966764227556, -0.9875278942485363, 0.5808660913976754, 1.4287941005077174, 0.4620702301387893, 1.0572734196064548, -1.1002913127709155, -0.1315515667924692, -1.1392566067659655, 0.07229281640598588, -0.5333057149292395, 0.5816100203393103, 1.306026153751653, 1.0195678806161312, 0.2888420412161623, -0.4433382139973612, -0.3454345344832595, 0.35534312460924733, -0.43117020195967376, -1.5045558829863606, -0.1815616314116132, -0.4368063742518326, -0.22620381140298199, 0.08720459040528854, 0.5678243149791222, 0.5881222446895752, 0.7480451633782648, -1.32794689771268, -0.3778143059967874, 0.16147452672508367, 0.06410447160154711, -0.379738719597055, 0.39967835730081835, 0.14216477357882099, 0.5571022162046607, -1.231042034691143, 0.17497112618671276, -0.23977151229832572, 0.3895289261776583, -0.25526591619421546, -0.19963109923025427, 1.1232157056995562, -1.3454744427361949, -0.9443758475972888, 0.10462002783908171, -0.21414108255498263, -0.013631441599426721, 0.25542382679462305, -0.042489116778872876, 2.223297765291669, 1.4438772399384525, 0.3357163929448841, 1.2836072157745464, 1.5871881561554102, 1.3498649620194312, -0.1950754533526257, -0.3423773505787837, 1.205801770483136, -1.4535643076134128, -0.11707550596919053, -0.07076833743694082, 0.05183565834795385, -0.6962317336833402, -0.2965689315021597, -0.4802740478324376, 1.6212754882155525, -0.6149308986561066, 0.14122511601298043, -1.4253659454394587, -0.16682763283868907, -0.2522594661264877, 0.6016714218645476, 2.431213897315591, 1.4180976108862766, 1.4556917676318628, -0.4258864761956951, 0.6942935605645597, 0.8682132087462273, 0.038312944846510065, 0.26163123834069224, 0.3408182247581353, 2.1254219393308467, -0.15326156703769878, 0.5757955269280755, 2.017680954544086, -0.6816594733685633, 0.011130112560700777, 0.8960972114035543, -0.6479458737519347, -0.6154386787320508, -0.5344839718555876], \"xaxis\": \"x12\", \"y\": [1.0018795416454491, -2.337390086103986, -0.4232539974018757, -1.8969316747463965, 0.7998081641187528, -0.3661949850561008, -1.0181639947152596, -0.11585982965963165, 0.8472399266545323, 0.43788030425939717, -0.663764784381059, -0.7337123337610191, 1.4548197863516765, -0.42418631146704205, -0.2545716351889039, 0.5366989835326802, 0.36605335363143343, -1.4143036007630514, 1.5221013213507886, 0.7791456306917478, 0.23025246545213834, -1.8638969248337085, -1.6884893644211625, -0.045487154963125165, -0.801121406292604, 0.0547559143145917, 0.545183512897039, -0.724015990081383, 0.06573202885491526, 1.6498167190416173, 0.6533000011435984, -0.5587155424933851, -1.7109782094864845, 2.203279978897059, -1.2458021051215071, 0.7884115134544288, -2.1775179047299407, -1.2627256229473947, 1.8817286080299984, 0.4368373756387097, 1.7706549361056712, 0.6526038916660498, -0.32547051254043496, 0.5741831449609582, -2.043115613867004, 0.15453730277501193, -0.6087453202889653, 0.8695799883309445, -0.8609126079247554, 0.9312292205742623, 0.9033553738916221, -1.8349477525385487, 0.05234757707374364, -0.07264521518900441, -2.289836482394134, -1.6493967640659406, -0.482197393675575, -1.1391850183853196, 0.27952172855246427, -0.24730382546811683, 1.4330576241904138, 1.052331922367535, 0.13068002155250746, -0.607376113375024, 0.3910918792553487, -0.8556328435345957, 0.41913087940142013, -0.35323768409171563, 1.0702506121182342, -1.1916818045776487, -0.1925503665005978, -0.877017495740593, -0.823621667252424, -1.3373927643971992, -0.6974293794909958, -0.941557903733586, 0.4734217251518457, 1.760748122282674, -0.05527878596913308, -1.0481418298737724, -1.5224723426836864, -0.5445950686677371, -1.018327795899508, -1.6454156901822734, -1.0439229011320366, 1.226138672249239, 1.648029568633649, 1.6132974530492734, -0.4729133085871159, -0.3224150454961992, 0.12450040090001759, -1.4789057463124318, -0.03375216725478918, 1.5198674300593413, -0.7337586002507553, 1.0376640654837075, 0.5459608141126524, 0.5766045985211756, 0.1707602039956786, 0.5665018422576403], \"yaxis\": \"y12\"}, {\"line\": {\"color\": \"rgba(128, 128, 128, 1.0)\", \"dash\": \"solid\", \"shape\": \"linear\", \"width\": 1.3}, \"marker\": {\"size\": 2, \"symbol\": \"circle\"}, \"mode\": \"markers\", \"name\": \"D\", \"text\": \"\", \"type\": \"scatter\", \"x\": [-0.5834753383517299, -0.17406211351662937, 0.3060879792029995, -0.9534093278803556, 0.3335305517157785, -0.97208229715675, 0.773922882267899, 1.4949271133171107, 0.8367814978013194, 0.08308209603773245, 1.182761740458536, 0.49774685820127185, 0.14198467055805747, -1.1355453476946098, 1.011619431731822, -0.6353426447605321, -0.5424144198586475, -1.5756694152563402, 1.2337366847436115, 0.11368435771078347, -1.8603332979892468, -0.37908290090239266, -2.3952188064783204, 0.8877427257916617, -0.7115630132230167, -1.9603833676408622, -0.28727568692696054, -1.1266536274403456, 1.1008068413241312, 0.9886964497727425, -0.5102809461243386, -0.26700043460695194, 0.9015877446659447, -0.21081646226019637, 2.7208289305974653, 0.1416432945420239, 0.04999158259603204, -0.5592081595503431, 0.45281455512608043, -0.47627645727787193, 1.207059439612465, 0.4777022075082107, -1.026931705617259, -0.09326720728713248, -2.4491799906079867, -0.9669689841078734, 0.39843192202660516, -1.601682430692205, -0.09730257947951387, 0.705339489766667, -0.6885982039996992, 0.6473742218943702, 1.0899943898808402, -0.3672553912402756, 0.3987603976761634, -0.19251739749906915, -0.6650279548408881, 0.1609926421761508, 0.5130893323136226, 0.40379560486445404, 1.5089011416060847, 0.9171065596968837, -0.8461891366811787, 1.0164246921459297, 0.6682311222058028, -0.11500234092630772, 1.5242086731479125, 1.1030176443205182, -0.18787103995561596, -1.3538512726051395, 0.8253066278166783, -0.3119693363687069, 0.21814712315537818, -0.0735611122243912, -0.028292622673684212, -1.1577550791690683, 1.3129945490002852, 0.4300996259364016, -1.2300531873215208, 0.2321272415931786, 0.37983972009769645, -0.48843454037353673, -0.44977945445042544, 1.6926048669377491, 1.5476340525379164, 0.9038064089580464, 0.34345404520601236, -0.3738001536190124, 1.0211207868093704, 0.9146321683636861, -0.518458729915045, -1.2156051542720545, 0.6405558740080012, -1.5203730953554544, 0.23280630549747244, -1.2106399353868293, 0.2511404517840312, 1.66809342037484, -0.3742517195980744, -1.2245820489080763], \"xaxis\": \"x13\", \"y\": [-1.3586555500283932, -1.1387743176844167, 0.48169938159576325, 0.6764372067302944, 1.1268266747347202, 0.6057252710507862, -0.7513219741686743, 0.005702313957507184, 1.4308791760663617, 1.2005966764227556, -0.9875278942485363, 0.5808660913976754, 1.4287941005077174, 0.4620702301387893, 1.0572734196064548, -1.1002913127709155, -0.1315515667924692, -1.1392566067659655, 0.07229281640598588, -0.5333057149292395, 0.5816100203393103, 1.306026153751653, 1.0195678806161312, 0.2888420412161623, -0.4433382139973612, -0.3454345344832595, 0.35534312460924733, -0.43117020195967376, -1.5045558829863606, -0.1815616314116132, -0.4368063742518326, -0.22620381140298199, 0.08720459040528854, 0.5678243149791222, 0.5881222446895752, 0.7480451633782648, -1.32794689771268, -0.3778143059967874, 0.16147452672508367, 0.06410447160154711, -0.379738719597055, 0.39967835730081835, 0.14216477357882099, 0.5571022162046607, -1.231042034691143, 0.17497112618671276, -0.23977151229832572, 0.3895289261776583, -0.25526591619421546, -0.19963109923025427, 1.1232157056995562, -1.3454744427361949, -0.9443758475972888, 0.10462002783908171, -0.21414108255498263, -0.013631441599426721, 0.25542382679462305, -0.042489116778872876, 2.223297765291669, 1.4438772399384525, 0.3357163929448841, 1.2836072157745464, 1.5871881561554102, 1.3498649620194312, -0.1950754533526257, -0.3423773505787837, 1.205801770483136, -1.4535643076134128, -0.11707550596919053, -0.07076833743694082, 0.05183565834795385, -0.6962317336833402, -0.2965689315021597, -0.4802740478324376, 1.6212754882155525, -0.6149308986561066, 0.14122511601298043, -1.4253659454394587, -0.16682763283868907, -0.2522594661264877, 0.6016714218645476, 2.431213897315591, 1.4180976108862766, 1.4556917676318628, -0.4258864761956951, 0.6942935605645597, 0.8682132087462273, 0.038312944846510065, 0.26163123834069224, 0.3408182247581353, 2.1254219393308467, -0.15326156703769878, 0.5757955269280755, 2.017680954544086, -0.6816594733685633, 0.011130112560700777, 0.8960972114035543, -0.6479458737519347, -0.6154386787320508, -0.5344839718555876], \"yaxis\": \"y13\"}, {\"line\": {\"color\": \"rgba(128, 128, 128, 1.0)\", \"dash\": \"solid\", \"shape\": \"linear\", \"width\": 1.3}, \"marker\": {\"size\": 2, \"symbol\": \"circle\"}, \"mode\": \"markers\", \"name\": \"D\", \"text\": \"\", \"type\": \"scatter\", \"x\": [-1.3758072804282802, -2.0166423275795045, -0.1338910600221726, -0.5820663677732987, 0.9712282596893289, 0.04856414782439493, -1.6446518762072733, -0.9421467336068651, 0.21954059186296845, 0.36807439477449627, -0.3654460240432651, -0.8881757488822261, 1.1359574308252038, 1.784248095321167, -2.230174327763357, -0.9096345705300771, 0.058131826476081325, 0.49564915635896856, 0.9955580219566825, 0.9416554478215717, 0.501777796879372, 0.5832116202465111, 0.07587249397032425, -1.3196824810937708, 0.4830791708975699, -1.374253540092365, -0.5760286311195967, 0.7116952836336254, -0.3114529511132174, -0.4000450842140983, 0.04992534906556205, 1.954807728032101, 0.13171389071864884, -0.033496919366209084, -0.49088708243273443, -0.32917951662922473, -0.6357922655639845, 0.01910882388183459, 0.6605981182143601, 0.2871073718275956, -0.7967523017727124, 1.2749217387718361, -1.0184090272611115, -0.30776517663371084, -1.3835687056089345, -0.9589418851101955, 0.8388110623238367, -0.8262275451330596, -1.8834577989862957, 0.5672824330131843, 1.5196434832141326, -0.9864345081943736, -0.09831683886884271, -0.4837052077847503, 1.2148627172318998, -0.8692477403189863, -2.145542147953029, -1.026863204622045, 0.5759905082069539, -0.08525962897285295, 0.1994816415925022, 0.29053581455171307, 1.6111189999118847, -0.8918623381139243, 0.757880123902853, -0.9228502119583749, 0.2614246572476863, -1.4678941893578006, -1.7208349749814054, -1.188026523351157, -1.3120013569153754, -0.26774879333661716, -0.8918948740304229, -1.8768343945216002, 0.5804338332708612, -0.506169023116886, -0.25771991196350186, -1.891780200402067, -0.90439014692466, -0.6309894908570972, -2.07726520770258, 0.44560260665169893, 0.36344301847922245, -0.9338476374001575, -0.7805318229279821, -1.4284991217257477, -1.5086579661524255, -0.01569096789541602, -2.1206884425801995, -1.971641489490636, -0.16318933968466018, 0.26430296290179456, -0.9783848110025019, -0.8944221474552131, 0.4463550575217183, 0.9586322265346929, -0.5716261211754448, 0.9428186601187796, -1.6636587907084162, -0.14151351627318537], \"xaxis\": \"x14\", \"y\": [-1.3586555500283932, -1.1387743176844167, 0.48169938159576325, 0.6764372067302944, 1.1268266747347202, 0.6057252710507862, -0.7513219741686743, 0.005702313957507184, 1.4308791760663617, 1.2005966764227556, -0.9875278942485363, 0.5808660913976754, 1.4287941005077174, 0.4620702301387893, 1.0572734196064548, -1.1002913127709155, -0.1315515667924692, -1.1392566067659655, 0.07229281640598588, -0.5333057149292395, 0.5816100203393103, 1.306026153751653, 1.0195678806161312, 0.2888420412161623, -0.4433382139973612, -0.3454345344832595, 0.35534312460924733, -0.43117020195967376, -1.5045558829863606, -0.1815616314116132, -0.4368063742518326, -0.22620381140298199, 0.08720459040528854, 0.5678243149791222, 0.5881222446895752, 0.7480451633782648, -1.32794689771268, -0.3778143059967874, 0.16147452672508367, 0.06410447160154711, -0.379738719597055, 0.39967835730081835, 0.14216477357882099, 0.5571022162046607, -1.231042034691143, 0.17497112618671276, -0.23977151229832572, 0.3895289261776583, -0.25526591619421546, -0.19963109923025427, 1.1232157056995562, -1.3454744427361949, -0.9443758475972888, 0.10462002783908171, -0.21414108255498263, -0.013631441599426721, 0.25542382679462305, -0.042489116778872876, 2.223297765291669, 1.4438772399384525, 0.3357163929448841, 1.2836072157745464, 1.5871881561554102, 1.3498649620194312, -0.1950754533526257, -0.3423773505787837, 1.205801770483136, -1.4535643076134128, -0.11707550596919053, -0.07076833743694082, 0.05183565834795385, -0.6962317336833402, -0.2965689315021597, -0.4802740478324376, 1.6212754882155525, -0.6149308986561066, 0.14122511601298043, -1.4253659454394587, -0.16682763283868907, -0.2522594661264877, 0.6016714218645476, 2.431213897315591, 1.4180976108862766, 1.4556917676318628, -0.4258864761956951, 0.6942935605645597, 0.8682132087462273, 0.038312944846510065, 0.26163123834069224, 0.3408182247581353, 2.1254219393308467, -0.15326156703769878, 0.5757955269280755, 2.017680954544086, -0.6816594733685633, 0.011130112560700777, 0.8960972114035543, -0.6479458737519347, -0.6154386787320508, -0.5344839718555876], \"yaxis\": \"y14\"}, {\"line\": {\"color\": \"rgba(128, 128, 128, 1.0)\", \"dash\": \"solid\", \"shape\": \"linear\", \"width\": 1.3}, \"marker\": {\"size\": 2, \"symbol\": \"circle\"}, \"mode\": \"markers\", \"name\": \"D\", \"text\": \"\", \"type\": \"scatter\", \"x\": [1.0018795416454491, -2.337390086103986, -0.4232539974018757, -1.8969316747463965, 0.7998081641187528, -0.3661949850561008, -1.0181639947152596, -0.11585982965963165, 0.8472399266545323, 0.43788030425939717, -0.663764784381059, -0.7337123337610191, 1.4548197863516765, -0.42418631146704205, -0.2545716351889039, 0.5366989835326802, 0.36605335363143343, -1.4143036007630514, 1.5221013213507886, 0.7791456306917478, 0.23025246545213834, -1.8638969248337085, -1.6884893644211625, -0.045487154963125165, -0.801121406292604, 0.0547559143145917, 0.545183512897039, -0.724015990081383, 0.06573202885491526, 1.6498167190416173, 0.6533000011435984, -0.5587155424933851, -1.7109782094864845, 2.203279978897059, -1.2458021051215071, 0.7884115134544288, -2.1775179047299407, -1.2627256229473947, 1.8817286080299984, 0.4368373756387097, 1.7706549361056712, 0.6526038916660498, -0.32547051254043496, 0.5741831449609582, -2.043115613867004, 0.15453730277501193, -0.6087453202889653, 0.8695799883309445, -0.8609126079247554, 0.9312292205742623, 0.9033553738916221, -1.8349477525385487, 0.05234757707374364, -0.07264521518900441, -2.289836482394134, -1.6493967640659406, -0.482197393675575, -1.1391850183853196, 0.27952172855246427, -0.24730382546811683, 1.4330576241904138, 1.052331922367535, 0.13068002155250746, -0.607376113375024, 0.3910918792553487, -0.8556328435345957, 0.41913087940142013, -0.35323768409171563, 1.0702506121182342, -1.1916818045776487, -0.1925503665005978, -0.877017495740593, -0.823621667252424, -1.3373927643971992, -0.6974293794909958, -0.941557903733586, 0.4734217251518457, 1.760748122282674, -0.05527878596913308, -1.0481418298737724, -1.5224723426836864, -0.5445950686677371, -1.018327795899508, -1.6454156901822734, -1.0439229011320366, 1.226138672249239, 1.648029568633649, 1.6132974530492734, -0.4729133085871159, -0.3224150454961992, 0.12450040090001759, -1.4789057463124318, -0.03375216725478918, 1.5198674300593413, -0.7337586002507553, 1.0376640654837075, 0.5459608141126524, 0.5766045985211756, 0.1707602039956786, 0.5665018422576403], \"xaxis\": \"x15\", \"y\": [-1.3586555500283932, -1.1387743176844167, 0.48169938159576325, 0.6764372067302944, 1.1268266747347202, 0.6057252710507862, -0.7513219741686743, 0.005702313957507184, 1.4308791760663617, 1.2005966764227556, -0.9875278942485363, 0.5808660913976754, 1.4287941005077174, 0.4620702301387893, 1.0572734196064548, -1.1002913127709155, -0.1315515667924692, -1.1392566067659655, 0.07229281640598588, -0.5333057149292395, 0.5816100203393103, 1.306026153751653, 1.0195678806161312, 0.2888420412161623, -0.4433382139973612, -0.3454345344832595, 0.35534312460924733, -0.43117020195967376, -1.5045558829863606, -0.1815616314116132, -0.4368063742518326, -0.22620381140298199, 0.08720459040528854, 0.5678243149791222, 0.5881222446895752, 0.7480451633782648, -1.32794689771268, -0.3778143059967874, 0.16147452672508367, 0.06410447160154711, -0.379738719597055, 0.39967835730081835, 0.14216477357882099, 0.5571022162046607, -1.231042034691143, 0.17497112618671276, -0.23977151229832572, 0.3895289261776583, -0.25526591619421546, -0.19963109923025427, 1.1232157056995562, -1.3454744427361949, -0.9443758475972888, 0.10462002783908171, -0.21414108255498263, -0.013631441599426721, 0.25542382679462305, -0.042489116778872876, 2.223297765291669, 1.4438772399384525, 0.3357163929448841, 1.2836072157745464, 1.5871881561554102, 1.3498649620194312, -0.1950754533526257, -0.3423773505787837, 1.205801770483136, -1.4535643076134128, -0.11707550596919053, -0.07076833743694082, 0.05183565834795385, -0.6962317336833402, -0.2965689315021597, -0.4802740478324376, 1.6212754882155525, -0.6149308986561066, 0.14122511601298043, -1.4253659454394587, -0.16682763283868907, -0.2522594661264877, 0.6016714218645476, 2.431213897315591, 1.4180976108862766, 1.4556917676318628, -0.4258864761956951, 0.6942935605645597, 0.8682132087462273, 0.038312944846510065, 0.26163123834069224, 0.3408182247581353, 2.1254219393308467, -0.15326156703769878, 0.5757955269280755, 2.017680954544086, -0.6816594733685633, 0.011130112560700777, 0.8960972114035543, -0.6479458737519347, -0.6154386787320508, -0.5344839718555876], \"yaxis\": \"y15\"}, {\"histfunc\": \"count\", \"histnorm\": \"\", \"marker\": {\"color\": \"rgba(128, 0, 128, 1.0)\", \"line\": {\"color\": \"#4D5663\", \"width\": 1.3}}, \"name\": \"D\", \"nbinsx\": 10, \"opacity\": 0.8, \"orientation\": \"v\", \"type\": \"histogram\", \"x\": [-1.3586555500283932, -1.1387743176844167, 0.48169938159576325, 0.6764372067302944, 1.1268266747347202, 0.6057252710507862, -0.7513219741686743, 0.005702313957507184, 1.4308791760663617, 1.2005966764227556, -0.9875278942485363, 0.5808660913976754, 1.4287941005077174, 0.4620702301387893, 1.0572734196064548, -1.1002913127709155, -0.1315515667924692, -1.1392566067659655, 0.07229281640598588, -0.5333057149292395, 0.5816100203393103, 1.306026153751653, 1.0195678806161312, 0.2888420412161623, -0.4433382139973612, -0.3454345344832595, 0.35534312460924733, -0.43117020195967376, -1.5045558829863606, -0.1815616314116132, -0.4368063742518326, -0.22620381140298199, 0.08720459040528854, 0.5678243149791222, 0.5881222446895752, 0.7480451633782648, -1.32794689771268, -0.3778143059967874, 0.16147452672508367, 0.06410447160154711, -0.379738719597055, 0.39967835730081835, 0.14216477357882099, 0.5571022162046607, -1.231042034691143, 0.17497112618671276, -0.23977151229832572, 0.3895289261776583, -0.25526591619421546, -0.19963109923025427, 1.1232157056995562, -1.3454744427361949, -0.9443758475972888, 0.10462002783908171, -0.21414108255498263, -0.013631441599426721, 0.25542382679462305, -0.042489116778872876, 2.223297765291669, 1.4438772399384525, 0.3357163929448841, 1.2836072157745464, 1.5871881561554102, 1.3498649620194312, -0.1950754533526257, -0.3423773505787837, 1.205801770483136, -1.4535643076134128, -0.11707550596919053, -0.07076833743694082, 0.05183565834795385, -0.6962317336833402, -0.2965689315021597, -0.4802740478324376, 1.6212754882155525, -0.6149308986561066, 0.14122511601298043, -1.4253659454394587, -0.16682763283868907, -0.2522594661264877, 0.6016714218645476, 2.431213897315591, 1.4180976108862766, 1.4556917676318628, -0.4258864761956951, 0.6942935605645597, 0.8682132087462273, 0.038312944846510065, 0.26163123834069224, 0.3408182247581353, 2.1254219393308467, -0.15326156703769878, 0.5757955269280755, 2.017680954544086, -0.6816594733685633, 0.011130112560700777, 0.8960972114035543, -0.6479458737519347, -0.6154386787320508, -0.5344839718555876], \"xaxis\": \"x16\", \"yaxis\": \"y16\"}],                        {\"bargap\": 0.02, \"legend\": {\"bgcolor\": \"#F5F6F9\", \"font\": {\"color\": \"#4D5663\"}}, \"paper_bgcolor\": \"#F5F6F9\", \"plot_bgcolor\": \"#F5F6F9\", \"showlegend\": false, \"template\": {\"data\": {\"bar\": [{\"error_x\": {\"color\": \"#2a3f5f\"}, \"error_y\": {\"color\": \"#2a3f5f\"}, \"marker\": {\"line\": {\"color\": \"#E5ECF6\", \"width\": 0.5}}, \"type\": \"bar\"}], \"barpolar\": [{\"marker\": {\"line\": {\"color\": \"#E5ECF6\", \"width\": 0.5}}, \"type\": \"barpolar\"}], \"carpet\": [{\"aaxis\": {\"endlinecolor\": \"#2a3f5f\", \"gridcolor\": \"white\", \"linecolor\": \"white\", \"minorgridcolor\": \"white\", \"startlinecolor\": \"#2a3f5f\"}, \"baxis\": {\"endlinecolor\": \"#2a3f5f\", \"gridcolor\": \"white\", \"linecolor\": \"white\", \"minorgridcolor\": \"white\", \"startlinecolor\": \"#2a3f5f\"}, \"type\": \"carpet\"}], \"choropleth\": [{\"colorbar\": {\"outlinewidth\": 0, \"ticks\": \"\"}, \"type\": \"choropleth\"}], \"contour\": [{\"colorbar\": {\"outlinewidth\": 0, \"ticks\": \"\"}, \"colorscale\": [[0.0, \"#0d0887\"], [0.1111111111111111, \"#46039f\"], [0.2222222222222222, \"#7201a8\"], [0.3333333333333333, \"#9c179e\"], [0.4444444444444444, \"#bd3786\"], [0.5555555555555556, \"#d8576b\"], [0.6666666666666666, \"#ed7953\"], [0.7777777777777778, \"#fb9f3a\"], [0.8888888888888888, \"#fdca26\"], [1.0, \"#f0f921\"]], \"type\": \"contour\"}], \"contourcarpet\": [{\"colorbar\": {\"outlinewidth\": 0, \"ticks\": \"\"}, \"type\": \"contourcarpet\"}], \"heatmap\": [{\"colorbar\": {\"outlinewidth\": 0, \"ticks\": \"\"}, \"colorscale\": [[0.0, \"#0d0887\"], [0.1111111111111111, \"#46039f\"], [0.2222222222222222, \"#7201a8\"], [0.3333333333333333, \"#9c179e\"], [0.4444444444444444, \"#bd3786\"], [0.5555555555555556, \"#d8576b\"], [0.6666666666666666, \"#ed7953\"], [0.7777777777777778, \"#fb9f3a\"], [0.8888888888888888, \"#fdca26\"], [1.0, \"#f0f921\"]], \"type\": \"heatmap\"}], \"heatmapgl\": [{\"colorbar\": {\"outlinewidth\": 0, \"ticks\": \"\"}, \"colorscale\": [[0.0, \"#0d0887\"], [0.1111111111111111, \"#46039f\"], [0.2222222222222222, \"#7201a8\"], [0.3333333333333333, \"#9c179e\"], [0.4444444444444444, \"#bd3786\"], [0.5555555555555556, \"#d8576b\"], [0.6666666666666666, \"#ed7953\"], [0.7777777777777778, \"#fb9f3a\"], [0.8888888888888888, \"#fdca26\"], [1.0, \"#f0f921\"]], \"type\": \"heatmapgl\"}], \"histogram\": [{\"marker\": {\"colorbar\": {\"outlinewidth\": 0, \"ticks\": \"\"}}, \"type\": \"histogram\"}], \"histogram2d\": [{\"colorbar\": {\"outlinewidth\": 0, \"ticks\": \"\"}, \"colorscale\": [[0.0, \"#0d0887\"], [0.1111111111111111, \"#46039f\"], [0.2222222222222222, \"#7201a8\"], [0.3333333333333333, \"#9c179e\"], [0.4444444444444444, \"#bd3786\"], [0.5555555555555556, \"#d8576b\"], [0.6666666666666666, \"#ed7953\"], [0.7777777777777778, \"#fb9f3a\"], [0.8888888888888888, \"#fdca26\"], [1.0, \"#f0f921\"]], \"type\": \"histogram2d\"}], \"histogram2dcontour\": [{\"colorbar\": {\"outlinewidth\": 0, \"ticks\": \"\"}, \"colorscale\": [[0.0, \"#0d0887\"], [0.1111111111111111, \"#46039f\"], [0.2222222222222222, \"#7201a8\"], [0.3333333333333333, \"#9c179e\"], [0.4444444444444444, \"#bd3786\"], [0.5555555555555556, \"#d8576b\"], [0.6666666666666666, \"#ed7953\"], [0.7777777777777778, \"#fb9f3a\"], [0.8888888888888888, \"#fdca26\"], [1.0, \"#f0f921\"]], \"type\": \"histogram2dcontour\"}], \"mesh3d\": [{\"colorbar\": {\"outlinewidth\": 0, \"ticks\": \"\"}, \"type\": \"mesh3d\"}], \"parcoords\": [{\"line\": {\"colorbar\": {\"outlinewidth\": 0, \"ticks\": \"\"}}, \"type\": \"parcoords\"}], \"pie\": [{\"automargin\": true, \"type\": \"pie\"}], \"scatter\": [{\"marker\": {\"colorbar\": {\"outlinewidth\": 0, \"ticks\": \"\"}}, \"type\": \"scatter\"}], \"scatter3d\": [{\"line\": {\"colorbar\": {\"outlinewidth\": 0, \"ticks\": \"\"}}, \"marker\": {\"colorbar\": {\"outlinewidth\": 0, \"ticks\": \"\"}}, \"type\": \"scatter3d\"}], \"scattercarpet\": [{\"marker\": {\"colorbar\": {\"outlinewidth\": 0, \"ticks\": \"\"}}, \"type\": \"scattercarpet\"}], \"scattergeo\": [{\"marker\": {\"colorbar\": {\"outlinewidth\": 0, \"ticks\": \"\"}}, \"type\": \"scattergeo\"}], \"scattergl\": [{\"marker\": {\"colorbar\": {\"outlinewidth\": 0, \"ticks\": \"\"}}, \"type\": \"scattergl\"}], \"scattermapbox\": [{\"marker\": {\"colorbar\": {\"outlinewidth\": 0, \"ticks\": \"\"}}, \"type\": \"scattermapbox\"}], \"scatterpolar\": [{\"marker\": {\"colorbar\": {\"outlinewidth\": 0, \"ticks\": \"\"}}, \"type\": \"scatterpolar\"}], \"scatterpolargl\": [{\"marker\": {\"colorbar\": {\"outlinewidth\": 0, \"ticks\": \"\"}}, \"type\": \"scatterpolargl\"}], \"scatterternary\": [{\"marker\": {\"colorbar\": {\"outlinewidth\": 0, \"ticks\": \"\"}}, \"type\": \"scatterternary\"}], \"surface\": [{\"colorbar\": {\"outlinewidth\": 0, \"ticks\": \"\"}, \"colorscale\": [[0.0, \"#0d0887\"], [0.1111111111111111, \"#46039f\"], [0.2222222222222222, \"#7201a8\"], [0.3333333333333333, \"#9c179e\"], [0.4444444444444444, \"#bd3786\"], [0.5555555555555556, \"#d8576b\"], [0.6666666666666666, \"#ed7953\"], [0.7777777777777778, \"#fb9f3a\"], [0.8888888888888888, \"#fdca26\"], [1.0, \"#f0f921\"]], \"type\": \"surface\"}], \"table\": [{\"cells\": {\"fill\": {\"color\": \"#EBF0F8\"}, \"line\": {\"color\": \"white\"}}, \"header\": {\"fill\": {\"color\": \"#C8D4E3\"}, \"line\": {\"color\": \"white\"}}, \"type\": \"table\"}]}, \"layout\": {\"annotationdefaults\": {\"arrowcolor\": \"#2a3f5f\", \"arrowhead\": 0, \"arrowwidth\": 1}, \"autotypenumbers\": \"strict\", \"coloraxis\": {\"colorbar\": {\"outlinewidth\": 0, \"ticks\": \"\"}}, \"colorscale\": {\"diverging\": [[0, \"#8e0152\"], [0.1, \"#c51b7d\"], [0.2, \"#de77ae\"], [0.3, \"#f1b6da\"], [0.4, \"#fde0ef\"], [0.5, \"#f7f7f7\"], [0.6, \"#e6f5d0\"], [0.7, \"#b8e186\"], [0.8, \"#7fbc41\"], [0.9, \"#4d9221\"], [1, \"#276419\"]], \"sequential\": [[0.0, \"#0d0887\"], [0.1111111111111111, \"#46039f\"], [0.2222222222222222, \"#7201a8\"], [0.3333333333333333, \"#9c179e\"], [0.4444444444444444, \"#bd3786\"], [0.5555555555555556, \"#d8576b\"], [0.6666666666666666, \"#ed7953\"], [0.7777777777777778, \"#fb9f3a\"], [0.8888888888888888, \"#fdca26\"], [1.0, \"#f0f921\"]], \"sequentialminus\": [[0.0, \"#0d0887\"], [0.1111111111111111, \"#46039f\"], [0.2222222222222222, \"#7201a8\"], [0.3333333333333333, \"#9c179e\"], [0.4444444444444444, \"#bd3786\"], [0.5555555555555556, \"#d8576b\"], [0.6666666666666666, \"#ed7953\"], [0.7777777777777778, \"#fb9f3a\"], [0.8888888888888888, \"#fdca26\"], [1.0, \"#f0f921\"]]}, \"colorway\": [\"#636efa\", \"#EF553B\", \"#00cc96\", \"#ab63fa\", \"#FFA15A\", \"#19d3f3\", \"#FF6692\", \"#B6E880\", \"#FF97FF\", \"#FECB52\"], \"font\": {\"color\": \"#2a3f5f\"}, \"geo\": {\"bgcolor\": \"white\", \"lakecolor\": \"white\", \"landcolor\": \"#E5ECF6\", \"showlakes\": true, \"showland\": true, \"subunitcolor\": \"white\"}, \"hoverlabel\": {\"align\": \"left\"}, \"hovermode\": \"closest\", \"mapbox\": {\"style\": \"light\"}, \"paper_bgcolor\": \"white\", \"plot_bgcolor\": \"#E5ECF6\", \"polar\": {\"angularaxis\": {\"gridcolor\": \"white\", \"linecolor\": \"white\", \"ticks\": \"\"}, \"bgcolor\": \"#E5ECF6\", \"radialaxis\": {\"gridcolor\": \"white\", \"linecolor\": \"white\", \"ticks\": \"\"}}, \"scene\": {\"xaxis\": {\"backgroundcolor\": \"#E5ECF6\", \"gridcolor\": \"white\", \"gridwidth\": 2, \"linecolor\": \"white\", \"showbackground\": true, \"ticks\": \"\", \"zerolinecolor\": \"white\"}, \"yaxis\": {\"backgroundcolor\": \"#E5ECF6\", \"gridcolor\": \"white\", \"gridwidth\": 2, \"linecolor\": \"white\", \"showbackground\": true, \"ticks\": \"\", \"zerolinecolor\": \"white\"}, \"zaxis\": {\"backgroundcolor\": \"#E5ECF6\", \"gridcolor\": \"white\", \"gridwidth\": 2, \"linecolor\": \"white\", \"showbackground\": true, \"ticks\": \"\", \"zerolinecolor\": \"white\"}}, \"shapedefaults\": {\"line\": {\"color\": \"#2a3f5f\"}}, \"ternary\": {\"aaxis\": {\"gridcolor\": \"white\", \"linecolor\": \"white\", \"ticks\": \"\"}, \"baxis\": {\"gridcolor\": \"white\", \"linecolor\": \"white\", \"ticks\": \"\"}, \"bgcolor\": \"#E5ECF6\", \"caxis\": {\"gridcolor\": \"white\", \"linecolor\": \"white\", \"ticks\": \"\"}}, \"title\": {\"x\": 0.05}, \"xaxis\": {\"automargin\": true, \"gridcolor\": \"white\", \"linecolor\": \"white\", \"ticks\": \"\", \"title\": {\"standoff\": 15}, \"zerolinecolor\": \"white\", \"zerolinewidth\": 2}, \"yaxis\": {\"automargin\": true, \"gridcolor\": \"white\", \"linecolor\": \"white\", \"ticks\": \"\", \"title\": {\"standoff\": 15}, \"zerolinecolor\": \"white\", \"zerolinewidth\": 2}}}, \"title\": {\"font\": {\"color\": \"#4D5663\"}}, \"xaxis\": {\"anchor\": \"y\", \"domain\": [0.0, 0.2125], \"gridcolor\": \"#E1E5ED\", \"showgrid\": false, \"tickfont\": {\"color\": \"#4D5663\"}, \"title\": {\"font\": {\"color\": \"#4D5663\"}, \"text\": \"\"}, \"zerolinecolor\": \"#E1E5ED\"}, \"xaxis10\": {\"anchor\": \"y10\", \"domain\": [0.2625, 0.475], \"gridcolor\": \"#E1E5ED\", \"showgrid\": false, \"tickfont\": {\"color\": \"#4D5663\"}, \"title\": {\"font\": {\"color\": \"#4D5663\"}, \"text\": \"\"}, \"zerolinecolor\": \"#E1E5ED\"}, \"xaxis11\": {\"anchor\": \"y11\", \"domain\": [0.525, 0.7375], \"gridcolor\": \"#E1E5ED\", \"showgrid\": false, \"tickfont\": {\"color\": \"#4D5663\"}, \"title\": {\"font\": {\"color\": \"#4D5663\"}, \"text\": \"\"}, \"zerolinecolor\": \"#E1E5ED\"}, \"xaxis12\": {\"anchor\": \"y12\", \"domain\": [0.7875, 1.0], \"gridcolor\": \"#E1E5ED\", \"showgrid\": false, \"tickfont\": {\"color\": \"#4D5663\"}, \"title\": {\"font\": {\"color\": \"#4D5663\"}, \"text\": \"\"}, \"zerolinecolor\": \"#E1E5ED\"}, \"xaxis13\": {\"anchor\": \"y13\", \"domain\": [0.0, 0.2125], \"gridcolor\": \"#E1E5ED\", \"showgrid\": false, \"tickfont\": {\"color\": \"#4D5663\"}, \"title\": {\"font\": {\"color\": \"#4D5663\"}, \"text\": \"\"}, \"zerolinecolor\": \"#E1E5ED\"}, \"xaxis14\": {\"anchor\": \"y14\", \"domain\": [0.2625, 0.475], \"gridcolor\": \"#E1E5ED\", \"showgrid\": false, \"tickfont\": {\"color\": \"#4D5663\"}, \"title\": {\"font\": {\"color\": \"#4D5663\"}, \"text\": \"\"}, \"zerolinecolor\": \"#E1E5ED\"}, \"xaxis15\": {\"anchor\": \"y15\", \"domain\": [0.525, 0.7375], \"gridcolor\": \"#E1E5ED\", \"showgrid\": false, \"tickfont\": {\"color\": \"#4D5663\"}, \"title\": {\"font\": {\"color\": \"#4D5663\"}, \"text\": \"\"}, \"zerolinecolor\": \"#E1E5ED\"}, \"xaxis16\": {\"anchor\": \"y16\", \"domain\": [0.7875, 1.0], \"gridcolor\": \"#E1E5ED\", \"showgrid\": false, \"tickfont\": {\"color\": \"#4D5663\"}, \"title\": {\"font\": {\"color\": \"#4D5663\"}, \"text\": \"\"}, \"zerolinecolor\": \"#E1E5ED\"}, \"xaxis2\": {\"anchor\": \"y2\", \"domain\": [0.2625, 0.475], \"gridcolor\": \"#E1E5ED\", \"showgrid\": false, \"tickfont\": {\"color\": \"#4D5663\"}, \"title\": {\"font\": {\"color\": \"#4D5663\"}, \"text\": \"\"}, \"zerolinecolor\": \"#E1E5ED\"}, \"xaxis3\": {\"anchor\": \"y3\", \"domain\": [0.525, 0.7375], \"gridcolor\": \"#E1E5ED\", \"showgrid\": false, \"tickfont\": {\"color\": \"#4D5663\"}, \"title\": {\"font\": {\"color\": \"#4D5663\"}, \"text\": \"\"}, \"zerolinecolor\": \"#E1E5ED\"}, \"xaxis4\": {\"anchor\": \"y4\", \"domain\": [0.7875, 1.0], \"gridcolor\": \"#E1E5ED\", \"showgrid\": false, \"tickfont\": {\"color\": \"#4D5663\"}, \"title\": {\"font\": {\"color\": \"#4D5663\"}, \"text\": \"\"}, \"zerolinecolor\": \"#E1E5ED\"}, \"xaxis5\": {\"anchor\": \"y5\", \"domain\": [0.0, 0.2125], \"gridcolor\": \"#E1E5ED\", \"showgrid\": false, \"tickfont\": {\"color\": \"#4D5663\"}, \"title\": {\"font\": {\"color\": \"#4D5663\"}, \"text\": \"\"}, \"zerolinecolor\": \"#E1E5ED\"}, \"xaxis6\": {\"anchor\": \"y6\", \"domain\": [0.2625, 0.475], \"gridcolor\": \"#E1E5ED\", \"showgrid\": false, \"tickfont\": {\"color\": \"#4D5663\"}, \"title\": {\"font\": {\"color\": \"#4D5663\"}, \"text\": \"\"}, \"zerolinecolor\": \"#E1E5ED\"}, \"xaxis7\": {\"anchor\": \"y7\", \"domain\": [0.525, 0.7375], \"gridcolor\": \"#E1E5ED\", \"showgrid\": false, \"tickfont\": {\"color\": \"#4D5663\"}, \"title\": {\"font\": {\"color\": \"#4D5663\"}, \"text\": \"\"}, \"zerolinecolor\": \"#E1E5ED\"}, \"xaxis8\": {\"anchor\": \"y8\", \"domain\": [0.7875, 1.0], \"gridcolor\": \"#E1E5ED\", \"showgrid\": false, \"tickfont\": {\"color\": \"#4D5663\"}, \"title\": {\"font\": {\"color\": \"#4D5663\"}, \"text\": \"\"}, \"zerolinecolor\": \"#E1E5ED\"}, \"xaxis9\": {\"anchor\": \"y9\", \"domain\": [0.0, 0.2125], \"gridcolor\": \"#E1E5ED\", \"showgrid\": false, \"tickfont\": {\"color\": \"#4D5663\"}, \"title\": {\"font\": {\"color\": \"#4D5663\"}, \"text\": \"\"}, \"zerolinecolor\": \"#E1E5ED\"}, \"yaxis\": {\"anchor\": \"x\", \"domain\": [0.8025, 1.0], \"gridcolor\": \"#E1E5ED\", \"showgrid\": false, \"tickfont\": {\"color\": \"#4D5663\"}, \"title\": {\"font\": {\"color\": \"#4D5663\"}, \"text\": \"\"}, \"zerolinecolor\": \"#E1E5ED\"}, \"yaxis10\": {\"anchor\": \"x10\", \"domain\": [0.2675, 0.465], \"gridcolor\": \"#E1E5ED\", \"showgrid\": false, \"tickfont\": {\"color\": \"#4D5663\"}, \"title\": {\"font\": {\"color\": \"#4D5663\"}, \"text\": \"\"}, \"zerolinecolor\": \"#E1E5ED\"}, \"yaxis11\": {\"anchor\": \"x11\", \"domain\": [0.2675, 0.465], \"gridcolor\": \"#E1E5ED\", \"showgrid\": false, \"tickfont\": {\"color\": \"#4D5663\"}, \"title\": {\"font\": {\"color\": \"#4D5663\"}, \"text\": \"\"}, \"zerolinecolor\": \"#E1E5ED\"}, \"yaxis12\": {\"anchor\": \"x12\", \"domain\": [0.2675, 0.465], \"gridcolor\": \"#E1E5ED\", \"showgrid\": false, \"tickfont\": {\"color\": \"#4D5663\"}, \"title\": {\"font\": {\"color\": \"#4D5663\"}, \"text\": \"\"}, \"zerolinecolor\": \"#E1E5ED\"}, \"yaxis13\": {\"anchor\": \"x13\", \"domain\": [0.0, 0.1975], \"gridcolor\": \"#E1E5ED\", \"showgrid\": false, \"tickfont\": {\"color\": \"#4D5663\"}, \"title\": {\"font\": {\"color\": \"#4D5663\"}, \"text\": \"\"}, \"zerolinecolor\": \"#E1E5ED\"}, \"yaxis14\": {\"anchor\": \"x14\", \"domain\": [0.0, 0.1975], \"gridcolor\": \"#E1E5ED\", \"showgrid\": false, \"tickfont\": {\"color\": \"#4D5663\"}, \"title\": {\"font\": {\"color\": \"#4D5663\"}, \"text\": \"\"}, \"zerolinecolor\": \"#E1E5ED\"}, \"yaxis15\": {\"anchor\": \"x15\", \"domain\": [0.0, 0.1975], \"gridcolor\": \"#E1E5ED\", \"showgrid\": false, \"tickfont\": {\"color\": \"#4D5663\"}, \"title\": {\"font\": {\"color\": \"#4D5663\"}, \"text\": \"\"}, \"zerolinecolor\": \"#E1E5ED\"}, \"yaxis16\": {\"anchor\": \"x16\", \"domain\": [0.0, 0.1975], \"gridcolor\": \"#E1E5ED\", \"showgrid\": false, \"tickfont\": {\"color\": \"#4D5663\"}, \"title\": {\"font\": {\"color\": \"#4D5663\"}, \"text\": \"\"}, \"zerolinecolor\": \"#E1E5ED\"}, \"yaxis2\": {\"anchor\": \"x2\", \"domain\": [0.8025, 1.0], \"gridcolor\": \"#E1E5ED\", \"showgrid\": false, \"tickfont\": {\"color\": \"#4D5663\"}, \"title\": {\"font\": {\"color\": \"#4D5663\"}, \"text\": \"\"}, \"zerolinecolor\": \"#E1E5ED\"}, \"yaxis3\": {\"anchor\": \"x3\", \"domain\": [0.8025, 1.0], \"gridcolor\": \"#E1E5ED\", \"showgrid\": false, \"tickfont\": {\"color\": \"#4D5663\"}, \"title\": {\"font\": {\"color\": \"#4D5663\"}, \"text\": \"\"}, \"zerolinecolor\": \"#E1E5ED\"}, \"yaxis4\": {\"anchor\": \"x4\", \"domain\": [0.8025, 1.0], \"gridcolor\": \"#E1E5ED\", \"showgrid\": false, \"tickfont\": {\"color\": \"#4D5663\"}, \"title\": {\"font\": {\"color\": \"#4D5663\"}, \"text\": \"\"}, \"zerolinecolor\": \"#E1E5ED\"}, \"yaxis5\": {\"anchor\": \"x5\", \"domain\": [0.535, 0.7325], \"gridcolor\": \"#E1E5ED\", \"showgrid\": false, \"tickfont\": {\"color\": \"#4D5663\"}, \"title\": {\"font\": {\"color\": \"#4D5663\"}, \"text\": \"\"}, \"zerolinecolor\": \"#E1E5ED\"}, \"yaxis6\": {\"anchor\": \"x6\", \"domain\": [0.535, 0.7325], \"gridcolor\": \"#E1E5ED\", \"showgrid\": false, \"tickfont\": {\"color\": \"#4D5663\"}, \"title\": {\"font\": {\"color\": \"#4D5663\"}, \"text\": \"\"}, \"zerolinecolor\": \"#E1E5ED\"}, \"yaxis7\": {\"anchor\": \"x7\", \"domain\": [0.535, 0.7325], \"gridcolor\": \"#E1E5ED\", \"showgrid\": false, \"tickfont\": {\"color\": \"#4D5663\"}, \"title\": {\"font\": {\"color\": \"#4D5663\"}, \"text\": \"\"}, \"zerolinecolor\": \"#E1E5ED\"}, \"yaxis8\": {\"anchor\": \"x8\", \"domain\": [0.535, 0.7325], \"gridcolor\": \"#E1E5ED\", \"showgrid\": false, \"tickfont\": {\"color\": \"#4D5663\"}, \"title\": {\"font\": {\"color\": \"#4D5663\"}, \"text\": \"\"}, \"zerolinecolor\": \"#E1E5ED\"}, \"yaxis9\": {\"anchor\": \"x9\", \"domain\": [0.2675, 0.465], \"gridcolor\": \"#E1E5ED\", \"showgrid\": false, \"tickfont\": {\"color\": \"#4D5663\"}, \"title\": {\"font\": {\"color\": \"#4D5663\"}, \"text\": \"\"}, \"zerolinecolor\": \"#E1E5ED\"}},                        {\"showLink\": true, \"linkText\": \"Export to plot.ly\", \"plotlyServerURL\": \"https://plot.ly\", \"responsive\": true}                    ).then(function(){\n",
       "                            \n",
       "var gd = document.getElementById('9e8d4c80-3f90-4f9d-9ae9-3af2fac29518');\n",
       "var x = new MutationObserver(function (mutations, observer) {{\n",
       "        var display = window.getComputedStyle(gd).display;\n",
       "        if (!display || display === 'none') {{\n",
       "            console.log([gd, 'removed!']);\n",
       "            Plotly.purge(gd);\n",
       "            observer.disconnect();\n",
       "        }}\n",
       "}});\n",
       "\n",
       "// Listen for the removal of the full notebook cells\n",
       "var notebookContainer = gd.closest('#notebook-container');\n",
       "if (notebookContainer) {{\n",
       "    x.observe(notebookContainer, {childList: true});\n",
       "}}\n",
       "\n",
       "// Listen for the clearing of the current output cell\n",
       "var outputEl = gd.closest('.output');\n",
       "if (outputEl) {{\n",
       "    x.observe(outputEl, {childList: true});\n",
       "}}\n",
       "\n",
       "                        })                };                });            </script>        </div>"
      ]
     },
     "metadata": {},
     "output_type": "display_data"
    }
   ],
   "source": [
    "df.scatter_matrix()"
   ]
  },
  {
   "cell_type": "code",
   "execution_count": null,
   "metadata": {},
   "outputs": [],
   "source": []
  }
 ],
 "metadata": {
  "kernelspec": {
   "display_name": "Python 3",
   "language": "python",
   "name": "python3"
  },
  "language_info": {
   "codemirror_mode": {
    "name": "ipython",
    "version": 3
   },
   "file_extension": ".py",
   "mimetype": "text/x-python",
   "name": "python",
   "nbconvert_exporter": "python",
   "pygments_lexer": "ipython3",
   "version": "3.8.3"
  }
 },
 "nbformat": 4,
 "nbformat_minor": 4
}
