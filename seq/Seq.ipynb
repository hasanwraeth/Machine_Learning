{
 "cells": [
  {
   "cell_type": "code",
   "execution_count": 1,
   "id": "90806b34",
   "metadata": {},
   "outputs": [],
   "source": [
    "dna='ATGCATG'"
   ]
  },
  {
   "cell_type": "code",
   "execution_count": 2,
   "id": "20f25aca",
   "metadata": {},
   "outputs": [
    {
     "name": "stdout",
     "output_type": "stream",
     "text": [
      "ATGCATG\n"
     ]
    }
   ],
   "source": [
    "print(dna)"
   ]
  },
  {
   "cell_type": "code",
   "execution_count": 5,
   "id": "a25e4234",
   "metadata": {},
   "outputs": [
    {
     "data": {
      "text/plain": [
       "'atgcatg'"
      ]
     },
     "execution_count": 5,
     "metadata": {},
     "output_type": "execute_result"
    }
   ],
   "source": [
    "dna.lower()"
   ]
  },
  {
   "cell_type": "code",
   "execution_count": 8,
   "id": "4d3129c3",
   "metadata": {},
   "outputs": [
    {
     "data": {
      "text/plain": [
       "7"
      ]
     },
     "execution_count": 8,
     "metadata": {},
     "output_type": "execute_result"
    }
   ],
   "source": [
    "len(dna)"
   ]
  },
  {
   "cell_type": "code",
   "execution_count": 10,
   "id": "afd6b252",
   "metadata": {},
   "outputs": [],
   "source": [
    "gulo='>NM_178747.3 Mus musculus gulonolactone (L-) oxidase (Gulo), mRNAGCCTTTCTTGGTACCTGTGGCTAAACTTCCAGTCCCGTTCTGCCTGAGGTAACCCAGAGCCGAGGTTGCCTGACCACTGCATCTGCTGCTGCCCAGGGCTTTGTTCAACTTCCTGTGGGAACGCTTCAAGTCAAGTCGTCTGACCCTGTTGATCGCTGGAATCATGGTCCATGGGTACAAAGGGGTCCAGTTCCAAAACTGGGCGAAGACCTATGGCTGCAGTCCAGAGATGTACTACCAGCCCACATCAGTGGGGGAGGTCAGAGAGGTGCTGGCCCTGGCCCGGCAGCAGAACAAGAAAGTGAAGGTGGTGGGTGGCGGCCACTCGCCTTCAGACATCGCCTGCACCGATGGCTTCATGATTCACATGGGCAAGATGAACCGGGTTCTCCAGGTGGACAAGGAGAAGAAGCAGGTCACAGTGGAAGCCGGTATCCTCCTGACTGACCTGCACCCACAGCTGGACAAGCATGGCCTGGCCCTGTCTAATCTGGGAGCCGTGTCTGATGTGACGGTTGGTGGCGTCATTGGGTCTGGAACACATAACACCGGGATCAAGCACGGTATCCTGGCCACCCAGGTGGTGGCCCTGACCCTGATGAAGGCTGATGGAACAGTTCTGGAATGTTCTGAGTCAAGTAATGCAGATGTGTTCCAGGCTGCAAGGGTGCACCTGGGCTGCCTGGGTGTTATCCTCACTGTCACCCTGCAGTGTGTGCCACAGTTCCACCTTCTGGAGACATCCTTTCCTTCGACCCTCAAGGAGGTCCTTGACAACCTGGACAGCCACCTGAAGAAGTCTGAGTACTTCCGCTTCCTCTGGTTTCCTCACAGTGAGAACGTCAGCATCATCTACCAAGATCACACCAACAAGGAGCCCTCCTCTGCATCTAACTGGTTTTGGGACTATGCCATTGGGTTCTACCTCCTGGAATTCTTGCTCTGGACCAGCACCTACCTGCCACGCCTCGTGGGCTGGATCAACCGCTTCTTCTTCTGGCTGCTGTTCAACTGCAAGAAGGAGAGCAGCAACCTCAGCCACAAGATCTTCTCCTACGAGTGTCGCTTCAAGCAGCATGTCCAAGACTGGGCCATCCCCAGGGAGAAGACCAAGGAGGCCCTGCTGGAGCTAAAGGCCATGCTGGAGGCCCACCCCAAGGTGGTAGCCCACTACCCCGTGGAGGTGCGCTTCACCCGAGGTGATGACATCCTGCTGAGCCCGTGCTTCCAGAGGGACAGCTGCTACATGAACATCATTATGTACAGGCCCTATGGGAAGGATGTGCCTCGGTTGGATTACTGGCTGGCCTATGAGACCATCATGAAGAAGTTTGGAGGCAGGCCCCACTGGGCAAAGGCCCACAATTGCACCAGGAAGGACTTTGAGAAAATGTACCCCGCCTTTCACAAGTTCTGTGACATCCGCGAGAAGCTGGACCCCACTGGAATGTTCTTGAATTCGTACCTGGAAAAGGTTTTCTACTAAAGTAGAAGCAGAAGCAAGCTGCCCTGACCCCTCACTTCTGCTGCCTTGGGGGGGGGGGGGCAGGGCAGTGTCTCACAGGCACAGTGGGAGACGACCTCTCCTGAACACAAGGAGGGGCTGGGCTCTGGCCGAGGCCTCTGCCTTCTTTATCATCTTCATAACACCCCAGGCAAGAAGTGGCCTCTCACTCAAATTCCTGTTTGCATCTCCACGAGCCATACATAAACTACAATCATCTCAGGAAAAGGGGTTCCCCTTGCATCATATCTGTCCAGGCTAAGGATTTGGTCCTTCTAGGTTCTACTGGTCCACCAAGTATAGAGAGATCCCTGGGGCCTGCAGTTTTCCCTCCCTCTTCAGAAGGGATCTCTTGGCAACAGAGGTAGCATGAGGCATGCTCTGCTTACTTTTATCCTTAAAGGCCTTTCAGATGCCCAGAGTCTGTCTGTTGGTCCTGAGCAAGCCATCTTCCAGATGGGTCCACGTGGCCTTCTGACTGCCATGGCCTGGCCCTCACAGTGTCTCTTTCGGGTGGTGTTTAGAGTGGAATTTGCCTCGTCTTCTTAACCAGTTCCTGTTAGATCCCTGTGTTTTCTCCCTTCACCTCAGAGACAATTCTTTGGGCTGGGATCTCGCCGTGTCCCTGGGTTTCCCTGGGTCTTGGTTTCATCTTTCTCTTCACAGAGATGATTTCAGTTTATTTGTGGCCTTTCTGGAATGTTCCTTGGAGAGCCAATATGTTCCAGGTACTTTGTCAGAATTAAAAGACTCTGAAAGAT'"
   ]
  },
  {
   "cell_type": "code",
   "execution_count": 16,
   "id": "290a2689",
   "metadata": {},
   "outputs": [
    {
     "data": {
      "text/plain": [
       "True"
      ]
     },
     "execution_count": 16,
     "metadata": {},
     "output_type": "execute_result"
    }
   ],
   "source": [
    "'ATGC' and 'gulo' in gulo"
   ]
  },
  {
   "cell_type": "code",
   "execution_count": 25,
   "id": "ae6342bb",
   "metadata": {},
   "outputs": [
    {
     "data": {
      "text/plain": [
       "4"
      ]
     },
     "execution_count": 25,
     "metadata": {},
     "output_type": "execute_result"
    }
   ],
   "source": [
    "gulo.find('178747')"
   ]
  },
  {
   "cell_type": "code",
   "execution_count": 23,
   "id": "fc85f191",
   "metadata": {},
   "outputs": [
    {
     "data": {
      "text/plain": [
       "5"
      ]
     },
     "execution_count": 23,
     "metadata": {},
     "output_type": "execute_result"
    }
   ],
   "source": [
    "gulo.count('ATGC')"
   ]
  },
  {
   "cell_type": "code",
   "execution_count": 34,
   "id": "fee85cda",
   "metadata": {},
   "outputs": [
    {
     "data": {
      "text/plain": [
       "1046"
      ]
     },
     "execution_count": 34,
     "metadata": {},
     "output_type": "execute_result"
    }
   ],
   "source": [
    "gulo.count('A') + gulo.count('T')"
   ]
  },
  {
   "cell_type": "code",
   "execution_count": 36,
   "id": "970272ab",
   "metadata": {},
   "outputs": [
    {
     "data": {
      "text/plain": [
       "'ATgCATg'"
      ]
     },
     "execution_count": 36,
     "metadata": {},
     "output_type": "execute_result"
    }
   ],
   "source": [
    "dna.replace('G','g')"
   ]
  },
  {
   "cell_type": "code",
   "execution_count": 44,
   "id": "94f85782",
   "metadata": {},
   "outputs": [],
   "source": [
    "DNA1='ATG'\n",
    "DNA2='AUG'"
   ]
  },
  {
   "cell_type": "code",
   "execution_count": 46,
   "id": "5582d7e0",
   "metadata": {},
   "outputs": [
    {
     "name": "stdout",
     "output_type": "stream",
     "text": [
      "ATGAUG\n"
     ]
    }
   ],
   "source": [
    "print(DNA1+DNA2)"
   ]
  },
  {
   "cell_type": "code",
   "execution_count": 50,
   "id": "895c1171",
   "metadata": {},
   "outputs": [
    {
     "name": "stdout",
     "output_type": "stream",
     "text": [
      "ATG AUG\n"
     ]
    }
   ],
   "source": [
    "print(DNA1,DNA2)"
   ]
  },
  {
   "cell_type": "code",
   "execution_count": 63,
   "id": "a454ebe4",
   "metadata": {},
   "outputs": [
    {
     "name": "stdout",
     "output_type": "stream",
     "text": [
      "ATG AUG\n"
     ]
    }
   ],
   "source": [
    "DNA3=\"%s %s\" % (DNA1,DNA2) #s is for string\n",
    "print(DNA3)"
   ]
  },
  {
   "cell_type": "code",
   "execution_count": 57,
   "id": "3ab6baea",
   "metadata": {},
   "outputs": [
    {
     "name": "stdout",
     "output_type": "stream",
     "text": [
      "Percent GC is 41.334 41.3345\n"
     ]
    }
   ],
   "source": [
    "p=41.334455\n",
    "print('Percent GC is %0.3f %0.4f' %(p,p)) #f is for float"
   ]
  },
  {
   "cell_type": "code",
   "execution_count": 66,
   "id": "b6b8bfbc",
   "metadata": {},
   "outputs": [
    {
     "data": {
      "text/plain": [
       "'ATGCATG'"
      ]
     },
     "execution_count": 66,
     "metadata": {},
     "output_type": "execute_result"
    }
   ],
   "source": [
    "dna"
   ]
  },
  {
   "cell_type": "code",
   "execution_count": 110,
   "id": "e179da56",
   "metadata": {},
   "outputs": [
    {
     "data": {
      "text/plain": [
       "'GCAT'"
      ]
     },
     "execution_count": 110,
     "metadata": {},
     "output_type": "execute_result"
    }
   ],
   "source": [
    "dna[2:6]"
   ]
  },
  {
   "cell_type": "code",
   "execution_count": 109,
   "id": "314735b9",
   "metadata": {},
   "outputs": [
    {
     "data": {
      "text/plain": [
       "'GA'"
      ]
     },
     "execution_count": 109,
     "metadata": {},
     "output_type": "execute_result"
    }
   ],
   "source": [
    "dna[2:6:2]"
   ]
  },
  {
   "cell_type": "code",
   "execution_count": 101,
   "id": "e5a0b53f",
   "metadata": {},
   "outputs": [
    {
     "data": {
      "text/plain": [
       "'ATGCA'"
      ]
     },
     "execution_count": 101,
     "metadata": {},
     "output_type": "execute_result"
    }
   ],
   "source": [
    "dna[:-2]"
   ]
  },
  {
   "cell_type": "code",
   "execution_count": 127,
   "id": "34a3a7e4",
   "metadata": {},
   "outputs": [
    {
     "data": {
      "text/plain": [
       "'GCAT'"
      ]
     },
     "execution_count": 127,
     "metadata": {},
     "output_type": "execute_result"
    }
   ],
   "source": [
    "dna[-5:-1:1] #think positive for positive step"
   ]
  },
  {
   "cell_type": "code",
   "execution_count": 108,
   "id": "245cd986",
   "metadata": {},
   "outputs": [
    {
     "data": {
      "text/plain": [
       "'GTAC'"
      ]
     },
     "execution_count": 108,
     "metadata": {},
     "output_type": "execute_result"
    }
   ],
   "source": [
    "dna[-1:-5:-1] #think negative for negative step"
   ]
  },
  {
   "cell_type": "code",
   "execution_count": 124,
   "id": "02b37358",
   "metadata": {},
   "outputs": [
    {
     "name": "stdout",
     "output_type": "stream",
     "text": [
      "ATG CATGATGCATG\n"
     ]
    }
   ],
   "source": [
    "dna2=' ATG CATG '\n",
    "print(dna2.strip()+dna.strip())"
   ]
  },
  {
   "cell_type": "code",
   "execution_count": 10,
   "id": "ba1aac13",
   "metadata": {},
   "outputs": [],
   "source": []
  },
  {
   "cell_type": "code",
   "execution_count": 11,
   "id": "07c2d331",
   "metadata": {},
   "outputs": [
    {
     "name": "stdout",
     "output_type": "stream",
     "text": [
      "Collecting biopython\n",
      "  Downloading biopython-1.83-cp39-cp39-macosx_10_9_x86_64.whl (2.7 MB)\n",
      "\u001b[2K     \u001b[90m━━━━━━━━━━━━━━━━━━━━━━━━━━━━━━━━━━━━━━━━\u001b[0m \u001b[32m2.7/2.7 MB\u001b[0m \u001b[31m6.7 MB/s\u001b[0m eta \u001b[36m0:00:00\u001b[0ma \u001b[36m0:00:01\u001b[0m\n",
      "\u001b[?25hRequirement already satisfied: numpy in /opt/miniconda3/envs/velor/lib/python3.9/site-packages (from biopython) (1.21.6)\n",
      "Installing collected packages: biopython\n",
      "Successfully installed biopython-1.83\n",
      "Note: you may need to restart the kernel to use updated packages.\n"
     ]
    }
   ],
   "source": [
    "pip install biopython"
   ]
  },
  {
   "cell_type": "code",
   "execution_count": 14,
   "id": "c4bd5a40",
   "metadata": {},
   "outputs": [],
   "source": [
    "file='/Users/reziw3/Desktop/Bioinfo/Python/seq/sequence.fasta'"
   ]
  },
  {
   "cell_type": "code",
   "execution_count": 577,
   "id": "539173cc",
   "metadata": {},
   "outputs": [],
   "source": [
    "from Bio import SeqIO\n",
    "from Bio import Entrez\n",
    "from Bio import Seq\n",
    "from Bio.SeqUtils import gc_fraction\n",
    "import pandas as pd\n",
    "import os\n",
    "import glob\n",
    "from collections import Counter"
   ]
  },
  {
   "cell_type": "code",
   "execution_count": 16,
   "id": "b009efa7",
   "metadata": {},
   "outputs": [],
   "source": [
    "seq_o=SeqIO.read(file,'fasta')"
   ]
  },
  {
   "cell_type": "code",
   "execution_count": 18,
   "id": "a409e5a1",
   "metadata": {},
   "outputs": [
    {
     "data": {
      "text/plain": [
       "SeqRecord(seq=Seq('GCCTTTCTTGGTACCTGTGGCTAAACTTCCAGTCCCGTTCTGCCTGAGGTAACC...GAT'), id='NM_178747.3', name='NM_178747.3', description='NM_178747.3 Mus musculus gulonolactone (L-) oxidase (Gulo), mRNA', dbxrefs=[])"
      ]
     },
     "execution_count": 18,
     "metadata": {},
     "output_type": "execute_result"
    }
   ],
   "source": [
    "seq_o"
   ]
  },
  {
   "cell_type": "code",
   "execution_count": 20,
   "id": "a8f32dd4",
   "metadata": {},
   "outputs": [
    {
     "data": {
      "text/plain": [
       "Bio.SeqRecord.SeqRecord"
      ]
     },
     "execution_count": 20,
     "metadata": {},
     "output_type": "execute_result"
    }
   ],
   "source": [
    "type(seq_o)"
   ]
  },
  {
   "cell_type": "code",
   "execution_count": 22,
   "id": "b9a88da9",
   "metadata": {},
   "outputs": [
    {
     "name": "stdout",
     "output_type": "stream",
     "text": [
      "NM_178747.3\n"
     ]
    }
   ],
   "source": [
    "print(seq_o.id)"
   ]
  },
  {
   "cell_type": "code",
   "execution_count": 24,
   "id": "abe24114",
   "metadata": {},
   "outputs": [
    {
     "name": "stdout",
     "output_type": "stream",
     "text": [
      "NM_178747.3\n"
     ]
    }
   ],
   "source": [
    "print(seq_o.name)"
   ]
  },
  {
   "cell_type": "code",
   "execution_count": 26,
   "id": "70e73d2c",
   "metadata": {},
   "outputs": [
    {
     "name": "stdout",
     "output_type": "stream",
     "text": [
      "NM_178747.3 Mus musculus gulonolactone (L-) oxidase (Gulo), mRNA\n"
     ]
    }
   ],
   "source": [
    "print(seq_o.description)"
   ]
  },
  {
   "cell_type": "code",
   "execution_count": 29,
   "id": "03add9b3",
   "metadata": {},
   "outputs": [
    {
     "name": "stdout",
     "output_type": "stream",
     "text": [
      "2265\n"
     ]
    }
   ],
   "source": [
    "print(len(seq_o.seq))"
   ]
  },
  {
   "cell_type": "code",
   "execution_count": 32,
   "id": "68107013",
   "metadata": {},
   "outputs": [],
   "source": [
    "filem='/Users/reziw3/Desktop/Bioinfo/Python/seq/sequencem.fasta'"
   ]
  },
  {
   "cell_type": "code",
   "execution_count": 64,
   "id": "74742de6",
   "metadata": {},
   "outputs": [],
   "source": [
    "seq_m=SeqIO.parse(filem,'fasta')\n",
    "seq_mf=[]\n",
    "for seq in seq_m:\n",
    "    seq_mf.append(seq)"
   ]
  },
  {
   "cell_type": "code",
   "execution_count": 81,
   "id": "2ed5788b",
   "metadata": {},
   "outputs": [
    {
     "data": {
      "text/plain": [
       "[SeqRecord(seq=Seq('ACTCCCCGTGCGCGCCCGGCCCGTAGCGTCCTCGTCGCCGCCCCTCGTCTCGCA...GCC'), id='sequence1', name='sequence1', description='sequence1', dbxrefs=[]),\n",
       " SeqRecord(seq=Seq('CAGTCCGGCAGCGCCGGGGTTAAGCGGCCCAAGTAAACGTAGCGCAGCGATCGG...CTC'), id='sequence2', name='sequence2', description='sequence2', dbxrefs=[]),\n",
       " SeqRecord(seq=Seq('CACGACAGGCCCGCTGAGGCTTGTGCCAGACCTTGGAAACCTCAGGTATATACC...CCC'), id='sequence3', name='sequence3', description='sequence3', dbxrefs=[]),\n",
       " SeqRecord(seq=Seq('CAGCAGACATCTGAATGAAGAAGAGGGTGCCAGCGGGTATGAGGAGTGCATTAT...ACC'), id='sequence4', name='sequence4', description='sequence4', dbxrefs=[])]"
      ]
     },
     "execution_count": 81,
     "metadata": {},
     "output_type": "execute_result"
    }
   ],
   "source": [
    "seq_mf"
   ]
  },
  {
   "cell_type": "code",
   "execution_count": 66,
   "id": "2cb9dc0c",
   "metadata": {},
   "outputs": [
    {
     "data": {
      "text/plain": [
       "4"
      ]
     },
     "execution_count": 66,
     "metadata": {},
     "output_type": "execute_result"
    }
   ],
   "source": [
    "len(seq_mf)"
   ]
  },
  {
   "cell_type": "code",
   "execution_count": 67,
   "id": "c4be8952",
   "metadata": {},
   "outputs": [],
   "source": [
    "s1=seq_mf[0]"
   ]
  },
  {
   "cell_type": "code",
   "execution_count": 70,
   "id": "5c2310f6",
   "metadata": {},
   "outputs": [
    {
     "name": "stdout",
     "output_type": "stream",
     "text": [
      "ID: sequence1\n",
      "Name: sequence1\n",
      "Description: sequence1\n",
      "Number of features: 0\n",
      "Seq('ACTCCCCGTGCGCGCCCGGCCCGTAGCGTCCTCGTCGCCGCCCCTCGTCTCGCA...GCC')\n",
      "ACTCCCCGTGCGCGCCCGGCCCGTAGCGTCCTCGTCGCCGCCCCTCGTCTCGCAGCCGCAGCCCGCGTGGACGCTCTCGCCTGAGCGCCGCGGACTAGCCCGGGTGGCC\n"
     ]
    }
   ],
   "source": [
    "print(s1)\n",
    "print(s1.seq)"
   ]
  },
  {
   "cell_type": "code",
   "execution_count": 73,
   "id": "8b296121",
   "metadata": {},
   "outputs": [
    {
     "name": "stdout",
     "output_type": "stream",
     "text": [
      "109\n"
     ]
    }
   ],
   "source": [
    "print(len(s1.seq))"
   ]
  },
  {
   "cell_type": "code",
   "execution_count": 84,
   "id": "948a87c3",
   "metadata": {},
   "outputs": [
    {
     "name": "stdout",
     "output_type": "stream",
     "text": [
      "sequence1 109\n",
      "sequence2 171\n",
      "sequence3 81\n",
      "sequence4 150\n"
     ]
    }
   ],
   "source": [
    "for i in seq_mf:\n",
    "    seq_id=i.id\n",
    "    seq_seq=i.seq\n",
    "    seq_length=len(seq_seq)\n",
    "    print (seq_id, seq_length)"
   ]
  },
  {
   "cell_type": "code",
   "execution_count": 90,
   "id": "9fe6f898",
   "metadata": {},
   "outputs": [],
   "source": [
    "seq_ids=[]\n",
    "seq_lengths=[]"
   ]
  },
  {
   "cell_type": "code",
   "execution_count": 91,
   "id": "9f6fc7ec",
   "metadata": {},
   "outputs": [],
   "source": [
    "for i in seq_mf:\n",
    "    seq_id=i.id\n",
    "    seq_seq=i.seq\n",
    "    seq_length=len(seq_seq)\n",
    "    seq_ids.append(seq_id)\n",
    "    seq_lengths.append(seq_length)"
   ]
  },
  {
   "cell_type": "code",
   "execution_count": 94,
   "id": "5dbdf991",
   "metadata": {},
   "outputs": [
    {
     "data": {
      "text/plain": [
       "[109, 171, 81, 150]"
      ]
     },
     "execution_count": 94,
     "metadata": {},
     "output_type": "execute_result"
    }
   ],
   "source": [
    "seq_lengths"
   ]
  },
  {
   "cell_type": "code",
   "execution_count": 96,
   "id": "322de3eb",
   "metadata": {},
   "outputs": [
    {
     "data": {
      "text/plain": [
       "['sequence1', 'sequence2', 'sequence3', 'sequence4']"
      ]
     },
     "execution_count": 96,
     "metadata": {},
     "output_type": "execute_result"
    }
   ],
   "source": [
    "seq_ids"
   ]
  },
  {
   "cell_type": "code",
   "execution_count": 102,
   "id": "a30255f6",
   "metadata": {},
   "outputs": [],
   "source": [
    "df=pd.DataFrame()\n",
    "df['seq_ID']=seq_ids\n",
    "df['seq_Length']=seq_lengths"
   ]
  },
  {
   "cell_type": "code",
   "execution_count": 113,
   "id": "6618632d",
   "metadata": {},
   "outputs": [
    {
     "data": {
      "text/html": [
       "<div>\n",
       "<style scoped>\n",
       "    .dataframe tbody tr th:only-of-type {\n",
       "        vertical-align: middle;\n",
       "    }\n",
       "\n",
       "    .dataframe tbody tr th {\n",
       "        vertical-align: top;\n",
       "    }\n",
       "\n",
       "    .dataframe thead th {\n",
       "        text-align: right;\n",
       "    }\n",
       "</style>\n",
       "<table border=\"1\" class=\"dataframe\">\n",
       "  <thead>\n",
       "    <tr style=\"text-align: right;\">\n",
       "      <th></th>\n",
       "      <th>seq_ID</th>\n",
       "      <th>seq_Length</th>\n",
       "    </tr>\n",
       "  </thead>\n",
       "  <tbody>\n",
       "    <tr>\n",
       "      <th>0</th>\n",
       "      <td>sequence1</td>\n",
       "      <td>109</td>\n",
       "    </tr>\n",
       "    <tr>\n",
       "      <th>1</th>\n",
       "      <td>sequence2</td>\n",
       "      <td>171</td>\n",
       "    </tr>\n",
       "    <tr>\n",
       "      <th>2</th>\n",
       "      <td>sequence3</td>\n",
       "      <td>81</td>\n",
       "    </tr>\n",
       "    <tr>\n",
       "      <th>3</th>\n",
       "      <td>sequence4</td>\n",
       "      <td>150</td>\n",
       "    </tr>\n",
       "  </tbody>\n",
       "</table>\n",
       "</div>"
      ],
      "text/plain": [
       "      seq_ID  seq_Length\n",
       "0  sequence1         109\n",
       "1  sequence2         171\n",
       "2  sequence3          81\n",
       "3  sequence4         150"
      ]
     },
     "execution_count": 113,
     "metadata": {},
     "output_type": "execute_result"
    }
   ],
   "source": [
    "df"
   ]
  },
  {
   "cell_type": "code",
   "execution_count": 106,
   "id": "2429f3e2",
   "metadata": {},
   "outputs": [],
   "source": [
    "outdir='/Users/reziw3/Desktop/Bioinfo/Python/seq/'\n",
    "os.chdir(outdir)"
   ]
  },
  {
   "cell_type": "code",
   "execution_count": 114,
   "id": "2fa471f7",
   "metadata": {},
   "outputs": [],
   "source": [
    "df.to_csv('seqanalysis.csv',index=False)"
   ]
  },
  {
   "cell_type": "code",
   "execution_count": 126,
   "id": "19ab6507",
   "metadata": {},
   "outputs": [],
   "source": [
    "seq_ids=[]\n",
    "seqs=[]\n",
    "gcs=[]"
   ]
  },
  {
   "cell_type": "code",
   "execution_count": 127,
   "id": "d043955f",
   "metadata": {},
   "outputs": [
    {
     "name": "stdout",
     "output_type": "stream",
     "text": [
      "sequence1 has GC: 0.7889908256880734\n",
      "sequence2 has GC: 0.7602339181286549\n",
      "sequence3 has GC: 0.6049382716049383\n",
      "sequence4 has GC: 0.54\n"
     ]
    }
   ],
   "source": [
    "for i in seq_mf:\n",
    "    seq_id=i.id\n",
    "    seq=i.seq\n",
    "    gc=gc_fraction(seq)\n",
    "    print(f\"{seq_id} has GC: {gc_fraction(seq)}\")\n",
    "    seq_ids.append(seq_id)\n",
    "    seqs.append(seq)\n",
    "    gcs.append(gc)"
   ]
  },
  {
   "cell_type": "code",
   "execution_count": 124,
   "id": "b00bb569",
   "metadata": {},
   "outputs": [
    {
     "name": "stdout",
     "output_type": "stream",
     "text": [
      "seq has GC: 1.0\n"
     ]
    }
   ],
   "source": [
    "print(f\"seq has GC: {gc_fraction('GGCCC')}\")"
   ]
  },
  {
   "cell_type": "code",
   "execution_count": 129,
   "id": "2015a36b",
   "metadata": {},
   "outputs": [],
   "source": [
    "df=pd.DataFrame()\n",
    "df['seq_ID']=seq_ids\n",
    "df['Seqs']=seqs\n",
    "df['GC']=gcs"
   ]
  },
  {
   "cell_type": "code",
   "execution_count": 131,
   "id": "7ffc8af8",
   "metadata": {},
   "outputs": [
    {
     "data": {
      "text/html": [
       "<div>\n",
       "<style scoped>\n",
       "    .dataframe tbody tr th:only-of-type {\n",
       "        vertical-align: middle;\n",
       "    }\n",
       "\n",
       "    .dataframe tbody tr th {\n",
       "        vertical-align: top;\n",
       "    }\n",
       "\n",
       "    .dataframe thead th {\n",
       "        text-align: right;\n",
       "    }\n",
       "</style>\n",
       "<table border=\"1\" class=\"dataframe\">\n",
       "  <thead>\n",
       "    <tr style=\"text-align: right;\">\n",
       "      <th></th>\n",
       "      <th>seq_ID</th>\n",
       "      <th>Seqs</th>\n",
       "      <th>GC</th>\n",
       "    </tr>\n",
       "  </thead>\n",
       "  <tbody>\n",
       "    <tr>\n",
       "      <th>0</th>\n",
       "      <td>sequence1</td>\n",
       "      <td>(A, C, T, C, C, C, C, G, T, G, C, G, C, G, C, ...</td>\n",
       "      <td>0.788991</td>\n",
       "    </tr>\n",
       "    <tr>\n",
       "      <th>1</th>\n",
       "      <td>sequence2</td>\n",
       "      <td>(C, A, G, T, C, C, G, G, C, A, G, C, G, C, C, ...</td>\n",
       "      <td>0.760234</td>\n",
       "    </tr>\n",
       "    <tr>\n",
       "      <th>2</th>\n",
       "      <td>sequence3</td>\n",
       "      <td>(C, A, C, G, A, C, A, G, G, C, C, C, G, C, T, ...</td>\n",
       "      <td>0.604938</td>\n",
       "    </tr>\n",
       "    <tr>\n",
       "      <th>3</th>\n",
       "      <td>sequence4</td>\n",
       "      <td>(C, A, G, C, A, G, A, C, A, T, C, T, G, A, A, ...</td>\n",
       "      <td>0.540000</td>\n",
       "    </tr>\n",
       "  </tbody>\n",
       "</table>\n",
       "</div>"
      ],
      "text/plain": [
       "      seq_ID                                               Seqs        GC\n",
       "0  sequence1  (A, C, T, C, C, C, C, G, T, G, C, G, C, G, C, ...  0.788991\n",
       "1  sequence2  (C, A, G, T, C, C, G, G, C, A, G, C, G, C, C, ...  0.760234\n",
       "2  sequence3  (C, A, C, G, A, C, A, G, G, C, C, C, G, C, T, ...  0.604938\n",
       "3  sequence4  (C, A, G, C, A, G, A, C, A, T, C, T, G, A, A, ...  0.540000"
      ]
     },
     "execution_count": 131,
     "metadata": {},
     "output_type": "execute_result"
    }
   ],
   "source": [
    "df"
   ]
  },
  {
   "cell_type": "code",
   "execution_count": 133,
   "id": "31eb9be1",
   "metadata": {},
   "outputs": [],
   "source": [
    "df.to_csv('seqanalysisgc.csv',index=False)"
   ]
  },
  {
   "cell_type": "code",
   "execution_count": 136,
   "id": "1930c1be",
   "metadata": {},
   "outputs": [
    {
     "name": "stdout",
     "output_type": "stream",
     "text": [
      "CAGTCCGGCAGCGCCGGGGTTAAGCGGCCCAAGTAAACGTAGCGCAGCGATCGGCGCCGGAGATTCGCGAACCCGACACTCCGCGCCGCCCGCCGGCCAGGACCCGCGGCGCGATCGCGGCGCCGCGCTACAGCCAGCCTCACTGGCGCGCGGGCGAGCGCACGGGCGCTC\n"
     ]
    }
   ],
   "source": [
    "print(df['Seqs'][1])"
   ]
  },
  {
   "cell_type": "code",
   "execution_count": 142,
   "id": "91ff9e0c",
   "metadata": {},
   "outputs": [],
   "source": [
    "filegb='/Users/reziw3/Desktop/Bioinfo/Python/seq/sequence.gb'\n",
    "seq_gb=SeqIO.read(filegb,'genbank') #gb also works"
   ]
  },
  {
   "cell_type": "code",
   "execution_count": 144,
   "id": "baf9e438",
   "metadata": {},
   "outputs": [
    {
     "data": {
      "text/plain": [
       "SeqRecord(seq=Seq('GCCTTTCTTGGTACCTGTGGCTAAACTTCCAGTCCCGTTCTGCCTGAGGTAACC...GAT'), id='NM_178747.3', name='NM_178747', description='Mus musculus gulonolactone (L-) oxidase (Gulo), mRNA', dbxrefs=[])"
      ]
     },
     "execution_count": 144,
     "metadata": {},
     "output_type": "execute_result"
    }
   ],
   "source": [
    "seq_gb"
   ]
  },
  {
   "cell_type": "code",
   "execution_count": 150,
   "id": "70c879c5",
   "metadata": {},
   "outputs": [
    {
     "name": "stdout",
     "output_type": "stream",
     "text": [
      "Mus musculus gulonolactone (L-) oxidase (Gulo), mRNA\n"
     ]
    }
   ],
   "source": [
    "print(seq_gb.description)"
   ]
  },
  {
   "cell_type": "code",
   "execution_count": 152,
   "id": "96c37914",
   "metadata": {},
   "outputs": [
    {
     "name": "stdout",
     "output_type": "stream",
     "text": [
      "{'molecule_type': 'mRNA', 'topology': 'linear', 'data_file_division': 'ROD', 'date': '17-FEB-2024', 'accessions': ['NM_178747', 'XM_913206'], 'sequence_version': 3, 'keywords': ['RefSeq', 'RefSeq Select'], 'source': 'Mus musculus (house mouse)', 'organism': 'Mus musculus', 'taxonomy': ['Eukaryota', 'Metazoa', 'Chordata', 'Craniata', 'Vertebrata', 'Euteleostomi', 'Mammalia', 'Eutheria', 'Euarchontoglires', 'Glires', 'Rodentia', 'Myomorpha', 'Muroidea', 'Muridae', 'Murinae', 'Mus', 'Mus'], 'references': [Reference(title='Vitamin C modulates the levels of several proteins of the mitochondrial complex III and its activity in the mouse liver', ...), Reference(title='Vitamin C epigenetically controls osteogenesis and bone mineralization', ...), Reference(title='SDHB knockout and succinate accumulation are insufficient for tumorigenesis but dual SDHB/NF1 loss yields SDHx-like pheochromocytomas', ...), Reference(title='Vitamin C Deficiency Causes Cell Type-Specific Epigenetic Reprogramming and Acute Tubular Necrosis in a Mouse Model', ...), Reference(title='The Roles of IL-22 and Its Receptor in the Regulation of Inflammatory Responses in the Brain', ...), Reference(title='Functional rescue of vitamin C synthesis deficiency in human cells using adenoviral-based expression of murine l-gulono-gamma-lactone oxidase', ...), Reference(title='Vulnerable atherosclerotic plaque morphology in apolipoprotein E-deficient mice unable to make ascorbic Acid', ...), Reference(title='Spontaneous fracture (sfx): a mouse genetic model of defective peripubertal bone formation', ...), Reference(title='Aortic wall damage in mice unable to synthesize ascorbic acid', ...), Reference(title='Different induction of gulonolactone oxidase in aromatic hydrocarbon-responsive or -unresponsive mouse strains', ...)], 'comment': 'PROVISIONAL REFSEQ: This record has not yet been subject to final\\nNCBI review. The reference sequence was derived from AC126444.3.\\nOn Mar 21, 2007 this sequence version replaced NM_178747.2.\\nSequence Note: The RefSeq transcript and protein were derived from\\ngenomic sequence to make the sequence consistent with the reference\\ngenome assembly. The genomic coordinates used for the transcript\\nrecord were based on alignments.\\nPublication Note:  This RefSeq record includes a subset of the\\npublications that are available for this gene. Please see the Gene\\nrecord to access additional publications.', 'structured_comment': defaultdict(<class 'dict'>, {'Evidence-Data': {'Transcript exon combination': 'AK077740.1, BC028828.1 [ECO:0000332]', 'RNAseq introns': 'single sample supports all introns SAMN00849386, SAMN01164134 [ECO:0000348]'}, 'RefSeq-Attributes': {'RefSeq Select criteria': 'based on conservation, expression, longest protein'}})}\n"
     ]
    }
   ],
   "source": [
    "print(seq_gb.annotations)"
   ]
  },
  {
   "cell_type": "code",
   "execution_count": 176,
   "id": "ee7c4cbc",
   "metadata": {},
   "outputs": [
    {
     "name": "stdout",
     "output_type": "stream",
     "text": [
      "['source', 'gene', 'exon', 'misc_feature', 'CDS', 'misc_feature', 'exon', 'exon', 'exon', 'exon', 'exon', 'exon', 'exon', 'exon', 'exon', 'exon', 'exon']\n"
     ]
    }
   ],
   "source": [
    "features=seq_gb.features\n",
    "f_type=[f.type for f in features]\n",
    "print(f_type)"
   ]
  },
  {
   "cell_type": "code",
   "execution_count": 164,
   "id": "cc3e3afd",
   "metadata": {},
   "outputs": [
    {
     "data": {
      "text/plain": [
       "{'CDS', 'exon', 'gene', 'misc_feature', 'source'}"
      ]
     },
     "execution_count": 164,
     "metadata": {},
     "output_type": "execute_result"
    }
   ],
   "source": [
    "f_type1=set(f_type)\n",
    "f_type1"
   ]
  },
  {
   "cell_type": "code",
   "execution_count": 168,
   "id": "d9f482c3",
   "metadata": {},
   "outputs": [
    {
     "data": {
      "text/plain": [
       "['CDS', 'source', 'exon', 'misc_feature', 'gene']"
      ]
     },
     "execution_count": 168,
     "metadata": {},
     "output_type": "execute_result"
    }
   ],
   "source": [
    "f_type2=list(f_type1)\n",
    "f_type2"
   ]
  },
  {
   "cell_type": "code",
   "execution_count": 171,
   "id": "50213a7d",
   "metadata": {},
   "outputs": [
    {
     "data": {
      "text/plain": [
       "17"
      ]
     },
     "execution_count": 171,
     "metadata": {},
     "output_type": "execute_result"
    }
   ],
   "source": [
    "len(f_type)"
   ]
  },
  {
   "cell_type": "code",
   "execution_count": 179,
   "id": "e8c10a39",
   "metadata": {},
   "outputs": [
    {
     "name": "stdout",
     "output_type": "stream",
     "text": [
      "CDS: 1\n",
      "source: 1\n",
      "exon: 12\n",
      "misc_feature: 2\n",
      "gene: 1\n"
     ]
    }
   ],
   "source": [
    "for f in f_type2:\n",
    "    all=[i for i in features if i.type==f]\n",
    "    no= len(all)\n",
    "    print(f'{f}:',no)"
   ]
  },
  {
   "cell_type": "code",
   "execution_count": 192,
   "id": "956f7711",
   "metadata": {},
   "outputs": [],
   "source": [
    "dir='/Users/reziw3/Desktop/Bioinfo/Python/seq/1/'"
   ]
  },
  {
   "cell_type": "code",
   "execution_count": 196,
   "id": "f341b9d8",
   "metadata": {},
   "outputs": [
    {
     "data": {
      "text/plain": [
       "['/Users/reziw3/Desktop/Bioinfo/Python/seq/1/sequence-3.fasta',\n",
       " '/Users/reziw3/Desktop/Bioinfo/Python/seq/1/sequence-5.fasta',\n",
       " '/Users/reziw3/Desktop/Bioinfo/Python/seq/1/sequence-2.fasta',\n",
       " '/Users/reziw3/Desktop/Bioinfo/Python/seq/1/sequence-4.fasta']"
      ]
     },
     "execution_count": 196,
     "metadata": {},
     "output_type": "execute_result"
    }
   ],
   "source": [
    "f_files=glob.glob(f'{dir}*.fasta')\n",
    "f_files"
   ]
  },
  {
   "cell_type": "code",
   "execution_count": 197,
   "id": "bf41054f",
   "metadata": {},
   "outputs": [],
   "source": [
    "saseq_ids=[]\n",
    "saseqs=[]\n",
    "sagcs=[]"
   ]
  },
  {
   "cell_type": "code",
   "execution_count": 198,
   "id": "d26c9daf",
   "metadata": {},
   "outputs": [
    {
     "name": "stdout",
     "output_type": "stream",
     "text": [
      "BX571857.1 has GC: 0.3285035870393692\n",
      "BX571856.1 has GC: 0.3280716483975334\n",
      "AP017922.1 has GC: 0.3295789623324511\n",
      "AP008934.1 has GC: 0.3323985972999017\n"
     ]
    }
   ],
   "source": [
    "for i in f_files:\n",
    "    seq_o=SeqIO.read(i,'fasta')\n",
    "    seq_id=seq_o.id\n",
    "    seq=seq_o.seq\n",
    "    gc=gc_fraction(seq)\n",
    "    print(f\"{seq_id} has GC: {gc_fraction(seq)}\")\n",
    "    saseq_ids.append(seq_id)\n",
    "    saseqs.append(seq)\n",
    "    sagcs.append(gc)"
   ]
  },
  {
   "cell_type": "code",
   "execution_count": 254,
   "id": "94c02d9b",
   "metadata": {},
   "outputs": [],
   "source": [
    "def calc_gc(f):\n",
    "    seq_o=SeqIO.read(f,'fasta')\n",
    "    seq_id=seq_o.id\n",
    "    seq=seq_o.seq\n",
    "    gc=gc_fraction(seq)\n",
    "    \n",
    "    f_name=os.path.split(f)\n",
    "    f_name=f_name[1]\n",
    "    #f_name=f_name.strip('.fasta')\n",
    "    \n",
    "    print(f_name)\n",
    "    print(gc)\n",
    "    return f_name, gc"
   ]
  },
  {
   "cell_type": "code",
   "execution_count": 269,
   "id": "eecbe0d0",
   "metadata": {},
   "outputs": [],
   "source": [
    "df=pd.DataFrame()\n",
    "df['seq_ID']=saseq_ids\n",
    "df['Seqs']=saseqs\n",
    "df['GC']=sagcs"
   ]
  },
  {
   "cell_type": "code",
   "execution_count": 270,
   "id": "55e2b57a",
   "metadata": {},
   "outputs": [
    {
     "data": {
      "text/html": [
       "<div>\n",
       "<style scoped>\n",
       "    .dataframe tbody tr th:only-of-type {\n",
       "        vertical-align: middle;\n",
       "    }\n",
       "\n",
       "    .dataframe tbody tr th {\n",
       "        vertical-align: top;\n",
       "    }\n",
       "\n",
       "    .dataframe thead th {\n",
       "        text-align: right;\n",
       "    }\n",
       "</style>\n",
       "<table border=\"1\" class=\"dataframe\">\n",
       "  <thead>\n",
       "    <tr style=\"text-align: right;\">\n",
       "      <th></th>\n",
       "      <th>seq_ID</th>\n",
       "      <th>Seqs</th>\n",
       "      <th>GC</th>\n",
       "    </tr>\n",
       "  </thead>\n",
       "  <tbody>\n",
       "    <tr>\n",
       "      <th>0</th>\n",
       "      <td>BX571857.1</td>\n",
       "      <td>(C, G, A, T, T, A, A, A, G, A, T, A, G, A, A, ...</td>\n",
       "      <td>0.328504</td>\n",
       "    </tr>\n",
       "    <tr>\n",
       "      <th>1</th>\n",
       "      <td>BX571856.1</td>\n",
       "      <td>(C, G, A, T, T, A, A, A, G, A, T, A, G, A, A, ...</td>\n",
       "      <td>0.328072</td>\n",
       "    </tr>\n",
       "    <tr>\n",
       "      <th>2</th>\n",
       "      <td>AP017922.1</td>\n",
       "      <td>(C, G, A, T, T, A, A, A, G, A, T, A, G, A, A, ...</td>\n",
       "      <td>0.329579</td>\n",
       "    </tr>\n",
       "    <tr>\n",
       "      <th>3</th>\n",
       "      <td>AP008934.1</td>\n",
       "      <td>(G, C, A, T, T, T, A, C, T, A, T, G, T, T, T, ...</td>\n",
       "      <td>0.332399</td>\n",
       "    </tr>\n",
       "  </tbody>\n",
       "</table>\n",
       "</div>"
      ],
      "text/plain": [
       "       seq_ID                                               Seqs        GC\n",
       "0  BX571857.1  (C, G, A, T, T, A, A, A, G, A, T, A, G, A, A, ...  0.328504\n",
       "1  BX571856.1  (C, G, A, T, T, A, A, A, G, A, T, A, G, A, A, ...  0.328072\n",
       "2  AP017922.1  (C, G, A, T, T, A, A, A, G, A, T, A, G, A, A, ...  0.329579\n",
       "3  AP008934.1  (G, C, A, T, T, T, A, C, T, A, T, G, T, T, T, ...  0.332399"
      ]
     },
     "execution_count": 270,
     "metadata": {},
     "output_type": "execute_result"
    }
   ],
   "source": [
    "df"
   ]
  },
  {
   "cell_type": "code",
   "execution_count": 271,
   "id": "1908bff5",
   "metadata": {},
   "outputs": [
    {
     "data": {
      "text/html": [
       "<div>\n",
       "<style scoped>\n",
       "    .dataframe tbody tr th:only-of-type {\n",
       "        vertical-align: middle;\n",
       "    }\n",
       "\n",
       "    .dataframe tbody tr th {\n",
       "        vertical-align: top;\n",
       "    }\n",
       "\n",
       "    .dataframe thead th {\n",
       "        text-align: right;\n",
       "    }\n",
       "</style>\n",
       "<table border=\"1\" class=\"dataframe\">\n",
       "  <thead>\n",
       "    <tr style=\"text-align: right;\">\n",
       "      <th></th>\n",
       "      <th>seq_ID</th>\n",
       "      <th>GC</th>\n",
       "    </tr>\n",
       "  </thead>\n",
       "  <tbody>\n",
       "    <tr>\n",
       "      <th>0</th>\n",
       "      <td>BX571857.1</td>\n",
       "      <td>0.328504</td>\n",
       "    </tr>\n",
       "    <tr>\n",
       "      <th>1</th>\n",
       "      <td>BX571856.1</td>\n",
       "      <td>0.328072</td>\n",
       "    </tr>\n",
       "    <tr>\n",
       "      <th>2</th>\n",
       "      <td>AP017922.1</td>\n",
       "      <td>0.329579</td>\n",
       "    </tr>\n",
       "    <tr>\n",
       "      <th>3</th>\n",
       "      <td>AP008934.1</td>\n",
       "      <td>0.332399</td>\n",
       "    </tr>\n",
       "  </tbody>\n",
       "</table>\n",
       "</div>"
      ],
      "text/plain": [
       "       seq_ID        GC\n",
       "0  BX571857.1  0.328504\n",
       "1  BX571856.1  0.328072\n",
       "2  AP017922.1  0.329579\n",
       "3  AP008934.1  0.332399"
      ]
     },
     "execution_count": 271,
     "metadata": {},
     "output_type": "execute_result"
    }
   ],
   "source": [
    "df1=df.loc[:,['seq_ID','GC']]\n",
    "df1"
   ]
  },
  {
   "cell_type": "code",
   "execution_count": 256,
   "id": "3c4d7a13",
   "metadata": {},
   "outputs": [
    {
     "name": "stdout",
     "output_type": "stream",
     "text": [
      "sequence-3.fasta\n",
      "0.3285035870393692\n",
      "sequence-5.fasta\n",
      "0.3280716483975334\n",
      "sequence-2.fasta\n",
      "0.3295789623324511\n",
      "sequence-4.fasta\n",
      "0.3323985972999017\n"
     ]
    }
   ],
   "source": [
    "fn=[]\n",
    "gc=[]\n",
    "for i in f_files:\n",
    "    f,g=calc_gc(i)\n",
    "    fn.append(f)\n",
    "    gc.append(g)"
   ]
  },
  {
   "cell_type": "code",
   "execution_count": 267,
   "id": "a8e1a5fd",
   "metadata": {},
   "outputs": [],
   "source": [
    "df.to_csv('seqanalysis1gc.csv',index=False)"
   ]
  },
  {
   "cell_type": "code",
   "execution_count": null,
   "id": "960978dd",
   "metadata": {},
   "outputs": [],
   "source": []
  },
  {
   "cell_type": "code",
   "execution_count": 275,
   "id": "c11b449e",
   "metadata": {},
   "outputs": [],
   "source": [
    "filesa='/Users/reziw3/Desktop/Bioinfo/Python/seq/sa.gb'\n",
    "seq_sa=SeqIO.read(filesa,'genbank')"
   ]
  },
  {
   "cell_type": "code",
   "execution_count": 277,
   "id": "988b6733",
   "metadata": {},
   "outputs": [
    {
     "data": {
      "text/plain": [
       "SeqRecord(seq=Seq('CGATTAAAGATAGAAATACACGATGCGAGCAATCAAATTTCATAACATCACCAT...TAT'), id='NC_007795.1', name='NC_007795', description='Staphylococcus aureus subsp. aureus NCTC 8325 chromosome, complete genome', dbxrefs=['BioProject:PRJNA57795', 'Assembly:GCF_000013425.1'])"
      ]
     },
     "execution_count": 277,
     "metadata": {},
     "output_type": "execute_result"
    }
   ],
   "source": [
    "seq_sa"
   ]
  },
  {
   "cell_type": "code",
   "execution_count": 278,
   "id": "434d511e",
   "metadata": {},
   "outputs": [],
   "source": [
    "genes=[]\n",
    "for f in seq_sa.features:\n",
    "    if f.type=='gene':\n",
    "        genes.append(f)"
   ]
  },
  {
   "cell_type": "code",
   "execution_count": 280,
   "id": "13316eb0",
   "metadata": {},
   "outputs": [
    {
     "data": {
      "text/plain": [
       "2872"
      ]
     },
     "execution_count": 280,
     "metadata": {},
     "output_type": "execute_result"
    }
   ],
   "source": [
    "len(genes)"
   ]
  },
  {
   "cell_type": "code",
   "execution_count": 302,
   "id": "508ec4c5",
   "metadata": {},
   "outputs": [
    {
     "name": "stdout",
     "output_type": "stream",
     "text": [
      "gene found\n"
     ]
    }
   ],
   "source": [
    "goi='rpoB'\n",
    "hits=[]\n",
    "for g in genes:\n",
    "    if 'gene' in g.qualifiers.keys():\n",
    "        if goi==g.qualifiers['gene'][0]:\n",
    "            hits.append(g)\n",
    "            print('gene found')"
   ]
  },
  {
   "cell_type": "code",
   "execution_count": 304,
   "id": "cba4300b",
   "metadata": {},
   "outputs": [
    {
     "data": {
      "text/plain": [
       "1"
      ]
     },
     "execution_count": 304,
     "metadata": {},
     "output_type": "execute_result"
    }
   ],
   "source": [
    "len(hits)"
   ]
  },
  {
   "cell_type": "code",
   "execution_count": 309,
   "id": "2056ed77",
   "metadata": {},
   "outputs": [],
   "source": [
    "rpoB=hits[0]\n",
    "rpoB_rec=rpoB.extract(seq_sa)"
   ]
  },
  {
   "cell_type": "code",
   "execution_count": 310,
   "id": "a51fa546",
   "metadata": {},
   "outputs": [
    {
     "data": {
      "text/plain": [
       "SeqFeature(SimpleLocation(ExactPosition(522159), ExactPosition(525711), strand=1), type='gene', qualifiers=...)"
      ]
     },
     "execution_count": 310,
     "metadata": {},
     "output_type": "execute_result"
    }
   ],
   "source": [
    "rpoB"
   ]
  },
  {
   "cell_type": "code",
   "execution_count": 311,
   "id": "a99f5442",
   "metadata": {},
   "outputs": [
    {
     "data": {
      "text/plain": [
       "SeqRecord(seq=Seq('TTGGCAGGTCAAGTTGTCCAATATGGAAGACATCGTAAACGTAGAAACTACGCG...TAA'), id='NC_007795.1', name='NC_007795', description='Staphylococcus aureus subsp. aureus NCTC 8325 chromosome, complete genome', dbxrefs=[])"
      ]
     },
     "execution_count": 311,
     "metadata": {},
     "output_type": "execute_result"
    }
   ],
   "source": [
    "rpoB_rec"
   ]
  },
  {
   "cell_type": "code",
   "execution_count": 314,
   "id": "bdd1e539",
   "metadata": {},
   "outputs": [
    {
     "data": {
      "text/plain": [
       "3552"
      ]
     },
     "execution_count": 314,
     "metadata": {},
     "output_type": "execute_result"
    }
   ],
   "source": [
    "len(rpoB_rec.seq)"
   ]
  },
  {
   "cell_type": "code",
   "execution_count": 316,
   "id": "3cd10133",
   "metadata": {},
   "outputs": [],
   "source": [
    "rpoB_rec.name='rpoB'\n",
    "rpoB_rec.description='Staphylococcus aureus subsp. aureus NCTC 8325, rpoB gene'"
   ]
  },
  {
   "cell_type": "code",
   "execution_count": 317,
   "id": "9e85b42a",
   "metadata": {},
   "outputs": [
    {
     "data": {
      "text/plain": [
       "SeqRecord(seq=Seq('TTGGCAGGTCAAGTTGTCCAATATGGAAGACATCGTAAACGTAGAAACTACGCG...TAA'), id='NC_007795.1', name='rpoB', description='Staphylococcus aureus subsp. aureus NCTC 8325, rpoB gene', dbxrefs=[])"
      ]
     },
     "execution_count": 317,
     "metadata": {},
     "output_type": "execute_result"
    }
   ],
   "source": [
    "rpoB_rec"
   ]
  },
  {
   "cell_type": "code",
   "execution_count": 318,
   "id": "5d34ce1c",
   "metadata": {},
   "outputs": [
    {
     "data": {
      "text/plain": [
       "1"
      ]
     },
     "execution_count": 318,
     "metadata": {},
     "output_type": "execute_result"
    }
   ],
   "source": [
    "outdir='/Users/reziw3/Desktop/Bioinfo/Python/seq/'\n",
    "SeqIO.write(rpoB_rec, 'rpob.fasta', 'fasta')"
   ]
  },
  {
   "cell_type": "code",
   "execution_count": null,
   "id": "f344ed93",
   "metadata": {},
   "outputs": [],
   "source": []
  },
  {
   "cell_type": "code",
   "execution_count": 324,
   "id": "36a51686",
   "metadata": {},
   "outputs": [],
   "source": [
    "fileecoli='/Users/reziw3/Desktop/Bioinfo/Python/seq/ecoli.gb'\n",
    "seq_ecoli=SeqIO.read(fileecoli,'genbank')\n",
    "gl='/Users/reziw3/Desktop/Bioinfo/Python/seq/vir_factors.txt'"
   ]
  },
  {
   "cell_type": "code",
   "execution_count": 325,
   "id": "1f8b550d",
   "metadata": {},
   "outputs": [
    {
     "data": {
      "text/plain": [
       "SeqRecord(seq=Seq('AGCTTTTCATTCTGACTGCAACGGGCAATATGTCTCTGTGTGGATTAAAAAAAG...TTC'), id='NC_002695.2', name='NC_002695', description='Escherichia coli O157:H7 str. Sakai DNA, complete genome', dbxrefs=['BioProject:PRJNA226', 'BioSample:SAMN01911278'])"
      ]
     },
     "execution_count": 325,
     "metadata": {},
     "output_type": "execute_result"
    }
   ],
   "source": [
    "seq_ecoli"
   ]
  },
  {
   "cell_type": "code",
   "execution_count": 330,
   "id": "efb7a41a",
   "metadata": {},
   "outputs": [],
   "source": [
    "with open(gl,'r') as input_file:\n",
    "    g_name=[line.strip('\\n') for line in input_file]"
   ]
  },
  {
   "cell_type": "code",
   "execution_count": 332,
   "id": "473bc5c8",
   "metadata": {},
   "outputs": [
    {
     "data": {
      "text/plain": [
       "28"
      ]
     },
     "execution_count": 332,
     "metadata": {},
     "output_type": "execute_result"
    }
   ],
   "source": [
    "len(g_name)"
   ]
  },
  {
   "cell_type": "code",
   "execution_count": 334,
   "id": "9a862153",
   "metadata": {},
   "outputs": [
    {
     "data": {
      "text/plain": [
       "['eae', 'ecpA', 'ecpB', 'ecpC', 'ecpD']"
      ]
     },
     "execution_count": 334,
     "metadata": {},
     "output_type": "execute_result"
    }
   ],
   "source": [
    "g_name[0:5]"
   ]
  },
  {
   "cell_type": "code",
   "execution_count": 346,
   "id": "61ada02f",
   "metadata": {},
   "outputs": [],
   "source": [
    "all_g=[f for f in seq_ecoli.features if f.type=='gene']"
   ]
  },
  {
   "cell_type": "code",
   "execution_count": 347,
   "id": "e942bc88",
   "metadata": {},
   "outputs": [
    {
     "data": {
      "text/plain": [
       "5329"
      ]
     },
     "execution_count": 347,
     "metadata": {},
     "output_type": "execute_result"
    }
   ],
   "source": [
    "len(all_g)"
   ]
  },
  {
   "cell_type": "code",
   "execution_count": 355,
   "id": "fc072ab6",
   "metadata": {},
   "outputs": [
    {
     "name": "stdout",
     "output_type": "stream",
     "text": [
      "Gene ecpE has been found!\n",
      "Gene ecpD has been found!\n",
      "Gene ecpC has been found!\n",
      "Gene ecpB has been found!\n",
      "Gene ecpA has been found!\n",
      "Gene ecpR has been found!\n",
      "Gene paa has been found!\n",
      "Gene lpfB has been found!\n",
      "Gene espF has been found!\n",
      "Gene escF has been found!\n",
      "Gene cesD has been found!\n",
      "Gene espB has been found!\n",
      "Gene espD has been found!\n",
      "Gene espA has been found!\n",
      "Gene sepL has been found!\n",
      "Gene escD has been found!\n",
      "Gene eae has been found!\n",
      "Gene tir has been found!\n",
      "Gene escN has been found!\n",
      "Gene escV has been found!\n",
      "Gene escJ has been found!\n",
      "Gene escC has been found!\n",
      "Gene cesD has been found!\n",
      "Gene escU has been found!\n",
      "Gene escT has been found!\n",
      "Gene escS has been found!\n",
      "Gene ler has been found!\n",
      "Gene lpfA has been found!\n"
     ]
    }
   ],
   "source": [
    "g_seqs=[]\n",
    "for g in all_g:\n",
    "    if 'gene' in g.qualifiers.keys():\n",
    "        name=g.qualifiers['gene'][0]\n",
    "        if name in g_name:\n",
    "            gen=g.extract(seq_ecoli)\n",
    "            gen.id=name\n",
    "            gen.description=''\n",
    "            g_seqs.append(gen)\n",
    "            print(f'Gene {name} has been found!')"
   ]
  },
  {
   "cell_type": "code",
   "execution_count": 358,
   "id": "7cb7ef53",
   "metadata": {},
   "outputs": [
    {
     "data": {
      "text/plain": [
       "28"
      ]
     },
     "execution_count": 358,
     "metadata": {},
     "output_type": "execute_result"
    }
   ],
   "source": [
    "len(g_seqs)"
   ]
  },
  {
   "cell_type": "code",
   "execution_count": 360,
   "id": "e375cbe2",
   "metadata": {},
   "outputs": [
    {
     "data": {
      "text/plain": [
       "28"
      ]
     },
     "execution_count": 360,
     "metadata": {},
     "output_type": "execute_result"
    }
   ],
   "source": [
    "outdir='/Users/reziw3/Desktop/Bioinfo/Python/seq/'\n",
    "SeqIO.write(g_seqs, 'vir_fac.fasta', 'fasta')"
   ]
  },
  {
   "cell_type": "code",
   "execution_count": 367,
   "id": "dc0bf400",
   "metadata": {},
   "outputs": [],
   "source": [
    "dir='/Users/reziw3/Desktop/Bioinfo/Python/seq/2/'"
   ]
  },
  {
   "cell_type": "code",
   "execution_count": 369,
   "id": "27182686",
   "metadata": {},
   "outputs": [],
   "source": [
    "f=glob.glob(f'{dir}*.gb')"
   ]
  },
  {
   "cell_type": "code",
   "execution_count": 374,
   "id": "b9f0024d",
   "metadata": {},
   "outputs": [
    {
     "data": {
      "text/plain": [
       "['/Users/reziw3/Desktop/Bioinfo/Python/seq/2/R50.gb',\n",
       " '/Users/reziw3/Desktop/Bioinfo/Python/seq/2/AR465.gb',\n",
       " '/Users/reziw3/Desktop/Bioinfo/Python/seq/2/M48.gb',\n",
       " '/Users/reziw3/Desktop/Bioinfo/Python/seq/2/V521.gb',\n",
       " '/Users/reziw3/Desktop/Bioinfo/Python/seq/2/P10.gb']"
      ]
     },
     "execution_count": 374,
     "metadata": {},
     "output_type": "execute_result"
    }
   ],
   "source": [
    "f"
   ]
  },
  {
   "cell_type": "code",
   "execution_count": 376,
   "id": "391ea231",
   "metadata": {},
   "outputs": [
    {
     "data": {
      "text/plain": [
       "'/Users/reziw3/Desktop/Bioinfo/Python/seq/2/R50.gb'"
      ]
     },
     "execution_count": 376,
     "metadata": {},
     "output_type": "execute_result"
    }
   ],
   "source": [
    "f[0]"
   ]
  },
  {
   "cell_type": "code",
   "execution_count": 379,
   "id": "12cd59a6",
   "metadata": {},
   "outputs": [
    {
     "name": "stdout",
     "output_type": "stream",
     "text": [
      "R50.gb\n"
     ]
    }
   ],
   "source": [
    "di,fil=os.path.split(f[0])\n",
    "print(fil)"
   ]
  },
  {
   "cell_type": "code",
   "execution_count": 385,
   "id": "727ab8b3",
   "metadata": {},
   "outputs": [],
   "source": [
    "def count_f(f):\n",
    "    go=SeqIO.read(f,'gb')\n",
    "    feat=go.features\n",
    "    feat_type=[i.type for i in feat]\n",
    "    feat_count=Counter(feat_type)\n",
    "    print('Features counted!')\n",
    "    \n",
    "    df=pd.DataFrame(feat_count.items(),columns=['Feature','Count'])\n",
    "    di,fil=os.path.split(f)\n",
    "    fil=fil.strip('.gb')\n",
    "    \n",
    "    out=f'{dir}{fil}.csv'\n",
    "    df.to_csv(out, index=False)\n",
    "    print('Count data saved!')"
   ]
  },
  {
   "cell_type": "code",
   "execution_count": 386,
   "id": "ed535770",
   "metadata": {},
   "outputs": [
    {
     "name": "stdout",
     "output_type": "stream",
     "text": [
      "Features counted!\n",
      "Count data saved!\n",
      "Counted!\n",
      "Features counted!\n",
      "Count data saved!\n",
      "Counted!\n",
      "Features counted!\n",
      "Count data saved!\n",
      "Counted!\n",
      "Features counted!\n",
      "Count data saved!\n",
      "Counted!\n",
      "Features counted!\n",
      "Count data saved!\n",
      "Counted!\n"
     ]
    }
   ],
   "source": [
    "for i in f:\n",
    "    count_f(i)\n",
    "    print('Counted!')"
   ]
  },
  {
   "cell_type": "code",
   "execution_count": 409,
   "id": "23e5cc66",
   "metadata": {},
   "outputs": [],
   "source": [
    "def read_fs(x):\n",
    "    go=SeqIO.read(x,'gb')\n",
    "    feat=go.features\n",
    "    feat_type=[i.type for i in feat]\n",
    "    return feat_type"
   ]
  },
  {
   "cell_type": "code",
   "execution_count": 410,
   "id": "3070bbbf",
   "metadata": {},
   "outputs": [],
   "source": [
    "def count_fs(x):\n",
    "    feat_count=Counter(feat_type)\n",
    "    print('Features counted!')\n",
    "    return feat_count"
   ]
  },
  {
   "cell_type": "code",
   "execution_count": 411,
   "id": "44ae04bb",
   "metadata": {},
   "outputs": [],
   "source": [
    "def scan_f(x):\n",
    "    allfeats=[]\n",
    "    for i in x:\n",
    "        feat_type=read_fs(i)\n",
    "        allfeats.extend(feat_type)\n",
    "        \n",
    "    allfeats=set(allfeats)\n",
    "    allfeats=list(allfeats)\n",
    "    print('All features identified!')\n",
    "    return allfeats"
   ]
  },
  {
   "cell_type": "code",
   "execution_count": 412,
   "id": "423eac59",
   "metadata": {},
   "outputs": [
    {
     "name": "stdout",
     "output_type": "stream",
     "text": [
      "All features identified!\n"
     ]
    },
    {
     "data": {
      "text/plain": [
       "['CDS',\n",
       " 'source',\n",
       " 'tRNA',\n",
       " 'tmRNA',\n",
       " 'rRNA',\n",
       " 'misc_binding',\n",
       " 'regulatory',\n",
       " 'ncRNA',\n",
       " 'gene']"
      ]
     },
     "execution_count": 412,
     "metadata": {},
     "output_type": "execute_result"
    }
   ],
   "source": [
    "allfeats=scan_f(f)\n",
    "allfeats"
   ]
  },
  {
   "cell_type": "code",
   "execution_count": 402,
   "id": "1923e0aa",
   "metadata": {},
   "outputs": [
    {
     "data": {
      "text/plain": [
       "['/Users/reziw3/Desktop/Bioinfo/Python/seq/2/R50.gb',\n",
       " '/Users/reziw3/Desktop/Bioinfo/Python/seq/2/AR465.gb',\n",
       " '/Users/reziw3/Desktop/Bioinfo/Python/seq/2/M48.gb',\n",
       " '/Users/reziw3/Desktop/Bioinfo/Python/seq/2/V521.gb',\n",
       " '/Users/reziw3/Desktop/Bioinfo/Python/seq/2/P10.gb']"
      ]
     },
     "execution_count": 402,
     "metadata": {},
     "output_type": "execute_result"
    }
   ],
   "source": [
    "allfeats_c=[]\n",
    "f"
   ]
  },
  {
   "cell_type": "code",
   "execution_count": 420,
   "id": "ce1a9b42",
   "metadata": {},
   "outputs": [
    {
     "name": "stdout",
     "output_type": "stream",
     "text": [
      "Features counted!\n",
      "Features counted!\n",
      "Features counted!\n",
      "Features counted!\n",
      "Features counted!\n"
     ]
    }
   ],
   "source": [
    "for i in f:\n",
    "    di,fil=os.path.split(i)\n",
    "    fil=fil.strip('.gb')\n",
    "    feat_types=read_fs(i)\n",
    "    feat_count=count_fs(feat_types)\n",
    "    temp_c=[]\n",
    "    temp_c.append(fil)\n",
    "    \n",
    "    for i in allfeats:\n",
    "        if i in feat_count.keys():\n",
    "            temp_c.append(feat_count[i])\n",
    "        else:\n",
    "            temp_c.append(0)\n",
    "    allfeats_c.append(temp_c)"
   ]
  },
  {
   "cell_type": "code",
   "execution_count": 422,
   "id": "7a2a8796",
   "metadata": {},
   "outputs": [
    {
     "data": {
      "text/plain": [
       "[['R50', 2935, 1, 59, 1, 10, 0, 10, 3, 3008],\n",
       " ['AR465', 2935, 1, 59, 1, 10, 0, 10, 3, 3008],\n",
       " ['M48', 2935, 1, 59, 1, 10, 0, 10, 3, 3008],\n",
       " ['V521', 2935, 1, 59, 1, 10, 0, 10, 3, 3008],\n",
       " ['P10', 2935, 1, 59, 1, 10, 0, 10, 3, 3008]]"
      ]
     },
     "execution_count": 422,
     "metadata": {},
     "output_type": "execute_result"
    }
   ],
   "source": [
    "allfeats_c"
   ]
  },
  {
   "cell_type": "code",
   "execution_count": 424,
   "id": "019e58d6",
   "metadata": {},
   "outputs": [
    {
     "data": {
      "text/plain": [
       "['Name',\n",
       " 'CDS',\n",
       " 'source',\n",
       " 'tRNA',\n",
       " 'tmRNA',\n",
       " 'rRNA',\n",
       " 'misc_binding',\n",
       " 'regulatory',\n",
       " 'ncRNA',\n",
       " 'gene']"
      ]
     },
     "execution_count": 424,
     "metadata": {},
     "output_type": "execute_result"
    }
   ],
   "source": [
    "col=[]\n",
    "col.append('Name')\n",
    "col.extend(allfeats)\n",
    "col"
   ]
  },
  {
   "cell_type": "code",
   "execution_count": 432,
   "id": "76199779",
   "metadata": {},
   "outputs": [],
   "source": [
    "df=pd.DataFrame(allfeats_c, columns=col)\n",
    "df=df.set_index('Name')\n",
    "df.to_csv(f'{dir}fcount.csv')"
   ]
  },
  {
   "cell_type": "code",
   "execution_count": 433,
   "id": "87069322",
   "metadata": {},
   "outputs": [
    {
     "data": {
      "text/html": [
       "<div>\n",
       "<style scoped>\n",
       "    .dataframe tbody tr th:only-of-type {\n",
       "        vertical-align: middle;\n",
       "    }\n",
       "\n",
       "    .dataframe tbody tr th {\n",
       "        vertical-align: top;\n",
       "    }\n",
       "\n",
       "    .dataframe thead th {\n",
       "        text-align: right;\n",
       "    }\n",
       "</style>\n",
       "<table border=\"1\" class=\"dataframe\">\n",
       "  <thead>\n",
       "    <tr style=\"text-align: right;\">\n",
       "      <th></th>\n",
       "      <th>CDS</th>\n",
       "      <th>source</th>\n",
       "      <th>tRNA</th>\n",
       "      <th>tmRNA</th>\n",
       "      <th>rRNA</th>\n",
       "      <th>misc_binding</th>\n",
       "      <th>regulatory</th>\n",
       "      <th>ncRNA</th>\n",
       "      <th>gene</th>\n",
       "    </tr>\n",
       "    <tr>\n",
       "      <th>Name</th>\n",
       "      <th></th>\n",
       "      <th></th>\n",
       "      <th></th>\n",
       "      <th></th>\n",
       "      <th></th>\n",
       "      <th></th>\n",
       "      <th></th>\n",
       "      <th></th>\n",
       "      <th></th>\n",
       "    </tr>\n",
       "  </thead>\n",
       "  <tbody>\n",
       "    <tr>\n",
       "      <th>R50</th>\n",
       "      <td>2935</td>\n",
       "      <td>1</td>\n",
       "      <td>59</td>\n",
       "      <td>1</td>\n",
       "      <td>10</td>\n",
       "      <td>0</td>\n",
       "      <td>10</td>\n",
       "      <td>3</td>\n",
       "      <td>3008</td>\n",
       "    </tr>\n",
       "    <tr>\n",
       "      <th>AR465</th>\n",
       "      <td>2935</td>\n",
       "      <td>1</td>\n",
       "      <td>59</td>\n",
       "      <td>1</td>\n",
       "      <td>10</td>\n",
       "      <td>0</td>\n",
       "      <td>10</td>\n",
       "      <td>3</td>\n",
       "      <td>3008</td>\n",
       "    </tr>\n",
       "    <tr>\n",
       "      <th>M48</th>\n",
       "      <td>2935</td>\n",
       "      <td>1</td>\n",
       "      <td>59</td>\n",
       "      <td>1</td>\n",
       "      <td>10</td>\n",
       "      <td>0</td>\n",
       "      <td>10</td>\n",
       "      <td>3</td>\n",
       "      <td>3008</td>\n",
       "    </tr>\n",
       "    <tr>\n",
       "      <th>V521</th>\n",
       "      <td>2935</td>\n",
       "      <td>1</td>\n",
       "      <td>59</td>\n",
       "      <td>1</td>\n",
       "      <td>10</td>\n",
       "      <td>0</td>\n",
       "      <td>10</td>\n",
       "      <td>3</td>\n",
       "      <td>3008</td>\n",
       "    </tr>\n",
       "    <tr>\n",
       "      <th>P10</th>\n",
       "      <td>2935</td>\n",
       "      <td>1</td>\n",
       "      <td>59</td>\n",
       "      <td>1</td>\n",
       "      <td>10</td>\n",
       "      <td>0</td>\n",
       "      <td>10</td>\n",
       "      <td>3</td>\n",
       "      <td>3008</td>\n",
       "    </tr>\n",
       "  </tbody>\n",
       "</table>\n",
       "</div>"
      ],
      "text/plain": [
       "        CDS  source  tRNA  tmRNA  rRNA  misc_binding  regulatory  ncRNA  gene\n",
       "Name                                                                         \n",
       "R50    2935       1    59      1    10             0          10      3  3008\n",
       "AR465  2935       1    59      1    10             0          10      3  3008\n",
       "M48    2935       1    59      1    10             0          10      3  3008\n",
       "V521   2935       1    59      1    10             0          10      3  3008\n",
       "P10    2935       1    59      1    10             0          10      3  3008"
      ]
     },
     "execution_count": 433,
     "metadata": {},
     "output_type": "execute_result"
    }
   ],
   "source": [
    "df"
   ]
  },
  {
   "cell_type": "code",
   "execution_count": 434,
   "id": "8b3522e6",
   "metadata": {},
   "outputs": [
    {
     "data": {
      "text/html": [
       "<div>\n",
       "<style scoped>\n",
       "    .dataframe tbody tr th:only-of-type {\n",
       "        vertical-align: middle;\n",
       "    }\n",
       "\n",
       "    .dataframe tbody tr th {\n",
       "        vertical-align: top;\n",
       "    }\n",
       "\n",
       "    .dataframe thead th {\n",
       "        text-align: right;\n",
       "    }\n",
       "</style>\n",
       "<table border=\"1\" class=\"dataframe\">\n",
       "  <thead>\n",
       "    <tr style=\"text-align: right;\">\n",
       "      <th></th>\n",
       "      <th>CDS</th>\n",
       "      <th>tRNA</th>\n",
       "      <th>tmRNA</th>\n",
       "      <th>rRNA</th>\n",
       "      <th>ncRNA</th>\n",
       "      <th>gene</th>\n",
       "    </tr>\n",
       "    <tr>\n",
       "      <th>Name</th>\n",
       "      <th></th>\n",
       "      <th></th>\n",
       "      <th></th>\n",
       "      <th></th>\n",
       "      <th></th>\n",
       "      <th></th>\n",
       "    </tr>\n",
       "  </thead>\n",
       "  <tbody>\n",
       "    <tr>\n",
       "      <th>R50</th>\n",
       "      <td>2935</td>\n",
       "      <td>59</td>\n",
       "      <td>1</td>\n",
       "      <td>10</td>\n",
       "      <td>3</td>\n",
       "      <td>3008</td>\n",
       "    </tr>\n",
       "    <tr>\n",
       "      <th>AR465</th>\n",
       "      <td>2935</td>\n",
       "      <td>59</td>\n",
       "      <td>1</td>\n",
       "      <td>10</td>\n",
       "      <td>3</td>\n",
       "      <td>3008</td>\n",
       "    </tr>\n",
       "    <tr>\n",
       "      <th>M48</th>\n",
       "      <td>2935</td>\n",
       "      <td>59</td>\n",
       "      <td>1</td>\n",
       "      <td>10</td>\n",
       "      <td>3</td>\n",
       "      <td>3008</td>\n",
       "    </tr>\n",
       "    <tr>\n",
       "      <th>V521</th>\n",
       "      <td>2935</td>\n",
       "      <td>59</td>\n",
       "      <td>1</td>\n",
       "      <td>10</td>\n",
       "      <td>3</td>\n",
       "      <td>3008</td>\n",
       "    </tr>\n",
       "    <tr>\n",
       "      <th>P10</th>\n",
       "      <td>2935</td>\n",
       "      <td>59</td>\n",
       "      <td>1</td>\n",
       "      <td>10</td>\n",
       "      <td>3</td>\n",
       "      <td>3008</td>\n",
       "    </tr>\n",
       "  </tbody>\n",
       "</table>\n",
       "</div>"
      ],
      "text/plain": [
       "        CDS  tRNA  tmRNA  rRNA  ncRNA  gene\n",
       "Name                                       \n",
       "R50    2935    59      1    10      3  3008\n",
       "AR465  2935    59      1    10      3  3008\n",
       "M48    2935    59      1    10      3  3008\n",
       "V521   2935    59      1    10      3  3008\n",
       "P10    2935    59      1    10      3  3008"
      ]
     },
     "execution_count": 434,
     "metadata": {},
     "output_type": "execute_result"
    }
   ],
   "source": [
    "cdel=['source','misc_binding','regulatory']\n",
    "df.drop(columns=cdel, inplace=True)\n",
    "df"
   ]
  },
  {
   "cell_type": "code",
   "execution_count": 437,
   "id": "26ab8097",
   "metadata": {},
   "outputs": [
    {
     "data": {
      "text/plain": [
       "CDS      2935\n",
       "tRNA       59\n",
       "tmRNA       1\n",
       "rRNA       10\n",
       "ncRNA       3\n",
       "gene     3008\n",
       "Name: M48, dtype: int64"
      ]
     },
     "execution_count": 437,
     "metadata": {},
     "output_type": "execute_result"
    }
   ],
   "source": [
    "df.loc['M48',:]"
   ]
  },
  {
   "cell_type": "code",
   "execution_count": 440,
   "id": "c59bb82f",
   "metadata": {},
   "outputs": [
    {
     "data": {
      "text/plain": [
       "3008"
      ]
     },
     "execution_count": 440,
     "metadata": {},
     "output_type": "execute_result"
    }
   ],
   "source": [
    "df.loc['M48','gene']"
   ]
  },
  {
   "cell_type": "code",
   "execution_count": null,
   "id": "6c01c3a5",
   "metadata": {},
   "outputs": [],
   "source": []
  },
  {
   "cell_type": "code",
   "execution_count": 447,
   "id": "73b74cf7",
   "metadata": {},
   "outputs": [],
   "source": [
    "Entrez.email='hasanwraeth@gmail.com'"
   ]
  },
  {
   "cell_type": "code",
   "execution_count": 457,
   "id": "88f0e82d",
   "metadata": {},
   "outputs": [],
   "source": [
    "handle=Entrez.efetch(db='nuccore', id='34577062')"
   ]
  },
  {
   "cell_type": "code",
   "execution_count": 458,
   "id": "72b768ee",
   "metadata": {},
   "outputs": [
    {
     "name": "stdout",
     "output_type": "stream",
     "text": [
      "Seq-entry ::= set {\n",
      "  level 1,\n",
      "  class nuc-prot,\n",
      "  descr {\n",
      "    source {\n",
      "      genome genomic,\n",
      "      org {\n",
      "        taxname \"Homo sapiens\",\n",
      "        common \"human\",\n",
      "        db {\n",
      "          {\n",
      "            db \"taxon\",\n",
      "            tag id 9606\n",
      "          }\n",
      "        },\n",
      "        orgname {\n",
      "          name binomial {\n",
      "            genus \"Homo\",\n",
      "            species \"sapiens\"\n",
      "          },\n",
      "          lineage \"Eukaryota; Metazoa; Chordata; Craniata; Vertebrata;\n",
      " Euteleostomi; Mammalia; Eutheria; Euarchontoglires; Primates; Haplorrhini;\n",
      " Catarrhini; Hominidae; Homo\",\n",
      "          gcode 1,\n",
      "          mgcode 2,\n",
      "          div \"PRI\"\n",
      "        }\n",
      "      },\n",
      "      subtype {\n",
      "        {\n",
      "          subtype chromosome,\n",
      "          name \"1\"\n",
      "        },\n",
      "        {\n",
      "          subtype map,\n",
      "          name \"1cen-q12\"\n",
      "        }\n",
      "      }\n",
      "    },\n",
      "    pub {\n",
      "      pub {\n",
      "        pmid 19115993,\n",
      "        article {\n",
      "          title {\n",
      "            name \"Association analyses of the interaction between the ADSS and\n",
      " ATM genes with schizophrenia in a Chinese population.\"\n",
      "          },\n",
      "          authors {\n",
      "            names std {\n",
      "              {\n",
      "                name name {\n",
      "                  last \"Zhang\",\n",
      "                  initials \"F.\"\n",
      "                }\n",
      "              },\n",
      "              {\n",
      "                name name {\n",
      "                  last \"Xu\",\n",
      "                  initials \"Y.\"\n",
      "                }\n",
      "              },\n",
      "              {\n",
      "                name name {\n",
      "                  last \"Liu\",\n",
      "                  initials \"P.\"\n",
      "                }\n",
      "              },\n",
      "              {\n",
      "                name name {\n",
      "                  last \"Fan\",\n",
      "                  initials \"H.\"\n",
      "                }\n",
      "              },\n",
      "              {\n",
      "                name name {\n",
      "                  last \"Huang\",\n",
      "                  initials \"X.\"\n",
      "                }\n",
      "              },\n",
      "              {\n",
      "                name name {\n",
      "                  last \"Sun\",\n",
      "                  initials \"G.\"\n",
      "                }\n",
      "              },\n",
      "              {\n",
      "                name name {\n",
      "                  last \"Song\",\n",
      "                  initials \"Y.\"\n",
      "                }\n",
      "              },\n",
      "              {\n",
      "                name name {\n",
      "                  last \"Sham\",\n",
      "                  initials \"P.C.\"\n",
      "                }\n",
      "              }\n",
      "            },\n",
      "            affil str \"Institute of Neurological disorders, Tsinghua\n",
      " University, Department of Psychiatry, Yuquan Hospital, Tsinghua University,\n",
      " Bejing, 100049, PR China. zhfq@tsinghua.edu.cn\"\n",
      "          },\n",
      "          from journal {\n",
      "            title {\n",
      "              iso-jta \"BMC Med. Genet.\",\n",
      "              ml-jta \"BMC Med Genet\",\n",
      "              issn \"1471-2350\",\n",
      "              name \"BMC medical genetics\"\n",
      "            },\n",
      "            imp {\n",
      "              date std {\n",
      "                year 2008\n",
      "              },\n",
      "              volume \"9\",\n",
      "              pages \"119\",\n",
      "              language \"eng\",\n",
      "              pubstatus epublish,\n",
      "              history {\n",
      "                {\n",
      "                  pubstatus received,\n",
      "                  date std {\n",
      "                    year 2008,\n",
      "                    month 7,\n",
      "                    day 27\n",
      "                  }\n",
      "                },\n",
      "                {\n",
      "                  pubstatus accepted,\n",
      "                  date std {\n",
      "                    year 2008,\n",
      "                    month 12,\n",
      "                    day 30\n",
      "                  }\n",
      "                },\n",
      "                {\n",
      "                  pubstatus aheadofprint,\n",
      "                  date std {\n",
      "                    year 2008,\n",
      "                    month 12,\n",
      "                    day 30\n",
      "                  }\n",
      "                },\n",
      "                {\n",
      "                  pubstatus other,\n",
      "                  date std {\n",
      "                    year 2009,\n",
      "                    month 1,\n",
      "                    day 1,\n",
      "                    hour 9,\n",
      "                    minute 0\n",
      "                  }\n",
      "                },\n",
      "                {\n",
      "                  pubstatus pubmed,\n",
      "                  date std {\n",
      "                    year 2009,\n",
      "                    month 1,\n",
      "                    day 1,\n",
      "                    hour 9,\n",
      "                    minute 0\n",
      "                  }\n",
      "                },\n",
      "                {\n",
      "                  pubstatus medline,\n",
      "                  date std {\n",
      "                    year 2009,\n",
      "                    month 3,\n",
      "                    day 19,\n",
      "                    hour 9,\n",
      "                    minute 0\n",
      "                  }\n",
      "                }\n",
      "              }\n",
      "            }\n",
      "          },\n",
      "          ids {\n",
      "            pii \"1471-2350-9-119\",\n",
      "            doi \"10.1186/1471-2350-9-119\",\n",
      "            pubmed 19115993,\n",
      "            other {\n",
      "              db \"pmc\",\n",
      "              tag str \"PMC2654671\"\n",
      "            }\n",
      "          }\n",
      "        }\n",
      "      },\n",
      "      comment \"GeneRIF: These findings suggest that the combined effects of\n",
      " the polymorphisms in the ADSS and ATM genes may confer susceptibility to the\n",
      " development of schizophrenia in a Chinese population~GeneRIF: Observational\n",
      " study of gene-disease association and gene-gene interaction. (HuGE Navigator)\"\n",
      "    },\n",
      "    pub {\n",
      "      pub {\n",
      "        pmid 18721483,\n",
      "        article {\n",
      "          title {\n",
      "            name \"An association study of ADSS gene polymorphisms with\n",
      " schizophrenia.\"\n",
      "          },\n",
      "          authors {\n",
      "            names std {\n",
      "              {\n",
      "                name name {\n",
      "                  last \"Zhang\",\n",
      "                  initials \"F.\"\n",
      "                }\n",
      "              },\n",
      "              {\n",
      "                name name {\n",
      "                  last \"Sham\",\n",
      "                  initials \"P.C.\"\n",
      "                }\n",
      "              },\n",
      "              {\n",
      "                name name {\n",
      "                  last \"Fan\",\n",
      "                  initials \"H.\"\n",
      "                }\n",
      "              },\n",
      "              {\n",
      "                name name {\n",
      "                  last \"Xu\",\n",
      "                  initials \"Y.\"\n",
      "                }\n",
      "              },\n",
      "              {\n",
      "                name name {\n",
      "                  last \"Huang\",\n",
      "                  initials \"X.\"\n",
      "                }\n",
      "              },\n",
      "              {\n",
      "                name name {\n",
      "                  last \"So\",\n",
      "                  initials \"H.\"\n",
      "                }\n",
      "              },\n",
      "              {\n",
      "                name name {\n",
      "                  last \"Song\",\n",
      "                  initials \"Y.\"\n",
      "                }\n",
      "              },\n",
      "              {\n",
      "                name name {\n",
      "                  last \"Liu\",\n",
      "                  initials \"P.\"\n",
      "                }\n",
      "              }\n",
      "            },\n",
      "            affil str \"Institute of Neurological disorders, Tsinghua\n",
      " University; Department of Psychiatry, Yuquan Hospital, Tsinghua University,\n",
      " Bejing, 100049, PR China. liupozi@tsinghua.edu.cn.\"\n",
      "          },\n",
      "          from journal {\n",
      "            title {\n",
      "              iso-jta \"Behav Brain Funct\",\n",
      "              ml-jta \"Behav Brain Funct\",\n",
      "              issn \"1744-9081\",\n",
      "              name \"Behavioral and brain functions : BBF\"\n",
      "            },\n",
      "            imp {\n",
      "              date std {\n",
      "                year 2008\n",
      "              },\n",
      "              volume \"4\",\n",
      "              pages \"39\",\n",
      "              language \"eng\",\n",
      "              pubstatus epublish,\n",
      "              history {\n",
      "                {\n",
      "                  pubstatus received,\n",
      "                  date std {\n",
      "                    year 2008,\n",
      "                    month 4,\n",
      "                    day 20\n",
      "                  }\n",
      "                },\n",
      "                {\n",
      "                  pubstatus accepted,\n",
      "                  date std {\n",
      "                    year 2008,\n",
      "                    month 8,\n",
      "                    day 24\n",
      "                  }\n",
      "                },\n",
      "                {\n",
      "                  pubstatus aheadofprint,\n",
      "                  date std {\n",
      "                    year 2008,\n",
      "                    month 8,\n",
      "                    day 24\n",
      "                  }\n",
      "                },\n",
      "                {\n",
      "                  pubstatus pubmed,\n",
      "                  date std {\n",
      "                    year 2008,\n",
      "                    month 8,\n",
      "                    day 30,\n",
      "                    hour 9,\n",
      "                    minute 0\n",
      "                  }\n",
      "                },\n",
      "                {\n",
      "                  pubstatus medline,\n",
      "                  date std {\n",
      "                    year 2008,\n",
      "                    month 8,\n",
      "                    day 30,\n",
      "                    hour 9,\n",
      "                    minute 0\n",
      "                  }\n",
      "                },\n",
      "                {\n",
      "                  pubstatus other,\n",
      "                  date std {\n",
      "                    year 2008,\n",
      "                    month 8,\n",
      "                    day 30,\n",
      "                    hour 9,\n",
      "                    minute 0\n",
      "                  }\n",
      "                }\n",
      "              }\n",
      "            }\n",
      "          },\n",
      "          ids {\n",
      "            pii \"1744-9081-4-39\",\n",
      "            doi \"10.1186/1744-9081-4-39\",\n",
      "            pubmed 18721483,\n",
      "            other {\n",
      "              db \"pmc\",\n",
      "              tag str \"PMC2553416\"\n",
      "            }\n",
      "          }\n",
      "        }\n",
      "      },\n",
      "      comment \"GeneRIF: Observational study of gene-disease association. (HuGE\n",
      " Navigator)\"\n",
      "    },\n",
      "    pub {\n",
      "      pub {\n",
      "        pmid 18469177,\n",
      "        article {\n",
      "          title {\n",
      "            name \"Effect of a new non-cleavable substrate analog on wild-type\n",
      " and serine mutants in the signature sequence of adenylosuccinate lyase of\n",
      " Bacillus subtilis and Homo sapiens.\"\n",
      "          },\n",
      "          authors {\n",
      "            names std {\n",
      "              {\n",
      "                name name {\n",
      "                  last \"Sivendran\",\n",
      "                  initials \"S.\"\n",
      "                }\n",
      "              },\n",
      "              {\n",
      "                name name {\n",
      "                  last \"Colman\",\n",
      "                  initials \"R.F.\"\n",
      "                }\n",
      "              }\n",
      "            },\n",
      "            affil str \"Department of Chemistry and Biochemistry, University of\n",
      " Delaware, Newark, Delaware 19716, USA.\"\n",
      "          },\n",
      "          from journal {\n",
      "            title {\n",
      "              iso-jta \"Protein Sci.\",\n",
      "              ml-jta \"Protein Sci\",\n",
      "              issn \"1469-896X\",\n",
      "              name \"Protein science : a publication of the Protein Society\"\n",
      "            },\n",
      "            imp {\n",
      "              date std {\n",
      "                year 2008,\n",
      "                month 7\n",
      "              },\n",
      "              volume \"17\",\n",
      "              issue \"7\",\n",
      "              pages \"1162-1174\",\n",
      "              language \"eng\",\n",
      "              pubstatus ppublish,\n",
      "              history {\n",
      "                {\n",
      "                  pubstatus aheadofprint,\n",
      "                  date std {\n",
      "                    year 2008,\n",
      "                    month 5,\n",
      "                    day 9\n",
      "                  }\n",
      "                },\n",
      "                {\n",
      "                  pubstatus pubmed,\n",
      "                  date std {\n",
      "                    year 2008,\n",
      "                    month 5,\n",
      "                    day 13,\n",
      "                    hour 9,\n",
      "                    minute 0\n",
      "                  }\n",
      "                },\n",
      "                {\n",
      "                  pubstatus medline,\n",
      "                  date std {\n",
      "                    year 2008,\n",
      "                    month 8,\n",
      "                    day 30,\n",
      "                    hour 9,\n",
      "                    minute 0\n",
      "                  }\n",
      "                },\n",
      "                {\n",
      "                  pubstatus other,\n",
      "                  date std {\n",
      "                    year 2008,\n",
      "                    month 5,\n",
      "                    day 13,\n",
      "                    hour 9,\n",
      "                    minute 0\n",
      "                  }\n",
      "                }\n",
      "              }\n",
      "            }\n",
      "          },\n",
      "          ids {\n",
      "            pii \"ps.034777.108\",\n",
      "            doi \"10.1110/ps.034777.108\",\n",
      "            pubmed 18469177,\n",
      "            other {\n",
      "              db \"pmc\",\n",
      "              tag str \"PMC2442012\"\n",
      "            }\n",
      "          }\n",
      "        }\n",
      "      },\n",
      "      comment \"GeneRIF: Kinetic data reveal that human Ser(289) and B.\n",
      " subtilis Ser(262) and Ser(263) are essential for catalysis, while the ability\n",
      " of these Ser mutants to bind APBADP suggests that they do not contribute to\n",
      " substrate affinity\"\n",
      "    },\n",
      "    pub {\n",
      "      pub {\n",
      "        pmid 15786719,\n",
      "        article {\n",
      "          title {\n",
      "            name \"Molecular cloning and characterization of a novel muscle\n",
      " adenylosuccinate synthetase, AdSSL1, from human bone marrow stromal cells.\"\n",
      "          },\n",
      "          authors {\n",
      "            names std {\n",
      "              {\n",
      "                name name {\n",
      "                  last \"Sun\",\n",
      "                  initials \"H.\"\n",
      "                }\n",
      "              },\n",
      "              {\n",
      "                name name {\n",
      "                  last \"Li\",\n",
      "                  initials \"N.\"\n",
      "                }\n",
      "              },\n",
      "              {\n",
      "                name name {\n",
      "                  last \"Wang\",\n",
      "                  initials \"X.\"\n",
      "                }\n",
      "              },\n",
      "              {\n",
      "                name name {\n",
      "                  last \"Chen\",\n",
      "                  initials \"T.\"\n",
      "                }\n",
      "              },\n",
      "              {\n",
      "                name name {\n",
      "                  last \"Shi\",\n",
      "                  initials \"L.\"\n",
      "                }\n",
      "              },\n",
      "              {\n",
      "                name name {\n",
      "                  last \"Zhang\",\n",
      "                  initials \"L.\"\n",
      "                }\n",
      "              },\n",
      "              {\n",
      "                name name {\n",
      "                  last \"Wang\",\n",
      "                  initials \"J.\"\n",
      "                }\n",
      "              },\n",
      "              {\n",
      "                name name {\n",
      "                  last \"Wan\",\n",
      "                  initials \"T.\"\n",
      "                }\n",
      "              },\n",
      "              {\n",
      "                name name {\n",
      "                  last \"Cao\",\n",
      "                  initials \"X.\"\n",
      "                }\n",
      "              }\n",
      "            },\n",
      "            affil str \"Institute of Immunology, Zhejiang University, Hangzhou,\n",
      " Zhejiang, PR China.\"\n",
      "          },\n",
      "          from journal {\n",
      "            title {\n",
      "              iso-jta \"Mol. Cell. Biochem.\",\n",
      "              ml-jta \"Mol Cell Biochem\",\n",
      "              issn \"0300-8177\",\n",
      "              name \"Molecular and cellular biochemistry\"\n",
      "            },\n",
      "            imp {\n",
      "              date std {\n",
      "                year 2005,\n",
      "                month 1\n",
      "              },\n",
      "              volume \"269\",\n",
      "              issue \"1-2\",\n",
      "              pages \"85-94\",\n",
      "              language \"eng\",\n",
      "              pubstatus ppublish,\n",
      "              history {\n",
      "                {\n",
      "                  pubstatus pubmed,\n",
      "                  date std {\n",
      "                    year 2005,\n",
      "                    month 3,\n",
      "                    day 25,\n",
      "                    hour 9,\n",
      "                    minute 0\n",
      "                  }\n",
      "                },\n",
      "                {\n",
      "                  pubstatus medline,\n",
      "                  date std {\n",
      "                    year 2005,\n",
      "                    month 9,\n",
      "                    day 2,\n",
      "                    hour 9,\n",
      "                    minute 0\n",
      "                  }\n",
      "                },\n",
      "                {\n",
      "                  pubstatus other,\n",
      "                  date std {\n",
      "                    year 2005,\n",
      "                    month 3,\n",
      "                    day 25,\n",
      "                    hour 9,\n",
      "                    minute 0\n",
      "                  }\n",
      "                }\n",
      "              }\n",
      "            }\n",
      "          },\n",
      "          ids {\n",
      "            pubmed 15786719\n",
      "          }\n",
      "        }\n",
      "      }\n",
      "    },\n",
      "    pub {\n",
      "      pub {\n",
      "        pmid 8887278,\n",
      "        article {\n",
      "          title {\n",
      "            name \"Purine nucleotide cycle in rat renal cortex and medulla\n",
      " under conditions that mimic normal and low oxygen supply.\"\n",
      "          },\n",
      "          authors {\n",
      "            names std {\n",
      "              {\n",
      "                name name {\n",
      "                  last \"Stepinski\",\n",
      "                  initials \"J.\"\n",
      "                }\n",
      "              },\n",
      "              {\n",
      "                name name {\n",
      "                  last \"Pawelczyk\",\n",
      "                  initials \"T.\"\n",
      "                }\n",
      "              },\n",
      "              {\n",
      "                name name {\n",
      "                  last \"Bizon\",\n",
      "                  initials \"D.\"\n",
      "                }\n",
      "              },\n",
      "              {\n",
      "                name name {\n",
      "                  last \"Angielski\",\n",
      "                  initials \"S.\"\n",
      "                }\n",
      "              }\n",
      "            },\n",
      "            affil str \"Department of Clinical Biochemistry, Medical University\n",
      " of Gdansk, Poland.\"\n",
      "          },\n",
      "          from journal {\n",
      "            title {\n",
      "              iso-jta \"Kidney Int.\",\n",
      "              ml-jta \"Kidney Int\",\n",
      "              issn \"0085-2538\",\n",
      "              name \"Kidney international\"\n",
      "            },\n",
      "            imp {\n",
      "              date std {\n",
      "                year 1996,\n",
      "                month 10\n",
      "              },\n",
      "              volume \"50\",\n",
      "              issue \"4\",\n",
      "              pages \"1195-1201\",\n",
      "              language \"eng\",\n",
      "              pubstatus ppublish,\n",
      "              history {\n",
      "                {\n",
      "                  pubstatus pubmed,\n",
      "                  date std {\n",
      "                    year 1996,\n",
      "                    month 10,\n",
      "                    day 1\n",
      "                  }\n",
      "                },\n",
      "                {\n",
      "                  pubstatus medline,\n",
      "                  date std {\n",
      "                    year 1996,\n",
      "                    month 10,\n",
      "                    day 1,\n",
      "                    hour 0,\n",
      "                    minute 1\n",
      "                  }\n",
      "                },\n",
      "                {\n",
      "                  pubstatus other,\n",
      "                  date std {\n",
      "                    year 1996,\n",
      "                    month 10,\n",
      "                    day 1,\n",
      "                    hour 0,\n",
      "                    minute 0\n",
      "                  }\n",
      "                }\n",
      "              }\n",
      "            }\n",
      "          },\n",
      "          ids {\n",
      "            pubmed 8887278\n",
      "          }\n",
      "        }\n",
      "      }\n",
      "    },\n",
      "    pub {\n",
      "      pub {\n",
      "        pmid 4436310,\n",
      "        article {\n",
      "          title {\n",
      "            name \"Human adenylosuccinate synthetase. Partial purification,\n",
      " kinetic and regulatory properties of the enzyme from placenta.\"\n",
      "          },\n",
      "          authors {\n",
      "            names std {\n",
      "              {\n",
      "                name name {\n",
      "                  last \"Van der Weyden\",\n",
      "                  initials \"M.B.\"\n",
      "                }\n",
      "              },\n",
      "              {\n",
      "                name name {\n",
      "                  last \"Kelly\",\n",
      "                  initials \"W.N.\"\n",
      "                }\n",
      "              }\n",
      "            }\n",
      "          },\n",
      "          from journal {\n",
      "            title {\n",
      "              iso-jta \"J. Biol. Chem.\",\n",
      "              ml-jta \"J Biol Chem\",\n",
      "              issn \"0021-9258\",\n",
      "              name \"The Journal of biological chemistry\"\n",
      "            },\n",
      "            imp {\n",
      "              date std {\n",
      "                year 1974,\n",
      "                month 11,\n",
      "                day 25\n",
      "              },\n",
      "              volume \"249\",\n",
      "              issue \"22\",\n",
      "              pages \"7282-7289\",\n",
      "              language \"eng\",\n",
      "              pubstatus ppublish,\n",
      "              history {\n",
      "                {\n",
      "                  pubstatus pubmed,\n",
      "                  date std {\n",
      "                    year 1974,\n",
      "                    month 11,\n",
      "                    day 25\n",
      "                  }\n",
      "                },\n",
      "                {\n",
      "                  pubstatus medline,\n",
      "                  date std {\n",
      "                    year 1974,\n",
      "                    month 11,\n",
      "                    day 25,\n",
      "                    hour 0,\n",
      "                    minute 1\n",
      "                  }\n",
      "                },\n",
      "                {\n",
      "                  pubstatus other,\n",
      "                  date std {\n",
      "                    year 1974,\n",
      "                    month 11,\n",
      "                    day 25,\n",
      "                    hour 0,\n",
      "                    minute 0\n",
      "                  }\n",
      "                }\n",
      "              }\n",
      "            }\n",
      "          },\n",
      "          ids {\n",
      "            pubmed 4436310\n",
      "          }\n",
      "        }\n",
      "      }\n",
      "    },\n",
      "    pub {\n",
      "      pub {\n",
      "        pmid 2004783,\n",
      "        article {\n",
      "          title {\n",
      "            name \"A gene correcting the defect in the CHO mutant Ade -H,\n",
      " deficient in a branch point enzyme (adenylosuccinate synthetase) of de novo\n",
      " purine biosynthesis, is located on the long arm of chromosome 1.\"\n",
      "          },\n",
      "          authors {\n",
      "            names std {\n",
      "              {\n",
      "                name name {\n",
      "                  last \"Lai\",\n",
      "                  initials \"L.W.\"\n",
      "                }\n",
      "              },\n",
      "              {\n",
      "                name name {\n",
      "                  last \"Hart\",\n",
      "                  initials \"I.M.\"\n",
      "                }\n",
      "              },\n",
      "              {\n",
      "                name name {\n",
      "                  last \"Patterson\",\n",
      "                  initials \"D.\"\n",
      "                }\n",
      "              }\n",
      "            },\n",
      "            affil str \"Eleanor Roosevelt Institute for Cancer Research,\n",
      " Denver, Colorado 80206.\"\n",
      "          },\n",
      "          from journal {\n",
      "            title {\n",
      "              iso-jta \"Genomics\",\n",
      "              ml-jta \"Genomics\",\n",
      "              issn \"0888-7543\",\n",
      "              name \"Genomics\"\n",
      "            },\n",
      "            imp {\n",
      "              date std {\n",
      "                year 1991,\n",
      "                month 2\n",
      "              },\n",
      "              volume \"9\",\n",
      "              issue \"2\",\n",
      "              pages \"322-328\",\n",
      "              language \"eng\",\n",
      "              pubstatus ppublish,\n",
      "              history {\n",
      "                {\n",
      "                  pubstatus pubmed,\n",
      "                  date std {\n",
      "                    year 1991,\n",
      "                    month 2,\n",
      "                    day 1\n",
      "                  }\n",
      "                },\n",
      "                {\n",
      "                  pubstatus medline,\n",
      "                  date std {\n",
      "                    year 1991,\n",
      "                    month 2,\n",
      "                    day 1,\n",
      "                    hour 0,\n",
      "                    minute 1\n",
      "                  }\n",
      "                },\n",
      "                {\n",
      "                  pubstatus other,\n",
      "                  date std {\n",
      "                    year 1991,\n",
      "                    month 2,\n",
      "                    day 1,\n",
      "                    hour 0,\n",
      "                    minute 0\n",
      "                  }\n",
      "                }\n",
      "              }\n",
      "            }\n",
      "          },\n",
      "          ids {\n",
      "            pubmed 2004783,\n",
      "            pii \"0888-7543(91)90260-L\"\n",
      "          }\n",
      "        }\n",
      "      }\n",
      "    },\n",
      "    pub {\n",
      "      pub {\n",
      "        pmid 1592113,\n",
      "        article {\n",
      "          title {\n",
      "            name \"Cloning and characterization of the cDNA encoding human\n",
      " adenylosuccinate synthetase.\"\n",
      "          },\n",
      "          authors {\n",
      "            names std {\n",
      "              {\n",
      "                name name {\n",
      "                  last \"Powell\",\n",
      "                  initials \"S.M.\"\n",
      "                }\n",
      "              },\n",
      "              {\n",
      "                name name {\n",
      "                  last \"Zalkin\",\n",
      "                  initials \"H.\"\n",
      "                }\n",
      "              },\n",
      "              {\n",
      "                name name {\n",
      "                  last \"Dixon\",\n",
      "                  initials \"J.E.\"\n",
      "                }\n",
      "              }\n",
      "            },\n",
      "            affil str \"Department of Biochemistry, Purdue University, West\n",
      " Lafayette, IN 49707.\"\n",
      "          },\n",
      "          from journal {\n",
      "            title {\n",
      "              iso-jta \"FEBS Lett.\",\n",
      "              ml-jta \"FEBS Lett\",\n",
      "              issn \"0014-5793\",\n",
      "              name \"FEBS letters\"\n",
      "            },\n",
      "            imp {\n",
      "              date std {\n",
      "                year 1992,\n",
      "                month 5,\n",
      "                day 25\n",
      "              },\n",
      "              volume \"303\",\n",
      "              issue \"1\",\n",
      "              pages \"4-10\",\n",
      "              language \"eng\",\n",
      "              pubstatus ppublish,\n",
      "              history {\n",
      "                {\n",
      "                  pubstatus pubmed,\n",
      "                  date std {\n",
      "                    year 1992,\n",
      "                    month 5,\n",
      "                    day 25\n",
      "                  }\n",
      "                },\n",
      "                {\n",
      "                  pubstatus medline,\n",
      "                  date std {\n",
      "                    year 1992,\n",
      "                    month 5,\n",
      "                    day 25,\n",
      "                    hour 0,\n",
      "                    minute 1\n",
      "                  }\n",
      "                },\n",
      "                {\n",
      "                  pubstatus other,\n",
      "                  date std {\n",
      "                    year 1992,\n",
      "                    month 5,\n",
      "                    day 25,\n",
      "                    hour 0,\n",
      "                    minute 0\n",
      "                  }\n",
      "                }\n",
      "              }\n",
      "            }\n",
      "          },\n",
      "          ids {\n",
      "            pubmed 1592113,\n",
      "            pii \"0014-5793(92)80465-S\"\n",
      "          }\n",
      "        }\n",
      "      }\n",
      "    },\n",
      "    pub {\n",
      "      pub {\n",
      "        pmid 1574589,\n",
      "        article {\n",
      "          title {\n",
      "            name \"De novo purine nucleotide biosynthesis.\"\n",
      "          },\n",
      "          authors {\n",
      "            names std {\n",
      "              {\n",
      "                name name {\n",
      "                  last \"Zalkin\",\n",
      "                  initials \"H.\"\n",
      "                }\n",
      "              },\n",
      "              {\n",
      "                name name {\n",
      "                  last \"Dixon\",\n",
      "                  initials \"J.E.\"\n",
      "                }\n",
      "              }\n",
      "            },\n",
      "            affil str \"Department of Biochemistry, Purdue University, West\n",
      " Lafayette, Indiana 47907.\"\n",
      "          },\n",
      "          from journal {\n",
      "            title {\n",
      "              iso-jta \"Prog. Nucleic Acid Res. Mol. Biol.\",\n",
      "              ml-jta \"Prog Nucleic Acid Res Mol Biol\",\n",
      "              issn \"0079-6603\",\n",
      "              name \"Progress in nucleic acid research and molecular biology\"\n",
      "            },\n",
      "            imp {\n",
      "              date std {\n",
      "                year 1992\n",
      "              },\n",
      "              volume \"42\",\n",
      "              pages \"259-287\",\n",
      "              language \"eng\",\n",
      "              pubstatus ppublish,\n",
      "              history {\n",
      "                {\n",
      "                  pubstatus pubmed,\n",
      "                  date std {\n",
      "                    year 1992,\n",
      "                    month 1,\n",
      "                    day 1\n",
      "                  }\n",
      "                },\n",
      "                {\n",
      "                  pubstatus medline,\n",
      "                  date std {\n",
      "                    year 1992,\n",
      "                    month 1,\n",
      "                    day 1,\n",
      "                    hour 0,\n",
      "                    minute 1\n",
      "                  }\n",
      "                },\n",
      "                {\n",
      "                  pubstatus other,\n",
      "                  date std {\n",
      "                    year 1992,\n",
      "                    month 1,\n",
      "                    day 1,\n",
      "                    hour 0,\n",
      "                    minute 0\n",
      "                  }\n",
      "                }\n",
      "              }\n",
      "            }\n",
      "          },\n",
      "          ids {\n",
      "            pubmed 1574589\n",
      "          }\n",
      "        }\n",
      "      },\n",
      "      comment \"Review article\"\n",
      "    },\n",
      "    pub {\n",
      "      pub {\n",
      "        pmid 648524,\n",
      "        article {\n",
      "          title {\n",
      "            name \"Interaction of adenylosuccinate synthetase with F-actin.\"\n",
      "          },\n",
      "          authors {\n",
      "            names std {\n",
      "              {\n",
      "                name name {\n",
      "                  last \"Ogawa\",\n",
      "                  initials \"H.\"\n",
      "                }\n",
      "              },\n",
      "              {\n",
      "                name name {\n",
      "                  last \"Shiraki\",\n",
      "                  initials \"H.\"\n",
      "                }\n",
      "              },\n",
      "              {\n",
      "                name name {\n",
      "                  last \"Matsuda\",\n",
      "                  initials \"Y.\"\n",
      "                }\n",
      "              },\n",
      "              {\n",
      "                name name {\n",
      "                  last \"Nakagawa\",\n",
      "                  initials \"H.\"\n",
      "                }\n",
      "              }\n",
      "            }\n",
      "          },\n",
      "          from journal {\n",
      "            title {\n",
      "              iso-jta \"Eur. J. Biochem.\",\n",
      "              ml-jta \"Eur J Biochem\",\n",
      "              issn \"0014-2956\",\n",
      "              name \"European journal of biochemistry / FEBS\"\n",
      "            },\n",
      "            imp {\n",
      "              date std {\n",
      "                year 1978,\n",
      "                month 4,\n",
      "                day 17\n",
      "              },\n",
      "              volume \"85\",\n",
      "              issue \"2\",\n",
      "              pages \"331-337\",\n",
      "              language \"eng\",\n",
      "              pubstatus ppublish,\n",
      "              history {\n",
      "                {\n",
      "                  pubstatus pubmed,\n",
      "                  date std {\n",
      "                    year 1978,\n",
      "                    month 4,\n",
      "                    day 17\n",
      "                  }\n",
      "                },\n",
      "                {\n",
      "                  pubstatus medline,\n",
      "                  date std {\n",
      "                    year 1978,\n",
      "                    month 4,\n",
      "                    day 17,\n",
      "                    hour 0,\n",
      "                    minute 1\n",
      "                  }\n",
      "                },\n",
      "                {\n",
      "                  pubstatus other,\n",
      "                  date std {\n",
      "                    year 1978,\n",
      "                    month 4,\n",
      "                    day 17,\n",
      "                    hour 0,\n",
      "                    minute 0\n",
      "                  }\n",
      "                }\n",
      "              }\n",
      "            }\n",
      "          },\n",
      "          ids {\n",
      "            pubmed 648524\n",
      "          }\n",
      "        }\n",
      "      }\n",
      "    },\n",
      "    comment \"~Summary: Adenylosuccinate synthetase catalyzes the first\n",
      " committed step in the conversion of IMP to AMP [provided by RefSeq]\",\n",
      "    user {\n",
      "      type str \"RefGeneTracking\",\n",
      "      data {\n",
      "        {\n",
      "          label str \"Status\",\n",
      "          data str \"Reviewed\"\n",
      "        },\n",
      "        {\n",
      "          label str \"Assembly\",\n",
      "          data fields {\n",
      "            {\n",
      "              label id 0,\n",
      "              data fields {\n",
      "                {\n",
      "                  label str \"accession\",\n",
      "                  data str \"BC012356.1\"\n",
      "                },\n",
      "                {\n",
      "                  label str \"gi\",\n",
      "                  data int 15214463\n",
      "                }\n",
      "              }\n",
      "            },\n",
      "            {\n",
      "              label id 0,\n",
      "              data fields {\n",
      "                {\n",
      "                  label str \"accession\",\n",
      "                  data str \"BG700800.1\"\n",
      "                }\n",
      "              }\n",
      "            }\n",
      "          }\n",
      "        }\n",
      "      }\n",
      "    },\n",
      "    update-date std {\n",
      "      year 2010,\n",
      "      month 10,\n",
      "      day 10\n",
      "    }\n",
      "  },\n",
      "  seq-set {\n",
      "    seq {\n",
      "      id {\n",
      "        other {\n",
      "          accession \"NM_001126\",\n",
      "          version 2\n",
      "        },\n",
      "        gi 34577062\n",
      "      },\n",
      "      descr {\n",
      "        title \"Homo sapiens adenylosuccinate synthase (ADSS), mRNA\",\n",
      "        molinfo {\n",
      "          biomol mRNA,\n",
      "          completeness has-right\n",
      "        },\n",
      "        create-date std {\n",
      "          year 1999,\n",
      "          month 4,\n",
      "          day 1\n",
      "        }\n",
      "      },\n",
      "      inst {\n",
      "        repr raw,\n",
      "        mol rna,\n",
      "        length 2775,\n",
      "        seq-data ncbi2na 'A0AA6E976B5AAE9A5BE59452A5DF5E6A6B9E58A5A5E66A92D3AC\n",
      "557E26A7BA6889AA6A87A7A2AE9A569AA6AA6A96977A75F7D7793BA7A6964892F4BD9D1D765A59\n",
      "775F6A775D9B47A253A6F65885C569A4D757950698F9A5954A99A568A016AE1AEB9DAE64BAA618\n",
      "2902A0AEBA179E99286584DBB96794A8A030E7A5312FBEE8F7BA0CE3FD377C54BA0C3C3503B479\n",
      "3D3E80EBBAC3D3717A3EFE08248800EF400A00A1C829EA000A7CF3378489D33ECFE3FD34249E3A\n",
      "CD4A0412210810928003FAB104002A4FA54BF3DB50279DA2E874A3B985FBF787F8E9F7788AFC0B\n",
      "DC9C1431037331547FA03213E0AE0F1001D0ABCCE8023C050EB888E8BF3FDCCE295C4E85140803\n",
      "7EB20AE40E491CF233E3FEA1F15FFB05DF40FB1EFA2BBFB1EBFAB3945D00EFA20BB3A2FB809F31\n",
      "0722FACFAE5FD71224210E03E883CF1010AAC88BFAEC1C7A0A00823BA7AFA176FF9D0339D338D0\n",
      "E8FC79BE91F142FA33FE84EFC680D02FA2F9F10BC8EB80D3174CD52405082DF0302F82F4330877\n",
      "54A3A04484CD0390A9BF020717BC3910073BD8FCF82389F40F52F0BA3EBBEB035220DCE3D077FC\n",
      "38F94B0E42011D7E22A2A8021FDF033F4FCE17903D0830211E0B0BF825712FBF52DFF48E8E5C7B\n",
      "A23C1FE933D4BB49FDFC9E83E5034FEF9D79E774EB946FFFFF43BF2C32CC353BEFE33402C83C7F\n",
      "C3B2FFDF4F3ED3E6EF7C2FF1573C8EB0810F0E4BFE440CFFC4F78D3D2F7B4FB0DFEFBC8040E380\n",
      "132ABDEC07FEC39CE0F7BF03FEA7B73FDE78053900F89FEBAA7A8AABCECF4EA17F0FEC4811207C\n",
      "FDED2F3F0C4F803F2E03BD0220C8EFD500410DFCEF0032D3C0237BEC333AE8CFFDFC3F404F1778\n",
      "0EECDFF7FFCDF14F0FF0372E8FAFF4136E5E58CE5C4834DEC2ED00E0546FBC94C3FE3CE5FCFDD7\n",
      "F7E00000AEF3FE10F29304FBFEC8F37FC381CFF03BC0F2B947C0FCFF3C45383278F008140CFDCB\n",
      "0000000000'H,\n",
      "        hist {\n",
      "          replaces {\n",
      "            date std {\n",
      "              year 2003,\n",
      "              month 9,\n",
      "              day 11\n",
      "            },\n",
      "            ids {\n",
      "              gi 4557270\n",
      "            }\n",
      "          },\n",
      "          replaced-by {\n",
      "            date std {\n",
      "              year 2010,\n",
      "              month 11,\n",
      "              day 25\n",
      "            },\n",
      "            ids {\n",
      "              gi 312836839\n",
      "            }\n",
      "          }\n",
      "        }\n",
      "      },\n",
      "      annot {\n",
      "        {\n",
      "          data ftable {\n",
      "            {\n",
      "              data imp {\n",
      "                key \"polyA_signal\"\n",
      "              },\n",
      "              location int {\n",
      "                from 2731,\n",
      "                to 2736,\n",
      "                strand plus,\n",
      "                id gi 34577062\n",
      "              }\n",
      "            },\n",
      "            {\n",
      "              data imp {\n",
      "                key \"polyA_site\"\n",
      "              },\n",
      "              location pnt {\n",
      "                point 2756,\n",
      "                strand plus,\n",
      "                id gi 34577062\n",
      "              }\n",
      "            },\n",
      "            {\n",
      "              data gene {\n",
      "                locus \"ADSS\",\n",
      "                desc \"adenylosuccinate synthase\",\n",
      "                syn {\n",
      "                  \"ADEH\",\n",
      "                  \"MGC20404\"\n",
      "                }\n",
      "              },\n",
      "              location int {\n",
      "                from 0,\n",
      "                to 2774,\n",
      "                strand plus,\n",
      "                id gi 34577062\n",
      "              },\n",
      "              dbxref {\n",
      "                {\n",
      "                  db \"GeneID\",\n",
      "                  tag id 159\n",
      "                },\n",
      "                {\n",
      "                  db \"HGNC\",\n",
      "                  tag id 292\n",
      "                },\n",
      "                {\n",
      "                  db \"HPRD\",\n",
      "                  tag str \"00050\"\n",
      "                },\n",
      "                {\n",
      "                  db \"MIM\",\n",
      "                  tag id 103060\n",
      "                }\n",
      "              }\n",
      "            }\n",
      "          }\n",
      "        }\n",
      "      }\n",
      "    },\n",
      "    seq {\n",
      "      id {\n",
      "        other {\n",
      "          accession \"NP_001117\",\n",
      "          version 2\n",
      "        },\n",
      "        gi 34577063\n",
      "      },\n",
      "      descr {\n",
      "        title \"adenylosuccinate synthetase isozyme 2 [Homo sapiens]\",\n",
      "        molinfo {\n",
      "          biomol peptide\n",
      "        },\n",
      "        create-date std {\n",
      "          year 1999,\n",
      "          month 4,\n",
      "          day 1\n",
      "        }\n",
      "      },\n",
      "      inst {\n",
      "        repr raw,\n",
      "        mol aa,\n",
      "        length 456,\n",
      "        seq-data ncbieaa \"MAFAETYPAASSLPNGDCGRPRARPGGNRVTVVLGAQWGDEGKGKVVDLLAQ\n",
      "DADIVCRCQGGNNAGHTVVVDSVEYDFHLLPSGIINPNVTAFIGNGVVIHLPGLFEEAEKNVQKGKGLEGWEKRLIIS\n",
      "DRAHIVFDFHQAADGIQEQQRQEQAGKNLGTTKKGIGPVYSSKAARSGLRMCDLVSDFDGFSERFKVLANQYKSIYPT\n",
      "LEIDIEGELQKLKGYMEKIKPMVRDGVYFLYEALHGPPKKILVEGANAALLDIDFGTYPFVTSSNCTVGGVCTGLGMP\n",
      "PQNVGEVYGVVKAYTTRVGIGAFPTEQDNEIGELLQTRGREFGVTTGRKRRCGWLDLVLLKYAHMINGFTALALTKLD\n",
      "ILDMFTEIKVGVAYKLDGEIIPHIPANQEVLNKVEVQYKTLPGWNTDISNARAFKELPVNAQNYVRFIEDELQIPVKW\n",
      "IGVGKSRESMIQLF\",\n",
      "        hist {\n",
      "          replaces {\n",
      "            date std {\n",
      "              year 2003,\n",
      "              month 9,\n",
      "              day 11\n",
      "            },\n",
      "            ids {\n",
      "              gi 4557271\n",
      "            }\n",
      "          }\n",
      "        }\n",
      "      },\n",
      "      annot {\n",
      "        {\n",
      "          data ftable {\n",
      "            {\n",
      "              data prot {\n",
      "                name {\n",
      "                  \"adenylosuccinate synthetase isozyme 2\",\n",
      "                  \"adenylosuccinate synthetase (Ade(-)H-complementing)\",\n",
      "                  \"adenylosuccinate synthetase, acidic isozyme\",\n",
      "                  \"IMP--aspartate ligase 2\",\n",
      "                  \"adSS 2\",\n",
      "                  \"AMPSase 2\",\n",
      "                  \"L-type adenylosuccinate synthetase\",\n",
      "                  \"adenylosuccinate synthetase, liver isozyme\"\n",
      "                },\n",
      "                ec {\n",
      "                  \"6.3.4.4\"\n",
      "                }\n",
      "              },\n",
      "              location int {\n",
      "                from 0,\n",
      "                to 455,\n",
      "                id gi 34577063\n",
      "              }\n",
      "            }\n",
      "          }\n",
      "        }\n",
      "      }\n",
      "    }\n",
      "  },\n",
      "  annot {\n",
      "    {\n",
      "      data ftable {\n",
      "        {\n",
      "          data cdregion {\n",
      "            frame one,\n",
      "            code {\n",
      "              id 1\n",
      "            }\n",
      "          },\n",
      "          product whole gi 34577063,\n",
      "          location int {\n",
      "            from 294,\n",
      "            to 1664,\n",
      "            strand plus,\n",
      "            id gi 34577062\n",
      "          },\n",
      "          dbxref {\n",
      "            {\n",
      "              db \"CCDS\",\n",
      "              tag str \"CCDS1624.1\"\n",
      "            }\n",
      "          }\n",
      "        }\n",
      "      }\n",
      "    }\n",
      "  }\n",
      "}\n",
      "\n",
      "\n"
     ]
    }
   ],
   "source": [
    "print(handle.read())"
   ]
  },
  {
   "cell_type": "code",
   "execution_count": 463,
   "id": "bdbb43f6",
   "metadata": {},
   "outputs": [],
   "source": [
    "handle=Entrez.efetch(db='nuccore', id='34577062', rettype='fasta')"
   ]
  },
  {
   "cell_type": "code",
   "execution_count": 464,
   "id": "32ebebc9",
   "metadata": {},
   "outputs": [
    {
     "name": "stdout",
     "output_type": "stream",
     "text": [
      ">NM_001126.2 Homo sapiens adenylosuccinate synthase (ADSS), mRNA\n",
      "GGAAGGGGCGTGGCCTCGGTCCGGGGTGGCGGCCGTTGCCGCCACCAGGGCCTCTTCCTGCGGGCGGTGC\n",
      "TGCCGAGGCCGGCCTGCGCGGGGCAGTCATGGTACCCCCTTGAGCGGGCTGTGGCGGAGAGCGGGGCGGG\n",
      "GACTGGCTGGAGGGTGGCGGCCCGGCGGGGCGGGGGCGGGGCCGGCCTCTGGCTCCTTCTTCCTCTGCAT\n",
      "GTGGCTGGCGGCCGCAGAGCAGTTCAGTTCGCTCACTCCTCGCCGGCCGCCTCTCCTTCGGGCTCTCCTC\n",
      "GCGTCACTGGAGCCATGGCGTTCGCCGAGACCTACCCGGCGGCATCCTCCCTGCCCAACGGCGATTGCGG\n",
      "CCGCCCCAGGGCGCGGCCCGGAGGAAACCGGGTGACGGTGGTGCTCGGTGCGCAGTGGGGCGACGAAGGC\n",
      "AAAGGGAAGGTGGTGGACCTGCTGGCGCAGGACGCCGACATCGTGTGCCGCTGCCAGGGAGGAAATAATG\n",
      "CTGGCCATACAGTTGTTGTGGATTCTGTGGAATATGATTTTCATCTCTTACCCAGTGGAATAATTAATCC\n",
      "AAATGTCACTGCATTCATTGGAAATGGTGTGGTAATTCATCTACCTGGATTGTTTGAAGAAGCAGAGAAA\n",
      "AATGTTCAAAAAGGAAAAGGACTAGAAGGCTGGGAAAAAAGGCTTATTATATCTGACAGAGCTCATATTG\n",
      "TATTTGATTTTCATCAAGCAGCTGATGGTATCCAGGAACAACAGAGACAAGAACAAGCAGGAAAAAATTT\n",
      "GGGTACAACAAAAAAGGGCATTGGCCCAGTTTATTCGTCCAAAGCTGCTCGGAGTGGACTCAGGATGTGC\n",
      "GACCTTGTTTCTGACTTTGATGGCTTCTCTGAGAGGTTTAAAGTTCTAGCTAACCAATACAAATCTATAT\n",
      "ACCCCACTTTGGAAATAGACATTGAAGGTGAATTACAAAAACTCAAGGGTTATATGGAAAAGATTAAACC\n",
      "AATGGTGAGAGATGGAGTTTATTTTCTATATGAGGCCCTACATGGACCACCAAAGAAAATCTTGGTAGAA\n",
      "GGTGCAAATGCAGCACTATTAGATATTGATTTTGGGACTTACCCTTTTGTAACCTCTTCAAATTGTACTG\n",
      "TTGGAGGTGTTTGTACTGGTTTGGGTATGCCACCTCAAAATGTTGGAGAAGTGTATGGAGTTGTGAAAGC\n",
      "TTATACAACTAGAGTTGGTATTGGTGCCTTTCCTACAGAGCAAGACAATGAAATTGGAGAATTATTACAA\n",
      "ACAAGGGGTAGAGAGTTTGGTGTAACTACTGGAAGGAAAAGAAGATGTGGCTGGTTGGACCTCGTTTTGC\n",
      "TCAAATATGCTCATATGATCAATGGATTTACTGCGTTGGCACTTACCAAGTTGGATATTTTGGACATGTT\n",
      "TACGGAAATCAAAGTTGGAGTTGCTTACAAGTTAGATGGTGAAATCATACCTCATATCCCAGCAAACCAA\n",
      "GAAGTCTTAAATAAAGTTGAAGTTCAATATAAGACTCTCCCAGGATGGAACACAGACATATCAAATGCAA\n",
      "GGGCGTTTAAAGAACTACCTGTTAATGCACAAAACTATGTTCGATTTATTGAAGATGAGCTTCAAATTCC\n",
      "AGTTAAGTGGATTGGTGTTGGTAAATCCAGAGAATCTATGATTCAACTCTTTTAATGATTGCCAGTAATG\n",
      "CAAGAAACACTCCTTGAGAGGGAGGGGAAAAGACTTTCTTAAATATTTCATTTATGACCTGCAAATTCAA\n",
      "GAATAAAGACACTGAAGTAAGTTTGAAGCCCTACAGTTGTTTCCAGTCTTTTCAGATGGATGCCTACTGT\n",
      "GGAGATTAACTTTGGCATATTCCAGTGTCAGCTTTCTTTAGCTGGAATTGCCAAATCATTTGTTGCTCCT\n",
      "GCTGCTCTCATGGTGCCACGTTTTTTTTTTCAATGTTTAGTAATAGTATAATCCATGTTGTTTGATATCA\n",
      "AAAGTAGAATTACTTTTAATGTAGTTTTTCTTCATTATTGTCATTGCGTGTTCTTAAGTTTTACCCCTAT\n",
      "TAGATGGTAAGAACAATTAATGCAGTTTTGCACAAATATTTTTACATTCTGATCATTCAGTTCTGTCATT\n",
      "GTAATCTTTGTTGTTAGAAACAAATGATGAAAACATAGGGGTTCTGTAAACTTTTGTAATGCTATGAATT\n",
      "CTGTTTAAATTTTGGGCTGTCTATTTTCTGCTGAAACCATGCAAAATTGAGCTTTGGTGGGGCTGGGAGG\n",
      "GGGTTATGTATTCATGGGACCTTTAATTTGTACAGAACACAGAACTTATTTCTGTCAGTTATTTAATACA\n",
      "TTGAAAATTTAGTGAAATGTTCAAAGAGAATAGATGTTTCCCAAAACAACAATCTTTATGTTAAAAATAG\n",
      "TCATTAAAAGATCTGTTGTAATATATGGTGGATATTTTTCTTTAATTTCAAACATTACCTCTGAAATGTG\n",
      "TATCTTTTCTTTTTTATCTTACCATTAATTTTAAATCTAGTGGATTGGTTTTCAACATCGTGCCTGCCGA\n",
      "TATGCCTACAGAATCATCTGTAAGTGTCAAAATGAACCCACGTTGTTAGCCATAATTTTGATTATGCCTT\n",
      "TATTTCTCCTTTCTTGAAAAAAAAAAGGTGTTATTTTGACAATTAGGCATAACATTGTTTTGTAGATTAT\n",
      "CTTTTAATGAACTATTTTAAATGTTAAATTAGGTGCCACTTAAATTTATTTTATTACACCATGAATAGCT\n",
      "GATTAAAAGAACCAAATATTTCTAGTAAAAAAAAAAAAAAAAAAA\n",
      "\n",
      "\n"
     ]
    }
   ],
   "source": [
    "print(handle.read())"
   ]
  },
  {
   "cell_type": "code",
   "execution_count": 480,
   "id": "b6a47a40",
   "metadata": {},
   "outputs": [],
   "source": [
    "handle=Entrez.efetch(db='nucleotide', id='NM_001126.2', rettype='gb', retmode='text')"
   ]
  },
  {
   "cell_type": "code",
   "execution_count": 470,
   "id": "62f57ddd",
   "metadata": {},
   "outputs": [
    {
     "name": "stdout",
     "output_type": "stream",
     "text": [
      "LOCUS       NM_001126               2775 bp    mRNA    linear   PRI 10-OCT-2010\n",
      "DEFINITION  Homo sapiens adenylosuccinate synthase (ADSS), mRNA.\n",
      "ACCESSION   NM_001126\n",
      "VERSION     NM_001126.2\n",
      "KEYWORDS    RefSeq.\n",
      "SOURCE      Homo sapiens (human)\n",
      "  ORGANISM  Homo sapiens\n",
      "            Eukaryota; Metazoa; Chordata; Craniata; Vertebrata; Euteleostomi;\n",
      "            Mammalia; Eutheria; Euarchontoglires; Primates; Haplorrhini;\n",
      "            Catarrhini; Hominidae; Homo.\n",
      "REFERENCE   1  (bases 1 to 2775)\n",
      "  AUTHORS   Sivendran,S. and Colman,R.F.\n",
      "  TITLE     Effect of a new non-cleavable substrate analog on wild-type and\n",
      "            serine mutants in the signature sequence of adenylosuccinate lyase\n",
      "            of Bacillus subtilis and Homo sapiens\n",
      "  JOURNAL   Protein Sci. 17 (7), 1162-1174 (2008)\n",
      "   PUBMED   18469177\n",
      "  REMARK    GeneRIF: Kinetic data reveal that human Ser(289) and B. subtilis\n",
      "            Ser(262) and Ser(263) are essential for catalysis, while the\n",
      "            ability of these Ser mutants to bind APBADP suggests that they do\n",
      "            not contribute to substrate affinity\n",
      "REFERENCE   2  (bases 1 to 2775)\n",
      "  AUTHORS   Zhang,F., Xu,Y., Liu,P., Fan,H., Huang,X., Sun,G., Song,Y. and\n",
      "            Sham,P.C.\n",
      "  TITLE     Association analyses of the interaction between the ADSS and ATM\n",
      "            genes with schizophrenia in a Chinese population\n",
      "  JOURNAL   BMC Med. Genet. 9, 119 (2008)\n",
      "   PUBMED   19115993\n",
      "  REMARK    GeneRIF: These findings suggest that the combined effects of the\n",
      "            polymorphisms in the ADSS and ATM genes may confer susceptibility\n",
      "            to the development of schizophrenia in a Chinese population\n",
      "            GeneRIF: Observational study of gene-disease association and\n",
      "            gene-gene interaction. (HuGE Navigator)\n",
      "            Publication Status: Online-Only\n",
      "REFERENCE   3  (bases 1 to 2775)\n",
      "  AUTHORS   Zhang,F., Sham,P.C., Fan,H., Xu,Y., Huang,X., So,H., Song,Y. and\n",
      "            Liu,P.\n",
      "  TITLE     An association study of ADSS gene polymorphisms with schizophrenia\n",
      "  JOURNAL   Behav Brain Funct 4, 39 (2008)\n",
      "   PUBMED   18721483\n",
      "  REMARK    GeneRIF: Observational study of gene-disease association. (HuGE\n",
      "            Navigator)\n",
      "            Publication Status: Online-Only\n",
      "REFERENCE   4  (bases 1 to 2775)\n",
      "  AUTHORS   Sun,H., Li,N., Wang,X., Chen,T., Shi,L., Zhang,L., Wang,J., Wan,T.\n",
      "            and Cao,X.\n",
      "  TITLE     Molecular cloning and characterization of a novel muscle\n",
      "            adenylosuccinate synthetase, AdSSL1, from human bone marrow stromal\n",
      "            cells\n",
      "  JOURNAL   Mol. Cell. Biochem. 269 (1-2), 85-94 (2005)\n",
      "   PUBMED   15786719\n",
      "REFERENCE   5  (bases 1 to 2775)\n",
      "  AUTHORS   Stepinski,J., Pawelczyk,T., Bizon,D. and Angielski,S.\n",
      "  TITLE     Purine nucleotide cycle in rat renal cortex and medulla under\n",
      "            conditions that mimic normal and low oxygen supply\n",
      "  JOURNAL   Kidney Int. 50 (4), 1195-1201 (1996)\n",
      "   PUBMED   8887278\n",
      "REFERENCE   6  (bases 1 to 2775)\n",
      "  AUTHORS   Powell,S.M., Zalkin,H. and Dixon,J.E.\n",
      "  TITLE     Cloning and characterization of the cDNA encoding human\n",
      "            adenylosuccinate synthetase\n",
      "  JOURNAL   FEBS Lett. 303 (1), 4-10 (1992)\n",
      "   PUBMED   1592113\n",
      "REFERENCE   7  (bases 1 to 2775)\n",
      "  AUTHORS   Zalkin,H. and Dixon,J.E.\n",
      "  TITLE     De novo purine nucleotide biosynthesis\n",
      "  JOURNAL   Prog. Nucleic Acid Res. Mol. Biol. 42, 259-287 (1992)\n",
      "   PUBMED   1574589\n",
      "  REMARK    Review article\n",
      "REFERENCE   8  (bases 1 to 2775)\n",
      "  AUTHORS   Lai,L.W., Hart,I.M. and Patterson,D.\n",
      "  TITLE     A gene correcting the defect in the CHO mutant Ade -H, deficient in\n",
      "            a branch point enzyme (adenylosuccinate synthetase) of de novo\n",
      "            purine biosynthesis, is located on the long arm of chromosome 1\n",
      "  JOURNAL   Genomics 9 (2), 322-328 (1991)\n",
      "   PUBMED   2004783\n",
      "REFERENCE   9  (bases 1 to 2775)\n",
      "  AUTHORS   Ogawa,H., Shiraki,H., Matsuda,Y. and Nakagawa,H.\n",
      "  TITLE     Interaction of adenylosuccinate synthetase with F-actin\n",
      "  JOURNAL   Eur. J. Biochem. 85 (2), 331-337 (1978)\n",
      "   PUBMED   648524\n",
      "REFERENCE   10 (bases 1 to 2775)\n",
      "  AUTHORS   Van der Weyden,M.B. and Kelly,W.N.\n",
      "  TITLE     Human adenylosuccinate synthetase. Partial purification, kinetic\n",
      "            and regulatory properties of the enzyme from placenta\n",
      "  JOURNAL   J. Biol. Chem. 249 (22), 7282-7289 (1974)\n",
      "   PUBMED   4436310\n",
      "COMMENT     REVIEWED REFSEQ: This record has been curated by NCBI staff. The\n",
      "            reference sequence was derived from BC012356.1 and BG700800.1.\n",
      "            \n",
      "            [WARNING] On Nov 25, 2010 this sequence was replaced by\n",
      "            NM_001126.3.\n",
      "            \n",
      "            On Sep 11, 2003 this sequence version replaced NM_001126.1.\n",
      "            \n",
      "            Summary: Adenylosuccinate synthetase catalyzes the first committed\n",
      "            step in the conversion of IMP to AMP [provided by RefSeq].\n",
      "            COMPLETENESS: complete on the 3' end.\n",
      "FEATURES             Location/Qualifiers\n",
      "     source          1..2775\n",
      "                     /organism=\"Homo sapiens\"\n",
      "                     /mol_type=\"mRNA\"\n",
      "                     /db_xref=\"taxon:9606\"\n",
      "                     /chromosome=\"1\"\n",
      "                     /map=\"1cen-q12\"\n",
      "     gene            1..2775\n",
      "                     /gene=\"ADSS\"\n",
      "                     /gene_synonym=\"ADEH; MGC20404\"\n",
      "                     /note=\"adenylosuccinate synthase\"\n",
      "                     /db_xref=\"GeneID:159\"\n",
      "                     /db_xref=\"HGNC:HGNC:292\"\n",
      "                     /db_xref=\"HPRD:00050\"\n",
      "                     /db_xref=\"MIM:103060\"\n",
      "     CDS             295..1665\n",
      "                     /gene=\"ADSS\"\n",
      "                     /gene_synonym=\"ADEH; MGC20404\"\n",
      "                     /EC_number=\"6.3.4.4\"\n",
      "                     /note=\"adenylosuccinate synthetase\n",
      "                     (Ade(-)H-complementing); adenylosuccinate synthetase,\n",
      "                     acidic isozyme; IMP--aspartate ligase 2; adSS 2; AMPSase\n",
      "                     2; L-type adenylosuccinate synthetase; adenylosuccinate\n",
      "                     synthetase, liver isozyme\"\n",
      "                     /codon_start=1\n",
      "                     /product=\"adenylosuccinate synthetase isozyme 2\"\n",
      "                     /protein_id=\"NP_001117.2\"\n",
      "                     /db_xref=\"CCDS:CCDS1624.1\"\n",
      "                     /db_xref=\"GeneID:159\"\n",
      "                     /db_xref=\"HGNC:HGNC:292\"\n",
      "                     /db_xref=\"HPRD:00050\"\n",
      "                     /db_xref=\"MIM:103060\"\n",
      "                     /translation=\"MAFAETYPAASSLPNGDCGRPRARPGGNRVTVVLGAQWGDEGKG\n",
      "                     KVVDLLAQDADIVCRCQGGNNAGHTVVVDSVEYDFHLLPSGIINPNVTAFIGNGVVIH\n",
      "                     LPGLFEEAEKNVQKGKGLEGWEKRLIISDRAHIVFDFHQAADGIQEQQRQEQAGKNLG\n",
      "                     TTKKGIGPVYSSKAARSGLRMCDLVSDFDGFSERFKVLANQYKSIYPTLEIDIEGELQ\n",
      "                     KLKGYMEKIKPMVRDGVYFLYEALHGPPKKILVEGANAALLDIDFGTYPFVTSSNCTV\n",
      "                     GGVCTGLGMPPQNVGEVYGVVKAYTTRVGIGAFPTEQDNEIGELLQTRGREFGVTTGR\n",
      "                     KRRCGWLDLVLLKYAHMINGFTALALTKLDILDMFTEIKVGVAYKLDGEIIPHIPANQ\n",
      "                     EVLNKVEVQYKTLPGWNTDISNARAFKELPVNAQNYVRFIEDELQIPVKWIGVGKSRE\n",
      "                     SMIQLF\"\n",
      "     regulatory      2732..2737\n",
      "                     /regulatory_class=\"polyA_signal_sequence\"\n",
      "                     /gene=\"ADSS\"\n",
      "                     /gene_synonym=\"ADEH; MGC20404\"\n",
      "     polyA_site      2757\n",
      "                     /gene=\"ADSS\"\n",
      "                     /gene_synonym=\"ADEH; MGC20404\"\n",
      "ORIGIN      \n",
      "        1 ggaaggggcg tggcctcggt ccggggtggc ggccgttgcc gccaccaggg cctcttcctg\n",
      "       61 cgggcggtgc tgccgaggcc ggcctgcgcg gggcagtcat ggtaccccct tgagcgggct\n",
      "      121 gtggcggaga gcggggcggg gactggctgg agggtggcgg cccggcgggg cgggggcggg\n",
      "      181 gccggcctct ggctccttct tcctctgcat gtggctggcg gccgcagagc agttcagttc\n",
      "      241 gctcactcct cgccggccgc ctctccttcg ggctctcctc gcgtcactgg agccatggcg\n",
      "      301 ttcgccgaga cctacccggc ggcatcctcc ctgcccaacg gcgattgcgg ccgccccagg\n",
      "      361 gcgcggcccg gaggaaaccg ggtgacggtg gtgctcggtg cgcagtgggg cgacgaaggc\n",
      "      421 aaagggaagg tggtggacct gctggcgcag gacgccgaca tcgtgtgccg ctgccaggga\n",
      "      481 ggaaataatg ctggccatac agttgttgtg gattctgtgg aatatgattt tcatctctta\n",
      "      541 cccagtggaa taattaatcc aaatgtcact gcattcattg gaaatggtgt ggtaattcat\n",
      "      601 ctacctggat tgtttgaaga agcagagaaa aatgttcaaa aaggaaaagg actagaaggc\n",
      "      661 tgggaaaaaa ggcttattat atctgacaga gctcatattg tatttgattt tcatcaagca\n",
      "      721 gctgatggta tccaggaaca acagagacaa gaacaagcag gaaaaaattt gggtacaaca\n",
      "      781 aaaaagggca ttggcccagt ttattcgtcc aaagctgctc ggagtggact caggatgtgc\n",
      "      841 gaccttgttt ctgactttga tggcttctct gagaggttta aagttctagc taaccaatac\n",
      "      901 aaatctatat accccacttt ggaaatagac attgaaggtg aattacaaaa actcaagggt\n",
      "      961 tatatggaaa agattaaacc aatggtgaga gatggagttt attttctata tgaggcccta\n",
      "     1021 catggaccac caaagaaaat cttggtagaa ggtgcaaatg cagcactatt agatattgat\n",
      "     1081 tttgggactt acccttttgt aacctcttca aattgtactg ttggaggtgt ttgtactggt\n",
      "     1141 ttgggtatgc cacctcaaaa tgttggagaa gtgtatggag ttgtgaaagc ttatacaact\n",
      "     1201 agagttggta ttggtgcctt tcctacagag caagacaatg aaattggaga attattacaa\n",
      "     1261 acaaggggta gagagtttgg tgtaactact ggaaggaaaa gaagatgtgg ctggttggac\n",
      "     1321 ctcgttttgc tcaaatatgc tcatatgatc aatggattta ctgcgttggc acttaccaag\n",
      "     1381 ttggatattt tggacatgtt tacggaaatc aaagttggag ttgcttacaa gttagatggt\n",
      "     1441 gaaatcatac ctcatatccc agcaaaccaa gaagtcttaa ataaagttga agttcaatat\n",
      "     1501 aagactctcc caggatggaa cacagacata tcaaatgcaa gggcgtttaa agaactacct\n",
      "     1561 gttaatgcac aaaactatgt tcgatttatt gaagatgagc ttcaaattcc agttaagtgg\n",
      "     1621 attggtgttg gtaaatccag agaatctatg attcaactct tttaatgatt gccagtaatg\n",
      "     1681 caagaaacac tccttgagag ggaggggaaa agactttctt aaatatttca tttatgacct\n",
      "     1741 gcaaattcaa gaataaagac actgaagtaa gtttgaagcc ctacagttgt ttccagtctt\n",
      "     1801 ttcagatgga tgcctactgt ggagattaac tttggcatat tccagtgtca gctttcttta\n",
      "     1861 gctggaattg ccaaatcatt tgttgctcct gctgctctca tggtgccacg tttttttttt\n",
      "     1921 caatgtttag taatagtata atccatgttg tttgatatca aaagtagaat tacttttaat\n",
      "     1981 gtagtttttc ttcattattg tcattgcgtg ttcttaagtt ttacccctat tagatggtaa\n",
      "     2041 gaacaattaa tgcagttttg cacaaatatt tttacattct gatcattcag ttctgtcatt\n",
      "     2101 gtaatctttg ttgttagaaa caaatgatga aaacataggg gttctgtaaa cttttgtaat\n",
      "     2161 gctatgaatt ctgtttaaat tttgggctgt ctattttctg ctgaaaccat gcaaaattga\n",
      "     2221 gctttggtgg ggctgggagg gggttatgta ttcatgggac ctttaatttg tacagaacac\n",
      "     2281 agaacttatt tctgtcagtt atttaataca ttgaaaattt agtgaaatgt tcaaagagaa\n",
      "     2341 tagatgtttc ccaaaacaac aatctttatg ttaaaaatag tcattaaaag atctgttgta\n",
      "     2401 atatatggtg gatatttttc tttaatttca aacattacct ctgaaatgtg tatcttttct\n",
      "     2461 tttttatctt accattaatt ttaaatctag tggattggtt ttcaacatcg tgcctgccga\n",
      "     2521 tatgcctaca gaatcatctg taagtgtcaa aatgaaccca cgttgttagc cataattttg\n",
      "     2581 attatgcctt tatttctcct ttcttgaaaa aaaaaaggtg ttattttgac aattaggcat\n",
      "     2641 aacattgttt tgtagattat cttttaatga actattttaa atgttaaatt aggtgccact\n",
      "     2701 taaatttatt ttattacacc atgaatagct gattaaaaga accaaatatt tctagtaaaa\n",
      "     2761 aaaaaaaaaa aaaaa\n",
      "//\n",
      "\n",
      "\n"
     ]
    }
   ],
   "source": [
    "print(handle.read())"
   ]
  },
  {
   "cell_type": "code",
   "execution_count": 496,
   "id": "ef56d104",
   "metadata": {},
   "outputs": [],
   "source": [
    "handle=Entrez.efetch(db='nucleotide', id='NM_001126.2', rettype='fasta', retmode='text')"
   ]
  },
  {
   "cell_type": "code",
   "execution_count": 497,
   "id": "a3b08e50",
   "metadata": {},
   "outputs": [],
   "source": [
    "r=SeqIO.read(handle, 'fasta')"
   ]
  },
  {
   "cell_type": "code",
   "execution_count": 498,
   "id": "9e0328d2",
   "metadata": {},
   "outputs": [
    {
     "data": {
      "text/plain": [
       "SeqRecord(seq=Seq('GGAAGGGGCGTGGCCTCGGTCCGGGGTGGCGGCCGTTGCCGCCACCAGGGCCTC...AAA'), id='NM_001126.2', name='NM_001126.2', description='NM_001126.2 Homo sapiens adenylosuccinate synthase (ADSS), mRNA', dbxrefs=[])"
      ]
     },
     "execution_count": 498,
     "metadata": {},
     "output_type": "execute_result"
    }
   ],
   "source": [
    "r"
   ]
  },
  {
   "cell_type": "code",
   "execution_count": 486,
   "id": "c97674ed",
   "metadata": {},
   "outputs": [
    {
     "name": "stdout",
     "output_type": "stream",
     "text": [
      "GGAAGGGGCG\n"
     ]
    }
   ],
   "source": [
    "print(r.seq[0:10])"
   ]
  },
  {
   "cell_type": "code",
   "execution_count": 488,
   "id": "5aa29238",
   "metadata": {},
   "outputs": [
    {
     "name": "stdout",
     "output_type": "stream",
     "text": [
      "2775\n"
     ]
    }
   ],
   "source": [
    "print(len(r.seq))"
   ]
  },
  {
   "cell_type": "code",
   "execution_count": 556,
   "id": "49372b7a",
   "metadata": {},
   "outputs": [],
   "source": [
    "handle=Entrez.efetch(db='nucleotide', id='NM_001126.2', rettype='gb', retmode='text')"
   ]
  },
  {
   "cell_type": "code",
   "execution_count": 557,
   "id": "4ffa3e8a",
   "metadata": {},
   "outputs": [],
   "source": [
    "s=SeqIO.read(handle, 'gb')"
   ]
  },
  {
   "cell_type": "code",
   "execution_count": 501,
   "id": "086f669e",
   "metadata": {},
   "outputs": [
    {
     "data": {
      "text/plain": [
       "SeqRecord(seq=Seq('GGAAGGGGCGTGGCCTCGGTCCGGGGTGGCGGCCGTTGCCGCCACCAGGGCCTC...AAA'), id='NM_001126.2', name='NM_001126', description='Homo sapiens adenylosuccinate synthase (ADSS), mRNA', dbxrefs=[])"
      ]
     },
     "execution_count": 501,
     "metadata": {},
     "output_type": "execute_result"
    }
   ],
   "source": [
    "s"
   ]
  },
  {
   "cell_type": "code",
   "execution_count": 503,
   "id": "bdff29d9",
   "metadata": {},
   "outputs": [
    {
     "data": {
      "text/plain": [
       "[SeqFeature(SimpleLocation(ExactPosition(0), ExactPosition(2775), strand=1), type='source', qualifiers=...),\n",
       " SeqFeature(SimpleLocation(ExactPosition(0), ExactPosition(2775), strand=1), type='gene', qualifiers=...),\n",
       " SeqFeature(SimpleLocation(ExactPosition(294), ExactPosition(1665), strand=1), type='CDS', qualifiers=...),\n",
       " SeqFeature(SimpleLocation(ExactPosition(2731), ExactPosition(2737), strand=1), type='regulatory', qualifiers=...),\n",
       " SeqFeature(SimpleLocation(ExactPosition(2756), ExactPosition(2757), strand=1), type='polyA_site', qualifiers=...)]"
      ]
     },
     "execution_count": 503,
     "metadata": {},
     "output_type": "execute_result"
    }
   ],
   "source": [
    "s.features"
   ]
  },
  {
   "cell_type": "code",
   "execution_count": 566,
   "id": "0f7f2a9f",
   "metadata": {},
   "outputs": [],
   "source": [
    "handle=Entrez.efetch(db='nuccore', id='34577062,186972394', rettype='fasta', retmode='text')"
   ]
  },
  {
   "cell_type": "code",
   "execution_count": 567,
   "id": "67b05bbe",
   "metadata": {},
   "outputs": [],
   "source": [
    "ss=SeqIO.parse(handle, 'fasta')"
   ]
  },
  {
   "cell_type": "code",
   "execution_count": 520,
   "id": "8ab36c00",
   "metadata": {},
   "outputs": [
    {
     "data": {
      "text/plain": [
       "2"
      ]
     },
     "execution_count": 520,
     "metadata": {},
     "output_type": "execute_result"
    }
   ],
   "source": [
    "rec_ss=[i for i in ss]\n",
    "len(rec_ss)"
   ]
  },
  {
   "cell_type": "code",
   "execution_count": 522,
   "id": "c14b47bc",
   "metadata": {},
   "outputs": [
    {
     "data": {
      "text/plain": [
       "[SeqRecord(seq=Seq('GGAAGGGGCGTGGCCTCGGTCCGGGGTGGCGGCCGTTGCCGCCACCAGGGCCTC...AAA'), id='NM_001126.2', name='NM_001126.2', description='NM_001126.2 Homo sapiens adenylosuccinate synthase (ADSS), mRNA', dbxrefs=[]),\n",
       " SeqRecord(seq=Seq('ATTTTTTACGAACCTGTGGAAATTTTTGGTTATGACAATAAATCTAGTTTAGTA...GAA'), id='EU490707.1', name='EU490707.1', description='EU490707.1 Selenipedium aequinoctiale maturase K (matK) gene, partial cds; chloroplast', dbxrefs=[])]"
      ]
     },
     "execution_count": 522,
     "metadata": {},
     "output_type": "execute_result"
    }
   ],
   "source": [
    "rec_ss"
   ]
  },
  {
   "cell_type": "code",
   "execution_count": 550,
   "id": "a1fdb788",
   "metadata": {},
   "outputs": [
    {
     "name": "stdout",
     "output_type": "stream",
     "text": [
      "NM_001126.2 GGAAGGGGCGTGGCCTCGGTCCGGGGTGGCGGCCGTTGCCGCCACCAGGGCCTCTTCCTGCGGGCGGTGCTGCCGAGGCCGGCCTGCGCGGGGCAGTCATGGTACCCCCTTGAGCGGGCTGTGGCGGAGAGCGGGGCGGGGACTGGCTGGAGGGTGGCGGCCCGGCGGGGCGGGGGCGGGGCCGGCCTCTGGCTCCTTCTTCCTCTGCATGTGGCTGGCGGCCGCAGAGCAGTTCAGTTCGCTCACTCCTCGCCGGCCGCCTCTCCTTCGGGCTCTCCTCGCGTCACTGGAGCCATGGCGTTCGCCGAGACCTACCCGGCGGCATCCTCCCTGCCCAACGGCGATTGCGGCCGCCCCAGGGCGCGGCCCGGAGGAAACCGGGTGACGGTGGTGCTCGGTGCGCAGTGGGGCGACGAAGGCAAAGGGAAGGTGGTGGACCTGCTGGCGCAGGACGCCGACATCGTGTGCCGCTGCCAGGGAGGAAATAATGCTGGCCATACAGTTGTTGTGGATTCTGTGGAATATGATTTTCATCTCTTACCCAGTGGAATAATTAATCCAAATGTCACTGCATTCATTGGAAATGGTGTGGTAATTCATCTACCTGGATTGTTTGAAGAAGCAGAGAAAAATGTTCAAAAAGGAAAAGGACTAGAAGGCTGGGAAAAAAGGCTTATTATATCTGACAGAGCTCATATTGTATTTGATTTTCATCAAGCAGCTGATGGTATCCAGGAACAACAGAGACAAGAACAAGCAGGAAAAAATTTGGGTACAACAAAAAAGGGCATTGGCCCAGTTTATTCGTCCAAAGCTGCTCGGAGTGGACTCAGGATGTGCGACCTTGTTTCTGACTTTGATGGCTTCTCTGAGAGGTTTAAAGTTCTAGCTAACCAATACAAATCTATATACCCCACTTTGGAAATAGACATTGAAGGTGAATTACAAAAACTCAAGGGTTATATGGAAAAGATTAAACCAATGGTGAGAGATGGAGTTTATTTTCTATATGAGGCCCTACATGGACCACCAAAGAAAATCTTGGTAGAAGGTGCAAATGCAGCACTATTAGATATTGATTTTGGGACTTACCCTTTTGTAACCTCTTCAAATTGTACTGTTGGAGGTGTTTGTACTGGTTTGGGTATGCCACCTCAAAATGTTGGAGAAGTGTATGGAGTTGTGAAAGCTTATACAACTAGAGTTGGTATTGGTGCCTTTCCTACAGAGCAAGACAATGAAATTGGAGAATTATTACAAACAAGGGGTAGAGAGTTTGGTGTAACTACTGGAAGGAAAAGAAGATGTGGCTGGTTGGACCTCGTTTTGCTCAAATATGCTCATATGATCAATGGATTTACTGCGTTGGCACTTACCAAGTTGGATATTTTGGACATGTTTACGGAAATCAAAGTTGGAGTTGCTTACAAGTTAGATGGTGAAATCATACCTCATATCCCAGCAAACCAAGAAGTCTTAAATAAAGTTGAAGTTCAATATAAGACTCTCCCAGGATGGAACACAGACATATCAAATGCAAGGGCGTTTAAAGAACTACCTGTTAATGCACAAAACTATGTTCGATTTATTGAAGATGAGCTTCAAATTCCAGTTAAGTGGATTGGTGTTGGTAAATCCAGAGAATCTATGATTCAACTCTTTTAATGATTGCCAGTAATGCAAGAAACACTCCTTGAGAGGGAGGGGAAAAGACTTTCTTAAATATTTCATTTATGACCTGCAAATTCAAGAATAAAGACACTGAAGTAAGTTTGAAGCCCTACAGTTGTTTCCAGTCTTTTCAGATGGATGCCTACTGTGGAGATTAACTTTGGCATATTCCAGTGTCAGCTTTCTTTAGCTGGAATTGCCAAATCATTTGTTGCTCCTGCTGCTCTCATGGTGCCACGTTTTTTTTTTCAATGTTTAGTAATAGTATAATCCATGTTGTTTGATATCAAAAGTAGAATTACTTTTAATGTAGTTTTTCTTCATTATTGTCATTGCGTGTTCTTAAGTTTTACCCCTATTAGATGGTAAGAACAATTAATGCAGTTTTGCACAAATATTTTTACATTCTGATCATTCAGTTCTGTCATTGTAATCTTTGTTGTTAGAAACAAATGATGAAAACATAGGGGTTCTGTAAACTTTTGTAATGCTATGAATTCTGTTTAAATTTTGGGCTGTCTATTTTCTGCTGAAACCATGCAAAATTGAGCTTTGGTGGGGCTGGGAGGGGGTTATGTATTCATGGGACCTTTAATTTGTACAGAACACAGAACTTATTTCTGTCAGTTATTTAATACATTGAAAATTTAGTGAAATGTTCAAAGAGAATAGATGTTTCCCAAAACAACAATCTTTATGTTAAAAATAGTCATTAAAAGATCTGTTGTAATATATGGTGGATATTTTTCTTTAATTTCAAACATTACCTCTGAAATGTGTATCTTTTCTTTTTTATCTTACCATTAATTTTAAATCTAGTGGATTGGTTTTCAACATCGTGCCTGCCGATATGCCTACAGAATCATCTGTAAGTGTCAAAATGAACCCACGTTGTTAGCCATAATTTTGATTATGCCTTTATTTCTCCTTTCTTGAAAAAAAAAAGGTGTTATTTTGACAATTAGGCATAACATTGTTTTGTAGATTATCTTTTAATGAACTATTTTAAATGTTAAATTAGGTGCCACTTAAATTTATTTTATTACACCATGAATAGCTGATTAAAAGAACCAAATATTTCTAGTAAAAAAAAAAAAAAAAAAA \n",
      "\n",
      "EU490707.1 ATTTTTTACGAACCTGTGGAAATTTTTGGTTATGACAATAAATCTAGTTTAGTACTTGTGAAACGTTTAATTACTCGAATGTATCAACAGAATTTTTTGATTTCTTCGGTTAATGATTCTAACCAAAAAGGATTTTGGGGGCACAAGCATTTTTTTTCTTCTCATTTTTCTTCTCAAATGGTATCAGAAGGTTTTGGAGTCATTCTGGAAATTCCATTCTCGTCGCAATTAGTATCTTCTCTTGAAGAAAAAAAAATACCAAAATATCAGAATTTACGATCTATTCATTCAATATTTCCCTTTTTAGAAGACAAATTTTTACATTTGAATTATGTGTCAGATCTACTAATACCCCATCCCATCCATCTGGAAATCTTGGTTCAAATCCTTCAATGCCGGATCAAGGATGTTCCTTCTTTGCATTTATTGCGATTGCTTTTCCACGAATATCATAATTTGAATAGTCTCATTACTTCAAAGAAATTCATTTACGCCTTTTCAAAAAGAAAGAAAAGATTCCTTTGGTTACTATATAATTCTTATGTATATGAATGCGAATATCTATTCCAGTTTCTTCGTAAACAGTCTTCTTATTTACGATCAACATCTTCTGGAGTCTTTCTTGAGCGAACACATTTATATGTAAAAATAGAACATCTTCTAGTAGTGTGTTGTAATTCTTTTCAGAGGATCCTATGCTTTCTCAAGGATCCTTTCATGCATTATGTTCGATATCAAGGAAAAGCAATTCTGGCTTCAAAGGGAACTCTTATTCTGATGAAGAAATGGAAATTTCATCTTGTGAATTTTTGGCAATCTTATTTTCACTTTTGGTCTCAACCGTATAGGATTCATATAAAGCAATTATCCAACTATTCCTTCTCTTTTCTGGGGTATTTTTCAAGTGTACTAGAAAATCATTTGGTAGTAAGAAATCAAATGCTAGAGAATTCATTTATAATAAATCTTCTGACTAAGAAATTCGATACCATAGCCCCAGTTATTTCTCTTATTGGATCATTGTCGAAAGCTCAATTTTGTACTGTATTGGGTCATCCTATTAGTAAACCGATCTGGACCGATTTCTCGGATTCTGATATTCTTGATCGATTTTGCCGGATATGTAGAAATCTTTGTCGTTATCACAGCGGATCCTCAAAAAAACAGGTTTTGTATCGTATAAAATATATACTTCGACTTTCGTGTGCTAGAACTTTGGCACGGAAACATAAAAGTACAGTACGCACTTTTATGCGAAGATTAGGTTCGGGATTATTAGAAGAATTCTTTATGGAAGAAGAA \n",
      "\n"
     ]
    }
   ],
   "source": [
    "for i in range(0,len(rec_ss)):\n",
    "    d=rec_ss[i].id\n",
    "    s=rec_ss[i].seq\n",
    "    print(d,s, '\\n')"
   ]
  },
  {
   "cell_type": "code",
   "execution_count": 552,
   "id": "3264cb92",
   "metadata": {},
   "outputs": [],
   "source": [
    "dir='/Users/reziw3/Desktop/Bioinfo/Python/seq/3/'"
   ]
  },
  {
   "cell_type": "code",
   "execution_count": 562,
   "id": "0b783081",
   "metadata": {},
   "outputs": [
    {
     "data": {
      "text/plain": [
       "1"
      ]
     },
     "execution_count": 562,
     "metadata": {},
     "output_type": "execute_result"
    }
   ],
   "source": [
    "SeqIO.write(s,f'{dir}ADSS.gb','gb')"
   ]
  },
  {
   "cell_type": "code",
   "execution_count": 569,
   "id": "0cf87d7d",
   "metadata": {},
   "outputs": [
    {
     "data": {
      "text/plain": [
       "2"
      ]
     },
     "execution_count": 569,
     "metadata": {},
     "output_type": "execute_result"
    }
   ],
   "source": [
    "SeqIO.write(ss,f'{dir}multi.fasta','fasta')"
   ]
  },
  {
   "cell_type": "code",
   "execution_count": 571,
   "id": "c4d37013",
   "metadata": {},
   "outputs": [
    {
     "data": {
      "text/plain": [
       "1"
      ]
     },
     "execution_count": 571,
     "metadata": {},
     "output_type": "execute_result"
    }
   ],
   "source": [
    "SeqIO.write(s,f'{dir}ADSS.fasta','fasta')"
   ]
  },
  {
   "cell_type": "code",
   "execution_count": 572,
   "id": "dfa8c6a9",
   "metadata": {},
   "outputs": [
    {
     "data": {
      "text/plain": [
       "1"
      ]
     },
     "execution_count": 572,
     "metadata": {},
     "output_type": "execute_result"
    }
   ],
   "source": [
    "SeqIO.write(s,f'{dir}ADSS.gb','genbank')"
   ]
  },
  {
   "cell_type": "code",
   "execution_count": 582,
   "id": "78273b88",
   "metadata": {},
   "outputs": [
    {
     "data": {
      "text/plain": [
       "Seq('GRGVASVRGGGRCRHQGLFLRAVLPRPACAGQSWYPLERAVAESGAGTGWRVAA...KKK')"
      ]
     },
     "execution_count": 582,
     "metadata": {},
     "output_type": "execute_result"
    }
   ],
   "source": [
    "Seq.translate(s.seq)"
   ]
  },
  {
   "cell_type": "code",
   "execution_count": null,
   "id": "2b079560",
   "metadata": {},
   "outputs": [],
   "source": []
  },
  {
   "cell_type": "code",
   "execution_count": 583,
   "id": "01117490",
   "metadata": {},
   "outputs": [],
   "source": [
    "def gt_codon(seq):\n",
    "    codons=[]\n",
    "    for i in range(0,len(seq),3):\n",
    "        codon=seq[i:i+3]\n",
    "        if codon=='AUG' or codon=='UAG' or codon=='UAA':\n",
    "            codon='*'\n",
    "        codons.append(codon)\n",
    "    return codons"
   ]
  },
  {
   "cell_type": "code",
   "execution_count": 587,
   "id": "b9ace8ca",
   "metadata": {},
   "outputs": [
    {
     "data": {
      "text/plain": [
       "['GCC',\n",
       " 'TTT',\n",
       " 'CTT',\n",
       " 'GGT',\n",
       " 'ACC',\n",
       " 'TGT',\n",
       " 'GGC',\n",
       " 'TAA',\n",
       " 'ACT',\n",
       " 'TCC',\n",
       " 'AGT',\n",
       " 'CCC',\n",
       " 'GTT',\n",
       " 'CTT',\n",
       " '*']"
      ]
     },
     "execution_count": 587,
     "metadata": {},
     "output_type": "execute_result"
    }
   ],
   "source": [
    "seqc='GCCTTTCTTGGTACCTGTGGCTAAACTTCCAGTCCCGTTCTTAUG'\n",
    "gt_codon(seqc)"
   ]
  },
  {
   "cell_type": "code",
   "execution_count": 590,
   "id": "7d282a40",
   "metadata": {},
   "outputs": [
    {
     "data": {
      "text/plain": [
       "'/Users/reziw3/Desktop/Bioinfo/Python/seq/3/'"
      ]
     },
     "execution_count": 590,
     "metadata": {},
     "output_type": "execute_result"
    }
   ],
   "source": [
    "dir"
   ]
  },
  {
   "cell_type": "code",
   "execution_count": 594,
   "id": "6e929b46",
   "metadata": {},
   "outputs": [
    {
     "data": {
      "text/plain": [
       "1"
      ]
     },
     "execution_count": 594,
     "metadata": {},
     "output_type": "execute_result"
    }
   ],
   "source": [
    "SeqIO.convert(f'{dir}ADSS.gb','genbank',f'{dir}ADSSb.fasta','fasta')"
   ]
  },
  {
   "cell_type": "code",
   "execution_count": null,
   "id": "4439de82",
   "metadata": {},
   "outputs": [],
   "source": []
  }
 ],
 "metadata": {
  "kernelspec": {
   "display_name": "Python 3 (ipykernel)",
   "language": "python",
   "name": "python3"
  },
  "language_info": {
   "codemirror_mode": {
    "name": "ipython",
    "version": 3
   },
   "file_extension": ".py",
   "mimetype": "text/x-python",
   "name": "python",
   "nbconvert_exporter": "python",
   "pygments_lexer": "ipython3",
   "version": "3.9.16"
  }
 },
 "nbformat": 4,
 "nbformat_minor": 5
}
