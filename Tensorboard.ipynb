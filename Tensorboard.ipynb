{
 "cells": [
  {
   "cell_type": "code",
   "execution_count": 1,
   "metadata": {},
   "outputs": [
    {
     "name": "stdout",
     "output_type": "stream",
     "text": [
      "Requirement already satisfied: Tensorboard in /Users/reziw3/opt/anaconda3/lib/python3.8/site-packages (2.4.0)\n",
      "Requirement already satisfied: werkzeug>=0.11.15 in /Users/reziw3/opt/anaconda3/lib/python3.8/site-packages (from Tensorboard) (1.0.1)\n",
      "Requirement already satisfied: protobuf>=3.6.0 in /Users/reziw3/opt/anaconda3/lib/python3.8/site-packages (from Tensorboard) (3.14.0)\n",
      "Requirement already satisfied: requests<3,>=2.21.0 in /Users/reziw3/opt/anaconda3/lib/python3.8/site-packages (from Tensorboard) (2.24.0)\n",
      "Requirement already satisfied: numpy>=1.12.0 in /Users/reziw3/opt/anaconda3/lib/python3.8/site-packages (from Tensorboard) (1.19.4)\n",
      "Requirement already satisfied: setuptools>=41.0.0 in /Users/reziw3/opt/anaconda3/lib/python3.8/site-packages (from Tensorboard) (49.2.0.post20200714)\n",
      "Requirement already satisfied: six>=1.10.0 in /Users/reziw3/opt/anaconda3/lib/python3.8/site-packages (from Tensorboard) (1.15.0)\n",
      "Requirement already satisfied: google-auth<2,>=1.6.3 in /Users/reziw3/opt/anaconda3/lib/python3.8/site-packages (from Tensorboard) (1.24.0)\n",
      "Requirement already satisfied: markdown>=2.6.8 in /Users/reziw3/opt/anaconda3/lib/python3.8/site-packages (from Tensorboard) (3.3.3)\n",
      "Requirement already satisfied: wheel>=0.26; python_version >= \"3\" in /Users/reziw3/opt/anaconda3/lib/python3.8/site-packages (from Tensorboard) (0.36.2)\n",
      "Requirement already satisfied: grpcio>=1.24.3 in /Users/reziw3/opt/anaconda3/lib/python3.8/site-packages (from Tensorboard) (1.32.0)\n",
      "Requirement already satisfied: google-auth-oauthlib<0.5,>=0.4.1 in /Users/reziw3/opt/anaconda3/lib/python3.8/site-packages (from Tensorboard) (0.4.2)\n",
      "Requirement already satisfied: absl-py>=0.4 in /Users/reziw3/opt/anaconda3/lib/python3.8/site-packages (from Tensorboard) (0.11.0)\n",
      "Requirement already satisfied: tensorboard-plugin-wit>=1.6.0 in /Users/reziw3/opt/anaconda3/lib/python3.8/site-packages (from Tensorboard) (1.7.0)\n",
      "Requirement already satisfied: idna<3,>=2.5 in /Users/reziw3/opt/anaconda3/lib/python3.8/site-packages (from requests<3,>=2.21.0->Tensorboard) (2.10)\n",
      "Requirement already satisfied: chardet<4,>=3.0.2 in /Users/reziw3/opt/anaconda3/lib/python3.8/site-packages (from requests<3,>=2.21.0->Tensorboard) (3.0.4)\n",
      "Requirement already satisfied: certifi>=2017.4.17 in /Users/reziw3/opt/anaconda3/lib/python3.8/site-packages (from requests<3,>=2.21.0->Tensorboard) (2020.6.20)\n",
      "Requirement already satisfied: urllib3!=1.25.0,!=1.25.1,<1.26,>=1.21.1 in /Users/reziw3/opt/anaconda3/lib/python3.8/site-packages (from requests<3,>=2.21.0->Tensorboard) (1.25.9)\n",
      "Requirement already satisfied: cachetools<5.0,>=2.0.0 in /Users/reziw3/opt/anaconda3/lib/python3.8/site-packages (from google-auth<2,>=1.6.3->Tensorboard) (4.2.0)\n",
      "Requirement already satisfied: pyasn1-modules>=0.2.1 in /Users/reziw3/opt/anaconda3/lib/python3.8/site-packages (from google-auth<2,>=1.6.3->Tensorboard) (0.2.8)\n",
      "Requirement already satisfied: rsa<5,>=3.1.4; python_version >= \"3.6\" in /Users/reziw3/opt/anaconda3/lib/python3.8/site-packages (from google-auth<2,>=1.6.3->Tensorboard) (4.6)\n",
      "Requirement already satisfied: requests-oauthlib>=0.7.0 in /Users/reziw3/opt/anaconda3/lib/python3.8/site-packages (from google-auth-oauthlib<0.5,>=0.4.1->Tensorboard) (1.3.0)\n",
      "Requirement already satisfied: pyasn1<0.5.0,>=0.4.6 in /Users/reziw3/opt/anaconda3/lib/python3.8/site-packages (from pyasn1-modules>=0.2.1->google-auth<2,>=1.6.3->Tensorboard) (0.4.8)\n",
      "Requirement already satisfied: oauthlib>=3.0.0 in /Users/reziw3/opt/anaconda3/lib/python3.8/site-packages (from requests-oauthlib>=0.7.0->google-auth-oauthlib<0.5,>=0.4.1->Tensorboard) (3.1.0)\n",
      "Note: you may need to restart the kernel to use updated packages.\n"
     ]
    }
   ],
   "source": [
    "pip install Tensorboard"
   ]
  },
  {
   "cell_type": "code",
   "execution_count": null,
   "metadata": {},
   "outputs": [],
   "source": []
  }
 ],
 "metadata": {
  "kernelspec": {
   "display_name": "Python 3",
   "language": "python",
   "name": "python3"
  },
  "language_info": {
   "codemirror_mode": {
    "name": "ipython",
    "version": 3
   },
   "file_extension": ".py",
   "mimetype": "text/x-python",
   "name": "python",
   "nbconvert_exporter": "python",
   "pygments_lexer": "ipython3",
   "version": "3.8.3"
  }
 },
 "nbformat": 4,
 "nbformat_minor": 4
}
